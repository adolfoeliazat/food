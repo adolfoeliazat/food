{
 "cells": [
  {
   "cell_type": "markdown",
   "metadata": {},
   "source": [
    "## Food item modeling\n",
    "The Branded food items are not labeled or categorized but have an ingredients list provided by the manufacturer.  The ingredients in a food label is an ordered listed in *decreasing order by weight*.  \n",
    "* For a simple categorization method, observe how item similarities change as the number of elements (ingredients) are successively increased\n",
    "E.g. use the first 5 items to calculate cosine similarity for each food item, then cluster.  "
   ]
  },
  {
   "cell_type": "code",
   "execution_count": 1,
   "metadata": {
    "ExecuteTime": {
     "end_time": "2017-05-19T19:39:45.848313",
     "start_time": "2017-05-19T12:39:44.905675-07:00"
    },
    "collapsed": true
   },
   "outputs": [],
   "source": [
    "%matplotlib inline"
   ]
  },
  {
   "cell_type": "code",
   "execution_count": 2,
   "metadata": {
    "ExecuteTime": {
     "end_time": "2017-05-19T19:39:46.870018",
     "start_time": "2017-05-19T12:39:45.850544-07:00"
    },
    "collapsed": false
   },
   "outputs": [],
   "source": [
    "from sklearn.feature_extraction.text import CountVectorizer\n",
    "from sklearn.feature_extraction.text import TfidfVectorizer, TfidfTransformer\n",
    "from sklearn.decomposition import NMF, LatentDirichletAllocation\n",
    "import re\n",
    "import string\n",
    "import pickle\n",
    "import matplotlib.pyplot as plt\n",
    "import collections\n",
    "import numpy as np\n",
    "import pandas as pd\n",
    "from sklearn.metrics.pairwise import cosine_similarity"
   ]
  },
  {
   "cell_type": "code",
   "execution_count": 3,
   "metadata": {
    "ExecuteTime": {
     "end_time": "2017-05-19T19:39:50.786488",
     "start_time": "2017-05-19T12:39:46.874094-07:00"
    },
    "collapsed": true
   },
   "outputs": [],
   "source": [
    "# Retrieve pickled standard reference food items (175228 total)\n",
    "with open(\"../../../food_data/br_food_items_list\",\"r\") as f: \n",
    "    food_items = pickle.load(f)"
   ]
  },
  {
   "cell_type": "code",
   "execution_count": 4,
   "metadata": {
    "ExecuteTime": {
     "end_time": "2017-05-19T19:39:50.861422",
     "start_time": "2017-05-19T12:39:50.789261-07:00"
    },
    "collapsed": false,
    "scrolled": true
   },
   "outputs": [
    {
     "data": {
      "text/plain": [
       "[(u'45001524',\n",
       "  u'MOCHI ICE CREAM BONBONS, UPC: 019022128593',\n",
       "  u'ICE CREAM INGREDIENTS: MILK, CREAM, SUGAR, STRAWBERRIES (STRAWBERRIES, SUGAR), CORN SYRUP SOLIDS, SKIM MILK, WHEY, NATURAL FLAVOR, GUAR GUM, MONO & DIGLYCERIDES, BEET JUICE AND BEET POWDER (FOR COLOR), CELLULOSE GUM, LOCUST BEAN GUM, CARRAGEENAN. COATING INGREDIENTS: SUGAR, WATER, RICE FLOUR, TREHALOSE, EGG WHITES, BEET JUICE AND BEET POWDER (FOR COLOR), DUSTED WITH CORN & POTATO STARCH'),\n",
       " (u'45001528',\n",
       "  u'CHIPOTLE BARBECUE SAUCE, UPC: 5051379043735',\n",
       "  u'WATER, SUGAR, TOMATO PASTE, MOLASSES, DISTILLED VINEGAR, CONTAINS 2% OR LESS OF: CORN STARCH, SALT, DRIED CHIPOTLE PEPPER, NATURAL SMOKE FLAVOR, MUSTARD FLOUR, DRIED GARLIC, DRIED ONION, SPICES.'),\n",
       " (u'45001529',\n",
       "  u'BARBECUE SAUCE, UPC: 5051379009434',\n",
       "  u'SUGAR, WATER, DISTILLED VINEGAR, TOMATO PASTE, MOLASSES MODIFIED CORN STARCH, SALT, PINEAPPLE JUICE CONCENTRATE, CONTAINS 1% OR LESS OF: JALAPENO PEPPERS, SPICE, CARAMEL COLOR, NATURAL FLAVOR, XANTHAN GUM, GARLIC POWDER, TAMARIND EXTRACT.'),\n",
       " (u'45001530',\n",
       "  u'WHISKEY BARBECUE SAUCE, UPC: 5051379019969',\n",
       "  u'TOMATO PUREE(WATER, TOMATO PASTE), SUGAR, DISTILLED VINEGAR, MOLASSES, WATER, MODIFIED CORN STARCH, SALT, BOURBON WHISKEY, CONTAINS 1% OR LESS OF MUSTARD FLOUR, SPICE, DRIED ONION, DRIED GARLIC, NATURAL FLAVOR, XANTHAN GUM, CARAMEL COLOR.'),\n",
       " (u'45001531',\n",
       "  u'BARBECUE SAUCE, UPC: 5051379009526',\n",
       "  u'SUGAR, DISTILLED VINEGAR, WATER, TOMATO PASTE, HONEY, MOLASSES, MODIFIED CORN STARCH, SALT, CONTAINS 1% OR LESS OF: NATURAL FLAVOR, PINEAPPLE JUICE CONCENTRATE, SPICE, CARAMEL COLOR, XANTHAN GUM, GARLIC POWDER, TAMARIND EXTRACT')]"
      ]
     },
     "execution_count": 4,
     "metadata": {},
     "output_type": "execute_result"
    }
   ],
   "source": [
    "# Food item IDs, names, and their ingredients\n",
    "food_items[:5]"
   ]
  },
  {
   "cell_type": "code",
   "execution_count": 5,
   "metadata": {
    "ExecuteTime": {
     "end_time": "2017-05-19T19:39:50.951833",
     "start_time": "2017-05-19T12:39:50.865966-07:00"
    },
    "collapsed": true
   },
   "outputs": [],
   "source": [
    "# isolate the ingredients list from food_items\n",
    "ingredients_list = [a[2] for a in food_items]"
   ]
  },
  {
   "cell_type": "markdown",
   "metadata": {},
   "source": [
    "## Parsing individual ingredients from `ingredients_list`"
   ]
  },
  {
   "cell_type": "code",
   "execution_count": 6,
   "metadata": {
    "ExecuteTime": {
     "end_time": "2017-05-19T19:39:51.399504",
     "start_time": "2017-05-19T12:39:50.956211-07:00"
    },
    "collapsed": false
   },
   "outputs": [
    {
     "name": "stdout",
     "output_type": "stream",
     "text": [
      "count of all first terms: 175228\n",
      "count of unique terms: 28208\n",
      "ratio: 0.160978838998\n"
     ]
    }
   ],
   "source": [
    "# Obtain the first ingredient of each food item.\n",
    "# First pass: Split on commas and evaluate\n",
    "# Without stemming or further processing, this reduces the list to .16 of origina\n",
    "first_ingredient = [a.split(',')[0] for a in ingredients_list]\n",
    "\n",
    "print \"count of all first terms:\", len(first_ingredient)\n",
    "print \"count of unique terms:\", len(set(first_ingredient))\n",
    "print \"ratio: {}\".format(1.*len(set(first_ingredient))/len(first_ingredient))"
   ]
  },
  {
   "cell_type": "code",
   "execution_count": 7,
   "metadata": {
    "ExecuteTime": {
     "end_time": "2017-05-19T19:39:51.587301",
     "start_time": "2017-05-19T12:39:51.402589-07:00"
    },
    "collapsed": false
   },
   "outputs": [
    {
     "data": {
      "text/plain": [
       "[u'ORGANIC ENRICHED PETITE PASTA SHELLS [ORGANIC DURUM WHEAT SEMOLINA FLOUR (NIACIN',\n",
       " u'MADE WITH ROASTED PEANUTS AND SUGAR. CONTAINS 2% OR LESS OF MOLASSES',\n",
       " u'ORGANIC CULTURED PASTEURIZED REDUCED FAT MILK. LIVE ACTIVE CULTURES: L. ACIDOPHILUS',\n",
       " u'PASTEURIZED AND CULTURED ORGANIC SOYMILK (FILTERED WATER AND GROUND ORGANIC SOYBEANS)',\n",
       " u'CULTURED PASTEURIZED GRADE A LOWFAT MILK AND NONFAT MILK SOLIDS. CONTAINS ACTIVE YOGURT CULTURES.',\n",
       " u'TURBINADO SUGAR; WHOLE WHEAT PASTRY FLOUR; COCOA; MILLED FLAX SEED; SALT.',\n",
       " u'CANE SUGAR*; **COCOA*; CHOCOLATE*; CINNAMON*; CAYENNE PEPPER*; MILK*(LESS THAN0. 1%). *ORGANIC',\n",
       " u'IDAHO POTATOES* WITH EMULSIFIER (MONO & DIGLYCERIDES) AND PRESERVATIVES (SODIUM ACID PYROPHOSPHATE',\n",
       " u'RAVIOLI INGREDIENTS: ENRICHED EXTRA FANCY DURUM FLOUR AND SEMOLINA (DURUM WHEAT FLOUR',\n",
       " u'CASSIA ACUTIFOLIA DELILE (SENNA LEAF); FOLIUM SENNAE; TINNEVELLY SENNA; CASSIA ANGUSTIFOLIA VAHL.']"
      ]
     },
     "execution_count": 7,
     "metadata": {},
     "output_type": "execute_result"
    }
   ],
   "source": [
    "# It is observed that there are many ingredients lists are not separated by commas: \n",
    "# periods, hyphens, semicolons, forward slashes, or no punctuation at all (spaces) are used\n",
    "# There are also ingredients lists split into sub-components, either enclosed \n",
    "# in parentheses or following a semicolon.  \n",
    "# View some samples: \n",
    "[a for a in first_ingredient if len(a.split()) > 10][:10]"
   ]
  },
  {
   "cell_type": "code",
   "execution_count": 8,
   "metadata": {
    "ExecuteTime": {
     "end_time": "2017-05-19T19:39:53.476037",
     "start_time": "2017-05-19T12:39:51.591068-07:00"
    },
    "collapsed": false,
    "scrolled": true
   },
   "outputs": [
    {
     "data": {
      "text/plain": [
       "[(u',', 1767190),\n",
       " (u'(', 237166),\n",
       " (u')', 219593),\n",
       " (u'.', 149518),\n",
       " (u':', 42010),\n",
       " (u'[', 36531),\n",
       " (u'%', 35382),\n",
       " (u']', 33167),\n",
       " (u'*', 31914),\n",
       " (u'-', 25488),\n",
       " (u'&', 17422),\n",
       " (u'/', 16643),\n",
       " (u'#', 9427),\n",
       " (u';', 4690),\n",
       " (u\"'\", 4684),\n",
       " (u'{', 3074),\n",
       " (u'}', 2786),\n",
       " (u'+', 1364),\n",
       " (u'\"', 419),\n",
       " (u'_', 207),\n",
       " (u'>', 184),\n",
       " (u'!', 169),\n",
       " (u'<', 150),\n",
       " (u'?', 55),\n",
       " (u'=', 20),\n",
       " (u'|', 11),\n",
       " (u'\\\\', 7),\n",
       " (u'$', 6),\n",
       " (u'@', 5),\n",
       " (u'`', 2)]"
      ]
     },
     "execution_count": 8,
     "metadata": {},
     "output_type": "execute_result"
    }
   ],
   "source": [
    "# Get count of all punctuations in ingredients list\n",
    "all_punctuation_counter = collections.Counter(re.findall(r'[!\"#$%&\\\\\\'()*+,-./:;<=>?@\\[\\]^_`{|}~\\']', \n",
    "                                                         \" \".join(ingredients_list)))\n",
    "all_punctuation_counter.most_common()"
   ]
  },
  {
   "cell_type": "code",
   "execution_count": 9,
   "metadata": {
    "ExecuteTime": {
     "end_time": "2017-05-19T19:39:57.958321",
     "start_time": "2017-05-19T12:39:53.478763-07:00"
    },
    "collapsed": false
   },
   "outputs": [],
   "source": [
    "# Frequency of punctuation occurrences for each ingredient list.  \n",
    "punctuation_counter = []\n",
    "for a in ingredients_list: \n",
    "    punctuation_counter.append(collections.Counter(re.findall(r'[!\"#$%&\\\\\\\\\\'()*+,-./:;<=>?@\\[\\]^_`{|}~\\']',a)).most_common())"
   ]
  },
  {
   "cell_type": "code",
   "execution_count": 10,
   "metadata": {
    "ExecuteTime": {
     "end_time": "2017-05-19T19:39:58.129634",
     "start_time": "2017-05-19T12:39:57.960606-07:00"
    },
    "collapsed": false,
    "scrolled": false
   },
   "outputs": [
    {
     "data": {
      "text/plain": [
       "[(u',', 156262),\n",
       " (u'.', 8999),\n",
       " (u')', 1979),\n",
       " (u'%', 1297),\n",
       " (u'*', 1250),\n",
       " (u':', 445),\n",
       " (u'-', 372),\n",
       " (u';', 329),\n",
       " (u'/', 91),\n",
       " (u'+', 55),\n",
       " (u'&', 46),\n",
       " (u'(', 35),\n",
       " (u'#', 33),\n",
       " (u'\"', 22),\n",
       " (u\"'\", 17),\n",
       " (u'!', 16),\n",
       " (u'[', 6),\n",
       " (u']', 1),\n",
       " (u'}', 1),\n",
       " (u'|', 1)]"
      ]
     },
     "execution_count": 10,
     "metadata": {},
     "output_type": "execute_result"
    }
   ],
   "source": [
    "# Frequency of most frequent punctuation per food item \n",
    "#  (punctuations with highest frequency in list is most likely the separator). \n",
    "collections.Counter([a[0][0] for a in punctuation_counter if len(a)!=0]).most_common()"
   ]
  },
  {
   "cell_type": "code",
   "execution_count": 11,
   "metadata": {
    "ExecuteTime": {
     "end_time": "2017-05-19T19:39:58.220347",
     "start_time": "2017-05-19T12:39:58.132042-07:00"
    },
    "collapsed": false
   },
   "outputs": [
    {
     "data": {
      "text/plain": [
       "u'ICE CREAM INGREDIENTS: MILK, CREAM, SUGAR, STRAWBERRIES (STRAWBERRIES, SUGAR), CORN SYRUP SOLIDS, SKIM MILK, WHEY, NATURAL FLAVOR, GUAR GUM, MONO & DIGLYCERIDES, BEET JUICE AND BEET POWDER (FOR COLOR), CELLULOSE GUM, LOCUST BEAN GUM, CARRAGEENAN. COATING INGREDIENTS: SUGAR, WATER, RICE FLOUR, TREHALOSE, EGG WHITES, BEET JUICE AND BEET POWDER (FOR COLOR), DUSTED WITH CORN & POTATO STARCH'"
      ]
     },
     "execution_count": 11,
     "metadata": {},
     "output_type": "execute_result"
    }
   ],
   "source": [
    "ingredients_list[0]"
   ]
  },
  {
   "cell_type": "code",
   "execution_count": 12,
   "metadata": {
    "ExecuteTime": {
     "end_time": "2017-05-19T19:39:58.537345",
     "start_time": "2017-05-19T12:39:58.223474-07:00"
    },
    "collapsed": true
   },
   "outputs": [],
   "source": [
    "re.split?"
   ]
  },
  {
   "cell_type": "code",
   "execution_count": 13,
   "metadata": {
    "ExecuteTime": {
     "end_time": "2017-05-19T19:40:02.743363",
     "start_time": "2017-05-19T12:39:58.550283-07:00"
    },
    "collapsed": false,
    "scrolled": true
   },
   "outputs": [],
   "source": [
    "# Use regular expressions to split ingredients_list by all relevant separators\n",
    "pattern = re.compile(r'[.,;]|/| - |\\*')\n",
    "list1 = [re.split(pattern, a.lower()) for a in ingredients_list]"
   ]
  },
  {
   "cell_type": "code",
   "execution_count": 14,
   "metadata": {
    "ExecuteTime": {
     "end_time": "2017-05-19T19:40:02.888371",
     "start_time": "2017-05-19T12:40:02.756154-07:00"
    },
    "collapsed": false,
    "scrolled": false
   },
   "outputs": [
    {
     "data": {
      "text/plain": [
       "[[u'ice cream ingredients: milk',\n",
       "  u' cream',\n",
       "  u' sugar',\n",
       "  u' strawberries (strawberries',\n",
       "  u' sugar)',\n",
       "  u' corn syrup solids',\n",
       "  u' skim milk',\n",
       "  u' whey',\n",
       "  u' natural flavor',\n",
       "  u' guar gum',\n",
       "  u' mono & diglycerides',\n",
       "  u' beet juice and beet powder (for color)',\n",
       "  u' cellulose gum',\n",
       "  u' locust bean gum',\n",
       "  u' carrageenan',\n",
       "  u' coating ingredients: sugar',\n",
       "  u' water',\n",
       "  u' rice flour',\n",
       "  u' trehalose',\n",
       "  u' egg whites',\n",
       "  u' beet juice and beet powder (for color)',\n",
       "  u' dusted with corn & potato starch'],\n",
       " [u'water',\n",
       "  u' sugar',\n",
       "  u' tomato paste',\n",
       "  u' molasses',\n",
       "  u' distilled vinegar',\n",
       "  u' contains 2% or less of: corn starch',\n",
       "  u' salt',\n",
       "  u' dried chipotle pepper',\n",
       "  u' natural smoke flavor',\n",
       "  u' mustard flour',\n",
       "  u' dried garlic',\n",
       "  u' dried onion',\n",
       "  u' spices',\n",
       "  u''],\n",
       " [u'sugar',\n",
       "  u' water',\n",
       "  u' distilled vinegar',\n",
       "  u' tomato paste',\n",
       "  u' molasses modified corn starch',\n",
       "  u' salt',\n",
       "  u' pineapple juice concentrate',\n",
       "  u' contains 1% or less of: jalapeno peppers',\n",
       "  u' spice',\n",
       "  u' caramel color',\n",
       "  u' natural flavor',\n",
       "  u' xanthan gum',\n",
       "  u' garlic powder',\n",
       "  u' tamarind extract',\n",
       "  u''],\n",
       " [u'tomato puree(water',\n",
       "  u' tomato paste)',\n",
       "  u' sugar',\n",
       "  u' distilled vinegar',\n",
       "  u' molasses',\n",
       "  u' water',\n",
       "  u' modified corn starch',\n",
       "  u' salt',\n",
       "  u' bourbon whiskey',\n",
       "  u' contains 1% or less of mustard flour',\n",
       "  u' spice',\n",
       "  u' dried onion',\n",
       "  u' dried garlic',\n",
       "  u' natural flavor',\n",
       "  u' xanthan gum',\n",
       "  u' caramel color',\n",
       "  u''],\n",
       " [u'sugar',\n",
       "  u' distilled vinegar',\n",
       "  u' water',\n",
       "  u' tomato paste',\n",
       "  u' honey',\n",
       "  u' molasses',\n",
       "  u' modified corn starch',\n",
       "  u' salt',\n",
       "  u' contains 1% or less of: natural flavor',\n",
       "  u' pineapple juice concentrate',\n",
       "  u' spice',\n",
       "  u' caramel color',\n",
       "  u' xanthan gum',\n",
       "  u' garlic powder',\n",
       "  u' tamarind extract']]"
      ]
     },
     "execution_count": 14,
     "metadata": {},
     "output_type": "execute_result"
    }
   ],
   "source": [
    "list1[:5]"
   ]
  },
  {
   "cell_type": "code",
   "execution_count": 15,
   "metadata": {
    "ExecuteTime": {
     "end_time": "2017-05-19T19:40:03.474871",
     "start_time": "2017-05-19T12:40:02.903065-07:00"
    },
    "collapsed": false
   },
   "outputs": [
    {
     "name": "stdout",
     "output_type": "stream",
     "text": [
      "count of all first terms: 175228\n",
      "count of unique terms: 25064\n",
      "ratio: 0.143036501016\n"
     ]
    }
   ],
   "source": [
    "# Splitting with relevant separators improves consolidation (again, without \n",
    "# additional preprocessing/tokenization): \n",
    "first_list1 = [a[0] for a in list1]\n",
    "print \"count of all first terms:\", len(first_list1)\n",
    "print \"count of unique terms:\", len(set(first_list1))\n",
    "print \"ratio: {}\".format(1.*len(set(first_list1))/len(first_list1))"
   ]
  },
  {
   "cell_type": "code",
   "execution_count": 16,
   "metadata": {
    "ExecuteTime": {
     "end_time": "2017-05-19T19:40:04.575655",
     "start_time": "2017-05-19T12:40:03.477250-07:00"
    },
    "collapsed": false
   },
   "outputs": [
    {
     "data": {
      "image/png": "[encoded data removed]",
      "text/plain": [
       "<matplotlib.figure.Figure at 0x1184d0410>"
      ]
     },
     "metadata": {},
     "output_type": "display_data"
    }
   ],
   "source": [
    "# Observe how many words are in the first ingredient: \n",
    "num_words_first = [len(a.split()) for a in first_list1]\n",
    "counter_first_list1 = collections.Counter(num_words_first)\n",
    "\n",
    "plt.bar(list(counter_first_list1.keys()), counter_first_list1.values()) \n",
    "plt.xlabel(\"Number of words in first ingredient\")\n",
    "plt.show()"
   ]
  },
  {
   "cell_type": "markdown",
   "metadata": {},
   "source": [
    "This shows that, even if length of ingredient names are limited to three words or less, there are still ~120000 food items that is parsed into a valid ingredients (based on this criterion).  "
   ]
  },
  {
   "cell_type": "code",
   "execution_count": 17,
   "metadata": {
    "ExecuteTime": {
     "end_time": "2017-05-19T19:40:06.184034",
     "start_time": "2017-05-19T12:40:04.588405-07:00"
    },
    "collapsed": false
   },
   "outputs": [
    {
     "name": "stdout",
     "output_type": "stream",
     "text": [
      "\n",
      "number of words: 0, index: 148 \n",
      "\n",
      "\n",
      "number of words: 1, index: 1 \n",
      "water\n",
      "\n",
      "number of words: 2, index: 3 \n",
      "tomato puree(water\n",
      "\n",
      "number of words: 3, index: 9 \n",
      "organic grain vinegar\n",
      "\n",
      "number of words: 4, index: 0 \n",
      "ice cream ingredients: milk\n",
      "\n",
      "number of words: 5, index: 27 \n",
      "prepared dark red kidney beans\n",
      "\n",
      "number of words: 6, index: 106 \n",
      "parmesan cheese (pasteurized part-skim cow's milk\n",
      "\n",
      "number of words: 7, index: 157 \n",
      "enriched macaroni (durum and enriched wheat flour\n",
      "\n",
      "number of words: 8, index: 334 \n",
      "blueberries & oats  unbleached wheat flour ( flour\n",
      "\n",
      "number of words: 9, index: 846 \n",
      "enriched macaroni product (durum and wheat flour with niacin\n",
      "\n",
      "number of words: 10, index: 900 \n",
      "cultured pasteurized grade a lowfat milk and nonfat milk solids\n",
      "\n",
      "number of words: 11, index: 159 \n",
      "organic enriched petite pasta shells [organic durum wheat semolina flour (niacin\n",
      "\n",
      "number of words: 12, index: 1148 \n",
      "ravioli ingredients: enriched extra fancy durum flour and semolina (durum wheat flour\n",
      "\n",
      "number of words: 13, index: 2425 \n",
      "vanilla with other natural flavors nonfat yogurt (cultured grade a non fat milk\n",
      "\n",
      "number of words: 14, index: 1224 \n",
      "choice potatoes cooked in vegetable oil (contains one or more of the following: corn\n",
      "\n",
      "number of words: 15, index: 5813 \n",
      "ingredient: choice potatoes cooked in vegetable oil (contains one or more of the following: corn\n",
      "\n",
      "number of words: 16, index: 3566 \n",
      "ingredients- pinenuts pinenuts or pignolias are used in pastas and salads to add a richer flavor\n",
      "\n",
      "number of words: 17, index: 5809 \n",
      "california seedless raisins raisins are mechanically stemmed and may contain an occasional grape steam or wood piece\n",
      "\n",
      "number of words: 18, index: 46798 \n",
      "tomatoes crushed tomatoes concentrated crushed tomatoes water sugar salt basil olive oil garlic pepper carrots onion powder parsley\n",
      "\n",
      "number of words: 19, index: 47922 \n",
      "organic spring mix (may contain some or all of the following organic baby whole leaf varieties: organic green leaf\n",
      "\n",
      "number of words: 20, index: 48817 \n",
      "cooked applewood smoked uncured bacon no nitrate or nitrites added except for those naturally occurring in celery powder (pork bellies\n",
      "\n",
      "number of words: 21, index: 81610 \n",
      "joe's chips: small batches of select fresh potatoes perfectly cooked in vegetable oil (contains one or more of the following: sunflower\n",
      "\n",
      "number of words: 22, index: 8672 \n",
      "grilled seasoned chicken breast with rib meat & vegetable blend: grilled seasoned chicken breast with rib meat (chicken breast with rib meat\n",
      "\n",
      "number of words: 23, index: 136137 \n",
      "gluten-free oats apples honey whey protein concentrate orange juice dry milk almonds dried apples sunflower oil cinnamon almond extract ascorbic acid (vitamin c)\n",
      "\n",
      "number of words: 24, index: 48298 \n",
      "uncured turkey hot dogs (no nitrates or nitrites added except as naturally occurring in sea salt) [turkey raised without added antibiotics or growth hormones\n",
      "\n",
      "number of words: 25, index: 131579 \n",
      "boneless skinless chicken breast contains up to a 10% solution (lemon juice from concentrate (water concentrated lemon juice) and less than 2% of sodium benzoate\n",
      "\n",
      "number of words: 28, index: 93262 \n",
      "milk chocolate (sugar cocoa butter milk chocolate liquor soy lecithin [an emulsifier] and vanilla) raisins gum arabic corn syrup sugar and certified confectioners glaze (food grade lac resin)\n",
      "\n",
      "number of words: 29, index: 98245 \n",
      "corn syrup sugar gelatin lactic acid citric acid sorbitol natural & artificial flavors fumaric acid titanium dioxide fd&c yellow no 5 & 6 blue no 1 red no 40\n",
      "\n",
      "number of words: 30, index: 34182 \n",
      "ingredients: sugar corn syrup solids cocoa (processed with alkali) modified whey partially hydrogenated vegetable oil (may contain coconut soybean sunflower palm and or canola ) mini marshmallows (sugar corn syrup\n",
      "\n",
      "number of words: 31, index: 93563 \n",
      "cane sugar unbleached enriched wheat flour wheat flour niacin reduced iron thiamine mononitrate riboflavin folic acid palm oil milk powder cocoa powder dextrose soy lecithin salt caramel coffee powder vanilla extract\n"
     ]
    }
   ],
   "source": [
    "# Observe sample of terms of various lengths in the first ingredient\n",
    "for a in counter_first_list1.keys(): \n",
    "    index = [k for k,v in enumerate(num_words_first) if v ==a][0]\n",
    "    print \"\\nnumber of words: {}, index: {} \\n{}\".format(a, index, first_list1[index])"
   ]
  },
  {
   "cell_type": "markdown",
   "metadata": {},
   "source": [
    "- Based on the above observation, some lengthy ingredients are due to lists with no punctuation.  These exceptions are difficult to resolve without a more intensive processes.  \n",
    "- Ingredient items that include more detailed punctuation-separated ingredients enclosed parentheses/brackets will be cut off after the first detailed ingredient.  This is an ok compromise as it captures at least the main ingredient.  \n",
    "\n",
    "It is apparent that an exhaustive parsing of ingredients would be a time-consuming task to be done as necessary in future iterations.  \n",
    "\n",
    "---"
   ]
  },
  {
   "cell_type": "markdown",
   "metadata": {},
   "source": [
    "## `Use CountVectorizer` to create document term matrix"
   ]
  },
  {
   "cell_type": "code",
   "execution_count": 18,
   "metadata": {
    "ExecuteTime": {
     "end_time": "2017-05-19T19:40:06.277697",
     "start_time": "2017-05-19T12:40:06.191161-07:00"
    },
    "collapsed": true
   },
   "outputs": [],
   "source": [
    "# Words to remove: ['ingredients', 'ingredient', ...] -- include in stop_words\n",
    "from sklearn.feature_extraction import text \n",
    "stop_words = text.ENGLISH_STOP_WORDS.union('ingredients','ingredient')"
   ]
  },
  {
   "cell_type": "code",
   "execution_count": 19,
   "metadata": {
    "ExecuteTime": {
     "end_time": "2017-05-19T19:40:06.446484",
     "start_time": "2017-05-19T12:40:06.304722-07:00"
    },
    "collapsed": true
   },
   "outputs": [],
   "source": [
    "# Create vectorizer \n",
    "cvectorizer = CountVectorizer(min_df=5, strip_accents=\"ascii\", stop_words='english')"
   ]
  },
  {
   "cell_type": "code",
   "execution_count": 20,
   "metadata": {
    "ExecuteTime": {
     "end_time": "2017-05-19T19:40:15.731676",
     "start_time": "2017-05-19T12:40:06.460264-07:00"
    },
    "collapsed": false
   },
   "outputs": [],
   "source": [
    "# dtm for entire corpus\n",
    "dtm = cvectorizer.fit_transform([\" \".join(a) for a in list1])"
   ]
  },
  {
   "cell_type": "code",
   "execution_count": 21,
   "metadata": {
    "ExecuteTime": {
     "end_time": "2017-05-19T19:40:15.775508",
     "start_time": "2017-05-19T12:40:15.734150-07:00"
    },
    "collapsed": false
   },
   "outputs": [
    {
     "data": {
      "text/plain": [
       "(175228, 4994)"
      ]
     },
     "execution_count": 21,
     "metadata": {},
     "output_type": "execute_result"
    }
   ],
   "source": [
    "dtm.shape"
   ]
  },
  {
   "cell_type": "code",
   "execution_count": 22,
   "metadata": {
    "ExecuteTime": {
     "end_time": "2017-05-19T19:40:15.834719",
     "start_time": "2017-05-19T12:40:15.778344-07:00"
    },
    "collapsed": false,
    "scrolled": true
   },
   "outputs": [
    {
     "data": {
      "text/plain": [
       "[(u'vani', 4774),\n",
       " (u'bromelain', 682),\n",
       " (u'tapioc', 4511),\n",
       " (u'albumen', 213),\n",
       " (u'propane', 3665),\n",
       " (u'pigment', 3477),\n",
       " (u'hydrolyzate', 2349),\n",
       " (u'caramels', 807),\n",
       " (u'probiotic', 3649),\n",
       " (u'wholemeal', 4906)]"
      ]
     },
     "execution_count": 22,
     "metadata": {},
     "output_type": "execute_result"
    }
   ],
   "source": [
    "cvectorizer.vocabulary_.items()[:10]"
   ]
  },
  {
   "cell_type": "code",
   "execution_count": 23,
   "metadata": {
    "ExecuteTime": {
     "end_time": "2017-05-19T19:40:15.907123",
     "start_time": "2017-05-19T12:40:15.837014-07:00"
    },
    "collapsed": false
   },
   "outputs": [
    {
     "data": {
      "text/plain": [
       "matrix([[  27,   11,   25, ..., 2276,    6,  413]])"
      ]
     },
     "execution_count": 23,
     "metadata": {},
     "output_type": "execute_result"
    }
   ],
   "source": [
    "# sums up the term frequencies for all tokens\n",
    "dtm.sum(axis=0)"
   ]
  },
  {
   "cell_type": "markdown",
   "metadata": {},
   "source": [
    "Order branded food items according to the amount of common ingredients they have. "
   ]
  },
  {
   "cell_type": "code",
   "execution_count": 24,
   "metadata": {
    "ExecuteTime": {
     "end_time": "2017-05-19T19:40:16.116923",
     "start_time": "2017-05-19T12:40:15.910730-07:00"
    },
    "collapsed": false
   },
   "outputs": [
    {
     "data": {
      "text/plain": [
       "[(u'salt', 137344),\n",
       " (u'sugar', 108814),\n",
       " (u'oil', 99586),\n",
       " (u'acid', 98236),\n",
       " (u'water', 93660),\n",
       " (u'flour', 82941),\n",
       " (u'organic', 77295),\n",
       " (u'corn', 77257),\n",
       " (u'milk', 70270),\n",
       " (u'natural', 66932),\n",
       " (u'wheat', 60386),\n",
       " (u'sodium', 55564),\n",
       " (u'syrup', 50414),\n",
       " (u'flavor', 47558),\n",
       " (u'powder', 41026),\n",
       " (u'starch', 39584),\n",
       " (u'citric', 39528),\n",
       " (u'soy', 38292),\n",
       " (u'gum', 36073),\n",
       " (u'vitamin', 35304),\n",
       " (u'juice', 33849),\n",
       " (u'color', 32214),\n",
       " (u'contains', 31372),\n",
       " (u'garlic', 30284),\n",
       " (u'soybean', 29961),\n",
       " (u'artificial', 29441),\n",
       " (u'cheese', 29191),\n",
       " (u'red', 26492),\n",
       " (u'vinegar', 25046),\n",
       " (u'riboflavin', 24916),\n",
       " (u'lecithin', 24721),\n",
       " (u'flavors', 24636),\n",
       " (u'folic', 24472),\n",
       " (u'palm', 24218),\n",
       " (u'concentrate', 24162),\n",
       " (u'modified', 23859),\n",
       " (u'niacin', 23818),\n",
       " (u'mononitrate', 23805),\n",
       " (u'iron', 23379),\n",
       " (u'extract', 22937),\n",
       " (u'cocoa', 22907),\n",
       " (u'butter', 21980),\n",
       " (u'vegetable', 21930),\n",
       " (u'enriched', 21591),\n",
       " (u'calcium', 21447),\n",
       " (u'onion', 21326),\n",
       " (u'spices', 20609),\n",
       " (u'cream', 20535),\n",
       " (u'potassium', 20333),\n",
       " (u'yellow', 20005),\n",
       " (u'chocolate', 19376),\n",
       " (u'pasteurized', 19074),\n",
       " (u'whey', 18852),\n",
       " (u'yeast', 18614),\n",
       " (u'rice', 18505),\n",
       " (u'canola', 18450),\n",
       " (u'phosphate', 18114),\n",
       " (u'sea', 17749),\n",
       " (u'enzymes', 17429),\n",
       " (u'reduced', 17404),\n",
       " (u'tomato', 16626),\n",
       " (u'pepper', 16603),\n",
       " (u'cane', 16305),\n",
       " (u'sunflower', 15955),\n",
       " (u'dextrose', 15766),\n",
       " (u'protein', 15475),\n",
       " (u'fructose', 15239),\n",
       " (u'thiamine', 14790),\n",
       " (u'high', 14295),\n",
       " (u'dried', 13677),\n",
       " (u'maltodextrin', 13478),\n",
       " (u'preservative', 13174),\n",
       " (u'xanthan', 12940),\n",
       " (u'vanilla', 12561),\n",
       " (u'nonfat', 11892),\n",
       " (u'brown', 11753),\n",
       " (u'caramel', 11701),\n",
       " (u'coconut', 11636),\n",
       " (u'chicken', 11368),\n",
       " (u'40', 11307),\n",
       " (u'thiamin', 11232),\n",
       " (u'cultured', 11184),\n",
       " (u'white', 11180),\n",
       " (u'dehydrated', 10655),\n",
       " (u'peppers', 10628),\n",
       " (u'hydrogenated', 10625),\n",
       " (u'disodium', 10578),\n",
       " (u'mono', 10495),\n",
       " (u'lemon', 10492),\n",
       " (u'puree', 10481),\n",
       " (u'paprika', 10413),\n",
       " (u'ascorbic', 10405),\n",
       " (u'barley', 10395),\n",
       " (u'skim', 10374),\n",
       " (u'blue', 10257),\n",
       " (u'food', 10168),\n",
       " (u'following', 9460),\n",
       " (u'diglycerides', 9317),\n",
       " (u'guar', 9305),\n",
       " (u'sorbate', 9287),\n",
       " (u'egg', 9243),\n",
       " (u'cultures', 9139),\n",
       " (u'fat', 8915),\n",
       " (u'benzoate', 8892),\n",
       " (u'tomatoes', 8688),\n",
       " (u'culture', 8626),\n",
       " (u'black', 8536),\n",
       " (u'emulsifier', 8469),\n",
       " (u'green', 8453),\n",
       " (u'added', 8244),\n",
       " (u'honey', 8194),\n",
       " (u'bean', 8189),\n",
       " (u'spice', 8148),\n",
       " (u'paste', 8089),\n",
       " (u'citrate', 8086),\n",
       " (u'sulfate', 8069),\n",
       " (u'sauce', 8025),\n",
       " (u'apple', 8016),\n",
       " (u'chloride', 7882),\n",
       " (u'baking', 7859),\n",
       " (u'lactic', 7732),\n",
       " (u'bleached', 7706),\n",
       " (u'potato', 7702),\n",
       " (u'malted', 7698),\n",
       " (u'onions', 7668),\n",
       " (u'dioxide', 7658),\n",
       " (u'solids', 7618),\n",
       " (u'seeds', 7559),\n",
       " (u'distilled', 7551),\n",
       " (u'beef', 7435),\n",
       " (u'cottonseed', 7318),\n",
       " (u'partially', 7165),\n",
       " (u'eggs', 7158),\n",
       " (u'grain', 7155),\n",
       " (u'olive', 7154),\n",
       " (u'beans', 7111),\n",
       " (u'annatto', 7055),\n",
       " (u'carrageenan', 7055),\n",
       " (u'fd', 6937),\n",
       " (u'freshness', 6936),\n",
       " (u'processed', 6847),\n",
       " (u'almonds', 6690),\n",
       " (u'cellulose', 6615),\n",
       " (u'tapioca', 6609),\n",
       " (u'filtered', 6504),\n",
       " (u'dry', 6480),\n",
       " (u'bicarbonate', 6426),\n",
       " (u'gluten', 6398),\n",
       " (u'alkali', 6380),\n",
       " (u'kernel', 6360),\n",
       " (u'soda', 6352),\n",
       " (u'seed', 6335),\n",
       " (u'flavoring', 6150),\n",
       " (u'peanuts', 6081),\n",
       " (u'roasted', 6059),\n",
       " (u'turmeric', 6050),\n",
       " (u'palmitate', 6041),\n",
       " (u'pectin', 5958),\n",
       " (u'cornstarch', 5875),\n",
       " (u'b1', 5776),\n",
       " (u'molasses', 5761),\n",
       " (u'b2', 5743),\n",
       " (u'liquor', 5716),\n",
       " (u'peanut', 5529),\n",
       " (u'cheddar', 5523),\n",
       " (u'chili', 5490),\n",
       " (u'mustard', 5483),\n",
       " (u'pork', 5422),\n",
       " (u'fruit', 5354),\n",
       " (u'bell', 5174),\n",
       " (u'celery', 5102),\n",
       " (u'non', 5023),\n",
       " (u'ingredients', 5020),\n",
       " (u'potatoes', 5013),\n",
       " (u'ferrous', 4976),\n",
       " (u'leavening', 4846),\n",
       " (u'oats', 4741),\n",
       " (u'sesame', 4714),\n",
       " (u'lake', 4650),\n",
       " (u'blend', 4644),\n",
       " (u'monosodium', 4527),\n",
       " (u'unbleached', 4518),\n",
       " (u'orange', 4509),\n",
       " (u'gelatin', 4483),\n",
       " (u'glutamate', 4454),\n",
       " (u'malic', 4245),\n",
       " (u'buttermilk', 4242),\n",
       " (u'hydrolyzed', 4241),\n",
       " (u'carbonated', 4213),\n",
       " (u'carrots', 4201),\n",
       " (u'sweet', 4200),\n",
       " (u'cinnamon', 4199),\n",
       " (u'locust', 4184),\n",
       " (u'jalapeno', 4154),\n",
       " (u'malt', 4138),\n",
       " (u'pyrophosphate', 4097),\n",
       " (u'parsley', 4014),\n",
       " (u'soybeans', 3985),\n",
       " (u'seasoning', 3973),\n",
       " (u'cooked', 3965),\n",
       " (u'nitrite', 3912),\n",
       " (u'meat', 3804),\n",
       " (u'fresh', 3798),\n",
       " (u'durum', 3792),\n",
       " (u'wine', 3792),\n",
       " (u'lime', 3767),\n",
       " (u'ground', 3754),\n",
       " (u'virgin', 3744),\n",
       " (u'extra', 3736),\n",
       " (u'oat', 3710),\n",
       " (u'fiber', 3698),\n",
       " (u'smoke', 3678),\n",
       " (u'ginger', 3670),\n",
       " (u'pineapple', 3658),\n",
       " (u'carbonate', 3608),\n",
       " (u'polysorbate', 3588),\n",
       " (u'semolina', 3560),\n",
       " (u'hydrochloride', 3487),\n",
       " (u'grape', 3450),\n",
       " (u'titanium', 3419),\n",
       " (u'sucralose', 3400),\n",
       " (u'monocalcium', 3341),\n",
       " (u'shortening', 3335),\n",
       " (u'carrot', 3326),\n",
       " (u'lactate', 3320),\n",
       " (u'colors', 3288),\n",
       " (u'edta', 3281),\n",
       " (u'wax', 3281),\n",
       " (u'protect', 3263),\n",
       " (u'tea', 3241),\n",
       " (u'preservatives', 3234),\n",
       " (u'pure', 3205),\n",
       " (u'glucose', 3199),\n",
       " (u'pressed', 3192),\n",
       " (u'oils', 3180),\n",
       " (u'free', 3172),\n",
       " (u'niacinamide', 3123),\n",
       " (u'preserve', 3116),\n",
       " (u'flavorings', 3105),\n",
       " (u'including', 3082),\n",
       " (u'grade', 3064),\n",
       " (u'erythorbate', 3054),\n",
       " (u'caking', 3047),\n",
       " (u'evaporated', 3007),\n",
       " (u'rolled', 2970),\n",
       " (u'carnauba', 2969),\n",
       " (u'd3', 2964),\n",
       " (u'expeller', 2953),\n",
       " (u'broth', 2882),\n",
       " (u'extractives', 2880),\n",
       " (u'dark', 2859),\n",
       " (u'apples', 2841),\n",
       " (u'cranberries', 2841),\n",
       " (u'raisins', 2804),\n",
       " (u'acesulfame', 2783),\n",
       " (u'basil', 2758),\n",
       " (u'cashews', 2737),\n",
       " (u'arabic', 2736),\n",
       " (u'beta', 2729),\n",
       " (u'carotene', 2725),\n",
       " (u'turkey', 2723),\n",
       " (u'yogurt', 2698),\n",
       " (u'safflower', 2635),\n",
       " (u'inosinate', 2624),\n",
       " (u'silicon', 2594),\n",
       " (u'carob', 2587),\n",
       " (u'parmesan', 2580),\n",
       " (u'powdered', 2574),\n",
       " (u'isolate', 2563),\n",
       " (u'strawberry', 2503),\n",
       " (u'cider', 2501),\n",
       " (u'meal', 2493),\n",
       " (u'bht', 2457),\n",
       " (u'whites', 2445),\n",
       " (u'diced', 2434),\n",
       " (u'b6', 2428),\n",
       " (u'tbhq', 2424),\n",
       " (u'pyridoxine', 2421),\n",
       " (u'propionate', 2414),\n",
       " (u'caseinate', 2413),\n",
       " (u'sorbic', 2382),\n",
       " (u'guanylate', 2354),\n",
       " (u'concentrated', 2350),\n",
       " (u'yolks', 2345),\n",
       " (u'prevent', 2344),\n",
       " (u'80', 2315),\n",
       " (u'bran', 2293),\n",
       " (u'agent', 2288),\n",
       " (u'enzyme', 2286),\n",
       " (u'flakes', 2286),\n",
       " (u'glaze', 2277),\n",
       " (u'zinc', 2276),\n",
       " (u'vanillin', 2263),\n",
       " (u'chips', 2261),\n",
       " (u'lactose', 2257),\n",
       " (u'vitamins', 2253),\n",
       " (u'autolyzed', 2182),\n",
       " (u'spinach', 2177),\n",
       " (u'maintain', 2173),\n",
       " (u'breast', 2167),\n",
       " (u'coating', 2165),\n",
       " (u'milkfat', 2135),\n",
       " (u'oxide', 2114),\n",
       " (u'gmo', 2103),\n",
       " (u'peas', 2090),\n",
       " (u'b12', 2081),\n",
       " (u'diacetate', 2079),\n",
       " (u'stock', 2071),\n",
       " (u'strawberries', 2068),\n",
       " (u'pecans', 2030),\n",
       " (u'100', 2026),\n",
       " (u'base', 1975),\n",
       " (u'aluminum', 1953),\n",
       " (u'raw', 1951),\n",
       " (u'cherries', 1947),\n",
       " (u'invert', 1946),\n",
       " (u'phosphates', 1946),\n",
       " (u'dough', 1944),\n",
       " (u'dextrin', 1929),\n",
       " (u'olives', 1929),\n",
       " (u'glycerin', 1903),\n",
       " (u'pumpkin', 1881),\n",
       " (u'oleoresin', 1879),\n",
       " (u'blueberries', 1871),\n",
       " (u'cilantro', 1871),\n",
       " (u'oregano', 1828),\n",
       " (u'sorbitol', 1815),\n",
       " (u'mango', 1803),\n",
       " (u'minerals', 1794),\n",
       " (u'romano', 1770),\n",
       " (u'magnesium', 1768),\n",
       " (u'unsweetened', 1762),\n",
       " (u'stearoyl', 1750),\n",
       " (u'propylene', 1746),\n",
       " (u'lactylate', 1735),\n",
       " (u'raspberry', 1733),\n",
       " (u'active', 1723),\n",
       " (u'cayenne', 1722),\n",
       " (u'glycol', 1718),\n",
       " (u'aspartame', 1695),\n",
       " (u'acacia', 1692),\n",
       " (u'mozzarella', 1661),\n",
       " (u'cow', 1660),\n",
       " (u'pear', 1636),\n",
       " (u'tocopherols', 1636),\n",
       " (u'rosemary', 1631),\n",
       " (u'flax', 1629),\n",
       " (u'granulated', 1627),\n",
       " (u'soya', 1625),\n",
       " (u'ammonium', 1621),\n",
       " (u'dipotassium', 1615),\n",
       " (u'confectioner', 1612),\n",
       " (u'popcorn', 1612),\n",
       " (u'monoglycerides', 1598),\n",
       " (u'live', 1592),\n",
       " (u'filling', 1589),\n",
       " (u'margarine', 1584),\n",
       " (u'coffee', 1583),\n",
       " (u'ascorbate', 1582),\n",
       " (u'beet', 1580),\n",
       " (u'cumin', 1570),\n",
       " (u'quinoa', 1570),\n",
       " (u'acetate', 1563),\n",
       " (u'phosphoric', 1559),\n",
       " (u'stevia', 1547),\n",
       " (u'contain', 1544),\n",
       " (u'product', 1544),\n",
       " (u'maple', 1511),\n",
       " (u'leaf', 1503),\n",
       " (u'cured', 1457),\n",
       " (u'crushed', 1454),\n",
       " (u'tricalcium', 1446),\n",
       " (u'natamycin', 1444),\n",
       " (u'rennet', 1435),\n",
       " (u'mushrooms', 1429),\n",
       " (u'fumaric', 1424),\n",
       " (u'60', 1416),\n",
       " (u'condensed', 1415),\n",
       " (u'liquid', 1409),\n",
       " (u'flavored', 1399),\n",
       " (u'pasta', 1398),\n",
       " (u'cherry', 1395),\n",
       " (u'low', 1390),\n",
       " (u'banana', 1383),\n",
       " (u'root', 1357),\n",
       " (u'alginate', 1351),\n",
       " (u'blueberry', 1347),\n",
       " (u'mixed', 1344),\n",
       " (u'acidophilus', 1343),\n",
       " (u'nuts', 1336),\n",
       " (u'yolk', 1335),\n",
       " (u'bha', 1334),\n",
       " (u'bread', 1326),\n",
       " (u'shrimp', 1314),\n",
       " (u'vit', 1312),\n",
       " (u'mix', 1311),\n",
       " (u'rye', 1311),\n",
       " (u'walnuts', 1304),\n",
       " (u'starter', 1297),\n",
       " (u'cucumbers', 1294),\n",
       " (u'sour', 1290),\n",
       " (u'cranberry', 1289),\n",
       " (u'prepared', 1269),\n",
       " (u'dairy', 1268),\n",
       " (u'moisture', 1254),\n",
       " (u'peaches', 1250),\n",
       " (u'vegetables', 1248),\n",
       " (u'peel', 1232),\n",
       " (u'thermophilus', 1231),\n",
       " (u'acetic', 1228),\n",
       " (u'sweetened', 1224),\n",
       " (u'bacon', 1213),\n",
       " (u'bulgaricus', 1208),\n",
       " (u'chipotle', 1203),\n",
       " (u'acidity', 1193),\n",
       " (u'oleic', 1185),\n",
       " (u'agave', 1168),\n",
       " (u'alcohol', 1160),\n",
       " (u'mass', 1160),\n",
       " (u'percent', 1154),\n",
       " (u'mechanically', 1147),\n",
       " (u'purified', 1144),\n",
       " (u'cabbage', 1141),\n",
       " (u'mold', 1135),\n",
       " (u'coloring', 1130),\n",
       " (u'retention', 1120),\n",
       " (u'broccoli', 1119),\n",
       " (u'mineral', 1109),\n",
       " (u'tripolyphosphate', 1102),\n",
       " (u'crust', 1100),\n",
       " (u'textured', 1098),\n",
       " (u'chia', 1089),\n",
       " (u'separated', 1080),\n",
       " (u'torula', 1073),\n",
       " (u'inhibitor', 1072),\n",
       " (u'pea', 1066),\n",
       " (u'almond', 1063),\n",
       " (u'pulp', 1061),\n",
       " (u'chile', 1059),\n",
       " (u'caffeine', 1058),\n",
       " (u'sprouted', 1053),\n",
       " (u'datem', 1037),\n",
       " (u'metabisulfite', 1023),\n",
       " (u'stabilizer', 1020),\n",
       " (u'tamarind', 1019),\n",
       " (u'retain', 1010),\n",
       " (u'ferric', 1003),\n",
       " (u'certified', 1001),\n",
       " (u'anti', 997),\n",
       " (u'inulin', 975),\n",
       " (u'juices', 974),\n",
       " (u'rib', 972),\n",
       " (u'gums', 971),\n",
       " (u'cacao', 960),\n",
       " (u'colored', 959),\n",
       " (u'bisulfite', 958),\n",
       " (u'sulfur', 955),\n",
       " (u'kale', 954),\n",
       " (u'ester', 952),\n",
       " (u'promote', 950),\n",
       " (u'kosher', 947),\n",
       " (u'stearate', 947),\n",
       " (u'chicory', 942),\n",
       " (u'peppermint', 939),\n",
       " (u'raspberries', 936),\n",
       " (u'lowfat', 926),\n",
       " (u'sucrose', 920),\n",
       " (u'tartaric', 913),\n",
       " (u'acids', 907),\n",
       " (u'coriander', 898),\n",
       " (u'maltitol', 894),\n",
       " (u'millet', 885),\n",
       " (u'milled', 882),\n",
       " (u'toasted', 882),\n",
       " (u'long', 875),\n",
       " (u'sweetener', 874),\n",
       " (u'naturally', 866),\n",
       " (u'stabilizers', 860),\n",
       " (u'alpha', 859),\n",
       " (u'peach', 856),\n",
       " (u'fish', 851),\n",
       " (u'fatty', 849),\n",
       " (u'b3', 843),\n",
       " (u'light', 843),\n",
       " (u'agar', 837),\n",
       " (u'gel', 837),\n",
       " (u'jack', 831),\n",
       " (u'rapeseed', 829),\n",
       " (u'crumbs', 828),\n",
       " (u'antioxidant', 825),\n",
       " (u'macaroni', 823),\n",
       " (u'bifidus', 819),\n",
       " (u'balsamic', 817),\n",
       " (u'hazelnuts', 808),\n",
       " (u'orthophosphate', 804),\n",
       " (u'casei', 803),\n",
       " (u'baby', 794),\n",
       " (u'worcestershire', 784),\n",
       " (u'conditioner', 779),\n",
       " (u'leaves', 773),\n",
       " (u'vital', 767),\n",
       " (u'tartness', 766),\n",
       " (u'aged', 760),\n",
       " (u'thyme', 759),\n",
       " (u'crisp', 757),\n",
       " (u'dates', 757),\n",
       " (u'glycerine', 752),\n",
       " (u'fair', 750),\n",
       " (u'isolated', 750),\n",
       " (u'pinto', 750),\n",
       " (u'concentrates', 748),\n",
       " (u'pomegranate', 747),\n",
       " (u'trade', 746),\n",
       " (u'horseradish', 743),\n",
       " (u'pieces', 740),\n",
       " (u'nutmeg', 738),\n",
       " (u'gellan', 734),\n",
       " (u'hot', 730),\n",
       " (u'extracts', 725),\n",
       " (u'heavy', 723),\n",
       " (u'mayonnaise', 720),\n",
       " (u'monostearate', 720),\n",
       " (u'includes', 715),\n",
       " (u'tocopherol', 707),\n",
       " (u'lettuce', 706),\n",
       " (u'derivative', 694),\n",
       " (u'tuna', 689),\n",
       " (u'sorbitan', 687),\n",
       " (u'ricotta', 686),\n",
       " (u'italian', 683),\n",
       " (u'habanero', 681),\n",
       " (u'sulfites', 681),\n",
       " (u'emulsifiers', 679),\n",
       " (u'minced', 677),\n",
       " (u'monterey', 675),\n",
       " (u'mushroom', 670),\n",
       " (u'smoked', 663),\n",
       " (u'microbial', 660),\n",
       " (u'chickpeas', 655),\n",
       " (u'flaxseed', 655),\n",
       " (u'10', 651),\n",
       " (u'unsalted', 651),\n",
       " (u'hickory', 650),\n",
       " (u'extractive', 649),\n",
       " (u'semi', 649),\n",
       " (u'brewed', 646),\n",
       " (u'nitrate', 643),\n",
       " (u'cloves', 640),\n",
       " (u'defatted', 640),\n",
       " (u'derived', 637),\n",
       " (u'conditioners', 633),\n",
       " (u'source', 633),\n",
       " (u'pears', 631),\n",
       " (u'gluconate', 626),\n",
       " (u'apricots', 625),\n",
       " (u'glycerol', 623),\n",
       " (u'herbs', 623),\n",
       " (u'soluble', 621),\n",
       " (u'garbanzo', 619),\n",
       " (u'salmon', 619),\n",
       " (u'tahini', 614),\n",
       " (u'fractionated', 609),\n",
       " (u'confectioners', 607),\n",
       " (u'skimmed', 606),\n",
       " (u'salted', 600),\n",
       " (u'used', 597),\n",
       " (u'esters', 595),\n",
       " (u'bananas', 594),\n",
       " (u'dill', 587),\n",
       " (u'nectar', 570),\n",
       " (u'semisweet', 569),\n",
       " (u'quality', 568),\n",
       " (u'd2', 567),\n",
       " (u'iodized', 566),\n",
       " (u'wild', 565),\n",
       " (u'sorghum', 563),\n",
       " (u'amaranth', 558),\n",
       " (u'cookie', 558),\n",
       " (u'dressing', 558),\n",
       " (u'cracked', 552),\n",
       " (u'refined', 547),\n",
       " (u'process', 543),\n",
       " (u'kernels', 540),\n",
       " (u'slat', 532),\n",
       " (u'cake', 531),\n",
       " (u'romaine', 531),\n",
       " (u'seaweed', 531),\n",
       " (u'ice', 530),\n",
       " (u'american', 529),\n",
       " (u'sheep', 529),\n",
       " (u'seasoned', 528),\n",
       " (u'cyanocobalamin', 525),\n",
       " (u'instant', 525),\n",
       " (u'graham', 521),\n",
       " (u'grapefruit', 521),\n",
       " (u'sausage', 518),\n",
       " (u'silicate', 511),\n",
       " (u'raisin', 510),\n",
       " (u'masa', 508),\n",
       " (u'pink', 504),\n",
       " (u'buckwheat', 503),\n",
       " (u'citrus', 503),\n",
       " (u'kidney', 501),\n",
       " (u'squash', 499),\n",
       " (u'lentils', 498),\n",
       " (u'papaya', 497),\n",
       " (u'fermented', 491),\n",
       " (u'chiles', 489),\n",
       " (u'hexametaphosphate', 489),\n",
       " (u'hemp', 488),\n",
       " (u'erythritol', 487),\n",
       " (u'half', 487),\n",
       " (u'ham', 487),\n",
       " (u'greek', 483),\n",
       " (u'anticaking', 480),\n",
       " (u'interesterified', 479),\n",
       " (u'vegan', 477),\n",
       " (u'regulator', 476),\n",
       " (u'crab', 473),\n",
       " (u'crisps', 471),\n",
       " (u'shellac', 471),\n",
       " (u'dicalcium', 470),\n",
       " (u'firming', 467),\n",
       " (u'tamari', 467),\n",
       " (u'beets', 465),\n",
       " (u'cysteine', 463),\n",
       " (u'anchovies', 461),\n",
       " (u'carbon', 460),\n",
       " (u'beeswax', 458),\n",
       " (u'agents', 457),\n",
       " (u'chunks', 457),\n",
       " (u'pantothenate', 456),\n",
       " (u'noodles', 454),\n",
       " (u'fennel', 453),\n",
       " (u'cornmeal', 452),\n",
       " (u'goat', 450),\n",
       " (u'pistachios', 447),\n",
       " (u'parboiled', 446),\n",
       " (u'help', 444),\n",
       " (u'stone', 444),\n",
       " (u'tartar', 442),\n",
       " (u'hearts', 441),\n",
       " (u'topping', 440),\n",
       " (u'poppy', 439),\n",
       " (u'cucumber', 438),\n",
       " (u'animal', 436),\n",
       " (u'cardamom', 432),\n",
       " (u'jalapenos', 430),\n",
       " (u'himalayan', 429),\n",
       " (u'spring', 429),\n",
       " (u'trisodium', 428),\n",
       " (u'carmine', 427),\n",
       " (u'degerminated', 427),\n",
       " (u'germ', 427),\n",
       " (u'propyl', 427),\n",
       " (u'brazil', 426),\n",
       " (u'grass', 426),\n",
       " (u'adipic', 425),\n",
       " (u'preserved', 424),\n",
       " (u'alum', 422),\n",
       " (u'tetrasodium', 422),\n",
       " (u'fudge', 420),\n",
       " (u'bay', 418),\n",
       " (u'cauliflower', 418),\n",
       " (u'fully', 415),\n",
       " (u'freeze', 414),\n",
       " (u'zucchini', 413),\n",
       " (u'cut', 412),\n",
       " (u'pollock', 412),\n",
       " (u'pretzels', 412),\n",
       " (u'polydextrose', 410),\n",
       " (u'imported', 408),\n",
       " (u'anchovy', 406),\n",
       " (u'brominated', 406),\n",
       " (u'golden', 404),\n",
       " (u'casing', 401),\n",
       " (u'pgpr', 399),\n",
       " (u'ripe', 399),\n",
       " (u'grapes', 396),\n",
       " (u'vine', 395),\n",
       " (u'blackberry', 393),\n",
       " (u'anhydrous', 392),\n",
       " (u'di', 389),\n",
       " (u'turbinado', 387),\n",
       " (u'plum', 385),\n",
       " (u'ripened', 385),\n",
       " (u'california', 384),\n",
       " (u'dijon', 383),\n",
       " (u'lactis', 383),\n",
       " (u'lard', 382),\n",
       " (u'flavour', 380),\n",
       " (u'gallate', 380),\n",
       " (u'purple', 380),\n",
       " (u'prevents', 379),\n",
       " (u'hard', 378),\n",
       " (u'chives', 377),\n",
       " (u'blackberries', 375),\n",
       " (u'elderberry', 375),\n",
       " (u'curry', 374),\n",
       " (u'polyglycerol', 371),\n",
       " (u'wood', 370),\n",
       " (u'asiago', 366),\n",
       " (u'mint', 366),\n",
       " (u'sun', 366),\n",
       " (u'chopped', 363),\n",
       " (u'solution', 362),\n",
       " (u'aloe', 360),\n",
       " (u'boneless', 359),\n",
       " (u'trace', 358),\n",
       " (u'bits', 355),\n",
       " (u'coated', 355),\n",
       " (u'cheeses', 354),\n",
       " (u'sulfite', 353),\n",
       " (u'artichoke', 352),\n",
       " (u'chilli', 352),\n",
       " (u'sliced', 352),\n",
       " (u'creamer', 351),\n",
       " (u'degermed', 350),\n",
       " (u'precooked', 350),\n",
       " (u'butterfat', 349),\n",
       " (u'lemongrass', 347),\n",
       " (u'bacterial', 345),\n",
       " (u'candy', 345),\n",
       " (u'aid', 344),\n",
       " (u'skinless', 338),\n",
       " (u'granola', 334),\n",
       " (u'cashew', 333),\n",
       " (u'tocopheryl', 330),\n",
       " (u'glucono', 329),\n",
       " (u'nutrients', 329),\n",
       " (u'delta', 328),\n",
       " (u'lactone', 328),\n",
       " (u'lima', 327),\n",
       " (u'enhancer', 326),\n",
       " (u'spelt', 325),\n",
       " (u'swiss', 324),\n",
       " (u'macadamia', 322),\n",
       " (u'casein', 320),\n",
       " (u'vera', 320),\n",
       " (u'processing', 319),\n",
       " (u'rosin', 317),\n",
       " (u'nut', 316),\n",
       " (u'skin', 316),\n",
       " (u'aluminium', 315),\n",
       " (u'caraway', 314),\n",
       " (u'pitted', 314),\n",
       " (u'berries', 313),\n",
       " (u'swirl', 313),\n",
       " (u'cage', 312),\n",
       " (u'allspice', 310),\n",
       " (u'avocado', 310),\n",
       " (u'treated', 309),\n",
       " (u'berry', 308),\n",
       " (u'capers', 308),\n",
       " (u'chilies', 308),\n",
       " (u'cold', 308),\n",
       " (u'feta', 306),\n",
       " (u'apricot', 305),\n",
       " (u'guava', 304),\n",
       " (u'unbromated', 304),\n",
       " (u'oranges', 302),\n",
       " (u'sulphur', 300),\n",
       " (u'fried', 298),\n",
       " (u'kombucha', 298),\n",
       " (u'icing', 297),\n",
       " (u'medium', 296),\n",
       " (u'cereal', 295),\n",
       " (u'concord', 295),\n",
       " (u'provolone', 295),\n",
       " (u'pimiento', 294),\n",
       " (u'figs', 291),\n",
       " (u'monk', 291),\n",
       " (u'flake', 290),\n",
       " (u'passion', 290),\n",
       " (u'greens', 288),\n",
       " (u'butternut', 287),\n",
       " (u'ginseng', 287),\n",
       " (u'hibiscus', 286),\n",
       " (u'salad', 286),\n",
       " (u'sweeteners', 286),\n",
       " (u'bourbon', 285),\n",
       " (u'premium', 285),\n",
       " (u'tart', 284),\n",
       " (u'clam', 281),\n",
       " (u'sage', 281),\n",
       " (u'confectionery', 280),\n",
       " (u'consist', 279),\n",
       " (u'brand', 278),\n",
       " (u'controls', 277),\n",
       " (u'wasabi', 276),\n",
       " (u'12', 274),\n",
       " (u'tortilla', 274),\n",
       " (u'plant', 273),\n",
       " (u'dl', 271),\n",
       " (u'date', 270),\n",
       " (u'breaded', 268),\n",
       " (u'oyster', 268),\n",
       " (u'cookies', 267),\n",
       " (u'navy', 267),\n",
       " (u'serrano', 267),\n",
       " (u'unrefined', 267),\n",
       " (u'thickener', 266),\n",
       " (u'preparation', 265),\n",
       " (u'sticks', 265),\n",
       " (u'dutch', 264),\n",
       " (u'rendered', 263),\n",
       " (u'collagen', 262),\n",
       " (u'alkalized', 261),\n",
       " (u'grits', 261),\n",
       " (u'sherry', 260),\n",
       " (u'bulgur', 259),\n",
       " (u'lactobacillus', 259),\n",
       " (u'acai', 258),\n",
       " (u'caramelized', 258),\n",
       " (u'methylcellulose', 258),\n",
       " (u'triglycerides', 258),\n",
       " (u'pepperoni', 256),\n",
       " (u'anise', 255),\n",
       " (u'triticale', 255),\n",
       " (u'glyceryl', 253),\n",
       " (u'raising', 252),\n",
       " (u'batter', 251),\n",
       " (u'clove', 249),\n",
       " (u'fenugreek', 249),\n",
       " (u'ketchup', 248),\n",
       " (u'tofu', 245),\n",
       " (u'xylitol', 245),\n",
       " (u'kiwi', 244),\n",
       " (u'almondmilk', 243),\n",
       " (u'30', 242),\n",
       " (u'chard', 242),\n",
       " (u'cracker', 241),\n",
       " (u'peroxide', 241),\n",
       " (u'taurine', 241),\n",
       " (u'tree', 240),\n",
       " (u'tangerine', 238),\n",
       " (u'toffee', 238),\n",
       " (u'reconstituted', 237),\n",
       " (u'bifidobacterium', 236),\n",
       " (u'chick', 236),\n",
       " (u'granules', 236),\n",
       " (u'preserves', 236),\n",
       " (u'monoesters', 235),\n",
       " (u'ethoxylated', 234),\n",
       " (u'spread', 234),\n",
       " (u'azodicarbonamide', 233),\n",
       " (u'licorice', 231),\n",
       " (u'triple', 231),\n",
       " (u'kalamata', 230),\n",
       " (u'probiotic', 230),\n",
       " (u'split', 230),\n",
       " (u'carotenal', 229),\n",
       " (u'mandarin', 229),\n",
       " (u'strips', 227),\n",
       " (u'tartrazine', 227),\n",
       " (u'fats', 226),\n",
       " (u'miso', 226),\n",
       " (u'proteins', 226),\n",
       " (u'iodate', 225),\n",
       " (u'koji', 225),\n",
       " (u'patty', 225),\n",
       " (u'style', 225),\n",
       " (u'containing', 224),\n",
       " (u'grains', 224),\n",
       " (u'shallot', 223),\n",
       " (u'cholecalciferol', 222),\n",
       " (u'chestnuts', 219),\n",
       " (u'marshmallow', 218),\n",
       " (u'sardines', 218),\n",
       " (u'breadcrumbs', 217),\n",
       " (u'pekoe', 217),\n",
       " (u'propellant', 217),\n",
       " (u'shiitake', 217),\n",
       " (u'stabilize', 217),\n",
       " (u'clarified', 215),\n",
       " (u'20', 214),\n",
       " (u'grated', 214),\n",
       " (u'peeled', 214),\n",
       " (u'rhamnosus', 214),\n",
       " (u'sal', 213),\n",
       " (u'acidulant', 212),\n",
       " (u'jasmine', 212),\n",
       " (u'packet', 212),\n",
       " (u'popping', 212),\n",
       " (u'shredded', 212),\n",
       " (u'marjoram', 211),\n",
       " (u'soft', 211),\n",
       " (u'spirulina', 211),\n",
       " (u'watermelon', 211),\n",
       " (u'erythorbic', 210),\n",
       " (u'sweetcream', 210),\n",
       " (u'drops', 209),\n",
       " (u'pretzel', 209),\n",
       " (u'basmati', 208),\n",
       " (u'ethyl', 208),\n",
       " (u'silicoaluminate', 208),\n",
       " (u'bittersweet', 207),\n",
       " (u'bromate', 206),\n",
       " (u'nibs', 205),\n",
       " (u'truffle', 205),\n",
       " (u'chain', 204),\n",
       " (u'hazelnut', 204),\n",
       " (u'poblano', 204),\n",
       " (u'radish', 204),\n",
       " (u'diluted', 203),\n",
       " (u'filberts', 203),\n",
       " (u'foaming', 203),\n",
       " (u'microcrystalline', 203),\n",
       " (u'tallow', 203),\n",
       " (u'grilled', 201),\n",
       " (u'metabisulphite', 201),\n",
       " (u'puffed', 201),\n",
       " (u'raised', 201),\n",
       " (u'tara', 201),\n",
       " (u'vegetarian', 201),\n",
       " (u'colby', 200),\n",
       " (u'flowing', 200),\n",
       " (u'monopotassium', 200),\n",
       " (u'unenriched', 200),\n",
       " (u'sparkling', 198),\n",
       " (u'pecorino', 197),\n",
       " (u'adds', 196),\n",
       " (u'shallots', 196),\n",
       " (u'sugars', 196),\n",
       " (u'glycerides', 195),\n",
       " (u'reb', 195),\n",
       " (u'fl', 194),\n",
       " (u'make', 194),\n",
       " (u'asparagus', 193),\n",
       " (u'colour', 193),\n",
       " (u'enhancers', 193),\n",
       " (u'flower', 193),\n",
       " (u'pizza', 193),\n",
       " (u'clams', 191),\n",
       " (u'lactase', 191),\n",
       " (u'glutinous', 190),\n",
       " (u'tomatillos', 190),\n",
       " (u'ancho', 187),\n",
       " (u'diesters', 187),\n",
       " (u'dihydrogen', 187),\n",
       " (u'imitation', 187),\n",
       " (u'steel', 187),\n",
       " (u'usa', 187),\n",
       " (u'bonito', 186),\n",
       " (u'cotton', 186),\n",
       " (u'goji', 186),\n",
       " (u'lobster', 186),\n",
       " (u'fig', 185),\n",
       " (u'ingredient', 185),\n",
       " (u'thai', 185),\n",
       " (u'essence', 184),\n",
       " (u'acidifier', 183),\n",
       " (u'provides', 183),\n",
       " (u'seasonings', 182),\n",
       " (u'antioxidants', 181),\n",
       " (u'spearmint', 181),\n",
       " (u'sticking', 181),\n",
       " (u'amylase', 180),\n",
       " (u'biotin', 180),\n",
       " (u'capsicum', 180),\n",
       " (u'prunes', 180),\n",
       " (u'sprouts', 180),\n",
       " (u'type', 180),\n",
       " (u'mesquite', 179),\n",
       " (u'soymilk', 179),\n",
       " (u'bbq', 178),\n",
       " (u'great', 178),\n",
       " (u'manzanilla', 178),\n",
       " (u'northern', 177),\n",
       " (u'panax', 177),\n",
       " (u'zest', 177),\n",
       " (u'based', 176),\n",
       " (u'granular', 176),\n",
       " (u'chickpea', 175),\n",
       " (u'fillets', 175),\n",
       " (u'org', 175),\n",
       " (u'select', 175),\n",
       " (u'artificially', 174),\n",
       " (u'pepitas', 174),\n",
       " (u'tilapia', 174),\n",
       " (u'pine', 173),\n",
       " (u'tragacanth', 173),\n",
       " (u'tumeric', 173),\n",
       " (u'invertase', 172),\n",
       " (u'splenda', 172),\n",
       " (u'eggplant', 171),\n",
       " (u'hydroxide', 171),\n",
       " (u'rehydrated', 171),\n",
       " (u'alaska', 169),\n",
       " (u'b5', 169),\n",
       " (u'breading', 169),\n",
       " (u'oak', 169),\n",
       " (u'sa', 169),\n",
       " (u'artichokes', 168),\n",
       " (u'fumarate', 168),\n",
       " (u'herb', 168),\n",
       " (u'packaging', 167),\n",
       " (u'permeate', 167),\n",
       " (u'relish', 167),\n",
       " (u'apo', 166),\n",
       " ...]"
      ]
     },
     "execution_count": 24,
     "metadata": {},
     "output_type": "execute_result"
    }
   ],
   "source": [
    "# Show ingredient terms ordered by frequency \n",
    "\n",
    "sorted(zip(cvectorizer.get_feature_names(), \n",
    "           np.asarray(dtm.sum(axis=0)).ravel()), \n",
    "       key=lambda x:x[1], \n",
    "       reverse=True)"
   ]
  },
  {
   "cell_type": "markdown",
   "metadata": {},
   "source": [
    "---\n",
    "The following iterations of `cvectorizer` is to observe how the frequencies change as you expand the corpus from first ingredient to third, fifth, tenth ingredients for each food item.  "
   ]
  },
  {
   "cell_type": "code",
   "execution_count": 25,
   "metadata": {
    "ExecuteTime": {
     "end_time": "2017-05-19T19:40:18.166758",
     "start_time": "2017-05-19T12:40:16.120684-07:00"
    },
    "collapsed": false
   },
   "outputs": [],
   "source": [
    "# Get first ingredient\n",
    "first_list1 = [a[0] for a in list1]\n",
    "first_dtm = cvectorizer.fit_transform(first_list1)"
   ]
  },
  {
   "cell_type": "code",
   "execution_count": 26,
   "metadata": {
    "ExecuteTime": {
     "end_time": "2017-05-19T19:40:18.223443",
     "start_time": "2017-05-19T12:40:18.169446-07:00"
    },
    "collapsed": false
   },
   "outputs": [],
   "source": [
    "firstingredient_terms = \\\n",
    "sorted(zip(cvectorizer.get_feature_names(), \n",
    "           np.asarray(first_dtm.sum(axis=0)).ravel()), \n",
    "       key=lambda x:x[1], \n",
    "       reverse=True)"
   ]
  },
  {
   "cell_type": "code",
   "execution_count": 27,
   "metadata": {
    "ExecuteTime": {
     "end_time": "2017-05-19T19:40:21.274207",
     "start_time": "2017-05-19T12:40:18.228116-07:00"
    },
    "collapsed": false,
    "scrolled": true
   },
   "outputs": [],
   "source": [
    "three_list1 = [\" \".join(a[:3]) for a in list1]\n",
    "\n",
    "three_dtm = cvectorizer.fit_transform(three_list1)\n",
    "\n",
    "threeingredients_terms = \\\n",
    "sorted(zip(cvectorizer.get_feature_names(), \n",
    "           np.asarray(three_dtm.sum(axis=0)).ravel()), \n",
    "       key=lambda x:x[1], \n",
    "       reverse=True)"
   ]
  },
  {
   "cell_type": "code",
   "execution_count": 28,
   "metadata": {
    "ExecuteTime": {
     "end_time": "2017-05-19T19:40:25.115366",
     "start_time": "2017-05-19T12:40:21.277426-07:00"
    },
    "collapsed": false
   },
   "outputs": [],
   "source": [
    "five_list1 = [\" \".join(a[:5]) for a in list1]\n",
    "five_dtm = cvectorizer.fit_transform(five_list1)\n",
    "fiveingredients_terms = \\\n",
    "sorted(zip(cvectorizer.get_feature_names(), \n",
    "           np.asarray(five_dtm.sum(axis=0)).ravel()), \n",
    "       key=lambda x:x[1], \n",
    "       reverse=True)"
   ]
  },
  {
   "cell_type": "code",
   "execution_count": 29,
   "metadata": {
    "ExecuteTime": {
     "end_time": "2017-05-19T19:40:30.621004",
     "start_time": "2017-05-19T12:40:25.117740-07:00"
    },
    "collapsed": false
   },
   "outputs": [],
   "source": [
    "ten_list1 = [\" \".join(a[:10]) for a in list1]\n",
    "ten_dtm = cvectorizer.fit_transform(ten_list1)\n",
    "teningredients_terms = \\\n",
    "sorted(zip(cvectorizer.get_feature_names(), \n",
    "           np.asarray(ten_dtm.sum(axis=0)).ravel()), \n",
    "       key=lambda x:x[1], \n",
    "       reverse=True)"
   ]
  },
  {
   "cell_type": "code",
   "execution_count": 30,
   "metadata": {
    "ExecuteTime": {
     "end_time": "2017-05-19T19:40:30.690857",
     "start_time": "2017-05-19T12:40:30.623048-07:00"
    },
    "collapsed": false
   },
   "outputs": [],
   "source": [
    "\n",
    "all_terms = \\\n",
    "sorted(zip(cvectorizer.get_feature_names(), \n",
    "       np.asarray(dtm.sum(axis=0)).ravel()), \n",
    "       key=lambda x:x[1], \n",
    "       reverse=True)"
   ]
  },
  {
   "cell_type": "code",
   "execution_count": 31,
   "metadata": {
    "ExecuteTime": {
     "end_time": "2017-05-19T19:40:30.784581",
     "start_time": "2017-05-19T12:40:30.693394-07:00"
    },
    "collapsed": false
   },
   "outputs": [
    {
     "data": {
      "text/html": [
       "<div>\n",
       "<table border=\"1\" class=\"dataframe\">\n",
       "  <thead>\n",
       "    <tr style=\"text-align: right;\">\n",
       "      <th></th>\n",
       "      <th>0</th>\n",
       "      <th>1</th>\n",
       "      <th>2</th>\n",
       "      <th>3</th>\n",
       "      <th>4</th>\n",
       "      <th>5</th>\n",
       "      <th>6</th>\n",
       "      <th>7</th>\n",
       "      <th>8</th>\n",
       "      <th>9</th>\n",
       "    </tr>\n",
       "  </thead>\n",
       "  <tbody>\n",
       "    <tr>\n",
       "      <th>one_ingredient</th>\n",
       "      <td>(flour, 31980)</td>\n",
       "      <td>(water, 26866)</td>\n",
       "      <td>(wheat, 23347)</td>\n",
       "      <td>(milk, 19667)</td>\n",
       "      <td>(sugar, 18280)</td>\n",
       "      <td>(organic, 14268)</td>\n",
       "      <td>(enriched, 12913)</td>\n",
       "      <td>(pasteurized, 9449)</td>\n",
       "      <td>(corn, 8007)</td>\n",
       "      <td>(cultured, 5144)</td>\n",
       "    </tr>\n",
       "    <tr>\n",
       "      <th>three_ingredients</th>\n",
       "      <td>(water, 57154)</td>\n",
       "      <td>(flour, 50920)</td>\n",
       "      <td>(sugar, 48610)</td>\n",
       "      <td>(wheat, 33589)</td>\n",
       "      <td>(organic, 32668)</td>\n",
       "      <td>(milk, 29415)</td>\n",
       "      <td>(corn, 27210)</td>\n",
       "      <td>(oil, 26762)</td>\n",
       "      <td>(salt, 26227)</td>\n",
       "      <td>(syrup, 20825)</td>\n",
       "    </tr>\n",
       "    <tr>\n",
       "      <th>five_ingredients</th>\n",
       "      <td>(water, 65400)</td>\n",
       "      <td>(sugar, 62269)</td>\n",
       "      <td>(flour, 57158)</td>\n",
       "      <td>(salt, 48389)</td>\n",
       "      <td>(organic, 45384)</td>\n",
       "      <td>(oil, 39950)</td>\n",
       "      <td>(milk, 38729)</td>\n",
       "      <td>(wheat, 38125)</td>\n",
       "      <td>(corn, 37641)</td>\n",
       "      <td>(syrup, 28365)</td>\n",
       "    </tr>\n",
       "    <tr>\n",
       "      <th>ten_ingredients</th>\n",
       "      <td>(salt, 88445)</td>\n",
       "      <td>(sugar, 87903)</td>\n",
       "      <td>(water, 81210)</td>\n",
       "      <td>(oil, 71697)</td>\n",
       "      <td>(flour, 69249)</td>\n",
       "      <td>(organic, 65673)</td>\n",
       "      <td>(acid, 64868)</td>\n",
       "      <td>(corn, 55034)</td>\n",
       "      <td>(milk, 52313)</td>\n",
       "      <td>(wheat, 46823)</td>\n",
       "    </tr>\n",
       "    <tr>\n",
       "      <th>all_ingrdients</th>\n",
       "      <td>(solid, 99586)</td>\n",
       "      <td>(add, 98236)</td>\n",
       "      <td>(khorasan, 82941)</td>\n",
       "      <td>(specialty, 77295)</td>\n",
       "      <td>(effect, 77257)</td>\n",
       "      <td>(relish, 70270)</td>\n",
       "      <td>(seeds, 66932)</td>\n",
       "      <td>(jui, 47558)</td>\n",
       "      <td>(turtle, 41026)</td>\n",
       "      <td>(dandelion, 39528)</td>\n",
       "    </tr>\n",
       "  </tbody>\n",
       "</table>\n",
       "</div>"
      ],
      "text/plain": [
       "                                0               1                  2  \\\n",
       "one_ingredient     (flour, 31980)  (water, 26866)     (wheat, 23347)   \n",
       "three_ingredients  (water, 57154)  (flour, 50920)     (sugar, 48610)   \n",
       "five_ingredients   (water, 65400)  (sugar, 62269)     (flour, 57158)   \n",
       "ten_ingredients     (salt, 88445)  (sugar, 87903)     (water, 81210)   \n",
       "all_ingrdients     (solid, 99586)    (add, 98236)  (khorasan, 82941)   \n",
       "\n",
       "                                    3                 4                 5  \\\n",
       "one_ingredient          (milk, 19667)    (sugar, 18280)  (organic, 14268)   \n",
       "three_ingredients      (wheat, 33589)  (organic, 32668)     (milk, 29415)   \n",
       "five_ingredients        (salt, 48389)  (organic, 45384)      (oil, 39950)   \n",
       "ten_ingredients          (oil, 71697)    (flour, 69249)  (organic, 65673)   \n",
       "all_ingrdients     (specialty, 77295)   (effect, 77257)   (relish, 70270)   \n",
       "\n",
       "                                   6                    7                8  \\\n",
       "one_ingredient     (enriched, 12913)  (pasteurized, 9449)     (corn, 8007)   \n",
       "three_ingredients      (corn, 27210)         (oil, 26762)    (salt, 26227)   \n",
       "five_ingredients       (milk, 38729)       (wheat, 38125)    (corn, 37641)   \n",
       "ten_ingredients        (acid, 64868)        (corn, 55034)    (milk, 52313)   \n",
       "all_ingrdients        (seeds, 66932)         (jui, 47558)  (turtle, 41026)   \n",
       "\n",
       "                                    9  \n",
       "one_ingredient       (cultured, 5144)  \n",
       "three_ingredients      (syrup, 20825)  \n",
       "five_ingredients       (syrup, 28365)  \n",
       "ten_ingredients        (wheat, 46823)  \n",
       "all_ingrdients     (dandelion, 39528)  "
      ]
     },
     "execution_count": 31,
     "metadata": {},
     "output_type": "execute_result"
    }
   ],
   "source": [
    "pd.DataFrame([firstingredient_terms[:10], \n",
    "              threeingredients_terms[:10], \n",
    "              fiveingredients_terms[:10], \n",
    "              teningredients_terms[:10], \n",
    "             all_terms[:10]], \n",
    "             index=['one_ingredient', \n",
    "                    'three_ingredients', \n",
    "                    'five_ingredients', \n",
    "                    'ten_ingredients', \n",
    "                    'all_ingrdients'])"
   ]
  },
  {
   "cell_type": "code",
   "execution_count": 32,
   "metadata": {
    "ExecuteTime": {
     "end_time": "2017-05-19T19:40:32.577776",
     "start_time": "2017-05-19T12:40:30.787238-07:00"
    },
    "collapsed": false,
    "scrolled": true
   },
   "outputs": [
    {
     "data": {
      "text/plain": [
       "[(u'', 148160),\n",
       " (u' salt', 93628),\n",
       " (u' sugar', 55625),\n",
       " (u' water', 51256),\n",
       " (u' citric acid', 29263),\n",
       " (u' niacin', 20443),\n",
       " (u' riboflavin', 18117),\n",
       " (u' corn syrup', 17090),\n",
       " (u' natural flavor', 15559),\n",
       " (u' folic acid)', 15146)]"
      ]
     },
     "execution_count": 32,
     "metadata": {},
     "output_type": "execute_result"
    }
   ],
   "source": [
    "\n",
    "all_ing_count = collections.Counter(item for l1 in list1 for item in l1)\n",
    "all_ing_count.most_common()[:10]"
   ]
  },
  {
   "cell_type": "code",
   "execution_count": 33,
   "metadata": {
    "ExecuteTime": {
     "end_time": "2017-05-19T19:40:32.710714",
     "start_time": "2017-05-19T12:40:32.581044-07:00"
    },
    "collapsed": true
   },
   "outputs": [],
   "source": [
    "first_ing = [a[0].strip() for a in list1]"
   ]
  },
  {
   "cell_type": "code",
   "execution_count": 34,
   "metadata": {
    "ExecuteTime": {
     "end_time": "2017-05-19T19:40:32.940880",
     "start_time": "2017-05-19T12:40:32.713375-07:00"
    },
    "collapsed": false,
    "scrolled": true
   },
   "outputs": [
    {
     "data": {
      "text/plain": [
       "[(u'sugar', 11232),\n",
       " (u'water', 10268),\n",
       " (u'carbonated water', 3415),\n",
       " (u'filtered water', 2786),\n",
       " (u'enriched flour (wheat flour', 2551),\n",
       " (u'corn syrup', 2424),\n",
       " (u'potatoes', 2102),\n",
       " (u'pork', 1854),\n",
       " (u'milk', 1809),\n",
       " (u'pasteurized milk', 1696)]"
      ]
     },
     "execution_count": 34,
     "metadata": {},
     "output_type": "execute_result"
    }
   ],
   "source": [
    "first_ing_count = collections.Counter(first_ing)\n",
    "first_ing_count.most_common()[:10]"
   ]
  },
  {
   "cell_type": "code",
   "execution_count": 35,
   "metadata": {
    "ExecuteTime": {
     "end_time": "2017-05-19T19:40:34.134055",
     "start_time": "2017-05-19T12:40:32.943218-07:00"
    },
    "collapsed": false,
    "scrolled": true
   },
   "outputs": [
    {
     "data": {
      "text/plain": [
       "[(u'water', 35042),\n",
       " (u'sugar', 30828),\n",
       " (u'', 18824),\n",
       " (u'salt', 18023),\n",
       " (u'niacin', 14081),\n",
       " (u'corn syrup', 9026),\n",
       " (u'reduced iron', 5941),\n",
       " (u'high fructose corn syrup', 5450),\n",
       " (u'citric acid', 4573),\n",
       " (u'cocoa butter', 4241)]"
      ]
     },
     "execution_count": 35,
     "metadata": {},
     "output_type": "execute_result"
    }
   ],
   "source": [
    "three_ing = [a[:3] for a in list1]\n",
    "three_ing_count = collections.Counter(item.strip() for l1 in three_ing for item in l1)\n",
    "three_ing_count.most_common()[:10]"
   ]
  },
  {
   "cell_type": "code",
   "execution_count": 36,
   "metadata": {
    "ExecuteTime": {
     "end_time": "2017-05-19T19:40:35.393008",
     "start_time": "2017-05-19T12:40:34.137307-07:00"
    },
    "collapsed": false
   },
   "outputs": [
    {
     "data": {
      "text/plain": [
       "[(u'water', 40740),\n",
       " (u'sugar', 38932),\n",
       " (u'', 37316),\n",
       " (u'salt', 33095),\n",
       " (u'niacin', 16725),\n",
       " (u'corn syrup', 12027),\n",
       " (u'citric acid', 11254),\n",
       " (u'reduced iron', 10626),\n",
       " (u'thiamine mononitrate', 7860),\n",
       " (u'riboflavin', 6792)]"
      ]
     },
     "execution_count": 36,
     "metadata": {},
     "output_type": "execute_result"
    }
   ],
   "source": [
    "five_ing = [a[:5] for a in list1]\n",
    "five_ing_count = collections.Counter(item.strip() for l1 in five_ing for item in l1)\n",
    "five_ing_count.most_common()[:10]"
   ]
  },
  {
   "cell_type": "code",
   "execution_count": 37,
   "metadata": {
    "ExecuteTime": {
     "end_time": "2017-05-19T19:40:36.934233",
     "start_time": "2017-05-19T12:40:35.395978-07:00"
    },
    "collapsed": false
   },
   "outputs": [
    {
     "data": {
      "text/plain": [
       "[(u'', 80809),\n",
       " (u'salt', 59886),\n",
       " (u'sugar', 54549),\n",
       " (u'water', 53272),\n",
       " (u'citric acid', 19968),\n",
       " (u'niacin', 18785),\n",
       " (u'corn syrup', 15524),\n",
       " (u'riboflavin', 15333),\n",
       " (u'folic acid)', 13393),\n",
       " (u'reduced iron', 12355)]"
      ]
     },
     "execution_count": 37,
     "metadata": {},
     "output_type": "execute_result"
    }
   ],
   "source": [
    "ten_ing = [a[:10] for a in list1]\n",
    "ten_ing_count = collections.Counter(item.strip() for l1 in ten_ing for item in l1)\n",
    "ten_ing_count.most_common()[:10]"
   ]
  },
  {
   "cell_type": "code",
   "execution_count": 38,
   "metadata": {
    "ExecuteTime": {
     "end_time": "2017-05-19T19:40:37.351551",
     "start_time": "2017-05-19T12:40:36.937558-07:00"
    },
    "collapsed": false
   },
   "outputs": [
    {
     "data": {
      "text/html": [
       "<div>\n",
       "<table border=\"1\" class=\"dataframe\">\n",
       "  <thead>\n",
       "    <tr style=\"text-align: right;\">\n",
       "      <th></th>\n",
       "      <th>0</th>\n",
       "      <th>1</th>\n",
       "      <th>2</th>\n",
       "      <th>3</th>\n",
       "      <th>4</th>\n",
       "      <th>5</th>\n",
       "    </tr>\n",
       "  </thead>\n",
       "  <tbody>\n",
       "    <tr>\n",
       "      <th>one_ingredient</th>\n",
       "      <td>(sugar, 11232)</td>\n",
       "      <td>(water, 10268)</td>\n",
       "      <td>(carbonated water, 3415)</td>\n",
       "      <td>(filtered water, 2786)</td>\n",
       "      <td>(enriched flour (wheat flour, 2551)</td>\n",
       "      <td>(corn syrup, 2424)</td>\n",
       "    </tr>\n",
       "    <tr>\n",
       "      <th>three_ingredients</th>\n",
       "      <td>(water, 35042)</td>\n",
       "      <td>(sugar, 30828)</td>\n",
       "      <td>(, 18824)</td>\n",
       "      <td>(salt, 18023)</td>\n",
       "      <td>(niacin, 14081)</td>\n",
       "      <td>(corn syrup, 9026)</td>\n",
       "    </tr>\n",
       "    <tr>\n",
       "      <th>five_ingredients</th>\n",
       "      <td>(water, 40740)</td>\n",
       "      <td>(sugar, 38932)</td>\n",
       "      <td>(, 37316)</td>\n",
       "      <td>(salt, 33095)</td>\n",
       "      <td>(niacin, 16725)</td>\n",
       "      <td>(corn syrup, 12027)</td>\n",
       "    </tr>\n",
       "    <tr>\n",
       "      <th>ten_ingredients</th>\n",
       "      <td>(, 80809)</td>\n",
       "      <td>(salt, 59886)</td>\n",
       "      <td>(sugar, 54549)</td>\n",
       "      <td>(water, 53272)</td>\n",
       "      <td>(citric acid, 19968)</td>\n",
       "      <td>(niacin, 18785)</td>\n",
       "    </tr>\n",
       "    <tr>\n",
       "      <th>all_ingrdients</th>\n",
       "      <td>(, 148160)</td>\n",
       "      <td>( salt, 93628)</td>\n",
       "      <td>( sugar, 55625)</td>\n",
       "      <td>( water, 51256)</td>\n",
       "      <td>( citric acid, 29263)</td>\n",
       "      <td>( niacin, 20443)</td>\n",
       "    </tr>\n",
       "  </tbody>\n",
       "</table>\n",
       "</div>"
      ],
      "text/plain": [
       "                                0               1                         2  \\\n",
       "one_ingredient     (sugar, 11232)  (water, 10268)  (carbonated water, 3415)   \n",
       "three_ingredients  (water, 35042)  (sugar, 30828)                 (, 18824)   \n",
       "five_ingredients   (water, 40740)  (sugar, 38932)                 (, 37316)   \n",
       "ten_ingredients         (, 80809)   (salt, 59886)            (sugar, 54549)   \n",
       "all_ingrdients         (, 148160)  ( salt, 93628)           ( sugar, 55625)   \n",
       "\n",
       "                                        3  \\\n",
       "one_ingredient     (filtered water, 2786)   \n",
       "three_ingredients           (salt, 18023)   \n",
       "five_ingredients            (salt, 33095)   \n",
       "ten_ingredients            (water, 53272)   \n",
       "all_ingrdients            ( water, 51256)   \n",
       "\n",
       "                                                     4                    5  \n",
       "one_ingredient     (enriched flour (wheat flour, 2551)   (corn syrup, 2424)  \n",
       "three_ingredients                      (niacin, 14081)   (corn syrup, 9026)  \n",
       "five_ingredients                       (niacin, 16725)  (corn syrup, 12027)  \n",
       "ten_ingredients                   (citric acid, 19968)      (niacin, 18785)  \n",
       "all_ingrdients                   ( citric acid, 29263)     ( niacin, 20443)  "
      ]
     },
     "execution_count": 38,
     "metadata": {},
     "output_type": "execute_result"
    }
   ],
   "source": [
    "pd.DataFrame([first_ing_count.most_common()[:6], \n",
    "              three_ing_count.most_common()[:6], \n",
    "              five_ing_count.most_common()[:6], \n",
    "              ten_ing_count.most_common()[:6], \n",
    "             all_ing_count.most_common()[:6]], \n",
    "             index=['one_ingredient', \n",
    "                    'three_ingredients', \n",
    "                    'five_ingredients', \n",
    "                    'ten_ingredients', \n",
    "                    'all_ingrdients'])"
   ]
  },
  {
   "cell_type": "markdown",
   "metadata": {},
   "source": [
    "--- \n",
    "## Topic modeling \n",
    "\n",
    "Obtain TFiDF for all branded food items, the use Latend Dirichlet Allocation method to create categories of branded food items.  "
   ]
  },
  {
   "cell_type": "code",
   "execution_count": 39,
   "metadata": {
    "ExecuteTime": {
     "end_time": "2017-05-19T19:40:37.393186",
     "start_time": "2017-05-19T12:40:37.354596-07:00"
    },
    "collapsed": true
   },
   "outputs": [],
   "source": [
    "transformer = TfidfTransformer()"
   ]
  },
  {
   "cell_type": "code",
   "execution_count": 40,
   "metadata": {
    "ExecuteTime": {
     "end_time": "2017-05-19T19:40:37.713042",
     "start_time": "2017-05-19T12:40:37.395644-07:00"
    },
    "collapsed": true
   },
   "outputs": [],
   "source": [
    "tfidfm = transformer.fit_transform(dtm)"
   ]
  },
  {
   "cell_type": "code",
   "execution_count": 41,
   "metadata": {
    "ExecuteTime": {
     "end_time": "2017-05-19T19:43:23.545644",
     "start_time": "2017-05-19T12:40:37.717512-07:00"
    },
    "collapsed": false
   },
   "outputs": [
    {
     "data": {
      "text/plain": [
       "LatentDirichletAllocation(batch_size=128, doc_topic_prior=None,\n",
       "             evaluate_every=-1, learning_decay=0.7,\n",
       "             learning_method='online', learning_offset=50,\n",
       "             max_doc_update_iter=100, max_iter=5, mean_change_tol=0.001,\n",
       "             n_jobs=1, n_topics=10, perp_tol=0.1, random_state=0,\n",
       "             topic_word_prior=None, total_samples=1000000.0, verbose=0)"
      ]
     },
     "execution_count": 41,
     "metadata": {},
     "output_type": "execute_result"
    }
   ],
   "source": [
    "lda = LatentDirichletAllocation(max_iter=5, learning_method='online', \n",
    "                               learning_offset=50, random_state=0)\n",
    "\n",
    "lda.fit(tfidfm)"
   ]
  },
  {
   "cell_type": "code",
   "execution_count": 42,
   "metadata": {
    "ExecuteTime": {
     "end_time": "2017-05-19T19:43:23.754445",
     "start_time": "2017-05-19T12:43:23.552285-07:00"
    },
    "collapsed": false
   },
   "outputs": [
    {
     "data": {
      "text/plain": [
       "(10, 4994)"
      ]
     },
     "execution_count": 42,
     "metadata": {},
     "output_type": "execute_result"
    }
   ],
   "source": [
    "lda.components_.shape"
   ]
  },
  {
   "cell_type": "code",
   "execution_count": 43,
   "metadata": {
    "ExecuteTime": {
     "end_time": "2017-05-19T19:43:23.808279",
     "start_time": "2017-05-19T12:43:23.759752-07:00"
    },
    "collapsed": false
   },
   "outputs": [
    {
     "data": {
      "text/plain": [
       "(175228, 4994)"
      ]
     },
     "execution_count": 43,
     "metadata": {},
     "output_type": "execute_result"
    }
   ],
   "source": [
    "dtm.shape\n",
    "tfidfm.shape"
   ]
  },
  {
   "cell_type": "code",
   "execution_count": 44,
   "metadata": {
    "ExecuteTime": {
     "end_time": "2017-05-19T19:43:23.920146",
     "start_time": "2017-05-19T12:43:23.812936-07:00"
    },
    "collapsed": false
   },
   "outputs": [
    {
     "data": {
      "text/plain": [
       "(4994,)"
      ]
     },
     "execution_count": 44,
     "metadata": {},
     "output_type": "execute_result"
    }
   ],
   "source": [
    "lda.components_.argsort()[:-10-1:-1][0].shape"
   ]
  },
  {
   "cell_type": "code",
   "execution_count": 45,
   "metadata": {
    "ExecuteTime": {
     "end_time": "2017-05-19T19:43:24.347565",
     "start_time": "2017-05-19T12:43:23.929289-07:00"
    },
    "collapsed": false,
    "scrolled": false
   },
   "outputs": [
    {
     "name": "stdout",
     "output_type": "stream",
     "text": [
      "Topic #0:\n"
     ]
    },
    {
     "ename": "IndexError",
     "evalue": "list index out of range",
     "output_type": "error",
     "traceback": [
      "\u001b[0;31m---------------------------------------------------------------------------\u001b[0m",
      "\u001b[0;31mIndexError\u001b[0m                                Traceback (most recent call last)",
      "\u001b[0;32m<ipython-input-45-6694c5f2094e>\u001b[0m in \u001b[0;36m<module>\u001b[0;34m()\u001b[0m\n\u001b[1;32m      2\u001b[0m     \u001b[0;32mprint\u001b[0m\u001b[0;34m(\u001b[0m\u001b[0;34m\"Topic #%d:\"\u001b[0m \u001b[0;34m%\u001b[0m \u001b[0mtopic_idx\u001b[0m\u001b[0;34m)\u001b[0m\u001b[0;34m\u001b[0m\u001b[0m\n\u001b[1;32m      3\u001b[0m     print(\" \".join([cvectorizer.get_feature_names()[i] \n\u001b[0;32m----> 4\u001b[0;31m                     for i in topic.argsort()[:-10-1:-1]]))\n\u001b[0m",
      "\u001b[0;31mIndexError\u001b[0m: list index out of range"
     ]
    }
   ],
   "source": [
    "for topic_idx, topic in enumerate(lda.components_): \n",
    "    print(\"Topic #%d:\" % topic_idx) \n",
    "    print(\" \".join([cvectorizer.get_feature_names()[i] \n",
    "                    for i in topic.argsort()[:-10-1:-1]]))"
   ]
  },
  {
   "cell_type": "code",
   "execution_count": null,
   "metadata": {
    "ExecuteTime": {
     "end_time": "2017-05-19T19:43:24.349530",
     "start_time": "2017-05-19T19:39:45.068Z"
    },
    "collapsed": true
   },
   "outputs": [],
   "source": [
    "topic.argsort?"
   ]
  },
  {
   "cell_type": "code",
   "execution_count": null,
   "metadata": {
    "ExecuteTime": {
     "end_time": "2017-05-19T19:43:24.350480",
     "start_time": "2017-05-19T19:39:45.072Z"
    },
    "collapsed": false
   },
   "outputs": [],
   "source": [
    "lda_topic = []\n",
    "for topic in lda.components_: \n",
    "    lda_topic.append([cvectorizer.get_feature_names()[i] \n",
    "                 for i in topic.argsort()[:-10-1:-1]])"
   ]
  },
  {
   "cell_type": "code",
   "execution_count": null,
   "metadata": {
    "ExecuteTime": {
     "end_time": "2017-05-19T19:43:24.351517",
     "start_time": "2017-05-19T19:39:45.077Z"
    },
    "collapsed": true
   },
   "outputs": [],
   "source": [
    "ldatopic_dict = collections.OrderedDict()"
   ]
  },
  {
   "cell_type": "code",
   "execution_count": null,
   "metadata": {
    "ExecuteTime": {
     "end_time": "2017-05-19T19:43:24.352672",
     "start_time": "2017-05-19T19:39:45.080Z"
    },
    "collapsed": false,
    "scrolled": false
   },
   "outputs": [],
   "source": [
    "from sklearn.decomposition import NMF \n",
    "\n",
    "# Topic modeling using non-negative matrix factorization\n",
    "nmf = NMF(n_components=10, random_state=1, alpha=.1, l1_ratio=.5).fit(tfidfm)\n",
    "\n",
    "for topic_idx, topic in enumerate(nmf.components_): \n",
    "    print(\"Topic #%d:\" % topic_idx) \n",
    "    print(\" \".join([cvectorizer.get_feature_names()[i] \n",
    "                    for i in topic.argsort()[:-10-1:-1]\n",
    "                   ]))"
   ]
  },
  {
   "cell_type": "code",
   "execution_count": null,
   "metadata": {
    "ExecuteTime": {
     "end_time": "2017-05-19T19:43:24.354387",
     "start_time": "2017-05-19T19:39:45.083Z"
    },
    "collapsed": false,
    "scrolled": false
   },
   "outputs": [],
   "source": [
    "# Create tfidf vectors for topics to compare cosine similarity \n",
    "# with the food items.  \n",
    "lda_dtm = cvectorizer.transform([\" \".join(a) for a in lda_topic])\n",
    "lda_tfidf = transformer.fit_transform(lda_dtm)\n",
    "print lda_tfidf.shape\n"
   ]
  },
  {
   "cell_type": "code",
   "execution_count": null,
   "metadata": {
    "ExecuteTime": {
     "end_time": "2017-05-19T19:43:24.356184",
     "start_time": "2017-05-19T19:39:45.086Z"
    },
    "collapsed": false
   },
   "outputs": [],
   "source": [
    "cosine.max()"
   ]
  },
  {
   "cell_type": "code",
   "execution_count": null,
   "metadata": {
    "ExecuteTime": {
     "end_time": "2017-05-19T19:43:24.357222",
     "start_time": "2017-05-19T19:39:45.089Z"
    },
    "collapsed": false
   },
   "outputs": [],
   "source": [
    "lda_representative_items = []\n",
    "for i in range(10): \n",
    "    cosine = cosine_similarity(lda_tfidf[i],tfidfm)\n",
    "    index = cosine.argmax()\n",
    "    lda_representative_items.append((i,index,food_items[index][1], cosine.max()))\n",
    "    print \"For topic # {}, the most representative food item is:\\n {}\".format(i, food_items[index][1])\n",
    "    print \"Compare topics list vs ingredients list: \\n{}\\n{}\".format([\", \".join(lda_topic[i])],[food_items[index][2].lower()])\n",
    "    print \"cosine similarity value is:{} \\n\".format(cosine.max())"
   ]
  },
  {
   "cell_type": "code",
   "execution_count": null,
   "metadata": {
    "ExecuteTime": {
     "end_time": "2017-05-19T19:43:24.361201",
     "start_time": "2017-05-19T19:39:45.092Z"
    },
    "collapsed": false
   },
   "outputs": [],
   "source": [
    "for n, a in enumerate(lda_representative_items): \n",
    "    print \"{}: {}, cosine value: {}\".format(n, a[2], a[3])"
   ]
  },
  {
   "cell_type": "code",
   "execution_count": null,
   "metadata": {
    "ExecuteTime": {
     "end_time": "2017-05-19T19:43:24.362627",
     "start_time": "2017-05-19T19:39:45.096Z"
    },
    "collapsed": false
   },
   "outputs": [],
   "source": [
    "# Store nmf \"topics\"\n",
    "nmf_topic = []\n",
    "for topic in nmf.components_: \n",
    "    nmf_topic.append([cvectorizer.get_feature_names()[i] \n",
    "                    for i in topic.argsort()[:-10-1:-1]\n",
    "                   ])\n",
    "\n",
    "# Create tfidf vector \n",
    "nmf_dtm = cvectorizer.transform([\" \".join(a) for a in nmf_topic])\n",
    "nmf_tfidf = transformer.fit_transform(nmf_dtm) \n",
    "print \"shape of nmf_tfidf:\", nmf_tfidf.shape\n",
    "\n",
    "for i in range(10): \n",
    "    cosine = cosine_similarity(nmf_tfidf[i],tfidfm)\n",
    "    index = cosine.argmax()\n",
    "    print \"For topic # {}, the most representative food item is:\\n {}\".format(i, food_items[index][1])\n",
    "    print \"Compare topics list vs ingredients list: \\n{}\\n{}\\n\".format([\", \".join(nmf_topic[i])],[food_items[index][2].lower()])\n",
    "    "
   ]
  },
  {
   "cell_type": "code",
   "execution_count": null,
   "metadata": {
    "ExecuteTime": {
     "end_time": "2017-05-19T19:43:24.363661",
     "start_time": "2017-05-19T19:39:45.099Z"
    },
    "collapsed": false
   },
   "outputs": [],
   "source": [
    "# Does it make sense to think about \"most un-representative\"?\n",
    "# Apparently, mustard and almonds are least like the rest.  \n",
    "for i in range(10): \n",
    "    cosine = cosine_similarity(lda_tfidf[i],tfidfm)\n",
    "    index = cosine.argmin()\n",
    "    print \"For topic # {}, the most non-representative food item is:\\n {}\".format(i, food_items[index][1])\n",
    "    print \"Compare topics list vs ingredients list: \\n{}\\n{}\\n\".format([\" \".join(lda_topic[i])],[food_items[index][2].lower()])\n",
    "    "
   ]
  },
  {
   "cell_type": "markdown",
   "metadata": {},
   "source": [
    "## Questions: \n",
    "* How do you determine number of \"topics\"? \n",
    "* Best visualization for lda divisive clustering? "
   ]
  },
  {
   "cell_type": "code",
   "execution_count": null,
   "metadata": {
    "ExecuteTime": {
     "end_time": "2017-05-19T19:43:24.364252",
     "start_time": "2017-05-19T19:39:45.102Z"
    },
    "collapsed": true
   },
   "outputs": [],
   "source": [
    "# Given the ten topics, cluster the food items around (under) them: top down, divisive clustering\n",
    "from scipy.cluster.hierarchy import ward, dendogram \n",
    "linkage_matrix = ward()"
   ]
  },
  {
   "cell_type": "code",
   "execution_count": null,
   "metadata": {
    "ExecuteTime": {
     "end_time": "2017-05-19T19:43:24.364794",
     "start_time": "2017-05-19T19:39:45.105Z"
    },
    "collapsed": true
   },
   "outputs": [],
   "source": [
    "#unhealthy foods: sugar added "
   ]
  },
  {
   "cell_type": "code",
   "execution_count": null,
   "metadata": {
    "ExecuteTime": {
     "end_time": "2017-05-19T19:43:24.367065",
     "start_time": "2017-05-19T19:39:45.108Z"
    },
    "collapsed": false
   },
   "outputs": [],
   "source": [
    "lda.components_.shape"
   ]
  },
  {
   "cell_type": "code",
   "execution_count": null,
   "metadata": {
    "ExecuteTime": {
     "end_time": "2017-05-19T19:43:24.367873",
     "start_time": "2017-05-19T19:39:45.111Z"
    },
    "collapsed": false
   },
   "outputs": [],
   "source": [
    "nmf.components_.shape"
   ]
  },
  {
   "cell_type": "code",
   "execution_count": null,
   "metadata": {
    "ExecuteTime": {
     "end_time": "2017-05-19T19:43:24.368480",
     "start_time": "2017-05-19T19:39:45.114Z"
    },
    "collapsed": true
   },
   "outputs": [],
   "source": [
    "from sklearn.cluster import KMeans, MiniBatchKMeans"
   ]
  },
  {
   "cell_type": "code",
   "execution_count": null,
   "metadata": {
    "ExecuteTime": {
     "end_time": "2017-05-19T19:43:24.368899",
     "start_time": "2017-05-19T19:39:45.119Z"
    },
    "collapsed": true
   },
   "outputs": [],
   "source": [
    "km = KMeans(n_clusters=10, init='k-means++', max_iter=100, n_init=5, n_jobs=-1,verbose=1)\n"
   ]
  },
  {
   "cell_type": "code",
   "execution_count": null,
   "metadata": {
    "ExecuteTime": {
     "end_time": "2017-05-19T19:43:24.369261",
     "start_time": "2017-05-19T19:39:45.122Z"
    },
    "collapsed": false
   },
   "outputs": [],
   "source": [
    "tfidfm_kmeans = km.fit(tfidfm)"
   ]
  },
  {
   "cell_type": "code",
   "execution_count": null,
   "metadata": {
    "ExecuteTime": {
     "end_time": "2017-05-19T19:43:24.369651",
     "start_time": "2017-05-19T19:39:45.125Z"
    },
    "collapsed": false,
    "scrolled": true
   },
   "outputs": [],
   "source": [
    "print tfidfm_kmeans.cluster_centers_.shape\n",
    "\n",
    "# Get items closest to clusters \n",
    "\n",
    "for i in range(10): \n",
    "    cosine = cosine_similarity(tfidfm_kmeans.cluster_centers_[i].reshape(1,-1),tfidfm)\n",
    "    index = cosine.argmax()\n",
    "    print \"For centroid # {}, the closest food item is:\\n {}\".format(i, food_items[index][1])\n",
    "#    print \"Compare topics list vs ingredients list: \\n{}\\n{}\\n\".format([\" \".join(lda_topic[i])],[food_items[index][2].lower()])\n",
    "    "
   ]
  },
  {
   "cell_type": "code",
   "execution_count": null,
   "metadata": {
    "ExecuteTime": {
     "end_time": "2017-05-19T19:43:24.370006",
     "start_time": "2017-05-19T19:39:45.128Z"
    },
    "collapsed": false
   },
   "outputs": [],
   "source": [
    "lda_representative_items"
   ]
  },
  {
   "cell_type": "code",
   "execution_count": null,
   "metadata": {
    "collapsed": true
   },
   "outputs": [],
   "source": []
  }
 ],
 "metadata": {
  "kernelspec": {
   "display_name": "Python [conda env:python2]",
   "language": "python",
   "name": "conda-env-python2-py"
  },
  "language_info": {
   "codemirror_mode": {
    "name": "ipython",
    "version": 2
   },
   "file_extension": ".py",
   "mimetype": "text/x-python",
   "name": "python",
   "nbconvert_exporter": "python",
   "pygments_lexer": "ipython2",
   "version": "2.7.13"
  }
 },
 "nbformat": 4,
 "nbformat_minor": 2
}
