{
 "cells": [
  {
   "cell_type": "code",
   "execution_count": 1,
   "metadata": {
    "collapsed": true
   },
   "outputs": [],
   "source": [
    "import requests \n",
    "import json\n",
    "import re\n",
    "import pprint\n",
    "import time\n",
    "import pymongo\n"
   ]
  },
  {
   "cell_type": "code",
   "execution_count": null,
   "metadata": {
    "collapsed": true
   },
   "outputs": [],
   "source": [
    "'''All foods:\n",
    "Browser: http://api.nal.usda.gov/ndb/nutrients/?format=json&api_key=DEMO_KEY&nutrients=205&nutrients=204&nutrients=208&nutrients=269\n",
    "CURL: curl -H \"Content-Type:application/json\" -d '{\"nutrients\":[\"204\",\"205\",\"208\",\"269\"],\"max\":25,\"offset\":0}' DEMO_KEY@api.nal.usda.gov/ndb/nutrients\n",
    "'''"
   ]
  },
  {
   "cell_type": "code",
   "execution_count": null,
   "metadata": {
    "collapsed": true
   },
   "outputs": [],
   "source": [
    "https://ndb.nal.usda.gov/ndb/foods/show/15819?fg=&manu=&lfacet=&format=&count=&max=50&offset=&sort=default&order=asc&qlookup=cheese&ds=&qt=&qp=&qa=&qn=&q=&ing="
   ]
  },
  {
   "cell_type": "code",
   "execution_count": 1,
   "metadata": {
    "collapsed": false
   },
   "outputs": [
    {
     "name": "stdout",
     "output_type": "stream",
     "text": [
      "\u001b[34m1397606\u001b[m\u001b[m/                            \u001b[31msrep00196-s2.csv\u001b[m\u001b[m*\r\n",
      "1397606.zip                         srep00196-s2.zip\r\n",
      "Fenaroli Handbook Front Matter.pdf  \u001b[31msrep00196-s3.csv\u001b[m\u001b[m*\r\n",
      "\u001b[34mFood\u001b[m\u001b[m/                               srep00196-s3.zip\r\n",
      "Front Matter.pdf                    srep00196.pdf\r\n",
      "category_predictor.json             \u001b[34muntitled folder\u001b[m\u001b[m/\r\n",
      "\u001b[34mdataset-examples\u001b[m\u001b[m/                   usda_food_items.ipynb\r\n",
      "geckodriver.log                     usda_food_list.ipynb\r\n",
      "\u001b[34miContact\u001b[m\u001b[m/                           yelp.ipynb\r\n",
      "ieeecomputer.pdf\r\n"
     ]
    }
   ],
   "source": [
    "ls"
   ]
  },
  {
   "cell_type": "code",
   "execution_count": 2,
   "metadata": {
    "collapsed": false
   },
   "outputs": [],
   "source": [
    "# connect to the hosted MongoDB instance\n",
    "client = pymongo.MongoClient('mongodb://localhost:27017/')\n",
    "db = client.usda_ndb\n",
    "coll = db.food_list"
   ]
  },
  {
   "cell_type": "code",
   "execution_count": 3,
   "metadata": {
    "collapsed": true
   },
   "outputs": [],
   "source": [
    "id_list = coll.distinct('id')"
   ]
  },
  {
   "cell_type": "code",
   "execution_count": 4,
   "metadata": {
    "collapsed": false
   },
   "outputs": [
    {
     "data": {
      "text/plain": [
       "183972"
      ]
     },
     "execution_count": 4,
     "metadata": {},
     "output_type": "execute_result"
    }
   ],
   "source": [
    "len(id_list)"
   ]
  },
  {
   "cell_type": "code",
   "execution_count": 34,
   "metadata": {
    "collapsed": true
   },
   "outputs": [],
   "source": [
    "first_50 = id_list[:50]"
   ]
  },
  {
   "cell_type": "code",
   "execution_count": 35,
   "metadata": {
    "collapsed": false
   },
   "outputs": [
    {
     "data": {
      "text/plain": [
       "u'01001'"
      ]
     },
     "execution_count": 35,
     "metadata": {},
     "output_type": "execute_result"
    }
   ],
   "source": [
    "first_50[0]"
   ]
  },
  {
   "cell_type": "code",
   "execution_count": 64,
   "metadata": {
    "collapsed": false
   },
   "outputs": [
    {
     "data": {
      "text/plain": [
       "'ndbno=01001&ndbno=01002&api_key=PDddrH73wtpvf3gAtRyQUXVWlv80tON7RBFp2xlm&type=f&format=json'"
      ]
     },
     "execution_count": 64,
     "metadata": {},
     "output_type": "execute_result"
    }
   ],
   "source": [
    "params = {\"ndbno\": [\"01001\", \"01002\"],\n",
    "          \"type\":\"f\",\n",
    "          \"format\":\"json\",\n",
    "          \"api_key\":\"PDddrH73wtpvf3gAtRyQUXVWlv80tON7RBFp2xlm\"}\n",
    "urlencode(params,doseq=1)"
   ]
  },
  {
   "cell_type": "code",
   "execution_count": 87,
   "metadata": {
    "collapsed": true
   },
   "outputs": [],
   "source": [
    "from urllib import urlencode\n",
    "\n",
    "BASE_URL = \"https://api.nal.usda.gov/ndb/V2/reports\"\n",
    "\n",
    "def get_usda_ndb_fooditems(offset=0): \n",
    "    params = {\"ndbno\": first_50,\n",
    "              \"type\":\"b\",\n",
    "              #\"format\":\"json\",\n",
    "              \"api_key\":\"PDddrH73wtpvf3gAtRyQUXVWlv80tON7RBFp2xlm\"}\n",
    "    url= BASE_URL + \"?\"+urlencode(params,doseq=1)\n",
    "    return requests.get(BASE_URL, params=params)\n",
    "    #return requests.get(url)"
   ]
  },
  {
   "cell_type": "code",
   "execution_count": 88,
   "metadata": {
    "collapsed": false
   },
   "outputs": [],
   "source": [
    "t = get_usda_ndb_fooditems()"
   ]
  },
  {
   "cell_type": "code",
   "execution_count": 98,
   "metadata": {
    "collapsed": false
   },
   "outputs": [
    {
     "data": {
      "text/plain": [
       "50"
      ]
     },
     "execution_count": 98,
     "metadata": {},
     "output_type": "execute_result"
    }
   ],
   "source": [
    "t.json()['foods']"
   ]
  },
  {
   "cell_type": "code",
   "execution_count": 75,
   "metadata": {
    "collapsed": false
   },
   "outputs": [
    {
     "data": {
      "text/plain": [
       "u'https://api.nal.usda.gov/ndb/reports/V2?ndbno=01001&ndbno=01002&api_key=PDddrH73wtpvf3gAtRyQUXVWlv80tON7RBFp2xlm&type=f'"
      ]
     },
     "execution_count": 75,
     "metadata": {},
     "output_type": "execute_result"
    }
   ],
   "source": [
    "t.url"
   ]
  },
  {
   "cell_type": "code",
   "execution_count": 53,
   "metadata": {
    "collapsed": false
   },
   "outputs": [
    {
     "data": {
      "text/plain": [
       "{u'_id': ObjectId('58c639379d477ae190e6dc05'),\n",
       " u'id': u'01001',\n",
       " u'name': u'Butter, salted',\n",
       " u'offset': 0}"
      ]
     },
     "execution_count": 53,
     "metadata": {},
     "output_type": "execute_result"
    }
   ],
   "source": [
    "coll.find_one({\"id\":\"01001\"})"
   ]
  },
  {
   "cell_type": "code",
   "execution_count": null,
   "metadata": {
    "collapsed": true
   },
   "outputs": [],
   "source": [
    "# Miles' code \n",
    "# def get_ndb_report(ndbno, api_key=\"DEMO_KEY\"):\n",
    "#     URL = \"https://api.nal.usda.gov/ndb/reports/\"\n",
    "#     params = {'ndbno': ndbno,\n",
    "#               'type': 'f',\n",
    "#               'format': 'json',\n",
    "#               'api_key': api_key}\n",
    "#     response = requests.get(URL, params=params)\n",
    "#     if response.status_code == 200:\n",
    "#         return response.json()"
   ]
  },
  {
   "cell_type": "code",
   "execution_count": 1,
   "metadata": {
    "collapsed": false
   },
   "outputs": [
    {
     "name": "stdout",
     "output_type": "stream",
     "text": [
      "__init__.py            txt_to_mongo.py\r\n",
      "ndb_to_mongo.py        usda_food_items.ipynb\r\n"
     ]
    }
   ],
   "source": [
    "ls"
   ]
  },
  {
   "cell_type": "code",
   "execution_count": 2,
   "metadata": {
    "collapsed": true
   },
   "outputs": [],
   "source": [
    "import ndb_to_mongo"
   ]
  },
  {
   "cell_type": "code",
   "execution_count": 11,
   "metadata": {
    "collapsed": false
   },
   "outputs": [],
   "source": [
    "coll_item = db.food_item"
   ]
  },
  {
   "cell_type": "code",
   "execution_count": 12,
   "metadata": {
    "collapsed": true
   },
   "outputs": [],
   "source": [
    "items_list = coll_item.distinct('_id')"
   ]
  },
  {
   "cell_type": "code",
   "execution_count": 25,
   "metadata": {
    "collapsed": false
   },
   "outputs": [
    {
     "data": {
      "text/plain": [
       "ObjectId('58c886c79d477ac8ffdb7fb0')"
      ]
     },
     "execution_count": 25,
     "metadata": {},
     "output_type": "execute_result"
    }
   ],
   "source": [
    "items_list[1242]"
   ]
  },
  {
   "cell_type": "code",
   "execution_count": 34,
   "metadata": {
    "collapsed": false
   },
   "outputs": [],
   "source": [
    "coll_item.find_one({\"_id\":\"ObjectId('58c8863a9d477ac8ffdb7ad6')\"})"
   ]
  },
  {
   "cell_type": "code",
   "execution_count": 22,
   "metadata": {
    "collapsed": true
   },
   "outputs": [],
   "source": [
    "amazon_db = client.areviews"
   ]
  },
  {
   "cell_type": "code",
   "execution_count": 24,
   "metadata": {
    "collapsed": false
   },
   "outputs": [
    {
     "data": {
      "text/plain": [
       "[u'reviews']"
      ]
     },
     "execution_count": 24,
     "metadata": {},
     "output_type": "execute_result"
    }
   ],
   "source": [
    "amazon_db.collection_names()"
   ]
  },
  {
   "cell_type": "code",
   "execution_count": 25,
   "metadata": {
    "collapsed": true
   },
   "outputs": [],
   "source": [
    "amazon_coll = amazon_db.reviews"
   ]
  },
  {
   "cell_type": "code",
   "execution_count": 26,
   "metadata": {
    "collapsed": false
   },
   "outputs": [
    {
     "data": {
      "text/plain": [
       "{u'_id': ObjectId('58c6024f9d477aa9e1e4fc80'),\n",
       " u'product/productId': u'B00813GRG4',\n",
       " u'review/helpfulness': u'0/0',\n",
       " u'review/profileName': u'dll pa',\n",
       " u'review/score': u'1.0',\n",
       " u'review/summary': u'Not as Advertised',\n",
       " u'review/text': u'Product arrived labeled as Jumbo Salted Peanuts...the peanuts were actually small sized unsalted. Not sure if this was an error or if the vendor intended to represent the product as \"Jumbo\".',\n",
       " u'review/time': u'1346976000',\n",
       " u'review/userId': u'A1D87F6ZCVE5NK'}"
      ]
     },
     "execution_count": 26,
     "metadata": {},
     "output_type": "execute_result"
    }
   ],
   "source": [
    "amazon_coll.find_one()"
   ]
  },
  {
   "cell_type": "code",
   "execution_count": null,
   "metadata": {
    "collapsed": true
   },
   "outputs": [],
   "source": []
  }
 ],
 "metadata": {
  "kernelspec": {
   "display_name": "Python [conda env:python2]",
   "language": "python",
   "name": "conda-env-python2-py"
  },
  "language_info": {
   "codemirror_mode": {
    "name": "ipython",
    "version": 2
   },
   "file_extension": ".py",
   "mimetype": "text/x-python",
   "name": "python",
   "nbconvert_exporter": "python",
   "pygments_lexer": "ipython2",
   "version": "2.7.13"
  }
 },
 "nbformat": 4,
 "nbformat_minor": 2
}
