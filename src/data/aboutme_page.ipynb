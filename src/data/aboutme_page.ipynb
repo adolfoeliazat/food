{
 "cells": [
  {
   "cell_type": "markdown",
   "metadata": {},
   "source": [
    "## 'About me' page in allrecipes.com's member page\n",
    "Need to get: \n",
    "- recipe ID, name \n",
    "- rating for recipe \n",
    "\n",
    "- review text \n"
   ]
  },
  {
   "cell_type": "code",
   "execution_count": 125,
   "metadata": {
    "ExecuteTime": {
     "end_time": "2017-03-26T21:07:32.219146",
     "start_time": "2017-03-26T14:07:32.187182-07:00"
    },
    "collapsed": false
   },
   "outputs": [],
   "source": [
    "import pymongo \n",
    "import boto3 #go get 'about_me' page \n",
    "from bs4 import BeautifulSoup as BS\n",
    "import pickle"
   ]
  },
  {
   "cell_type": "code",
   "execution_count": 126,
   "metadata": {
    "ExecuteTime": {
     "end_time": "2017-03-26T21:07:32.563146",
     "start_time": "2017-03-26T14:07:32.431881-07:00"
    },
    "collapsed": false
   },
   "outputs": [
    {
     "data": {
      "text/plain": [
       "[u'members', u'webpages', u'community_link_pages', u'community_page']"
      ]
     },
     "execution_count": 126,
     "metadata": {},
     "output_type": "execute_result"
    }
   ],
   "source": [
    "client = pymongo.MongoClient('mongodb://localhost:27017/')\n",
    "allrecipes_db = client.allrecipes\n",
    "allrecipes_db.collection_names()"
   ]
  },
  {
   "cell_type": "code",
   "execution_count": 127,
   "metadata": {
    "ExecuteTime": {
     "end_time": "2017-03-26T21:07:34.538961",
     "start_time": "2017-03-26T14:07:34.502656-07:00"
    },
    "collapsed": false
   },
   "outputs": [],
   "source": [
    "members_coll = allrecipes_db.members"
   ]
  },
  {
   "cell_type": "code",
   "execution_count": 128,
   "metadata": {
    "ExecuteTime": {
     "end_time": "2017-03-26T21:07:36.515380",
     "start_time": "2017-03-26T14:07:36.478839-07:00"
    },
    "collapsed": false
   },
   "outputs": [
    {
     "data": {
      "text/plain": [
       "Collection(Database(MongoClient(host=['localhost:27017'], document_class=dict, tz_aware=False, connect=True), u'allrecipes'), u'members')"
      ]
     },
     "execution_count": 128,
     "metadata": {},
     "output_type": "execute_result"
    }
   ],
   "source": [
    "members_coll"
   ]
  },
  {
   "cell_type": "code",
   "execution_count": 129,
   "metadata": {
    "ExecuteTime": {
     "end_time": "2017-03-26T21:07:37.651279",
     "start_time": "2017-03-26T14:07:37.550737-07:00"
    },
    "collapsed": false
   },
   "outputs": [
    {
     "data": {
      "text/plain": [
       "[u'favorites_page',\n",
       " u'following_page',\n",
       " u'followers_dict',\n",
       " u'reviews_recipe_id_list',\n",
       " u'reviews_dict',\n",
       " u'reviews_page',\n",
       " u'madeits_recipe_id_list',\n",
       " u'followers_page',\n",
       " u'favorites_dict',\n",
       " u'madeit_page',\n",
       " u'following_dict',\n",
       " u'link',\n",
       " u'following_recipe_id_list',\n",
       " u'member_ID',\n",
       " u'favorites_recipe_id_list',\n",
       " u'followers_recipe_id_list',\n",
       " u'_id',\n",
       " u'recipes_page',\n",
       " u'madeits_dict']"
      ]
     },
     "execution_count": 129,
     "metadata": {},
     "output_type": "execute_result"
    }
   ],
   "source": [
    "# Get all the key names \n",
    "members_coll.find_one().keys()"
   ]
  },
  {
   "cell_type": "code",
   "execution_count": 130,
   "metadata": {
    "ExecuteTime": {
     "end_time": "2017-03-26T21:07:56.058134",
     "start_time": "2017-03-26T14:07:55.989005-07:00"
    },
    "collapsed": false
   },
   "outputs": [
    {
     "data": {
      "text/plain": [
       "{u'avgObjSize': 308482.0759956156,\n",
       " u'collections': 4,\n",
       " u'dataSize': 1688630884.0,\n",
       " u'db': u'allrecipes',\n",
       " u'indexSize': 221184.0,\n",
       " u'indexes': 5,\n",
       " u'numExtents': 0,\n",
       " u'objects': 5474,\n",
       " u'ok': 1.0,\n",
       " u'storageSize': 639676416.0,\n",
       " u'views': 0}"
      ]
     },
     "execution_count": 130,
     "metadata": {},
     "output_type": "execute_result"
    }
   ],
   "source": [
    "allrecipes_db.command({'dbstats': 1})"
   ]
  },
  {
   "cell_type": "code",
   "execution_count": 9,
   "metadata": {
    "ExecuteTime": {
     "end_time": "2017-03-25T21:25:55.514859",
     "start_time": "2017-03-25T14:25:55.119641-07:00"
    },
    "collapsed": false
   },
   "outputs": [
    {
     "data": {
      "text/plain": [
       "{u'avgObjSize': 1033871,\n",
       " u'capped': False,\n",
       " u'count': 815,\n",
       " u'indexDetails': {u'_id_': {u'LSM': {u'bloom filter false positives': 0,\n",
       "    u'bloom filter hits': 0,\n",
       "    u'bloom filter misses': 0,\n",
       "    u'bloom filter pages evicted from cache': 0,\n",
       "    u'bloom filter pages read into cache': 0,\n",
       "    u'bloom filters in the LSM tree': 0,\n",
       "    u'chunks in the LSM tree': 0,\n",
       "    u'highest merge generation in the LSM tree': 0,\n",
       "    u'queries that could have benefited from a Bloom filter that did not exist': 0,\n",
       "    u'sleep for LSM checkpoint throttle': 0,\n",
       "    u'sleep for LSM merge throttle': 0,\n",
       "    u'total size of bloom filters': 0},\n",
       "   u'block-manager': {u'allocations requiring file extension': 6,\n",
       "    u'blocks allocated': 16,\n",
       "    u'blocks freed': 4,\n",
       "    u'checkpoint size': 8192,\n",
       "    u'file allocation unit size': 4096,\n",
       "    u'file bytes available for reuse': 20480,\n",
       "    u'file magic number': 120897,\n",
       "    u'file major version number': 1,\n",
       "    u'file size in bytes': 45056,\n",
       "    u'minor version number': 0},\n",
       "   u'btree': {u'btree checkpoint generation': 838,\n",
       "    u'column-store fixed-size leaf pages': 0,\n",
       "    u'column-store internal pages': 0,\n",
       "    u'column-store variable-size RLE encoded values': 0,\n",
       "    u'column-store variable-size deleted values': 0,\n",
       "    u'column-store variable-size leaf pages': 0,\n",
       "    u'fixed-record size': 0,\n",
       "    u'maximum internal page key size': 1228,\n",
       "    u'maximum internal page size': 16384,\n",
       "    u'maximum leaf page key size': 1228,\n",
       "    u'maximum leaf page size': 16384,\n",
       "    u'maximum leaf page value size': 6144,\n",
       "    u'maximum tree depth': 3,\n",
       "    u'number of key/value pairs': 0,\n",
       "    u'overflow pages': 0,\n",
       "    u'pages rewritten by compaction': 0,\n",
       "    u'row-store internal pages': 0,\n",
       "    u'row-store leaf pages': 0},\n",
       "   u'cache': {u'bytes currently in the cache': 35711,\n",
       "    u'bytes read into cache': 5810,\n",
       "    u'bytes written from cache': 23309,\n",
       "    u'checkpoint blocked page eviction': 0,\n",
       "    u'data source pages selected for eviction unable to be evicted': 0,\n",
       "    u'hazard pointer blocked page eviction': 0,\n",
       "    u'in-memory page passed criteria to be split': 0,\n",
       "    u'in-memory page splits': 0,\n",
       "    u'internal pages evicted': 0,\n",
       "    u'internal pages split during eviction': 0,\n",
       "    u'leaf pages split during eviction': 0,\n",
       "    u'modified pages evicted': 0,\n",
       "    u'overflow pages read into cache': 0,\n",
       "    u'overflow values cached in memory': 0,\n",
       "    u'page split during eviction deepened the tree': 0,\n",
       "    u'page written requiring lookaside records': 0,\n",
       "    u'pages read into cache': 2,\n",
       "    u'pages read into cache requiring lookaside entries': 0,\n",
       "    u'pages requested from the cache': 5,\n",
       "    u'pages written from cache': 8,\n",
       "    u'pages written requiring in-memory restoration': 0,\n",
       "    u'unmodified pages evicted': 0},\n",
       "   u'cache_walk': {u'Average difference between current eviction generation when the page was last considered': 0,\n",
       "    u'Average on-disk page image size seen': 0,\n",
       "    u'Clean pages currently in cache': 0,\n",
       "    u'Current eviction generation': 0,\n",
       "    u'Dirty pages currently in cache': 0,\n",
       "    u'Entries in the root page': 0,\n",
       "    u'Internal pages currently in cache': 0,\n",
       "    u'Leaf pages currently in cache': 0,\n",
       "    u'Maximum difference between current eviction generation when the page was last considered': 0,\n",
       "    u'Maximum page size seen': 0,\n",
       "    u'Minimum on-disk page image size seen': 0,\n",
       "    u'On-disk page image sizes smaller than a single allocation unit': 0,\n",
       "    u'Pages created in memory and never written': 0,\n",
       "    u'Pages currently queued for eviction': 0,\n",
       "    u'Pages that could not be queued for eviction': 0,\n",
       "    u'Refs skipped during cache traversal': 0,\n",
       "    u'Size of the root page': 0,\n",
       "    u'Total number of pages currently in cache': 0},\n",
       "   u'compression': {u'compressed pages read': 0,\n",
       "    u'compressed pages written': 0,\n",
       "    u'page written failed to compress': 0,\n",
       "    u'page written was too small to compress': 0,\n",
       "    u'raw compression call failed, additional data available': 0,\n",
       "    u'raw compression call failed, no additional data available': 0,\n",
       "    u'raw compression call succeeded': 0},\n",
       "   u'creationString': u'allocation_size=4KB,app_metadata=(formatVersion=8,infoObj={ \"v\" : 2, \"key\" : { \"_id\" : 1 }, \"name\" : \"_id_\", \"ns\" : \"allrecipes.members\" }),block_allocation=best,block_compressor=,cache_resident=false,checksum=on,colgroups=,collator=,columns=,dictionary=0,encryption=(keyid=,name=),exclusive=false,extractor=,format=btree,huffman_key=,huffman_value=,ignore_in_memory_cache_size=false,immutable=false,internal_item_max=0,internal_key_max=0,internal_key_truncate=true,internal_page_max=16k,key_format=u,key_gap=10,leaf_item_max=0,leaf_key_max=0,leaf_page_max=16k,leaf_value_max=0,log=(enabled=true),lsm=(auto_throttle=true,bloom=true,bloom_bit_count=16,bloom_config=,bloom_hash_count=8,bloom_oldest=false,chunk_count_limit=0,chunk_max=5GB,chunk_size=10MB,merge_max=15,merge_min=0),memory_page_max=5MB,os_cache_dirty_max=0,os_cache_max=0,prefix_compression=true,prefix_compression_min=4,source=,split_deepen_min_child=0,split_deepen_per_child=0,split_pct=75,type=file,value_format=u',\n",
       "   u'cursor': {u'bulk-loaded cursor-insert calls': 0,\n",
       "    u'create calls': 3,\n",
       "    u'cursor-insert key and value bytes inserted': 32,\n",
       "    u'cursor-remove key bytes removed': 28,\n",
       "    u'cursor-update value bytes updated': 0,\n",
       "    u'insert calls': 2,\n",
       "    u'next calls': 0,\n",
       "    u'prev calls': 0,\n",
       "    u'remove calls': 2,\n",
       "    u'reset calls': 5,\n",
       "    u'restarted searches': 0,\n",
       "    u'search calls': 1,\n",
       "    u'search near calls': 0,\n",
       "    u'truncate calls': 0,\n",
       "    u'update calls': 0},\n",
       "   u'metadata': {u'formatVersion': 8,\n",
       "    u'infoObj': u'{ \"v\" : 2, \"key\" : { \"_id\" : 1 }, \"name\" : \"_id_\", \"ns\" : \"allrecipes.members\" }'},\n",
       "   u'reconciliation': {u'dictionary matches': 0,\n",
       "    u'fast-path pages deleted': 0,\n",
       "    u'internal page key bytes discarded using suffix compression': 0,\n",
       "    u'internal page multi-block writes': 0,\n",
       "    u'internal-page overflow keys': 0,\n",
       "    u'leaf page key bytes discarded using prefix compression': 39024,\n",
       "    u'leaf page multi-block writes': 0,\n",
       "    u'leaf-page overflow keys': 0,\n",
       "    u'maximum blocks required for a page': 0,\n",
       "    u'overflow values written': 0,\n",
       "    u'page checksum matches': 0,\n",
       "    u'page reconciliation calls': 8,\n",
       "    u'page reconciliation calls for eviction': 0,\n",
       "    u'pages deleted': 0},\n",
       "   u'session': {u'object compaction': 0, u'open cursor count': 2},\n",
       "   u'transaction': {u'update conflicts': 0},\n",
       "   u'type': u'file',\n",
       "   u'uri': u'statistics:table:index-15--696218747596360344'},\n",
       "  u'index_1': {u'LSM': {u'bloom filter false positives': 0,\n",
       "    u'bloom filter hits': 0,\n",
       "    u'bloom filter misses': 0,\n",
       "    u'bloom filter pages evicted from cache': 0,\n",
       "    u'bloom filter pages read into cache': 0,\n",
       "    u'bloom filters in the LSM tree': 0,\n",
       "    u'chunks in the LSM tree': 0,\n",
       "    u'highest merge generation in the LSM tree': 0,\n",
       "    u'queries that could have benefited from a Bloom filter that did not exist': 0,\n",
       "    u'sleep for LSM checkpoint throttle': 0,\n",
       "    u'sleep for LSM merge throttle': 0,\n",
       "    u'total size of bloom filters': 0},\n",
       "   u'block-manager': {u'allocations requiring file extension': 9,\n",
       "    u'blocks allocated': 19,\n",
       "    u'blocks freed': 4,\n",
       "    u'checkpoint size': 8192,\n",
       "    u'file allocation unit size': 4096,\n",
       "    u'file bytes available for reuse': 20480,\n",
       "    u'file magic number': 120897,\n",
       "    u'file major version number': 1,\n",
       "    u'file size in bytes': 45056,\n",
       "    u'minor version number': 0},\n",
       "   u'btree': {u'btree checkpoint generation': 838,\n",
       "    u'column-store fixed-size leaf pages': 0,\n",
       "    u'column-store internal pages': 0,\n",
       "    u'column-store variable-size RLE encoded values': 0,\n",
       "    u'column-store variable-size deleted values': 0,\n",
       "    u'column-store variable-size leaf pages': 0,\n",
       "    u'fixed-record size': 0,\n",
       "    u'maximum internal page key size': 1228,\n",
       "    u'maximum internal page size': 16384,\n",
       "    u'maximum leaf page key size': 1228,\n",
       "    u'maximum leaf page size': 16384,\n",
       "    u'maximum leaf page value size': 6144,\n",
       "    u'maximum tree depth': 3,\n",
       "    u'number of key/value pairs': 0,\n",
       "    u'overflow pages': 0,\n",
       "    u'pages rewritten by compaction': 0,\n",
       "    u'row-store internal pages': 0,\n",
       "    u'row-store leaf pages': 0},\n",
       "   u'cache': {u'bytes currently in the cache': 35285,\n",
       "    u'bytes read into cache': 4981,\n",
       "    u'bytes written from cache': 24912,\n",
       "    u'checkpoint blocked page eviction': 0,\n",
       "    u'data source pages selected for eviction unable to be evicted': 0,\n",
       "    u'hazard pointer blocked page eviction': 0,\n",
       "    u'in-memory page passed criteria to be split': 0,\n",
       "    u'in-memory page splits': 0,\n",
       "    u'internal pages evicted': 0,\n",
       "    u'internal pages split during eviction': 0,\n",
       "    u'leaf pages split during eviction': 0,\n",
       "    u'modified pages evicted': 2,\n",
       "    u'overflow pages read into cache': 0,\n",
       "    u'overflow values cached in memory': 0,\n",
       "    u'page split during eviction deepened the tree': 0,\n",
       "    u'page written requiring lookaside records': 0,\n",
       "    u'pages read into cache': 2,\n",
       "    u'pages read into cache requiring lookaside entries': 0,\n",
       "    u'pages requested from the cache': 4,\n",
       "    u'pages written from cache': 10,\n",
       "    u'pages written requiring in-memory restoration': 0,\n",
       "    u'unmodified pages evicted': 0},\n",
       "   u'cache_walk': {u'Average difference between current eviction generation when the page was last considered': 0,\n",
       "    u'Average on-disk page image size seen': 0,\n",
       "    u'Clean pages currently in cache': 0,\n",
       "    u'Current eviction generation': 0,\n",
       "    u'Dirty pages currently in cache': 0,\n",
       "    u'Entries in the root page': 0,\n",
       "    u'Internal pages currently in cache': 0,\n",
       "    u'Leaf pages currently in cache': 0,\n",
       "    u'Maximum difference between current eviction generation when the page was last considered': 0,\n",
       "    u'Maximum page size seen': 0,\n",
       "    u'Minimum on-disk page image size seen': 0,\n",
       "    u'On-disk page image sizes smaller than a single allocation unit': 0,\n",
       "    u'Pages created in memory and never written': 0,\n",
       "    u'Pages currently queued for eviction': 0,\n",
       "    u'Pages that could not be queued for eviction': 0,\n",
       "    u'Refs skipped during cache traversal': 0,\n",
       "    u'Size of the root page': 0,\n",
       "    u'Total number of pages currently in cache': 0},\n",
       "   u'compression': {u'compressed pages read': 0,\n",
       "    u'compressed pages written': 0,\n",
       "    u'page written failed to compress': 0,\n",
       "    u'page written was too small to compress': 0,\n",
       "    u'raw compression call failed, additional data available': 0,\n",
       "    u'raw compression call failed, no additional data available': 0,\n",
       "    u'raw compression call succeeded': 0},\n",
       "   u'creationString': u'allocation_size=4KB,app_metadata=(formatVersion=8,infoObj={ \"v\" : 2, \"key\" : { \"index\" : 1 }, \"name\" : \"index_1\", \"ns\" : \"allrecipes.members\" }),block_allocation=best,block_compressor=,cache_resident=false,checksum=on,colgroups=,collator=,columns=,dictionary=0,encryption=(keyid=,name=),exclusive=false,extractor=,format=btree,huffman_key=,huffman_value=,ignore_in_memory_cache_size=false,immutable=false,internal_item_max=0,internal_key_max=0,internal_key_truncate=true,internal_page_max=16k,key_format=u,key_gap=10,leaf_item_max=0,leaf_key_max=0,leaf_page_max=16k,leaf_value_max=0,log=(enabled=true),lsm=(auto_throttle=true,bloom=true,bloom_bit_count=16,bloom_config=,bloom_hash_count=8,bloom_oldest=false,chunk_count_limit=0,chunk_max=5GB,chunk_size=10MB,merge_max=15,merge_min=0),memory_page_max=5MB,os_cache_dirty_max=0,os_cache_max=0,prefix_compression=true,prefix_compression_min=4,source=,split_deepen_min_child=0,split_deepen_per_child=0,split_pct=75,type=file,value_format=u',\n",
       "   u'cursor': {u'bulk-loaded cursor-insert calls': 815,\n",
       "    u'create calls': 4,\n",
       "    u'cursor-insert key and value bytes inserted': 8,\n",
       "    u'cursor-remove key bytes removed': 8,\n",
       "    u'cursor-update value bytes updated': 0,\n",
       "    u'insert calls': 2,\n",
       "    u'next calls': 0,\n",
       "    u'prev calls': 0,\n",
       "    u'remove calls': 2,\n",
       "    u'reset calls': 4,\n",
       "    u'restarted searches': 0,\n",
       "    u'search calls': 0,\n",
       "    u'search near calls': 0,\n",
       "    u'truncate calls': 0,\n",
       "    u'update calls': 0},\n",
       "   u'metadata': {u'formatVersion': 8,\n",
       "    u'infoObj': u'{ \"v\" : 2, \"key\" : { \"index\" : 1 }, \"name\" : \"index_1\", \"ns\" : \"allrecipes.members\" }'},\n",
       "   u'reconciliation': {u'dictionary matches': 0,\n",
       "    u'fast-path pages deleted': 0,\n",
       "    u'internal page key bytes discarded using suffix compression': 0,\n",
       "    u'internal page multi-block writes': 0,\n",
       "    u'internal-page overflow keys': 0,\n",
       "    u'leaf page key bytes discarded using prefix compression': 0,\n",
       "    u'leaf page multi-block writes': 0,\n",
       "    u'leaf-page overflow keys': 0,\n",
       "    u'maximum blocks required for a page': 0,\n",
       "    u'overflow values written': 0,\n",
       "    u'page checksum matches': 0,\n",
       "    u'page reconciliation calls': 9,\n",
       "    u'page reconciliation calls for eviction': 1,\n",
       "    u'pages deleted': 0},\n",
       "   u'session': {u'object compaction': 0, u'open cursor count': 2},\n",
       "   u'transaction': {u'update conflicts': 0},\n",
       "   u'type': u'file',\n",
       "   u'uri': u'statistics:table:index-0--4728519858915635890'}},\n",
       " u'indexSizes': {u'_id_': 45056, u'index_1': 45056},\n",
       " u'nindexes': 2,\n",
       " u'ns': u'allrecipes.members',\n",
       " u'ok': 1.0,\n",
       " u'size': 842605380,\n",
       " u'storageSize': 330731520,\n",
       " u'totalIndexSize': 90112,\n",
       " u'wiredTiger': {u'LSM': {u'bloom filter false positives': 0,\n",
       "   u'bloom filter hits': 0,\n",
       "   u'bloom filter misses': 0,\n",
       "   u'bloom filter pages evicted from cache': 0,\n",
       "   u'bloom filter pages read into cache': 0,\n",
       "   u'bloom filters in the LSM tree': 0,\n",
       "   u'chunks in the LSM tree': 0,\n",
       "   u'highest merge generation in the LSM tree': 0,\n",
       "   u'queries that could have benefited from a Bloom filter that did not exist': 0,\n",
       "   u'sleep for LSM checkpoint throttle': 0,\n",
       "   u'sleep for LSM merge throttle': 0,\n",
       "   u'total size of bloom filters': 0},\n",
       "  u'block-manager': {u'allocations requiring file extension': 1041,\n",
       "   u'blocks allocated': 8356,\n",
       "   u'blocks freed': 5615,\n",
       "   u'checkpoint size': 239222784,\n",
       "   u'file allocation unit size': 4096,\n",
       "   u'file bytes available for reuse': 91492352,\n",
       "   u'file magic number': 120897,\n",
       "   u'file major version number': 1,\n",
       "   u'file size in bytes': 330731520,\n",
       "   u'minor version number': 0},\n",
       "  u'btree': {u'btree checkpoint generation': 838,\n",
       "   u'column-store fixed-size leaf pages': 0,\n",
       "   u'column-store internal pages': 0,\n",
       "   u'column-store variable-size RLE encoded values': 0,\n",
       "   u'column-store variable-size deleted values': 0,\n",
       "   u'column-store variable-size leaf pages': 0,\n",
       "   u'fixed-record size': 0,\n",
       "   u'maximum internal page key size': 368,\n",
       "   u'maximum internal page size': 4096,\n",
       "   u'maximum leaf page key size': 2867,\n",
       "   u'maximum leaf page size': 32768,\n",
       "   u'maximum leaf page value size': 67108864,\n",
       "   u'maximum tree depth': 3,\n",
       "   u'number of key/value pairs': 0,\n",
       "   u'overflow pages': 0,\n",
       "   u'pages rewritten by compaction': 0,\n",
       "   u'row-store internal pages': 0,\n",
       "   u'row-store leaf pages': 0},\n",
       "  u'cache': {u'bytes currently in the cache': 1466664368.0,\n",
       "   u'bytes read into cache': 132402884,\n",
       "   u'bytes written from cache': 5718846725.0,\n",
       "   u'checkpoint blocked page eviction': 0,\n",
       "   u'data source pages selected for eviction unable to be evicted': 2,\n",
       "   u'hazard pointer blocked page eviction': 2,\n",
       "   u'in-memory page passed criteria to be split': 0,\n",
       "   u'in-memory page splits': 0,\n",
       "   u'internal pages evicted': 0,\n",
       "   u'internal pages split during eviction': 0,\n",
       "   u'leaf pages split during eviction': 95,\n",
       "   u'modified pages evicted': 2338,\n",
       "   u'overflow pages read into cache': 0,\n",
       "   u'overflow values cached in memory': 0,\n",
       "   u'page split during eviction deepened the tree': 0,\n",
       "   u'page written requiring lookaside records': 0,\n",
       "   u'pages read into cache': 124,\n",
       "   u'pages read into cache requiring lookaside entries': 0,\n",
       "   u'pages requested from the cache': 2418208,\n",
       "   u'pages written from cache': 7038,\n",
       "   u'pages written requiring in-memory restoration': 0,\n",
       "   u'unmodified pages evicted': 0},\n",
       "  u'cache_walk': {u'Average difference between current eviction generation when the page was last considered': 0,\n",
       "   u'Average on-disk page image size seen': 0,\n",
       "   u'Clean pages currently in cache': 0,\n",
       "   u'Current eviction generation': 0,\n",
       "   u'Dirty pages currently in cache': 0,\n",
       "   u'Entries in the root page': 0,\n",
       "   u'Internal pages currently in cache': 0,\n",
       "   u'Leaf pages currently in cache': 0,\n",
       "   u'Maximum difference between current eviction generation when the page was last considered': 0,\n",
       "   u'Maximum page size seen': 0,\n",
       "   u'Minimum on-disk page image size seen': 0,\n",
       "   u'On-disk page image sizes smaller than a single allocation unit': 0,\n",
       "   u'Pages created in memory and never written': 0,\n",
       "   u'Pages currently queued for eviction': 0,\n",
       "   u'Pages that could not be queued for eviction': 0,\n",
       "   u'Refs skipped during cache traversal': 0,\n",
       "   u'Size of the root page': 0,\n",
       "   u'Total number of pages currently in cache': 0},\n",
       "  u'compression': {u'compressed pages read': 121,\n",
       "   u'compressed pages written': 5707,\n",
       "   u'page written failed to compress': 0,\n",
       "   u'page written was too small to compress': 1331,\n",
       "   u'raw compression call failed, additional data available': 0,\n",
       "   u'raw compression call failed, no additional data available': 0,\n",
       "   u'raw compression call succeeded': 0},\n",
       "  u'creationString': u'allocation_size=4KB,app_metadata=(formatVersion=1),block_allocation=best,block_compressor=snappy,cache_resident=false,checksum=on,colgroups=,collator=,columns=,dictionary=0,encryption=(keyid=,name=),exclusive=false,extractor=,format=btree,huffman_key=,huffman_value=,ignore_in_memory_cache_size=false,immutable=false,internal_item_max=0,internal_key_max=0,internal_key_truncate=true,internal_page_max=4KB,key_format=q,key_gap=10,leaf_item_max=0,leaf_key_max=0,leaf_page_max=32KB,leaf_value_max=64MB,log=(enabled=true),lsm=(auto_throttle=true,bloom=true,bloom_bit_count=16,bloom_config=,bloom_hash_count=8,bloom_oldest=false,chunk_count_limit=0,chunk_max=5GB,chunk_size=10MB,merge_max=15,merge_min=0),memory_page_max=10m,os_cache_dirty_max=0,os_cache_max=0,prefix_compression=false,prefix_compression_min=4,source=,split_deepen_min_child=0,split_deepen_per_child=0,split_pct=90,type=file,value_format=u',\n",
       "  u'cursor': {u'bulk-loaded cursor-insert calls': 0,\n",
       "   u'create calls': 13,\n",
       "   u'cursor-insert key and value bytes inserted': 5011763235.0,\n",
       "   u'cursor-remove key bytes removed': 3,\n",
       "   u'cursor-update value bytes updated': 0,\n",
       "   u'insert calls': 4857,\n",
       "   u'next calls': 2461517,\n",
       "   u'prev calls': 2,\n",
       "   u'remove calls': 2,\n",
       "   u'reset calls': 39936,\n",
       "   u'restarted searches': 0,\n",
       "   u'search calls': 4860,\n",
       "   u'search near calls': 28786,\n",
       "   u'truncate calls': 0,\n",
       "   u'update calls': 0},\n",
       "  u'metadata': {u'formatVersion': 1},\n",
       "  u'reconciliation': {u'dictionary matches': 0,\n",
       "   u'fast-path pages deleted': 0,\n",
       "   u'internal page key bytes discarded using suffix compression': 3471,\n",
       "   u'internal page multi-block writes': 476,\n",
       "   u'internal-page overflow keys': 0,\n",
       "   u'leaf page key bytes discarded using prefix compression': 0,\n",
       "   u'leaf page multi-block writes': 682,\n",
       "   u'leaf-page overflow keys': 0,\n",
       "   u'maximum blocks required for a page': 4,\n",
       "   u'overflow values written': 0,\n",
       "   u'page checksum matches': 3087,\n",
       "   u'page reconciliation calls': 5764,\n",
       "   u'page reconciliation calls for eviction': 2331,\n",
       "   u'pages deleted': 1},\n",
       "  u'session': {u'object compaction': 0, u'open cursor count': 6},\n",
       "  u'transaction': {u'update conflicts': 0},\n",
       "  u'type': u'file',\n",
       "  u'uri': u'statistics:table:collection-14--696218747596360344'}}"
      ]
     },
     "execution_count": 9,
     "metadata": {},
     "output_type": "execute_result"
    }
   ],
   "source": [
    "allrecipes_db.command({'collstats': 'members'})"
   ]
  },
  {
   "cell_type": "code",
   "execution_count": 179,
   "metadata": {
    "ExecuteTime": {
     "end_time": "2017-03-25T04:00:07.474424",
     "start_time": "2017-03-24T21:00:07.190225-07:00"
    },
    "collapsed": true
   },
   "outputs": [],
   "source": [
    "# Access environment variables \n",
    "import os \n",
    "AWS_KEY = os.environ['AWS_ACCESS_KEY']\n",
    "AWS_SECRET = os.environ['AWS_SECRET_ACCESS_KEY'] "
   ]
  },
  {
   "cell_type": "code",
   "execution_count": 216,
   "metadata": {
    "ExecuteTime": {
     "end_time": "2017-03-25T04:44:20.183823",
     "start_time": "2017-03-24T21:44:19.964684-07:00"
    },
    "collapsed": false,
    "scrolled": true
   },
   "outputs": [],
   "source": [
    "# Open s3 session with boto3\n",
    "session = boto3.Session(aws_access_key_id=AWS_KEY, aws_secret_access_key=AWS_SECRET)\n",
    "s3 = session.resource('s3')"
   ]
  },
  {
   "cell_type": "code",
   "execution_count": 220,
   "metadata": {
    "ExecuteTime": {
     "end_time": "2017-03-25T04:45:38.695402",
     "start_time": "2017-03-24T21:45:38.653335-07:00"
    },
    "collapsed": false,
    "scrolled": true
   },
   "outputs": [],
   "source": [
    "mybucket = s3.Bucket('ohailolcat')"
   ]
  },
  {
   "cell_type": "code",
   "execution_count": 233,
   "metadata": {
    "ExecuteTime": {
     "end_time": "2017-03-25T04:52:44.144354",
     "start_time": "2017-03-24T21:52:42.481440-07:00"
    },
    "collapsed": false
   },
   "outputs": [
    {
     "data": {
      "text/plain": [
       "[s3.ObjectSummary(bucket_name='ohailolcat', key=u'aboutme2_page.p '),\n",
       " s3.ObjectSummary(bucket_name='ohailolcat', key=u'aboutme_page.p '),\n",
       " s3.ObjectSummary(bucket_name='ohailolcat', key=u'cancer.csv'),\n",
       " s3.ObjectSummary(bucket_name='ohailolcat', key=u'cancer_rate.csv'),\n",
       " s3.ObjectSummary(bucket_name='ohailolcat', key=u'cancer_rate_hist.png'),\n",
       " s3.ObjectSummary(bucket_name='ohailolcat', key=u'scripts/bootstrap-emr.sh'),\n",
       " s3.ObjectSummary(bucket_name='ohailolcat', key=u'secret')]"
      ]
     },
     "execution_count": 233,
     "metadata": {},
     "output_type": "execute_result"
    }
   ],
   "source": [
    "list(mybucket.objects.all())"
   ]
  },
  {
   "cell_type": "code",
   "execution_count": null,
   "metadata": {
    "collapsed": true
   },
   "outputs": [],
   "source": [
    "mybucket.download_file('aboutme2_page.p ', 'aboutme2.pkl')"
   ]
  },
  {
   "cell_type": "code",
   "execution_count": 235,
   "metadata": {
    "ExecuteTime": {
     "end_time": "2017-03-25T05:03:57.966725",
     "start_time": "2017-03-24T21:55:50.995490-07:00"
    },
    "collapsed": false,
    "scrolled": true
   },
   "outputs": [],
   "source": [
    "mybucket.download_file('aboutme_page.p ', 'aboutme.pkl')"
   ]
  },
  {
   "cell_type": "code",
   "execution_count": 1,
   "metadata": {
    "ExecuteTime": {
     "end_time": "2017-03-26T19:30:25.722953",
     "start_time": "2017-03-26T12:30:25.384694-07:00"
    },
    "collapsed": false
   },
   "outputs": [
    {
     "name": "stdout",
     "output_type": "stream",
     "text": [
      "EC2_scraper.py                     ndb_to_mongo.py\r\n",
      "__init__.py                        ndb_to_mongo.pyc\r\n",
      "aboutme.pkl                        non-allrecipe reviews.ipynb\r\n",
      "aboutme2.pkl                       recipe_scrape_list.ipynb\r\n",
      "aboutme_page.ipynb                 recipe_scraper-localmachine.ipynb\r\n",
      "favorites_page.ipynb               \u001b[34mrecipes_0to199\u001b[m\u001b[m/\r\n",
      "followers_page.ipynb               recipes_orderedset.pkl\r\n",
      "following_page.ipynb               reviews_page.ipynb\r\n",
      "foodmaster                         scrape_for_reviews.py\r\n",
      "geckodriver.log                    scrape_for_reviews.pyc\r\n",
      "lookit.py                          temp.pkl\r\n",
      "madeit_page.ipynb                  temp.png\r\n",
      "mem.py                             txt_to_mongo.py\r\n",
      "members.py                         ubuntu@54.202.196.138\r\n",
      "memlist.txt                        usda_food_items.ipynb\r\n"
     ]
    }
   ],
   "source": [
    "ls"
   ]
  },
  {
   "cell_type": "code",
   "execution_count": 3,
   "metadata": {
    "ExecuteTime": {
     "end_time": "2017-03-26T19:32:12.708703",
     "start_time": "2017-03-26T12:32:12.145257-07:00"
    },
    "collapsed": true
   },
   "outputs": [],
   "source": [
    "aboutme1 = pickle.load(open('aboutme.pkl', 'rb'))"
   ]
  },
  {
   "cell_type": "code",
   "execution_count": 61,
   "metadata": {
    "ExecuteTime": {
     "end_time": "2017-03-26T20:18:00.423248",
     "start_time": "2017-03-26T13:18:00.096910-07:00"
    },
    "collapsed": true
   },
   "outputs": [],
   "source": [
    "aboutme2 = pickle.load(open('aboutme2.pkl', 'rb'))"
   ]
  },
  {
   "cell_type": "code",
   "execution_count": 4,
   "metadata": {
    "ExecuteTime": {
     "end_time": "2017-03-26T19:32:21.471946",
     "start_time": "2017-03-26T12:32:21.436498-07:00"
    },
    "collapsed": false
   },
   "outputs": [
    {
     "data": {
      "text/plain": [
       "list"
      ]
     },
     "execution_count": 4,
     "metadata": {},
     "output_type": "execute_result"
    }
   ],
   "source": [
    "type(aboutme1)"
   ]
  },
  {
   "cell_type": "code",
   "execution_count": 6,
   "metadata": {
    "ExecuteTime": {
     "end_time": "2017-03-26T19:32:31.007551",
     "start_time": "2017-03-26T12:32:30.972357-07:00"
    },
    "collapsed": false
   },
   "outputs": [
    {
     "data": {
      "text/plain": [
       "550"
      ]
     },
     "execution_count": 6,
     "metadata": {},
     "output_type": "execute_result"
    }
   ],
   "source": [
    "len(aboutme1)"
   ]
  },
  {
   "cell_type": "code",
   "execution_count": 7,
   "metadata": {
    "ExecuteTime": {
     "end_time": "2017-03-26T19:32:41.393742",
     "start_time": "2017-03-26T12:32:41.363575-07:00"
    },
    "collapsed": false
   },
   "outputs": [
    {
     "data": {
      "text/plain": [
       "unicode"
      ]
     },
     "execution_count": 7,
     "metadata": {},
     "output_type": "execute_result"
    }
   ],
   "source": [
    "type(aboutme1[0])"
   ]
  },
  {
   "cell_type": "code",
   "execution_count": 8,
   "metadata": {
    "ExecuteTime": {
     "end_time": "2017-03-26T19:33:17.563070",
     "start_time": "2017-03-26T12:33:17.452575-07:00"
    },
    "collapsed": true
   },
   "outputs": [],
   "source": [
    "soup = BS(aboutme1[0], 'html.parser')"
   ]
  },
  {
   "cell_type": "code",
   "execution_count": 14,
   "metadata": {
    "ExecuteTime": {
     "end_time": "2017-03-26T19:35:11.544608",
     "start_time": "2017-03-26T12:35:11.520727-07:00"
    },
    "collapsed": false
   },
   "outputs": [
    {
     "data": {
      "text/plain": [
       "u'<!DOCTYPE html><html><head><style type=\"text/css\">@charset \"UTF-8\";[ng\\\\:cloak],[ng-cloak],[data-ng-cloak],[x-ng-cloak],.ng-cloak,.x-ng-cloak,.ng-hide:not(.ng-hide-animate){display:none !important;}ng\\\\:form{display:block;}</style>\\n    <title>Snoopy498 on Allrecipes.com</title>\\n        <meta property=\"og:title\" content=\"Follow me on Allrecipes!\">\\n\\n    <meta property=\"og:site_name\" content=\"Allrecipes\">\\n    <meta charset=\"utf-8\">\\n    <meta name=\"viewport\" content=\"width=device-width, initial-scale=1.0\">\\n            <meta property=\"og:description\" content=\"See the recipes I\\u2019m saving, making, and sharing with friends. Let\\u2019s cook together.\">\\n            <meta name=\"robots\" content=\"noodp\">\\n\\n    \\n\\n        <link id=\"canonicalUrl\" rel=\"canonical\" href=\"http://allrecipes.com/cook/64043/about-me/\">\\n        <meta property=\"og:url\" content=\"http://allrecipes.com/cook/64043/\">\\n\\n\\n    <link href=\"http://css01.media-allrecipes.com/assets/deployables/v-1.63.0.3893/main-css.bundled.Css\" rel=\"stylesheet\">'"
      ]
     },
     "execution_count": 14,
     "metadata": {},
     "output_type": "execute_result"
    }
   ],
   "source": [
    "aboutme1[0][:1000]"
   ]
  },
  {
   "cell_type": "code",
   "execution_count": 22,
   "metadata": {
    "ExecuteTime": {
     "end_time": "2017-03-26T19:52:21.869586",
     "start_time": "2017-03-26T12:52:21.843224-07:00"
    },
    "collapsed": false,
    "scrolled": false
   },
   "outputs": [],
   "source": [
    "text = [a.text for a in soup.select('li.about-me--description.ng-binding')]"
   ]
  },
  {
   "cell_type": "code",
   "execution_count": 60,
   "metadata": {
    "ExecuteTime": {
     "end_time": "2017-03-26T20:15:14.379818",
     "start_time": "2017-03-26T13:15:14.347949-07:00"
    },
    "collapsed": false
   },
   "outputs": [],
   "source": [
    "id = [a.attrs['href'].split('/')[2] for a in soup.select('div.profile-shell.full-page.ng-scope a.btns-two-small')][0]"
   ]
  },
  {
   "cell_type": "markdown",
   "metadata": {},
   "source": [
    "## Load page to members collection "
   ]
  },
  {
   "cell_type": "code",
   "execution_count": 62,
   "metadata": {
    "ExecuteTime": {
     "end_time": "2017-03-26T20:18:19.533720",
     "start_time": "2017-03-26T13:18:19.500972-07:00"
    },
    "collapsed": true
   },
   "outputs": [],
   "source": [
    "aboutme = aboutme1 + aboutme2 "
   ]
  },
  {
   "cell_type": "code",
   "execution_count": 63,
   "metadata": {
    "ExecuteTime": {
     "end_time": "2017-03-26T20:18:25.592803",
     "start_time": "2017-03-26T13:18:25.558212-07:00"
    },
    "collapsed": false
   },
   "outputs": [
    {
     "data": {
      "text/plain": [
       "815"
      ]
     },
     "execution_count": 63,
     "metadata": {},
     "output_type": "execute_result"
    }
   ],
   "source": [
    "len(aboutme)"
   ]
  },
  {
   "cell_type": "code",
   "execution_count": 65,
   "metadata": {
    "ExecuteTime": {
     "end_time": "2017-03-26T20:22:42.362822",
     "start_time": "2017-03-26T13:21:33.834222-07:00"
    },
    "collapsed": false
   },
   "outputs": [],
   "source": [
    "soup_list = [BS(a, 'html.parser') for a in aboutme]"
   ]
  },
  {
   "cell_type": "code",
   "execution_count": 66,
   "metadata": {
    "ExecuteTime": {
     "end_time": "2017-03-26T20:39:05.479057",
     "start_time": "2017-03-26T13:38:59.749050-07:00"
    },
    "collapsed": true
   },
   "outputs": [],
   "source": [
    "# List comprehension over \n",
    "text_list = [[a.text for a in s.select('li.about-me--description.ng-binding')] for s in soup_list]"
   ]
  },
  {
   "cell_type": "code",
   "execution_count": 71,
   "metadata": {
    "ExecuteTime": {
     "end_time": "2017-03-26T20:42:18.286411",
     "start_time": "2017-03-26T13:42:16.004535-07:00"
    },
    "collapsed": false
   },
   "outputs": [],
   "source": [
    "id_list = [[a.attrs['href'].split('/')[2] for a in s.select('div.profile-shell.full-page.ng-scope a.btns-two-small')] for s in soup_list]"
   ]
  },
  {
   "cell_type": "code",
   "execution_count": 78,
   "metadata": {
    "ExecuteTime": {
     "end_time": "2017-03-26T20:44:03.395133",
     "start_time": "2017-03-26T13:44:03.361664-07:00"
    },
    "collapsed": false
   },
   "outputs": [
    {
     "data": {
      "text/plain": [
       "2"
      ]
     },
     "execution_count": 78,
     "metadata": {},
     "output_type": "execute_result"
    }
   ],
   "source": [
    "sum([len(a)== 0 for a in id_list])"
   ]
  },
  {
   "cell_type": "code",
   "execution_count": 85,
   "metadata": {
    "ExecuteTime": {
     "end_time": "2017-03-26T20:45:46.976485",
     "start_time": "2017-03-26T13:45:46.941106-07:00"
    },
    "collapsed": false
   },
   "outputs": [
    {
     "data": {
      "text/plain": [
       "160"
      ]
     },
     "execution_count": 85,
     "metadata": {},
     "output_type": "execute_result"
    }
   ],
   "source": [
    "id_list[145:].index([])"
   ]
  },
  {
   "cell_type": "code",
   "execution_count": 84,
   "metadata": {
    "ExecuteTime": {
     "end_time": "2017-03-26T20:45:24.238736",
     "start_time": "2017-03-26T13:45:24.200002-07:00"
    },
    "collapsed": false
   },
   "outputs": [
    {
     "data": {
      "text/plain": [
       "[]"
      ]
     },
     "execution_count": 84,
     "metadata": {},
     "output_type": "execute_result"
    }
   ],
   "source": [
    "id_list[144]"
   ]
  },
  {
   "cell_type": "code",
   "execution_count": 86,
   "metadata": {
    "ExecuteTime": {
     "end_time": "2017-03-26T20:46:03.377404",
     "start_time": "2017-03-26T13:46:03.341429-07:00"
    },
    "collapsed": false
   },
   "outputs": [
    {
     "data": {
      "text/plain": [
       "[]"
      ]
     },
     "execution_count": 86,
     "metadata": {},
     "output_type": "execute_result"
    }
   ],
   "source": [
    "id_list[305]"
   ]
  },
  {
   "cell_type": "code",
   "execution_count": 88,
   "metadata": {
    "ExecuteTime": {
     "end_time": "2017-03-26T20:47:08.551775",
     "start_time": "2017-03-26T13:47:08.523186-07:00"
    },
    "collapsed": false
   },
   "outputs": [
    {
     "data": {
      "text/plain": [
       "815"
      ]
     },
     "execution_count": 88,
     "metadata": {},
     "output_type": "execute_result"
    }
   ],
   "source": [
    "len(text_list)"
   ]
  },
  {
   "cell_type": "code",
   "execution_count": 89,
   "metadata": {
    "ExecuteTime": {
     "end_time": "2017-03-26T20:47:14.001764",
     "start_time": "2017-03-26T13:47:13.962026-07:00"
    },
    "collapsed": false
   },
   "outputs": [
    {
     "data": {
      "text/plain": [
       "815"
      ]
     },
     "execution_count": 89,
     "metadata": {},
     "output_type": "execute_result"
    }
   ],
   "source": [
    "len(id_list)"
   ]
  },
  {
   "cell_type": "code",
   "execution_count": 103,
   "metadata": {
    "ExecuteTime": {
     "end_time": "2017-03-26T20:59:11.450524",
     "start_time": "2017-03-26T13:59:11.413939-07:00"
    },
    "collapsed": false
   },
   "outputs": [
    {
     "data": {
      "text/plain": [
       "815"
      ]
     },
     "execution_count": 103,
     "metadata": {},
     "output_type": "execute_result"
    }
   ],
   "source": [
    "len(text_list)"
   ]
  },
  {
   "cell_type": "code",
   "execution_count": 90,
   "metadata": {
    "ExecuteTime": {
     "end_time": "2017-03-26T20:52:20.892473",
     "start_time": "2017-03-26T13:52:20.825072-07:00"
    },
    "collapsed": false
   },
   "outputs": [
    {
     "data": {
      "text/plain": [
       "[u'14812504', u'14812504']"
      ]
     },
     "execution_count": 90,
     "metadata": {},
     "output_type": "execute_result"
    }
   ],
   "source": [
    "id_list[10]"
   ]
  },
  {
   "cell_type": "code",
   "execution_count": 107,
   "metadata": {
    "ExecuteTime": {
     "end_time": "2017-03-26T20:59:32.842920",
     "start_time": "2017-03-26T13:59:32.807204-07:00"
    },
    "collapsed": false
   },
   "outputs": [
    {
     "data": {
      "text/plain": [
       "[u'I detest recipes that call for things like boxed cake mix, can of cream of \"fill in the blank\" soup, onion dip mix, etc.. I do wish they would exile those kinds of \"recipes\" to a separate section so that I don\\'t ever have to waste my time reading a recipe that would not be of interest to me. I am constantly on the lookout for side dishes that are healthy, not sweet and not startchy. I pretty much fail.  I noticed a collard greens recipe but I\\'m sure collard greens are bitter. Don\\'t people know bitter is a bad things? (joking, I know it\\'s healthy). I mean bitter is used to describe things in a bad way. I am very bitter about this. I collect vintage cookie cutters. The only one I know of that I do not have is this rare fish cookie cutter. If anyone has one for sale, please do contact me.  Here is a YouTube video of that elusive cookie cutter.http://www.youtube.com/watch?v=5-oZmQO5oMg',\n",
       " u'I detest recipes that call for things like boxed cake mix, can of cream of \"fill in the blank\" soup, onion dip mix, etc.. I do wish they would exile those kinds of \"recipes\" to a separate section so that I don\\'t ever have to waste my time reading a recipe that would not be of interest to me. I am constantly on the lookout for side dishes that are healthy, not sweet and not startchy. I pretty much fail.  I noticed a collard greens recipe but I\\'m sure collard greens are bitter. Don\\'t people know bitter is a bad things? (joking, I know it\\'s healthy). I mean bitter is used to describe things in a bad way. I am very bitter about this. I collect vintage cookie cutters. The only one I know of that I do not have is this rare fish cookie cutter. If anyone has one for sale, please do contact me.  Here is a YouTube video of that elusive cookie cutter.http://www.youtube.com/watch?v=5-oZmQO5oMg']"
      ]
     },
     "execution_count": 107,
     "metadata": {},
     "output_type": "execute_result"
    }
   ],
   "source": [
    "text_list[0]"
   ]
  },
  {
   "cell_type": "code",
   "execution_count": 121,
   "metadata": {
    "ExecuteTime": {
     "end_time": "2017-03-26T21:04:30.741632",
     "start_time": "2017-03-26T14:04:30.699902-07:00"
    },
    "collapsed": false
   },
   "outputs": [],
   "source": [
    "paired = []\n",
    "def pair_id_text():\n",
    "    for i,p in enumerate(text_list): \n",
    "        if id_list[i] == []: \n",
    "            id = \"\"\n",
    "        else: \n",
    "            id = id_list[i][0]\n",
    "        if p == []: \n",
    "            t = \"\"\n",
    "        else: \n",
    "            t = p[0]\n",
    "        paired.append((id, t))\n",
    "    \n",
    "pair_id_text()"
   ]
  },
  {
   "cell_type": "code",
   "execution_count": 124,
   "metadata": {
    "ExecuteTime": {
     "end_time": "2017-03-26T21:04:42.673477",
     "start_time": "2017-03-26T14:04:42.637264-07:00"
    },
    "collapsed": false
   },
   "outputs": [
    {
     "data": {
      "text/plain": [
       "(u'5049040',\n",
       " u'I was born in the city of Oshawa and lived there till I was 19.  Both DH and I were married in 1977 and had two wonderful sons.  LOL adults now and still living at home.')"
      ]
     },
     "execution_count": 124,
     "metadata": {},
     "output_type": "execute_result"
    }
   ],
   "source": [
    "paired[2]"
   ]
  },
  {
   "cell_type": "code",
   "execution_count": 131,
   "metadata": {
    "ExecuteTime": {
     "end_time": "2017-03-26T21:09:00.405176",
     "start_time": "2017-03-26T14:09:00.317950-07:00"
    },
    "collapsed": true
   },
   "outputs": [],
   "source": [
    "members_coll.find_one_and_update?"
   ]
  },
  {
   "cell_type": "code",
   "execution_count": 132,
   "metadata": {
    "ExecuteTime": {
     "end_time": "2017-03-26T22:04:15.946688",
     "start_time": "2017-03-26T15:04:15.864814-07:00"
    },
    "collapsed": false
   },
   "outputs": [
    {
     "data": {
      "text/plain": [
       "(u'17117019', u'')"
      ]
     },
     "execution_count": 132,
     "metadata": {},
     "output_type": "execute_result"
    }
   ],
   "source": [
    "paired[1]"
   ]
  },
  {
   "cell_type": "code",
   "execution_count": 135,
   "metadata": {
    "ExecuteTime": {
     "end_time": "2017-03-26T22:09:54.691906",
     "start_time": "2017-03-26T15:09:37.445350-07:00"
    },
    "collapsed": false
   },
   "outputs": [
    {
     "name": "stdout",
     "output_type": "stream",
     "text": [
      " members with about me page: 1\n",
      "members with about me page: 2\n",
      "members with about me page: 3\n",
      "members with about me page: 4\n",
      "members with about me page: 5\n",
      "members with about me page: 6\n",
      "members with about me page: 7\n",
      "members with about me page: 8\n",
      "members with about me page: 9\n",
      "members with about me page: 10\n",
      "members with about me page: 11\n",
      "members with about me page: 12\n",
      "members with about me page: 13\n",
      "members with about me page: 14\n",
      "members with about me page: 15\n",
      "members with about me page: 16\n",
      "members with about me page: 17\n",
      "members with about me page: 18\n",
      "members with about me page: 19\n",
      "members with about me page: 20\n",
      "members with about me page: 21\n",
      "members with about me page: 22\n",
      "members with about me page: 23\n",
      "members with about me page: 24\n",
      "members with about me page: 25\n",
      "members with about me page: 26\n",
      "members with about me page: 27\n",
      "members with about me page: 28\n",
      "members with about me page: 29\n",
      "members with about me page: 30\n",
      "members with about me page: 31\n",
      "members with about me page: 32\n",
      "members with about me page: 33\n",
      "members with about me page: 34\n",
      "members with about me page: 35\n",
      "members with about me page: 36\n",
      "members with about me page: 37\n",
      "members with about me page: 38\n",
      "members with about me page: 39\n",
      "members with about me page: 40\n",
      "members with about me page: 41\n",
      "members with about me page: 42\n",
      "members with about me page: 43\n",
      "members with about me page: 44\n",
      "members with about me page: 45\n",
      "members with about me page: 46\n",
      "members with about me page: 47\n",
      "members with about me page: 48\n",
      "members with about me page: 49\n",
      "members with about me page: 50\n",
      "members with about me page: 51\n",
      "members with about me page: 52\n",
      "members with about me page: 53\n",
      "members with about me page: 54\n",
      "members with about me page: 55\n",
      "members with about me page: 56\n",
      "members with about me page: 57\n",
      "members with about me page: 58\n",
      "members with about me page: 59\n",
      "members with about me page: 60\n",
      "members with about me page: 61\n",
      "members with about me page: 62\n",
      "members with about me page: 63\n",
      "members with about me page: 64\n",
      "members with about me page: 65\n",
      "members with about me page: 66\n",
      "members with about me page: 67\n",
      "members with about me page: 68\n",
      "members with about me page: 69\n",
      "members with about me page: 70\n",
      "members with about me page: 71\n",
      "members with about me page: 72\n",
      "members with about me page: 73\n",
      "members with about me page: 74\n",
      "members with about me page: 75\n",
      "members with about me page: 76\n",
      "members with about me page: 77\n",
      "members with about me page: 78\n",
      "members with about me page: 79\n",
      "members with about me page: 80\n",
      "members with about me page: 81\n",
      "members with about me page: 82\n",
      "members with about me page: 83\n",
      "members with about me page: 84\n",
      "members with about me page: 85\n",
      "members with about me page: 86\n",
      "members with about me page: 87\n",
      "members with about me page: 88\n",
      "members with about me page: 89\n",
      "members with about me page: 90\n",
      "members with about me page: 91\n",
      "members with about me page: 92\n",
      "members with about me page: 93\n",
      "members with about me page: 94\n",
      "members with about me page: 95\n",
      "members with about me page: 96\n",
      "members with about me page: 97\n",
      "members with about me page: 98\n",
      "members with about me page: 99\n",
      "members with about me page: 100\n",
      "members with about me page: 101\n",
      "members with about me page: 102\n",
      "members with about me page: 103\n",
      "members with about me page: 104\n",
      "members with about me page: 105\n",
      "members with about me page: 106\n",
      "members with about me page: 107\n",
      "members with about me page: 108\n",
      "members with about me page: 109\n",
      "members with about me page: 110\n",
      "members with about me page: 111\n",
      "members with about me page: 112\n",
      "members with about me page: 113\n",
      "members with about me page: 114\n",
      "members with about me page: 115\n",
      "members with about me page: 116\n",
      "members with about me page: 117\n",
      "members with about me page: 118\n",
      "members with about me page: 119\n",
      "members with about me page: 120\n",
      "members with about me page: 121\n",
      "members with about me page: 122\n",
      "members with about me page: 123\n",
      "members with about me page: 124\n",
      "members with about me page: 125\n",
      "members with about me page: 126\n",
      "members with about me page: 127\n",
      "members with about me page: 128\n",
      "members with about me page: 129\n",
      "members with about me page: 130\n",
      "members with about me page: 131\n",
      "members with about me page: 132\n",
      "members with about me page: 133\n",
      "members with about me page: 134\n",
      "members with about me page: 135\n",
      "members with about me page: 136\n",
      "members with about me page: 137\n",
      "members with about me page: 138\n",
      "members with about me page: 139\n",
      "members with about me page: 140\n",
      "members with about me page: 141\n",
      "members with about me page: 142\n",
      "members with about me page: 143\n",
      "members with about me page: 144\n",
      "members with about me page: 145\n",
      "members with about me page: 146\n",
      "members with about me page: 147\n",
      "members with about me page: 148\n",
      "members with about me page: 149\n",
      "members with about me page: 150\n",
      "members with about me page: 151\n",
      "members with about me page: 152\n",
      "members with about me page: 153\n",
      "members with about me page: 154\n",
      "members with about me page: 155\n",
      "members with about me page: 156\n",
      "members with about me page: 157\n",
      "members with about me page: 158\n",
      "members with about me page: 159\n",
      "members with about me page: 160\n",
      "members with about me page: 161\n",
      "members with about me page: 162\n",
      "members with about me page: 163\n",
      "members with about me page: 164\n",
      "members with about me page: 165\n",
      "members with about me page: 166\n",
      "members with about me page: 167\n",
      "members with about me page: 168\n",
      "members with about me page: 169\n",
      "members with about me page: 170\n",
      "members with about me page: 171\n",
      "members with about me page: 172\n",
      "members with about me page: 173\n",
      "members with about me page: 174\n",
      "members with about me page: 175\n",
      "members with about me page: 176\n",
      "members with about me page: 177\n",
      "members with about me page: 178\n",
      "members with about me page: 179\n",
      "members with about me page: 180\n",
      "members with about me page: 181\n",
      "members with about me page: 182\n",
      "members with about me page: 183\n",
      "members with about me page: 184\n",
      "members with about me page: 185\n",
      "members with about me page: 186\n",
      "members with about me page: 187\n",
      "members with about me page: 188\n",
      "members with about me page: 189\n",
      "members with about me page: 190\n",
      "members with about me page: 191\n",
      "members with about me page: 192\n",
      "members with about me page: 193\n",
      "members with about me page: 194\n",
      "members with about me page: 195\n",
      "members with about me page: 196\n",
      "members with about me page: 197\n",
      "members with about me page: 198\n",
      "members with about me page: 199\n",
      "members with about me page: 200\n",
      "members with about me page: 201\n",
      "members with about me page: 202\n",
      "members with about me page: 203\n",
      "members with about me page: 204\n",
      "members with about me page: 205\n",
      "members with about me page: 206\n",
      "members with about me page: 207\n",
      "members with about me page: 208\n",
      "members with about me page: 209\n",
      "members with about me page: 210\n",
      "members with about me page: 211\n",
      "members with about me page: 212\n",
      "members with about me page: 213\n",
      "members with about me page: 214\n",
      "members with about me page: 215\n",
      "members with about me page: 216\n",
      "members with about me page: 217\n",
      "members with about me page: 218\n",
      "members with about me page: 219\n",
      "members with about me page: 220\n",
      "members with about me page: 221\n",
      "members with about me page: 222\n",
      "members with about me page: 223\n",
      "members with about me page: 224\n",
      "members with about me page: 225\n",
      "members with about me page: 226\n",
      "members with about me page: 227\n",
      "members with about me page: 228\n",
      "members with about me page: 229\n",
      "members with about me page: 230\n",
      "members with about me page: 231\n",
      "members with about me page: 232\n",
      "members with about me page: 233\n",
      "members with about me page: 234\n",
      "members with about me page: 235\n",
      "members with about me page: 236\n",
      "members with about me page: 237\n",
      "members with about me page: 238\n",
      "members with about me page: 239\n",
      "members with about me page: 240\n",
      "members with about me page: 241\n",
      "members with about me page: 242\n",
      "members with about me page: 243\n",
      "members with about me page: 244\n",
      "members with about me page: 245\n",
      "members with about me page: 246\n",
      "members with about me page: 247\n",
      "members with about me page: 248\n",
      "members with about me page: 249\n",
      "members with about me page: 250\n",
      "members with about me page: 251\n",
      "members with about me page: 252\n",
      "members with about me page: 253\n",
      "members with about me page: 254\n",
      "members with about me page: 255\n",
      "members with about me page: 256\n",
      "members with about me page: 257\n",
      "members with about me page: 258\n",
      "members with about me page: 259\n",
      "members with about me page: 260\n",
      "members with about me page: 261\n",
      "members with about me page: 262\n",
      "members with about me page: 263\n",
      "members with about me page: 264\n",
      "members with about me page: 265\n",
      "members with about me page: 266\n",
      "members with about me page: 267\n",
      "members with about me page: 268\n",
      "members with about me page: 269\n",
      "members with about me page: 270\n",
      "members with about me page: 271\n",
      "members with about me page: 272\n",
      "members with about me page: 273\n",
      "members with about me page: 274\n",
      "members with about me page: 275\n",
      "members with about me page: 276\n",
      "members with about me page: 277\n",
      "members with about me page: 278\n",
      "members with about me page: 279\n",
      "members with about me page: 280\n",
      "members with about me page: 281\n",
      "members with about me page: 282\n",
      "members with about me page: 283\n",
      "members with about me page: 284\n",
      "members with about me page: 285\n",
      "members with about me page: 286\n",
      "members with about me page: 287\n",
      "members with about me page: 288\n",
      "members with about me page: 289\n",
      "members with about me page: 290\n",
      "members with about me page: 291\n",
      "members with about me page: 292\n",
      "members with about me page: 293\n",
      "members with about me page: 294\n",
      "members with about me page: 295\n",
      "members with about me page: 296\n",
      "members with about me page: 297\n",
      "members with about me page: 298\n",
      "members with about me page: 299\n",
      "members with about me page: 300\n",
      "members with about me page: 301\n",
      "members with about me page: 302\n",
      "members with about me page: 303\n",
      "members with about me page: 304\n",
      "members with about me page: 305\n",
      "members with about me page: 305\n",
      "members with about me page: 306\n",
      "members with about me page: 307\n",
      "members with about me page: 308\n",
      "members with about me page: 309\n",
      "members with about me page: 310\n",
      "members with about me page: 311\n",
      "members with about me page: 312\n",
      "members with about me page: 313\n",
      "members with about me page: 314\n",
      "members with about me page: 315\n",
      "members with about me page: 316\n",
      "members with about me page: 317\n",
      "members with about me page: 318\n",
      "members with about me page: 319\n",
      "members with about me page: 320\n",
      "members with about me page: 321\n",
      "members with about me page: 322\n",
      "members with about me page: 323\n",
      "members with about me page: 324\n",
      "members with about me page: 325\n",
      "members with about me page: 326\n",
      "members with about me page: 327\n",
      "members with about me page: 328\n",
      "members with about me page: 329\n",
      "members with about me page: 330\n",
      "members with about me page: 331\n",
      "members with about me page: 332\n",
      "members with about me page: 333\n",
      "members with about me page: 334\n",
      "members with about me page: 335\n",
      "members with about me page: 336\n",
      "members with about me page: 337\n",
      "members with about me page: 338\n",
      "members with about me page: 339\n",
      "members with about me page: 340\n",
      "members with about me page: 341\n",
      "members with about me page: 342\n",
      "members with about me page: 343\n",
      "members with about me page: 344\n",
      "members with about me page: 345\n",
      "members with about me page: 346\n",
      "members with about me page: 347\n",
      "members with about me page: 348\n",
      "members with about me page: 349\n",
      "members with about me page: 350\n",
      "members with about me page: 351\n",
      "members with about me page: 352\n",
      "members with about me page: 353\n",
      "members with about me page: 354\n",
      "members with about me page: 355\n",
      "members with about me page: 356\n",
      "members with about me page: 357\n",
      "members with about me page: 358\n",
      "members with about me page: 359\n",
      "members with about me page: 360\n",
      "members with about me page: 361\n",
      "members with about me page: 362\n",
      "members with about me page: 363\n",
      "members with about me page: 364\n",
      "members with about me page: 365\n",
      "members with about me page: 366\n",
      "members with about me page: 367\n",
      "members with about me page: 368\n",
      "members with about me page: 369\n",
      "members with about me page: 370\n",
      "members with about me page: 371\n",
      "members with about me page: 372\n",
      "members with about me page: 373\n",
      "members with about me page: 374\n",
      "members with about me page: 375\n",
      "members with about me page: 376\n",
      "members with about me page: 377\n",
      "members with about me page: 378\n",
      "members with about me page: 379\n",
      "members with about me page: 380\n",
      "members with about me page: 381\n",
      "members with about me page: 382\n",
      "members with about me page: 383\n",
      "members with about me page: 384\n",
      "members with about me page: 385\n",
      "members with about me page: 386\n",
      "members with about me page: 387\n",
      "members with about me page: 388\n",
      "members with about me page: 389\n",
      "members with about me page: 390\n",
      "members with about me page: 391\n",
      "members with about me page: 392\n",
      "members with about me page: 393\n",
      "members with about me page: 394\n",
      "members with about me page: 395\n",
      "members with about me page: 396\n",
      "members with about me page: 397\n",
      "members with about me page: 398\n",
      "members with about me page: 399\n",
      "members with about me page: 400\n",
      "members with about me page: 401\n",
      "members with about me page: 402\n",
      "members with about me page: 403\n",
      "members with about me page: 404\n",
      "members with about me page: 405\n",
      "members with about me page: 406\n",
      "members with about me page: 407\n",
      "members with about me page: 408\n",
      "members with about me page: 409\n",
      "members with about me page: 410\n",
      "members with about me page: 411\n",
      "members with about me page: 412\n",
      "members with about me page: 413\n",
      "members with about me page: 414\n",
      "members with about me page: 415\n",
      "members with about me page: 416\n",
      "members with about me page: 417\n",
      "members with about me page: 418\n",
      "members with about me page: 419\n",
      "members with about me page: 420\n",
      "members with about me page: 421\n",
      "members with about me page: 422\n",
      "members with about me page: 423\n",
      "members with about me page: 424\n",
      "members with about me page: 425\n",
      "members with about me page: 426\n",
      "members with about me page: 427\n",
      "members with about me page: 428\n",
      "members with about me page: 429\n",
      "members with about me page: 430\n",
      "members with about me page: 431\n",
      "members with about me page: 432\n",
      "members with about me page: 433\n",
      "members with about me page: 434\n",
      "members with about me page: 435\n",
      "members with about me page: 436\n",
      "members with about me page: 437\n",
      "members with about me page: 438\n",
      "members with about me page: 439\n",
      "members with about me page: 440\n",
      "members with about me page: 441\n",
      "members with about me page: 442\n",
      "members with about me page: 443\n",
      "members with about me page: 444\n",
      "members with about me page: 445\n",
      "members with about me page: 446\n",
      "members with about me page: 447\n",
      "members with about me page: 448\n",
      "members with about me page: 449\n",
      "members with about me page: 450\n",
      "members with about me page: 451\n",
      "members with about me page: 452\n",
      "members with about me page: 453\n",
      "members with about me page: 454\n",
      "members with about me page: 455\n",
      "members with about me page: 456\n",
      "members with about me page: 457\n",
      "members with about me page: 458\n",
      "members with about me page: 459\n",
      "members with about me page: 460\n",
      "members with about me page: 461\n",
      "members with about me page: 462\n",
      "members with about me page: 463\n",
      "members with about me page: 464\n",
      "members with about me page: 465\n",
      "members with about me page: 466\n",
      "members with about me page: 467\n",
      "members with about me page: 468\n",
      "members with about me page: 469\n",
      "members with about me page: 470\n",
      "members with about me page: 471\n",
      "members with about me page: 472\n",
      "members with about me page: 473\n",
      "members with about me page: 474\n",
      "members with about me page: 475\n",
      "members with about me page: 476\n",
      "members with about me page: 477\n",
      "members with about me page: 478\n",
      "members with about me page: 479\n",
      "members with about me page: 480\n",
      "members with about me page: 481\n",
      "members with about me page: 482\n",
      "members with about me page: 483\n",
      "members with about me page: 484\n",
      "members with about me page: 485\n",
      "members with about me page: 486\n",
      "members with about me page: 487\n",
      "members with about me page: 488\n",
      "members with about me page: 489\n",
      "members with about me page: 490\n",
      "members with about me page: 491\n",
      "members with about me page: 492\n",
      "members with about me page: 493\n",
      "members with about me page: 494\n",
      "members with about me page: 495\n",
      "members with about me page: 496\n",
      "members with about me page: 497\n",
      "members with about me page: 498\n",
      "members with about me page: 499\n",
      "members with about me page: 500\n",
      "members with about me page: 501\n",
      "members with about me page: 502\n",
      "members with about me page: 503\n",
      "members with about me page: 504\n",
      "members with about me page: 505\n",
      "members with about me page: 506\n",
      "members with about me page: 507\n",
      "members with about me page: 508\n",
      "members with about me page: 509\n",
      "members with about me page: 510\n",
      "members with about me page: 511\n",
      "members with about me page: 512\n",
      "members with about me page: 513\n",
      "members with about me page: 514\n",
      "members with about me page: 515\n",
      "members with about me page: 516\n",
      "members with about me page: 517\n",
      "members with about me page: 518\n",
      "members with about me page: 519\n",
      "members with about me page: 520\n",
      "members with about me page: 521\n",
      "members with about me page: 522\n",
      "members with about me page: 523\n",
      "members with about me page: 524\n",
      "members with about me page: 525\n",
      "members with about me page: 526\n",
      "members with about me page: 527\n",
      "members with about me page: 528\n",
      "members with about me page: 529\n",
      "members with about me page: 530\n",
      "members with about me page: 531\n",
      "members with about me page: 532\n",
      "members with about me page: 533\n",
      "members with about me page: 534\n",
      "members with about me page: 535\n",
      "members with about me page: 536\n",
      "members with about me page: 537\n",
      "members with about me page: 538\n",
      "members with about me page: 539\n",
      "members with about me page: 540\n",
      "members with about me page: 541\n",
      "members with about me page: 542\n",
      "members with about me page: 543\n",
      "members with about me page: 544\n",
      "members with about me page: 545\n",
      "members with about me page: 546\n",
      "members with about me page: 547\n",
      "members with about me page: 548\n",
      "members with about me page: 549\n",
      "members with about me page: 550\n",
      "members with about me page: 551\n",
      "members with about me page: 552\n",
      "members with about me page: 553\n",
      "members with about me page: 554\n",
      "members with about me page: 555\n",
      "members with about me page: 556\n",
      "members with about me page: 557\n",
      "members with about me page: 558\n",
      "members with about me page: 559\n",
      "members with about me page: 560\n",
      "members with about me page: 561\n",
      "members with about me page: 562\n",
      "members with about me page: 563\n",
      "members with about me page: 564\n",
      "members with about me page: 565\n",
      "members with about me page: 566\n",
      "members with about me page: 567\n",
      "members with about me page: 568\n",
      "members with about me page: 569\n",
      "members with about me page: 570\n",
      "members with about me page: 571\n",
      "members with about me page: 572\n",
      "members with about me page: 573\n",
      "members with about me page: 574\n",
      "members with about me page: 575\n",
      "members with about me page: 576\n",
      "members with about me page: 577\n",
      "members with about me page: 578\n",
      "members with about me page: 579\n",
      "members with about me page: 580\n",
      "members with about me page: 581\n",
      "members with about me page: 582\n",
      "members with about me page: 583\n",
      "members with about me page: 584\n",
      "members with about me page: 585\n",
      "members with about me page: 586\n",
      "members with about me page: 587\n",
      "members with about me page: 588\n",
      "members with about me page: 589\n",
      "members with about me page: 590\n",
      "members with about me page: 591\n",
      "members with about me page: 592\n",
      "members with about me page: 593\n",
      "members with about me page: 594\n",
      "members with about me page: 595\n",
      "members with about me page: 596\n",
      "members with about me page: 597\n",
      "members with about me page: 598\n",
      "members with about me page: 599\n",
      "members with about me page: 600\n",
      "members with about me page: 601\n",
      "members with about me page: 602\n",
      "members with about me page: 603\n",
      "members with about me page: 604\n",
      "members with about me page: 605\n",
      "members with about me page: 606\n",
      "members with about me page: 607\n",
      "members with about me page: 608\n",
      "members with about me page: 609\n",
      "members with about me page: 610\n",
      "members with about me page: 611\n",
      "members with about me page: 612\n",
      "members with about me page: 613\n",
      "members with about me page: 614\n",
      "members with about me page: 615\n",
      "members with about me page: 616\n",
      "members with about me page: 617\n",
      "members with about me page: 618\n",
      "members with about me page: 619\n",
      "members with about me page: 620\n",
      "members with about me page: 621\n",
      "members with about me page: 622\n",
      "members with about me page: 623\n",
      "members with about me page: 624\n",
      "members with about me page: 625\n",
      "members with about me page: 626\n",
      "members with about me page: 627\n",
      "members with about me page: 628\n",
      "members with about me page: 629\n",
      "members with about me page: 630\n",
      "members with about me page: 631\n",
      "members with about me page: 632\n",
      "members with about me page: 633\n",
      "members with about me page: 634\n",
      "members with about me page: 635\n",
      "members with about me page: 636\n",
      "members with about me page: 637\n",
      "members with about me page: 638\n",
      "members with about me page: 639\n",
      "members with about me page: 640\n",
      "members with about me page: 641\n",
      "members with about me page: 642\n",
      "members with about me page: 643\n",
      "members with about me page: 644\n",
      "members with about me page: 645\n",
      "members with about me page: 646\n",
      "members with about me page: 647\n",
      "members with about me page: 648\n",
      "members with about me page: 649\n",
      "members with about me page: 650\n",
      "members with about me page: 651\n",
      "members with about me page: 652\n",
      "members with about me page: 653\n",
      "members with about me page: 654\n",
      "members with about me page: 655\n",
      "members with about me page: 656\n",
      "members with about me page: 657\n",
      "members with about me page: 658\n",
      "members with about me page: 659\n",
      "members with about me page: 660\n",
      "members with about me page: 661\n",
      "members with about me page: 662\n",
      "members with about me page: 663\n",
      "members with about me page: 664\n",
      "members with about me page: 665\n",
      "members with about me page: 666\n",
      "members with about me page: 667\n",
      "members with about me page: 668\n",
      "members with about me page: 669\n",
      "members with about me page: 670\n",
      "members with about me page: 671\n",
      "members with about me page: 672\n",
      "members with about me page: 673\n",
      "members with about me page: 674\n",
      "members with about me page: 675\n",
      "members with about me page: 676\n",
      "members with about me page: 677\n",
      "members with about me page: 678\n",
      "members with about me page: 679\n",
      "members with about me page: 680\n",
      "members with about me page: 681\n",
      "members with about me page: 682\n",
      "members with about me page: 683\n",
      "members with about me page: 684\n",
      "members with about me page: 685\n",
      "members with about me page: 686\n",
      "members with about me page: 687\n",
      "members with about me page: 688\n",
      "members with about me page: 689\n",
      "members with about me page: 690\n",
      "members with about me page: 691\n",
      "members with about me page: 692\n",
      "members with about me page: 693\n",
      "members with about me page: 694\n",
      "members with about me page: 695\n",
      "members with about me page: 696\n",
      "members with about me page: 697\n",
      "members with about me page: 698\n",
      "members with about me page: 699\n",
      "members with about me page: 700\n",
      "members with about me page: 701\n",
      "members with about me page: 702\n",
      "members with about me page: 703\n",
      "members with about me page: 704\n",
      "members with about me page: 705\n",
      "members with about me page: 706\n",
      "members with about me page: 707\n",
      "members with about me page: 708\n",
      "members with about me page: 709\n",
      "members with about me page: 710\n",
      "members with about me page: 711\n",
      "members with about me page: 712\n",
      "members with about me page: 713\n",
      "members with about me page: 714\n",
      "members with about me page: 715\n",
      "members with about me page: 716\n",
      "members with about me page: 717\n",
      "members with about me page: 718\n",
      "members with about me page: 719\n",
      "members with about me page: 720\n",
      "members with about me page: 721\n",
      "members with about me page: 722\n",
      "members with about me page: 723\n",
      "members with about me page: 724\n",
      "members with about me page: 725\n",
      "members with about me page: 726\n",
      "members with about me page: 727\n",
      "members with about me page: 728\n",
      "members with about me page: 729\n",
      "members with about me page: 730\n",
      "members with about me page: 731\n",
      "members with about me page: 732\n",
      "members with about me page: 733\n",
      "members with about me page: 734\n",
      "members with about me page: 735\n",
      "members with about me page: 736\n",
      "members with about me page: 737\n",
      "members with about me page: 738\n",
      "members with about me page: 739\n",
      "members with about me page: 740\n",
      "members with about me page: 741\n",
      "members with about me page: 742\n",
      "members with about me page: 743\n",
      "members with about me page: 744\n",
      "members with about me page: 745\n",
      "members with about me page: 746\n",
      "members with about me page: 747\n",
      "members with about me page: 748\n",
      "members with about me page: 749\n",
      "members with about me page: 750\n",
      "members with about me page: 751\n",
      "members with about me page: 752\n",
      "members with about me page: 753\n",
      "members with about me page: 754\n",
      "members with about me page: 755\n",
      "members with about me page: 756\n",
      "members with about me page: 757\n",
      "members with about me page: 758\n",
      "members with about me page: 759\n",
      "members with about me page: 760\n",
      "members with about me page: 761\n",
      "members with about me page: 762\n",
      "members with about me page: 763\n",
      "members with about me page: 764\n",
      "members with about me page: 765\n",
      "members with about me page: 766\n",
      "members with about me page: 767\n",
      "members with about me page: 768\n",
      "members with about me page: 769\n",
      "members with about me page: 770\n",
      "members with about me page: 771\n",
      "members with about me page: 772\n",
      "members with about me page: 773\n",
      "members with about me page: 774\n",
      "members with about me page: 775\n",
      "members with about me page: 776\n",
      "members with about me page: 777\n",
      "members with about me page: 778\n",
      "members with about me page: 779\n",
      "members with about me page: 780\n",
      "members with about me page: 781\n",
      "members with about me page: 782\n",
      "members with about me page: 783\n",
      "members with about me page: 784\n",
      "members with about me page: 785\n",
      "members with about me page: 786\n",
      "members with about me page: 787\n",
      "members with about me page: 788\n",
      "members with about me page: 789\n",
      "members with about me page: 790\n",
      "members with about me page: 791\n",
      "members with about me page: 792\n",
      "members with about me page: 793\n",
      "members with about me page: 794\n",
      "members with about me page: 795\n",
      "members with about me page: 796\n",
      "members with about me page: 797\n",
      "members with about me page: 798\n",
      "members with about me page: 799\n",
      "members with about me page: 800\n",
      "members with about me page: 801\n",
      "members with about me page: 802\n",
      "members with about me page: 803\n",
      "members with about me page: 804\n",
      "members with about me page: 805\n",
      "members with about me page: 806\n",
      "members with about me page: 807\n",
      "members with about me page: 808\n",
      "members with about me page: 809\n",
      "members with about me page: 810\n",
      "members with about me page: 811\n",
      "members with about me page: 812\n",
      "members with about me page: 813\n",
      "members with about me page: 814\n"
     ]
    }
   ],
   "source": [
    "for a in paired: \n",
    "    members_coll.find_one_and_update({\"member_ID\": a[0]}, \n",
    "                                    {\"$set\": {\"aboutme\": a[1]}}, \n",
    "                                    upsert = True)\n",
    "    print \"members with about me page:\",members_coll.find({\"aboutme\": {\"$exists\": True}}).count()"
   ]
  },
  {
   "cell_type": "code",
   "execution_count": 144,
   "metadata": {
    "ExecuteTime": {
     "end_time": "2017-03-26T22:18:20.697912",
     "start_time": "2017-03-26T15:18:20.518620-07:00"
    },
    "collapsed": false
   },
   "outputs": [],
   "source": [
    "no_aboutme_list = [a['member_ID'] for a in members_coll.find({\"aboutme\": {\"$exists\": False}},[\"member_ID\"])]"
   ]
  },
  {
   "cell_type": "code",
   "execution_count": 162,
   "metadata": {
    "ExecuteTime": {
     "end_time": "2017-03-26T23:16:18.733641",
     "start_time": "2017-03-26T16:16:18.687816-07:00"
    },
    "collapsed": false,
    "scrolled": true
   },
   "outputs": [
    {
     "data": {
      "text/plain": [
       "92"
      ]
     },
     "execution_count": 162,
     "metadata": {},
     "output_type": "execute_result"
    }
   ],
   "source": [
    "# 92 people don't have 'about me' details\n",
    "len(no_aboutme_list)"
   ]
  },
  {
   "cell_type": "code",
   "execution_count": null,
   "metadata": {
    "collapsed": true
   },
   "outputs": [],
   "source": []
  }
 ],
 "metadata": {
  "kernelspec": {
   "display_name": "Python [conda env:python2]",
   "language": "python",
   "name": "conda-env-python2-py"
  },
  "language_info": {
   "codemirror_mode": {
    "name": "ipython",
    "version": 2
   },
   "file_extension": ".py",
   "mimetype": "text/x-python",
   "name": "python",
   "nbconvert_exporter": "python",
   "pygments_lexer": "ipython2",
   "version": "2.7.13"
  }
 },
 "nbformat": 4,
 "nbformat_minor": 2
}
