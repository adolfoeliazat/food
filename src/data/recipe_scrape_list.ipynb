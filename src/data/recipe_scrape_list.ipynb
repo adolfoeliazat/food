{
 "cells": [
  {
   "cell_type": "markdown",
   "metadata": {},
   "source": [
    "## Get list of all recipes to scrape\n",
    "<br> \n"
   ]
  },
  {
   "cell_type": "code",
   "execution_count": 71,
   "metadata": {
    "ExecuteTime": {
     "end_time": "2017-03-26T00:55:34.645057",
     "start_time": "2017-03-25T17:55:30.944886-07:00"
    },
    "collapsed": true
   },
   "outputs": [],
   "source": [
    "import boto3 #go get 'about_me' page \n",
    "from bs4 import BeautifulSoup as BS\n",
    "import time\n",
    "from urllib import urlencode  # TODO(Miles): Python 3\n",
    "from selenium import webdriver\n",
    "from selenium.webdriver.firefox.firefox_binary import FirefoxBinary\n",
    "import random\n",
    "import requests\n",
    "import pymongo\n",
    "import pandas as pd\n",
    "import re\n",
    "import collections\n",
    "import pickle"
   ]
  },
  {
   "cell_type": "code",
   "execution_count": 3,
   "metadata": {
    "ExecuteTime": {
     "end_time": "2017-03-25T21:36:11.609086",
     "start_time": "2017-03-25T14:36:11.114507-07:00"
    },
    "collapsed": false
   },
   "outputs": [
    {
     "data": {
      "text/plain": [
       "[u'members', u'webpages', u'community_link_pages', u'community_page']"
      ]
     },
     "execution_count": 3,
     "metadata": {},
     "output_type": "execute_result"
    }
   ],
   "source": [
    "client = pymongo.MongoClient('mongodb://localhost:27017/')\n",
    "allrecipes_db = client.allrecipes\n",
    "allrecipes_db.collection_names()"
   ]
  },
  {
   "cell_type": "code",
   "execution_count": 5,
   "metadata": {
    "ExecuteTime": {
     "end_time": "2017-03-25T22:10:30.463290",
     "start_time": "2017-03-25T15:10:29.756455-07:00"
    },
    "collapsed": true
   },
   "outputs": [],
   "source": [
    "members_coll = allrecipes_db.members"
   ]
  },
  {
   "cell_type": "code",
   "execution_count": 6,
   "metadata": {
    "ExecuteTime": {
     "end_time": "2017-03-25T22:24:07.737645",
     "start_time": "2017-03-25T15:24:06.904505-07:00"
    },
    "collapsed": false
   },
   "outputs": [
    {
     "data": {
      "text/plain": [
       "[u'favorites_page',\n",
       " u'following_page',\n",
       " u'followers_dict',\n",
       " u'reviews_recipe_id_list',\n",
       " u'reviews_dict',\n",
       " u'reviews_page',\n",
       " u'madeits_recipe_id_list',\n",
       " u'followers_page',\n",
       " u'favorites_dict',\n",
       " u'madeit_page',\n",
       " u'following_dict',\n",
       " u'link',\n",
       " u'following_recipe_id_list',\n",
       " u'member_ID',\n",
       " u'favorites_recipe_id_list',\n",
       " u'followers_recipe_id_list',\n",
       " u'_id',\n",
       " u'recipes_page',\n",
       " u'madeits_dict']"
      ]
     },
     "execution_count": 6,
     "metadata": {},
     "output_type": "execute_result"
    }
   ],
   "source": [
    "members_coll.find_one().keys()"
   ]
  },
  {
   "cell_type": "code",
   "execution_count": 13,
   "metadata": {
    "ExecuteTime": {
     "end_time": "2017-03-25T22:27:41.503181",
     "start_time": "2017-03-25T15:27:41.292588-07:00"
    },
    "collapsed": false
   },
   "outputs": [],
   "source": [
    "# get list of all recipes\n",
    "faves =  members_coll.find({\"member_ID\": {\"$exists\": True}}, ['favorites_recipe_id_list'])"
   ]
  },
  {
   "cell_type": "code",
   "execution_count": 23,
   "metadata": {
    "ExecuteTime": {
     "end_time": "2017-03-25T22:35:07.788288",
     "start_time": "2017-03-25T15:35:06.866490-07:00"
    },
    "collapsed": false
   },
   "outputs": [
    {
     "data": {
      "text/plain": [
       "815"
      ]
     },
     "execution_count": 23,
     "metadata": {},
     "output_type": "execute_result"
    }
   ],
   "source": [
    "members_coll.find({\"member_ID\": {\"$exists\": True}}).count()"
   ]
  },
  {
   "cell_type": "code",
   "execution_count": 14,
   "metadata": {
    "ExecuteTime": {
     "end_time": "2017-03-25T22:27:43.683919",
     "start_time": "2017-03-25T15:27:43.561388-07:00"
    },
    "collapsed": false
   },
   "outputs": [],
   "source": [
    "faves = [a for a in faves]"
   ]
  },
  {
   "cell_type": "code",
   "execution_count": 15,
   "metadata": {
    "ExecuteTime": {
     "end_time": "2017-03-25T22:27:45.141324",
     "start_time": "2017-03-25T15:27:45.108586-07:00"
    },
    "collapsed": false
   },
   "outputs": [
    {
     "data": {
      "text/plain": [
       "815"
      ]
     },
     "execution_count": 15,
     "metadata": {},
     "output_type": "execute_result"
    }
   ],
   "source": [
    "len(faves)"
   ]
  },
  {
   "cell_type": "code",
   "execution_count": 19,
   "metadata": {
    "ExecuteTime": {
     "end_time": "2017-03-25T22:28:42.012706",
     "start_time": "2017-03-25T15:28:41.973385-07:00"
    },
    "collapsed": false
   },
   "outputs": [],
   "source": [
    "faves = [a['favorites_recipe_id_list'] for a in faves]"
   ]
  },
  {
   "cell_type": "code",
   "execution_count": 20,
   "metadata": {
    "ExecuteTime": {
     "end_time": "2017-03-25T22:28:52.404824",
     "start_time": "2017-03-25T15:28:52.363580-07:00"
    },
    "collapsed": false,
    "scrolled": true
   },
   "outputs": [
    {
     "data": {
      "text/plain": [
       "[u'234645',\n",
       " u'234645',\n",
       " u'64559440',\n",
       " u'64559440',\n",
       " u'20906',\n",
       " u'20906',\n",
       " u'68806',\n",
       " u'68806',\n",
       " u'64168799',\n",
       " u'64168799',\n",
       " u'246102',\n",
       " u'246102',\n",
       " u'89948',\n",
       " u'89948',\n",
       " u'235983',\n",
       " u'235983',\n",
       " u'228238',\n",
       " u'228238',\n",
       " u'237347',\n",
       " u'237347',\n",
       " u'62937442',\n",
       " u'62937442',\n",
       " u'219483',\n",
       " u'219483',\n",
       " u'139471',\n",
       " u'139471',\n",
       " u'231624',\n",
       " u'231624',\n",
       " u'161522',\n",
       " u'161522',\n",
       " u'222705',\n",
       " u'222705',\n",
       " u'240511',\n",
       " u'240511',\n",
       " u'64360001',\n",
       " u'64360001',\n",
       " u'62177657',\n",
       " u'62177657',\n",
       " u'162392',\n",
       " u'162392']"
      ]
     },
     "execution_count": 20,
     "metadata": {},
     "output_type": "execute_result"
    }
   ],
   "source": [
    "faves[1]"
   ]
  },
  {
   "cell_type": "code",
   "execution_count": 21,
   "metadata": {
    "ExecuteTime": {
     "end_time": "2017-03-25T22:33:00.248091",
     "start_time": "2017-03-25T15:32:59.858421-07:00"
    },
    "collapsed": true
   },
   "outputs": [],
   "source": [
    "faves = [item for sublist in faves for item in sublist]"
   ]
  },
  {
   "cell_type": "code",
   "execution_count": 25,
   "metadata": {
    "ExecuteTime": {
     "end_time": "2017-03-25T22:35:41.996100",
     "start_time": "2017-03-25T15:35:41.883598-07:00"
    },
    "collapsed": false
   },
   "outputs": [
    {
     "data": {
      "text/plain": [
       "7105"
      ]
     },
     "execution_count": 25,
     "metadata": {},
     "output_type": "execute_result"
    }
   ],
   "source": [
    "len(set(faves))"
   ]
  },
  {
   "cell_type": "code",
   "execution_count": 26,
   "metadata": {
    "ExecuteTime": {
     "end_time": "2017-03-25T22:36:01.608809",
     "start_time": "2017-03-25T15:36:01.571376-07:00"
    },
    "collapsed": false
   },
   "outputs": [
    {
     "data": {
      "text/plain": [
       "22442"
      ]
     },
     "execution_count": 26,
     "metadata": {},
     "output_type": "execute_result"
    }
   ],
   "source": [
    "len(faves)"
   ]
  },
  {
   "cell_type": "code",
   "execution_count": 28,
   "metadata": {
    "ExecuteTime": {
     "end_time": "2017-03-25T22:36:49.532986",
     "start_time": "2017-03-25T15:36:49.330038-07:00"
    },
    "collapsed": false
   },
   "outputs": [
    {
     "data": {
      "text/plain": [
       "3.1586206896551725"
      ]
     },
     "execution_count": 28,
     "metadata": {},
     "output_type": "execute_result"
    }
   ],
   "source": [
    "1.*len(faves)/len(set(faves))*1.0"
   ]
  },
  {
   "cell_type": "code",
   "execution_count": 32,
   "metadata": {
    "ExecuteTime": {
     "end_time": "2017-03-25T22:40:01.834007",
     "start_time": "2017-03-25T15:40:01.407319-07:00"
    },
    "collapsed": false
   },
   "outputs": [],
   "source": [
    "favorite_recipes_counter = collections.Counter(faves)"
   ]
  },
  {
   "cell_type": "code",
   "execution_count": 34,
   "metadata": {
    "ExecuteTime": {
     "end_time": "2017-03-25T22:41:07.066091",
     "start_time": "2017-03-25T15:41:06.336997-07:00"
    },
    "collapsed": false
   },
   "outputs": [
    {
     "data": {
      "text/plain": [
       "[(u'219164', 50),\n",
       " (u'162760', 42),\n",
       " (u'10813', 38),\n",
       " (u'236609', 38),\n",
       " (u'23600', 38),\n",
       " (u'13116', 36),\n",
       " (u'14685', 34),\n",
       " (u'12409', 32),\n",
       " (u'143082', 32),\n",
       " (u'55860', 32)]"
      ]
     },
     "execution_count": 34,
     "metadata": {},
     "output_type": "execute_result"
    }
   ],
   "source": [
    "favorite_recipes_counter.most_common(10)"
   ]
  },
  {
   "cell_type": "code",
   "execution_count": 35,
   "metadata": {
    "ExecuteTime": {
     "end_time": "2017-03-25T22:47:25.791687",
     "start_time": "2017-03-25T15:47:25.110024-07:00"
    },
    "collapsed": true
   },
   "outputs": [],
   "source": [
    "# get list of all reviewed recipes\n",
    "reviewed =  members_coll.find({\"member_ID\": {\"$exists\": True}}, ['reviews_recipe_id_list'])"
   ]
  },
  {
   "cell_type": "code",
   "execution_count": 36,
   "metadata": {
    "ExecuteTime": {
     "end_time": "2017-03-25T22:48:03.435300",
     "start_time": "2017-03-25T15:48:01.811635-07:00"
    },
    "collapsed": true
   },
   "outputs": [],
   "source": [
    "reviewed_recipes_list = [a for a in reviewed]"
   ]
  },
  {
   "cell_type": "code",
   "execution_count": 37,
   "metadata": {
    "ExecuteTime": {
     "end_time": "2017-03-25T22:48:29.066059",
     "start_time": "2017-03-25T15:48:28.969359-07:00"
    },
    "collapsed": false
   },
   "outputs": [
    {
     "data": {
      "text/plain": [
       "815"
      ]
     },
     "execution_count": 37,
     "metadata": {},
     "output_type": "execute_result"
    }
   ],
   "source": [
    "len(reviewed_recipes_list)"
   ]
  },
  {
   "cell_type": "code",
   "execution_count": 39,
   "metadata": {
    "ExecuteTime": {
     "end_time": "2017-03-25T22:49:36.592835",
     "start_time": "2017-03-25T15:49:36.516175-07:00"
    },
    "collapsed": false
   },
   "outputs": [],
   "source": [
    "reviewed_recipes_list = [a[u'reviews_recipe_id_list'] for a in reviewed_recipes_list]"
   ]
  },
  {
   "cell_type": "code",
   "execution_count": 40,
   "metadata": {
    "ExecuteTime": {
     "end_time": "2017-03-25T22:50:24.427265",
     "start_time": "2017-03-25T15:50:24.220999-07:00"
    },
    "collapsed": true
   },
   "outputs": [],
   "source": [
    "reviewed_recipes_list = [item for sublist in reviewed_recipes_list for item in sublist]"
   ]
  },
  {
   "cell_type": "code",
   "execution_count": 45,
   "metadata": {
    "ExecuteTime": {
     "end_time": "2017-03-25T22:52:46.163581",
     "start_time": "2017-03-25T15:52:46.121088-07:00"
    },
    "collapsed": false
   },
   "outputs": [
    {
     "data": {
      "text/plain": [
       "4162"
      ]
     },
     "execution_count": 45,
     "metadata": {},
     "output_type": "execute_result"
    }
   ],
   "source": [
    "len(reviewed_recipes_list)"
   ]
  },
  {
   "cell_type": "code",
   "execution_count": 47,
   "metadata": {
    "ExecuteTime": {
     "end_time": "2017-03-25T22:53:43.307330",
     "start_time": "2017-03-25T15:53:43.226871-07:00"
    },
    "collapsed": false
   },
   "outputs": [
    {
     "data": {
      "text/plain": [
       "3472"
      ]
     },
     "execution_count": 47,
     "metadata": {},
     "output_type": "execute_result"
    }
   ],
   "source": [
    "len(set(reviewed_recipes_list))"
   ]
  },
  {
   "cell_type": "code",
   "execution_count": 41,
   "metadata": {
    "ExecuteTime": {
     "end_time": "2017-03-25T22:51:01.120118",
     "start_time": "2017-03-25T15:51:00.981062-07:00"
    },
    "collapsed": true
   },
   "outputs": [],
   "source": [
    "reviewed_recipes_counter = collections.Counter(reviewed_recipes_list)"
   ]
  },
  {
   "cell_type": "code",
   "execution_count": 42,
   "metadata": {
    "ExecuteTime": {
     "end_time": "2017-03-25T22:51:20.767758",
     "start_time": "2017-03-25T15:51:20.722316-07:00"
    },
    "collapsed": false
   },
   "outputs": [
    {
     "data": {
      "text/plain": [
       "[(u'162760', 10),\n",
       " (u'56927', 8),\n",
       " (u'6820', 8),\n",
       " (u'10402', 7),\n",
       " (u'14231', 7),\n",
       " (u'9023', 7),\n",
       " (u'26317', 7),\n",
       " (u'17066', 7),\n",
       " (u'16066', 6),\n",
       " (u'8847', 6)]"
      ]
     },
     "execution_count": 42,
     "metadata": {},
     "output_type": "execute_result"
    }
   ],
   "source": [
    "reviewed_recipes_counter.most_common(10)"
   ]
  },
  {
   "cell_type": "code",
   "execution_count": 43,
   "metadata": {
    "ExecuteTime": {
     "end_time": "2017-03-25T22:52:19.259242",
     "start_time": "2017-03-25T15:52:18.906816-07:00"
    },
    "collapsed": false
   },
   "outputs": [
    {
     "data": {
      "text/plain": [
       "4162"
      ]
     },
     "execution_count": 43,
     "metadata": {},
     "output_type": "execute_result"
    }
   ],
   "source": [
    "sum(reviewed_recipes_counter.values())"
   ]
  },
  {
   "cell_type": "code",
   "execution_count": 46,
   "metadata": {
    "ExecuteTime": {
     "end_time": "2017-03-25T22:52:58.608912",
     "start_time": "2017-03-25T15:52:58.569560-07:00"
    },
    "collapsed": false
   },
   "outputs": [
    {
     "data": {
      "text/plain": [
       "3472"
      ]
     },
     "execution_count": 46,
     "metadata": {},
     "output_type": "execute_result"
    }
   ],
   "source": [
    "len(reviewed_recipes_counter)"
   ]
  },
  {
   "cell_type": "code",
   "execution_count": 50,
   "metadata": {
    "ExecuteTime": {
     "end_time": "2017-03-25T23:06:42.870254",
     "start_time": "2017-03-25T16:06:42.806036-07:00"
    },
    "collapsed": true
   },
   "outputs": [],
   "source": [
    "# get list of all 'made-it' recipes\n",
    "madeits =  members_coll.find({\"member_ID\": {\"$exists\": True}}, ['madeits_recipe_id_list'])"
   ]
  },
  {
   "cell_type": "code",
   "execution_count": 51,
   "metadata": {
    "ExecuteTime": {
     "end_time": "2017-03-25T23:06:52.352737",
     "start_time": "2017-03-25T16:06:51.764740-07:00"
    },
    "collapsed": false
   },
   "outputs": [],
   "source": [
    "madeits_recipes_list = [a['madeits_recipe_id_list'] for a in madeits]"
   ]
  },
  {
   "cell_type": "code",
   "execution_count": 52,
   "metadata": {
    "ExecuteTime": {
     "end_time": "2017-03-25T23:08:23.761742",
     "start_time": "2017-03-25T16:08:23.630843-07:00"
    },
    "collapsed": true
   },
   "outputs": [],
   "source": [
    "madeits_recipes_list = [item for sublist in madeits_recipes_list for item in sublist]"
   ]
  },
  {
   "cell_type": "code",
   "execution_count": 53,
   "metadata": {
    "ExecuteTime": {
     "end_time": "2017-03-25T23:09:00.430683",
     "start_time": "2017-03-25T16:09:00.374354-07:00"
    },
    "collapsed": true
   },
   "outputs": [],
   "source": [
    "madeits_recipes_counter = collections.Counter(madeits_recipes_list)"
   ]
  },
  {
   "cell_type": "code",
   "execution_count": 54,
   "metadata": {
    "ExecuteTime": {
     "end_time": "2017-03-25T23:09:09.255635",
     "start_time": "2017-03-25T16:09:09.181705-07:00"
    },
    "collapsed": false
   },
   "outputs": [
    {
     "data": {
      "text/plain": [
       "3399"
      ]
     },
     "execution_count": 54,
     "metadata": {},
     "output_type": "execute_result"
    }
   ],
   "source": [
    "len(madeits_recipes_counter)"
   ]
  },
  {
   "cell_type": "code",
   "execution_count": 55,
   "metadata": {
    "ExecuteTime": {
     "end_time": "2017-03-25T23:09:25.223003",
     "start_time": "2017-03-25T16:09:25.167501-07:00"
    },
    "collapsed": false
   },
   "outputs": [
    {
     "data": {
      "text/plain": [
       "4398"
      ]
     },
     "execution_count": 55,
     "metadata": {},
     "output_type": "execute_result"
    }
   ],
   "source": [
    "sum(madeits_recipes_counter.values())"
   ]
  },
  {
   "cell_type": "code",
   "execution_count": 56,
   "metadata": {
    "ExecuteTime": {
     "end_time": "2017-03-25T23:12:15.721371",
     "start_time": "2017-03-25T16:12:15.454572-07:00"
    },
    "collapsed": false
   },
   "outputs": [
    {
     "data": {
      "text/plain": [
       "[(u'10402', 10),\n",
       " (u'26317', 10),\n",
       " (u'56927', 10),\n",
       " (u'23600', 9),\n",
       " (u'162760', 8),\n",
       " (u'9023', 8),\n",
       " (u'51283', 7),\n",
       " (u'7565', 7),\n",
       " (u'14231', 7),\n",
       " (u'10813', 7)]"
      ]
     },
     "execution_count": 56,
     "metadata": {},
     "output_type": "execute_result"
    }
   ],
   "source": [
    "madeits_recipes_counter.most_common(10)"
   ]
  },
  {
   "cell_type": "code",
   "execution_count": 63,
   "metadata": {
    "ExecuteTime": {
     "end_time": "2017-03-25T23:32:22.411875",
     "start_time": "2017-03-25T16:32:21.061726-07:00"
    },
    "collapsed": false
   },
   "outputs": [],
   "source": [
    "recipes_list = reviewed_recipes_counter.keys() + \\\n",
    "     madeits_recipes_counter.keys() + \\\n",
    "     favorite_recipes_counter.keys() "
   ]
  },
  {
   "cell_type": "code",
   "execution_count": 64,
   "metadata": {
    "ExecuteTime": {
     "end_time": "2017-03-25T23:33:04.616563",
     "start_time": "2017-03-25T16:33:01.872839-07:00"
    },
    "collapsed": false
   },
   "outputs": [
    {
     "data": {
      "text/plain": [
       "13976"
      ]
     },
     "execution_count": 64,
     "metadata": {},
     "output_type": "execute_result"
    }
   ],
   "source": [
    "len(recipes_list)"
   ]
  },
  {
   "cell_type": "code",
   "execution_count": 68,
   "metadata": {
    "ExecuteTime": {
     "end_time": "2017-03-25T23:58:37.986685",
     "start_time": "2017-03-25T16:58:35.134918-07:00"
    },
    "collapsed": false
   },
   "outputs": [],
   "source": [
    "recipes_orderedset = collections.OrderedDict.fromkeys(recipes_list)"
   ]
  },
  {
   "cell_type": "code",
   "execution_count": 69,
   "metadata": {
    "ExecuteTime": {
     "end_time": "2017-03-25T23:58:48.907224",
     "start_time": "2017-03-25T16:58:48.025448-07:00"
    },
    "collapsed": false
   },
   "outputs": [
    {
     "data": {
      "text/plain": [
       "9782"
      ]
     },
     "execution_count": 69,
     "metadata": {},
     "output_type": "execute_result"
    }
   ],
   "source": [
    "len(recipes_orderedset)"
   ]
  },
  {
   "cell_type": "code",
   "execution_count": 72,
   "metadata": {
    "ExecuteTime": {
     "end_time": "2017-03-26T00:56:19.889320",
     "start_time": "2017-03-25T17:56:15.391705-07:00"
    },
    "collapsed": true
   },
   "outputs": [],
   "source": [
    "with open('recipes_orderedset.pkl', 'wb') as f: \n",
    "    pickle.dump(recipes_orderedset, f)"
   ]
  },
  {
   "cell_type": "code",
   "execution_count": null,
   "metadata": {
    "collapsed": true
   },
   "outputs": [],
   "source": []
  }
 ],
 "metadata": {
  "kernelspec": {
   "display_name": "Python [conda env:python2]",
   "language": "python",
   "name": "conda-env-python2-py"
  },
  "language_info": {
   "codemirror_mode": {
    "name": "ipython",
    "version": 2
   },
   "file_extension": ".py",
   "mimetype": "text/x-python",
   "name": "python",
   "nbconvert_exporter": "python",
   "pygments_lexer": "ipython2",
   "version": "2.7.13"
  }
 },
 "nbformat": 4,
 "nbformat_minor": 2
}
