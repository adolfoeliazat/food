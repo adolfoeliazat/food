{
 "cells": [
  {
   "cell_type": "code",
   "execution_count": 5,
   "metadata": {
    "ExecuteTime": {
     "end_time": "2017-03-24T17:00:53.922401",
     "start_time": "2017-03-24T10:00:53.848722-07:00"
    },
    "collapsed": true
   },
   "outputs": [],
   "source": [
    "import pymongo "
   ]
  },
  {
   "cell_type": "code",
   "execution_count": 2,
   "metadata": {
    "ExecuteTime": {
     "end_time": "2017-03-24T16:59:54.300146",
     "start_time": "2017-03-24T09:59:54.263498-07:00"
    },
    "collapsed": true
   },
   "outputs": [],
   "source": [
    "client = pymongo.MongoClient('mongodb://localhost:27017/')"
   ]
  },
  {
   "cell_type": "code",
   "execution_count": 3,
   "metadata": {
    "ExecuteTime": {
     "end_time": "2017-03-24T16:59:55.996515",
     "start_time": "2017-03-24T09:59:55.971667-07:00"
    },
    "collapsed": true
   },
   "outputs": [],
   "source": [
    "allrecipes_db = client.allrecipes"
   ]
  },
  {
   "cell_type": "code",
   "execution_count": 4,
   "metadata": {
    "ExecuteTime": {
     "end_time": "2017-03-24T16:59:58.845148",
     "start_time": "2017-03-24T09:59:58.760617-07:00"
    },
    "collapsed": false
   },
   "outputs": [
    {
     "data": {
      "text/plain": [
       "[u'members',\n",
       " u'webpages',\n",
       " u'community_link_pages',\n",
       " u'communiy_page',\n",
       " u'community_page']"
      ]
     },
     "execution_count": 4,
     "metadata": {},
     "output_type": "execute_result"
    }
   ],
   "source": [
    "allrecipes_db.collection_names()"
   ]
  },
  {
   "cell_type": "code",
   "execution_count": 18,
   "metadata": {
    "ExecuteTime": {
     "end_time": "2017-03-20T22:25:41.124760Z",
     "start_time": "2017-03-20T15:25:41.089525-07:00"
    },
    "collapsed": true
   },
   "outputs": [],
   "source": [
    "recipes_db = client.recipes"
   ]
  },
  {
   "cell_type": "code",
   "execution_count": 20,
   "metadata": {
    "ExecuteTime": {
     "end_time": "2017-03-20T22:25:58.428563Z",
     "start_time": "2017-03-20T15:25:58.382502-07:00"
    },
    "collapsed": false
   },
   "outputs": [
    {
     "data": {
      "text/plain": [
       "[u'epicurious']"
      ]
     },
     "execution_count": 20,
     "metadata": {},
     "output_type": "execute_result"
    }
   ],
   "source": [
    "recipes_db.collection_names()"
   ]
  },
  {
   "cell_type": "code",
   "execution_count": 21,
   "metadata": {
    "ExecuteTime": {
     "end_time": "2017-03-20T22:26:18.615825Z",
     "start_time": "2017-03-20T15:26:18.454450-07:00"
    },
    "collapsed": false
   },
   "outputs": [
    {
     "data": {
      "text/plain": [
       "{u'_id': ObjectId('58c988b53891615d0a04a0af'),\n",
       " u'calories': 426.0,\n",
       " u'categories': [u'Sandwich',\n",
       "  u'Bean',\n",
       "  u'Fruit',\n",
       "  u'Tomato',\n",
       "  u'turkey',\n",
       "  u'Vegetable',\n",
       "  u'Kid-Friendly',\n",
       "  u'Apple',\n",
       "  u'Lentil',\n",
       "  u'Lettuce',\n",
       "  u'Cookie'],\n",
       " u'date': u'2006-09-01T04:00:00.000Z',\n",
       " u'desc': None,\n",
       " u'directions': [u'1. Place the stock, lentils, celery, carrot, thyme, and salt in a medium saucepan and bring to a boil. Reduce heat to low and simmer until the lentils are tender, about 30 minutes, depending on the lentils. (If they begin to dry out, add water as needed.) Remove and discard the thyme. Drain and transfer the mixture to a bowl; let cool.',\n",
       "  u'2. Fold in the tomato, apple, lemon juice, and olive oil. Season with the pepper.',\n",
       "  u'3. To assemble a wrap, place 1 lavash sheet on a clean work surface. Spread some of the lentil mixture on the end nearest you, leaving a 1-inch border. Top with several slices of turkey, then some of the lettuce. Roll up the lavash, slice crosswise, and serve. If using tortillas, spread the lentils in the center, top with the turkey and lettuce, and fold up the bottom, left side, and right side before rolling away from you.'],\n",
       " u'fat': 7.0,\n",
       " u'ingredients': [u'4 cups low-sodium vegetable or chicken stock',\n",
       "  u'1 cup dried brown lentils',\n",
       "  u'1/2 cup dried French green lentils',\n",
       "  u'2 stalks celery, chopped',\n",
       "  u'1 large carrot, peeled and chopped',\n",
       "  u'1 sprig fresh thyme',\n",
       "  u'1 teaspoon kosher salt',\n",
       "  u'1 medium tomato, cored, seeded, and diced',\n",
       "  u'1 small Fuji apple, cored and diced',\n",
       "  u'1 tablespoon freshly squeezed lemon juice',\n",
       "  u'2 teaspoons extra-virgin olive oil',\n",
       "  u'Freshly ground black pepper to taste',\n",
       "  u'3 sheets whole-wheat lavash, cut in half crosswise, or 6 (12-inch) flour tortillas',\n",
       "  u'3/4 pound turkey breast, thinly sliced',\n",
       "  u'1/2 head Bibb lettuce'],\n",
       " u'protein': 30.0,\n",
       " u'rating': 2.5,\n",
       " u'sodium': 559.0,\n",
       " u'title': u'Lentil, Apple, and Turkey Wrap '}"
      ]
     },
     "execution_count": 21,
     "metadata": {},
     "output_type": "execute_result"
    }
   ],
   "source": [
    "recipes_db.epicurious.find_one()"
   ]
  },
  {
   "cell_type": "code",
   "execution_count": 22,
   "metadata": {
    "ExecuteTime": {
     "end_time": "2017-03-20T22:27:49.904975Z",
     "start_time": "2017-03-20T15:27:49.423210-07:00"
    },
    "collapsed": true
   },
   "outputs": [],
   "source": [
    "client.drop_database('metroid')"
   ]
  },
  {
   "cell_type": "code",
   "execution_count": 23,
   "metadata": {
    "ExecuteTime": {
     "end_time": "2017-03-20T22:27:58.926922Z",
     "start_time": "2017-03-20T15:27:58.883980-07:00"
    },
    "collapsed": false
   },
   "outputs": [
    {
     "data": {
      "text/plain": [
       "[u'accounts',\n",
       " u'admin',\n",
       " u'allrecipes',\n",
       " u'areviews',\n",
       " u'clicks',\n",
       " u'local',\n",
       " u'nyt_dump',\n",
       " u'recipes',\n",
       " u'unicorns',\n",
       " u'usda_ndb',\n",
       " u'usda_ndb2',\n",
       " u'wikipedia',\n",
       " u'yelp']"
      ]
     },
     "execution_count": 23,
     "metadata": {},
     "output_type": "execute_result"
    }
   ],
   "source": [
    "client.database_names()"
   ]
  },
  {
   "cell_type": "code",
   "execution_count": 24,
   "metadata": {
    "ExecuteTime": {
     "end_time": "2017-03-20T22:28:45.848806Z",
     "start_time": "2017-03-20T15:28:45.819335-07:00"
    },
    "collapsed": true
   },
   "outputs": [],
   "source": [
    "amazon_db = client.areviews"
   ]
  },
  {
   "cell_type": "code",
   "execution_count": 25,
   "metadata": {
    "ExecuteTime": {
     "end_time": "2017-03-20T22:29:02.898629Z",
     "start_time": "2017-03-20T15:29:02.869309-07:00"
    },
    "collapsed": false
   },
   "outputs": [
    {
     "data": {
      "text/plain": [
       "[u'reviews', u'deleted']"
      ]
     },
     "execution_count": 25,
     "metadata": {},
     "output_type": "execute_result"
    }
   ],
   "source": [
    "amazon_db.collection_names()"
   ]
  },
  {
   "cell_type": "code",
   "execution_count": 26,
   "metadata": {
    "ExecuteTime": {
     "end_time": "2017-03-20T22:29:38.323689Z",
     "start_time": "2017-03-20T15:29:38.177335-07:00"
    },
    "collapsed": false
   },
   "outputs": [
    {
     "data": {
      "text/plain": [
       "{u'_id': ObjectId('58c6024f9d477aa9e1e4fc80'),\n",
       " u'product/productId': u'B00813GRG4',\n",
       " u'review/helpfulness': u'0/0',\n",
       " u'review/profileName': u'dll pa',\n",
       " u'review/score': u'1.0',\n",
       " u'review/summary': u'Not as Advertised',\n",
       " u'review/text': u'Product arrived labeled as Jumbo Salted Peanuts...the peanuts were actually small sized unsalted. Not sure if this was an error or if the vendor intended to represent the product as \"Jumbo\".',\n",
       " u'review/time': u'1346976000',\n",
       " u'review/userId': u'A1D87F6ZCVE5NK'}"
      ]
     },
     "execution_count": 26,
     "metadata": {},
     "output_type": "execute_result"
    }
   ],
   "source": [
    "amazon_db.reviews.find_one()"
   ]
  },
  {
   "cell_type": "code",
   "execution_count": 27,
   "metadata": {
    "ExecuteTime": {
     "end_time": "2017-03-20T22:30:33.001785Z",
     "start_time": "2017-03-20T15:30:32.966120-07:00"
    },
    "collapsed": true
   },
   "outputs": [],
   "source": [
    "usda_db = client.usda_ndb"
   ]
  },
  {
   "cell_type": "code",
   "execution_count": 28,
   "metadata": {
    "ExecuteTime": {
     "end_time": "2017-03-20T22:30:49.824874Z",
     "start_time": "2017-03-20T15:30:49.763614-07:00"
    },
    "collapsed": false
   },
   "outputs": [
    {
     "data": {
      "text/plain": [
       "[u'nutrient_list', u'food_item', u'food_list', u'foodgroup']"
      ]
     },
     "execution_count": 28,
     "metadata": {},
     "output_type": "execute_result"
    }
   ],
   "source": [
    "usda_db.collection_names()"
   ]
  },
  {
   "cell_type": "code",
   "execution_count": 29,
   "metadata": {
    "ExecuteTime": {
     "end_time": "2017-03-20T22:31:09.659255Z",
     "start_time": "2017-03-20T15:31:09.535069-07:00"
    },
    "collapsed": false
   },
   "outputs": [
    {
     "data": {
      "text/plain": [
       "{u'_id': ObjectId('58c80dbc9d477aaa98b50fe9'),\n",
       " u'id': u'203',\n",
       " u'name': u'Protein',\n",
       " u'offset': 0}"
      ]
     },
     "execution_count": 29,
     "metadata": {},
     "output_type": "execute_result"
    }
   ],
   "source": [
    "usda_db.nutrient_list.find_one()"
   ]
  },
  {
   "cell_type": "code",
   "execution_count": 34,
   "metadata": {
    "ExecuteTime": {
     "end_time": "2017-03-20T22:45:19.108253Z",
     "start_time": "2017-03-20T15:45:18.438321-07:00"
    },
    "collapsed": false
   },
   "outputs": [
    {
     "data": {
      "text/plain": [
       "[u'reviews', u'deleted']"
      ]
     },
     "execution_count": 34,
     "metadata": {},
     "output_type": "execute_result"
    }
   ],
   "source": [
    "amazon_db.collection_names()"
   ]
  },
  {
   "cell_type": "code",
   "execution_count": 35,
   "metadata": {
    "ExecuteTime": {
     "end_time": "2017-03-20T23:29:58.103891Z",
     "start_time": "2017-03-20T16:29:57.459716-07:00"
    },
    "collapsed": false
   },
   "outputs": [
    {
     "data": {
      "text/plain": [
       "Collection(Database(MongoClient(host=['localhost:27017'], document_class=dict, tz_aware=False, connect=True), u'areviews'), u'reviews')"
      ]
     },
     "execution_count": 35,
     "metadata": {},
     "output_type": "execute_result"
    }
   ],
   "source": [
    "amazon_db.reviews"
   ]
  },
  {
   "cell_type": "code",
   "execution_count": null,
   "metadata": {
    "collapsed": true
   },
   "outputs": [],
   "source": []
  }
 ],
 "metadata": {
  "kernelspec": {
   "display_name": "Python [conda env:python2]",
   "language": "python",
   "name": "conda-env-python2-py"
  },
  "language_info": {
   "codemirror_mode": {
    "name": "ipython",
    "version": 2
   },
   "file_extension": ".py",
   "mimetype": "text/x-python",
   "name": "python",
   "nbconvert_exporter": "python",
   "pygments_lexer": "ipython2",
   "version": "2.7.13"
  }
 },
 "nbformat": 4,
 "nbformat_minor": 2
}
