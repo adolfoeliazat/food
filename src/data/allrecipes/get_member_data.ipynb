{
 "cells": [
  {
   "cell_type": "markdown",
   "metadata": {},
   "source": [
    "# Use member pages in `member_pages` collection to populate member records. "
   ]
  },
  {
   "cell_type": "code",
   "execution_count": 88,
   "metadata": {
    "ExecuteTime": {
     "end_time": "2017-06-17T02:08:18.939029",
     "start_time": "2017-06-16T19:08:18.639666-07:00"
    },
    "collapsed": false
   },
   "outputs": [],
   "source": [
    "import scraper\n",
    "import json"
   ]
  },
  {
   "cell_type": "code",
   "execution_count": 95,
   "metadata": {
    "ExecuteTime": {
     "end_time": "2017-06-17T02:19:53.328120",
     "start_time": "2017-06-16T19:19:52.543274-07:00"
    },
    "collapsed": false
   },
   "outputs": [
    {
     "name": "stdout",
     "output_type": "stream",
     "text": [
      "Connected to Database(MongoClient(host=['localhost:27017'], document_class=dict, tz_aware=False, connect=True), u'allrecipes')\n",
      "number of member_pages: 1340\n",
      "number of docs with member_IDs: 907\n",
      "number of docs with followers_dict 814\n",
      "number of docs with following_dict 814\n",
      "number of docs with reviews_dict 815\n",
      "number of docs with favorites_dict 814\n",
      "number of docs with madeits_dict 814\n",
      "number of docs with aboutme 813\n"
     ]
    }
   ],
   "source": [
    "parser1 = scraper.Parser()"
   ]
  },
  {
   "cell_type": "code",
   "execution_count": 9,
   "metadata": {
    "ExecuteTime": {
     "end_time": "2017-06-16T21:32:55.795388",
     "start_time": "2017-06-16T14:32:55.725334-07:00"
    },
    "collapsed": true
   },
   "outputs": [],
   "source": [
    "with open('members_list.json', 'r') as f: \n",
    "    mlist = json.load(f)"
   ]
  },
  {
   "cell_type": "code",
   "execution_count": 13,
   "metadata": {
    "ExecuteTime": {
     "end_time": "2017-06-16T21:34:10.224619",
     "start_time": "2017-06-16T14:34:10.181190-07:00"
    },
    "collapsed": false
   },
   "outputs": [
    {
     "data": {
      "text/plain": [
       "u'64043'"
      ]
     },
     "execution_count": 13,
     "metadata": {},
     "output_type": "execute_result"
    }
   ],
   "source": [
    "mlist.values()[0][0]"
   ]
  },
  {
   "cell_type": "code",
   "execution_count": 58,
   "metadata": {
    "ExecuteTime": {
     "end_time": "2017-06-17T01:43:03.509135",
     "start_time": "2017-06-16T18:43:03.251435-07:00"
    },
    "collapsed": false
   },
   "outputs": [
    {
     "name": "stdout",
     "output_type": "stream",
     "text": [
      "\n",
      "             member_ID is 64043\n",
      "             has \"about me\" page: True\n",
      "             number of followers: 1\n",
      "             number of followed: None\n",
      "             number of reviews: 16\n",
      "             number of favorites: 20\n",
      "             number of recipes made: 20\n",
      "             \n"
     ]
    }
   ],
   "source": [
    "parser1.get_member_parsed_data(mlist.values()[0][0])"
   ]
  },
  {
   "cell_type": "code",
   "execution_count": 42,
   "metadata": {
    "ExecuteTime": {
     "end_time": "2017-06-16T22:42:27.820806",
     "start_time": "2017-06-16T15:42:05.480942-07:00"
    },
    "collapsed": false
   },
   "outputs": [
    {
     "name": "stdout",
     "output_type": "stream",
     "text": [
      "Number of reords to get: 525\n"
     ]
    }
   ],
   "source": [
    "parser1.get_member_list_to_parse()"
   ]
  },
  {
   "cell_type": "code",
   "execution_count": 43,
   "metadata": {
    "ExecuteTime": {
     "end_time": "2017-06-16T22:43:44.466901",
     "start_time": "2017-06-16T15:43:44.208870-07:00"
    },
    "collapsed": true
   },
   "outputs": [],
   "source": [
    "mems_to_parse = parser1.mems_to_parse"
   ]
  },
  {
   "cell_type": "code",
   "execution_count": 47,
   "metadata": {
    "ExecuteTime": {
     "end_time": "2017-06-17T00:53:42.052046",
     "start_time": "2017-06-16T17:53:41.963319-07:00"
    },
    "collapsed": false
   },
   "outputs": [
    {
     "data": {
      "text/plain": [
       "u'7869869'"
      ]
     },
     "execution_count": 47,
     "metadata": {},
     "output_type": "execute_result"
    }
   ],
   "source": [
    "mems_to_parse[0]"
   ]
  },
  {
   "cell_type": "code",
   "execution_count": 93,
   "metadata": {
    "ExecuteTime": {
     "end_time": "2017-06-17T02:09:12.494867",
     "start_time": "2017-06-16T19:09:12.432432-07:00"
    },
    "collapsed": false,
    "scrolled": false
   },
   "outputs": [
    {
     "name": "stdout",
     "output_type": "stream",
     "text": [
      "Number of scraped pages for 7869869: 1\n",
      "[u'favorites_page', u'following_page', u'reviews_page', u'aboutme_page', u'madeit_page', u'link', u'member_ID', u'followers_page', u'_id', u'recipes_page']\n",
      "\n",
      "             member_ID is 7869869\n",
      "             has \"about me\" page: False\n",
      "             number of followers: None\n",
      "             number of followed: None\n",
      "             number of reviews: 1\n",
      "             number of favorites: None\n",
      "             number of recipes made: None\n",
      "             \n"
     ]
    }
   ],
   "source": [
    "parser1.get_member_parsed_data(mems_to_parse[0])"
   ]
  },
  {
   "cell_type": "code",
   "execution_count": 96,
   "metadata": {
    "ExecuteTime": {
     "end_time": "2017-06-17T02:20:26.210291",
     "start_time": "2017-06-16T19:19:57.797758-07:00"
    },
    "collapsed": false
   },
   "outputs": [
    {
     "name": "stdout",
     "output_type": "stream",
     "text": [
      "Number of reords to get: 524\n"
     ]
    }
   ],
   "source": [
    "parser1.get_member_list_to_parse()"
   ]
  },
  {
   "cell_type": "code",
   "execution_count": null,
   "metadata": {
    "collapsed": true
   },
   "outputs": [],
   "source": []
  }
 ],
 "metadata": {
  "kernelspec": {
   "display_name": "Python [conda env:python2]",
   "language": "python",
   "name": "conda-env-python2-py"
  },
  "language_info": {
   "codemirror_mode": {
    "name": "ipython",
    "version": 2
   },
   "file_extension": ".py",
   "mimetype": "text/x-python",
   "name": "python",
   "nbconvert_exporter": "python",
   "pygments_lexer": "ipython2",
   "version": "2.7.13"
  }
 },
 "nbformat": 4,
 "nbformat_minor": 2
}
