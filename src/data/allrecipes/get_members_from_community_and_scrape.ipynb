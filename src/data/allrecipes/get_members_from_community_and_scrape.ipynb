{
 "cells": [
  {
   "cell_type": "markdown",
   "metadata": {},
   "source": [
    "# Extract `member_ID`s from `community_page` and scrape member pages\n",
    "\n",
    "- A big 'community page'-- a Q&A page for members with questions, scrolled down multiple times-- was acquired to extract member ids.  >1000 ids were obtained.  \n",
    "- scraper.Scrape is used to scrape member pages from the allrecipes site.  \n",
    "- member pages are stored in mongodb collection `member_pages`\n"
   ]
  },
  {
   "cell_type": "code",
   "execution_count": 1,
   "metadata": {
    "ExecuteTime": {
     "end_time": "2017-06-16T15:32:16.924604",
     "start_time": "2017-06-16T08:32:16.361495-07:00"
    },
    "collapsed": true
   },
   "outputs": [],
   "source": [
    "import pymongo \n",
    "from bs4 import BeautifulSoup as BS\n",
    "import pickle\n",
    "import boto3\n",
    "import os \n",
    "AWS_KEY = os.environ['AWS_ACCESS_KEY']\n",
    "AWS_SECRET = os.environ['AWS_SECRET_ACCESS_KEY'] "
   ]
  },
  {
   "cell_type": "code",
   "execution_count": 2,
   "metadata": {
    "ExecuteTime": {
     "end_time": "2017-06-16T15:32:16.993098",
     "start_time": "2017-06-16T08:32:16.932812-07:00"
    },
    "collapsed": true
   },
   "outputs": [],
   "source": [
    "client = pymongo.MongoClient(\"mongodb://localhost:27017/\")\n",
    "allrecipes_db = client.allrecipes"
   ]
  },
  {
   "cell_type": "code",
   "execution_count": 3,
   "metadata": {
    "ExecuteTime": {
     "end_time": "2017-06-16T15:32:17.128152",
     "start_time": "2017-06-16T08:32:17.004732-07:00"
    },
    "collapsed": false
   },
   "outputs": [
    {
     "data": {
      "text/plain": [
       "[u'community_link_pages',\n",
       " u'recipes',\n",
       " u'member_pages',\n",
       " u'members',\n",
       " u'webpages',\n",
       " u'healthy_recipes',\n",
       " u'about',\n",
       " u'community_page']"
      ]
     },
     "execution_count": 3,
     "metadata": {},
     "output_type": "execute_result"
    }
   ],
   "source": [
    "allrecipes_db.collection_names()"
   ]
  },
  {
   "cell_type": "code",
   "execution_count": 4,
   "metadata": {
    "ExecuteTime": {
     "end_time": "2017-06-16T15:32:17.633731",
     "start_time": "2017-06-16T08:32:17.136579-07:00"
    },
    "collapsed": false,
    "scrolled": true
   },
   "outputs": [],
   "source": [
    "community_coll = allrecipes_db.community_page\n",
    "communitypage = community_coll.find_one()['page']"
   ]
  },
  {
   "cell_type": "code",
   "execution_count": 17,
   "metadata": {
    "ExecuteTime": {
     "end_time": "2017-06-16T15:33:01.199946",
     "start_time": "2017-06-16T08:33:01.036389-07:00"
    },
    "collapsed": true
   },
   "outputs": [],
   "source": [
    "member_coll = allrecipes_db.members\n",
    "member_pages_coll = allrecipes_db.member_pages"
   ]
  },
  {
   "cell_type": "code",
   "execution_count": 6,
   "metadata": {
    "ExecuteTime": {
     "end_time": "2017-06-16T15:32:24.290562",
     "start_time": "2017-06-16T08:32:18.658963-07:00"
    },
    "collapsed": true
   },
   "outputs": [],
   "source": [
    "soup = BS(communitypage, 'html.parser')"
   ]
  },
  {
   "cell_type": "code",
   "execution_count": 7,
   "metadata": {
    "ExecuteTime": {
     "end_time": "2017-06-16T15:32:24.340219",
     "start_time": "2017-06-16T08:32:24.294316-07:00"
    },
    "collapsed": true
   },
   "outputs": [],
   "source": [
    "# Why?  \n",
    "# with open(\"community_page.html\", \"w\") as f: \n",
    "#     pickle.dump(communitypage, f)"
   ]
  },
  {
   "cell_type": "code",
   "execution_count": 8,
   "metadata": {
    "ExecuteTime": {
     "end_time": "2017-06-16T15:32:24.717408",
     "start_time": "2017-06-16T08:32:24.343129-07:00"
    },
    "collapsed": false
   },
   "outputs": [],
   "source": [
    "# Extract the link \n",
    "members = [(a.attrs['href'], a.text) for a in soup.select('div.ap-avatar a')]"
   ]
  },
  {
   "cell_type": "code",
   "execution_count": 9,
   "metadata": {
    "ExecuteTime": {
     "end_time": "2017-06-16T15:32:24.793493",
     "start_time": "2017-06-16T08:32:24.727229-07:00"
    },
    "collapsed": false
   },
   "outputs": [
    {
     "data": {
      "text/plain": [
       "6120"
      ]
     },
     "execution_count": 9,
     "metadata": {},
     "output_type": "execute_result"
    }
   ],
   "source": [
    "# All links pertaining to members in community page\n",
    "len(members)"
   ]
  },
  {
   "cell_type": "code",
   "execution_count": 10,
   "metadata": {
    "ExecuteTime": {
     "end_time": "2017-06-16T15:32:24.922576",
     "start_time": "2017-06-16T08:32:24.797595-07:00"
    },
    "collapsed": false,
    "scrolled": true
   },
   "outputs": [],
   "source": [
    "memberIDs = [a[0].split('/')[4] for a in members]"
   ]
  },
  {
   "cell_type": "code",
   "execution_count": 11,
   "metadata": {
    "ExecuteTime": {
     "end_time": "2017-06-16T15:32:25.127455",
     "start_time": "2017-06-16T08:32:25.066208-07:00"
    },
    "collapsed": false
   },
   "outputs": [
    {
     "data": {
      "text/plain": [
       "1340"
      ]
     },
     "execution_count": 11,
     "metadata": {},
     "output_type": "execute_result"
    }
   ],
   "source": [
    "# Exclude duplicates: \n",
    "memberIDs = list(set(memberIDs))\n",
    "\n",
    "len(memberIDs)"
   ]
  },
  {
   "cell_type": "code",
   "execution_count": 18,
   "metadata": {
    "ExecuteTime": {
     "end_time": "2017-06-16T15:33:46.409463",
     "start_time": "2017-06-16T08:33:04.893609-07:00"
    },
    "collapsed": false
   },
   "outputs": [
    {
     "data": {
      "text/plain": [
       "1297"
      ]
     },
     "execution_count": 18,
     "metadata": {},
     "output_type": "execute_result"
    }
   ],
   "source": [
    "# Verify number of members in members_coll: \n",
    "len(list(member_pages_coll.find()))"
   ]
  },
  {
   "cell_type": "code",
   "execution_count": 19,
   "metadata": {
    "ExecuteTime": {
     "end_time": "2017-06-16T15:34:02.369383",
     "start_time": "2017-06-16T08:33:46.414118-07:00"
    },
    "collapsed": true
   },
   "outputs": [],
   "source": [
    "mems = [a['member_ID'] for a in member_pages_coll.find()]"
   ]
  },
  {
   "cell_type": "code",
   "execution_count": 20,
   "metadata": {
    "ExecuteTime": {
     "end_time": "2017-06-16T15:34:02.455753",
     "start_time": "2017-06-16T08:34:02.372876-07:00"
    },
    "collapsed": false
   },
   "outputs": [],
   "source": [
    "mems_left = set(memberIDs) - set(mems)"
   ]
  },
  {
   "cell_type": "code",
   "execution_count": 23,
   "metadata": {
    "ExecuteTime": {
     "end_time": "2017-06-16T15:34:27.764803",
     "start_time": "2017-06-16T08:34:27.328271-07:00"
    },
    "collapsed": true
   },
   "outputs": [],
   "source": [
    "mems_left = list(mems_left)"
   ]
  },
  {
   "cell_type": "code",
   "execution_count": 24,
   "metadata": {
    "ExecuteTime": {
     "end_time": "2017-06-16T15:34:28.335219",
     "start_time": "2017-06-16T08:34:28.277876-07:00"
    },
    "collapsed": false
   },
   "outputs": [
    {
     "data": {
      "text/plain": [
       "43"
      ]
     },
     "execution_count": 24,
     "metadata": {},
     "output_type": "execute_result"
    }
   ],
   "source": [
    "len(mems_left)"
   ]
  },
  {
   "cell_type": "markdown",
   "metadata": {},
   "source": [
    "# Scrape member pages using `scraper` code "
   ]
  },
  {
   "cell_type": "code",
   "execution_count": 21,
   "metadata": {
    "ExecuteTime": {
     "end_time": "2017-06-16T15:34:04.154085",
     "start_time": "2017-06-16T08:34:02.487108-07:00"
    },
    "collapsed": false
   },
   "outputs": [],
   "source": [
    "import scraper"
   ]
  },
  {
   "cell_type": "code",
   "execution_count": 22,
   "metadata": {
    "ExecuteTime": {
     "end_time": "2017-06-16T15:34:08.431281",
     "start_time": "2017-06-16T08:34:04.157021-07:00"
    },
    "collapsed": false,
    "scrolled": true
   },
   "outputs": [
    {
     "name": "stdout",
     "output_type": "stream",
     "text": [
      "Connected to mongodb://localhost:27017/\n"
     ]
    }
   ],
   "source": [
    "scrape1 = scraper.Scraper(browser=\"Firefox\")"
   ]
  },
  {
   "cell_type": "code",
   "execution_count": 26,
   "metadata": {
    "ExecuteTime": {
     "end_time": "2017-06-16T17:29:46.625434",
     "start_time": "2017-06-16T09:47:33.525488-07:00"
    },
    "collapsed": false,
    "scrolled": true
   },
   "outputs": [
    {
     "name": "stdout",
     "output_type": "stream",
     "text": [
      "16255072 25\n",
      "accessing http://allrecipes.com/cook/16255072/about-me/ \n",
      "\n",
      "accessing http://allrecipes.com/cook/16255072/favorites/ \n",
      "\n",
      "accessing http://allrecipes.com/cook/16255072/following/ \n",
      "\n",
      "accessing http://allrecipes.com/cook/16255072/followers/ \n",
      "\n",
      "accessing http://allrecipes.com/cook/16255072/reviews/ \n",
      "\n",
      "accessing http://allrecipes.com/cook/16255072/made-it/ \n",
      "\n",
      "accessing http://allrecipes.com/cook/16255072/recipes/ \n",
      "\n",
      "13547633 24\n",
      "accessing http://allrecipes.com/cook/13547633/about-me/ \n",
      "\n",
      "accessing http://allrecipes.com/cook/13547633/favorites/ \n",
      "\n",
      "accessing http://allrecipes.com/cook/13547633/following/ \n",
      "\n",
      "accessing http://allrecipes.com/cook/13547633/followers/ \n",
      "\n",
      "accessing http://allrecipes.com/cook/13547633/reviews/ \n",
      "\n",
      "accessing http://allrecipes.com/cook/13547633/made-it/ \n",
      "\n",
      "accessing http://allrecipes.com/cook/13547633/recipes/ \n",
      "\n",
      "6492551 23\n",
      "accessing http://allrecipes.com/cook/6492551/about-me/ \n",
      "\n",
      "accessing http://allrecipes.com/cook/6492551/favorites/ \n",
      "\n",
      "accessing http://allrecipes.com/cook/6492551/following/ \n",
      "\n",
      "accessing http://allrecipes.com/cook/6492551/followers/ \n",
      "\n",
      "accessing http://allrecipes.com/cook/6492551/reviews/ \n",
      "\n",
      "accessing http://allrecipes.com/cook/6492551/made-it/ \n",
      "\n",
      "accessing http://allrecipes.com/cook/6492551/recipes/ \n",
      "\n",
      "8259861 22\n",
      "accessing http://allrecipes.com/cook/8259861/about-me/ \n",
      "\n",
      "accessing http://allrecipes.com/cook/8259861/favorites/ \n",
      "\n",
      "accessing http://allrecipes.com/cook/8259861/following/ \n",
      "\n",
      "accessing http://allrecipes.com/cook/8259861/followers/ \n",
      "\n",
      "accessing http://allrecipes.com/cook/8259861/reviews/ \n",
      "\n",
      "accessing http://allrecipes.com/cook/8259861/made-it/ \n",
      "\n",
      "accessing http://allrecipes.com/cook/8259861/recipes/ \n",
      "\n",
      "5175308 21\n",
      "accessing http://allrecipes.com/cook/5175308/about-me/ \n",
      "\n",
      "accessing http://allrecipes.com/cook/5175308/favorites/ \n",
      "\n",
      "accessing http://allrecipes.com/cook/5175308/following/ \n",
      "\n",
      "accessing http://allrecipes.com/cook/5175308/followers/ \n",
      "\n",
      "accessing http://allrecipes.com/cook/5175308/reviews/ \n",
      "\n",
      "accessing http://allrecipes.com/cook/5175308/made-it/ \n",
      "\n",
      "accessing http://allrecipes.com/cook/5175308/recipes/ \n",
      "\n",
      "16914429 20\n",
      "accessing http://allrecipes.com/cook/16914429/about-me/ \n",
      "\n",
      "accessing http://allrecipes.com/cook/16914429/favorites/ \n",
      "\n",
      "accessing http://allrecipes.com/cook/16914429/following/ \n",
      "\n",
      "accessing http://allrecipes.com/cook/16914429/followers/ \n",
      "\n",
      "accessing http://allrecipes.com/cook/16914429/reviews/ \n",
      "\n",
      "accessing http://allrecipes.com/cook/16914429/made-it/ \n",
      "\n",
      "accessing http://allrecipes.com/cook/16914429/recipes/ \n",
      "\n",
      "3704796 19\n",
      "accessing http://allrecipes.com/cook/3704796/about-me/ \n",
      "\n",
      "accessing http://allrecipes.com/cook/3704796/favorites/ \n",
      "\n",
      "accessing http://allrecipes.com/cook/3704796/following/ \n",
      "\n",
      "accessing http://allrecipes.com/cook/3704796/followers/ \n",
      "\n",
      "accessing http://allrecipes.com/cook/3704796/reviews/ \n",
      "\n",
      "accessing http://allrecipes.com/cook/3704796/made-it/ \n",
      "\n",
      "accessing http://allrecipes.com/cook/3704796/recipes/ \n",
      "\n",
      "640895 18\n",
      "accessing http://allrecipes.com/cook/640895/about-me/ \n",
      "\n",
      "accessing http://allrecipes.com/cook/640895/favorites/ \n",
      "\n",
      "accessing http://allrecipes.com/cook/640895/following/ \n",
      "\n",
      "accessing http://allrecipes.com/cook/640895/followers/ \n",
      "\n",
      "accessing http://allrecipes.com/cook/640895/reviews/ \n",
      "\n",
      "accessing http://allrecipes.com/cook/640895/made-it/ \n",
      "\n",
      "accessing http://allrecipes.com/cook/640895/recipes/ \n",
      "\n",
      "1154050 17\n",
      "accessing http://allrecipes.com/cook/1154050/about-me/ \n",
      "\n",
      "accessing http://allrecipes.com/cook/1154050/favorites/ \n",
      "\n",
      "accessing http://allrecipes.com/cook/1154050/following/ \n",
      "\n",
      "accessing http://allrecipes.com/cook/1154050/followers/ \n",
      "\n",
      "accessing http://allrecipes.com/cook/1154050/reviews/ \n",
      "\n",
      "accessing http://allrecipes.com/cook/1154050/made-it/ \n",
      "\n",
      "accessing http://allrecipes.com/cook/1154050/recipes/ \n",
      "\n",
      "5026732 16\n",
      "accessing http://allrecipes.com/cook/5026732/about-me/ \n",
      "\n",
      "accessing http://allrecipes.com/cook/5026732/favorites/ \n",
      "\n",
      "accessing http://allrecipes.com/cook/5026732/following/ \n",
      "\n",
      "accessing http://allrecipes.com/cook/5026732/followers/ \n",
      "\n",
      "accessing http://allrecipes.com/cook/5026732/reviews/ \n",
      "\n",
      "accessing http://allrecipes.com/cook/5026732/made-it/ \n",
      "\n",
      "accessing http://allrecipes.com/cook/5026732/recipes/ \n",
      "\n",
      "10681099 15\n",
      "accessing http://allrecipes.com/cook/10681099/about-me/ \n",
      "\n",
      "accessing http://allrecipes.com/cook/10681099/favorites/ \n",
      "\n",
      "accessing http://allrecipes.com/cook/10681099/following/ \n",
      "\n",
      "accessing http://allrecipes.com/cook/10681099/followers/ \n",
      "\n",
      "accessing http://allrecipes.com/cook/10681099/reviews/ \n",
      "\n",
      "accessing http://allrecipes.com/cook/10681099/made-it/ \n",
      "\n",
      "accessing http://allrecipes.com/cook/10681099/recipes/ \n",
      "\n",
      "17894325 14\n",
      "accessing http://allrecipes.com/cook/17894325/about-me/ \n",
      "\n",
      "accessing http://allrecipes.com/cook/17894325/favorites/ \n",
      "\n",
      "accessing http://allrecipes.com/cook/17894325/following/ \n",
      "\n",
      "accessing http://allrecipes.com/cook/17894325/followers/ \n",
      "\n",
      "accessing http://allrecipes.com/cook/17894325/reviews/ \n",
      "\n",
      "accessing http://allrecipes.com/cook/17894325/made-it/ \n",
      "\n",
      "accessing http://allrecipes.com/cook/17894325/recipes/ \n",
      "\n",
      "15521350 13\n",
      "accessing http://allrecipes.com/cook/15521350/about-me/ \n",
      "\n",
      "accessing http://allrecipes.com/cook/15521350/favorites/ \n",
      "\n",
      "accessing http://allrecipes.com/cook/15521350/following/ \n",
      "\n",
      "accessing http://allrecipes.com/cook/15521350/followers/ \n",
      "\n",
      "accessing http://allrecipes.com/cook/15521350/reviews/ \n",
      "\n",
      "accessing http://allrecipes.com/cook/15521350/made-it/ \n",
      "\n",
      "accessing http://allrecipes.com/cook/15521350/recipes/ \n",
      "\n",
      "2922297 12\n",
      "accessing http://allrecipes.com/cook/2922297/about-me/ \n",
      "\n",
      "accessing http://allrecipes.com/cook/2922297/favorites/ \n",
      "\n",
      "accessing http://allrecipes.com/cook/2922297/following/ \n",
      "\n",
      "accessing http://allrecipes.com/cook/2922297/followers/ \n",
      "\n",
      "accessing http://allrecipes.com/cook/2922297/reviews/ \n",
      "\n",
      "accessing http://allrecipes.com/cook/2922297/made-it/ \n",
      "\n",
      "accessing http://allrecipes.com/cook/2922297/recipes/ \n",
      "\n",
      "5732985 11\n",
      "accessing http://allrecipes.com/cook/5732985/about-me/ \n",
      "\n",
      "accessing http://allrecipes.com/cook/5732985/favorites/ \n",
      "\n",
      "accessing http://allrecipes.com/cook/5732985/following/ \n",
      "\n",
      "accessing http://allrecipes.com/cook/5732985/followers/ \n",
      "\n",
      "accessing http://allrecipes.com/cook/5732985/reviews/ \n",
      "\n",
      "accessing http://allrecipes.com/cook/5732985/made-it/ \n",
      "\n",
      "accessing http://allrecipes.com/cook/5732985/recipes/ \n",
      "\n",
      "19979454 10\n",
      "accessing http://allrecipes.com/cook/19979454/about-me/ \n",
      "\n",
      "accessing http://allrecipes.com/cook/19979454/favorites/ \n",
      "\n",
      "accessing http://allrecipes.com/cook/19979454/following/ \n",
      "\n",
      "accessing http://allrecipes.com/cook/19979454/followers/ \n",
      "\n",
      "accessing http://allrecipes.com/cook/19979454/reviews/ \n",
      "\n",
      "accessing http://allrecipes.com/cook/19979454/made-it/ \n",
      "\n",
      "accessing http://allrecipes.com/cook/19979454/recipes/ \n",
      "\n",
      "6916379 9\n",
      "accessing http://allrecipes.com/cook/6916379/about-me/ \n",
      "\n",
      "accessing http://allrecipes.com/cook/6916379/favorites/ \n",
      "\n",
      "accessing http://allrecipes.com/cook/6916379/following/ \n",
      "\n",
      "accessing http://allrecipes.com/cook/6916379/followers/ \n",
      "\n",
      "accessing http://allrecipes.com/cook/6916379/reviews/ \n",
      "\n",
      "accessing http://allrecipes.com/cook/6916379/made-it/ \n",
      "\n",
      "accessing http://allrecipes.com/cook/6916379/recipes/ \n",
      "\n",
      "1503742 8\n",
      "accessing http://allrecipes.com/cook/1503742/about-me/ \n",
      "\n",
      "accessing http://allrecipes.com/cook/1503742/favorites/ \n",
      "\n",
      "accessing http://allrecipes.com/cook/1503742/following/ \n",
      "\n",
      "accessing http://allrecipes.com/cook/1503742/followers/ \n",
      "\n",
      "accessing http://allrecipes.com/cook/1503742/reviews/ \n",
      "\n",
      "accessing http://allrecipes.com/cook/1503742/made-it/ \n",
      "\n",
      "accessing http://allrecipes.com/cook/1503742/recipes/ \n",
      "\n",
      "13872279 7\n",
      "accessing http://allrecipes.com/cook/13872279/about-me/ \n",
      "\n",
      "accessing http://allrecipes.com/cook/13872279/favorites/ \n",
      "\n",
      "accessing http://allrecipes.com/cook/13872279/following/ \n",
      "\n",
      "accessing http://allrecipes.com/cook/13872279/followers/ \n",
      "\n",
      "accessing http://allrecipes.com/cook/13872279/reviews/ \n",
      "\n",
      "accessing http://allrecipes.com/cook/13872279/made-it/ \n",
      "\n",
      "accessing http://allrecipes.com/cook/13872279/recipes/ \n",
      "\n",
      "9732727 6\n",
      "accessing http://allrecipes.com/cook/9732727/about-me/ \n",
      "\n",
      "accessing http://allrecipes.com/cook/9732727/favorites/ \n",
      "\n",
      "accessing http://allrecipes.com/cook/9732727/following/ \n",
      "\n",
      "accessing http://allrecipes.com/cook/9732727/followers/ \n",
      "\n",
      "accessing http://allrecipes.com/cook/9732727/reviews/ \n",
      "\n",
      "accessing http://allrecipes.com/cook/9732727/made-it/ \n",
      "\n",
      "accessing http://allrecipes.com/cook/9732727/recipes/ \n",
      "\n",
      "12279394 5\n",
      "accessing http://allrecipes.com/cook/12279394/about-me/ \n",
      "\n",
      "accessing http://allrecipes.com/cook/12279394/favorites/ \n",
      "\n",
      "accessing http://allrecipes.com/cook/12279394/following/ \n",
      "\n",
      "accessing http://allrecipes.com/cook/12279394/followers/ \n",
      "\n",
      "accessing http://allrecipes.com/cook/12279394/reviews/ \n",
      "\n",
      "accessing http://allrecipes.com/cook/12279394/made-it/ \n",
      "\n",
      "accessing http://allrecipes.com/cook/12279394/recipes/ \n",
      "\n",
      "7353004 4\n",
      "accessing http://allrecipes.com/cook/7353004/about-me/ \n",
      "\n",
      "accessing http://allrecipes.com/cook/7353004/favorites/ \n",
      "\n",
      "accessing http://allrecipes.com/cook/7353004/following/ \n",
      "\n",
      "accessing http://allrecipes.com/cook/7353004/followers/ \n",
      "\n",
      "accessing http://allrecipes.com/cook/7353004/reviews/ \n",
      "\n",
      "accessing http://allrecipes.com/cook/7353004/made-it/ \n",
      "\n",
      "accessing http://allrecipes.com/cook/7353004/recipes/ \n",
      "\n",
      "5255353 3\n",
      "accessing http://allrecipes.com/cook/5255353/about-me/ \n",
      "\n",
      "accessing http://allrecipes.com/cook/5255353/favorites/ \n",
      "\n",
      "accessing http://allrecipes.com/cook/5255353/following/ \n",
      "\n",
      "accessing http://allrecipes.com/cook/5255353/followers/ \n",
      "\n",
      "accessing http://allrecipes.com/cook/5255353/reviews/ \n",
      "\n",
      "accessing http://allrecipes.com/cook/5255353/made-it/ \n",
      "\n",
      "accessing http://allrecipes.com/cook/5255353/recipes/ \n",
      "\n",
      "1171154 2\n",
      "accessing http://allrecipes.com/cook/1171154/about-me/ \n",
      "\n",
      "accessing http://allrecipes.com/cook/1171154/favorites/ \n",
      "\n",
      "accessing http://allrecipes.com/cook/1171154/following/ \n",
      "\n",
      "accessing http://allrecipes.com/cook/1171154/followers/ \n",
      "\n",
      "accessing http://allrecipes.com/cook/1171154/reviews/ \n",
      "\n",
      "accessing http://allrecipes.com/cook/1171154/made-it/ \n",
      "\n",
      "accessing http://allrecipes.com/cook/1171154/recipes/ \n",
      "\n",
      "7869869 1\n",
      "accessing http://allrecipes.com/cook/7869869/about-me/ \n",
      "\n",
      "accessing http://allrecipes.com/cook/7869869/favorites/ \n",
      "\n",
      "accessing http://allrecipes.com/cook/7869869/following/ \n",
      "\n",
      "accessing http://allrecipes.com/cook/7869869/followers/ \n",
      "\n",
      "accessing http://allrecipes.com/cook/7869869/reviews/ \n",
      "\n",
      "accessing http://allrecipes.com/cook/7869869/made-it/ \n",
      "\n",
      "accessing http://allrecipes.com/cook/7869869/recipes/ \n",
      "\n"
     ]
    }
   ],
   "source": [
    "while mems_left: \n",
    "    print mems_left[-1],len(mems_left)\n",
    "    scrape1.get_member_pages(mems_left[-1]);\n",
    "    mems_left.pop()"
   ]
  },
  {
   "cell_type": "code",
   "execution_count": 28,
   "metadata": {
    "ExecuteTime": {
     "end_time": "2017-06-16T19:03:01.565092",
     "start_time": "2017-06-16T12:03:00.917262-07:00"
    },
    "collapsed": false
   },
   "outputs": [
    {
     "data": {
      "text/plain": [
       "1340"
      ]
     },
     "execution_count": 28,
     "metadata": {},
     "output_type": "execute_result"
    }
   ],
   "source": [
    "member_pages_coll.count()"
   ]
  }
 ],
 "metadata": {
  "kernelspec": {
   "display_name": "Python [conda env:python2]",
   "language": "python",
   "name": "conda-env-python2-py"
  },
  "language_info": {
   "codemirror_mode": {
    "name": "ipython",
    "version": 2
   },
   "file_extension": ".py",
   "mimetype": "text/x-python",
   "name": "python",
   "nbconvert_exporter": "python",
   "pygments_lexer": "ipython2",
   "version": "2.7.13"
  }
 },
 "nbformat": 4,
 "nbformat_minor": 2
}
