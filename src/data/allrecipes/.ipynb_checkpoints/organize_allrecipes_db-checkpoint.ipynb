{
 "cells": [
  {
   "cell_type": "markdown",
   "metadata": {},
   "source": [
    "# Organize allrecipes database \n",
    "- Create appropriate unique indices (based on recipe_ID, member_ID, etc. ) \n",
    "- Check number of documents\n",
    "\n",
    "# Issues: \n",
    "- There is a 20 item limit for each webpage pertaining to a member (e.g. \"favorites\": maximum of 20 are displayed on page).  "
   ]
  },
  {
   "cell_type": "code",
   "execution_count": 1,
   "metadata": {
    "ExecuteTime": {
     "end_time": "2017-06-26T20:14:06.811704Z",
     "start_time": "2017-06-26T20:14:06.598881Z"
    }
   },
   "outputs": [],
   "source": [
    "import pymongo \n",
    "client = pymongo.MongoClient(\"mongodb://localhost:27017/\")\n",
    "allrecipes_db = client.allrecipes\n",
    "member_pages_coll = allrecipes_db.member_pages\n",
    "members_coll = allrecipes_db.members\n",
    "recipes_coll = allrecipes_db.recipes\n",
    "about_coll = allrecipes_db.about"
   ]
  },
  {
   "cell_type": "code",
   "execution_count": 2,
   "metadata": {
    "ExecuteTime": {
     "end_time": "2017-06-26T20:14:20.760491Z",
     "start_time": "2017-06-26T20:14:20.641090Z"
    }
   },
   "outputs": [
    {
     "data": {
      "text/plain": [
       "u'recipe_ID_1'"
      ]
     },
     "execution_count": 2,
     "metadata": {},
     "output_type": "execute_result"
    }
   ],
   "source": [
    "# Create appropriate unique indices (based on recipe_ID, member_ID, etc. )\n",
    "# member_pages_coll.create_index([('member_ID',pymongo.ASCENDING)], unique=True)\n",
    "# members_coll.create_index([('member_ID',pymongo.ASCENDING)], unique=True)\n",
    "# recipes_coll.create_index([('recipe_ID',pymongo.ASCENDING)], unique=True)"
   ]
  },
  {
   "cell_type": "code",
   "execution_count": 3,
   "metadata": {
    "ExecuteTime": {
     "end_time": "2017-06-26T20:14:22.670754Z",
     "start_time": "2017-06-26T20:14:22.464563Z"
    }
   },
   "outputs": [
    {
     "name": "stdout",
     "output_type": "stream",
     "text": [
      "1430\n",
      "1430\n",
      "11111\n"
     ]
    }
   ],
   "source": [
    "print member_pages_coll.count()\n",
    "print members_coll.count()\n",
    "print recipes_coll.count()\n"
   ]
  },
  {
   "cell_type": "code",
   "execution_count": 4,
   "metadata": {
    "ExecuteTime": {
     "end_time": "2017-06-26T20:14:40.869928Z",
     "start_time": "2017-06-26T20:14:40.618472Z"
    }
   },
   "outputs": [],
   "source": [
    "member_page_keys = member_pages_coll.find_one().keys()"
   ]
  },
  {
   "cell_type": "code",
   "execution_count": 5,
   "metadata": {
    "ExecuteTime": {
     "end_time": "2017-06-26T20:14:47.050436Z",
     "start_time": "2017-06-26T20:14:47.006438Z"
    }
   },
   "outputs": [
    {
     "data": {
      "text/plain": [
       "[u'favorites_page',\n",
       " u'following_page',\n",
       " u'reviews_page',\n",
       " u'aboutme_page',\n",
       " u'madeit_page',\n",
       " u'link',\n",
       " u'member_ID',\n",
       " u'followers_page',\n",
       " u'_id',\n",
       " u'recipes_page']"
      ]
     },
     "execution_count": 5,
     "metadata": {},
     "output_type": "execute_result"
    }
   ],
   "source": [
    "member_page_keys"
   ]
  },
  {
   "cell_type": "code",
   "execution_count": 6,
   "metadata": {
    "ExecuteTime": {
     "end_time": "2017-06-26T20:14:57.610748Z",
     "start_time": "2017-06-26T20:14:57.471111Z"
    }
   },
   "outputs": [],
   "source": [
    "member_keys = members_coll.find_one({'followers_dict':{\"$exists\":True}}).keys()"
   ]
  },
  {
   "cell_type": "code",
   "execution_count": 62,
   "metadata": {
    "ExecuteTime": {
     "end_time": "2017-06-20T06:43:47.324825",
     "start_time": "2017-06-19T23:43:47.255493-07:00"
    }
   },
   "outputs": [],
   "source": [
    "recipe_keys = recipes_coll.find_one().keys()"
   ]
  },
  {
   "cell_type": "code",
   "execution_count": 63,
   "metadata": {
    "ExecuteTime": {
     "end_time": "2017-06-20T06:43:47.904052",
     "start_time": "2017-06-19T23:43:47.863425-07:00"
    },
    "scrolled": false
   },
   "outputs": [],
   "source": [
    "member_essentials = set(member_keys) - set(member_page_keys)"
   ]
  },
  {
   "cell_type": "code",
   "execution_count": 64,
   "metadata": {
    "ExecuteTime": {
     "end_time": "2017-06-20T06:43:48.555933",
     "start_time": "2017-06-19T23:43:48.497274-07:00"
    },
    "scrolled": true
   },
   "outputs": [
    {
     "data": {
      "text/plain": [
       "{u'aboutme',\n",
       " u'favorites_dict',\n",
       " u'favorites_recipe_id_list',\n",
       " u'followers_dict',\n",
       " u'followers_recipe_id_list',\n",
       " u'following_dict',\n",
       " u'following_recipe_id_list',\n",
       " u'madeits_dict',\n",
       " u'madeits_recipe_id_list',\n",
       " u'reviews_dict',\n",
       " u'reviews_recipe_id_list'}"
      ]
     },
     "execution_count": 64,
     "metadata": {},
     "output_type": "execute_result"
    }
   ],
   "source": [
    "# These are the field required fomr members\n",
    "member_essentials"
   ]
  },
  {
   "cell_type": "code",
   "execution_count": 82,
   "metadata": {
    "ExecuteTime": {
     "end_time": "2017-06-20T12:34:43.911870",
     "start_time": "2017-06-20T05:34:06.166543-07:00"
    },
    "collapsed": true
   },
   "outputs": [],
   "source": [
    "pages_list = [a['member_ID'] for a in member_pages_coll.find({\"member_ID\":{\"$exists\":True}})]\n",
    "mems_list = [a['member_ID'] for a in members_coll.find({\"member_ID\":{\"$exists\":True}})]"
   ]
  },
  {
   "cell_type": "code",
   "execution_count": 83,
   "metadata": {
    "ExecuteTime": {
     "end_time": "2017-06-20T12:34:43.965034",
     "start_time": "2017-06-20T05:34:43.918093-07:00"
    },
    "collapsed": true
   },
   "outputs": [],
   "source": [
    "hit_list = set(pages_list) - set(mems_list)"
   ]
  },
  {
   "cell_type": "code",
   "execution_count": 84,
   "metadata": {
    "ExecuteTime": {
     "end_time": "2017-06-20T12:34:44.022544",
     "start_time": "2017-06-20T05:34:43.967984-07:00"
    }
   },
   "outputs": [
    {
     "data": {
      "text/plain": [
       "0"
      ]
     },
     "execution_count": 84,
     "metadata": {},
     "output_type": "execute_result"
    }
   ],
   "source": [
    "len(hit_list)"
   ]
  },
  {
   "cell_type": "code",
   "execution_count": 78,
   "metadata": {
    "ExecuteTime": {
     "end_time": "2017-06-20T07:03:57.535819",
     "start_time": "2017-06-20T00:03:57.496218-07:00"
    },
    "collapsed": true
   },
   "outputs": [],
   "source": [
    "r_hit_list = set(mems_list) - set(pages_list)"
   ]
  },
  {
   "cell_type": "code",
   "execution_count": 80,
   "metadata": {
    "ExecuteTime": {
     "end_time": "2017-06-20T07:18:36.061621",
     "start_time": "2017-06-20T00:18:35.430608-07:00"
    }
   },
   "outputs": [
    {
     "data": {
      "text/plain": [
       "91"
      ]
     },
     "execution_count": 80,
     "metadata": {},
     "output_type": "execute_result"
    }
   ],
   "source": [
    "len(r_hit_list)"
   ]
  },
  {
   "cell_type": "code",
   "execution_count": 22,
   "metadata": {
    "ExecuteTime": {
     "end_time": "2017-06-20T04:57:09.212819",
     "start_time": "2017-06-19T21:57:08.986530-07:00"
    },
    "scrolled": true
   },
   "outputs": [
    {
     "data": {
      "text/plain": [
       "['__init__',\n",
       " 'get_community_members',\n",
       " 'get_community_members_continue',\n",
       " 'get_community_page_scrolled',\n",
       " 'get_member_pages',\n",
       " 'get_page_from_list',\n",
       " 'use_firefox',\n",
       " 'use_phantom']"
      ]
     },
     "execution_count": 22,
     "metadata": {},
     "output_type": "execute_result"
    }
   ],
   "source": [
    "import sys \n",
    "sys.path.insert(0,'../..')\n",
    "import main\n",
    "import inspect\n",
    "# Get list of methods in `scraper`\n",
    "[a[0] for a in inspect.getmembers(scraper.Scraper, inspect.ismethod)]"
   ]
  },
  {
   "cell_type": "code",
   "execution_count": 21,
   "metadata": {
    "ExecuteTime": {
     "end_time": "2017-06-20T04:56:58.988611",
     "start_time": "2017-06-19T21:56:54.840502-07:00"
    }
   },
   "outputs": [
    {
     "data": {
      "text/plain": [
       "['__init__',\n",
       " 'check_member_records',\n",
       " 'get_aboutme_data',\n",
       " 'get_favorites_data',\n",
       " 'get_followers_data',\n",
       " 'get_following_data',\n",
       " 'get_html',\n",
       " 'get_madeits_data',\n",
       " 'get_member_list_to_parse',\n",
       " 'get_member_parsed_data',\n",
       " 'get_members_aboutme_from_pkl',\n",
       " 'get_members_favorites',\n",
       " 'get_members_followers',\n",
       " 'get_members_following',\n",
       " 'get_members_madeits',\n",
       " 'get_members_reviews',\n",
       " 'get_recipe_data',\n",
       " 'get_recipe_pkl_page_from_aws',\n",
       " 'get_reviews_data']"
      ]
     },
     "execution_count": 21,
     "metadata": {},
     "output_type": "execute_result"
    }
   ],
   "source": [
    "# Get list of methods in `Parser`\n",
    "[a[0] for a in inspect.getmembers(scraper.Parser, inspect.ismethod)]"
   ]
  },
  {
   "cell_type": "code",
   "execution_count": 27,
   "metadata": {
    "ExecuteTime": {
     "end_time": "2017-06-20T05:41:03.417232",
     "start_time": "2017-06-19T22:41:03.367205-07:00"
    }
   },
   "outputs": [],
   "source": [
    "hit_list = list(hit_list)"
   ]
  },
  {
   "cell_type": "markdown",
   "metadata": {},
   "source": [
    "# Populate `members_coll` with parsed data from `member_pages_coll`  "
   ]
  },
  {
   "cell_type": "code",
   "execution_count": 113,
   "metadata": {
    "ExecuteTime": {
     "end_time": "2017-06-20T16:55:18.751099",
     "start_time": "2017-06-20T09:55:13.206949-07:00"
    },
    "scrolled": true
   },
   "outputs": [
    {
     "name": "stdout",
     "output_type": "stream",
     "text": [
      "Connected to Database(MongoClient(host=['localhost:27017'], document_class=dict, tz_aware=False, connect=True), u'allrecipes')\n",
      "number of member_pages: 1430\n",
      "number of docs with member_IDs: 1430\n",
      "number of docs with followers_dict 1430\n",
      "number of docs with following_dict 1430\n",
      "number of docs with reviews_dict 1430\n",
      "number of docs with favorites_dict 1430\n",
      "number of docs with madeits_dict 1430\n",
      "number of docs with aboutme 1430\n"
     ]
    }
   ],
   "source": [
    "parser1 = main.Parser()"
   ]
  }
 ],
 "metadata": {
  "kernelspec": {
   "display_name": "Python [conda env:python2]",
   "language": "python",
   "name": "conda-env-python2-py"
  },
  "language_info": {
   "codemirror_mode": {
    "name": "ipython",
    "version": 2
   },
   "file_extension": ".py",
   "mimetype": "text/x-python",
   "name": "python",
   "nbconvert_exporter": "python",
   "pygments_lexer": "ipython2",
   "version": "2.7.13"
  }
 },
 "nbformat": 4,
 "nbformat_minor": 2
}
