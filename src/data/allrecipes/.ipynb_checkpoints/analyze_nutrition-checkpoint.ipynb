{
 "cells": [
  {
   "cell_type": "markdown",
   "metadata": {},
   "source": [
    "# Analyze nutritonal content of recipes\n",
    "- calories \n",
    "- fat \n",
    "- protein \n",
    "- carbohydrates \n",
    "- sodium \n",
    "\n",
    "## Calories per serving: \n",
    "# contained in first element of `nutrition_info` in each recipe document.  "
   ]
  },
  {
   "cell_type": "code",
   "execution_count": 2,
   "metadata": {
    "ExecuteTime": {
     "end_time": "2017-06-21T22:19:26.659901Z",
     "start_time": "2017-06-21T15:19:26.399843-07:00"
    },
    "collapsed": true
   },
   "outputs": [],
   "source": [
    "import pymongo \n",
    "client = pymongo.MongoClient('mongodb://localhost/27017')\n",
    "allrecipes = client.allrecipes\n",
    "recipes_coll = allrecipes.recipes"
   ]
  },
  {
   "cell_type": "code",
   "execution_count": null,
   "metadata": {
    "ExecuteTime": {
     "start_time": "2017-06-21T22:19:28.516Z"
    },
    "collapsed": true
   },
   "outputs": [],
   "source": [
    "recipes_with_nutrition = list(recipes_coll.find({'nutrition_info':{'$exists': True}},['recipe_ID', 'name', 'nutrition_info']))"
   ]
  },
  {
   "cell_type": "code",
   "execution_count": null,
   "metadata": {
    "ExecuteTime": {
     "start_time": "2017-06-21T22:19:28.726Z"
    }
   },
   "outputs": [],
   "source": [
    "recipes_coll.find_one().keys()"
   ]
  },
  {
   "cell_type": "code",
   "execution_count": null,
   "metadata": {
    "ExecuteTime": {
     "start_time": "2017-06-21T22:19:31.608Z"
    }
   },
   "outputs": [],
   "source": [
    "print \"number of recipes: {}\".format(len([a['nutrition_info'][0] for a in recipes_with_nutrition]))\n",
    "calories_info = [a['nutrition_info'][0] for a in recipes_with_nutrition]"
   ]
  },
  {
   "cell_type": "code",
   "execution_count": 9,
   "metadata": {
    "ExecuteTime": {
     "end_time": "2017-06-21T20:06:42.316219Z",
     "start_time": "2017-06-21T13:06:42.292969-07:00"
    }
   },
   "outputs": [
    {
     "data": {
      "text/plain": [
       "u'Calories:207 kcal'"
      ]
     },
     "execution_count": 9,
     "metadata": {},
     "output_type": "execute_result"
    }
   ],
   "source": [
    "calories_info[0]"
   ]
  },
  {
   "cell_type": "code",
   "execution_count": 6,
   "metadata": {
    "ExecuteTime": {
     "end_time": "2017-06-21T20:06:10.076074Z",
     "start_time": "2017-06-21T13:06:10.047120-07:00"
    },
    "collapsed": true,
    "scrolled": true
   },
   "outputs": [],
   "source": [
    "recs_with_nutrition_info = [a for a in recipes_with_nutrition if len(a['nutrition_info']) >0]"
   ]
  },
  {
   "cell_type": "code",
   "execution_count": 7,
   "metadata": {
    "ExecuteTime": {
     "end_time": "2017-06-21T20:06:14.018085Z",
     "start_time": "2017-06-21T13:06:13.989803-07:00"
    },
    "scrolled": true
   },
   "outputs": [
    {
     "data": {
      "text/plain": [
       "9023"
      ]
     },
     "execution_count": 7,
     "metadata": {},
     "output_type": "execute_result"
    }
   ],
   "source": [
    "len(recs_with_nutrition_info)"
   ]
  },
  {
   "cell_type": "code",
   "execution_count": 8,
   "metadata": {
    "ExecuteTime": {
     "end_time": "2017-06-21T20:06:21.681235Z",
     "start_time": "2017-06-21T13:06:21.655363-07:00"
    }
   },
   "outputs": [
    {
     "data": {
      "text/plain": [
       "7863"
      ]
     },
     "execution_count": 8,
     "metadata": {},
     "output_type": "execute_result"
    }
   ],
   "source": [
    "len([a for a in calories_info if len(a)>0])"
   ]
  },
  {
   "cell_type": "code",
   "execution_count": 27,
   "metadata": {
    "ExecuteTime": {
     "end_time": "2017-06-10T23:13:09.370057",
     "start_time": "2017-06-10T16:13:09.216371-07:00"
    }
   },
   "outputs": [
    {
     "data": {
      "text/plain": [
       "9023"
      ]
     },
     "execution_count": 27,
     "metadata": {},
     "output_type": "execute_result"
    }
   ],
   "source": [
    "len(recs_with_nutrition_info)"
   ]
  },
  {
   "cell_type": "code",
   "execution_count": 28,
   "metadata": {
    "ExecuteTime": {
     "end_time": "2017-06-10T23:13:09.490574",
     "start_time": "2017-06-10T16:13:09.388144-07:00"
    },
    "collapsed": true
   },
   "outputs": [],
   "source": [
    "recs_with_calorie_info = [a for a in recipes_with_nutrition if len(a['nutrition_info'][0]) >0]"
   ]
  },
  {
   "cell_type": "code",
   "execution_count": 29,
   "metadata": {
    "ExecuteTime": {
     "end_time": "2017-06-10T23:13:09.559054",
     "start_time": "2017-06-10T16:13:09.505383-07:00"
    }
   },
   "outputs": [
    {
     "data": {
      "text/plain": [
       "7863"
      ]
     },
     "execution_count": 29,
     "metadata": {},
     "output_type": "execute_result"
    }
   ],
   "source": [
    "len(recs_with_calorie_info)"
   ]
  },
  {
   "cell_type": "code",
   "execution_count": 30,
   "metadata": {
    "ExecuteTime": {
     "end_time": "2017-06-10T23:13:09.589460",
     "start_time": "2017-06-10T16:13:09.562475-07:00"
    },
    "scrolled": true
   },
   "outputs": [
    {
     "data": {
      "text/plain": [
       "[u'nutrition_info', u'_id', u'recipe_ID', u'name']"
      ]
     },
     "execution_count": 30,
     "metadata": {},
     "output_type": "execute_result"
    }
   ],
   "source": [
    "recs_with_calorie_info[0].keys()"
   ]
  },
  {
   "cell_type": "code",
   "execution_count": 31,
   "metadata": {
    "ExecuteTime": {
     "end_time": "2017-06-10T23:13:09.723124",
     "start_time": "2017-06-10T16:13:09.592029-07:00"
    },
    "collapsed": true,
    "scrolled": true
   },
   "outputs": [],
   "source": [
    "recs_list_with_calorie_info = [(a['recipe_ID'],a['name'],a['nutrition_info'][0].split(':')[1]) for a in recs_with_calorie_info]"
   ]
  },
  {
   "cell_type": "code",
   "execution_count": 33,
   "metadata": {
    "ExecuteTime": {
     "end_time": "2017-06-10T23:13:27.741365",
     "start_time": "2017-06-10T16:13:27.719646-07:00"
    }
   },
   "outputs": [
    {
     "data": {
      "text/plain": [
       "(u'10141', [u'Outrageous Chocolate Chip Cookies'], u'207 kcal')"
      ]
     },
     "execution_count": 33,
     "metadata": {},
     "output_type": "execute_result"
    }
   ],
   "source": [
    "# Get we\n",
    "recs_list_with_calorie_info[0]"
   ]
  },
  {
   "cell_type": "code",
   "execution_count": 34,
   "metadata": {
    "ExecuteTime": {
     "end_time": "2017-06-10T23:13:28.948750",
     "start_time": "2017-06-10T16:13:28.927192-07:00"
    }
   },
   "outputs": [
    {
     "data": {
      "text/plain": [
       "<bound method Collection.find_one_and_update of Collection(Database(MongoClient(host=['localhost:27017'], document_class=dict, tz_aware=False, connect=True), u'allrecipes'), u'recipes')>"
      ]
     },
     "execution_count": 34,
     "metadata": {},
     "output_type": "execute_result"
    }
   ],
   "source": [
    "recipes_coll.find_one_and_update"
   ]
  },
  {
   "cell_type": "code",
   "execution_count": 38,
   "metadata": {
    "ExecuteTime": {
     "end_time": "2017-06-10T23:14:56.685592",
     "start_time": "2017-06-10T16:14:56.550886-07:00"
    },
    "collapsed": true,
    "scrolled": true
   },
   "outputs": [],
   "source": [
    "calorie_info = [(a['recipe_ID'],a['nutrition_info'][0]) for a in recs_with_nutrition_info]"
   ]
  },
  {
   "cell_type": "code",
   "execution_count": 39,
   "metadata": {
    "ExecuteTime": {
     "end_time": "2017-06-10T23:14:59.709086",
     "start_time": "2017-06-10T16:14:59.671852-07:00"
    },
    "collapsed": true,
    "scrolled": false
   },
   "outputs": [],
   "source": [
    "fat_info = [(a['recipe_ID'], a['nutrition_info'][4].split('%')[1]) for a in recs_with_calorie_info]"
   ]
  },
  {
   "cell_type": "code",
   "execution_count": 40,
   "metadata": {
    "ExecuteTime": {
     "end_time": "2017-06-10T23:15:00.369801",
     "start_time": "2017-06-10T16:15:00.334728-07:00"
    },
    "collapsed": true
   },
   "outputs": [],
   "source": [
    "carb_info = [(a['recipe_ID'], a['nutrition_info'][8].split('%')[1]) for a in recs_with_calorie_info]"
   ]
  },
  {
   "cell_type": "code",
   "execution_count": 41,
   "metadata": {
    "ExecuteTime": {
     "end_time": "2017-06-10T23:15:01.013622",
     "start_time": "2017-06-10T16:15:00.951370-07:00"
    },
    "collapsed": true
   },
   "outputs": [],
   "source": [
    "protein_info = [(a['recipe_ID'], a['nutrition_info'][12].split('%')[1]) for a in recs_with_calorie_info]"
   ]
  },
  {
   "cell_type": "code",
   "execution_count": 42,
   "metadata": {
    "ExecuteTime": {
     "end_time": "2017-06-10T23:15:01.933452",
     "start_time": "2017-06-10T16:15:01.896402-07:00"
    },
    "collapsed": true
   },
   "outputs": [],
   "source": [
    "cholesterol_info = [(a['recipe_ID'], a['nutrition_info'][16].split('%')[1]) for a in recs_with_calorie_info]"
   ]
  },
  {
   "cell_type": "code",
   "execution_count": 43,
   "metadata": {
    "ExecuteTime": {
     "end_time": "2017-06-10T23:15:02.517952",
     "start_time": "2017-06-10T16:15:02.479298-07:00"
    },
    "collapsed": true
   },
   "outputs": [],
   "source": [
    "sodium_info = [(a['recipe_ID'], a['nutrition_info'][20].split('%')[1]) for a in recs_with_calorie_info]"
   ]
  },
  {
   "cell_type": "code",
   "execution_count": 44,
   "metadata": {
    "ExecuteTime": {
     "end_time": "2017-06-10T23:15:04.190664",
     "start_time": "2017-06-10T16:15:04.166673-07:00"
    },
    "scrolled": true
   },
   "outputs": [
    {
     "data": {
      "text/plain": [
       "[(u'10141', u'Sodium: 178 mg'),\n",
       " (u'10159', u'Sodium: 92 mg'),\n",
       " (u'10217', u'Sodium: 103 mg'),\n",
       " (u'103144', u'Sodium: 79 mg'),\n",
       " (u'103170', u'Sodium: 36 mg'),\n",
       " (u'10365', u'Sodium: 126 mg'),\n",
       " (u'103674', u'Sodium: 1255 mg'),\n",
       " (u'10385', u'Sodium: 81 mg'),\n",
       " (u'10396', u'Sodium: 116 mg'),\n",
       " (u'10402', u'Sodium: 93 mg'),\n",
       " (u'104869', u'Sodium: 359 mg'),\n",
       " (u'104928', u'Sodium: 400 mg'),\n",
       " (u'10517', u'Sodium: 58 mg'),\n",
       " (u'10561', u'Sodium: 173 mg'),\n",
       " (u'10638', u'Sodium: 55 mg'),\n",
       " (u'10706', u'Sodium: 136 mg'),\n",
       " (u'107613', u'Sodium: 521 mg'),\n",
       " (u'10874', u'Sodium: 114 mg'),\n",
       " (u'109899', u'Sodium: 56 mg'),\n",
       " (u'11008', u'Sodium: 171 mg')]"
      ]
     },
     "execution_count": 44,
     "metadata": {},
     "output_type": "execute_result"
    }
   ],
   "source": [
    "sodium_info[:20]"
   ]
  },
  {
   "cell_type": "code",
   "execution_count": 46,
   "metadata": {
    "ExecuteTime": {
     "end_time": "2017-06-10T23:15:17.557034",
     "start_time": "2017-06-10T16:15:17.532919-07:00"
    },
    "scrolled": false
   },
   "outputs": [
    {
     "data": {
      "text/plain": [
       "(0, u'220')"
      ]
     },
     "execution_count": 46,
     "metadata": {},
     "output_type": "execute_result"
    }
   ],
   "source": [
    "[(i,a[1].split()[1]) for i,a in enumerate(sodium_info[400:500])][0]"
   ]
  },
  {
   "cell_type": "code",
   "execution_count": 47,
   "metadata": {
    "ExecuteTime": {
     "end_time": "2017-06-10T23:15:19.165973",
     "start_time": "2017-06-10T16:15:19.138047-07:00"
    }
   },
   "outputs": [
    {
     "data": {
      "text/plain": [
       "(u'233281', u'Sodium: < 1 mg')"
      ]
     },
     "execution_count": 47,
     "metadata": {},
     "output_type": "execute_result"
    }
   ],
   "source": [
    "sodium_info[471]"
   ]
  },
  {
   "cell_type": "code",
   "execution_count": 62,
   "metadata": {
    "ExecuteTime": {
     "end_time": "2017-06-10T23:19:11.550015",
     "start_time": "2017-06-10T16:19:11.506325-07:00"
    },
    "scrolled": true
   },
   "outputs": [
    {
     "ename": "TypeError",
     "evalue": "tuple indices must be integers, not str",
     "output_type": "error",
     "traceback": [
      "\u001b[0;31m---------------------------------------------------------------------------\u001b[0m",
      "\u001b[0;31mTypeError\u001b[0m                                 Traceback (most recent call last)",
      "\u001b[0;32m<ipython-input-62-d775df3acdb4>\u001b[0m in \u001b[0;36m<module>\u001b[0;34m()\u001b[0m\n\u001b[0;32m----> 1\u001b[0;31m \u001b[0;34m[\u001b[0m\u001b[0mdict\u001b[0m\u001b[0;34m(\u001b[0m\u001b[0;34m[\u001b[0m\u001b[0mb\u001b[0m\u001b[0;34m[\u001b[0m\u001b[0;36m0\u001b[0m\u001b[0;34m]\u001b[0m\u001b[0;34m,\u001b[0m \u001b[0mb\u001b[0m\u001b[0;34m[\u001b[0m\u001b[0;36m1\u001b[0m\u001b[0;34m]\u001b[0m\u001b[0;34m]\u001b[0m\u001b[0;34m)\u001b[0m \u001b[0;32mfor\u001b[0m \u001b[0mb\u001b[0m \u001b[0;32min\u001b[0m \u001b[0ma\u001b[0m\u001b[0;34m[\u001b[0m\u001b[0;34m'nutrition_info'\u001b[0m\u001b[0;34m]\u001b[0m\u001b[0;34m[\u001b[0m\u001b[0;36m4\u001b[0m\u001b[0;34m]\u001b[0m\u001b[0;34m.\u001b[0m\u001b[0msplit\u001b[0m\u001b[0;34m(\u001b[0m\u001b[0;34m'%'\u001b[0m\u001b[0;34m)\u001b[0m\u001b[0;34m[\u001b[0m\u001b[0;36m1\u001b[0m\u001b[0;34m]\u001b[0m \u001b[0;32mfor\u001b[0m \u001b[0ma\u001b[0m \u001b[0;32min\u001b[0m \u001b[0mrecs_with_calorie_info\u001b[0m\u001b[0;34m]\u001b[0m\u001b[0;34m\u001b[0m\u001b[0m\n\u001b[0m",
      "\u001b[0;31mTypeError\u001b[0m: tuple indices must be integers, not str"
     ]
    }
   ],
   "source": [
    "[dict([b[0], b[1]]) for b in a['nutrition_info'][4].split('%')[1] for a in recs_with_calorie_info]"
   ]
  },
  {
   "cell_type": "code",
   "execution_count": 63,
   "metadata": {
    "ExecuteTime": {
     "end_time": "2017-06-10T23:19:37.070864",
     "start_time": "2017-06-10T16:19:37.049946-07:00"
    }
   },
   "outputs": [
    {
     "data": {
      "text/plain": [
       "u'12 g'"
      ]
     },
     "execution_count": 63,
     "metadata": {},
     "output_type": "execute_result"
    }
   ],
   "source": [
    "# use regular expressions to extract numbers.  \n",
    "recs_with_calorie_info[0]['nutrition_info'][4].split(\"%\")[1].split(':')[1].strip()"
   ]
  },
  {
   "cell_type": "code",
   "execution_count": 54,
   "metadata": {
    "ExecuteTime": {
     "end_time": "2017-06-10T23:16:20.704259",
     "start_time": "2017-06-10T16:16:20.682913-07:00"
    }
   },
   "outputs": [
    {
     "data": {
      "text/plain": [
       "[(1, 3), (2, 4)]"
      ]
     },
     "execution_count": 54,
     "metadata": {},
     "output_type": "execute_result"
    }
   ],
   "source": [
    "zip((1,2), (3,4))"
   ]
  },
  {
   "cell_type": "code",
   "execution_count": 55,
   "metadata": {
    "ExecuteTime": {
     "end_time": "2017-06-10T23:16:23.100594",
     "start_time": "2017-06-10T16:16:23.061800-07:00"
    }
   },
   "outputs": [
    {
     "data": {
      "text/plain": [
       "u'Calories:207 kcal'"
      ]
     },
     "execution_count": 55,
     "metadata": {},
     "output_type": "execute_result"
    }
   ],
   "source": [
    "recs_with_nutrition_info[0]['nutrition_info'][0]"
   ]
  },
  {
   "cell_type": "code",
   "execution_count": 57,
   "metadata": {
    "ExecuteTime": {
     "end_time": "2017-06-10T23:16:51.924953",
     "start_time": "2017-06-10T16:16:51.895687-07:00"
    }
   },
   "outputs": [
    {
     "data": {
      "text/plain": [
       "666.6666666666666"
      ]
     },
     "execution_count": 57,
     "metadata": {},
     "output_type": "execute_result"
    }
   ],
   "source": [
    "2000/3."
   ]
  },
  {
   "cell_type": "code",
   "execution_count": 58,
   "metadata": {
    "ExecuteTime": {
     "end_time": "2017-06-10T23:16:52.417791",
     "start_time": "2017-06-10T16:16:52.340777-07:00"
    },
    "collapsed": true
   },
   "outputs": [],
   "source": [
    "recipes_coll.find_and_modify?"
   ]
  },
  {
   "cell_type": "code",
   "execution_count": 59,
   "metadata": {
    "ExecuteTime": {
     "end_time": "2017-06-10T23:16:53.708388",
     "start_time": "2017-06-10T16:16:53.686260-07:00"
    },
    "collapsed": true
   },
   "outputs": [],
   "source": [
    "about_coll = allrecipes.about"
   ]
  },
  {
   "cell_type": "code",
   "execution_count": 66,
   "metadata": {
    "ExecuteTime": {
     "end_time": "2017-06-10T23:20:37.143241",
     "start_time": "2017-06-10T16:20:37.121372-07:00"
    }
   },
   "outputs": [
    {
     "data": {
      "text/plain": [
       "u'Calories:207 kcal'"
      ]
     },
     "execution_count": 66,
     "metadata": {},
     "output_type": "execute_result"
    }
   ],
   "source": [
    "recs_with_nutrition_info[0]['nutrition_info'][0]"
   ]
  },
  {
   "cell_type": "code",
   "execution_count": 70,
   "metadata": {
    "ExecuteTime": {
     "end_time": "2017-06-10T23:22:03.506219",
     "start_time": "2017-06-10T16:22:03.484235-07:00"
    }
   },
   "outputs": [
    {
     "data": {
      "text/plain": [
       "u'Calories:207 kcal'"
      ]
     },
     "execution_count": 70,
     "metadata": {},
     "output_type": "execute_result"
    }
   ],
   "source": [
    "str1"
   ]
  },
  {
   "cell_type": "code",
   "execution_count": 78,
   "metadata": {
    "ExecuteTime": {
     "end_time": "2017-06-10T23:24:01.681498",
     "start_time": "2017-06-10T16:24:01.661300-07:00"
    }
   },
   "outputs": [
    {
     "data": {
      "text/plain": [
       "u'Calories:207 kcal'"
      ]
     },
     "execution_count": 78,
     "metadata": {},
     "output_type": "execute_result"
    }
   ],
   "source": [
    "str1"
   ]
  },
  {
   "cell_type": "code",
   "execution_count": 86,
   "metadata": {
    "ExecuteTime": {
     "end_time": "2017-06-10T23:25:55.365607",
     "start_time": "2017-06-10T16:25:55.334418-07:00"
    }
   },
   "outputs": [
    {
     "name": "stdout",
     "output_type": "stream",
     "text": [
      "quantity: [u'178']\n",
      "unit: [u'mg']\n",
      "item: [u'Sodium']\n"
     ]
    }
   ],
   "source": [
    "# Using regular expressions in python: \n",
    "str1 = recs_with_nutrition_info[0]['nutrition_info'][20]\n",
    "import re \n",
    "q = re.compile('(?<=[\\s:<])\\d*\\.?\\,?\\d+')\n",
    "u = re.compile('[A-z]+$')\n",
    "i = re.compile('\\w+(?=[:])')\n",
    "print \"quantity: {}\".format(q.findall(str1))\n",
    "print \"unit: {}\".format(u.findall(str1))\n",
    "print \"item: {}\".format(i.findall(str1))"
   ]
  },
  {
   "cell_type": "code",
   "execution_count": 98,
   "metadata": {
    "ExecuteTime": {
     "end_time": "2017-06-10T23:30:16.491129",
     "start_time": "2017-06-10T16:30:16.391007-07:00"
    }
   },
   "outputs": [
    {
     "data": {
      "text/plain": [
       "{u'_id': ObjectId('593b970c9d477a12500e6856'),\n",
       " u'recipes_filtered': [u'10141',\n",
       "  u'10159',\n",
       "  u'10217',\n",
       "  u'103144',\n",
       "  u'103170',\n",
       "  u'10365',\n",
       "  u'103674',\n",
       "  u'10385',\n",
       "  u'10396',\n",
       "  u'10402',\n",
       "  u'104869',\n",
       "  u'104928',\n",
       "  u'10517',\n",
       "  u'10561',\n",
       "  u'10638',\n",
       "  u'10706',\n",
       "  u'107613',\n",
       "  u'10874',\n",
       "  u'109899',\n",
       "  u'11008',\n",
       "  u'11019',\n",
       "  u'11030',\n",
       "  u'11032',\n",
       "  u'11037',\n",
       "  u'11162',\n",
       "  u'11171',\n",
       "  u'112239',\n",
       "  u'11285',\n",
       "  u'11345',\n",
       "  u'11376',\n",
       "  u'11382',\n",
       "  u'11525',\n",
       "  u'11587',\n",
       "  u'116206',\n",
       "  u'116306',\n",
       "  u'116352',\n",
       "  u'11646',\n",
       "  u'116758',\n",
       "  u'117418',\n",
       "  u'11758',\n",
       "  u'11760',\n",
       "  u'11761',\n",
       "  u'117663',\n",
       "  u'11798',\n",
       "  u'118175',\n",
       "  u'118320',\n",
       "  u'11864',\n",
       "  u'119024',\n",
       "  u'11914',\n",
       "  u'119143',\n",
       "  u'119152',\n",
       "  u'119339',\n",
       "  u'119442',\n",
       "  u'11945',\n",
       "  u'11966',\n",
       "  u'11967',\n",
       "  u'119689',\n",
       "  u'11973',\n",
       "  u'11989',\n",
       "  u'12000',\n",
       "  u'12008',\n",
       "  u'12009',\n",
       "  u'12033',\n",
       "  u'120413',\n",
       "  u'120425',\n",
       "  u'120562',\n",
       "  u'120639',\n",
       "  u'120725',\n",
       "  u'12126',\n",
       "  u'121267',\n",
       "  u'121596',\n",
       "  u'121604',\n",
       "  u'121629',\n",
       "  u'121951',\n",
       "  u'12225',\n",
       "  u'12237',\n",
       "  u'122461',\n",
       "  u'122607',\n",
       "  u'123046',\n",
       "  u'123054',\n",
       "  u'123551',\n",
       "  u'12359',\n",
       "  u'124364',\n",
       "  u'12441',\n",
       "  u'12448',\n",
       "  u'12449',\n",
       "  u'12482',\n",
       "  u'12492',\n",
       "  u'125259',\n",
       "  u'125419',\n",
       "  u'126012',\n",
       "  u'12682',\n",
       "  u'12701',\n",
       "  u'12720',\n",
       "  u'127281',\n",
       "  u'12732',\n",
       "  u'12733',\n",
       "  u'127491',\n",
       "  u'12851',\n",
       "  u'128601',\n",
       "  u'129376',\n",
       "  u'12950',\n",
       "  u'12997',\n",
       "  u'130358',\n",
       "  u'13060',\n",
       "  u'13062',\n",
       "  u'13071',\n",
       "  u'13078',\n",
       "  u'13079',\n",
       "  u'13219',\n",
       "  u'132319',\n",
       "  u'13241',\n",
       "  u'132785',\n",
       "  u'132814',\n",
       "  u'132815',\n",
       "  u'13338',\n",
       "  u'13464',\n",
       "  u'135367',\n",
       "  u'13714',\n",
       "  u'13839',\n",
       "  u'13856',\n",
       "  u'13870',\n",
       "  u'139027',\n",
       "  u'139276',\n",
       "  u'13941',\n",
       "  u'13948',\n",
       "  u'139551',\n",
       "  u'13990',\n",
       "  u'14086',\n",
       "  u'14088',\n",
       "  u'140897',\n",
       "  u'141828',\n",
       "  u'142015',\n",
       "  u'142027',\n",
       "  u'142434',\n",
       "  u'142481',\n",
       "  u'14267',\n",
       "  u'14276',\n",
       "  u'142967',\n",
       "  u'142974',\n",
       "  u'143225',\n",
       "  u'14342',\n",
       "  u'144510',\n",
       "  u'14468',\n",
       "  u'14469',\n",
       "  u'14526',\n",
       "  u'145437',\n",
       "  u'145595',\n",
       "  u'145758',\n",
       "  u'146000',\n",
       "  u'14648',\n",
       "  u'14679',\n",
       "  u'14690',\n",
       "  u'14692',\n",
       "  u'14710',\n",
       "  u'14714',\n",
       "  u'149118',\n",
       "  u'14927',\n",
       "  u'14985',\n",
       "  u'15029',\n",
       "  u'150357',\n",
       "  u'15036',\n",
       "  u'150369',\n",
       "  u'15043',\n",
       "  u'15057',\n",
       "  u'150583',\n",
       "  u'15105',\n",
       "  u'151398',\n",
       "  u'152120',\n",
       "  u'15295',\n",
       "  u'15347',\n",
       "  u'153671',\n",
       "  u'155074',\n",
       "  u'155135',\n",
       "  u'15671',\n",
       "  u'15679',\n",
       "  u'15715',\n",
       "  u'157642',\n",
       "  u'158140',\n",
       "  u'15866',\n",
       "  u'15867',\n",
       "  u'15880',\n",
       "  u'15925',\n",
       "  u'15931',\n",
       "  u'159367',\n",
       "  u'15939',\n",
       "  u'159945',\n",
       "  u'16009',\n",
       "  u'160185',\n",
       "  u'160194',\n",
       "  u'16066',\n",
       "  u'16073',\n",
       "  u'16129',\n",
       "  u'16131',\n",
       "  u'161345',\n",
       "  u'162029',\n",
       "  u'162172',\n",
       "  u'16225',\n",
       "  u'16239',\n",
       "  u'16259',\n",
       "  u'162760',\n",
       "  u'162837',\n",
       "  u'16311',\n",
       "  u'163229',\n",
       "  u'163370',\n",
       "  u'16346',\n",
       "  u'16348',\n",
       "  u'16354',\n",
       "  u'16357',\n",
       "  u'163623',\n",
       "  u'163742',\n",
       "  u'163777',\n",
       "  u'16383',\n",
       "  u'163927',\n",
       "  u'16399',\n",
       "  u'16404',\n",
       "  u'164418',\n",
       "  u'16494',\n",
       "  u'16498',\n",
       "  u'16573',\n",
       "  u'165756',\n",
       "  u'165827',\n",
       "  u'166138',\n",
       "  u'166583',\n",
       "  u'16679',\n",
       "  u'166823',\n",
       "  u'16700',\n",
       "  u'16707',\n",
       "  u'167195',\n",
       "  u'16720',\n",
       "  u'16729',\n",
       "  u'16731',\n",
       "  u'16809',\n",
       "  u'16810',\n",
       "  u'16836',\n",
       "  u'16905',\n",
       "  u'169305',\n",
       "  u'16935',\n",
       "  u'169593',\n",
       "  u'169616',\n",
       "  u'169625',\n",
       "  u'169749',\n",
       "  u'170463',\n",
       "  u'17289',\n",
       "  u'17354',\n",
       "  u'174210',\n",
       "  u'17528',\n",
       "  u'176054',\n",
       "  u'17628',\n",
       "  u'17652',\n",
       "  u'17723',\n",
       "  u'17753',\n",
       "  u'179059',\n",
       "  u'17981',\n",
       "  u'17991',\n",
       "  u'18092',\n",
       "  u'18095',\n",
       "  u'18099',\n",
       "  u'181040',\n",
       "  u'18148',\n",
       "  u'182930',\n",
       "  u'18316',\n",
       "  u'18343',\n",
       "  u'18349',\n",
       "  u'18456',\n",
       "  u'186893',\n",
       "  u'18775',\n",
       "  u'18779',\n",
       "  u'18788',\n",
       "  u'18841',\n",
       "  u'188423',\n",
       "  u'188567',\n",
       "  u'188706',\n",
       "  u'18880',\n",
       "  u'18882',\n",
       "  u'18897',\n",
       "  u'191156',\n",
       "  u'191329',\n",
       "  u'19165',\n",
       "  u'19291',\n",
       "  u'19301',\n",
       "  u'19340',\n",
       "  u'19345',\n",
       "  u'19368',\n",
       "  u'19376',\n",
       "  u'193960',\n",
       "  u'19400',\n",
       "  u'19402',\n",
       "  u'194798',\n",
       "  u'19589',\n",
       "  u'19591',\n",
       "  u'196428',\n",
       "  u'19766',\n",
       "  u'19811',\n",
       "  u'19829',\n",
       "  u'19834',\n",
       "  u'199575',\n",
       "  u'200283',\n",
       "  u'200356',\n",
       "  u'20045',\n",
       "  u'20066',\n",
       "  u'20095',\n",
       "  u'20096',\n",
       "  u'201964',\n",
       "  u'20287',\n",
       "  u'203800',\n",
       "  u'203804',\n",
       "  u'203951',\n",
       "  u'204052',\n",
       "  u'20415',\n",
       "  u'20465',\n",
       "  u'20476',\n",
       "  u'206515',\n",
       "  u'20724',\n",
       "  u'20730',\n",
       "  u'20792',\n",
       "  u'20867',\n",
       "  u'20868',\n",
       "  u'20894',\n",
       "  u'20916',\n",
       "  u'20917',\n",
       "  u'210083',\n",
       "  u'211111',\n",
       "  u'21120',\n",
       "  u'21126',\n",
       "  u'212619',\n",
       "  u'212778',\n",
       "  u'213138',\n",
       "  u'213140',\n",
       "  u'213185',\n",
       "  u'213209',\n",
       "  u'213211',\n",
       "  u'213376',\n",
       "  u'213569',\n",
       "  u'213682',\n",
       "  u'213742',\n",
       "  u'213752',\n",
       "  u'21382',\n",
       "  u'213849',\n",
       "  u'21391',\n",
       "  u'21398',\n",
       "  u'214063',\n",
       "  u'214068',\n",
       "  u'214091',\n",
       "  u'21427',\n",
       "  u'21432',\n",
       "  u'214413',\n",
       "  u'214500',\n",
       "  u'214791',\n",
       "  u'214893',\n",
       "  u'214986',\n",
       "  u'215000',\n",
       "  u'215202',\n",
       "  u'215432',\n",
       "  u'215623',\n",
       "  u'215625',\n",
       "  u'215789',\n",
       "  u'215959',\n",
       "  u'216025',\n",
       "  u'216095',\n",
       "  u'216312',\n",
       "  u'216455',\n",
       "  u'216806',\n",
       "  u'216901',\n",
       "  u'216902',\n",
       "  u'216909',\n",
       "  u'21702',\n",
       "  u'217051',\n",
       "  u'21712',\n",
       "  u'21730',\n",
       "  u'217313',\n",
       "  u'21732',\n",
       "  u'217843',\n",
       "  u'218147',\n",
       "  u'218200',\n",
       "  u'218207',\n",
       "  u'218329',\n",
       "  u'218522',\n",
       "  u'218535',\n",
       "  u'218792',\n",
       "  u'218836',\n",
       "  u'218950',\n",
       "  u'218978',\n",
       "  u'219045',\n",
       "  u'219046',\n",
       "  u'219064',\n",
       "  u'219129',\n",
       "  u'219447',\n",
       "  u'219464',\n",
       "  u'219472',\n",
       "  u'219673',\n",
       "  u'219846',\n",
       "  u'219912',\n",
       "  u'219936',\n",
       "  u'219946',\n",
       "  u'220127',\n",
       "  u'220207',\n",
       "  u'220327',\n",
       "  u'220329',\n",
       "  u'220417',\n",
       "  u'220435',\n",
       "  u'220467',\n",
       "  u'220468',\n",
       "  u'220597',\n",
       "  u'220854',\n",
       "  u'220890',\n",
       "  u'220897',\n",
       "  u'220910',\n",
       "  u'220943',\n",
       "  u'221093',\n",
       "  u'221155',\n",
       "  u'221899',\n",
       "  u'221958',\n",
       "  u'221971',\n",
       "  u'221976',\n",
       "  u'222004',\n",
       "  u'222077',\n",
       "  u'222165',\n",
       "  u'222541',\n",
       "  u'222583',\n",
       "  u'22273',\n",
       "  u'222755',\n",
       "  u'222763',\n",
       "  u'222978',\n",
       "  u'222984',\n",
       "  u'223013',\n",
       "  u'223168',\n",
       "  u'223174',\n",
       "  u'223201',\n",
       "  u'223209',\n",
       "  u'223568',\n",
       "  u'223582',\n",
       "  u'22389',\n",
       "  u'22390',\n",
       "  u'22645',\n",
       "  u'22653',\n",
       "  u'22728',\n",
       "  u'22729',\n",
       "  u'22731',\n",
       "  u'228056',\n",
       "  u'228216',\n",
       "  u'228266',\n",
       "  u'22827',\n",
       "  u'228439',\n",
       "  u'228450',\n",
       "  u'228667',\n",
       "  u'228715',\n",
       "  u'22884',\n",
       "  u'228859',\n",
       "  u'228866',\n",
       "  u'228917',\n",
       "  u'228918',\n",
       "  u'229032',\n",
       "  u'229088',\n",
       "  u'229089',\n",
       "  u'229156',\n",
       "  u'229290',\n",
       "  u'229451',\n",
       "  u'229523',\n",
       "  u'229622',\n",
       "  u'229624',\n",
       "  u'229628',\n",
       "  u'229630',\n",
       "  u'229741',\n",
       "  u'229963',\n",
       "  u'229994',\n",
       "  u'229996',\n",
       "  u'230256',\n",
       "  u'230275',\n",
       "  u'230382',\n",
       "  u'230396',\n",
       "  u'23048',\n",
       "  u'230557',\n",
       "  u'230660',\n",
       "  u'230737',\n",
       "  u'230738',\n",
       "  u'230816',\n",
       "  u'230880',\n",
       "  u'230892',\n",
       "  u'231047',\n",
       "  u'231066',\n",
       "  u'231073',\n",
       "  u'231287',\n",
       "  u'231449',\n",
       "  u'231588',\n",
       "  u'231721',\n",
       "  u'232009',\n",
       "  u'232039',\n",
       "  u'232100',\n",
       "  u'232102',\n",
       "  u'232116',\n",
       "  u'23236',\n",
       "  u'232464',\n",
       "  u'232489',\n",
       "  u'23260',\n",
       "  u'232741',\n",
       "  u'232748',\n",
       "  u'23284',\n",
       "  u'232860',\n",
       "  u'232922',\n",
       "  u'23294',\n",
       "  u'233181',\n",
       "  u'233281',\n",
       "  u'233348',\n",
       "  u'233676',\n",
       "  u'233713',\n",
       "  u'233971',\n",
       "  u'234033',\n",
       "  u'234396',\n",
       "  u'23441',\n",
       "  u'234415',\n",
       "  u'234418',\n",
       "  u'234683',\n",
       "  u'235226',\n",
       "  u'235281',\n",
       "  u'235295',\n",
       "  u'235297',\n",
       "  u'235331',\n",
       "  u'235343',\n",
       "  u'235357',\n",
       "  u'23539',\n",
       "  u'235794',\n",
       "  u'235911',\n",
       "  u'235935',\n",
       "  u'23604',\n",
       "  u'236058',\n",
       "  u'236128',\n",
       "  u'23618',\n",
       "  u'236483',\n",
       "  u'236604',\n",
       "  u'236919',\n",
       "  u'23702',\n",
       "  u'237066',\n",
       "  u'237140',\n",
       "  u'237374',\n",
       "  u'237454',\n",
       "  u'237637',\n",
       "  u'237874',\n",
       "  u'23815',\n",
       "  u'238428',\n",
       "  u'238458',\n",
       "  u'23849',\n",
       "  u'238532',\n",
       "  u'238534',\n",
       "  u'238697',\n",
       "  u'238843',\n",
       "  u'238844',\n",
       "  u'238845',\n",
       "  u'238862',\n",
       "  u'238948',\n",
       "  u'238987',\n",
       "  u'23923',\n",
       "  u'239616',\n",
       "  u'239824',\n",
       "  u'239870',\n",
       "  u'239917',\n",
       "  u'239919',\n",
       "  u'23998',\n",
       "  u'240100',\n",
       "  u'240155',\n",
       "  u'240290',\n",
       "  u'240324',\n",
       "  u'241001',\n",
       "  u'241032',\n",
       "  u'241033',\n",
       "  u'241061',\n",
       "  u'241066',\n",
       "  u'241148',\n",
       "  u'241213',\n",
       "  u'241311',\n",
       "  u'241329',\n",
       "  u'241535',\n",
       "  u'241555',\n",
       "  u'24156',\n",
       "  u'241638',\n",
       "  u'241685',\n",
       "  u'241792',\n",
       "  u'241810',\n",
       "  u'241821',\n",
       "  u'241848',\n",
       "  u'24202',\n",
       "  u'242096',\n",
       "  u'242115',\n",
       "  u'242135',\n",
       "  u'242209',\n",
       "  u'242425',\n",
       "  u'242439',\n",
       "  u'24263',\n",
       "  u'24373',\n",
       "  u'24414',\n",
       "  u'244465',\n",
       "  u'244490',\n",
       "  u'244681',\n",
       "  u'24548',\n",
       "  u'24556',\n",
       "  u'245873',\n",
       "  u'246791',\n",
       "  u'24700',\n",
       "  u'24738',\n",
       "  u'24771',\n",
       "  u'24964',\n",
       "  u'25030',\n",
       "  u'25091',\n",
       "  u'25112',\n",
       "  u'25145',\n",
       "  u'25283',\n",
       "  u'25418',\n",
       "  u'25444',\n",
       "  u'254716',\n",
       "  u'254864',\n",
       "  u'255036',\n",
       "  u'255259',\n",
       "  u'255355',\n",
       "  u'255396',\n",
       "  u'255427',\n",
       "  u'25556',\n",
       "  u'255620',\n",
       "  u'255631',\n",
       "  u'255821',\n",
       "  u'25590',\n",
       "  u'25595',\n",
       "  u'256351',\n",
       "  u'256356',\n",
       "  u'25639',\n",
       "  u'256629',\n",
       "  u'257012',\n",
       "  u'257276',\n",
       "  u'257530',\n",
       "  u'25889',\n",
       "  u'25895',\n",
       "  u'25965',\n",
       "  u'26534',\n",
       "  u'26602',\n",
       "  u'26819',\n",
       "  u'26972',\n",
       "  u'29915',\n",
       "  u'30506',\n",
       "  u'30522',\n",
       "  u'30523',\n",
       "  u'31555',\n",
       "  u'31809',\n",
       "  u'32220',\n",
       "  u'33474',\n",
       "  u'34613',\n",
       "  u'35149',\n",
       "  u'35440',\n",
       "  u'35447',\n",
       "  u'35963',\n",
       "  u'36008',\n",
       "  u'37190',\n",
       "  u'38425',\n",
       "  u'39748',\n",
       "  u'40204',\n",
       "  u'41367',\n",
       "  u'41729',\n",
       "  u'42326',\n",
       "  u'42334',\n",
       "  u'42931',\n",
       "  u'42932',\n",
       "  u'44125',\n",
       "  u'44318',\n",
       "  u'45845',\n",
       "  u'46310',\n",
       "  u'46347',\n",
       "  u'46648',\n",
       "  u'46653',\n",
       "  u'47003',\n",
       "  u'47044921',\n",
       "  u'47247',\n",
       "  u'47688',\n",
       "  u'47954',\n",
       "  u'48144',\n",
       "  u'48959',\n",
       "  u'49404',\n",
       "  u'49552',\n",
       "  u'50644',\n",
       "  u'51283',\n",
       "  u'51294',\n",
       "  u'52005',\n",
       "  u'52025',\n",
       "  u'52489',\n",
       "  u'52581',\n",
       "  u'52925',\n",
       "  u'53195',\n",
       "  u'53733',\n",
       "  u'54196',\n",
       "  u'54342',\n",
       "  u'55334',\n",
       "  u'55610',\n",
       "  u'55860',\n",
       "  u'56059',\n",
       "  u'56673',\n",
       "  u'57184',\n",
       "  u'57670',\n",
       "  u'57722',\n",
       "  u'57981',\n",
       "  u'58312',\n",
       "  u'58444',\n",
       "  u'58942',\n",
       "  u'59124',\n",
       "  u'59318',\n",
       "  u'60309',\n",
       "  u'62061930',\n",
       "  u'62110169',\n",
       "  u'62123609',\n",
       "  u'62125284',\n",
       "  u'62132827',\n",
       "  u'62192564',\n",
       "  u'62248696',\n",
       "  u'62271806',\n",
       "  u'62286093',\n",
       "  u'62329375',\n",
       "  u'62330762',\n",
       "  u'62389203',\n",
       "  u'62412348',\n",
       "  u'62433007',\n",
       "  u'62457682',\n",
       "  u'62468303',\n",
       "  u'62494974',\n",
       "  u'62538539',\n",
       "  u'62547495',\n",
       "  u'62547519',\n",
       "  u'62576314',\n",
       "  u'62582359',\n",
       "  u'62604251',\n",
       "  u'62672716',\n",
       "  u'62763',\n",
       "  u'62804841',\n",
       "  u'62814678',\n",
       "  u'62853098',\n",
       "  u'62883',\n",
       "  u'62883942',\n",
       "  u'62890406',\n",
       "  u'62892',\n",
       "  u'62987364',\n",
       "  u'62994368',\n",
       "  u'63042208',\n",
       "  u'63042543',\n",
       "  u'63078555',\n",
       "  u'63118585',\n",
       "  u'63277383',\n",
       "  u'63409070',\n",
       "  u'63421990',\n",
       "  u'63427362',\n",
       "  u'63436953',\n",
       "  u'63444',\n",
       "  u'63454266',\n",
       "  u'63480808',\n",
       "  u'63549882',\n",
       "  u'63575277',\n",
       "  u'63611611',\n",
       "  u'63653003',\n",
       "  u'63677296',\n",
       "  u'63693560',\n",
       "  u'63710920',\n",
       "  u'63716617',\n",
       "  u'63729737',\n",
       "  u'63746192',\n",
       "  u'63752815',\n",
       "  u'63752901',\n",
       "  u'63760420',\n",
       "  u'63787434',\n",
       "  u'63847401',\n",
       "  u'63853480',\n",
       "  u'63876210',\n",
       "  u'63926981',\n",
       "  u'63953062',\n",
       "  u'63982930',\n",
       "  u'63986409',\n",
       "  u'63988827',\n",
       "  u'64037502',\n",
       "  u'64092852',\n",
       "  u'64111004',\n",
       "  u'64114942',\n",
       "  u'64145593',\n",
       "  u'64170365',\n",
       "  u'64189773',\n",
       "  u'64199088',\n",
       "  u'64200482',\n",
       "  u'64228421',\n",
       "  u'64254641',\n",
       "  u'64258594',\n",
       "  u'64269712',\n",
       "  u'64270066',\n",
       "  u'64271724',\n",
       "  u'64295599',\n",
       "  u'64297222',\n",
       "  u'64305693',\n",
       "  u'64306565',\n",
       "  u'64311240',\n",
       "  u'64312471',\n",
       "  u'64313364',\n",
       "  u'64320001',\n",
       "  u'64329841',\n",
       "  u'64333089',\n",
       "  u'64343203',\n",
       "  u'64362009',\n",
       "  u'64393422',\n",
       "  u'64393585',\n",
       "  u'64394756',\n",
       "  u'64405979',\n",
       "  u'64406559',\n",
       "  u'64425702',\n",
       "  u'64432416',\n",
       "  u'64438011',\n",
       "  u'64501046',\n",
       "  u'64552751',\n",
       "  u'64570311',\n",
       "  u'64572611',\n",
       "  u'64585471',\n",
       "  u'64591781',\n",
       "  u'64602286',\n",
       "  u'64602678',\n",
       "  u'64633085',\n",
       "  u'64929',\n",
       "  u'66404',\n",
       "  u'66657',\n",
       "  u'6681',\n",
       "  u'6697',\n",
       "  u'6698',\n",
       "  u'67162',\n",
       "  u'6761',\n",
       "  u'6768',\n",
       "  u'6776',\n",
       "  u'6784',\n",
       "  u'6788',\n",
       "  u'67952',\n",
       "  u'6797',\n",
       "  u'6806',\n",
       "  u'6814',\n",
       "  u'6815',\n",
       "  u'68348',\n",
       "  u'68628',\n",
       "  u'6971',\n",
       "  u'6984',\n",
       "  u'69999',\n",
       "  u'70343',\n",
       "  u'70364',\n",
       "  u'7040',\n",
       "  u'70483',\n",
       "  u'70585',\n",
       "  u'70828',\n",
       "  u'71283',\n",
       "  u'7142',\n",
       "  u'7176',\n",
       "  u'72133',\n",
       "  u'72267',\n",
       "  u'72388',\n",
       "  u'72421',\n",
       "  u'72508',\n",
       "  u'72715',\n",
       "  u'73047',\n",
       "  u'7307',\n",
       "  u'7326',\n",
       "  u'73867',\n",
       "  u'7445',\n",
       "  u'74580',\n",
       "  u'75445',\n",
       "  u'7546',\n",
       "  u'75861',\n",
       "  u'76181',\n",
       "  u'7667',\n",
       "  u'7686',\n",
       "  u'7766',\n",
       "  u'77768',\n",
       "  u'78004',\n",
       "  u'7855',\n",
       "  u'7869',\n",
       "  u'78741',\n",
       "  u'79521',\n",
       "  u'79704',\n",
       "  u'7985',\n",
       "  u'7998',\n",
       "  u'80113',\n",
       "  u'8030',\n",
       "  u'8047',\n",
       "  u'80827',\n",
       "  u'8111',\n",
       "  u'81298',\n",
       "  u'8148',\n",
       "  u'8149',\n",
       "  u'81537',\n",
       "  u'82736',\n",
       "  u'8281',\n",
       "  u'8288',\n",
       "  u'83087',\n",
       "  u'83137',\n",
       "  u'83412',\n",
       "  u'83712',\n",
       "  u'83844',\n",
       "  u'83846',\n",
       "  u'84060',\n",
       "  u'84066',\n",
       "  u'84071',\n",
       "  u'84270',\n",
       "  u'8446',\n",
       "  u'8468',\n",
       "  u'84712',\n",
       "  u'8493',\n",
       "  u'8495',\n",
       "  u'8499',\n",
       "  u'85426',\n",
       "  u'8545',\n",
       "  u'8546',\n",
       "  u'8547',\n",
       "  u'86181',\n",
       "  u'86230',\n",
       "  u'86241',\n",
       "  u'8633',\n",
       "  u'86353',\n",
       "  u'86396',\n",
       "  u'8700',\n",
       "  u'8701',\n",
       "  u'8719',\n",
       "  u'87272',\n",
       "  u'87438',\n",
       "  u'87586',\n",
       "  u'87624',\n",
       "  u'8766',\n",
       "  u'87979',\n",
       "  u'8805',\n",
       "  u'8842',\n",
       "  u'8847',\n",
       "  u'8854',\n",
       "  u'8857',\n",
       "  u'89155',\n",
       "  u'8941',\n",
       "  u'8944',\n",
       "  u'8945',\n",
       "  u'8947',\n",
       "  u'89650',\n",
       "  u'89707',\n",
       "  u'89833',\n",
       "  u'90222',\n",
       "  u'9026',\n",
       "  u'90294',\n",
       "  u'90497',\n",
       "  u'91192',\n",
       "  u'91463',\n",
       "  u'9221',\n",
       "  u'92338',\n",
       "  u'92462',\n",
       "  u'9247',\n",
       "  u'92528',\n",
       "  u'9253',\n",
       "  u'9311',\n",
       "  u'9329',\n",
       "  u'9330',\n",
       "  u'9336',\n",
       "  u'9353',\n",
       "  u'9401',\n",
       "  u'9413',\n",
       "  u'9420',\n",
       "  u'95325',\n",
       "  u'96749',\n",
       "  u'99153',\n",
       "  u'99244',\n",
       "  u'9999',\n",
       "  u'119483',\n",
       "  u'120293',\n",
       "  u'12050',\n",
       "  u'12051',\n",
       "  u'13477',\n",
       "  u'13478',\n",
       "  u'13506',\n",
       "  u'140877',\n",
       "  u'141678',\n",
       "  u'15149',\n",
       "  u'160869',\n",
       "  u'16218',\n",
       "  u'165262',\n",
       "  u'16607',\n",
       "  u'17345',\n",
       "  u'17760',\n",
       "  u'19029',\n",
       "  u'19163',\n",
       "  u'19247',\n",
       "  u'19621',\n",
       "  u'19752',\n",
       "  u'19934',\n",
       "  u'200360',\n",
       "  u'20163',\n",
       "  u'20704',\n",
       "  u'21092',\n",
       "  u'21340',\n",
       "  u'214164',\n",
       "  u'214183',\n",
       "  u'214184',\n",
       "  u'21421',\n",
       "  u'214642',\n",
       "  u'218057',\n",
       "  u'218185',\n",
       "  u'220039',\n",
       "  u'220271',\n",
       "  u'220673',\n",
       "  u'221064',\n",
       "  u'22310',\n",
       "  u'223101',\n",
       "  u'22313',\n",
       "  u'22538',\n",
       "  ...]}"
      ]
     },
     "execution_count": 98,
     "metadata": {},
     "output_type": "execute_result"
    }
   ],
   "source": [
    "about_coll.find_one({'recipes_filtered':{'$exists': True}})"
   ]
  },
  {
   "cell_type": "code",
   "execution_count": 654,
   "metadata": {
    "ExecuteTime": {
     "end_time": "2017-06-12T20:09:59.918881",
     "start_time": "2017-06-12T13:09:59.854224-07:00"
    }
   },
   "outputs": [
    {
     "data": {
      "text/plain": [
       "u'17117019'"
      ]
     },
     "execution_count": 654,
     "metadata": {},
     "output_type": "execute_result"
    }
   ],
   "source": [
    "members_coll.find_one()['member_ID']"
   ]
  },
  {
   "cell_type": "code",
   "execution_count": 656,
   "metadata": {
    "ExecuteTime": {
     "end_time": "2017-06-12T20:10:25.714274",
     "start_time": "2017-06-12T13:10:25.678540-07:00"
    },
    "collapsed": true,
    "scrolled": false
   },
   "outputs": [],
   "source": [
    "mem_doc = members_coll.find_one({\"member_ID\": \"17117019\"})\n",
    "recipes_list = mem_doc.get('madeits_dict',[]).values() + mem_doc.get('favorites_dict',[]).values()"
   ]
  },
  {
   "cell_type": "code",
   "execution_count": 657,
   "metadata": {
    "ExecuteTime": {
     "end_time": "2017-06-12T20:10:35.533364",
     "start_time": "2017-06-12T13:10:35.478395-07:00"
    }
   },
   "outputs": [
    {
     "data": {
      "text/plain": [
       "[u'26297', u'10462']"
      ]
     },
     "execution_count": 657,
     "metadata": {},
     "output_type": "execute_result"
    }
   ],
   "source": [
    "recipes_list "
   ]
  },
  {
   "cell_type": "code",
   "execution_count": 101,
   "metadata": {
    "ExecuteTime": {
     "end_time": "2017-06-10T23:32:15.141620",
     "start_time": "2017-06-10T16:32:15.117160-07:00"
    },
    "collapsed": true
   },
   "outputs": [],
   "source": [
    "# recipes_filtered:\n",
    "recipes_filtered = about_coll.find_one({'recipes_filtered':{'$exists': True}})['recipes_filtered', ]"
   ]
  },
  {
   "cell_type": "code",
   "execution_count": 220,
   "metadata": {
    "ExecuteTime": {
     "end_time": "2017-06-10T22:29:04.147416",
     "start_time": "2017-06-10T15:29:03.794203-07:00"
    }
   },
   "outputs": [
    {
     "data": {
      "text/plain": [
       "8733"
      ]
     },
     "execution_count": 220,
     "metadata": {},
     "output_type": "execute_result"
    }
   ],
   "source": [
    "len(recipes_filtered)"
   ]
  },
  {
   "cell_type": "code",
   "execution_count": 103,
   "metadata": {
    "ExecuteTime": {
     "end_time": "2017-06-10T23:32:48.101033",
     "start_time": "2017-06-10T16:32:48.053763-07:00"
    },
    "collapsed": true
   },
   "outputs": [],
   "source": [
    "recipes_coll.find_and_modify?"
   ]
  },
  {
   "cell_type": "code",
   "execution_count": 102,
   "metadata": {
    "ExecuteTime": {
     "end_time": "2017-06-10T23:32:17.680766",
     "start_time": "2017-06-10T16:32:17.471920-07:00"
    }
   },
   "outputs": [
    {
     "data": {
      "text/plain": [
       "8733"
      ]
     },
     "execution_count": 102,
     "metadata": {},
     "output_type": "execute_result"
    }
   ],
   "source": [
    "recipes_coll.find_and_modify({'recipe_ID':{'$in':recipes_filtered}},"
   ]
  },
  {
   "cell_type": "code",
   "execution_count": 136,
   "metadata": {
    "ExecuteTime": {
     "end_time": "2017-06-11T04:08:42.558326",
     "start_time": "2017-06-10T21:08:42.517898-07:00"
    }
   },
   "outputs": [
    {
     "data": {
      "text/plain": [
       "'3.3.0'"
      ]
     },
     "execution_count": 136,
     "metadata": {},
     "output_type": "execute_result"
    }
   ],
   "source": [
    "pymongo.version"
   ]
  },
  {
   "cell_type": "code",
   "execution_count": 217,
   "metadata": {
    "ExecuteTime": {
     "end_time": "2017-06-11T06:21:31.973114",
     "start_time": "2017-06-10T23:21:31.810580-07:00"
    },
    "collapsed": true
   },
   "outputs": [],
   "source": [
    "# calories, sodium, fat, protein, carbs \n",
    "# \n",
    "def scrape_nutrition_info(rec): \n",
    "    \"\"\"Extracts nutrition info from scraped text `nutrition_info`, a field in recipes_coll. \n",
    "    Scraper captures calorie, fat, protein, carb, sodium info from recipes as text.  \n",
    "    Uses patterns in string to return key-value pairs for each nutrient.  \n",
    "    Use regular expressions to select item, quantity, unit: \n",
    "        Divide string by  \":\" \n",
    "        Take the alphanumeric string to the left of : as the item.  \n",
    "        Take numeric string to the right as quantity (it may inclide commas and periods).  \n",
    "        Take the final string as unit.  \n",
    "        \n",
    "\n",
    "    Parameters \n",
    "    ---------- \n",
    "    recipe_ID: str, ID of recipe \n",
    "    \n",
    "    Returns \n",
    "    ------- \n",
    "    (key, value, unit) for each     \n",
    "    \"\"\"\n",
    "    q = re.compile('(?<=[\\s:<])\\d*\\.?\\,?\\d+')\n",
    "    u = re.compile('[A-z]+$')\n",
    "    i = re.compile('\\w+(?=[:])')\n",
    "    strlist = [a['nutrition_info'] for a in recipes_coll.find({'recipe_ID':rec})]\n",
    "    n_list = {}\n",
    "    for a in strlist: \n",
    "        for b in a: \n",
    "                quantity = q.findall(b)\n",
    "                unit = u.findall(b)\n",
    "                item = i.findall(b)\n",
    "                if quantity and unit and item: \n",
    "#                    print item[0], float(quantity[0]), unit[0]\n",
    "                    n_list[item[0]]=[float(quantity[0]), unit[0]]\n",
    "    return n_list\n",
    "                \n",
    "                    "
   ]
  },
  {
   "cell_type": "code",
   "execution_count": 583,
   "metadata": {
    "ExecuteTime": {
     "end_time": "2017-06-12T13:24:09.108225",
     "start_time": "2017-06-12T06:24:04.148182-07:00"
    }
   },
   "outputs": [
    {
     "data": {
      "text/plain": [
       "{u'Calories': [572.0, u'kcal'],\n",
       " u'Carbs': [37.4, u'g'],\n",
       " u'Cholesterol': [95.0, u'mg'],\n",
       " u'Fat': [43.5, u'g'],\n",
       " u'Protein': [5.2, u'g'],\n",
       " u'Sodium': [56.0, u'mg']}"
      ]
     },
     "execution_count": 583,
     "metadata": {},
     "output_type": "execute_result"
    }
   ],
   "source": [
    "scrape_nutrition_info('109899')"
   ]
  },
  {
   "cell_type": "code",
   "execution_count": 584,
   "metadata": {
    "ExecuteTime": {
     "end_time": "2017-06-12T13:27:42.709120",
     "start_time": "2017-06-12T06:27:42.443120-07:00"
    },
    "collapsed": true
   },
   "outputs": [],
   "source": [
    "doc = recipes_coll.find_one()"
   ]
  },
  {
   "cell_type": "code",
   "execution_count": 586,
   "metadata": {
    "ExecuteTime": {
     "end_time": "2017-06-12T13:29:21.582682",
     "start_time": "2017-06-12T06:29:21.322638-07:00"
    }
   },
   "outputs": [
    {
     "data": {
      "text/plain": [
       "u'10141'"
      ]
     },
     "execution_count": 586,
     "metadata": {},
     "output_type": "execute_result"
    }
   ],
   "source": [
    "doc['recipe_ID']"
   ]
  },
  {
   "cell_type": "code",
   "execution_count": 587,
   "metadata": {
    "ExecuteTime": {
     "end_time": "2017-06-12T13:29:51.476667",
     "start_time": "2017-06-12T06:29:50.440247-07:00"
    },
    "collapsed": true
   },
   "outputs": [],
   "source": [
    "doc.update(scrape_nutrition_info(doc['recipe_ID']))"
   ]
  },
  {
   "cell_type": "code",
   "execution_count": 218,
   "metadata": {
    "ExecuteTime": {
     "end_time": "2017-06-11T06:23:29.013623",
     "start_time": "2017-06-10T23:21:32.452671-07:00"
    },
    "collapsed": true
   },
   "outputs": [],
   "source": [
    "r_nutrients = [(a,scrape_nutrition_info(a)) for a in recipes_filtered]"
   ]
  },
  {
   "cell_type": "code",
   "execution_count": 219,
   "metadata": {
    "ExecuteTime": {
     "end_time": "2017-06-11T06:26:56.044689",
     "start_time": "2017-06-10T23:24:10.761447-07:00"
    },
    "collapsed": true
   },
   "outputs": [],
   "source": [
    "r_nutrients_dict = {a: scrape_nutrition_info(a) for a in recipes_filtered}"
   ]
  },
  {
   "cell_type": "code",
   "execution_count": 220,
   "metadata": {
    "ExecuteTime": {
     "end_time": "2017-06-11T06:26:56.521272",
     "start_time": "2017-06-10T23:26:56.068979-07:00"
    }
   },
   "outputs": [
    {
     "data": {
      "text/plain": [
       "8733"
      ]
     },
     "execution_count": 220,
     "metadata": {},
     "output_type": "execute_result"
    }
   ],
   "source": [
    "len(r_nutrients_dict.keys())"
   ]
  },
  {
   "cell_type": "code",
   "execution_count": 222,
   "metadata": {
    "ExecuteTime": {
     "end_time": "2017-06-11T06:32:56.097745",
     "start_time": "2017-06-10T23:32:55.046098-07:00"
    },
    "collapsed": true
   },
   "outputs": [],
   "source": [
    "import numpy as np"
   ]
  },
  {
   "cell_type": "code",
   "execution_count": 192,
   "metadata": {
    "ExecuteTime": {
     "end_time": "2017-06-11T05:42:43.846498",
     "start_time": "2017-06-10T22:42:43.801919-07:00"
    }
   },
   "outputs": [
    {
     "data": {
      "text/plain": [
       "u'10159'"
      ]
     },
     "execution_count": 192,
     "metadata": {},
     "output_type": "execute_result"
    }
   ],
   "source": [
    "recipes_filtered[1]"
   ]
  },
  {
   "cell_type": "code",
   "execution_count": 225,
   "metadata": {
    "ExecuteTime": {
     "end_time": "2017-06-11T06:33:57.740717",
     "start_time": "2017-06-10T23:33:57.709600-07:00"
    }
   },
   "outputs": [
    {
     "data": {
      "text/plain": [
       "(u'10141',\n",
       " {u'Calories': [207.0, u'kcal'],\n",
       "  u'Carbs': [23.7, u'g'],\n",
       "  u'Cholesterol': [24.0, u'mg'],\n",
       "  u'Fat': [12.0, u'g'],\n",
       "  u'Protein': [3.6, u'g'],\n",
       "  u'Sodium': [178.0, u'mg']})"
      ]
     },
     "execution_count": 225,
     "metadata": {},
     "output_type": "execute_result"
    }
   ],
   "source": [
    "r_nutrients[0]"
   ]
  },
  {
   "cell_type": "code",
   "execution_count": 233,
   "metadata": {
    "ExecuteTime": {
     "end_time": "2017-06-11T06:36:06.893520",
     "start_time": "2017-06-10T23:36:06.866198-07:00"
    }
   },
   "outputs": [
    {
     "data": {
      "text/plain": [
       "{u'Calories': [207.0, u'kcal'],\n",
       " u'Carbs': [23.7, u'g'],\n",
       " u'Cholesterol': [24.0, u'mg'],\n",
       " u'Fat': [12.0, u'g'],\n",
       " u'Protein': [3.6, u'g'],\n",
       " u'Sodium': [178.0, u'mg']}"
      ]
     },
     "execution_count": 233,
     "metadata": {},
     "output_type": "execute_result"
    }
   ],
   "source": [
    "r_nutrients[0][1]"
   ]
  },
  {
   "cell_type": "code",
   "execution_count": 235,
   "metadata": {
    "ExecuteTime": {
     "end_time": "2017-06-11T06:37:24.463394",
     "start_time": "2017-06-10T23:37:24.359801-07:00"
    }
   },
   "outputs": [
    {
     "data": {
      "text/plain": [
       "(u'10141',\n",
       " {u'Calories': [207.0, u'kcal'],\n",
       "  u'Carbs': [23.7, u'g'],\n",
       "  u'Cholesterol': [24.0, u'mg'],\n",
       "  u'Fat': [12.0, u'g'],\n",
       "  u'Protein': [3.6, u'g'],\n",
       "  u'Sodium': [178.0, u'mg']})"
      ]
     },
     "execution_count": 235,
     "metadata": {},
     "output_type": "execute_result"
    }
   ],
   "source": [
    "r_nutrients[0]"
   ]
  },
  {
   "cell_type": "code",
   "execution_count": 246,
   "metadata": {
    "ExecuteTime": {
     "end_time": "2017-06-11T06:42:06.115521",
     "start_time": "2017-06-10T23:42:06.077508-07:00"
    },
    "collapsed": true,
    "scrolled": false
   },
   "outputs": [],
   "source": [
    "no_cals = [a[0] for a in r_nutrients if not a[1].get('Calories') ]"
   ]
  },
  {
   "cell_type": "code",
   "execution_count": 254,
   "metadata": {
    "ExecuteTime": {
     "end_time": "2017-06-11T06:44:52.844812",
     "start_time": "2017-06-10T23:44:52.734730-07:00"
    }
   },
   "outputs": [
    {
     "name": "stdout",
     "output_type": "stream",
     "text": [
      "987 out of 8733 have no nutrient info\n"
     ]
    }
   ],
   "source": [
    "print \"{} out of {} have no nutrient info\".format(len(no_cals), len(r_nutrients))"
   ]
  },
  {
   "cell_type": "code",
   "execution_count": 285,
   "metadata": {
    "ExecuteTime": {
     "end_time": "2017-06-11T07:02:52.757458",
     "start_time": "2017-06-11T00:02:52.714862-07:00"
    },
    "collapsed": true
   },
   "outputs": [],
   "source": [
    "cals = [] \n",
    "for i, a in enumerate(r_nutrients): \n",
    "    if a[1].get(\"Calories\"): \n",
    "        cals.append(a[1]['Calories'][0])\n",
    "    else: cals.append(0)"
   ]
  },
  {
   "cell_type": "code",
   "execution_count": 286,
   "metadata": {
    "ExecuteTime": {
     "end_time": "2017-06-11T07:02:55.806946",
     "start_time": "2017-06-11T00:02:55.777962-07:00"
    },
    "collapsed": true,
    "scrolled": true
   },
   "outputs": [],
   "source": [
    "cals_array = np.asarray(cals)"
   ]
  },
  {
   "cell_type": "code",
   "execution_count": null,
   "metadata": {
    "ExecuteTime": {
     "end_time": "2017-06-11T07:02:15.658447",
     "start_time": "2017-06-11T00:02:15.563117-07:00"
    },
    "collapsed": true
   },
   "outputs": [],
   "source": []
  },
  {
   "cell_type": "code",
   "execution_count": 287,
   "metadata": {
    "ExecuteTime": {
     "end_time": "2017-06-11T07:02:56.866072",
     "start_time": "2017-06-11T00:02:56.833814-07:00"
    }
   },
   "outputs": [
    {
     "name": "stdout",
     "output_type": "stream",
     "text": [
      "289.122065728 3565.0 0.0\n"
     ]
    }
   ],
   "source": [
    "print cals_array.mean(), cals_array.max(), cals_array.min()"
   ]
  },
  {
   "cell_type": "code",
   "execution_count": 288,
   "metadata": {
    "ExecuteTime": {
     "end_time": "2017-06-11T07:03:02.965114",
     "start_time": "2017-06-11T00:03:02.940241-07:00"
    }
   },
   "outputs": [
    {
     "data": {
      "text/plain": [
       "6026"
      ]
     },
     "execution_count": 288,
     "metadata": {},
     "output_type": "execute_result"
    }
   ],
   "source": [
    "cals_array.argmax()"
   ]
  },
  {
   "cell_type": "code",
   "execution_count": 289,
   "metadata": {
    "ExecuteTime": {
     "end_time": "2017-06-11T07:03:08.341874",
     "start_time": "2017-06-11T00:03:08.316136-07:00"
    }
   },
   "outputs": [
    {
     "data": {
      "text/plain": [
       "(u'228047',\n",
       " {u'Calories': [3565.0, u'kcal'],\n",
       "  u'Carbs': [502.5, u'g'],\n",
       "  u'Cholesterol': [183.0, u'mg'],\n",
       "  u'Fat': [167.4, u'g'],\n",
       "  u'Protein': [42.7, u'g'],\n",
       "  u'Sodium': [3214.0, u'mg']})"
      ]
     },
     "execution_count": 289,
     "metadata": {},
     "output_type": "execute_result"
    }
   ],
   "source": [
    "r_nutrients[6026]"
   ]
  },
  {
   "cell_type": "code",
   "execution_count": 276,
   "metadata": {
    "ExecuteTime": {
     "end_time": "2017-06-11T06:57:34.102317",
     "start_time": "2017-06-10T23:57:34.062200-07:00"
    }
   },
   "outputs": [
    {
     "data": {
      "text/plain": [
       "[u'Shiitake Angel Hair Pasta']"
      ]
     },
     "execution_count": 276,
     "metadata": {},
     "output_type": "execute_result"
    }
   ],
   "source": [
    "recipes_coll.find_one({'recipe_ID':'11706'})['name']"
   ]
  },
  {
   "cell_type": "code",
   "execution_count": 439,
   "metadata": {
    "ExecuteTime": {
     "end_time": "2017-06-12T02:30:36.934205",
     "start_time": "2017-06-11T19:30:36.829071-07:00"
    },
    "scrolled": false
   },
   "outputs": [
    {
     "data": {
      "text/plain": [
       "[u'Carbs', u'Sodium', u'Calories', u'Fat', u'Cholesterol', u'Protein']"
      ]
     },
     "execution_count": 439,
     "metadata": {},
     "output_type": "execute_result"
    }
   ],
   "source": [
    "r_nutrients_dict[r_nutrients[2][0]].keys()"
   ]
  },
  {
   "cell_type": "code",
   "execution_count": 193,
   "metadata": {
    "ExecuteTime": {
     "end_time": "2017-06-11T05:42:44.081946",
     "start_time": "2017-06-10T22:42:44.015450-07:00"
    },
    "scrolled": false
   },
   "outputs": [
    {
     "name": "stdout",
     "output_type": "stream",
     "text": [
      "Calories 189.0 kcal\n",
      "Fat 3.2 g\n",
      "Carbs 35.5 g\n",
      "Protein 4.2 g\n",
      "Cholesterol 25.0 mg\n",
      "Sodium 92.0 mg\n"
     ]
    },
    {
     "data": {
      "text/plain": [
       "{u'Calories': [189.0, u'kcal'],\n",
       " u'Carbs': [35.5, u'g'],\n",
       " u'Cholesterol': [25.0, u'mg'],\n",
       " u'Fat': [3.2, u'g'],\n",
       " u'Protein': [4.2, u'g'],\n",
       " u'Sodium': [92.0, u'mg']}"
      ]
     },
     "execution_count": 193,
     "metadata": {},
     "output_type": "execute_result"
    }
   ],
   "source": [
    "scrape_nutrition_info('10159')"
   ]
  },
  {
   "cell_type": "code",
   "execution_count": 213,
   "metadata": {
    "ExecuteTime": {
     "end_time": "2017-06-11T06:17:00.147714",
     "start_time": "2017-06-10T23:17:00.117519-07:00"
    }
   },
   "outputs": [
    {
     "data": {
      "text/plain": [
       "{u'_id': ObjectId('58d9ee6a1bc9b2453dcc1579'),\n",
       " u'description': [u'\"A great combination of chocolate chips, oatmeal, and peanut butter.\"'],\n",
       " u'ingredients_list': [u'1/2 cup butter',\n",
       "  u'1/2 cup white sugar',\n",
       "  u'1/3 cup packed brown sugar',\n",
       "  u'1/2 cup peanut butter',\n",
       "  u'1/2 teaspoon vanilla extract',\n",
       "  u'1 egg',\n",
       "  u'1 cup all-purpose flour',\n",
       "  u'1 teaspoon baking soda',\n",
       "  u'1/4 teaspoon salt',\n",
       "  u'1/2 cup rolled oats',\n",
       "  u'1 cup semisweet chocolate chips'],\n",
       " u'name': [u'Outrageous Chocolate Chip Cookies'],\n",
       " u'recipe_ID': u'10141'}"
      ]
     },
     "execution_count": 213,
     "metadata": {},
     "output_type": "execute_result"
    }
   ],
   "source": [
    "recipes_coll.find_one({},mainstay_items)"
   ]
  },
  {
   "cell_type": "code",
   "execution_count": 208,
   "metadata": {
    "ExecuteTime": {
     "end_time": "2017-06-11T05:59:20.752894",
     "start_time": "2017-06-10T22:59:20.691684-07:00"
    },
    "scrolled": true
   },
   "outputs": [
    {
     "data": {
      "text/plain": [
       "[[u'Outrageous Chocolate Chip Cookies'],\n",
       " [u'\"A great combination of chocolate chips, oatmeal, and peanut butter.\"'],\n",
       " u'10141',\n",
       " [u'Preheat oven to 350 degrees F (175 degrees C).',\n",
       "  u'In a medium bowl, cream together the butter, white sugar and brown sugar until smooth. Stir in the peanut butter, vanilla and egg until well blended. Combine the flour, baking soda and salt; stir into the batter just until moistened. Mix in the oats and chocolate chips until evenly distributed. Drop by tablespoonfuls on to lightly greased cookie sheets.',\n",
       "  u'Bake for 10 to 12 minutes in the preheated oven, until the edges start to brown. Cool on cookie sheets for about 5 minutes before transferring to wire racks to cool completely.',\n",
       "  u''],\n",
       " [u'1/2 cup butter',\n",
       "  u'1/2 cup white sugar',\n",
       "  u'1/3 cup packed brown sugar',\n",
       "  u'1/2 cup peanut butter',\n",
       "  u'1/2 teaspoon vanilla extract',\n",
       "  u'1 egg',\n",
       "  u'1 cup all-purpose flour',\n",
       "  u'1 teaspoon baking soda',\n",
       "  u'1/4 teaspoon salt',\n",
       "  u'1/2 cup rolled oats',\n",
       "  u'1 cup semisweet chocolate chips']]"
      ]
     },
     "execution_count": 208,
     "metadata": {},
     "output_type": "execute_result"
    }
   ],
   "source": [
    "[recipes_coll.find_one()[a] for a in ['name','description', 'recipe_ID', 'directions_list', 'ingredients_list']]"
   ]
  },
  {
   "cell_type": "code",
   "execution_count": 290,
   "metadata": {
    "ExecuteTime": {
     "end_time": "2017-06-11T22:49:19.582104",
     "start_time": "2017-06-11T15:49:19.373439-07:00"
    },
    "collapsed": true
   },
   "outputs": [],
   "source": [
    "# useful items \n",
    "useful_items = ['name','description', 'recipe_ID', 'directinons_list', 'ingredients_list']"
   ]
  },
  {
   "cell_type": "code",
   "execution_count": 295,
   "metadata": {
    "ExecuteTime": {
     "end_time": "2017-06-11T23:05:05.689749",
     "start_time": "2017-06-11T16:05:05.666563-07:00"
    },
    "collapsed": true
   },
   "outputs": [],
   "source": [
    "members_coll = allrecipes.members"
   ]
  },
  {
   "cell_type": "code",
   "execution_count": 296,
   "metadata": {
    "ExecuteTime": {
     "end_time": "2017-06-11T23:05:08.685394",
     "start_time": "2017-06-11T16:05:08.575853-07:00"
    },
    "scrolled": true
   },
   "outputs": [
    {
     "data": {
      "text/plain": [
       "[u'favorites_page',\n",
       " u'following_page',\n",
       " u'followers_dict',\n",
       " u'reviews_recipe_id_list',\n",
       " u'aboutme',\n",
       " u'reviews_dict',\n",
       " u'reviews_page',\n",
       " u'madeits_recipe_id_list',\n",
       " u'followers_page',\n",
       " u'favorites_dict',\n",
       " u'madeit_page',\n",
       " u'following_dict',\n",
       " u'link',\n",
       " u'following_recipe_id_list',\n",
       " u'member_ID',\n",
       " u'favorites_recipe_id_list',\n",
       " u'followers_recipe_id_list',\n",
       " u'_id',\n",
       " u'recipes_page',\n",
       " u'madeits_dict']"
      ]
     },
     "execution_count": 296,
     "metadata": {},
     "output_type": "execute_result"
    }
   ],
   "source": [
    "members_coll.find_one().keys()"
   ]
  },
  {
   "cell_type": "code",
   "execution_count": 395,
   "metadata": {
    "ExecuteTime": {
     "end_time": "2017-06-12T02:07:42.617171",
     "start_time": "2017-06-11T19:07:42.569830-07:00"
    },
    "collapsed": true
   },
   "outputs": [],
   "source": [
    "import collections\n",
    "import pprint\n",
    "import pandas as pd\n",
    "import numpy as np"
   ]
  },
  {
   "cell_type": "code",
   "execution_count": 401,
   "metadata": {
    "ExecuteTime": {
     "end_time": "2017-06-12T02:12:22.936888",
     "start_time": "2017-06-11T19:12:14.026463-07:00"
    }
   },
   "outputs": [
    {
     "ename": "TypeError",
     "evalue": "list indices must be integers, not str",
     "output_type": "error",
     "traceback": [
      "\u001b[0;31m---------------------------------------------------------------------------\u001b[0m",
      "\u001b[0;31mTypeError\u001b[0m                                 Traceback (most recent call last)",
      "\u001b[0;32m<ipython-input-401-fa5ad25213dc>\u001b[0m in \u001b[0;36m<module>\u001b[0;34m()\u001b[0m\n\u001b[0;32m----> 1\u001b[0;31m \u001b[0mnp\u001b[0m\u001b[0;34m.\u001b[0m\u001b[0masarray\u001b[0m\u001b[0;34m(\u001b[0m\u001b[0;34m[\u001b[0m\u001b[0;34m[\u001b[0m \u001b[0mb\u001b[0m\u001b[0;34m[\u001b[0m\u001b[0;36m1\u001b[0m\u001b[0;34m]\u001b[0m\u001b[0;34m[\u001b[0m\u001b[0;36m0\u001b[0m\u001b[0;34m]\u001b[0m\u001b[0;34m]\u001b[0m \u001b[0;32mfor\u001b[0m \u001b[0mrec\u001b[0m \u001b[0;32min\u001b[0m \u001b[0mlist\u001b[0m\u001b[0;34m(\u001b[0m\u001b[0mmembers_coll\u001b[0m\u001b[0;34m.\u001b[0m\u001b[0mfind\u001b[0m\u001b[0;34m(\u001b[0m\u001b[0;34m{\u001b[0m\u001b[0;34m'madeits_dict'\u001b[0m\u001b[0;34m:\u001b[0m\u001b[0;34m{\u001b[0m\u001b[0;34m'$exists'\u001b[0m\u001b[0;34m:\u001b[0m\u001b[0mTrue\u001b[0m\u001b[0;34m}\u001b[0m\u001b[0;34m}\u001b[0m\u001b[0;34m)\u001b[0m\u001b[0;34m)\u001b[0m\u001b[0;34m[\u001b[0m\u001b[0;34m'madeits_dict'\u001b[0m\u001b[0;34m]\u001b[0m\u001b[0;34m[\u001b[0m\u001b[0;36m0\u001b[0m\u001b[0;34m]\u001b[0m\u001b[0;34m.\u001b[0m\u001b[0mvalues\u001b[0m\u001b[0;34m(\u001b[0m\u001b[0;34m)\u001b[0m \u001b[0;32mfor\u001b[0m \u001b[0mb\u001b[0m \u001b[0;32min\u001b[0m \u001b[0mscrape_nutrition_info\u001b[0m\u001b[0;34m(\u001b[0m\u001b[0mrec\u001b[0m\u001b[0;34m)\u001b[0m\u001b[0;34m]\u001b[0m\u001b[0;34m)\u001b[0m\u001b[0;34m\u001b[0m\u001b[0m\n\u001b[0m",
      "\u001b[0;31mTypeError\u001b[0m: list indices must be integers, not str"
     ]
    }
   ],
   "source": [
    "np.asarray([[ b[1][0]] for rec in list(members_coll.find({'madeits_dict':{'$exists':True}}))['madeits_dict'][0].values() for b in scrape_nutrition_info(rec)]) "
   ]
  },
  {
   "cell_type": "code",
   "execution_count": 448,
   "metadata": {
    "ExecuteTime": {
     "end_time": "2017-06-12T02:36:53.640522",
     "start_time": "2017-06-11T19:36:53.577304-07:00"
    }
   },
   "outputs": [
    {
     "data": {
      "text/plain": [
       "[u'recipe_times',\n",
       " u'nutrition_elements',\n",
       " u'name',\n",
       " u'nutrition_serving_info',\n",
       " u'description',\n",
       " u'servings_config',\n",
       " u'recipe_ID',\n",
       " u'rating_list',\n",
       " u'servings',\n",
       " u'nutrition_info',\n",
       " u'_id',\n",
       " u'page',\n",
       " u'directions_list',\n",
       " u'ingredients_list']"
      ]
     },
     "execution_count": 448,
     "metadata": {},
     "output_type": "execute_result"
    }
   ],
   "source": [
    "recipes_coll.find_one().keys()"
   ]
  },
  {
   "cell_type": "code",
   "execution_count": 580,
   "metadata": {
    "ExecuteTime": {
     "end_time": "2017-06-12T03:32:08.688574",
     "start_time": "2017-06-11T20:32:08.592349-07:00"
    },
    "collapsed": true
   },
   "outputs": [],
   "source": [
    "import itertools"
   ]
  },
  {
   "cell_type": "code",
   "execution_count": 581,
   "metadata": {
    "ExecuteTime": {
     "end_time": "2017-06-12T03:32:51.291718",
     "start_time": "2017-06-11T20:32:48.228368-07:00"
    }
   },
   "outputs": [
    {
     "data": {
      "text/plain": [
       "815"
      ]
     },
     "execution_count": 581,
     "metadata": {},
     "output_type": "execute_result"
    }
   ],
   "source": [
    "members_coll.find({'madeits_dict':{'$exists':True}}).count()"
   ]
  },
  {
   "cell_type": "code",
   "execution_count": 509,
   "metadata": {
    "ExecuteTime": {
     "end_time": "2017-06-12T03:07:59.877870",
     "start_time": "2017-06-11T20:06:19.181411-07:00"
    },
    "collapsed": true,
    "scrolled": true
   },
   "outputs": [],
   "source": [
    "# Get the average caloires, fat, carb, protein content of recipes for each member.  \n",
    "avg_nutrition = {}\n",
    "nutrition = collections.defaultdict() \n",
    "for i, a in enumerate(members_coll.find({'madeits_dict':{'$exists':True}})): \n",
    "    for b in a['madeits_dict'].values():\n",
    "            if scrape_nutrition_info(b).values(): \n",
    "                name = recipes_coll.find_one({'recipe_ID':b}).get('name', 'None')\n",
    "                nutrition[b] = [c[0] for c in scrape_nutrition_info(b).values()]\n",
    "                nutrition[b].append(name[0])\n",
    "                nutrition[b].append(a['member_ID'])\n",
    "                \n",
    "\n",
    "df = pd.DataFrame(nutrition, index = [ u'Carbs', u'Sodium', u'Calories', u'Fat', u'Cholesterol', u'Protein', 'Name','member_ID']).T"
   ]
  },
  {
   "cell_type": "code",
   "execution_count": 507,
   "metadata": {
    "ExecuteTime": {
     "end_time": "2017-06-12T03:05:53.969060",
     "start_time": "2017-06-11T20:05:53.898401-07:00"
    }
   },
   "outputs": [
    {
     "data": {
      "text/html": [
       "<div>\n",
       "<table border=\"1\" class=\"dataframe\">\n",
       "  <thead>\n",
       "    <tr style=\"text-align: right;\">\n",
       "      <th></th>\n",
       "      <th>Carbs</th>\n",
       "      <th>Sodium</th>\n",
       "      <th>Calories</th>\n",
       "      <th>Fat</th>\n",
       "      <th>Cholesterol</th>\n",
       "      <th>Protein</th>\n",
       "      <th>Name</th>\n",
       "      <th>member_ID</th>\n",
       "    </tr>\n",
       "  </thead>\n",
       "  <tbody>\n",
       "    <tr>\n",
       "      <th>241621</th>\n",
       "      <td>4</td>\n",
       "      <td>19</td>\n",
       "      <td>98</td>\n",
       "      <td>9.1</td>\n",
       "      <td>1</td>\n",
       "      <td>0.1</td>\n",
       "      <td>Raspberry Balsamic Vinaigrette Dressing</td>\n",
       "      <td>5049040</td>\n",
       "    </tr>\n",
       "    <tr>\n",
       "      <th>233078</th>\n",
       "      <td>1</td>\n",
       "      <td>43</td>\n",
       "      <td>100</td>\n",
       "      <td>0.2</td>\n",
       "      <td>0</td>\n",
       "      <td>1.2</td>\n",
       "      <td>Citrus Carrot Salad</td>\n",
       "      <td>5049040</td>\n",
       "    </tr>\n",
       "    <tr>\n",
       "      <th>19812</th>\n",
       "      <td>12.2</td>\n",
       "      <td>40</td>\n",
       "      <td>142</td>\n",
       "      <td>9.7</td>\n",
       "      <td>32</td>\n",
       "      <td>1.9</td>\n",
       "      <td>Vanilla Ice Cream V</td>\n",
       "      <td>5049040</td>\n",
       "    </tr>\n",
       "    <tr>\n",
       "      <th>236670</th>\n",
       "      <td>50.1</td>\n",
       "      <td>2073</td>\n",
       "      <td>153</td>\n",
       "      <td>14.6</td>\n",
       "      <td>64</td>\n",
       "      <td>15.9</td>\n",
       "      <td>Three Cheese Tortellini with Chicken Broth</td>\n",
       "      <td>5049040</td>\n",
       "    </tr>\n",
       "    <tr>\n",
       "      <th>241890</th>\n",
       "      <td>2.4</td>\n",
       "      <td>482</td>\n",
       "      <td>233</td>\n",
       "      <td>13.6</td>\n",
       "      <td>65</td>\n",
       "      <td>1</td>\n",
       "      <td>Grilled Chicken Marinade</td>\n",
       "      <td>5049040</td>\n",
       "    </tr>\n",
       "    <tr>\n",
       "      <th>26659</th>\n",
       "      <td>17.8</td>\n",
       "      <td>1158</td>\n",
       "      <td>289</td>\n",
       "      <td>14.9</td>\n",
       "      <td>49</td>\n",
       "      <td>19.8</td>\n",
       "      <td>Steak Tip Marinade</td>\n",
       "      <td>5049040</td>\n",
       "    </tr>\n",
       "    <tr>\n",
       "      <th>46859</th>\n",
       "      <td>28.7</td>\n",
       "      <td>766</td>\n",
       "      <td>396</td>\n",
       "      <td>21.2</td>\n",
       "      <td>89</td>\n",
       "      <td>23.7</td>\n",
       "      <td>Family Casserole</td>\n",
       "      <td>5049040</td>\n",
       "    </tr>\n",
       "    <tr>\n",
       "      <th>87624</th>\n",
       "      <td>30.6</td>\n",
       "      <td>746</td>\n",
       "      <td>465</td>\n",
       "      <td>23.8</td>\n",
       "      <td>100</td>\n",
       "      <td>30.5</td>\n",
       "      <td>Beefy Baked Ravioli</td>\n",
       "      <td>5049040</td>\n",
       "    </tr>\n",
       "    <tr>\n",
       "      <th>78144</th>\n",
       "      <td>57.4</td>\n",
       "      <td>720</td>\n",
       "      <td>486</td>\n",
       "      <td>13.7</td>\n",
       "      <td>64</td>\n",
       "      <td>32.1</td>\n",
       "      <td>Garlic Chicken Fried Brown Rice</td>\n",
       "      <td>5049040</td>\n",
       "    </tr>\n",
       "    <tr>\n",
       "      <th>237454</th>\n",
       "      <td>27.2</td>\n",
       "      <td>1349</td>\n",
       "      <td>500</td>\n",
       "      <td>34.9</td>\n",
       "      <td>74</td>\n",
       "      <td>19.5</td>\n",
       "      <td>Grilled Cheese De Mayo</td>\n",
       "      <td>5049040</td>\n",
       "    </tr>\n",
       "    <tr>\n",
       "      <th>16875</th>\n",
       "      <td>92.1</td>\n",
       "      <td>194</td>\n",
       "      <td>504</td>\n",
       "      <td>12.8</td>\n",
       "      <td>84</td>\n",
       "      <td>7.2</td>\n",
       "      <td>Homemade Banana Pudding Pie</td>\n",
       "      <td>5049040</td>\n",
       "    </tr>\n",
       "    <tr>\n",
       "      <th>214474</th>\n",
       "      <td>43.2</td>\n",
       "      <td>1626</td>\n",
       "      <td>543</td>\n",
       "      <td>30</td>\n",
       "      <td>74</td>\n",
       "      <td>24.8</td>\n",
       "      <td>Stupid Hot Dog Thing</td>\n",
       "      <td>5049040</td>\n",
       "    </tr>\n",
       "    <tr>\n",
       "      <th>216572</th>\n",
       "      <td>67.4</td>\n",
       "      <td>1361</td>\n",
       "      <td>583</td>\n",
       "      <td>20.5</td>\n",
       "      <td>104</td>\n",
       "      <td>32.2</td>\n",
       "      <td>Creamy Tortellini Carbonara</td>\n",
       "      <td>5049040</td>\n",
       "    </tr>\n",
       "    <tr>\n",
       "      <th>86801</th>\n",
       "      <td>12.9</td>\n",
       "      <td>3179</td>\n",
       "      <td>586</td>\n",
       "      <td>41</td>\n",
       "      <td>102</td>\n",
       "      <td>39.4</td>\n",
       "      <td>BBQ NY Strip</td>\n",
       "      <td>5049040</td>\n",
       "    </tr>\n",
       "    <tr>\n",
       "      <th>45954</th>\n",
       "      <td>3.7</td>\n",
       "      <td>1351</td>\n",
       "      <td>586</td>\n",
       "      <td>34.3</td>\n",
       "      <td>194</td>\n",
       "      <td>61.7</td>\n",
       "      <td>Roast Sticky Chicken-Rotisserie Style</td>\n",
       "      <td>5049040</td>\n",
       "    </tr>\n",
       "    <tr>\n",
       "      <th>240948</th>\n",
       "      <td>85.1</td>\n",
       "      <td>1734</td>\n",
       "      <td>686</td>\n",
       "      <td>26</td>\n",
       "      <td>65</td>\n",
       "      <td>26.2</td>\n",
       "      <td>Pierogie and Mushroom Casserole</td>\n",
       "      <td>5049040</td>\n",
       "    </tr>\n",
       "    <tr>\n",
       "      <th>162836</th>\n",
       "      <td>98.1</td>\n",
       "      <td>294</td>\n",
       "      <td>744</td>\n",
       "      <td>40.3</td>\n",
       "      <td>82</td>\n",
       "      <td>5</td>\n",
       "      <td>Luck o' the Irish Brownie</td>\n",
       "      <td>5049040</td>\n",
       "    </tr>\n",
       "    <tr>\n",
       "      <th>21037</th>\n",
       "      <td>91.4</td>\n",
       "      <td>3382</td>\n",
       "      <td>762</td>\n",
       "      <td>25</td>\n",
       "      <td>126</td>\n",
       "      <td>38.7</td>\n",
       "      <td>Broth Marinated BBQ Steak</td>\n",
       "      <td>5049040</td>\n",
       "    </tr>\n",
       "  </tbody>\n",
       "</table>\n",
       "</div>"
      ],
      "text/plain": [
       "       Carbs Sodium Calories   Fat Cholesterol Protein  \\\n",
       "241621     4     19       98   9.1           1     0.1   \n",
       "233078     1     43      100   0.2           0     1.2   \n",
       "19812   12.2     40      142   9.7          32     1.9   \n",
       "236670  50.1   2073      153  14.6          64    15.9   \n",
       "241890   2.4    482      233  13.6          65       1   \n",
       "26659   17.8   1158      289  14.9          49    19.8   \n",
       "46859   28.7    766      396  21.2          89    23.7   \n",
       "87624   30.6    746      465  23.8         100    30.5   \n",
       "78144   57.4    720      486  13.7          64    32.1   \n",
       "237454  27.2   1349      500  34.9          74    19.5   \n",
       "16875   92.1    194      504  12.8          84     7.2   \n",
       "214474  43.2   1626      543    30          74    24.8   \n",
       "216572  67.4   1361      583  20.5         104    32.2   \n",
       "86801   12.9   3179      586    41         102    39.4   \n",
       "45954    3.7   1351      586  34.3         194    61.7   \n",
       "240948  85.1   1734      686    26          65    26.2   \n",
       "162836  98.1    294      744  40.3          82       5   \n",
       "21037   91.4   3382      762    25         126    38.7   \n",
       "\n",
       "                                              Name member_ID  \n",
       "241621     Raspberry Balsamic Vinaigrette Dressing   5049040  \n",
       "233078                         Citrus Carrot Salad   5049040  \n",
       "19812                          Vanilla Ice Cream V   5049040  \n",
       "236670  Three Cheese Tortellini with Chicken Broth   5049040  \n",
       "241890                    Grilled Chicken Marinade   5049040  \n",
       "26659                           Steak Tip Marinade   5049040  \n",
       "46859                             Family Casserole   5049040  \n",
       "87624                          Beefy Baked Ravioli   5049040  \n",
       "78144              Garlic Chicken Fried Brown Rice   5049040  \n",
       "237454                      Grilled Cheese De Mayo   5049040  \n",
       "16875                  Homemade Banana Pudding Pie   5049040  \n",
       "214474                        Stupid Hot Dog Thing   5049040  \n",
       "216572                 Creamy Tortellini Carbonara   5049040  \n",
       "86801                                 BBQ NY Strip   5049040  \n",
       "45954        Roast Sticky Chicken-Rotisserie Style   5049040  \n",
       "240948             Pierogie and Mushroom Casserole   5049040  \n",
       "162836                   Luck o' the Irish Brownie   5049040  \n",
       "21037                    Broth Marinated BBQ Steak   5049040  "
      ]
     },
     "execution_count": 507,
     "metadata": {},
     "output_type": "execute_result"
    }
   ],
   "source": [
    "df.sort_values(by='Calories')"
   ]
  },
  {
   "cell_type": "code",
   "execution_count": 558,
   "metadata": {
    "ExecuteTime": {
     "end_time": "2017-06-12T03:22:14.680215",
     "start_time": "2017-06-11T20:22:14.543978-07:00"
    },
    "collapsed": true
   },
   "outputs": [],
   "source": [
    "df.astype?"
   ]
  },
  {
   "cell_type": "code",
   "execution_count": 577,
   "metadata": {
    "ExecuteTime": {
     "end_time": "2017-06-12T03:28:11.286314",
     "start_time": "2017-06-11T20:28:11.255593-07:00"
    },
    "collapsed": true,
    "scrolled": false
   },
   "outputs": [],
   "source": [
    "df.Protein = pd.to_numeric(df.Protein)"
   ]
  },
  {
   "cell_type": "code",
   "execution_count": 582,
   "metadata": {
    "ExecuteTime": {
     "end_time": "2017-06-12T03:34:49.523804",
     "start_time": "2017-06-11T20:34:49.407844-07:00"
    }
   },
   "outputs": [
    {
     "data": {
      "text/plain": [
       "Carbs          float64\n",
       "Sodium         float64\n",
       "Calories       float64\n",
       "Fat            float64\n",
       "Cholesterol    float64\n",
       "Protein        float64\n",
       "Name            object\n",
       "member_ID       object\n",
       "dtype: object"
      ]
     },
     "execution_count": 582,
     "metadata": {},
     "output_type": "execute_result"
    }
   ],
   "source": [
    "df.dtypes"
   ]
  },
  {
   "cell_type": "code",
   "execution_count": 579,
   "metadata": {
    "ExecuteTime": {
     "end_time": "2017-06-12T03:29:03.805856",
     "start_time": "2017-06-11T20:29:03.565245-07:00"
    },
    "scrolled": true
   },
   "outputs": [
    {
     "data": {
      "text/html": [
       "<div>\n",
       "<table border=\"1\" class=\"dataframe\">\n",
       "  <thead>\n",
       "    <tr style=\"text-align: right;\">\n",
       "      <th></th>\n",
       "      <th>member_ID</th>\n",
       "      <th>Carbs</th>\n",
       "      <th>Sodium</th>\n",
       "      <th>Calories</th>\n",
       "      <th>Fat</th>\n",
       "      <th>Cholesterol</th>\n",
       "      <th>Protein</th>\n",
       "    </tr>\n",
       "  </thead>\n",
       "  <tbody>\n",
       "    <tr>\n",
       "      <th>0</th>\n",
       "      <td>1022640</td>\n",
       "      <td>36.770000</td>\n",
       "      <td>268.100000</td>\n",
       "      <td>358.800000</td>\n",
       "      <td>17.640000</td>\n",
       "      <td>72.800000</td>\n",
       "      <td>4.000000</td>\n",
       "    </tr>\n",
       "    <tr>\n",
       "      <th>1</th>\n",
       "      <td>1031281</td>\n",
       "      <td>28.700000</td>\n",
       "      <td>51.000000</td>\n",
       "      <td>554.000000</td>\n",
       "      <td>47.800000</td>\n",
       "      <td>320.000000</td>\n",
       "      <td>4.500000</td>\n",
       "    </tr>\n",
       "    <tr>\n",
       "      <th>2</th>\n",
       "      <td>10412264</td>\n",
       "      <td>20.880000</td>\n",
       "      <td>553.800000</td>\n",
       "      <td>279.800000</td>\n",
       "      <td>15.120000</td>\n",
       "      <td>70.200000</td>\n",
       "      <td>16.640000</td>\n",
       "    </tr>\n",
       "    <tr>\n",
       "      <th>3</th>\n",
       "      <td>10631238</td>\n",
       "      <td>16.300000</td>\n",
       "      <td>961.000000</td>\n",
       "      <td>331.000000</td>\n",
       "      <td>18.500000</td>\n",
       "      <td>72.000000</td>\n",
       "      <td>13.400000</td>\n",
       "    </tr>\n",
       "    <tr>\n",
       "      <th>4</th>\n",
       "      <td>10682626</td>\n",
       "      <td>19.600000</td>\n",
       "      <td>643.000000</td>\n",
       "      <td>320.333333</td>\n",
       "      <td>23.566667</td>\n",
       "      <td>78.000000</td>\n",
       "      <td>9.800000</td>\n",
       "    </tr>\n",
       "    <tr>\n",
       "      <th>5</th>\n",
       "      <td>10719920</td>\n",
       "      <td>1.000000</td>\n",
       "      <td>17.000000</td>\n",
       "      <td>276.000000</td>\n",
       "      <td>0.300000</td>\n",
       "      <td>0.000000</td>\n",
       "      <td>0.500000</td>\n",
       "    </tr>\n",
       "    <tr>\n",
       "      <th>6</th>\n",
       "      <td>10752010</td>\n",
       "      <td>30.850000</td>\n",
       "      <td>809.583333</td>\n",
       "      <td>408.500000</td>\n",
       "      <td>23.125000</td>\n",
       "      <td>74.666667</td>\n",
       "      <td>19.675000</td>\n",
       "    </tr>\n",
       "    <tr>\n",
       "      <th>7</th>\n",
       "      <td>10779188</td>\n",
       "      <td>19.600000</td>\n",
       "      <td>125.000000</td>\n",
       "      <td>129.500000</td>\n",
       "      <td>4.450000</td>\n",
       "      <td>10.500000</td>\n",
       "      <td>2.650000</td>\n",
       "    </tr>\n",
       "    <tr>\n",
       "      <th>8</th>\n",
       "      <td>10788491</td>\n",
       "      <td>25.050000</td>\n",
       "      <td>682.250000</td>\n",
       "      <td>292.000000</td>\n",
       "      <td>13.050000</td>\n",
       "      <td>103.750000</td>\n",
       "      <td>18.825000</td>\n",
       "    </tr>\n",
       "    <tr>\n",
       "      <th>9</th>\n",
       "      <td>10789799</td>\n",
       "      <td>34.621429</td>\n",
       "      <td>408.928571</td>\n",
       "      <td>351.357143</td>\n",
       "      <td>20.035714</td>\n",
       "      <td>53.000000</td>\n",
       "      <td>10.285714</td>\n",
       "    </tr>\n",
       "    <tr>\n",
       "      <th>10</th>\n",
       "      <td>10805127</td>\n",
       "      <td>39.000000</td>\n",
       "      <td>1077.000000</td>\n",
       "      <td>423.000000</td>\n",
       "      <td>19.300000</td>\n",
       "      <td>89.000000</td>\n",
       "      <td>22.300000</td>\n",
       "    </tr>\n",
       "    <tr>\n",
       "      <th>11</th>\n",
       "      <td>10834888</td>\n",
       "      <td>20.725000</td>\n",
       "      <td>591.250000</td>\n",
       "      <td>240.500000</td>\n",
       "      <td>14.950000</td>\n",
       "      <td>13.000000</td>\n",
       "      <td>6.100000</td>\n",
       "    </tr>\n",
       "    <tr>\n",
       "      <th>12</th>\n",
       "      <td>10908673</td>\n",
       "      <td>21.457143</td>\n",
       "      <td>946.000000</td>\n",
       "      <td>341.571429</td>\n",
       "      <td>17.200000</td>\n",
       "      <td>56.857143</td>\n",
       "      <td>21.900000</td>\n",
       "    </tr>\n",
       "    <tr>\n",
       "      <th>13</th>\n",
       "      <td>10944722</td>\n",
       "      <td>24.100000</td>\n",
       "      <td>436.600000</td>\n",
       "      <td>247.800000</td>\n",
       "      <td>12.240000</td>\n",
       "      <td>37.000000</td>\n",
       "      <td>11.260000</td>\n",
       "    </tr>\n",
       "    <tr>\n",
       "      <th>14</th>\n",
       "      <td>11097239</td>\n",
       "      <td>16.266667</td>\n",
       "      <td>952.666667</td>\n",
       "      <td>274.000000</td>\n",
       "      <td>14.000000</td>\n",
       "      <td>57.500000</td>\n",
       "      <td>11.750000</td>\n",
       "    </tr>\n",
       "    <tr>\n",
       "      <th>15</th>\n",
       "      <td>11113834</td>\n",
       "      <td>30.916667</td>\n",
       "      <td>1051.666667</td>\n",
       "      <td>463.166667</td>\n",
       "      <td>26.450000</td>\n",
       "      <td>83.666667</td>\n",
       "      <td>24.100000</td>\n",
       "    </tr>\n",
       "    <tr>\n",
       "      <th>16</th>\n",
       "      <td>11168795</td>\n",
       "      <td>10.900000</td>\n",
       "      <td>606.000000</td>\n",
       "      <td>156.000000</td>\n",
       "      <td>6.200000</td>\n",
       "      <td>36.000000</td>\n",
       "      <td>15.900000</td>\n",
       "    </tr>\n",
       "    <tr>\n",
       "      <th>17</th>\n",
       "      <td>11241520</td>\n",
       "      <td>20.360000</td>\n",
       "      <td>932.200000</td>\n",
       "      <td>361.533333</td>\n",
       "      <td>18.853333</td>\n",
       "      <td>70.466667</td>\n",
       "      <td>21.973333</td>\n",
       "    </tr>\n",
       "    <tr>\n",
       "      <th>18</th>\n",
       "      <td>11275186</td>\n",
       "      <td>39.700000</td>\n",
       "      <td>338.000000</td>\n",
       "      <td>356.000000</td>\n",
       "      <td>18.400000</td>\n",
       "      <td>188.000000</td>\n",
       "      <td>13.100000</td>\n",
       "    </tr>\n",
       "    <tr>\n",
       "      <th>19</th>\n",
       "      <td>11285959</td>\n",
       "      <td>52.500000</td>\n",
       "      <td>481.000000</td>\n",
       "      <td>440.000000</td>\n",
       "      <td>24.100000</td>\n",
       "      <td>46.000000</td>\n",
       "      <td>5.000000</td>\n",
       "    </tr>\n",
       "    <tr>\n",
       "      <th>20</th>\n",
       "      <td>11314510</td>\n",
       "      <td>65.100000</td>\n",
       "      <td>154.000000</td>\n",
       "      <td>434.000000</td>\n",
       "      <td>6.400000</td>\n",
       "      <td>61.000000</td>\n",
       "      <td>22.500000</td>\n",
       "    </tr>\n",
       "    <tr>\n",
       "      <th>21</th>\n",
       "      <td>11331470</td>\n",
       "      <td>10.100000</td>\n",
       "      <td>717.000000</td>\n",
       "      <td>366.000000</td>\n",
       "      <td>28.300000</td>\n",
       "      <td>71.000000</td>\n",
       "      <td>17.800000</td>\n",
       "    </tr>\n",
       "    <tr>\n",
       "      <th>22</th>\n",
       "      <td>11335258</td>\n",
       "      <td>42.616667</td>\n",
       "      <td>135.833333</td>\n",
       "      <td>311.000000</td>\n",
       "      <td>14.183333</td>\n",
       "      <td>46.666667</td>\n",
       "      <td>4.300000</td>\n",
       "    </tr>\n",
       "    <tr>\n",
       "      <th>23</th>\n",
       "      <td>11515048</td>\n",
       "      <td>24.575000</td>\n",
       "      <td>653.250000</td>\n",
       "      <td>264.000000</td>\n",
       "      <td>12.775000</td>\n",
       "      <td>55.750000</td>\n",
       "      <td>13.275000</td>\n",
       "    </tr>\n",
       "    <tr>\n",
       "      <th>24</th>\n",
       "      <td>11646012</td>\n",
       "      <td>33.400000</td>\n",
       "      <td>1026.000000</td>\n",
       "      <td>440.000000</td>\n",
       "      <td>20.300000</td>\n",
       "      <td>186.000000</td>\n",
       "      <td>30.000000</td>\n",
       "    </tr>\n",
       "    <tr>\n",
       "      <th>25</th>\n",
       "      <td>1164931</td>\n",
       "      <td>21.100000</td>\n",
       "      <td>947.916667</td>\n",
       "      <td>363.416667</td>\n",
       "      <td>22.866667</td>\n",
       "      <td>86.750000</td>\n",
       "      <td>14.708333</td>\n",
       "    </tr>\n",
       "    <tr>\n",
       "      <th>26</th>\n",
       "      <td>11669543</td>\n",
       "      <td>23.966667</td>\n",
       "      <td>718.333333</td>\n",
       "      <td>377.333333</td>\n",
       "      <td>18.166667</td>\n",
       "      <td>93.000000</td>\n",
       "      <td>29.100000</td>\n",
       "    </tr>\n",
       "    <tr>\n",
       "      <th>27</th>\n",
       "      <td>1169633</td>\n",
       "      <td>26.287500</td>\n",
       "      <td>568.375000</td>\n",
       "      <td>390.125000</td>\n",
       "      <td>22.425000</td>\n",
       "      <td>95.500000</td>\n",
       "      <td>21.425000</td>\n",
       "    </tr>\n",
       "    <tr>\n",
       "      <th>28</th>\n",
       "      <td>1171979</td>\n",
       "      <td>33.116667</td>\n",
       "      <td>569.000000</td>\n",
       "      <td>319.166667</td>\n",
       "      <td>13.966667</td>\n",
       "      <td>40.500000</td>\n",
       "      <td>13.000000</td>\n",
       "    </tr>\n",
       "    <tr>\n",
       "      <th>29</th>\n",
       "      <td>11723511</td>\n",
       "      <td>34.300000</td>\n",
       "      <td>969.666667</td>\n",
       "      <td>379.333333</td>\n",
       "      <td>16.966667</td>\n",
       "      <td>64.666667</td>\n",
       "      <td>21.233333</td>\n",
       "    </tr>\n",
       "    <tr>\n",
       "      <th>...</th>\n",
       "      <td>...</td>\n",
       "      <td>...</td>\n",
       "      <td>...</td>\n",
       "      <td>...</td>\n",
       "      <td>...</td>\n",
       "      <td>...</td>\n",
       "      <td>...</td>\n",
       "    </tr>\n",
       "    <tr>\n",
       "      <th>421</th>\n",
       "      <td>8738366</td>\n",
       "      <td>24.000000</td>\n",
       "      <td>253.000000</td>\n",
       "      <td>269.000000</td>\n",
       "      <td>18.400000</td>\n",
       "      <td>78.000000</td>\n",
       "      <td>4.600000</td>\n",
       "    </tr>\n",
       "    <tr>\n",
       "      <th>422</th>\n",
       "      <td>886179</td>\n",
       "      <td>27.616667</td>\n",
       "      <td>451.083333</td>\n",
       "      <td>266.583333</td>\n",
       "      <td>12.083333</td>\n",
       "      <td>47.750000</td>\n",
       "      <td>10.550000</td>\n",
       "    </tr>\n",
       "    <tr>\n",
       "      <th>423</th>\n",
       "      <td>8882807</td>\n",
       "      <td>13.800000</td>\n",
       "      <td>345.000000</td>\n",
       "      <td>88.000000</td>\n",
       "      <td>2.900000</td>\n",
       "      <td>0.000000</td>\n",
       "      <td>3.500000</td>\n",
       "    </tr>\n",
       "    <tr>\n",
       "      <th>424</th>\n",
       "      <td>8912712</td>\n",
       "      <td>71.100000</td>\n",
       "      <td>1393.000000</td>\n",
       "      <td>791.000000</td>\n",
       "      <td>34.300000</td>\n",
       "      <td>124.000000</td>\n",
       "      <td>47.000000</td>\n",
       "    </tr>\n",
       "    <tr>\n",
       "      <th>425</th>\n",
       "      <td>8945602</td>\n",
       "      <td>24.633333</td>\n",
       "      <td>1100.333333</td>\n",
       "      <td>512.000000</td>\n",
       "      <td>29.566667</td>\n",
       "      <td>92.000000</td>\n",
       "      <td>22.333333</td>\n",
       "    </tr>\n",
       "    <tr>\n",
       "      <th>426</th>\n",
       "      <td>8970892</td>\n",
       "      <td>26.442857</td>\n",
       "      <td>303.714286</td>\n",
       "      <td>360.428571</td>\n",
       "      <td>22.614286</td>\n",
       "      <td>62.285714</td>\n",
       "      <td>14.714286</td>\n",
       "    </tr>\n",
       "    <tr>\n",
       "      <th>427</th>\n",
       "      <td>9013446</td>\n",
       "      <td>23.460000</td>\n",
       "      <td>639.066667</td>\n",
       "      <td>318.266667</td>\n",
       "      <td>16.553333</td>\n",
       "      <td>86.666667</td>\n",
       "      <td>12.813333</td>\n",
       "    </tr>\n",
       "    <tr>\n",
       "      <th>428</th>\n",
       "      <td>902489</td>\n",
       "      <td>42.862500</td>\n",
       "      <td>446.250000</td>\n",
       "      <td>427.750000</td>\n",
       "      <td>22.737500</td>\n",
       "      <td>91.625000</td>\n",
       "      <td>14.250000</td>\n",
       "    </tr>\n",
       "    <tr>\n",
       "      <th>429</th>\n",
       "      <td>9069293</td>\n",
       "      <td>11.200000</td>\n",
       "      <td>71.000000</td>\n",
       "      <td>84.000000</td>\n",
       "      <td>4.100000</td>\n",
       "      <td>4.000000</td>\n",
       "      <td>1.100000</td>\n",
       "    </tr>\n",
       "    <tr>\n",
       "      <th>430</th>\n",
       "      <td>9172320</td>\n",
       "      <td>27.066667</td>\n",
       "      <td>564.666667</td>\n",
       "      <td>254.666667</td>\n",
       "      <td>13.866667</td>\n",
       "      <td>23.000000</td>\n",
       "      <td>7.333333</td>\n",
       "    </tr>\n",
       "    <tr>\n",
       "      <th>431</th>\n",
       "      <td>9238408</td>\n",
       "      <td>18.350000</td>\n",
       "      <td>519.500000</td>\n",
       "      <td>415.500000</td>\n",
       "      <td>29.050000</td>\n",
       "      <td>88.500000</td>\n",
       "      <td>19.800000</td>\n",
       "    </tr>\n",
       "    <tr>\n",
       "      <th>432</th>\n",
       "      <td>926057</td>\n",
       "      <td>19.044444</td>\n",
       "      <td>358.333333</td>\n",
       "      <td>182.333333</td>\n",
       "      <td>8.033333</td>\n",
       "      <td>23.888889</td>\n",
       "      <td>3.244444</td>\n",
       "    </tr>\n",
       "    <tr>\n",
       "      <th>433</th>\n",
       "      <td>9307848</td>\n",
       "      <td>43.050000</td>\n",
       "      <td>1276.250000</td>\n",
       "      <td>365.750000</td>\n",
       "      <td>14.950000</td>\n",
       "      <td>58.500000</td>\n",
       "      <td>16.150000</td>\n",
       "    </tr>\n",
       "    <tr>\n",
       "      <th>434</th>\n",
       "      <td>931633</td>\n",
       "      <td>24.633333</td>\n",
       "      <td>206.583333</td>\n",
       "      <td>231.416667</td>\n",
       "      <td>13.125000</td>\n",
       "      <td>21.583333</td>\n",
       "      <td>5.150000</td>\n",
       "    </tr>\n",
       "    <tr>\n",
       "      <th>435</th>\n",
       "      <td>9335756</td>\n",
       "      <td>28.550000</td>\n",
       "      <td>414.000000</td>\n",
       "      <td>250.500000</td>\n",
       "      <td>11.200000</td>\n",
       "      <td>21.500000</td>\n",
       "      <td>10.850000</td>\n",
       "    </tr>\n",
       "    <tr>\n",
       "      <th>436</th>\n",
       "      <td>9358065</td>\n",
       "      <td>37.560000</td>\n",
       "      <td>377.300000</td>\n",
       "      <td>310.200000</td>\n",
       "      <td>14.770000</td>\n",
       "      <td>77.000000</td>\n",
       "      <td>7.610000</td>\n",
       "    </tr>\n",
       "    <tr>\n",
       "      <th>437</th>\n",
       "      <td>9382546</td>\n",
       "      <td>13.633333</td>\n",
       "      <td>450.666667</td>\n",
       "      <td>285.000000</td>\n",
       "      <td>18.300000</td>\n",
       "      <td>50.333333</td>\n",
       "      <td>12.733333</td>\n",
       "    </tr>\n",
       "    <tr>\n",
       "      <th>438</th>\n",
       "      <td>943156</td>\n",
       "      <td>20.300000</td>\n",
       "      <td>146.000000</td>\n",
       "      <td>182.666667</td>\n",
       "      <td>10.200000</td>\n",
       "      <td>18.000000</td>\n",
       "      <td>2.933333</td>\n",
       "    </tr>\n",
       "    <tr>\n",
       "      <th>439</th>\n",
       "      <td>951570</td>\n",
       "      <td>24.050000</td>\n",
       "      <td>1435.000000</td>\n",
       "      <td>343.500000</td>\n",
       "      <td>14.150000</td>\n",
       "      <td>72.000000</td>\n",
       "      <td>29.150000</td>\n",
       "    </tr>\n",
       "    <tr>\n",
       "      <th>440</th>\n",
       "      <td>9532429</td>\n",
       "      <td>23.916667</td>\n",
       "      <td>708.666667</td>\n",
       "      <td>308.833333</td>\n",
       "      <td>17.616667</td>\n",
       "      <td>61.000000</td>\n",
       "      <td>14.233333</td>\n",
       "    </tr>\n",
       "    <tr>\n",
       "      <th>441</th>\n",
       "      <td>9564737</td>\n",
       "      <td>41.128571</td>\n",
       "      <td>742.714286</td>\n",
       "      <td>482.142857</td>\n",
       "      <td>27.385714</td>\n",
       "      <td>65.714286</td>\n",
       "      <td>18.028571</td>\n",
       "    </tr>\n",
       "    <tr>\n",
       "      <th>442</th>\n",
       "      <td>9602607</td>\n",
       "      <td>35.922222</td>\n",
       "      <td>1254.222222</td>\n",
       "      <td>409.444444</td>\n",
       "      <td>20.088889</td>\n",
       "      <td>84.555556</td>\n",
       "      <td>22.377778</td>\n",
       "    </tr>\n",
       "    <tr>\n",
       "      <th>443</th>\n",
       "      <td>9632756</td>\n",
       "      <td>19.400000</td>\n",
       "      <td>230.000000</td>\n",
       "      <td>123.000000</td>\n",
       "      <td>2.700000</td>\n",
       "      <td>48.000000</td>\n",
       "      <td>4.800000</td>\n",
       "    </tr>\n",
       "    <tr>\n",
       "      <th>444</th>\n",
       "      <td>968171</td>\n",
       "      <td>19.672727</td>\n",
       "      <td>409.454545</td>\n",
       "      <td>271.272727</td>\n",
       "      <td>17.036364</td>\n",
       "      <td>67.272727</td>\n",
       "      <td>8.190909</td>\n",
       "    </tr>\n",
       "    <tr>\n",
       "      <th>445</th>\n",
       "      <td>9815821</td>\n",
       "      <td>22.644444</td>\n",
       "      <td>572.333333</td>\n",
       "      <td>305.777778</td>\n",
       "      <td>16.144444</td>\n",
       "      <td>60.777778</td>\n",
       "      <td>15.288889</td>\n",
       "    </tr>\n",
       "    <tr>\n",
       "      <th>446</th>\n",
       "      <td>991143</td>\n",
       "      <td>29.864706</td>\n",
       "      <td>295.529412</td>\n",
       "      <td>290.235294</td>\n",
       "      <td>14.588235</td>\n",
       "      <td>39.176471</td>\n",
       "      <td>10.252941</td>\n",
       "    </tr>\n",
       "    <tr>\n",
       "      <th>447</th>\n",
       "      <td>9919347</td>\n",
       "      <td>34.400000</td>\n",
       "      <td>1.000000</td>\n",
       "      <td>187.000000</td>\n",
       "      <td>2.700000</td>\n",
       "      <td>2.000000</td>\n",
       "      <td>5.600000</td>\n",
       "    </tr>\n",
       "    <tr>\n",
       "      <th>448</th>\n",
       "      <td>9938141</td>\n",
       "      <td>39.700000</td>\n",
       "      <td>984.000000</td>\n",
       "      <td>369.666667</td>\n",
       "      <td>15.466667</td>\n",
       "      <td>33.666667</td>\n",
       "      <td>18.633333</td>\n",
       "    </tr>\n",
       "    <tr>\n",
       "      <th>449</th>\n",
       "      <td>996106</td>\n",
       "      <td>3.500000</td>\n",
       "      <td>293.000000</td>\n",
       "      <td>46.000000</td>\n",
       "      <td>3.700000</td>\n",
       "      <td>0.000000</td>\n",
       "      <td>0.700000</td>\n",
       "    </tr>\n",
       "    <tr>\n",
       "      <th>450</th>\n",
       "      <td>997941</td>\n",
       "      <td>37.860000</td>\n",
       "      <td>550.666667</td>\n",
       "      <td>300.733333</td>\n",
       "      <td>12.426667</td>\n",
       "      <td>50.266667</td>\n",
       "      <td>10.480000</td>\n",
       "    </tr>\n",
       "  </tbody>\n",
       "</table>\n",
       "<p>451 rows × 7 columns</p>\n",
       "</div>"
      ],
      "text/plain": [
       "    member_ID      Carbs       Sodium    Calories        Fat  Cholesterol  \\\n",
       "0     1022640  36.770000   268.100000  358.800000  17.640000    72.800000   \n",
       "1     1031281  28.700000    51.000000  554.000000  47.800000   320.000000   \n",
       "2    10412264  20.880000   553.800000  279.800000  15.120000    70.200000   \n",
       "3    10631238  16.300000   961.000000  331.000000  18.500000    72.000000   \n",
       "4    10682626  19.600000   643.000000  320.333333  23.566667    78.000000   \n",
       "5    10719920   1.000000    17.000000  276.000000   0.300000     0.000000   \n",
       "6    10752010  30.850000   809.583333  408.500000  23.125000    74.666667   \n",
       "7    10779188  19.600000   125.000000  129.500000   4.450000    10.500000   \n",
       "8    10788491  25.050000   682.250000  292.000000  13.050000   103.750000   \n",
       "9    10789799  34.621429   408.928571  351.357143  20.035714    53.000000   \n",
       "10   10805127  39.000000  1077.000000  423.000000  19.300000    89.000000   \n",
       "11   10834888  20.725000   591.250000  240.500000  14.950000    13.000000   \n",
       "12   10908673  21.457143   946.000000  341.571429  17.200000    56.857143   \n",
       "13   10944722  24.100000   436.600000  247.800000  12.240000    37.000000   \n",
       "14   11097239  16.266667   952.666667  274.000000  14.000000    57.500000   \n",
       "15   11113834  30.916667  1051.666667  463.166667  26.450000    83.666667   \n",
       "16   11168795  10.900000   606.000000  156.000000   6.200000    36.000000   \n",
       "17   11241520  20.360000   932.200000  361.533333  18.853333    70.466667   \n",
       "18   11275186  39.700000   338.000000  356.000000  18.400000   188.000000   \n",
       "19   11285959  52.500000   481.000000  440.000000  24.100000    46.000000   \n",
       "20   11314510  65.100000   154.000000  434.000000   6.400000    61.000000   \n",
       "21   11331470  10.100000   717.000000  366.000000  28.300000    71.000000   \n",
       "22   11335258  42.616667   135.833333  311.000000  14.183333    46.666667   \n",
       "23   11515048  24.575000   653.250000  264.000000  12.775000    55.750000   \n",
       "24   11646012  33.400000  1026.000000  440.000000  20.300000   186.000000   \n",
       "25    1164931  21.100000   947.916667  363.416667  22.866667    86.750000   \n",
       "26   11669543  23.966667   718.333333  377.333333  18.166667    93.000000   \n",
       "27    1169633  26.287500   568.375000  390.125000  22.425000    95.500000   \n",
       "28    1171979  33.116667   569.000000  319.166667  13.966667    40.500000   \n",
       "29   11723511  34.300000   969.666667  379.333333  16.966667    64.666667   \n",
       "..        ...        ...          ...         ...        ...          ...   \n",
       "421   8738366  24.000000   253.000000  269.000000  18.400000    78.000000   \n",
       "422    886179  27.616667   451.083333  266.583333  12.083333    47.750000   \n",
       "423   8882807  13.800000   345.000000   88.000000   2.900000     0.000000   \n",
       "424   8912712  71.100000  1393.000000  791.000000  34.300000   124.000000   \n",
       "425   8945602  24.633333  1100.333333  512.000000  29.566667    92.000000   \n",
       "426   8970892  26.442857   303.714286  360.428571  22.614286    62.285714   \n",
       "427   9013446  23.460000   639.066667  318.266667  16.553333    86.666667   \n",
       "428    902489  42.862500   446.250000  427.750000  22.737500    91.625000   \n",
       "429   9069293  11.200000    71.000000   84.000000   4.100000     4.000000   \n",
       "430   9172320  27.066667   564.666667  254.666667  13.866667    23.000000   \n",
       "431   9238408  18.350000   519.500000  415.500000  29.050000    88.500000   \n",
       "432    926057  19.044444   358.333333  182.333333   8.033333    23.888889   \n",
       "433   9307848  43.050000  1276.250000  365.750000  14.950000    58.500000   \n",
       "434    931633  24.633333   206.583333  231.416667  13.125000    21.583333   \n",
       "435   9335756  28.550000   414.000000  250.500000  11.200000    21.500000   \n",
       "436   9358065  37.560000   377.300000  310.200000  14.770000    77.000000   \n",
       "437   9382546  13.633333   450.666667  285.000000  18.300000    50.333333   \n",
       "438    943156  20.300000   146.000000  182.666667  10.200000    18.000000   \n",
       "439    951570  24.050000  1435.000000  343.500000  14.150000    72.000000   \n",
       "440   9532429  23.916667   708.666667  308.833333  17.616667    61.000000   \n",
       "441   9564737  41.128571   742.714286  482.142857  27.385714    65.714286   \n",
       "442   9602607  35.922222  1254.222222  409.444444  20.088889    84.555556   \n",
       "443   9632756  19.400000   230.000000  123.000000   2.700000    48.000000   \n",
       "444    968171  19.672727   409.454545  271.272727  17.036364    67.272727   \n",
       "445   9815821  22.644444   572.333333  305.777778  16.144444    60.777778   \n",
       "446    991143  29.864706   295.529412  290.235294  14.588235    39.176471   \n",
       "447   9919347  34.400000     1.000000  187.000000   2.700000     2.000000   \n",
       "448   9938141  39.700000   984.000000  369.666667  15.466667    33.666667   \n",
       "449    996106   3.500000   293.000000   46.000000   3.700000     0.000000   \n",
       "450    997941  37.860000   550.666667  300.733333  12.426667    50.266667   \n",
       "\n",
       "       Protein  \n",
       "0     4.000000  \n",
       "1     4.500000  \n",
       "2    16.640000  \n",
       "3    13.400000  \n",
       "4     9.800000  \n",
       "5     0.500000  \n",
       "6    19.675000  \n",
       "7     2.650000  \n",
       "8    18.825000  \n",
       "9    10.285714  \n",
       "10   22.300000  \n",
       "11    6.100000  \n",
       "12   21.900000  \n",
       "13   11.260000  \n",
       "14   11.750000  \n",
       "15   24.100000  \n",
       "16   15.900000  \n",
       "17   21.973333  \n",
       "18   13.100000  \n",
       "19    5.000000  \n",
       "20   22.500000  \n",
       "21   17.800000  \n",
       "22    4.300000  \n",
       "23   13.275000  \n",
       "24   30.000000  \n",
       "25   14.708333  \n",
       "26   29.100000  \n",
       "27   21.425000  \n",
       "28   13.000000  \n",
       "29   21.233333  \n",
       "..         ...  \n",
       "421   4.600000  \n",
       "422  10.550000  \n",
       "423   3.500000  \n",
       "424  47.000000  \n",
       "425  22.333333  \n",
       "426  14.714286  \n",
       "427  12.813333  \n",
       "428  14.250000  \n",
       "429   1.100000  \n",
       "430   7.333333  \n",
       "431  19.800000  \n",
       "432   3.244444  \n",
       "433  16.150000  \n",
       "434   5.150000  \n",
       "435  10.850000  \n",
       "436   7.610000  \n",
       "437  12.733333  \n",
       "438   2.933333  \n",
       "439  29.150000  \n",
       "440  14.233333  \n",
       "441  18.028571  \n",
       "442  22.377778  \n",
       "443   4.800000  \n",
       "444   8.190909  \n",
       "445  15.288889  \n",
       "446  10.252941  \n",
       "447   5.600000  \n",
       "448  18.633333  \n",
       "449   0.700000  \n",
       "450  10.480000  \n",
       "\n",
       "[451 rows x 7 columns]"
      ]
     },
     "execution_count": 579,
     "metadata": {},
     "output_type": "execute_result"
    }
   ],
   "source": [
    "df.loc[:,[u'Carbs', u'Sodium', u'Calories', u'Fat', u'Cholesterol', u'Protein', 'member_ID']].groupby('member_ID').mean().reset_index()"
   ]
  },
  {
   "cell_type": "code",
   "execution_count": 493,
   "metadata": {
    "ExecuteTime": {
     "end_time": "2017-06-12T03:00:31.816814",
     "start_time": "2017-06-11T20:00:31.779081-07:00"
    },
    "scrolled": false
   },
   "outputs": [
    {
     "data": {
      "text/plain": [
       "Carbs            40.294444\n",
       "Sodium         1139.833333\n",
       "Calories        436.444444\n",
       "Fat              21.422222\n",
       "Cholesterol      76.055556\n",
       "Protein          21.161111\n",
       "dtype: float64"
      ]
     },
     "execution_count": 493,
     "metadata": {},
     "output_type": "execute_result"
    }
   ],
   "source": [
    "df.ix[:,:6].mean()"
   ]
  },
  {
   "cell_type": "code",
   "execution_count": 610,
   "metadata": {
    "ExecuteTime": {
     "end_time": "2017-06-12T13:47:44.042158",
     "start_time": "2017-06-12T06:47:44.008230-07:00"
    },
    "collapsed": true
   },
   "outputs": [],
   "source": [
    "from allrecipes import analyze_recipes"
   ]
  },
  {
   "cell_type": "code",
   "execution_count": 615,
   "metadata": {
    "ExecuteTime": {
     "end_time": "2017-06-12T13:48:31.109459",
     "start_time": "2017-06-12T06:48:31.040530-07:00"
    }
   },
   "outputs": [
    {
     "data": {
      "text/plain": [
       "<module 'allrecipes.analyze_recipes' from 'allrecipes/analyze_recipes.pyc'>"
      ]
     },
     "execution_count": 615,
     "metadata": {},
     "output_type": "execute_result"
    }
   ],
   "source": [
    "reload(analyze_recipes)"
   ]
  },
  {
   "cell_type": "code",
   "execution_count": 658,
   "metadata": {
    "ExecuteTime": {
     "end_time": "2017-06-12T21:38:14.849016",
     "start_time": "2017-06-12T14:37:52.725140-07:00"
    }
   },
   "outputs": [
    {
     "data": {
      "text/plain": [
       "7863"
      ]
     },
     "execution_count": 658,
     "metadata": {},
     "output_type": "execute_result"
    }
   ],
   "source": [
    "recipes_coll.find({'nutrition':{'$exists':True}}).count()"
   ]
  },
  {
   "cell_type": "code",
   "execution_count": 645,
   "metadata": {
    "ExecuteTime": {
     "end_time": "2017-06-12T17:53:16.727645",
     "start_time": "2017-06-12T10:52:57.326344-07:00"
    }
   },
   "outputs": [
    {
     "data": {
      "text/plain": [
       "9023"
      ]
     },
     "execution_count": 645,
     "metadata": {},
     "output_type": "execute_result"
    }
   ],
   "source": [
    "recipes_coll.find({'nutrition_info':{'$exists':True}}).count()"
   ]
  },
  {
   "cell_type": "code",
   "execution_count": 662,
   "metadata": {
    "ExecuteTime": {
     "end_time": "2017-06-12T21:39:14.942935",
     "start_time": "2017-06-12T14:39:14.861153-07:00"
    }
   },
   "outputs": [
    {
     "data": {
      "text/plain": [
       "{u'Calories': [207.0, u'kcal'],\n",
       " u'Carbs': [23.7, u'g'],\n",
       " u'Cholesterol': [24.0, u'mg'],\n",
       " u'Fat': [12.0, u'g'],\n",
       " u'Protein': [3.6, u'g'],\n",
       " u'Sodium': [178.0, u'mg']}"
      ]
     },
     "execution_count": 662,
     "metadata": {},
     "output_type": "execute_result"
    }
   ],
   "source": [
    "recipes_coll.find_one({'nutrition':{'$exists':True}})['nutrition']"
   ]
  },
  {
   "cell_type": "code",
   "execution_count": 648,
   "metadata": {
    "ExecuteTime": {
     "end_time": "2017-06-12T18:10:17.170407",
     "start_time": "2017-06-12T11:10:16.791537-07:00"
    }
   },
   "outputs": [
    {
     "data": {
      "text/plain": [
       "1160"
      ]
     },
     "execution_count": 648,
     "metadata": {},
     "output_type": "execute_result"
    }
   ],
   "source": [
    "9023-7863\n"
   ]
  },
  {
   "cell_type": "code",
   "execution_count": 634,
   "metadata": {
    "ExecuteTime": {
     "end_time": "2017-06-12T14:02:44.042492",
     "start_time": "2017-06-12T07:02:44.005744-07:00"
    }
   },
   "outputs": [
    {
     "data": {
      "text/plain": [
       "[24.0, u'mg']"
      ]
     },
     "execution_count": 634,
     "metadata": {},
     "output_type": "execute_result"
    }
   ],
   "source": [
    "doc['Cholesterol']"
   ]
  },
  {
   "cell_type": "code",
   "execution_count": 623,
   "metadata": {
    "ExecuteTime": {
     "end_time": "2017-06-12T13:58:13.786528",
     "start_time": "2017-06-12T06:58:13.642931-07:00"
    },
    "scrolled": false
   },
   "outputs": [
    {
     "data": {
      "text/plain": [
       "[u'recipe_times',\n",
       " u'nutrition_elements',\n",
       " u'name',\n",
       " u'nutrition_serving_info',\n",
       " u'description',\n",
       " u'servings_config',\n",
       " u'recipe_ID',\n",
       " u'rating_list',\n",
       " u'servings',\n",
       " u'nutrition_info',\n",
       " u'_id',\n",
       " u'page',\n",
       " u'directions_list',\n",
       " u'ingredients_list']"
      ]
     },
     "execution_count": 623,
     "metadata": {},
     "output_type": "execute_result"
    }
   ],
   "source": [
    "recipes_coll.find_one().keys()"
   ]
  },
  {
   "cell_type": "code",
   "execution_count": 637,
   "metadata": {
    "ExecuteTime": {
     "end_time": "2017-06-12T14:04:28.391346",
     "start_time": "2017-06-12T07:04:28.290426-07:00"
    }
   },
   "outputs": [
    {
     "data": {
      "text/plain": [
       "[[u'recipe_times',\n",
       "  u'nutrition_elements',\n",
       "  u'name',\n",
       "  u'nutrition_serving_info',\n",
       "  u'description',\n",
       "  u'servings_config',\n",
       "  u'recipe_ID',\n",
       "  u'rating_list',\n",
       "  u'servings',\n",
       "  u'nutrition_info',\n",
       "  u'_id',\n",
       "  u'page',\n",
       "  u'directions_list',\n",
       "  u'ingredients_list']]"
      ]
     },
     "execution_count": 637,
     "metadata": {},
     "output_type": "execute_result"
    }
   ],
   "source": [
    "[a.keys() for a in list(recipes_coll.find({'recipe_ID':doc['recipe_ID']}))]"
   ]
  },
  {
   "cell_type": "code",
   "execution_count": 606,
   "metadata": {
    "ExecuteTime": {
     "end_time": "2017-06-12T13:41:03.203768",
     "start_time": "2017-06-12T06:41:02.831177-07:00"
    }
   },
   "outputs": [
    {
     "data": {
      "text/plain": [
       "{u'_id': ObjectId('58d9ee6a1bc9b2453dcc1579'),\n",
       " u'description': [u'\"A great combination of chocolate chips, oatmeal, and peanut butter.\"'],\n",
       " u'directions_list': [u'Preheat oven to 350 degrees F (175 degrees C).',\n",
       "  u'In a medium bowl, cream together the butter, white sugar and brown sugar until smooth. Stir in the peanut butter, vanilla and egg until well blended. Combine the flour, baking soda and salt; stir into the batter just until moistened. Mix in the oats and chocolate chips until evenly distributed. Drop by tablespoonfuls on to lightly greased cookie sheets.',\n",
       "  u'Bake for 10 to 12 minutes in the preheated oven, until the edges start to brown. Cool on cookie sheets for about 5 minutes before transferring to wire racks to cool completely.',\n",
       "  u''],\n",
       " u'ingredients_list': [u'1/2 cup butter',\n",
       "  u'1/2 cup white sugar',\n",
       "  u'1/3 cup packed brown sugar',\n",
       "  u'1/2 cup peanut butter',\n",
       "  u'1/2 teaspoon vanilla extract',\n",
       "  u'1 egg',\n",
       "  u'1 cup all-purpose flour',\n",
       "  u'1 teaspoon baking soda',\n",
       "  u'1/4 teaspoon salt',\n",
       "  u'1/2 cup rolled oats',\n",
       "  u'1 cup semisweet chocolate chips'],\n",
       " u'name': [u'Outrageous Chocolate Chip Cookies'],\n",
       " u'nutrition_elements': [u'::nutrition.fat',\n",
       "  u'::nutrition.saturatedFat',\n",
       "  u'::nutrition.cholesterol',\n",
       "  u'::nutrition.sodium',\n",
       "  u'::nutrition.carbohydrates',\n",
       "  u'::nutrition.sugars',\n",
       "  u'::nutrition.fiber',\n",
       "  u'::nutrition.protein',\n",
       "  u'::nutrition.vitaminA',\n",
       "  u'::nutrition.vitaminC',\n",
       "  u'::nutrition.calcium',\n",
       "  u'::nutrition.iron',\n",
       "  u'::nutrition.potassium',\n",
       "  u'::nutrition.thiamin',\n",
       "  u'::nutrition.niacin',\n",
       "  u'::nutrition.vitaminB6',\n",
       "  u'::nutrition.magnesium'],\n",
       " u'nutrition_info': [u'Calories:207 kcal',\n",
       "  u'',\n",
       "  u'',\n",
       "  u'',\n",
       "  u'10%Fat: 12 g',\n",
       "  u'',\n",
       "  u'',\n",
       "  u'',\n",
       "  u'18%Carbs: 23.7g',\n",
       "  u'',\n",
       "  u'',\n",
       "  u'',\n",
       "  u'8%Protein: 3.6 g',\n",
       "  u'',\n",
       "  u'',\n",
       "  u'',\n",
       "  u'7%Cholesterol: 24 mg',\n",
       "  u'',\n",
       "  u'',\n",
       "  u'',\n",
       "  u'8%Sodium: 178 mg',\n",
       "  u'',\n",
       "  u'',\n",
       "  u'',\n",
       "  u'7%',\n",
       "  u' **  :    % ',\n",
       "  u'',\n",
       "  u' **  :    % ',\n",
       "  u'',\n",
       "  u' **  :    % ',\n",
       "  u'',\n",
       "  u' **  :    % ',\n",
       "  u'',\n",
       "  u' **  :    % ',\n",
       "  u'',\n",
       "  u' **  :    % ',\n",
       "  u'',\n",
       "  u' **  :    % ',\n",
       "  u'',\n",
       "  u' **  :    % ',\n",
       "  u'',\n",
       "  u' **  :    % ',\n",
       "  u'',\n",
       "  u' **  :    % ',\n",
       "  u'',\n",
       "  u' **  :    % ',\n",
       "  u'',\n",
       "  u' **  :    % ',\n",
       "  u'',\n",
       "  u' **  :    % ',\n",
       "  u'',\n",
       "  u' **  :    % ',\n",
       "  u'',\n",
       "  u' **  :    % ',\n",
       "  u'',\n",
       "  u' **  :    % ',\n",
       "  u'',\n",
       "  u' **  :    % ',\n",
       "  u'',\n",
       "  u' **  :    % ',\n",
       "  u'',\n",
       "  u'*',\n",
       "  u'Percent Daily Values are based on a 2,000 calorie diet. Your daily values may be higher or lower depending on your calorie needs.',\n",
       "  u'',\n",
       "  u'**',\n",
       "  u'Nutrient information is not available for all ingredients. Amount is based on available nutrient data.',\n",
       "  u'',\n",
       "  u'(-)',\n",
       "  u'Information is not currently available for this nutrient. If you are following a medically restrictive diet, please consult your doctor or registered dietitian before preparing this recipe for personal consumption.',\n",
       "  u''],\n",
       " u'nutrition_serving_info': [[u'1 Serving ',\n",
       "   u'                    Servings Per Recipe: 18',\n",
       "   u'Amount Per Serving',\n",
       "   u' **  :    % ',\n",
       "   u' **  :    %']],\n",
       " u'page': u'<!DOCTYPE html>\\n<html xmlns=\"http://www.w3.org/1999/xhtml\"><head><style type=\"text/css\">@charset \"UTF-8\";[ng\\\\:cloak],[ng-cloak],[data-ng-cloak],[x-ng-cloak],.ng-cloak,.x-ng-cloak,.ng-hide:not(.ng-hide-animate){display:none !important;}ng\\\\:form{display:block;}</style>\\n    <title>Outrageous Chocolate Chip Cookies Recipe - Allrecipes.com</title>\\n        <meta content=\"Outrageous Chocolate Chip Cookies Recipe\" property=\"og:title\" />\\n\\n    <meta content=\"Allrecipes\" property=\"og:site_name\" />\\n    <meta charset=\"utf-8\" />\\n    <meta content=\"width=device-width, initial-scale=1.0\" name=\"viewport\" />\\n        <meta content=\"A great combination of chocolate chips, oatmeal, and peanut butter.\" name=\"description\" id=\"metaDescription\" />\\n        <meta content=\"A great combination of chocolate chips, oatmeal, and peanut butter.\" property=\"og:description\" />\\n                <meta content=\"noodp,noydir\" name=\"robots\" />\\n\\n    \\n\\n        <link href=\"http://allrecipes.com/recipe/10141/outrageous-chocolate-chip-cookies/\" rel=\"canonical\" id=\"canonicalUrl\" />\\n        <meta content=\"http://allrecipes.com/recipe/10141/outrageous-chocolate-chip-cookies/\" property=\"og:url\" />\\n\\n        <link href=\"https://allrecipes.com/recipe/10141/outrageous-chocolate-chip-cookies/amp/\" rel=\"amphtml\" />\\n\\n    <link rel=\"stylesheet\" href=\"http://css01.media-allrecipes.com/assets/deployables/v-1.65.0.3982/main-css.bundled.Css\" />\\n    <link rel=\"stylesheet\" href=\"http://css01.media-allrecipes.com/assets/deployables/v-1.65.0.3982/recipe-print-css.bundled.Css\" />\\n    \\n\\n                <link href=\"http://allrecipes.com/recipe/10141/outrageous-chocolate-chip-cookies/reviews/639453/\" rel=\"next\" />\\n            <meta content=\"article\" property=\"og:type\" />\\n            <meta content=\"http://images.media-allrecipes.com/userphotos/560x315/3518442.jpg\" property=\"og:image\" />\\n    <meta content=\"66102450266\" property=\"fb:app_id\" />\\n\\n    <script type=\"text/javascript\" src=\"https://bam.nr-data.net/1/55db0cb698?a=49611473&amp;v=1026.7a27a3e&amp;to=YwABYUUDXUIABRZbCVpKIllbEFZSCBYHQTFRBxBcQwccYwQFC0IDdwoNQUUNX10EFExgA1cME1B%2BDFdUGU5L&amp;rst=12576&amp;ref=http://allrecipes.com/recipe/10141/outrageous-chocolate-chip-cookies/&amp;ap=78&amp;be=1138&amp;fe=10289&amp;dc=2779&amp;af=err,xhr,stn,ins,spa&amp;perf=%7B%22timing%22:%7B%22of%22:1490499277972,%22n%22:0,%22u%22:363,%22r%22:62,%22ue%22:404,%22re%22:148,%22f%22:148,%22dn%22:149,%22dne%22:156,%22c%22:156,%22ce%22:193,%22rq%22:194,%22rp%22:360,%22rpe%22:687,%22dl%22:362,%22di%22:2149,%22ds%22:2779,%22de%22:5442,%22dc%22:10287,%22l%22:10288,%22le%22:10907%7D,%22navigation%22:%7B%22rc%22:1%7D%7D&amp;jsonp=NREUM.setToken\"></script><script type=\"text/javascript\" src=\"http://cdn.krxd.net/userdata/get?pub=1b008fc9-b074-4b2e-8e4a-c1e1f07d344b&amp;kxfp=20097e2ea48228e9f2abd2fd6cbde48127b8d744&amp;kfuid=LIwAHukb&amp;callback=Krux.ns._default.kxjsonp_userdata\"></script><script type=\"text/javascript\" src=\"http://beacon.krxd.net/optout_check?callback=Krux.ns._default.kxjsonp_optOutCheck\"></script><script src=\"https://js-agent.newrelic.com/nr-spa-1026.min.js\"></script><script src=\"http://pagead2.googlesyndication.com/pagead/osd.js\"></script><script src=\"https://securepubads.g.doubleclick.net/gampad/ads?gdfp_req=1&amp;correlator=1568413861302850&amp;output=json_html&amp;callback=googletag.impl.pubads.callbackProxy1&amp;impl=fifs&amp;json_a=1&amp;eid=108809080%2C21060122&amp;sc=0&amp;sfv=1-0-6&amp;iu_parts=3865%2Car.mdp.mob%2Ctier1%2Crecipe%2Ccookie&amp;enc_prev_ius=0%2F1%2F2%2F3%2F4%2C0%2F1%2F2%2F3%2F4&amp;prev_iu_szs=300x250%2C320x50&amp;prev_scp=slot%3Dmob-square-fixed-1%26IOM%3D6_100%26IPM%3D%26ybot_ad%3Dn%26rpfl_elemid%3Ddiv-gpt-mob-square-fixed-1%7Cslot%3Dmob-adhesive-banner-fixed%26IOM%3D9_5%26IPM%3D%26ybot_ad%3Dn%26rpfl_elemid%3Ddiv-gpt-mob-adhesive-banner-fixed&amp;eri=1&amp;cust_params=channel%3Dcookie%26pv%3D90%26type%3Drecipe%26status%3Dvisitor%26oid%3D2C6B95FF851D0320-6000190E2000AB1A%26fit%3D0%26r%3D10141%26id%3D10141%26k%3D13%252C39%252C55%252C56%252C65%252C83%252C91%252C94%252C97%252C112%252C168%252C181%252C201%252C228%252C239%252C268%252C622%252C655%252C665%26breakpoint%3Dmobile%26contentType%3Drecipe%26geo%3DUSA%26ksg%3Dpol7wic9a%252Cpol9z7q4l%252Cpuz7albw3%26kuid%3Drn7dt2wdu%26refreshType%3Dhard&amp;cookie=ID%3D28e814b9c3c07efa%3AT%3D1490496520%3AS%3DALNI_MbRPFCFhZni7CfHiCqqm61a3bNdaA&amp;lmt=1490499285&amp;dt=1490499285707&amp;cc=100&amp;frm=20&amp;biw=635&amp;bih=683&amp;oid=3&amp;adxs=168%2C158&amp;adys=711%2C633&amp;adks=4150583550%2C4160688649&amp;gut=v2&amp;ifi=1&amp;u_tz=-420&amp;u_his=50&amp;u_java=true&amp;u_h=800&amp;u_w=1280&amp;u_ah=777&amp;u_aw=1276&amp;u_cd=24&amp;u_nplug=13&amp;u_nmime=46&amp;u_sd=2&amp;flash=24.0.0&amp;url=http%3A%2F%2Fallrecipes.com%2Frecipe%2F10141%2Foutrageous-chocolate-chip-cookies%2F&amp;dssz=57&amp;icsg=562949953945600&amp;mso=2177&amp;std=18&amp;vrg=111&amp;vrp=111&amp;ga_vid=1142879956.1490496512&amp;ga_sid=1490499286&amp;ga_hid=558698082\"></script><script type=\"text/javascript\" async=\"\" src=\"http://aax.amazon-adsystem.com/e/dtb/bid?src=3446&amp;u=http%3A%2F%2Fallrecipes.com%2Frecipe%2F10141%2Foutrageous-chocolate-chip-cookies%2F&amp;pid=1405286581490499285106&amp;cb=5768374681490499285107&amp;ws=650x698&amp;v=4.0.0&amp;t=1000&amp;slots=[%7B%22id%22:%22div-gpt-mob-adhesive-banner-fixed%22,%22s%22:[%22320x50%22]%7D,%7B%22id%22:%22div-gpt-mob-square-fixed-1%22,%22s%22:[%22300x250%22]%7D]\"></script><script src=\"http://gads.pubmatic.com/AdServer/AdCallAggregator?SAVersion=1000&amp;js=1&amp;kltstamp=2017-3-25%2020%3A34%3A45&amp;timezone=-7&amp;screenResolution=1280x800&amp;ranreq=0.06056197865376922&amp;pageURL=http%3A%2F%2Fallrecipes.com%2Frecipe%2F10141%2Foutrageous-chocolate-chip-cookies%2F&amp;inIframe=0&amp;kadpageurl=http%3A%2F%2Fallrecipes.com%2Frecipe%2F10141%2Foutrageous-chocolate-chip-cookies%2F&amp;pubId=37576&amp;pm_cb=pm_async_callback&amp;a=1&amp;adslots=%5Bar.mdp.mob.tier1%40320x50%2Car.mdp.mob.tier1%40300x250%5D\" async=\"\"></script><script src=\"http://ads-adswest-vpc.yldbt.com/m/e529/v1/init?cb=yieldbot.updateState&amp;v=v2015-06-23%7Ce14513e&amp;vi=j0q3566vitqbmxapzg&amp;si=j0q3566vq9ct9qn85y&amp;pvi=j0q4sgucxr8gh7fanh&amp;pvd=90&amp;lpvi=j0q4rije1x5zjkq6r2&amp;nv&amp;sn=div-gpt-mob-adhesive-banner-fixed-tier1%7Cdiv-gpt-mob-square-fixed-tier1&amp;ssz=320x50%7C300x250&amp;lo=http%3A//allrecipes.com/recipe/10141/outrageous-chocolate-chip-cookies/&amp;r=&amp;sd=1280x800&amp;to=7&amp;la=en-US&amp;np=MacIntel&amp;ua=Mozilla/5.0%20%28Macintosh%3B%20Intel%20Mac%20OS%20X%2010.12%3B%20rv%3A45.0%29%20Gecko/20100101%20Firefox/45.0&amp;lpv=44458&amp;cts_ns=1490499277972&amp;cts_js=1490499285030&amp;cts_ini=1490499285067&amp;e\"></script><script async=\"\" src=\"//cdn.krxd.net/ctjs/controltag.js.6f097431db32c7c9f9254dccb9812402\"></script><script async=\"\" src=\"https://c.amazon-adsystem.com/aax2/apstag.js\"></script><script src=\"//ads.rubiconproject.com/header/12738.js\"></script><script async=\"\" src=\"http://ads.pubmatic.com/AdServer/js/gshowad.js\"></script><script src=\"http://cdn.yldbt.com/js/yieldbot.intent.js\"></script><script src=\"http://as.casalemedia.com/cygnus?v=7&amp;fn=cygnus_index_parse_res&amp;s=178489&amp;r=%7B%22id%22%3A201833195%2C%22site%22%3A%7B%22page%22%3A%22http%3A%2F%2Fallrecipes.com%2Frecipe%2F10141%2Foutrageous-chocolate-chip-cookies%2F%22%2C%22ref%22%3A%22%22%7D%2C%22imp%22%3A%5B%7B%22id%22%3A%221%22%2C%20%22banner%22%3A%7B%22w%22%3A300%2C%22h%22%3A250%2C%22topframe%22%3A1%7D%2C%22ext%22%3A%20%7B%22sid%22%3A%226%22%2C%22siteID%22%3A178533%7D%7D%2C%7B%22id%22%3A%222%22%2C%20%22banner%22%3A%7B%22w%22%3A320%2C%22h%22%3A50%2C%22topframe%22%3A1%7D%2C%22ext%22%3A%20%7B%22sid%22%3A%229%22%2C%22siteID%22%3A178535%7D%7D%5D%7D&amp;t=1000\" type=\"text/javascript\"></script><script type=\"text/javascript\" async=\"\" src=\"http://www.zergnet.com/zerg.js?id=33596\"></script><script type=\"text/javascript\" async=\"\" src=\"https://cdn.krxd.net/controltag/H1gAR3V7.js\"></script><script async=\"\" src=\"https://www.googletagservices.com/tag/js/gpt.js\"></script><script async=\"\" src=\"//www.googletagmanager.com/gtm.js?id=GTM-MW2LG9&amp;l=placeholderDL\"></script><script defer=\"defer\" async=\"\" type=\"text/javascript\" id=\"scoby-telemetry\" src=\"//cdn.partners.allrecipes.com/telemetryapi/1/telemetry.js\"></script><script type=\"text/javascript\" async=\"\" src=\"//images.media-allrecipes.com/ar/foresee/v0.7/foresee-trigger.js\" id=\"foresee-js\"></script><script async=\"\" src=\"//google-analytics.com/analytics.js\"></script><script async=\"\" src=\"//connect.facebook.net/en_US/fbevents.js\"></script><script async=\"\" src=\"http://b.scorecardresearch.com/beacon.js\"></script><script type=\"text/javascript\">window.NREUM||(NREUM={});NREUM.info = {\"beacon\":\"bam.nr-data.net\",\"errorBeacon\":\"bam.nr-data.net\",\"licenseKey\":\"55db0cb698\",\"applicationID\":\"49611473\",\"transactionName\":\"YwABYUUDXUIABRZbCVpKIllbEFZSCBYHQTFRBxBcQwccYwQFC0IDdwoNQUUNX10EFExgA1cME1B+DFdUGU5L\",\"queueTime\":0,\"applicationTime\":78,\"agent\":\"\",\"atts\":\"\"}</script><script type=\"text/javascript\">(window.NREUM||(NREUM={})).loader_config={xpid:\"XQ4OVVdaGwcJUlBTAwYE\"};window.NREUM||(NREUM={}),__nr_require=function(t,e,n){function r(n){if(!e[n]){var o=e[n]={exports:{}};t[n][0].call(o.exports,function(e){var o=t[n][1][e];return r(o||e)},o,o.exports)}return e[n].exports}if(\"function\"==typeof __nr_require)return __nr_require;for(var o=0;o&lt;n.length;o++)r(n[o]);return r}({1:[function(t,e,n){function r(t){try{c.console&amp;&amp;console.log(t)}catch(e){}}var o,i=t(\"ee\"),a=t(19),c={};try{o=localStorage.getItem(\"__nr_flags\").split(\",\"),console&amp;&amp;\"function\"==typeof console.log&amp;&amp;(c.console=!0,o.indexOf(\"dev\")!==-1&amp;&amp;(c.dev=!0),o.indexOf(\"nr_dev\")!==-1&amp;&amp;(c.nrDev=!0))}catch(s){}c.nrDev&amp;&amp;i.on(\"internal-error\",function(t){r(t.stack)}),c.dev&amp;&amp;i.on(\"fn-err\",function(t,e,n){r(n.stack)}),c.dev&amp;&amp;(r(\"NR AGENT IN DEVELOPMENT MODE\"),r(\"flags: \"+a(c,function(t,e){return t}).join(\", \")))},{}],2:[function(t,e,n){function r(t,e,n,r,o){try{d?d-=1:i(\"err\",[o||new UncaughtException(t,e,n)])}catch(c){try{i(\"ierr\",[c,s.now(),!0])}catch(u){}}return\"function\"==typeof f&amp;&amp;f.apply(this,a(arguments))}function UncaughtException(t,e,n){this.message=t||\"Uncaught error with no additional information\",this.sourceURL=e,this.line=n}function o(t){i(\"err\",[t,s.now()])}var i=t(\"handle\"),a=t(20),c=t(\"ee\"),s=t(\"loader\"),f=window.onerror,u=!1,d=0;s.features.err=!0,t(1),window.onerror=r;try{throw new Error}catch(p){\"stack\"in p&amp;&amp;(t(12),t(11),\"addEventListener\"in window&amp;&amp;t(6),s.xhrWrappable&amp;&amp;t(13),u=!0)}c.on(\"fn-start\",function(t,e,n){u&amp;&amp;(d+=1)}),c.on(\"fn-err\",function(t,e,n){u&amp;&amp;(this.thrown=!0,o(n))}),c.on(\"fn-end\",function(){u&amp;&amp;!this.thrown&amp;&amp;d&gt;0&amp;&amp;(d-=1)}),c.on(\"internal-error\",function(t){i(\"ierr\",[t,s.now(),!0])})},{}],3:[function(t,e,n){t(\"loader\").features.ins=!0},{}],4:[function(t,e,n){function r(){C++,N=y.hash,this[u]=M.now()}function o(){C--,y.hash!==N&amp;&amp;i(0,!0);var t=M.now();this[l]=~~this[l]+t-this[u],this[d]=t}function i(t,e){x.emit(\"newURL\",[\"\"+y,e])}function a(t,e){t.on(e,function(){this[e]=M.now()})}var c=\"-start\",s=\"-end\",f=\"-body\",u=\"fn\"+c,d=\"fn\"+s,p=\"cb\"+c,h=\"cb\"+s,l=\"jsTime\",m=\"fetch\",v=\"addEventListener\",w=window,y=w.location;if(w[v]){var b=t(9),g=t(10),x=t(8),E=t(6),O=t(12),R=t(7),P=t(13),T=t(\"ee\"),S=T.get(\"tracer\");t(14);var M=t(\"loader\");M.features.spa=!0;var N,j=w[v],C=0;T.on(u,r),T.on(p,r),T.on(d,o),T.on(h,o),T.buffer([u,d,\"xhr-done\",\"xhr-resolved\"]),E.buffer([u]),O.buffer([\"setTimeout\"+s,\"clearTimeout\"+c,u]),P.buffer([u,\"new-xhr\",\"send-xhr\"+c]),R.buffer([m+c,m+\"-done\",m+f+c,m+f+s]),x.buffer([\"newURL\"]),b.buffer([u]),g.buffer([\"propagate\",p,h,\"executor-err\",\"resolve\"+c]),S.buffer([u,\"no-\"+u]),a(P,\"send-xhr\"+c),a(T,\"xhr-resolved\"),a(T,\"xhr-done\"),a(R,m+c),a(R,m+\"-done\"),x.on(\"pushState-end\",i),x.on(\"replaceState-end\",i),j(\"hashchange\",i,!0),j(\"load\",i,!0),j(\"popstate\",function(){i(0,C&gt;1)},!0)}},{}],5:[function(t,e,n){function r(t){}if(window.performance&amp;&amp;window.performance.timing&amp;&amp;window.performance.getEntriesByType){var o=t(\"ee\"),i=t(\"handle\"),a=t(12),c=t(11),s=\"learResourceTimings\",f=\"addEventListener\",u=\"resourcetimingbufferfull\",d=\"bstResource\",p=\"resource\",h=\"-start\",l=\"-end\",m=\"fn\"+h,v=\"fn\"+l,w=\"bstTimer\",y=\"pushState\",b=t(\"loader\");b.features.stn=!0,t(8);var g=NREUM.o.EV;o.on(m,function(t,e){var n=t[0];n instanceof g&amp;&amp;(this.bstStart=b.now())}),o.on(v,function(t,e){var n=t[0];n instanceof g&amp;&amp;i(\"bst\",[n,e,this.bstStart,b.now()])}),a.on(m,function(t,e,n){this.bstStart=b.now(),this.bstType=n}),a.on(v,function(t,e){i(w,[e,this.bstStart,b.now(),this.bstType])}),c.on(m,function(){this.bstStart=b.now()}),c.on(v,function(t,e){i(w,[e,this.bstStart,b.now(),\"requestAnimationFrame\"])}),o.on(y+h,function(t){this.time=b.now(),this.startPath=location.pathname+location.hash}),o.on(y+l,function(t){i(\"bstHist\",[location.pathname+location.hash,this.startPath,this.time])}),f in window.performance&amp;&amp;(window.performance[\"c\"+s]?window.performance[f](u,function(t){i(d,[window.performance.getEntriesByType(p)]),window.performance[\"c\"+s]()},!1):window.performance[f](\"webkit\"+u,function(t){i(d,[window.performance.getEntriesByType(p)]),window.performance[\"webkitC\"+s]()},!1)),document[f](\"scroll\",r,{passive:!0}),document[f](\"keypress\",r,!1),document[f](\"click\",r,!1)}},{}],6:[function(t,e,n){function r(t){for(var e=t;e&amp;&amp;!e.hasOwnProperty(u);)e=Object.getPrototypeOf(e);e&amp;&amp;o(e)}function o(t){c.inPlace(t,[u,d],\"-\",i)}function i(t,e){return t[1]}var a=t(\"ee\").get(\"events\"),c=t(22)(a,!0),s=t(\"gos\"),f=XMLHttpRequest,u=\"addEventListener\",d=\"removeEventListener\";e.exports=a,\"getPrototypeOf\"in Object?(r(document),r(window),r(f.prototype)):f.prototype.hasOwnProperty(u)&amp;&amp;(o(window),o(f.prototype)),a.on(u+\"-start\",function(t,e){var n=t[1],r=s(n,\"nr@wrapped\",function(){function t(){if(\"function\"==typeof n.handleEvent)return n.handleEvent.apply(n,arguments)}var e={object:t,\"function\":n}[typeof n];return e?c(e,\"fn-\",null,e.name||\"anonymous\"):n});this.wrapped=t[1]=r}),a.on(d+\"-start\",function(t){t[1]=this.wrapped||t[1]})},{}],7:[function(t,e,n){function r(t,e,n){var r=t[e];\"function\"==typeof r&amp;&amp;(t[e]=function(){var t=r.apply(this,arguments);return o.emit(n+\"start\",arguments,t),t.then(function(e){return o.emit(n+\"end\",[null,e],t),e},function(e){throw o.emit(n+\"end\",[e],t),e})})}var o=t(\"ee\").get(\"fetch\"),i=t(19);e.exports=o;var a=window,c=\"fetch-\",s=c+\"body-\",f=[\"arrayBuffer\",\"blob\",\"json\",\"text\",\"formData\"],u=a.Request,d=a.Response,p=a.fetch,h=\"prototype\";u&amp;&amp;d&amp;&amp;p&amp;&amp;(i(f,function(t,e){r(u[h],e,s),r(d[h],e,s)}),r(a,\"fetch\",c),o.on(c+\"end\",function(t,e){var n=this;e?e.clone().arrayBuffer().then(function(t){n.rxSize=t.byteLength,o.emit(c+\"done\",[null,e],n)}):o.emit(c+\"done\",[t],n)}))},{}],8:[function(t,e,n){var r=t(\"ee\").get(\"history\"),o=t(22)(r);e.exports=r,o.inPlace(window.history,[\"pushState\",\"replaceState\"],\"-\")},{}],9:[function(t,e,n){var r=t(\"ee\").get(\"mutation\"),o=t(22)(r),i=NREUM.o.MO;e.exports=r,i&amp;&amp;(window.MutationObserver=function(t){return this instanceof i?new i(o(t,\"fn-\")):i.apply(this,arguments)},MutationObserver.prototype=i.prototype)},{}],10:[function(t,e,n){function r(t){var e=a.context(),n=c(t,\"executor-\",e),r=new f(n);return a.context(r).getCtx=function(){return e},a.emit(\"new-promise\",[r,e],e),r}function o(t,e){return e}var i=t(22),a=t(\"ee\").get(\"promise\"),c=i(a),s=t(19),f=NREUM.o.PR;e.exports=a,f&amp;&amp;(window.Promise=r,[\"all\",\"race\"].forEach(function(t){var e=f[t];f[t]=function(n){function r(t){return function(){a.emit(\"propagate\",[null,!o],i),o=o||!t}}var o=!1;s(n,function(e,n){Promise.resolve(n).then(r(\"all\"===t),r(!1))});var i=e.apply(f,arguments),c=f.resolve(i);return c}}),[\"resolve\",\"reject\"].forEach(function(t){var e=f[t];f[t]=function(t){var n=e.apply(f,arguments);return t!==n&amp;&amp;a.emit(\"propagate\",[t,!0],n),n}}),f.prototype[\"catch\"]=function(t){return this.then(null,t)},f.prototype=Object.create(f.prototype,{constructor:{value:r}}),s(Object.getOwnPropertyNames(f),function(t,e){try{r[e]=f[e]}catch(n){}}),a.on(\"executor-start\",function(t){t[0]=c(t[0],\"resolve-\",this),t[1]=c(t[1],\"resolve-\",this)}),a.on(\"executor-err\",function(t,e,n){t[1](n)}),c.inPlace(f.prototype,[\"then\"],\"then-\",o),a.on(\"then-start\",function(t,e){this.promise=e,t[0]=c(t[0],\"cb-\",this),t[1]=c(t[1],\"cb-\",this)}),a.on(\"then-end\",function(t,e,n){this.nextPromise=n;var r=this.promise;a.emit(\"propagate\",[r,!0],n)}),a.on(\"cb-end\",function(t,e,n){a.emit(\"propagate\",[n,!0],this.nextPromise)}),a.on(\"propagate\",function(t,e,n){this.getCtx&amp;&amp;!e||(this.getCtx=function(){if(t instanceof Promise)var e=a.context(t);return e&amp;&amp;e.getCtx?e.getCtx():this})}),r.toString=function(){return\"\"+f})},{}],11:[function(t,e,n){var r=t(\"ee\").get(\"raf\"),o=t(22)(r),i=\"equestAnimationFrame\";e.exports=r,o.inPlace(window,[\"r\"+i,\"mozR\"+i,\"webkitR\"+i,\"msR\"+i],\"raf-\"),r.on(\"raf-start\",function(t){t[0]=o(t[0],\"fn-\")})},{}],12:[function(t,e,n){function r(t,e,n){t[0]=a(t[0],\"fn-\",null,n)}function o(t,e,n){this.method=n,this.timerDuration=\"number\"==typeof t[1]?t[1]:0,t[0]=a(t[0],\"fn-\",this,n)}var i=t(\"ee\").get(\"timer\"),a=t(22)(i),c=\"setTimeout\",s=\"setInterval\",f=\"clearTimeout\",u=\"-start\",d=\"-\";e.exports=i,a.inPlace(window,[c,\"setImmediate\"],c+d),a.inPlace(window,[s],s+d),a.inPlace(window,[f,\"clearImmediate\"],f+d),i.on(s+u,r),i.on(c+u,o)},{}],13:[function(t,e,n){function r(t,e){d.inPlace(e,[\"onreadystatechange\"],\"fn-\",c)}function o(){var t=this,e=u.context(t);t.readyState&gt;3&amp;&amp;!e.resolved&amp;&amp;(e.resolved=!0,u.emit(\"xhr-resolved\",[],t)),d.inPlace(t,v,\"fn-\",c)}function i(t){w.push(t),l&amp;&amp;(b=-b,g.data=b)}function a(){for(var t=0;t&lt;w.length;t++)r([],w[t]);w.length&amp;&amp;(w=[])}function c(t,e){return e}function s(t,e){for(var n in t)e[n]=t[n];return e}t(6);var f=t(\"ee\"),u=f.get(\"xhr\"),d=t(22)(u),p=NREUM.o,h=p.XHR,l=p.MO,m=\"readystatechange\",v=[\"onload\",\"onerror\",\"onabort\",\"onloadstart\",\"onloadend\",\"onprogress\",\"ontimeout\"],w=[];e.exports=u;var y=window.XMLHttpRequest=function(t){var e=new h(t);try{u.emit(\"new-xhr\",[e],e),e.addEventListener(m,o,!1)}catch(n){try{u.emit(\"internal-error\",[n])}catch(r){}}return e};if(s(h,y),y.prototype=h.prototype,d.inPlace(y.prototype,[\"open\",\"send\"],\"-xhr-\",c),u.on(\"send-xhr-start\",function(t,e){r(t,e),i(e)}),u.on(\"open-xhr-start\",r),l){var b=1,g=document.createTextNode(b);new l(a).observe(g,{characterData:!0})}else f.on(\"fn-end\",function(t){t[0]&amp;&amp;t[0].type===m||a()})},{}],14:[function(t,e,n){function r(t){var e=this.params,n=this.metrics;if(!this.ended){this.ended=!0;for(var r=0;r&lt;d;r++)t.removeEventListener(u[r],this.listener,!1);if(!e.aborted){if(n.duration=a.now()-this.startTime,4===t.readyState){e.status=t.status;var i=o(t,this.lastSize);if(i&amp;&amp;(n.rxSize=i),this.sameOrigin){var s=t.getResponseHeader(\"X-NewRelic-App-Data\");s&amp;&amp;(e.cat=s.split(\", \").pop())}}else e.status=0;n.cbTime=this.cbTime,f.emit(\"xhr-done\",[t],t),c(\"xhr\",[e,n,this.startTime])}}}function o(t,e){var n=t.responseType;if(\"json\"===n&amp;&amp;null!==e)return e;var r=\"arraybuffer\"===n||\"blob\"===n||\"json\"===n?t.response:t.responseText;return l(r)}function i(t,e){var n=s(e),r=t.params;r.host=n.hostname+\":\"+n.port,r.pathname=n.pathname,t.sameOrigin=n.sameOrigin}var a=t(\"loader\");if(a.xhrWrappable){var c=t(\"handle\"),s=t(15),f=t(\"ee\"),u=[\"load\",\"error\",\"abort\",\"timeout\"],d=u.length,p=t(\"id\"),h=t(18),l=t(17),m=window.XMLHttpRequest;a.features.xhr=!0,t(13),f.on(\"new-xhr\",function(t){var e=this;e.totalCbs=0,e.called=0,e.cbTime=0,e.end=r,e.ended=!1,e.xhrGuids={},e.lastSize=null,h&amp;&amp;(h&gt;34||h&lt;10)||window.opera||t.addEventListener(\"progress\",function(t){e.lastSize=t.loaded},!1)}),f.on(\"open-xhr-start\",function(t){this.params={method:t[0]},i(this,t[1]),this.metrics={}}),f.on(\"open-xhr-end\",function(t,e){\"loader_config\"in NREUM&amp;&amp;\"xpid\"in NREUM.loader_config&amp;&amp;this.sameOrigin&amp;&amp;e.setRequestHeader(\"X-NewRelic-ID\",NREUM.loader_config.xpid)}),f.on(\"send-xhr-start\",function(t,e){var n=this.metrics,r=t[0],o=this;if(n&amp;&amp;r){var i=l(r);i&amp;&amp;(n.txSize=i)}this.startTime=a.now(),this.listener=function(t){try{\"abort\"===t.type&amp;&amp;(o.params.aborted=!0),(\"load\"!==t.type||o.called===o.totalCbs&amp;&amp;(o.onloadCalled||\"function\"!=typeof e.onload))&amp;&amp;o.end(e)}catch(n){try{f.emit(\"internal-error\",[n])}catch(r){}}};for(var c=0;c&lt;d;c++)e.addEventListener(u[c],this.listener,!1)}),f.on(\"xhr-cb-time\",function(t,e,n){this.cbTime+=t,e?this.onloadCalled=!0:this.called+=1,this.called!==this.totalCbs||!this.onloadCalled&amp;&amp;\"function\"==typeof n.onload||this.end(n)}),f.on(\"xhr-load-added\",function(t,e){var n=\"\"+p(t)+!!e;this.xhrGuids&amp;&amp;!this.xhrGuids[n]&amp;&amp;(this.xhrGuids[n]=!0,this.totalCbs+=1)}),f.on(\"xhr-load-removed\",function(t,e){var n=\"\"+p(t)+!!e;this.xhrGuids&amp;&amp;this.xhrGuids[n]&amp;&amp;(delete this.xhrGuids[n],this.totalCbs-=1)}),f.on(\"addEventListener-end\",function(t,e){e instanceof m&amp;&amp;\"load\"===t[0]&amp;&amp;f.emit(\"xhr-load-added\",[t[1],t[2]],e)}),f.on(\"removeEventListener-end\",function(t,e){e instanceof m&amp;&amp;\"load\"===t[0]&amp;&amp;f.emit(\"xhr-load-removed\",[t[1],t[2]],e)}),f.on(\"fn-start\",function(t,e,n){e instanceof m&amp;&amp;(\"onload\"===n&amp;&amp;(this.onload=!0),(\"load\"===(t[0]&amp;&amp;t[0].type)||this.onload)&amp;&amp;(this.xhrCbStart=a.now()))}),f.on(\"fn-end\",function(t,e){this.xhrCbStart&amp;&amp;f.emit(\"xhr-cb-time\",[a.now()-this.xhrCbStart,this.onload,e],e)})}},{}],15:[function(t,e,n){e.exports=function(t){var e=document.createElement(\"a\"),n=window.location,r={};e.href=t,r.port=e.port;var o=e.href.split(\"://\");!r.port&amp;&amp;o[1]&amp;&amp;(r.port=o[1].split(\"/\")[0].split(\"@\").pop().split(\":\")[1]),r.port&amp;&amp;\"0\"!==r.port||(r.port=\"https\"===o[0]?\"443\":\"80\"),r.hostname=e.hostname||n.hostname,r.pathname=e.pathname,r.protocol=o[0],\"/\"!==r.pathname.charAt(0)&amp;&amp;(r.pathname=\"/\"+r.pathname);var i=!e.protocol||\":\"===e.protocol||e.protocol===n.protocol,a=e.hostname===document.domain&amp;&amp;e.port===n.port;return r.sameOrigin=i&amp;&amp;(!e.hostname||a),r}},{}],16:[function(t,e,n){function r(){}function o(t,e,n){return function(){return i(t,[f.now()].concat(c(arguments)),e?null:this,n),e?void 0:this}}var i=t(\"handle\"),a=t(19),c=t(20),s=t(\"ee\").get(\"tracer\"),f=t(\"loader\"),u=NREUM;\"undefined\"==typeof window.newrelic&amp;&amp;(newrelic=u);var d=[\"setPageViewName\",\"setCustomAttribute\",\"setErrorHandler\",\"finished\",\"addToTrace\",\"inlineHit\",\"addRelease\"],p=\"api-\",h=p+\"ixn-\";a(d,function(t,e){u[e]=o(p+e,!0,\"api\")}),u.addPageAction=o(p+\"addPageAction\",!0),u.setCurrentRouteName=o(p+\"routeName\",!0),e.exports=newrelic,u.interaction=function(){return(new r).get()};var l=r.prototype={createTracer:function(t,e){var n={},r=this,o=\"function\"==typeof e;return i(h+\"tracer\",[f.now(),t,n],r),function(){if(s.emit((o?\"\":\"no-\")+\"fn-start\",[f.now(),r,o],n),o)try{return e.apply(this,arguments)}finally{s.emit(\"fn-end\",[f.now()],n)}}}};a(\"setName,setAttribute,save,ignore,onEnd,getContext,end,get\".split(\",\"),function(t,e){l[e]=o(h+e)}),newrelic.noticeError=function(t){\"string\"==typeof t&amp;&amp;(t=new Error(t)),i(\"err\",[t,f.now()])}},{}],17:[function(t,e,n){e.exports=function(t){if(\"string\"==typeof t&amp;&amp;t.length)return t.length;if(\"object\"==typeof t){if(\"undefined\"!=typeof ArrayBuffer&amp;&amp;t instanceof ArrayBuffer&amp;&amp;t.byteLength)return t.byteLength;if(\"undefined\"!=typeof Blob&amp;&amp;t instanceof Blob&amp;&amp;t.size)return t.size;if(!(\"undefined\"!=typeof FormData&amp;&amp;t instanceof FormData))try{return JSON.stringify(t).length}catch(e){return}}}},{}],18:[function(t,e,n){var r=0,o=navigator.userAgent.match(/Firefox[\\\\/\\\\s](\\\\d+\\\\.\\\\d+)/);o&amp;&amp;(r=+o[1]),e.exports=r},{}],19:[function(t,e,n){function r(t,e){var n=[],r=\"\",i=0;for(r in t)o.call(t,r)&amp;&amp;(n[i]=e(r,t[r]),i+=1);return n}var o=Object.prototype.hasOwnProperty;e.exports=r},{}],20:[function(t,e,n){function r(t,e,n){e||(e=0),\"undefined\"==typeof n&amp;&amp;(n=t?t.length:0);for(var r=-1,o=n-e||0,i=Array(o&lt;0?0:o);++r&lt;o;)i[r]=t[e+r];return i}e.exports=r},{}],21:[function(t,e,n){e.exports={exists:\"undefined\"!=typeof window.performance&amp;&amp;window.performance.timing&amp;&amp;\"undefined\"!=typeof window.performance.timing.navigationStart}},{}],22:[function(t,e,n){function r(t){return!(t&amp;&amp;t instanceof Function&amp;&amp;t.apply&amp;&amp;!t[a])}var o=t(\"ee\"),i=t(20),a=\"nr@original\",c=Object.prototype.hasOwnProperty,s=!1;e.exports=function(t,e){function n(t,e,n,o){function nrWrapper(){var r,a,c,s;try{a=this,r=i(arguments),c=\"function\"==typeof n?n(r,a):n||{}}catch(f){p([f,\"\",[r,a,o],c])}u(e+\"start\",[r,a,o],c);try{return s=t.apply(a,r)}catch(d){throw u(e+\"err\",[r,a,d],c),d}finally{u(e+\"end\",[r,a,s],c)}}return r(t)?t:(e||(e=\"\"),nrWrapper[a]=t,d(t,nrWrapper),nrWrapper)}function f(t,e,o,i){o||(o=\"\");var a,c,s,f=\"-\"===o.charAt(0);for(s=0;s&lt;e.length;s++)c=e[s],a=t[c],r(a)||(t[c]=n(a,f?c+o:o,i,c))}function u(n,r,o){if(!s||e){var i=s;s=!0;try{t.emit(n,r,o,e)}catch(a){p([a,n,r,o])}s=i}}function d(t,e){if(Object.defineProperty&amp;&amp;Object.keys)try{var n=Object.keys(t);return n.forEach(function(n){Object.defineProperty(e,n,{get:function(){return t[n]},set:function(e){return t[n]=e,e}})}),e}catch(r){p([r])}for(var o in t)c.call(t,o)&amp;&amp;(e[o]=t[o]);return e}function p(e){try{t.emit(\"internal-error\",e)}catch(n){}}return t||(t=o),n.inPlace=f,n.flag=a,n}},{}],ee:[function(t,e,n){function r(){}function o(t){function e(t){return t&amp;&amp;t instanceof r?t:t?s(t,c,i):i()}function n(n,r,o,i){if(!p.aborted||i){t&amp;&amp;t(n,r,o);for(var a=e(o),c=l(n),s=c.length,f=0;f&lt;s;f++)c[f].apply(a,r);var d=u[y[n]];return d&amp;&amp;d.push([b,n,r,a]),a}}function h(t,e){w[t]=l(t).concat(e)}function l(t){return w[t]||[]}function m(t){return d[t]=d[t]||o(n)}function v(t,e){f(t,function(t,n){e=e||\"feature\",y[n]=e,e in u||(u[e]=[])})}var w={},y={},b={on:h,emit:n,get:m,listeners:l,context:e,buffer:v,abort:a,aborted:!1};return b}function i(){return new r}function a(){(u.api||u.feature)&amp;&amp;(p.aborted=!0,u=p.backlog={})}var c=\"nr@context\",s=t(\"gos\"),f=t(19),u={},d={},p=e.exports=o();p.backlog=u},{}],gos:[function(t,e,n){function r(t,e,n){if(o.call(t,e))return t[e];var r=n();if(Object.defineProperty&amp;&amp;Object.keys)try{return Object.defineProperty(t,e,{value:r,writable:!0,enumerable:!1}),r}catch(i){}return t[e]=r,r}var o=Object.prototype.hasOwnProperty;e.exports=r},{}],handle:[function(t,e,n){function r(t,e,n,r){o.buffer([t],r),o.emit(t,e,n)}var o=t(\"ee\").get(\"handle\");e.exports=r,r.ee=o},{}],id:[function(t,e,n){function r(t){var e=typeof t;return!t||\"object\"!==e&amp;&amp;\"function\"!==e?-1:t===window?0:a(t,i,function(){return o++})}var o=1,i=\"nr@id\",a=t(\"gos\");e.exports=r},{}],loader:[function(t,e,n){function r(){if(!x++){var t=g.info=NREUM.info,e=p.getElementsByTagName(\"script\")[0];if(setTimeout(u.abort,3e4),!(t&amp;&amp;t.licenseKey&amp;&amp;t.applicationID&amp;&amp;e))return u.abort();f(y,function(e,n){t[e]||(t[e]=n)}),s(\"mark\",[\"onload\",a()+g.offset],null,\"api\");var n=p.createElement(\"script\");n.src=\"https://\"+t.agent,e.parentNode.insertBefore(n,e)}}function o(){\"complete\"===p.readyState&amp;&amp;i()}function i(){s(\"mark\",[\"domContent\",a()+g.offset],null,\"api\")}function a(){return E.exists&amp;&amp;performance.now?Math.round(performance.now()):(c=Math.max((new Date).getTime(),c))-g.offset}var c=(new Date).getTime(),s=t(\"handle\"),f=t(19),u=t(\"ee\"),d=window,p=d.document,h=\"addEventListener\",l=\"attachEvent\",m=d.XMLHttpRequest,v=m&amp;&amp;m.prototype;NREUM.o={ST:setTimeout,CT:clearTimeout,XHR:m,REQ:d.Request,EV:d.Event,PR:d.Promise,MO:d.MutationObserver};var w=\"\"+location,y={beacon:\"bam.nr-data.net\",errorBeacon:\"bam.nr-data.net\",agent:\"js-agent.newrelic.com/nr-spa-1026.min.js\"},b=m&amp;&amp;v&amp;&amp;v[h]&amp;&amp;!/CriOS/.test(navigator.userAgent),g=e.exports={offset:c,now:a,origin:w,features:{},xhrWrappable:b};t(16),p[h]?(p[h](\"DOMContentLoaded\",i,!1),d[h](\"load\",r,!1)):(p[l](\"onreadystatechange\",o),d[l](\"onload\",r)),s(\"mark\",[\"firstbyte\",c],null,\"api\");var x=0,E=t(21)},{}]},{},[\"loader\",2,14,5,3,4]);</script>\\n\\n    <!-- Begin comScore Tag - Part 1 -->\\n    <script>\\n        var _comscore = _comscore || [];\\n        _comscore.push({ c1: \"2\", c2: \"6036305\" });\\n        (function() {\\n            var s = document.createElement(\"script\"), el = document.getElementsByTagName(\"script\")[0];\\n            s.async = true;\\n            s.src = (document.location.protocol == \"https:\" ? \"https://sb\" : \"http://b\") + \".scorecardresearch.com/beacon.js\";\\n            el.parentNode.insertBefore(s, el);\\n        })();\\n    </script>\\n    <!-- End comScore Tag Part 1-->\\n    <link href=\"/apple-touch-icon-180x180-precomposed.png\" sizes=\"180x180\" rel=\"apple-touch-icon-precomposed\" />\\n    <link href=\"/apple-touch-icon-152x152-precomposed.png\" sizes=\"152x152\" rel=\"apple-touch-icon-precomposed\" />\\n    <link href=\"/apple-touch-icon-120x120-precomposed.png\" sizes=\"120x120\" rel=\"apple-touch-icon-precomposed\" />\\n    <link href=\"/apple-touch-icon-114x114-precomposed.png\" sizes=\"114x114\" rel=\"apple-touch-icon-precomposed\" />\\n    <link href=\"/apple-touch-icon-76x76-precomposed.png\" sizes=\"76x76\" rel=\"apple-touch-icon-precomposed\" />\\n    <link href=\"/apple-touch-icon-72x72-precomposed.png\" sizes=\"72x72\" rel=\"apple-touch-icon-precomposed\" />\\n    <link href=\"/apple-touch-icon-60x60-precomposed.png\" sizes=\"60x60\" rel=\"apple-touch-icon-precomposed\" />\\n    <link href=\"/apple-touch-icon-precomposed.png\" sizes=\"57x57\" rel=\"apple-touch-icon-precomposed\" />\\n    <link sizes=\"96x96\" href=\"/favicon-96x96.png\" type=\"image/png\" rel=\"icon\" />\\n    <link sizes=\"16x16\" href=\"/favicon-16x16.png\" type=\"image/png\" rel=\"icon\" />\\n    <link sizes=\"32x32\" href=\"/favicon-32x32.png\" type=\"image/png\" rel=\"icon\" />\\n    <meta content=\"#ffffff\" name=\"msapplication-TileColor\" />\\n\\n    <!-- Maxymiser script start -->\\n    <script src=\"//service.maxymiser.net/cdn/allrecipes/js/mmcore.js\" type=\"text/javascript\"></script><style type=\"text/css\" media=\"screen\" id=\"mm_style_mm_cdApiStyleId_1\"></style><script type=\"text/javascript\" id=\"mmpack.0\" src=\"//service.maxymiser.net/platform/us/api/mmpackage-1.8.js\"></script>\\n    <!-- Maxymiser script end -->\\n\\n            <script async=\"\" src=\"https://karma.mdpcdn.com/service/js-min/karma.header.js\"></script>\\n\\n    <script src=\"//assets.adobedtm.com/1c2ad567a53f27e563c4dc2c278a904b84dc5fde/satelliteLib-a07d47e4668bf3c3fa98aff5b2fc6d3f1d0981a3.js\"></script>\\n    <script src=\"http://js01.media-allrecipes.com/assets/deployables/v-1.65.0.3982/main-top.bundled.js\"></script>\\n        <meta content=\"fe79b78b-c975-4ba5-9c44-dabd634b1d52\" name=\"correlationId\" />\\n<script src=\"http://assets.adobedtm.com/1c2ad567a53f27e563c4dc2c278a904b84dc5fde/scripts/satellite-565cbeb564746d560c001f46.js\"></script><script type=\"text/javascript\" src=\"http://allrecipes.groceryserver.com/groceryserver/api/session/serviceBinder.jsp?%21b%21xx\"></script><script type=\"text/javascript\" src=\"http://allrecipes.groceryserver.com/groceryserver/service/w5fDoHvClcOaw4PDmSrDksKWTQpiwrFqVsKNwpbCs8OVGsKWw5YxXx8pesONb3Uwwqgzwq9VfsOaeEp7DxFoFjU4UsO1w6h_GsOrasKMCB4ow5TDig3CoTnCqsKzwp7Doh-CsMOqR8KSAMKvMMO8wpHDiirDiMOxbzV6w4bCpH-DrHDDhMOtwqtGwqtGwpDCmMO9w4fDkcKAFsOww6-Ci8OfwpzDn8KWbsKJwpXCtDPDqMO7wqTDrsKkHcK3e8K4wqHDmMKXMXbDgXPDmMOSw7zDkh5kDzDClybDpMK-Z20GQ8KlQQkif1nDssKYaXHDmcOANQkDwonDtlYLw6LDsEbCsk4iw7rDpBvDrRIEwr1nw5k1TMO5w5TDgsOJX0NIRsOLZl-DqlAawoTCp0YNUGB3IkbCiQLDhMO_JVsdc8K0YxHCv8OwI8KtwpdPDMOVHMKfCcKKw53Dk8KfQ2QGQsK5wpJvwr51w4bDvSMxw6kBwqXCtyBCwrEZw4XDj2PDpwpdRMO3YcOEw6sCA8OwwqsVwprCvHHCtcOOMcO0CcOvwonCvMOaExpSwpIrMDZmw7HDgHZ9P8KQaGbCi8Omw4jDuMOTOcKcP8KGwrDDpMOOwp-DhMKQY8KwwqN_QWfDhcKpWyjCgwjCvx3Cq8KEw7JzJsKnwqjDqsODAXfCmWNuLwLChDPClzoUZTDDtcOjF3bCgsKGccKuwp7DuMK3wpzCmsOow47DsyrDu1JoZwLCjkHCqXArw6XCk2PCpcO7eGUvwobCtMK6w6ZzWVh2IMKjMcKUw4DCh8KDw7BIfl3Cthtyw63CmzrDvcOXwp-CqsK6wr-DpMKSwrzCnQ5pwpN0HsK7B2pjEifCnMKSwrZIR8OgJcOOwqrDrDwZYcO0w73Cg8Okw70%7E?%21c%21xx\"></script><style>[data-columns]::before{display:block;visibility:hidden;position:absolute;font-size:1px;}</style><script src=\"https://securepubads.g.doubleclick.net/gpt/pubads_impl_111.js\" async=\"\"></script><script type=\"text/javascript\" src=\"http://allrecipes.groceryserver.com/groceryserver/service/w5fDoHvClcOaw4PDmSrDksKWTQpiwrFqVsKNwpbCpMOdA8KfwpwxSQkvI8OSPSAwwrk6wrVEP8OYAB57Xx42RTl0esOyw7J1T8OrOMKMVk9_woPDhlnDtDnDuMK2wpvDoxjCtcOtQcOGA8OjYsKtwoDCqSrDj8KoLH9Uw43CtlPDsXPDkcO8wqxdwpVlwoDCr8Osw53Dk8KBWsK9w7PCrcOIw4rDicKdRsKfwpXDjSfDtMOqwrDDtcK1PsKiKMKxwq3DjsKEJ1bDimPDgcO_w6vDlR5ESHnDk3LCosOgJFxjQsOnF11gIAzCr8OoIGDDlcOEMTUdwoDCvjgMw7XDpULDoQ5jw5LDrATCpSxQw6whwo11TsKtwovCm8OSGwodGsKONELDt1YewoXCoVlOEiwwdBTDgFrCicK1OQ9ZKsOiOUvDrsKocMK1w4IUVsKJB8OJUMOTwoXClsOMBX0XX8Ojw4Eow7glwpHCvy8mw64IwqXCridGwrYXw5LDjyfCt0kMGsK3MsKDwpJVVcK9w6hEw43Dpg3DvcKLPsKZC8OuwpPCusOZCh5awoopMy9pw7HDmXd6JcKTaH-CisOjw5LDusOfUcKHZcOMw6HCr8KTw5rDicKeZcKnwrolEDPCocO5Hm7DnFDCswrCrMKCw7F9PMOow7fCqcKxQiXDiWx1LhbCgzbCliFYNHs%7E?%21d%21xx\"></script><link rel=\"prefetch\" href=\"http://tpc.googlesyndication.com/safeframe/1-0-6/html/container.html\" /><link rel=\"dns-prefetch\" href=\"//fastlane.rubiconproject.com/\" /><script type=\"text/javascript\" src=\"http://images.media-allrecipes.com/ar/foresee/v0.7/foresee-surveydef.js?build=9\"></script><iframe width=\"0\" height=\"0\" frameborder=\"0\" src=\"http://ads.pubmatic.com/AdServer/js/showad.js#PIX&amp;kdntuid=1&amp;p=37576\" style=\"height: 0px; width: 0px; border: 0px none;\" marginwidth=\"0\" marginheight=\"0\" scrolling=\"no\"></iframe><script type=\"text/javascript\" id=\"pubApiioRpChND\" async=\"\" src=\"//api.sele.co/ub/v1.jsonp?ka_type=recipe&amp;ka_status=visitor&amp;ka_oid=2C6B95FF851D0320-6000190E2000AB1A&amp;ka_fit=0&amp;ka_r=10141&amp;ka_id=10141&amp;ka_k=%5B%2213%22%2C%2239%22%2C%2255%22%2C%2256%22%2C%2265%22%2C%2283%22%2C%2291%22%2C%2294%22%2C%2297%22%2C%22112%22%2C%22168%22%2C%22181%22%2C%22201%22%2C%22228%22%2C%22239%22%2C%22268%22%2C%22622%22%2C%22655%22%2C%22665%22%5D&amp;ka_breakpoint=mobile&amp;ka_contentType=recipe&amp;ka_geo=USA&amp;ka_channel=cookie&amp;ka_pv=90&amp;ka_ksg=%5B%22pol7wic9a%22%2C%22pol9z7q4l%22%2C%22puz7albw3%22%5D&amp;ka_kuid=rn7dt2wdu&amp;debugLevel=5&amp;sm_os=Macintosh&amp;sm_plt=mouse&amp;sm_brw=Firefox&amp;sm_pr=2&amp;sm_w=800&amp;sm_h=518&amp;sm_o=l&amp;sm_fp=4047013571&amp;sm_pb=ioRpChND&amp;utid=1490499293493&amp;loc=http%3A%2F%2Fallrecipes.com%2Frecipe%2F10141%2Foutrageous-chocolate-chip-cookies%2F&amp;ref=&amp;sm_cb=smpubApiioRpChND43687456\"></script><script type=\"text/javascript\" id=\"sm_product_batch0\" async=\"\" src=\"http://cdn.selectablemedia.com/ro/c/js/sm_sp.js\"></script><script type=\"text/javascript\" id=\"\" async=\"\" src=\"http://api.sele.co/sp/v5.jsonp?ka_type=recipe&amp;ka_status=visitor&amp;ka_oid=2C6B95FF851D0320-6000190E2000AB1A&amp;ka_fit=0&amp;ka_r=10141&amp;ka_id=10141&amp;ka_k=%5B%2213%22%2C%2239%22%2C%2255%22%2C%2256%22%2C%2265%22%2C%2283%22%2C%2291%22%2C%2294%22%2C%2297%22%2C%22112%22%2C%22168%22%2C%22181%22%2C%22201%22%2C%22228%22%2C%22239%22%2C%22268%22%2C%22622%22%2C%22655%22%2C%22665%22%5D&amp;ka_breakpoint=mobile&amp;ka_contentType=recipe&amp;ka_geo=USA&amp;ka_channel=cookie&amp;ka_pv=90&amp;ka_ksg=%5B%22pol7wic9a%22%2C%22pol9z7q4l%22%2C%22puz7albw3%22%5D&amp;ka_kuid=rn7dt2wdu&amp;iid=450955802&amp;fp=4047013571&amp;utid=1490499293493&amp;pls=295,250,744&amp;cb=onSmSponsoredData&amp;sm_os=Macintosh&amp;sm_plt=mouse&amp;sm_brw=Firefox&amp;sm_pr=2&amp;sm_flsh=1\"></script></head>\\n\\n\\n<!-- ARLOG SERVER: RD0003FF962631 LOCAL_IP: 10.255.21.12 MERCH_KEY: MerchData_4_1_1_10141_***_68 -->\\n<body data-scoby-impression=\"{&quot;id&quot;: &quot;10141&quot;, &quot;eventType&quot;: &quot;Allrecipes.Recipe.PageView&quot;, &quot;eventCategory&quot;: &quot;Page.View&quot;, &quot;value&quot;: {&quot;user&quot;: {&quot;loginStatus&quot;:&quot;no&quot;,&quot;visitorType&quot;:&quot;anonymous&quot;}}}\" ng-app=\"allrecipes\" class=\"ng-scope\">\\n<a id=\"top\"></a>\\n    <a rel=\"nofollow\" class=\"newThisMonth\" href=\"/new-this-month/\" target=\"_self\">New this month</a>\\n    <!-- Begin comScore Tag - Part 2 -->\\n    <noscript>\\n        &lt;img src=\"http://b.scorecardresearch.com/p?c1=2&amp;c2=6036305&amp;cv=2.0&amp;cj=1\" /&gt;\\n    </noscript>\\n    <!-- End comScore Tag - Part 2 -->\\n    <div global-ui-events=\"\" class=\"slider-container\">\\n        \\n        <div data-ad-container-autocollapse=\"\" class=\"leaderboard-wrapper\" id=\"docking-leaderboard-container\">\\n            <div class=\"docking-leaderboard-container\">\\n                \\n                <div class=\"docking-leaderboard\" data-tier=\"1\" id=\"div-gpt-leaderboard-fixed-1\"></div>\\n            </div>\\n        </div>\\n\\n<div class=\"site-content\">\\n\\n    <header class=\"header new-nav\">\\n        \\n<section ng-init=\"init()\" ng-controller=\"ar_controllers_top_nav\" class=\"ng-scope\">\\n    <ul class=\"ar-nav-section\">\\n        <li class=\"ar-logo-tab\">\\n            <a href=\"/\" target=\"_self\">\\n                <div ng-click=\"setAnalyticsCookie(\\'ARlogo\\')\" class=\"ar-logo\">\\n<img width=\"96\" height=\"36\" src=\"http://images.media-allrecipes.com/ar-images/ARlogo.svg\" alt=\"Allrecipes\" />                </div>\\n            </a>\\n        </li>\\n\\n        <li class=\"browse-recipes\">\\n            <a popup-trigger=\"topBrowseRecipePanel\" class=\"recipes-txt {active:topBrowseRecipePanel_showing}\" id=\"navmenu_recipes\" href=\"\"><span>BROWSE</span><span class=\"icon--chevron-down\"></span></a>\\n        </li>\\n        <li ng-controller=\"ar_controllers_search\" class=\"search-tab ng-scope\">\\n            <div class=\"nav-search\">\\n                <input type=\"text\" ng-keypress=\"isEnterKey($event) &amp;&amp; performSearch()\" ng-model=\"search.keywords\" placeholder=\"Find a recipe\" id=\"searchText\" class=\"ng-pristine ng-untouched ng-valid\" />\\n                <button ng-click=\"performSearch()\" class=\"btn-basic--small search-button\">\\n                    <span class=\"icon svg-icon--top-nav-bar--search-magnify svg-icon--top-nav-bar--search-magnify-dims\"></span>\\n                </button>\\n                <div ar-event-focus-id=\"setFocus-keywordSearch\" ar-event-focus=\"click\" class=\"ingredient-searchtxt\" id=\"ingredientSearch\" popup-trigger=\"topNavSearchMenu\">Ingredient Search</div>\\n            </div>\\n        </li>\\n\\n\\n            <li ng-class=\"{active: notifications_showing}\" popup-trigger=\"notifications\" class=\"social-notification\" id=\"2a06f942-3e7d-4f75-889d-4b0f89d7c601\">\\n                <div ng-click=\"setNotificationsViewed()\" ng-controller=\"ar_controllers_notifications\" class=\"socialNotification ng-scope\">\\n                    <span class=\"svg-icon--top-nav-bar--nav-bell svg-icon--top-nav-bar--nav-bell-dims\"></span>\\n                    <span ng-bind=\"notificationCount\" ng-show=\"displayCount\" class=\"notification-count ng-binding\">1</span>\\n                </div>\\n            </li>\\n\\n        <li ng-click=\"setAnalyticsCookie(\\'favorites\\')\" class=\"nav-favorites\">\\n            <a href=\"/cook/my/favorites/\" target=\"_self\">\\n                <span class=\"svg-icon--top-nav-bar--grey-heart svg-icon--top-nav-bar--grey-heart-dims\"></span>\\n            </a>\\n        </li>\\n\\n            <li class=\"nav-profile anonymous-user\">\\n                <a href=\"/account/authenticationwelcome/\" target=\"_self\">\\n                    <div class=\"login-state\">\\n                        <div ng-click=\"setAnalyticsCookie(\\'profile|profile\\')\" class=\"img-profile icon svg-icon--top-nav-bar--userhead svg-icon--top-nav-bar--userhead-dims\"></div>\\n                        <span ng-click=\"setAnalyticsCookie(\\'create profile|sign up\\')\" id=\"offCanvasDisplayName\" class=\"username icon-user--default\">Create a profile</span>\\n                        \\n                    </div>\\n                </a>\\n            </li>\\n        <li class=\"small-screen search-phone--landscape\" ng-class=\"{active:topNavSearchMenu_showing}\">\\n            <a ar-event-focus-id=\"setFocus-keywordSearch\" ar-event-focus=\"click\" popup-trigger=\"topNavSearchMenu\" href=\"\" id=\"dca85d53-c3db-4e16-ae7c-dae8a4bc4c31\">\\n                <div class=\"nav-search\">\\n                    <span><img width=\"23\" height=\"23\" src=\"http://images.media-allrecipes.com/ar-images/icons/NavSearchIcon.svg\" alt=\"search\" /></span>\\n                </div>\\n            </a>\\n        </li>\\n\\n        <li popup-trigger=\"topNavProfileMenu\" ng-class=\"{active:topNavProfileMenu_showing}\" class=\"small-screen profile-phone--landscape\" id=\"17ddc21d-b7ac-4af4-931d-73e5b7ac14f0\">\\n            <a href=\"\">\\n                <div class=\"login-state\">\\n                    <div class=\"img-profile icon svg-icon--top-nav-bar--userhead svg-icon--top-nav-bar--userhead-dims\"></div>\\n                </div>\\n            </a>\\n\\n        </li>\\n        <li popup-trigger=\"topNavHamburgerMenu\" ng-class=\"{active: topNavHamburgerMenu_showing}\" class=\"hamburger-tab\" id=\"016ff314-00eb-473a-bfa9-6c813d79187a\">\\n            <a href=\"\">\\n                <div class=\"hamburger-nav\">\\n                    <span class=\"browse-recipes-iconbar\"></span>\\n                    <span class=\"browse-recipes-iconbar\"></span>\\n                    <span class=\"browse-recipes-iconbar\"></span>\\n                </div>\\n            </a>\\n        </li>\\n    </ul>\\n\\n    <social-notification popup-panel=\"notifications\" id=\"d3951b2d-a24e-445b-9da8-ee16547bb42e\"><div popup-panel=\"notifications\" class=\"nav-tab notification-menu unauthenticated-message ng-hide ng-scope\" ng-controller=\"ar_controllers_notifications\" id=\"b26de568-cf32-471b-9b40-472dd29eeded\"> <ul class=\"nav-tab__options\"> <li class=\"unauthenticated\"> <h2>Cook in good company</h2> <ul> <li>Connect with like-minded cooks</li> <li>Celebrate your cooking triumphs</li> <li>Discover new favorite recipes</li> </ul> <a ng-click=\"setAnalyticsCookie(\\'notification|sign up\\')\" class=\"btn-gold\" href=\"/account/authenticationwelcome/\" target=\"_self\">Sign up (free)</a> </li> </ul> </div></social-notification>\\n\\n    <div popup-panel=\"topNavSearchMenu\" class=\"nav-tab nav-tab__search ng-hide\" id=\"8abeff92-ca78-4ce4-9b1e-f456b28e5607\">\\n        \\n\\n\\n\\n<form class=\"ng-pristine ng-valid\">\\n    <div data-ng-controller=\"ar_controllers_search\" class=\"ng-scope\">\\n        <span hidewhenclicked=\"\" title=\"Close Ingredient Search\" class=\"icon--close\"></span>\\n        <div class=\"input-wrap--home\">\\n            <span class=\"search-spyglass\"><img width=\"23\" height=\"23\" src=\"http://images.media-allrecipes.com/ar-images/icons/NavSearchIcon.svg\" alt=\"Allrecipes\" /></span>\\n            <input type=\"text\" class=\"setFocus-keywordSearch ng-pristine ng-untouched ng-valid\" ng-model=\"search.keywords\" placeholder=\"Keywords\" id=\"searchText\" />\\n        </div>\\n\\n        \\n\\n        <div ar-assign-scrollable-classes=\"{ outermostWrapper: \\'ingredients\\', clippingFrame: \\'ingredient-clipping-frame\\', draggableElement: \\'ingredient-scroller\\' }\" class=\"input-wrap--home ingredients\">    \\n\\n            <div class=\"ingredient-clipping-frame\">\\n                <ul onselectstart=\"return false;\" unselectable=\"on\" ar-touchend=\"touchEnd($event)\" ar-touchstart=\"touchStart($event)\" ng-mouseup=\"mouseUp($event)\" ng-mousedown=\"mouseDown($event)\" class=\"ingredient-scroller ng-scope\">\\n\\n                    <!-- ngRepeat: ingredient in search.ingredientsInclude -->\\n\\n                </ul>\\n                </div>\\n\\n            <div class=\"ingredient-add-exclude\">\\n                \\n                <input type=\"text\" class=\"setFocus-includeIng ng-pristine ng-untouched ng-valid\" ng-keydown=\"(isBackspaceKey($event) &amp;&amp; removeLastIngredientInclude($event)) || (isTabKey($event) &amp;&amp; addIngredientInclude($event))\" ng-blur=\"showAds()\" ng-focus=\"hideAds();\" ng-model=\"includeIngredient\" name=\"txtIncludeIng\" ng-attr-placeholder=\"{{includeIngPlaceholderText}}\" id=\"includeIngText\" placeholder=\"Include ingredients\" />\\n            </div>\\n            <a ng-class=\"{ \\'grayed-out\\': includeIngHitMax }\" ar-event-focus-id=\"setFocus-includeIng\" ar-event-focus=\"click\" ng-click=\"addIngredientInclude($event)\" class=\"btn-basic--small include\"><span>+</span></a>\\n\\n        </div> \\n\\n        \\n\\n        <div ar-assign-scrollable-classes=\"{ outermostWrapper: \\'ingredients\\', clippingFrame: \\'ingredient-clipping-frame\\', draggableElement: \\'ingredient-scroller\\' }\" class=\"input-wrap--home ingredients\">    \\n\\n            <div class=\"ingredient-clipping-frame\">\\n                <ul onselectstart=\"return false;\" unselectable=\"on\" ar-touchend=\"touchEnd($event)\" ar-touchstart=\"touchStart($event)\" ng-mouseup=\"mouseUp($event)\" ng-mousedown=\"mouseDown($event)\" class=\"ingredient-scroller ng-scope\">\\n\\n                    <!-- ngRepeat: ingredient in search.ingredientsExclude -->\\n\\n                </ul>\\n                </div>\\n\\n            <div class=\"ingredient-add-exclude\">    \\n                <input type=\"text\" class=\"setFocus-excludeIng ng-pristine ng-untouched ng-valid\" ng-keydown=\"(isBackspaceKey($event) &amp;&amp; removeLastIngredientExclude($event)) || (isTabKey($event) &amp;&amp; addIngredientExclude($event))\" ng-blur=\"showAds()\" ng-focus=\"hideAds();\" ng-model=\"excludeIngredient\" name=\"txtExcludeIng\" ng-attr-placeholder=\"{{excludeIngPlaceholderText}}\" id=\"excludeIngText\" placeholder=\"Exclude ingredients\" />\\n            </div>\\n            <a ng-class=\"{ \\'grayed-out\\': excludeIngHitMax }\" ar-event-focus-id=\"setFocus-excludeIng\" ar-event-focus=\"click\" ng-click=\"addIngredientExclude($event)\" class=\"btn-basic--small exclude\"><span>\\u2014</span></a>\\n\\n        </div> \\n\\n        <div class=\"nav-tab__buttons\">\\n            <button ng-click=\"performSearch()\" class=\"btn-basic--small btn-search\">Go</button>\\n        </div>\\n    </div>\\n    <div class=\"notification hidden\" id=\"msg-toolbar\"><span class=\"notification__message\"></span></div>\\n</form>\\n\\n\\n    </div>\\n    <div id=\"topBrowseRecipePanel\" class=\"browse-recipe-tab social ng-hide\" popup-panel=\"topBrowseRecipePanel\">\\n\\n\\n\\n<section class=\"hero-link  nav-tab__options recipe-nav-tab__options\">\\n    <div class=\"grid underline_hero_link\">\\n      \\n        <ul class=\"browse-hubs\">\\n                <li class=\"browse-hubs__categories\">\\n                    <h3>\\n                        Meal Type\\n                    </h3><span class=\"icon--chevron-right\"></span>\\n\\n                    <ul class=\"browse-hubs__subcategories\">\\n<li>\\n                                <a title=\"Appetizers &amp; Snacks Recipes\" ng-click=\"setAnalyticsCookie(\\'browse|appetizers \\\\u0026 snacks\\')\" href=\"/recipes/76/appetizers-and-snacks/\" target=\"_self\">\\n                                    Appetizers &amp; Snacks\\n                                </a>\\n                            </li>\\n<li>\\n                                <a title=\"Breakfast &amp; Brunch Recipes\" ng-click=\"setAnalyticsCookie(\\'browse|breakfast \\\\u0026 brunch\\')\" href=\"/recipes/78/breakfast-and-brunch/\" target=\"_self\">\\n                                    Breakfast &amp; Brunch\\n                                </a>\\n                            </li>\\n<li>\\n                                <a title=\"Desserts Recipes\" ng-click=\"setAnalyticsCookie(\\'browse|desserts\\')\" href=\"/recipes/79/desserts/\" target=\"_self\">\\n                                    Desserts\\n                                </a>\\n                            </li>\\n<li>\\n                                <a title=\"Dinner Recipes\" ng-click=\"setAnalyticsCookie(\\'browse|dinner\\')\" href=\"/recipes/17562/dinner/\" target=\"_self\">\\n                                    Dinner\\n                                </a>\\n                            </li>\\n<li>\\n                                <a title=\"Drinks Recipes\" ng-click=\"setAnalyticsCookie(\\'browse|drinks\\')\" href=\"/recipes/77/drinks/\" target=\"_self\">\\n                                    Drinks\\n                                </a>\\n                            </li>\\n                    </ul>\\n                </li>\\n                <li class=\"browse-hubs__categories\">\\n                    <h3>\\n                        Ingredient\\n                    </h3><span class=\"icon--chevron-right\"></span>\\n\\n                    <ul class=\"browse-hubs__subcategories\">\\n<li>\\n                                <a title=\"Beef Recipes\" ng-click=\"setAnalyticsCookie(\\'browse|beef\\')\" href=\"/recipes/200/meat-and-poultry/beef/\" target=\"_self\">\\n                                    Beef\\n                                </a>\\n                            </li>\\n<li>\\n                                <a title=\"Chicken Recipes\" ng-click=\"setAnalyticsCookie(\\'browse|chicken\\')\" href=\"/recipes/201/meat-and-poultry/chicken/\" target=\"_self\">\\n                                    Chicken\\n                                </a>\\n                            </li>\\n<li>\\n                                <a title=\"Pasta Recipes\" ng-click=\"setAnalyticsCookie(\\'browse|pasta\\')\" href=\"/recipes/95/pasta-and-noodles/\" target=\"_self\">\\n                                    Pasta\\n                                </a>\\n                            </li>\\n<li>\\n                                <a title=\"Pork Recipes\" ng-click=\"setAnalyticsCookie(\\'browse|pork\\')\" href=\"/recipes/205/meat-and-poultry/pork/\" target=\"_self\">\\n                                    Pork\\n                                </a>\\n                            </li>\\n<li>\\n                                <a title=\"Salmon Recipes\" ng-click=\"setAnalyticsCookie(\\'browse|salmon\\')\" href=\"/recipes/416/seafood/fish/salmon/\" target=\"_self\">\\n                                    Salmon\\n                                </a>\\n                            </li>\\n                    </ul>\\n                </li>\\n                <li class=\"browse-hubs__categories\">\\n                    <h3>\\n                        Diet &amp; Health\\n                    </h3><span class=\"icon--chevron-right\"></span>\\n\\n                    <ul class=\"browse-hubs__subcategories\">\\n<li>\\n                                <a title=\"Diabetic Recipes\" ng-click=\"setAnalyticsCookie(\\'browse|diabetic\\')\" href=\"/recipes/739/healthy-recipes/diabetic/\" target=\"_self\">\\n                                    Diabetic\\n                                </a>\\n                            </li>\\n<li>\\n                                <a title=\"Gluten Free Recipes\" ng-click=\"setAnalyticsCookie(\\'browse|gluten free\\')\" href=\"/recipes/741/healthy-recipes/gluten-free/\" target=\"_self\">\\n                                    Gluten Free\\n                                </a>\\n                            </li>\\n<li>\\n                                <a title=\"Healthy Recipes\" ng-click=\"setAnalyticsCookie(\\'browse|healthy\\')\" href=\"/recipes/84/healthy-recipes/\" target=\"_self\">\\n                                    Healthy\\n                                </a>\\n                            </li>\\n<li>\\n                                <a title=\"Low Calorie Recipes\" ng-click=\"setAnalyticsCookie(\\'browse|low calorie\\')\" href=\"/recipes/1232/healthy-recipes/low-calorie/\" target=\"_self\">\\n                                    Low Calorie\\n                                </a>\\n                            </li>\\n<li>\\n                                <a title=\"Low Fat Recipes\" ng-click=\"setAnalyticsCookie(\\'browse|low fat\\')\" href=\"/recipes/1231/healthy-recipes/low-fat/\" target=\"_self\">\\n                                    Low Fat\\n                                </a>\\n                            </li>\\n                    </ul>\\n                </li>\\n                <li class=\"browse-hubs__categories\">\\n                    <h3>\\n                        Seasonal\\n                    </h3><span class=\"icon--chevron-right\"></span>\\n\\n                    <ul class=\"browse-hubs__subcategories\">\\n<li>\\n                                <a title=\"Passover Recipes\" ng-click=\"setAnalyticsCookie(\\'browse|passover\\')\" href=\"http://allrecipes.com/recipes/194/holidays-and-events/passover/\" target=\"_self\">\\n                                    Passover\\n                                </a>\\n                            </li>\\n<li>\\n                                <a title=\"Easter Recipes\" ng-click=\"setAnalyticsCookie(\\'browse|easter\\')\" href=\"http://allrecipes.com/recipes/188/holidays-and-events/easter/\" target=\"_self\">\\n                                    Easter\\n                                </a>\\n                            </li>\\n<li>\\n                                <a title=\"Cinco de Mayo Recipes\" ng-click=\"setAnalyticsCookie(\\'browse|cinco de mayo\\')\" href=\"http://allrecipes.com/recipes/1509/holidays-and-events/cinco-de-mayo/\" target=\"_self\">\\n                                    Cinco de Mayo\\n                                </a>\\n                            </li>\\n<li>\\n                                <a title=\"Mother\\'s Day Recipes\" ng-click=\"setAnalyticsCookie(\\'browse|mother\\\\u0027s day\\')\" href=\"http://allrecipes.com/recipes/1445/holidays-and-events/mothers-day/\" target=\"_self\">\\n                                    Mother\\'s Day\\n                                </a>\\n                            </li>\\n<li>\\n                                <a title=\"More Holidays and Events Recipes\" ng-click=\"setAnalyticsCookie(\\'browse|more holidays and events\\')\" href=\"http://allrecipes.com/recipes/85/holidays-and-events/\" target=\"_self\">\\n                                    More Holidays and Events\\n                                </a>\\n                            </li>\\n                    </ul>\\n                </li>\\n                <li class=\"browse-hubs__categories\">\\n                    <h3>\\n                        Dish Type\\n                    </h3><span class=\"icon--chevron-right\"></span>\\n\\n                    <ul class=\"browse-hubs__subcategories\">\\n<li>\\n                                <a title=\"Breads Recipes\" ng-click=\"setAnalyticsCookie(\\'browse|breads\\')\" href=\"/recipes/156/bread/\" target=\"_self\">\\n                                    Breads\\n                                </a>\\n                            </li>\\n<li>\\n                                <a title=\"Cakes Recipes\" ng-click=\"setAnalyticsCookie(\\'browse|cakes\\')\" href=\"/recipes/276/desserts/cakes/\" target=\"_self\">\\n                                    Cakes\\n                                </a>\\n                            </li>\\n<li>\\n                                <a title=\"Salads Recipes\" ng-click=\"setAnalyticsCookie(\\'browse|salads\\')\" href=\"/recipes/96/salad/\" target=\"_self\">\\n                                    Salads\\n                                </a>\\n                            </li>\\n<li>\\n                                <a title=\"Smoothies Recipes\" ng-click=\"setAnalyticsCookie(\\'browse|smoothies\\')\" href=\"/recipes/138/drinks/smoothies/\" target=\"_self\">\\n                                    Smoothies\\n                                </a>\\n                            </li>\\n<li>\\n                                <a title=\"Soups, Stews &amp; Chili Recipes\" ng-click=\"setAnalyticsCookie(\\'browse|soups, stews \\\\u0026 chili\\')\" href=\"/recipes/94/soups-stews-and-chili/\" target=\"_self\">\\n                                    Soups, Stews &amp; Chili\\n                                </a>\\n                            </li>\\n                    </ul>\\n                </li>\\n                <li class=\"browse-hubs__categories\">\\n                    <h3>\\n                        Cooking Style\\n                    </h3><span class=\"icon--chevron-right\"></span>\\n\\n                    <ul class=\"browse-hubs__subcategories\">\\n<li>\\n                                <a title=\"BBQ &amp; Grilling Recipes\" ng-click=\"setAnalyticsCookie(\\'browse|bbq \\\\u0026 grilling\\')\" href=\"/recipes/88/bbq-grilling/\" target=\"_self\">\\n                                    BBQ &amp; Grilling\\n                                </a>\\n                            </li>\\n<li>\\n                                <a title=\"Quick &amp; Easy Recipes\" ng-click=\"setAnalyticsCookie(\\'browse|quick \\\\u0026 easy\\')\" href=\"/recipes/1947/everyday-cooking/quick-and-easy/\" target=\"_self\">\\n                                    Quick &amp; Easy\\n                                </a>\\n                            </li>\\n<li>\\n                                <a title=\"Slow Cooker Recipes\" ng-click=\"setAnalyticsCookie(\\'browse|slow cooker\\')\" href=\"/recipes/253/everyday-cooking/slow-cooker/\" target=\"_self\">\\n                                    Slow Cooker\\n                                </a>\\n                            </li>\\n<li>\\n                                <a title=\"Vegan Recipes\" ng-click=\"setAnalyticsCookie(\\'browse|vegan\\')\" href=\"/recipes/1227/everyday-cooking/vegan/\" target=\"_self\">\\n                                    Vegan\\n                                </a>\\n                            </li>\\n<li>\\n                                <a title=\"Vegetarian Recipes\" ng-click=\"setAnalyticsCookie(\\'browse|vegetarian\\')\" href=\"/recipes/87/everyday-cooking/vegetarian/\" target=\"_self\">\\n                                    Vegetarian\\n                                </a>\\n                            </li>\\n                    </ul>\\n                </li>\\n                <li class=\"browse-hubs__categories\">\\n                    <h3>\\n                        World Cuisine\\n                    </h3><span class=\"icon--chevron-right\"></span>\\n\\n                    <ul class=\"browse-hubs__subcategories\">\\n<li>\\n                                <a title=\"Asian Recipes\" ng-click=\"setAnalyticsCookie(\\'browse|asian\\')\" href=\"/recipes/227/world-cuisine/asian/\" target=\"_self\">\\n                                    Asian\\n                                </a>\\n                            </li>\\n<li>\\n                                <a title=\"Indian Recipes\" ng-click=\"setAnalyticsCookie(\\'browse|indian\\')\" href=\"/recipes/233/world-cuisine/asian/indian/\" target=\"_self\">\\n                                    Indian\\n                                </a>\\n                            </li>\\n<li>\\n                                <a title=\"Italian Recipes\" ng-click=\"setAnalyticsCookie(\\'browse|italian\\')\" href=\"/recipes/723/world-cuisine/european/italian/\" target=\"_self\">\\n                                    Italian\\n                                </a>\\n                            </li>\\n<li>\\n                                <a title=\"Mexican Recipes\" ng-click=\"setAnalyticsCookie(\\'browse|mexican\\')\" href=\"/recipes/728/world-cuisine/latin-american/mexican/\" target=\"_self\">\\n                                    Mexican\\n                                </a>\\n                            </li>\\n<li>\\n                                <a title=\"Southern Recipes\" ng-click=\"setAnalyticsCookie(\\'browse|southern\\')\" href=\"/recipes/15876/us-recipes/southern/\" target=\"_self\">\\n                                    Southern\\n                                </a>\\n                            </li>\\n                    </ul>\\n                </li>\\n                <li class=\"browse-hubs__categories\">\\n                    <h3>\\n                        Special Collections\\n                    </h3><span class=\"icon--chevron-right\"></span>\\n\\n                    <ul class=\"browse-hubs__subcategories\">\\n<li>\\n                                <a title=\"Allrecipes Magazine Recipes\" ng-click=\"setAnalyticsCookie(\\'browse|allrecipes magazine recipes\\')\" href=\"http://allrecipes.com/recipes/17235/everyday-cooking/allrecipes-magazine-recipes/\" target=\"_self\">\\n                                    Allrecipes Magazine Recipes\\n                                </a>\\n                            </li>\\n<li>\\n                                <a title=\"Food Wishes with Chef John Recipes\" ng-click=\"setAnalyticsCookie(\\'browse|food wishes with chef john\\')\" href=\"http://allrecipes.com/recipes/16791/everyday-cooking/special-collections/web-show-recipes/food-wishes/\" target=\"_self\">\\n                                    Food Wishes with Chef John\\n                                </a>\\n                            </li>\\n<li>\\n                                <a title=\"Trusted Brands Recipes\" ng-click=\"setAnalyticsCookie(\\'browse|trusted brands\\')\" href=\"http://dish.allrecipes.com/trusted-brand-pages/\" target=\"_self\">\\n                                    Trusted Brands\\n                                </a>\\n                            </li>\\n                    </ul>\\n                </li>\\n        </ul>\\n    </div>\\n    <a ng-click=\"setAnalyticsCookie(\\'browse|all categories\\')\" href=\"/recipes?grouping=all\" class=\"recipe-hero-link__item__text\" target=\"_self\">All Categories</a>\\n</section>\\n\\n\\n    </div>\\n    <!-- user sign in area -->\\n    <div popup-panel=\"topNavProfileMenu\" class=\"nav-tab social profile-nav ng-hide\" id=\"a5c3343a-0c7f-4ec2-af68-553be20c7e80\">\\n        <ul class=\"nav-tab__options\">\\n\\n            <li ng-click=\"setAnalyticsCookie(\\'profile|feed\\', \\'menu\\')\">\\n                <a id=\"navmenu_myFeed\" href=\"/account/authenticationwelcome/?loginReferrerUrl=/home\" target=\"_self\">\\n                    <span class=\"iconContainer\"><span class=\"icon svg-icon--top-nav-bar--home svg-icon--top-nav-bar--home-dims\"></span></span>\\n                    <span class=\"itemText\">Feed</span>\\n                </a>\\n            </li>\\n            <li ng-click=\"setAnalyticsCookie(\\'profile|profile\\', \\'menu\\')\">\\n                <a id=\"navmenu_myprofile\" href=\"/cook/my/\" target=\"_self\">\\n                    <span class=\"iconContainer\"><span class=\"icon svg-icon--top-nav-bar--nav-profile svg-icon--top-nav-bar--nav-profile-dims\"></span></span>\\n                    <span class=\"itemText\">Profile</span>\\n                </a>\\n            </li>\\n            <li ng-click=\"setAnalyticsCookie(\\'profile|favorites\\', \\'menu\\')\">\\n                <a id=\"navmenu_recipebox\" rel=\"nofollow\" href=\"/cook/my/favorites/\" target=\"_self\">\\n                    <span class=\"iconContainer\">\\n                        <span class=\"icon svg-icon--top-nav-bar--grey-heart svg-icon--top-nav-bar--grey-heart-dims\"></span>\\n                    </span>\\n                    <span class=\"itemText\">Favorites</span>\\n                </a>\\n            </li>\\n            <li ng-click=\"setAnalyticsCookie(\\'profile|friends\\', \\'menu\\')\">\\n                <a id=\"navmenu_findfriends\" rel=\"nofollow\" href=\"/cook/my/findfriends/\" target=\"_self\">\\n                    <span class=\"iconContainer\">\\n                        <span class=\"icon svg-icon--top-nav-bar--nav-friends svg-icon--top-nav-bar--nav-friends-dims\"></span>\\n                    </span>\\n                    <span class=\"itemText\">Friends</span>\\n                </a>\\n            </li>\\n\\n            <li ng-click=\"setAnalyticsCookie(\\'profile|shopping list\\', \\'menu\\')\">\\n                <a id=\"navmenu_shoppinglist\" rel=\"nofollow\" href=\"/my/shopping-lists/\" target=\"_self\">\\n                    <span class=\"iconContainer\">\\n                        <span class=\"icon svg-icon--top-nav-bar--grey-shopping svg-icon--top-nav-bar--grey-shopping-dims\"></span>\\n                    </span>\\n                    <span class=\"itemText\">Shopping List</span>\\n                </a>\\n            </li>\\n            <li ng-click=\"setAnalyticsCookie(\\'profile|settings\\', \\'menu\\')\">\\n                <a id=\"navmenu_settings\" rel=\"nofollow\" href=\"/cook/my/account-settings/\" target=\"_self\">\\n                    <span class=\"iconContainer\">\\n                        <span class=\"icon svg-icon--top-nav-bar--nav-settings svg-icon--top-nav-bar--nav-settings-dims\"></span>\\n                    </span>\\n                    <span class=\"itemText\">Settings</span>\\n                </a>\\n            </li>\\n\\n        </ul>\\n\\n            <div ng-click=\"setAnalyticsCookie(\\'profile|sign in \\', \\'menu\\')\" class=\"signin\">\\n                <button id=\"navmenu_signin_signup\" class=\"btn-basic--large btn-gold\" onclick=\" location.href=\\'/account/authenticationwelcome/?actionsource=\\' +(typeof dataLayer !==\\'undefined\\' ? dataLayer.page.category.contentType : \\'\\' ) \">Sign In <em>or</em> Sign Up</button>\\n            </div>\\n\\n    </div>\\n\\n    <!-- hub links, etc. -->\\n    <div popup-panel=\"topNavHamburgerMenu\" class=\"nav-tab last ng-hide\" id=\"4e8174e2-0324-4123-8ab0-343daf29240d\">\\n\\n        <ul class=\"nav-tab__options\">\\n            <li class=\"underline_link\">\\n                <a ng-click=\"browseNav()\" popup-trigger=\"browseRecipePanel\" id=\"navmenu_recipes\" href=\"\">\\n                    <span ng-class=\"{\\'active\\': isActive}\" class=\"icon svg-icon--top-nav-bar--nav-browse-orange svg-icon--top-nav-bar--nav-browse-orange-dims\"></span>\\n                    <span ng-class=\"{\\'hidden\\': isActive}\" class=\"icon svg-icon--top-nav-bar--nav-browse svg-icon--top-nav-bar--nav-browse-dims\"></span>\\n                    <span class=\"nav-link-text\">Browse Recipes</span>\\n                    <span ng-class=\"{\\'active\\': isActive}\" class=\"icon-chevron\"></span>\\n                </a>\\n            </li>\\n\\n\\n\\n\\n           \\n            <li popup-panel=\"browseRecipePanel\" class=\"browse-div-option ng-hide\" id=\"mobile-nav-container\">\\n\\n\\n\\n\\n<ul class=\"nav-tab__mobile-browse\">\\n\\n        <li>\\n            <input type=\"checkbox\" id=\"Meal Type\" /><label for=\"Meal Type\">Meal Type<span class=\"icon-chevron\"></span></label>\\n            <ul class=\"mobile-browse-subnav\">\\n<li><a title=\"Appetizers &amp; Snacks Recipes\" ng-click=\"setAnalyticsCookie(\\'browse|appetizers \\\\u0026 snacks\\')\" href=\"/recipes/76/appetizers-and-snacks/\" target=\"_self\">Appetizers &amp; Snacks</a></li>\\n<li><a title=\"Breakfast &amp; Brunch Recipes\" ng-click=\"setAnalyticsCookie(\\'browse|breakfast \\\\u0026 brunch\\')\" href=\"/recipes/78/breakfast-and-brunch/\" target=\"_self\">Breakfast &amp; Brunch</a></li>\\n<li><a title=\"Desserts Recipes\" ng-click=\"setAnalyticsCookie(\\'browse|desserts\\')\" href=\"/recipes/79/desserts/\" target=\"_self\">Desserts</a></li>\\n<li><a title=\"Dinner Recipes\" ng-click=\"setAnalyticsCookie(\\'browse|dinner\\')\" href=\"/recipes/17562/dinner/\" target=\"_self\">Dinner</a></li>\\n<li><a title=\"Drinks Recipes\" ng-click=\"setAnalyticsCookie(\\'browse|drinks\\')\" href=\"/recipes/77/drinks/\" target=\"_self\">Drinks</a></li>\\n            </ul>\\n        </li>\\n        <li>\\n            <input type=\"checkbox\" id=\"Ingredient\" /><label for=\"Ingredient\">Ingredient<span class=\"icon-chevron\"></span></label>\\n            <ul class=\"mobile-browse-subnav\">\\n<li><a title=\"Beef Recipes\" ng-click=\"setAnalyticsCookie(\\'browse|beef\\')\" href=\"/recipes/200/meat-and-poultry/beef/\" target=\"_self\">Beef</a></li>\\n<li><a title=\"Chicken Recipes\" ng-click=\"setAnalyticsCookie(\\'browse|chicken\\')\" href=\"/recipes/201/meat-and-poultry/chicken/\" target=\"_self\">Chicken</a></li>\\n<li><a title=\"Pasta Recipes\" ng-click=\"setAnalyticsCookie(\\'browse|pasta\\')\" href=\"/recipes/95/pasta-and-noodles/\" target=\"_self\">Pasta</a></li>\\n<li><a title=\"Pork Recipes\" ng-click=\"setAnalyticsCookie(\\'browse|pork\\')\" href=\"/recipes/205/meat-and-poultry/pork/\" target=\"_self\">Pork</a></li>\\n<li><a title=\"Salmon Recipes\" ng-click=\"setAnalyticsCookie(\\'browse|salmon\\')\" href=\"/recipes/416/seafood/fish/salmon/\" target=\"_self\">Salmon</a></li>\\n            </ul>\\n        </li>\\n        <li>\\n            <input type=\"checkbox\" id=\"Diet &amp; Health\" /><label for=\"Diet &amp; Health\">Diet &amp; Health<span class=\"icon-chevron\"></span></label>\\n            <ul class=\"mobile-browse-subnav\">\\n<li><a title=\"Diabetic Recipes\" ng-click=\"setAnalyticsCookie(\\'browse|diabetic\\')\" href=\"/recipes/739/healthy-recipes/diabetic/\" target=\"_self\">Diabetic</a></li>\\n<li><a title=\"Gluten Free Recipes\" ng-click=\"setAnalyticsCookie(\\'browse|gluten free\\')\" href=\"/recipes/741/healthy-recipes/gluten-free/\" target=\"_self\">Gluten Free</a></li>\\n<li><a title=\"Healthy Recipes\" ng-click=\"setAnalyticsCookie(\\'browse|healthy\\')\" href=\"/recipes/84/healthy-recipes/\" target=\"_self\">Healthy</a></li>\\n<li><a title=\"Low Calorie Recipes\" ng-click=\"setAnalyticsCookie(\\'browse|low calorie\\')\" href=\"/recipes/1232/healthy-recipes/low-calorie/\" target=\"_self\">Low Calorie</a></li>\\n<li><a title=\"Low Fat Recipes\" ng-click=\"setAnalyticsCookie(\\'browse|low fat\\')\" href=\"/recipes/1231/healthy-recipes/low-fat/\" target=\"_self\">Low Fat</a></li>\\n            </ul>\\n        </li>\\n        <li>\\n            <input type=\"checkbox\" id=\"Seasonal\" /><label for=\"Seasonal\">Seasonal<span class=\"icon-chevron\"></span></label>\\n            <ul class=\"mobile-browse-subnav\">\\n<li><a title=\"Passover Recipes\" ng-click=\"setAnalyticsCookie(\\'browse|passover\\')\" href=\"http://allrecipes.com/recipes/194/holidays-and-events/passover/\" target=\"_self\">Passover</a></li>\\n<li><a title=\"Easter Recipes\" ng-click=\"setAnalyticsCookie(\\'browse|easter\\')\" href=\"http://allrecipes.com/recipes/188/holidays-and-events/easter/\" target=\"_self\">Easter</a></li>\\n<li><a title=\"Cinco de Mayo Recipes\" ng-click=\"setAnalyticsCookie(\\'browse|cinco de mayo\\')\" href=\"http://allrecipes.com/recipes/1509/holidays-and-events/cinco-de-mayo/\" target=\"_self\">Cinco de Mayo</a></li>\\n<li><a title=\"Mother\\'s Day Recipes\" ng-click=\"setAnalyticsCookie(\\'browse|mother\\\\u0027s day\\')\" href=\"http://allrecipes.com/recipes/1445/holidays-and-events/mothers-day/\" target=\"_self\">Mother\\'s Day</a></li>\\n<li><a title=\"More Holidays and Events Recipes\" ng-click=\"setAnalyticsCookie(\\'browse|more holidays and events\\')\" href=\"http://allrecipes.com/recipes/85/holidays-and-events/\" target=\"_self\">More Holidays and Events</a></li>\\n            </ul>\\n        </li>\\n        <li>\\n            <input type=\"checkbox\" id=\"Dish Type\" /><label for=\"Dish Type\">Dish Type<span class=\"icon-chevron\"></span></label>\\n            <ul class=\"mobile-browse-subnav\">\\n<li><a title=\"Breads Recipes\" ng-click=\"setAnalyticsCookie(\\'browse|breads\\')\" href=\"/recipes/156/bread/\" target=\"_self\">Breads</a></li>\\n<li><a title=\"Cakes Recipes\" ng-click=\"setAnalyticsCookie(\\'browse|cakes\\')\" href=\"/recipes/276/desserts/cakes/\" target=\"_self\">Cakes</a></li>\\n<li><a title=\"Salads Recipes\" ng-click=\"setAnalyticsCookie(\\'browse|salads\\')\" href=\"/recipes/96/salad/\" target=\"_self\">Salads</a></li>\\n<li><a title=\"Smoothies Recipes\" ng-click=\"setAnalyticsCookie(\\'browse|smoothies\\')\" href=\"/recipes/138/drinks/smoothies/\" target=\"_self\">Smoothies</a></li>\\n<li><a title=\"Soups, Stews &amp; Chili Recipes\" ng-click=\"setAnalyticsCookie(\\'browse|soups, stews \\\\u0026 chili\\')\" href=\"/recipes/94/soups-stews-and-chili/\" target=\"_self\">Soups, Stews &amp; Chili</a></li>\\n            </ul>\\n        </li>\\n        <li>\\n            <input type=\"checkbox\" id=\"Cooking Style\" /><label for=\"Cooking Style\">Cooking Style<span class=\"icon-chevron\"></span></label>\\n            <ul class=\"mobile-browse-subnav\">\\n<li><a title=\"BBQ &amp; Grilling Recipes\" ng-click=\"setAnalyticsCookie(\\'browse|bbq \\\\u0026 grilling\\')\" href=\"/recipes/88/bbq-grilling/\" target=\"_self\">BBQ &amp; Grilling</a></li>\\n<li><a title=\"Quick &amp; Easy Recipes\" ng-click=\"setAnalyticsCookie(\\'browse|quick \\\\u0026 easy\\')\" href=\"/recipes/1947/everyday-cooking/quick-and-easy/\" target=\"_self\">Quick &amp; Easy</a></li>\\n<li><a title=\"Slow Cooker Recipes\" ng-click=\"setAnalyticsCookie(\\'browse|slow cooker\\')\" href=\"/recipes/253/everyday-cooking/slow-cooker/\" target=\"_self\">Slow Cooker</a></li>\\n<li><a title=\"Vegan Recipes\" ng-click=\"setAnalyticsCookie(\\'browse|vegan\\')\" href=\"/recipes/1227/everyday-cooking/vegan/\" target=\"_self\">Vegan</a></li>\\n<li><a title=\"Vegetarian Recipes\" ng-click=\"setAnalyticsCookie(\\'browse|vegetarian\\')\" href=\"/recipes/87/everyday-cooking/vegetarian/\" target=\"_self\">Vegetarian</a></li>\\n            </ul>\\n        </li>\\n        <li>\\n            <input type=\"checkbox\" id=\"World Cuisine\" /><label for=\"World Cuisine\">World Cuisine<span class=\"icon-chevron\"></span></label>\\n            <ul class=\"mobile-browse-subnav\">\\n<li><a title=\"Asian Recipes\" ng-click=\"setAnalyticsCookie(\\'browse|asian\\')\" href=\"/recipes/227/world-cuisine/asian/\" target=\"_self\">Asian</a></li>\\n<li><a title=\"Indian Recipes\" ng-click=\"setAnalyticsCookie(\\'browse|indian\\')\" href=\"/recipes/233/world-cuisine/asian/indian/\" target=\"_self\">Indian</a></li>\\n<li><a title=\"Italian Recipes\" ng-click=\"setAnalyticsCookie(\\'browse|italian\\')\" href=\"/recipes/723/world-cuisine/european/italian/\" target=\"_self\">Italian</a></li>\\n<li><a title=\"Mexican Recipes\" ng-click=\"setAnalyticsCookie(\\'browse|mexican\\')\" href=\"/recipes/728/world-cuisine/latin-american/mexican/\" target=\"_self\">Mexican</a></li>\\n<li><a title=\"Southern Recipes\" ng-click=\"setAnalyticsCookie(\\'browse|southern\\')\" href=\"/recipes/15876/us-recipes/southern/\" target=\"_self\">Southern</a></li>\\n            </ul>\\n        </li>\\n        <li>\\n            <input type=\"checkbox\" id=\"Special Collections\" /><label for=\"Special Collections\">Special Collections<span class=\"icon-chevron\"></span></label>\\n            <ul class=\"mobile-browse-subnav\">\\n<li><a title=\"Allrecipes Magazine Recipes\" ng-click=\"setAnalyticsCookie(\\'browse|allrecipes magazine recipes\\')\" href=\"http://allrecipes.com/recipes/17235/everyday-cooking/allrecipes-magazine-recipes/\" target=\"_self\">Allrecipes Magazine Recipes</a></li>\\n<li><a title=\"Food Wishes with Chef John Recipes\" ng-click=\"setAnalyticsCookie(\\'browse|food wishes with chef john\\')\" href=\"http://allrecipes.com/recipes/16791/everyday-cooking/special-collections/web-show-recipes/food-wishes/\" target=\"_self\">Food Wishes with Chef John</a></li>\\n<li><a title=\"Trusted Brands Recipes\" ng-click=\"setAnalyticsCookie(\\'browse|trusted brands\\')\" href=\"http://dish.allrecipes.com/trusted-brand-pages/\" target=\"_self\">Trusted Brands</a></li>\\n            </ul>\\n        </li>\\n</ul>\\n\\n<div class=\"see-all\"><a target=\"_self\" href=\"/recipes/?grouping=all\">See all categories</a></div>\\n\\n\\n            </li>\\n\\n            <li ng-click=\"setAnalyticsData(\\'allrecipes magazine\\')\">\\n                <a target=\"_blank\" id=\"navmenu_magazine\" href=\"http://armagazine.com/mobile-site\">\\n                    <span class=\"icon svg-icon--top-nav-bar--nav-magazine svg-icon--top-nav-bar--nav-magazine-dims\"></span>\\n                    <span>Magazine - Just $7.99</span>\\n                </a>\\n            </li>\\n\\n            <li ng-click=\"setAnalyticsData(\\'dinner spinner tv\\')\">\\n                <a id=\"navmenu_tv\" href=\"http://allrecipes.com/DinnerSpinnerTV/\" target=\"_self\">\\n                    <span class=\"icon svg-icon--top-nav-bar--tv_icon svg-icon--top-nav-bar--tv_icon-dims\"></span>\\n                    <span>Dinner Spinner TV</span>\\n                </a>\\n            </li>\\n\\n            <li ng-click=\"setAnalyticsData(\\'shop\\')\">\\n                <a target=\"_blank\" id=\"navmenu_shop\" href=\"http://shop.allrecipes.com/shop\">\\n                    <span class=\"icon svg-icon--top-nav-bar--nav-shop svg-icon--top-nav-bar--nav-shop-dims\"></span>\\n                    <span>Shop</span>\\n                </a>\\n            </li>\\n            <li ng-click=\"setAnalyticsData(\\'cooking school\\')\" class=\"underline_link\">\\n                <a target=\"_blank\" id=\"navmenu_cooking_school\" href=\"http://cookingschool.allrecipes.com/\">\\n                    <span class=\"icon svg-icon--top-nav-bar--nav-cookingschool svg-icon--top-nav-bar--nav-cookingschool-dims\"></span>\\n                    <span>Cooking School</span>\\n                </a>\\n            </li>\\n            <li ng-click=\"setAnalyticsData(\\'articles and tips\\')\">\\n                <a id=\"navmenu_articles\" target=\"_self\" href=\"http://dish.allrecipes.com/\">\\n                    <span class=\"icon svg-icon--top-nav-bar--nav-article svg-icon--top-nav-bar--nav-article-dims\"></span>\\n                    <span>Articles &amp; Tips</span>\\n                </a>\\n            </li>\\n            <li ng-click=\"setAnalyticsCookie(\\'newsletters\\')\">\\n                <a id=\"navmenu_social_gallery\" href=\"/cook/my/account-settings/#NewslettersSubscription\" target=\"_self\">\\n                    <span class=\"icon svg-icon--top-nav-bar--nav-newsletters svg-icon--top-nav-bar--nav-newsletters-dims\"></span>\\n                    <span>Newsletters</span>\\n                </a>\\n            </li>\\n            <li ng-click=\"setAnalyticsData(\\'ask the community\\')\">\\n                <a id=\"navmenu_dish\" target=\"_self\" href=\"http://dish.allrecipes.com/ask-the-community/\">\\n                    <span class=\"icon svg-icon--top-nav-bar--nav-community svg-icon--top-nav-bar--nav-community-dims\"></span>\\n                    <span>Ask the Community</span>\\n                </a>\\n            </li>\\n            <li ng-click=\"setAnalyticsData(\\'help\\')\" class=\"underline_link\">\\n                <a target=\"_self\" id=\"navmenu_help\" href=\"http://dish.allrecipes.com/customer-service/\">\\n                    <span class=\"icon svg-icon--top-nav-bar--nav-help svg-icon--top-nav-bar--nav-help-dims\"></span>\\n                    <span>Help</span>\\n                </a>\\n            </li>\\n            <li>\\n                <a ng-click=\"setAnalyticsData(\\'jobs\\')\" target=\"_self\" href=\"http://dish.allrecipes.com/allrecipes-jobs-2/\">Jobs</a>\\n                <a ng-click=\"setAnalyticsData(\\'newsroom\\')\" href=\"http://press.allrecipes.com/\" target=\"_self\">Newsroom</a>\\n            </li>\\n\\n        </ul>\\n    </div>\\n</section>\\n\\n    </header>\\n    \\n\\n    <div class=\"container-content body-content\">\\n        \\n<script type=\"text/javascript\">\\n    window.AR.Util.CountryCode = \"False\"  === \"True\" ? \"Canada\" : \"US\";\\n</script>\\n\\n\\n<div id=\"ad-is-mobile\"></div>\\n<div id=\"ad-is-tablet\"></div>\\n<script>\\n    (function($) {\\n        \\n        window.adConfiguration = {\\n            \"settings\": {\\n                \"responsiveGridSlots\": 0 }\\n        };\\n\\n        \\n        var mobileAdElem = document.getElementById(\\'ad-is-mobile\\');\\n        var isMobileAds = !(mobileAdElem.offsetWidth === 0 &amp;&amp; mobileAdElem.offsetHeight === 0);\\n\\n\\n        var isTablet = $ &amp;&amp; $(\\'#ad-is-tablet\\').css(\\'display\\') === \\'none\\';\\n\\n         \\n        window.adService = {\\n            isDesktop: window.innerWidth &gt; 1024,\\n            mobileAds: isMobileAds,\\n            tabletAds: isTablet,\\n            unitValues: {\\n                channel: \"cookie\"\\n            },\\n            pageTargetingValues: {\\n                type: \"recipe\",\\n                \"status\": \"visitor\",\\n                \"oid\": \"2C6B95FF851D0320-6000190E2000AB1A\",\\n                \"fit\": \"0\",\\n                \"r\": \"10141\",\\n                \"id\": \"10141\",\\n                \"k\": [13,39,55,56,65,83,91,94,97,112,168,181,201,228,239,268,622,655,665]\\n            },\\n            suppressInterstitial: true\\n        };\\n\\n    })($ || window.jQuery);\\n</script>\\n\\n<div class=\"recipe-container-outer\">\\n    <section itemtype=\"http://schema.org/Recipe\" itemscope=\"\" class=\"ar_recipe_index full-page\">\\n        <link href=\"http://allrecipes.com/recipe/10141/outrageous-chocolate-chip-cookies/\" itemprop=\"url\" />\\n        <meta content=\"True\" itemprop=\"mainEntityOfPage\" />\\n        \\n\\n<ul data-scroll-left=\"\" class=\"breadcrumbs breadcrumbs\">\\n\\n    <li itemtype=\"http://data-vocabulary.org/Breadcrumb\" itemscope=\"\">\\n        <a itemprop=\"url\" target=\"_self\" href=\"/?internalSource=recipe%20breadcrumb&amp;referringId=10141&amp;referringContentType=recipe&amp;clickId=recipe%20breadcrumb%201\" data-click-id=\"recipe breadcrumb 1\" data-internal-referrer-link=\"recipe breadcrumb\" class=\"ng-isolate-scope\">\\n            <span itemprop=\"title\" class=\"toggle-similar__title\">\\n                Home\\n            </span>\\n            <span class=\"icon--chevron-right\"></span>\\n        </a>\\n    </li>\\n\\n        <li data-list-item=\"\" itemtype=\"http://data-vocabulary.org/Breadcrumb\" itemscope=\"\">\\n            <a itemprop=\"url\" target=\"_self\" href=\"/recipes/?internalSource=recipe%20breadcrumb&amp;referringId=10141&amp;referringContentType=recipe&amp;referringPosition=2&amp;clickId=recipe%20breadcrumb%202\" data-click-id=\"recipe breadcrumb 2\" data-internal-referrer-link=\"recipe breadcrumb\" class=\"ng-isolate-scope\">\\n                <span itemprop=\"title\" class=\"toggle-similar__title\">\\n                    Recipes\\n                </span>\\n                    <span class=\"icon--chevron-right\"></span>\\n            </a>\\n        </li>\\n        <li data-list-item=\"\" itemtype=\"http://data-vocabulary.org/Breadcrumb\" itemscope=\"\">\\n            <a itemprop=\"url\" target=\"_self\" href=\"/recipes/79/desserts/?internalSource=recipe%20breadcrumb&amp;referringId=10141&amp;referringContentType=recipe&amp;referringPosition=3&amp;clickId=recipe%20breadcrumb%203\" data-click-id=\"recipe breadcrumb 3\" data-internal-referrer-link=\"recipe breadcrumb\" class=\"ng-isolate-scope\">\\n                <span itemprop=\"title\" class=\"toggle-similar__title\">\\n                    Desserts\\n                </span>\\n                    <span class=\"icon--chevron-right\"></span>\\n            </a>\\n        </li>\\n        <li data-list-item=\"\" itemtype=\"http://data-vocabulary.org/Breadcrumb\" itemscope=\"\">\\n            <a itemprop=\"url\" target=\"_self\" href=\"/recipes/362/desserts/cookies/?internalSource=recipe%20breadcrumb&amp;referringId=10141&amp;referringContentType=recipe&amp;referringPosition=4&amp;clickId=recipe%20breadcrumb%204\" data-click-id=\"recipe breadcrumb 4\" data-internal-referrer-link=\"recipe breadcrumb\" class=\"ng-isolate-scope\">\\n                <span itemprop=\"title\" class=\"toggle-similar__title\">\\n                    Cookies\\n                </span>\\n                    <span class=\"icon--chevron-right\"></span>\\n            </a>\\n        </li>\\n        <li data-list-item=\"\" itemtype=\"http://data-vocabulary.org/Breadcrumb\" itemscope=\"\">\\n            <a itemprop=\"url\" target=\"_self\" href=\"/recipes/839/chocolate-chip-cookies/?internalSource=recipe%20breadcrumb&amp;referringId=10141&amp;referringContentType=recipe&amp;referringPosition=5&amp;clickId=recipe%20breadcrumb%205\" data-click-id=\"recipe breadcrumb 5\" data-internal-referrer-link=\"recipe breadcrumb\" class=\"ng-isolate-scope\">\\n                <span itemprop=\"title\" class=\"toggle-similar__title\">\\n                    Chocolate Chip Cookies\\n                </span>\\n            </a>\\n        </li>\\n\\n</ul>\\n\\n        <div class=\"summary-background\">\\n            <div class=\"summaryGroup clearfix\">\\n\\n\\n<section class=\"hero-photo hero-photo--downsized\">\\n    <a data-ng-show=\"showHeart\" title=\"Save this recipe\" ng-class=\"{ highlighted : saved }\" data-clicksource=\"\\'recipe hero photo\\'\" data-imageurl=\"\\'http://images.media-allrecipes.com/userphotos/250x250/3518442.jpg\\'\" data-name=\"&quot;Outrageous Chocolate Chip Cookies&quot;\" data-type=\"\\'Recipe\\'\" data-id=\"10141\" class=\"favorite ng-isolate-scope\"><span class=\"ng-binding\"></span></a>\\n\\n                <span ng-click=\"enablePlayer()\" class=\"hero-photo__image ng-scope\" ng-hide=\"showplayer\" ng-controller=\"ar_controllers_recipe_photo\">\\n                <a ng-click=\"$event.preventDefault(); openGalery(\\'/video/4393/outrageous-chocolate-chip-cookies/\\', 10141, \\'Outrageous Chocolate Chip Cookies\\', \\'http://images.media-allrecipes.com/userphotos/560x315/3518442.jpg\\')\" href=\"/video/4393/outrageous-chocolate-chip-cookies/\" target=\"_self\">\\n                    <img itemprop=\"image\" title=\"Outrageous Chocolate Chip Cookies\" alt=\"Outrageous Chocolate Chip Cookies\" src=\"http://images.media-allrecipes.com/userphotos/560x315/3518442.jpg\" class=\"rec-photo\" />\\n                </a>\\n                    <div class=\"icon-hasVideo\">\\n                        <a data-internal-referrer-link=\"picture_play\" href=\"/video/4393/outrageous-chocolate-chip-cookies/?internalSource=picture_play&amp;referringId=10141&amp;referringContentType=recipe\" id=\"btn_RecipeVideo\" class=\"ng-isolate-scope\" target=\"_self\"><span class=\"icon--videoplay\"><span class=\"watch-video-txt\">Watch</span></span></a>\\n                    </div>\\n                <a ng-click=\"$event.preventDefault(); openGalery(null, 10141, \\'Outrageous Chocolate Chip Cookies\\', \\'http://images.media-allrecipes.com/userphotos/560x315/3518442.jpg\\')\" class=\"icon-photoPage\" title=\"See Recipe Pictures\" href=\"/recipe/10141/outrageous-chocolate-chip-cookies/photos/3518442/\" target=\"_self\">\\n                    <span title=\"View Pictures\" id=\"BI_openPhotoModal2\" class=\"icon--circle\">\\n                        <span class=\"icon icon--picture\"> </span>\\n                        <span class=\"picture-count\">341</span>\\n                    </span>\\n                </a>\\n            </span>\\n        <div class=\"notification hidden\" id=\"msg-toolbar\"><span class=\"notification__message\"></span></div>\\n    <div class=\"photo-with-video\">\\n            <div itemtype=\"http://schema.org/VideoObject\" itemscope=\"\" itemprop=\"video\">\\n                <meta content=\"http://brightcove.vo.llnwd.net/d21/unsecured/media/1033249144001/201402/221/1033249144001_3153332348001_th-2955880512001.jpg?pubId=1033249144001\" itemprop=\"thumbnailUrl\" />\\n                <meta content=\"http://brightcove.vo.llnwd.net/d21/unsecured/media/1033249144001/201402/2123/1033249144001_3153301709001_video-still-for-video-2955880512001.jpg?pubId=1033249144001\" itemprop=\"image\" />\\n                <meta content=\"http://c.brightcove.com/services/viewer/federated_f9?&amp;width=640&amp;height=360&amp;flashID=myExperience1086638575001&amp;bgcolor=%23FFFFFF&amp;playerID=1094141761001&amp;playerKey=AQ~~%2CAAAA8JJyvME~%2CK4ozHF41iv1geq61oV_5IVDU4aWxAYLa&amp;wmode=transparent&amp;isVid=true&amp;isUI=true&amp;dynamicStreaming=true&amp;%40videoPlayer=2955880512001&amp;autoStart=true&amp;debuggerID=\" itemprop=\"embedUrl\" />\\n                <meta content=\"Outrageous Chocolate Chip Cookies\" itemprop=\"name\" />\\n                <meta content=\"Peanut butter, oats, and chocolate chips create an outrageous treat.\" itemprop=\"description\" />\\n                <meta content=\"27916\" itemprop=\"interactionCount\" />\\n\\n                <meta content=\"2/5/2014 1:45:24 PM\" itemprop=\"uploadDate\" />\\n            </div>\\n    </div>\\n\\n</section>\\n\\n\\n<section class=\"recipe-summary clearfix\">\\n    <meta content=\"4.69067239761353\" property=\"og:rating\" />\\n    <meta content=\"5\" property=\"og:rating_scale\" />\\n    <div class=\"recipe-summary__logo\" id=\"karma-lazy-sponsorLogo\"></div>\\n    <h1 itemprop=\"name\" class=\"recipe-summary__h1\">Outrageous Chocolate Chip Cookies</h1>\\n    <!--rating stars-->\\n    <div class=\"recipe-summary__stars\">\\n        <div data-ratingstars=\"4.69067239761353\" data-scroll-to-anchor=\"reviews\" class=\"rating-stars\">\\n        <img width=\"20\" height=\"20\" src=\"http://images.media-allrecipes.com/ar-images/icons/rating-stars/full-star-2015.svg\" />\\n        <img width=\"20\" height=\"20\" src=\"http://images.media-allrecipes.com/ar-images/icons/rating-stars/full-star-2015.svg\" />\\n        <img width=\"20\" height=\"20\" src=\"http://images.media-allrecipes.com/ar-images/icons/rating-stars/full-star-2015.svg\" />\\n        <img width=\"20\" height=\"20\" src=\"http://images.media-allrecipes.com/ar-images/icons/rating-stars/full-star-2015.svg\" />\\n        <img width=\"20\" height=\"20\" src=\"http://images.media-allrecipes.com/ar-images/icons/rating-stars/half-star-2015.svg\" />\\n</div>\\n        <span class=\"aggregate-rating\" itemtype=\"http://schema.org/AggregateRating\" itemscope=\"\" itemprop=\"aggregateRating\">\\n            <meta content=\"4.69\" itemprop=\"ratingValue\" />\\n            <meta content=\"1802\" itemprop=\"reviewCount\" />\\n        </span>\\n    </div>\\n    <!-- total made it count & read review link -->\\n    <div class=\"summary-stats-box\">\\n        <div data-ng-init=\"init(956,null)\" data-ng-controller=\"ar_controllers_recipe_summary\" data-ng-show=\"show\" class=\"total-made-it ng-scope\">\\n            <span ng-init=\"init(10141, 2, 9, \\'Recipe\\', 5, \\'MostHelpful\\')\" ng-controller=\"ar_controllers_recipe_reviews\" class=\"ng-scope\">\\n                <a target=\"_self\" ng-click=\"$event.preventDefault();reviewModalDialog(0, sortBy)\" class=\"read--reviews\">\\n                    <span ng-bind=\"totalRecipeMadeCount |largeNumberDisplay\" class=\"made-it-count ng-binding\">956</span><span>\\xa0made it</span><span>\\xa0 |\\xa0</span>\\n                    <span class=\"review-count\">1802 reviews</span>\\n                </a>\\n            </span>\\n            <span ng-hide=\"showplayer\" ng-controller=\"ar_controllers_recipe_photo\" class=\"ng-scope\">\\n                <a ng-click=\"$event.preventDefault(); openGalery(null, 10141, \\'Outrageous Chocolate Chip Cookies\\', \\'http://images.media-allrecipes.com/userphotos/560x315/3518442.jpg\\')\" class=\"icon-photoPage-link\" href=\"/recipe/10141/outrageous-chocolate-chip-cookies/photos/3518442/\" target=\"_self\">\\n                    <span>\\xa0 | \\xa0</span><span class=\"picture-count-link\">341 photos</span>\\n                </a>\\n            </span>\\n        </div>\\n    </div>\\n\\n\\n    <div class=\"submitter\">\\n        <p>\\n            <span class=\"submitter__byline\">Recipe by: </span><span itemprop=\"author\" class=\"submitter__name\">Joan</span>\\n        </p>\\n        <div itemprop=\"description\" class=\"submitter__description\">\\n\"A great combination of chocolate chips, oatmeal, and peanut butter.\"        </div>\\n    </div>\\n\\n\\n</section>\\n\\n            </div>\\n        </div>\\n        \\n<div ng-init=\"init(10141, \\'Recipe\\')\" ng-controller=\"ar_controllers_recipe_toolbar\" class=\"ng-scope\">\\n    <div ng-show=\"(yTrigger == true) &amp;&amp; (saved == false)\" data-show-on-scroll=\"700\" class=\"dropdown-heart ng-hide\">\\n        <a ng-click=\"saveOnClick(10141, \\'Recipe\\',&quot;Outrageous Chocolate Chip Cookies&quot;,\\'http://images.media-allrecipes.com/userphotos/250x250/3518442.jpg\\')\" class=\"save-on-click\" href=\"\">\\n            <span class=\"svg-icon--recipe-navbar--heart_off svg-icon--recipe-navbar--heart_off-dims\"></span>\\n            <span>Save to favorites</span>\\n        </a>\\n    </div>\\n    <section class=\"recipe-navbar\">\\n        <a ng-click=\"saveOnClick(10141, \\'Recipe\\',&quot;Outrageous Chocolate Chip Cookies&quot;,\\'http://images.media-allrecipes.com/userphotos/250x250/3518442.jpg\\')\" class=\"save-on-click\" href=\"\">\\n            <div on=\"saved\" ng-switch=\"\">\\n                <!-- ngSwitchWhen: true -->\\n                <!-- ngSwitchWhen: false --><div ng-switch-when=\"false\" class=\"ng-scope\">\\n                    <span class=\"svg-icon--recipe-navbar--heart_off svg-icon--recipe-navbar--heart_off-dims\"></span>\\n                    <span>Save</span>\\n                </div><!-- end ngSwitchWhen: -->\\n            </div>\\n        </a>\\n        <a ng-click=\"madeItClick()\" href=\"\">\\n            <span class=\"svg-icon--recipe-navbar--i_made_it svg-icon--recipe-navbar--i_made_it-dims\"></span>\\n            <span>I Made It</span>\\n        </a>\\n        <a ng-click=\"rateItOnClick(false)\" class=\"rate-on-click\" href=\"\">\\n            <span class=\"svg-icon--recipe-navbar--rate svg-icon--recipe-navbar--rate-dims\"></span>\\n            <span>Rate it</span>\\n        </a>\\n        <a hidewhenclicked=\"\" ng-click=\"openShareModal({&quot;RecipeId&quot;:10141,&quot;IsLoggedIn&quot;:false,&quot;PinterestUrl&quot;:&quot;http://pinterest.com/pin/create/button/?url=http://allrecipes.com/recipe/10141/outrageous-chocolate-chip-cookies/?lnkid=usspnt\\\\u0026media=http://images.media-allrecipes.com/userphotos/250x250/3518442.jpg\\\\u0026description=Outrageous%20Chocolate%20Chip%20Cookies%20-%20Allrecipes.com&quot;,&quot;FacebookUrl&quot;:&quot;https://facebook.com/sharer.php?u=http://allrecipes.com/recipe/10141/outrageous-chocolate-chip-cookies/?lnkid=ussfac&quot;,&quot;TwitterUrl&quot;:&quot;https://twitter.com/intent/tweet?url=http://allrecipes.com/recipe/10141/outrageous-chocolate-chip-cookies/?lnkid=usstwt\\\\u0026text=Outrageous%20Chocolate%20Chip%20Cookies%20-%20Allrecipes.com\\\\u0026via=Allrecipes&quot;,&quot;GooglePlusUrl&quot;:&quot;https://plus.google.com/share?url=http://allrecipes.com/recipe/10141/outrageous-chocolate-chip-cookies/?lnkid=ussgog&quot;,&quot;StumbleUpon&quot;:&quot;https://www.stumbleupon.com/submit?url=http://allrecipes.com/recipe/10141/outrageous-chocolate-chip-cookies/?lnkid=usssup&quot;,&quot;ImageUrl&quot;:&quot;http://images.media-allrecipes.com/userphotos/250x250/3518442.jpg&quot;,&quot;Title&quot;:&quot;Outrageous%20Chocolate%20Chip%20Cookies%20-%20Allrecipes.com&quot;,&quot;ShareSectionTitle&quot;:null})\" href=\"\">\\n            <span class=\"icon svg-icon--recipe-navbar--share svg-icon--recipe-navbar--share-dims\"></span>\\n            <span>Share</span>\\n        </a>\\n        <a ng-href=\"print/?recipeType=Recipe&amp;servings=18\" id=\"print-recipe\" target=\"_self\" href=\"print/?recipeType=Recipe&amp;servings=18\">\\n            <span class=\"svg-icon--recipe-navbar--print svg-icon--recipe-navbar--print-dims\"></span>\\n            <span>Print</span>\\n        </a>\\n    </section>\\n</div>\\n\\n        <div class=\"ad-recipe-page-middle-container ad-mobile-only reserve-ad-space\" data-ad-container-autocollapse=\"\">\\n    <div class=\"ad-recipe-page-middle-2\" id=\"ad-recipepagemiddle-2\">\\n        <div data-tier=\"1\" id=\"div-gpt-mob-square-fixed-1\" data-google-query-id=\"CJ6plsSe89ICFdN-YgodSrkGCg\"><div id=\"google_ads_iframe_3865/ar.mdp.mob/tier1/recipe/cookie_0__container__\" style=\"border: 0pt none;\"><iframe width=\"300\" height=\"250\" frameborder=\"0\" id=\"google_ads_iframe_3865/ar.mdp.mob/tier1/recipe/cookie_0\" title=\"3rd party ad content\" name=\"google_ads_iframe_3865/ar.mdp.mob/tier1/recipe/cookie_0\" scrolling=\"no\" marginwidth=\"0\" marginheight=\"0\" style=\"border: 0px none; vertical-align: bottom; display: none;\" srcdoc=\"\"></iframe><div class=\"celtra-ad-v3\" style=\"z-index: 1000; position: relative; min-height: 699px;\"><div style=\"overflow: hidden; display: block; background: rgb(255, 255, 255) none repeat scroll 0% 0%; width: 635px; height: 699px; position: absolute; left: 0px; right: auto; top: 0px; bottom: auto;\"><div style=\"background: rgb(0, 0, 0) none repeat scroll 0% 0%; color: rgb(255, 255, 255); position: absolute; z-index: 4; top: 0px; left: 0px; right: 0px; margin: 0px; padding: 5px; text-align: center; text-transform: uppercase; font: 10px/10px Helvetica,Arial,sans-serif; box-shadow: 0px 1px 10px black;\" class=\"celtra-advertisement-message\">Advertisement</div>\\n<div class=\"celtra-clipper\" style=\"position: absolute; top: 0px; left: 0px; width: 100%; height: 100%; margin: 0px; padding: 0px; overflow: hidden; clip: rect(0px, auto, auto, 0px);\">\\n    <div class=\"celtra-content\" style=\"position: fixed; top: auto; left: 0px; width: 100%; height: 100%; margin: 0px; padding: 0px; bottom: 0px;\">\\n    <div style=\"overflow: hidden; display: block; width: 635px; height: 699px; position: absolute; left: 0px; right: auto; top: 0px; bottom: auto;\"><iframe width=\"635\" height=\"699\" frameborder=\"0\" style=\"border: 0px none; display: block; width: 635px; height: 699px;\" scrolling=\"no\" allowfullscreen=\"\"></iframe></div></div>\\n</div>\\n<div style=\"background: rgb(0, 0, 0) none repeat scroll 0% 0%; color: rgb(255, 255, 255); position: absolute; z-index: 3; bottom: 0px; left: 0px; right: 0px; margin: 0px; padding: 5px; text-align: center; text-transform: uppercase; font: 10px/10px Helvetica,Arial,sans-serif; box-shadow: 0px -1px 10px black;\" class=\"celtra-scroll-message\">Scroll to continue with content</div></div></div></div></div>\\n    </div>\\n    <span class=\"advertisement\">ADVERTISEMENT</span>\\n</div>\\n\\n\\n        <section ng-init=\"init(18,10141,\\'Recipe\\',0, \\'Outrageous Chocolate Chip Cookies\\')\" ng-controller=\"ar_controllers_recipe_ingredient\" class=\"recipe-ingredients ng-scope\">\\n    <div class=\"ng-hide\" id=\"msg-add-to-shoppinglist\">\\n        <span>Added to shopping list.</span>\\n        <a href=\"\">Go to shopping list.</a>\\n    </div>\\n    <h2 class=\"heading__h2--gutters recipe-ingredients__header\">Ingredients</h2>\\n<span class=\"recipe-ingredients__header__toggles\">\\n        <span class=\"ready-in-time__container\">\\n            <span class=\"ready-in-time\">25 m</span>\\n            <span class=\"icon--stats-clock\"></span>\\n        </span>\\n\\n    <meta content=\"18\" itemprop=\"recipeYield\" id=\"metaRecipeServings\" />\\n\\n    <a popup-trigger=\"servingsSection\" id=\"servings-button\" href=\"\">\\n        <span ng-class=\"{\\'active\\': servingsSection_showing}\" class=\"servings-count\"><span ng-bind=\"adjustedServings\" class=\"ng-binding\">18</span><span ng-class=\"{\\'active\\': servingsSection_showing}\" class=\"servings-count__desc\"> servings</span></span>\\n\\n        <span ng-class=\"{\\'active\\': servingsSection_showing}\" class=\"icon--adjust-servings\"></span>\\n    </a>\\n\\n        <a popup-trigger=\"nutritionSection\" id=\"nutrition-button\" href=\"\">\\n            <span ng-class=\"{\\'active\\': nutritionSection_showing}\" class=\"calorie-count\"><span>207</span> <span ng-class=\"{\\'active\\': nutritionSection_showing}\" class=\"calorie-count__desc\"> cals</span></span>\\n            <span ng-class=\"{\\'active\\': nutritionSection_showing}\" class=\"icon--nutrition-info\"></span>\\n        </a>\\n</span>\\n    <section ignore-global=\"true\" popup-panel=\"servingsSection\" ng-class=\"isServingsPopup ? \\'nav-tab\\' : \\'\\'\" class=\"adjustServings panel ng-hide\" id=\"567f7878-89e9-4df3-bbf6-e055e55a33a6\">\\n\\t<div style=\"display:none;\" id=\"msg-scale\">for serving adjustment</div>\\n\\t<div style=\"display:none;\" class=\"\">Serving size has been adjusted!</div>\\n\\t<div class=\"subtext\">Original recipe yields 18 servings</div> \\n\\n    <ul class=\"adjust-servings__form\">\\n        <li>\\n            <input type=\"number\" ng-blur=\"showAds()\" ng-focus=\"hideAds()\" data-original=\"18\" value=\"18\" max=\"300\" min=\"0\" class=\"ng-pristine ng-untouched ng-valid ng-valid-min ng-valid-max\" id=\"servings\" data-role=\"none\" name=\"servings\" ng-model=\"servings\" />\\n            <a id=\"btn-adjust\" ng-click=\"getIngredients(10141,\\'Recipe\\', true)\" href=\"\" class=\"btns-one-small\">Adjust</a>\\n        </li>\\n        <li class=\"adjust-servings__select\">\\n            <label class=\"radio-lbl\">\\n                <input type=\"radio\" ng-model=\"isMetric\" ng-value=\"false\" checked=\"checked\" name=\"isMetric\" data-role=\"none\" class=\"ng-pristine ng-untouched ng-valid\" value=\"false\" /><span></span>\\n              \\n            </label>\\n            <span class=\"measurement-title\">US</span>\\n        </li>\\n        <li class=\"adjust-servings__select\">\\n            <label class=\"radio-lbl\">\\n                <input type=\"radio\" ng-model=\"isMetric\" ng-value=\"true\" name=\"isMetric\" data-role=\"none\" class=\"ng-pristine ng-untouched ng-valid\" value=\"true\" /><span></span>              \\n            </label>\\n            <span class=\"measurement-title\">Metric</span>\\n        </li>\\n    </ul>\\n\\t<div style=\"display:none;\" id=\"msg-directions\">Note:  Recipe directions are for original size.</div>\\n</section>\\n\\n    <section ignore-global=\"true\" popup-panel=\"nutritionSection\" ng-class=\"isNutritionPopup ? \\'nav-tab\\' : \\'\\'\" class=\"ng-hide recipe-nutrition panel\" id=\"52e29e90-81ff-42c0-8447-1a914370f846\">\\n\\n        <div ng-show=\"fullNutrition===false\" itemtype=\"http://schema.org/NutritionInformation\" itemscope=\"\" itemprop=\"nutrition\" class=\"recipe-nutrition__form\">\\n            <h3>Nutrition</h3>\\n            <p ng-bind=\"\\'Amount per serving (\\' + servings + \\' total)\\'\" class=\"ng-binding\">Amount per serving (18 total)</p>\\n            <ul class=\"nutrientLine\">\\n                <li class=\"nutrientLine__item\">Calories:</li>\\n                <li itemprop=\"calories\" class=\"nutrientLine__item--amount\"><span>207</span> kcal</li>\\n                <li class=\"nutrientLine__item--grid\">\\n                    <div class=\"nutriRating\">\\n                        <div style=\"width: 10%;\" class=\"nutriGradient\"></div>\\n                    </div>\\n                </li>\\n                <li class=\"nutrientLine__item--percent\">10%</li>\\n            </ul>\\n            <ul class=\"nutrientLine\">\\n                <li class=\"nutrientLine__item\">Fat: </li>\\n                <li itemprop=\"fatContent\" class=\"nutrientLine__item--amount\"><span>12</span> g</li>\\n                <li class=\"nutrientLine__item--grid\">\\n                    <div class=\"nutriRating\">\\n                        <div style=\"width: 18%;\" class=\"nutriGradient\"></div>\\n                    </div>\\n                </li>\\n                <li class=\"nutrientLine__item--percent\">18%</li>\\n            </ul>\\n            <ul class=\"nutrientLine\">\\n                <li class=\"nutrientLine__item\">Carbs: </li>\\n                <li itemprop=\"carbohydrateContent\" class=\"nutrientLine__item--amount\"><span>23.7</span>g</li>\\n                <li class=\"nutrientLine__item--grid\">\\n                    <div class=\"nutriRating\">\\n                        <div style=\"width: 8%;\" class=\"nutriGradient\"></div>\\n                    </div>\\n                </li>\\n                <li class=\"nutrientLine__item--percent\">8%</li>\\n            </ul>\\n            <ul class=\"nutrientLine\">\\n                <li class=\"nutrientLine__item\">Protein: </li>\\n                <li itemprop=\"proteinContent\" class=\"nutrientLine__item--amount\"><span>3.6</span> g</li>\\n                <li class=\"nutrientLine__item--grid\">\\n                    <div class=\"nutriRating\">\\n                        <div style=\"width: 7%;\" class=\"nutriGradient\"></div>\\n                    </div>\\n                </li>\\n                <li class=\"nutrientLine__item--percent\">7%</li>\\n            </ul>\\n            <ul class=\"nutrientLine\">\\n                <li class=\"nutrientLine__item\">Cholesterol: </li>\\n                <li itemprop=\"cholesterolContent\" class=\"nutrientLine__item--amount\"><span>24</span> mg</li>\\n                <li class=\"nutrientLine__item--grid\">\\n                    <div class=\"nutriRating\">\\n                        <div style=\"width: 8%;\" class=\"nutriGradient\"></div>\\n                    </div>\\n                </li>\\n                <li class=\"nutrientLine__item--percent\">8%</li>\\n            </ul>\\n            <ul class=\"nutrientLine\">\\n                <li>Sodium: </li>\\n                <li itemprop=\"sodiumContent\" class=\"nutrientLine__item--amount\"><span>178</span> mg</li>\\n                <li class=\"nutrientLine__item--grid\">\\n                    <div class=\"nutriRating\">\\n                        <div style=\"width: 7%;\" class=\"nutriGradient\"></div>\\n                    </div>\\n                </li>\\n                <li class=\"nutrientLine__item--percent\">7%</li>\\n            </ul>\\n            <p class=\"recipe-nutrition__blurb\">Based on a 2,000 calorie diet</p>\\n            <a ng-click=\"showFullNutrition()\" class=\"btns-one-small\" href=\"\">See full nutrition</a>\\n        </div>\\n\\n        <div ng-show=\"fullNutrition===true\" itemtype=\"http://schema.org/NutritionInformation\" itemscope=\"\" itemprop=\"nutrition\" class=\"recipe-nutrition__form ng-hide\">\\n            <!-- DETAILED NUTRITION -->\\n            <div class=\"fullNutrition\" id=\"nutritiontable\">\\n\\n                <h3>Nutritional Information</h3>\\n                <p ng-bind=\"::title\" class=\"recipe-title ng-binding\">Outrageous Chocolate Chip Cookies</p>\\n                <div class=\"top light-underline\">\\n                    1 Serving <br />\\n                    Servings Per Recipe: <span ng-bind=\"servings\" class=\"ng-binding\">18</span><br />\\n                    <strong>Amount Per Serving</strong><br />\\n                    <div class=\"nutrition-line-container ng-isolate-scope\" plainname=\"true\" hidepercent=\"true\" hideunits=\"true\" nutrient=\"::nutrition.calories\"> <span ng-hide=\"nutrient.hasCompleteData===true\">** </span> <span ng-class=\"::(plainname===\\'true\\' ? \\'plain\\' : \\'bold\\')\" ng-bind=\"::nutrient.name\" class=\"ng-binding bold\"></span><span>:</span> <span class=\"value\"> <span ng-class=\"::(boldvalue===\\'true\\' ? \\'bold\\' : \\'plain\\')\" ng-bind=\"nutrient.displayValue + (hideunits ? \\'\\' : nutrient.unit)\" class=\"ng-binding plain\"></span> </span> <span class=\"pull-right ng-hide\" ng-hide=\"::(hidepercent || nutrient.percentDailyValue===\\'0\\')\">%</span><span class=\"pull-right ng-binding ng-hide\" ng-hide=\"::(hidepercent || nutrient.percentDailyValue===\\'0\\')\" ng-bind=\"::nutrient.percentDailyValue\"></span> </div>\\n                    <div class=\"nutrition-line-container ng-isolate-scope\" plainname=\"true\" hidepercent=\"true\" hideunits=\"true\" boldvalue=\"true\" nutrient=\"::nutrition.caloriesFromFat\"> <span ng-hide=\"nutrient.hasCompleteData===true\">** </span> <span ng-class=\"::(plainname===\\'true\\' ? \\'plain\\' : \\'bold\\')\" ng-bind=\"::nutrient.name\" class=\"ng-binding bold\"></span><span>:</span> <span class=\"value\"> <span ng-class=\"::(boldvalue===\\'true\\' ? \\'bold\\' : \\'plain\\')\" ng-bind=\"nutrient.displayValue + (hideunits ? \\'\\' : nutrient.unit)\" class=\"ng-binding plain\"></span> </span> <span class=\"pull-right ng-hide\" ng-hide=\"::(hidepercent || nutrient.percentDailyValue===\\'0\\')\">%</span><span class=\"pull-right ng-binding ng-hide\" ng-hide=\"::(hidepercent || nutrient.percentDailyValue===\\'0\\')\" ng-bind=\"::nutrient.percentDailyValue\"></span> </div>\\n\\n                </div>\\n                <div class=\"daily-value-container bold-underline\">\\n                    <label class=\"daily-value\">% Daily Value *</label>\\n                </div>\\n                <ul class=\"nutrDetList bold-underline\">\\n                    <li class=\"light-underline\">\\n                        <div class=\"nutrition-line-container ng-isolate-scope\" nutrient=\"::nutrition.fat\"> <span ng-hide=\"nutrient.hasCompleteData===true\">** </span> <span ng-class=\"::(plainname===\\'true\\' ? \\'plain\\' : \\'bold\\')\" ng-bind=\"::nutrient.name\" class=\"ng-binding bold\"></span><span>:</span> <span class=\"value\"> <span ng-class=\"::(boldvalue===\\'true\\' ? \\'bold\\' : \\'plain\\')\" ng-bind=\"nutrient.displayValue + (hideunits ? \\'\\' : nutrient.unit)\" class=\"ng-binding plain\"></span> </span> <span class=\"pull-right ng-hide\" ng-hide=\"::(hidepercent || nutrient.percentDailyValue===\\'0\\')\">%</span><span class=\"pull-right ng-binding ng-hide\" ng-hide=\"::(hidepercent || nutrient.percentDailyValue===\\'0\\')\" ng-bind=\"::nutrient.percentDailyValue\"></span> </div>\\n                    </li>\\n                    <li class=\"indent light-underline\">\\n                        <div class=\"nutrition-line-container ng-isolate-scope\" nutrient=\"::nutrition.saturatedFat\"> <span ng-hide=\"nutrient.hasCompleteData===true\">** </span> <span ng-class=\"::(plainname===\\'true\\' ? \\'plain\\' : \\'bold\\')\" ng-bind=\"::nutrient.name\" class=\"ng-binding bold\"></span><span>:</span> <span class=\"value\"> <span ng-class=\"::(boldvalue===\\'true\\' ? \\'bold\\' : \\'plain\\')\" ng-bind=\"nutrient.displayValue + (hideunits ? \\'\\' : nutrient.unit)\" class=\"ng-binding plain\"></span> </span> <span class=\"pull-right ng-hide\" ng-hide=\"::(hidepercent || nutrient.percentDailyValue===\\'0\\')\">%</span><span class=\"pull-right ng-binding ng-hide\" ng-hide=\"::(hidepercent || nutrient.percentDailyValue===\\'0\\')\" ng-bind=\"::nutrient.percentDailyValue\"></span> </div>\\n                    </li>\\n                    <li class=\"light-underline\">\\n                        <div class=\"nutrition-line-container ng-isolate-scope\" nutrient=\"::nutrition.cholesterol\"> <span ng-hide=\"nutrient.hasCompleteData===true\">** </span> <span ng-class=\"::(plainname===\\'true\\' ? \\'plain\\' : \\'bold\\')\" ng-bind=\"::nutrient.name\" class=\"ng-binding bold\"></span><span>:</span> <span class=\"value\"> <span ng-class=\"::(boldvalue===\\'true\\' ? \\'bold\\' : \\'plain\\')\" ng-bind=\"nutrient.displayValue + (hideunits ? \\'\\' : nutrient.unit)\" class=\"ng-binding plain\"></span> </span> <span class=\"pull-right ng-hide\" ng-hide=\"::(hidepercent || nutrient.percentDailyValue===\\'0\\')\">%</span><span class=\"pull-right ng-binding ng-hide\" ng-hide=\"::(hidepercent || nutrient.percentDailyValue===\\'0\\')\" ng-bind=\"::nutrient.percentDailyValue\"></span> </div>\\n                    </li>\\n                    <li class=\"light-underline\">\\n                        <div class=\"nutrition-line-container ng-isolate-scope\" nutrient=\"::nutrition.sodium\"> <span ng-hide=\"nutrient.hasCompleteData===true\">** </span> <span ng-class=\"::(plainname===\\'true\\' ? \\'plain\\' : \\'bold\\')\" ng-bind=\"::nutrient.name\" class=\"ng-binding bold\"></span><span>:</span> <span class=\"value\"> <span ng-class=\"::(boldvalue===\\'true\\' ? \\'bold\\' : \\'plain\\')\" ng-bind=\"nutrient.displayValue + (hideunits ? \\'\\' : nutrient.unit)\" class=\"ng-binding plain\"></span> </span> <span class=\"pull-right ng-hide\" ng-hide=\"::(hidepercent || nutrient.percentDailyValue===\\'0\\')\">%</span><span class=\"pull-right ng-binding ng-hide\" ng-hide=\"::(hidepercent || nutrient.percentDailyValue===\\'0\\')\" ng-bind=\"::nutrient.percentDailyValue\"></span> </div>\\n                    </li>\\n                    <li class=\"light-underline\">\\n                        <div class=\"nutrition-line-container ng-isolate-scope\" nutrient=\"::nutrition.carbohydrates\"> <span ng-hide=\"nutrient.hasCompleteData===true\">** </span> <span ng-class=\"::(plainname===\\'true\\' ? \\'plain\\' : \\'bold\\')\" ng-bind=\"::nutrient.name\" class=\"ng-binding bold\"></span><span>:</span> <span class=\"value\"> <span ng-class=\"::(boldvalue===\\'true\\' ? \\'bold\\' : \\'plain\\')\" ng-bind=\"nutrient.displayValue + (hideunits ? \\'\\' : nutrient.unit)\" class=\"ng-binding plain\"></span> </span> <span class=\"pull-right ng-hide\" ng-hide=\"::(hidepercent || nutrient.percentDailyValue===\\'0\\')\">%</span><span class=\"pull-right ng-binding ng-hide\" ng-hide=\"::(hidepercent || nutrient.percentDailyValue===\\'0\\')\" ng-bind=\"::nutrient.percentDailyValue\"></span> </div>\\n                    </li>\\n                    <li class=\"indent light-underline\">\\n                        <div class=\"nutrition-line-container ng-isolate-scope\" nutrient=\"::nutrition.sugars\"> <span ng-hide=\"nutrient.hasCompleteData===true\">** </span> <span ng-class=\"::(plainname===\\'true\\' ? \\'plain\\' : \\'bold\\')\" ng-bind=\"::nutrient.name\" class=\"ng-binding bold\"></span><span>:</span> <span class=\"value\"> <span ng-class=\"::(boldvalue===\\'true\\' ? \\'bold\\' : \\'plain\\')\" ng-bind=\"nutrient.displayValue + (hideunits ? \\'\\' : nutrient.unit)\" class=\"ng-binding plain\"></span> </span> <span class=\"pull-right ng-hide\" ng-hide=\"::(hidepercent || nutrient.percentDailyValue===\\'0\\')\">%</span><span class=\"pull-right ng-binding ng-hide\" ng-hide=\"::(hidepercent || nutrient.percentDailyValue===\\'0\\')\" ng-bind=\"::nutrient.percentDailyValue\"></span> </div>\\n                    </li>\\n                    <li class=\"indent light-underline\">\\n                        <div class=\"nutrition-line-container ng-isolate-scope\" nutrient=\"::nutrition.fiber\"> <span ng-hide=\"nutrient.hasCompleteData===true\">** </span> <span ng-class=\"::(plainname===\\'true\\' ? \\'plain\\' : \\'bold\\')\" ng-bind=\"::nutrient.name\" class=\"ng-binding bold\"></span><span>:</span> <span class=\"value\"> <span ng-class=\"::(boldvalue===\\'true\\' ? \\'bold\\' : \\'plain\\')\" ng-bind=\"nutrient.displayValue + (hideunits ? \\'\\' : nutrient.unit)\" class=\"ng-binding plain\"></span> </span> <span class=\"pull-right ng-hide\" ng-hide=\"::(hidepercent || nutrient.percentDailyValue===\\'0\\')\">%</span><span class=\"pull-right ng-binding ng-hide\" ng-hide=\"::(hidepercent || nutrient.percentDailyValue===\\'0\\')\" ng-bind=\"::nutrient.percentDailyValue\"></span> </div>\\n                    </li>\\n                    <li class=\"light-underline\">\\n                        <div class=\"nutrition-line-container ng-isolate-scope\" nutrient=\"::nutrition.protein\"> <span ng-hide=\"nutrient.hasCompleteData===true\">** </span> <span ng-class=\"::(plainname===\\'true\\' ? \\'plain\\' : \\'bold\\')\" ng-bind=\"::nutrient.name\" class=\"ng-binding bold\"></span><span>:</span> <span class=\"value\"> <span ng-class=\"::(boldvalue===\\'true\\' ? \\'bold\\' : \\'plain\\')\" ng-bind=\"nutrient.displayValue + (hideunits ? \\'\\' : nutrient.unit)\" class=\"ng-binding plain\"></span> </span> <span class=\"pull-right ng-hide\" ng-hide=\"::(hidepercent || nutrient.percentDailyValue===\\'0\\')\">%</span><span class=\"pull-right ng-binding ng-hide\" ng-hide=\"::(hidepercent || nutrient.percentDailyValue===\\'0\\')\" ng-bind=\"::nutrient.percentDailyValue\"></span> </div>\\n                    </li>\\n                    <li class=\"light-underline\">\\n                        <div class=\"nutrition-line-container ng-isolate-scope\" nutrient=\"::nutrition.vitaminA\"> <span ng-hide=\"nutrient.hasCompleteData===true\">** </span> <span ng-class=\"::(plainname===\\'true\\' ? \\'plain\\' : \\'bold\\')\" ng-bind=\"::nutrient.name\" class=\"ng-binding bold\"></span><span>:</span> <span class=\"value\"> <span ng-class=\"::(boldvalue===\\'true\\' ? \\'bold\\' : \\'plain\\')\" ng-bind=\"nutrient.displayValue + (hideunits ? \\'\\' : nutrient.unit)\" class=\"ng-binding plain\"></span> </span> <span class=\"pull-right ng-hide\" ng-hide=\"::(hidepercent || nutrient.percentDailyValue===\\'0\\')\">%</span><span class=\"pull-right ng-binding ng-hide\" ng-hide=\"::(hidepercent || nutrient.percentDailyValue===\\'0\\')\" ng-bind=\"::nutrient.percentDailyValue\"></span> </div>\\n                    </li>\\n                    <li class=\"light-underline\">\\n                        <div class=\"nutrition-line-container ng-isolate-scope\" nutrient=\"::nutrition.vitaminC\"> <span ng-hide=\"nutrient.hasCompleteData===true\">** </span> <span ng-class=\"::(plainname===\\'true\\' ? \\'plain\\' : \\'bold\\')\" ng-bind=\"::nutrient.name\" class=\"ng-binding bold\"></span><span>:</span> <span class=\"value\"> <span ng-class=\"::(boldvalue===\\'true\\' ? \\'bold\\' : \\'plain\\')\" ng-bind=\"nutrient.displayValue + (hideunits ? \\'\\' : nutrient.unit)\" class=\"ng-binding plain\"></span> </span> <span class=\"pull-right ng-hide\" ng-hide=\"::(hidepercent || nutrient.percentDailyValue===\\'0\\')\">%</span><span class=\"pull-right ng-binding ng-hide\" ng-hide=\"::(hidepercent || nutrient.percentDailyValue===\\'0\\')\" ng-bind=\"::nutrient.percentDailyValue\"></span> </div>\\n                    </li>\\n                    <li class=\"light-underline\">\\n                        <div class=\"nutrition-line-container ng-isolate-scope\" nutrient=\"::nutrition.calcium\"> <span ng-hide=\"nutrient.hasCompleteData===true\">** </span> <span ng-class=\"::(plainname===\\'true\\' ? \\'plain\\' : \\'bold\\')\" ng-bind=\"::nutrient.name\" class=\"ng-binding bold\"></span><span>:</span> <span class=\"value\"> <span ng-class=\"::(boldvalue===\\'true\\' ? \\'bold\\' : \\'plain\\')\" ng-bind=\"nutrient.displayValue + (hideunits ? \\'\\' : nutrient.unit)\" class=\"ng-binding plain\"></span> </span> <span class=\"pull-right ng-hide\" ng-hide=\"::(hidepercent || nutrient.percentDailyValue===\\'0\\')\">%</span><span class=\"pull-right ng-binding ng-hide\" ng-hide=\"::(hidepercent || nutrient.percentDailyValue===\\'0\\')\" ng-bind=\"::nutrient.percentDailyValue\"></span> </div>\\n                    </li>\\n                    <li class=\"light-underline\">\\n                        <div class=\"nutrition-line-container ng-isolate-scope\" nutrient=\"::nutrition.iron\"> <span ng-hide=\"nutrient.hasCompleteData===true\">** </span> <span ng-class=\"::(plainname===\\'true\\' ? \\'plain\\' : \\'bold\\')\" ng-bind=\"::nutrient.name\" class=\"ng-binding bold\"></span><span>:</span> <span class=\"value\"> <span ng-class=\"::(boldvalue===\\'true\\' ? \\'bold\\' : \\'plain\\')\" ng-bind=\"nutrient.displayValue + (hideunits ? \\'\\' : nutrient.unit)\" class=\"ng-binding plain\"></span> </span> <span class=\"pull-right ng-hide\" ng-hide=\"::(hidepercent || nutrient.percentDailyValue===\\'0\\')\">%</span><span class=\"pull-right ng-binding ng-hide\" ng-hide=\"::(hidepercent || nutrient.percentDailyValue===\\'0\\')\" ng-bind=\"::nutrient.percentDailyValue\"></span> </div>\\n                    </li>\\n                    <li class=\"light-underline\">\\n                        <div class=\"nutrition-line-container ng-isolate-scope\" nutrient=\"::nutrition.potassium\"> <span ng-hide=\"nutrient.hasCompleteData===true\">** </span> <span ng-class=\"::(plainname===\\'true\\' ? \\'plain\\' : \\'bold\\')\" ng-bind=\"::nutrient.name\" class=\"ng-binding bold\"></span><span>:</span> <span class=\"value\"> <span ng-class=\"::(boldvalue===\\'true\\' ? \\'bold\\' : \\'plain\\')\" ng-bind=\"nutrient.displayValue + (hideunits ? \\'\\' : nutrient.unit)\" class=\"ng-binding plain\"></span> </span> <span class=\"pull-right ng-hide\" ng-hide=\"::(hidepercent || nutrient.percentDailyValue===\\'0\\')\">%</span><span class=\"pull-right ng-binding ng-hide\" ng-hide=\"::(hidepercent || nutrient.percentDailyValue===\\'0\\')\" ng-bind=\"::nutrient.percentDailyValue\"></span> </div>\\n                    </li>\\n                    <li class=\"light-underline\">\\n                        <div class=\"nutrition-line-container ng-isolate-scope\" nutrient=\"::nutrition.thiamin\"> <span ng-hide=\"nutrient.hasCompleteData===true\">** </span> <span ng-class=\"::(plainname===\\'true\\' ? \\'plain\\' : \\'bold\\')\" ng-bind=\"::nutrient.name\" class=\"ng-binding bold\"></span><span>:</span> <span class=\"value\"> <span ng-class=\"::(boldvalue===\\'true\\' ? \\'bold\\' : \\'plain\\')\" ng-bind=\"nutrient.displayValue + (hideunits ? \\'\\' : nutrient.unit)\" class=\"ng-binding plain\"></span> </span> <span class=\"pull-right ng-hide\" ng-hide=\"::(hidepercent || nutrient.percentDailyValue===\\'0\\')\">%</span><span class=\"pull-right ng-binding ng-hide\" ng-hide=\"::(hidepercent || nutrient.percentDailyValue===\\'0\\')\" ng-bind=\"::nutrient.percentDailyValue\"></span> </div>\\n                    </li>\\n                    <li class=\"light-underline\">\\n                        <div class=\"nutrition-line-container ng-isolate-scope\" nutrient=\"::nutrition.niacin\"> <span ng-hide=\"nutrient.hasCompleteData===true\">** </span> <span ng-class=\"::(plainname===\\'true\\' ? \\'plain\\' : \\'bold\\')\" ng-bind=\"::nutrient.name\" class=\"ng-binding bold\"></span><span>:</span> <span class=\"value\"> <span ng-class=\"::(boldvalue===\\'true\\' ? \\'bold\\' : \\'plain\\')\" ng-bind=\"nutrient.displayValue + (hideunits ? \\'\\' : nutrient.unit)\" class=\"ng-binding plain\"></span> </span> <span class=\"pull-right ng-hide\" ng-hide=\"::(hidepercent || nutrient.percentDailyValue===\\'0\\')\">%</span><span class=\"pull-right ng-binding ng-hide\" ng-hide=\"::(hidepercent || nutrient.percentDailyValue===\\'0\\')\" ng-bind=\"::nutrient.percentDailyValue\"></span> </div>\\n                    </li>\\n                    <li class=\"light-underline\">\\n                        <div class=\"nutrition-line-container ng-isolate-scope\" nutrient=\"::nutrition.vitaminB6\"> <span ng-hide=\"nutrient.hasCompleteData===true\">** </span> <span ng-class=\"::(plainname===\\'true\\' ? \\'plain\\' : \\'bold\\')\" ng-bind=\"::nutrient.name\" class=\"ng-binding bold\"></span><span>:</span> <span class=\"value\"> <span ng-class=\"::(boldvalue===\\'true\\' ? \\'bold\\' : \\'plain\\')\" ng-bind=\"nutrient.displayValue + (hideunits ? \\'\\' : nutrient.unit)\" class=\"ng-binding plain\"></span> </span> <span class=\"pull-right ng-hide\" ng-hide=\"::(hidepercent || nutrient.percentDailyValue===\\'0\\')\">%</span><span class=\"pull-right ng-binding ng-hide\" ng-hide=\"::(hidepercent || nutrient.percentDailyValue===\\'0\\')\" ng-bind=\"::nutrient.percentDailyValue\"></span> </div>\\n                    </li>\\n                    <li class=\"light-underline\">\\n                        <div class=\"nutrition-line-container ng-isolate-scope\" nutrient=\"::nutrition.magnesium\"> <span ng-hide=\"nutrient.hasCompleteData===true\">** </span> <span ng-class=\"::(plainname===\\'true\\' ? \\'plain\\' : \\'bold\\')\" ng-bind=\"::nutrient.name\" class=\"ng-binding bold\"></span><span>:</span> <span class=\"value\"> <span ng-class=\"::(boldvalue===\\'true\\' ? \\'bold\\' : \\'plain\\')\" ng-bind=\"nutrient.displayValue + (hideunits ? \\'\\' : nutrient.unit)\" class=\"ng-binding plain\"></span> </span> <span class=\"pull-right ng-hide\" ng-hide=\"::(hidepercent || nutrient.percentDailyValue===\\'0\\')\">%</span><span class=\"pull-right ng-binding ng-hide\" ng-hide=\"::(hidepercent || nutrient.percentDailyValue===\\'0\\')\" ng-bind=\"::nutrient.percentDailyValue\"></span> </div>\\n                    </li>\\n                    <li>\\n                        <div class=\"nutrition-line-container ng-isolate-scope\" nutrient=\"::nutrition.folate\"> <span ng-hide=\"nutrient.hasCompleteData===true\">** </span> <span ng-class=\"::(plainname===\\'true\\' ? \\'plain\\' : \\'bold\\')\" ng-bind=\"::nutrient.name\" class=\"ng-binding bold\"></span><span>:</span> <span class=\"value\"> <span ng-class=\"::(boldvalue===\\'true\\' ? \\'bold\\' : \\'plain\\')\" ng-bind=\"nutrient.displayValue + (hideunits ? \\'\\' : nutrient.unit)\" class=\"ng-binding plain\"></span> </span> <span class=\"pull-right ng-hide\" ng-hide=\"::(hidepercent || nutrient.percentDailyValue===\\'0\\')\">%</span><span class=\"pull-right ng-binding ng-hide\" ng-hide=\"::(hidepercent || nutrient.percentDailyValue===\\'0\\')\" ng-bind=\"::nutrient.percentDailyValue\"></span> </div>\\n                    </li>\\n                </ul>\\n                <ul class=\"key\">\\n                    <li>\\n                        <span class=\"left\">*</span>\\n                        <span class=\"right\">Percent Daily Values are based on a 2,000 calorie diet. Your daily values may be higher or lower depending on your calorie needs.</span>\\n                    </li>\\n                    <li>\\n                        <span class=\"left\">**</span>\\n                        <span class=\"right\">Nutrient information is not available for all ingredients. Amount is based on available nutrient data.</span>\\n                    </li>\\n                    <li>\\n                        <span class=\"left\">(-)</span>\\n                        <span class=\"right\">Information is not currently available for this nutrient. If you are following a medically restrictive diet, please consult your doctor or registered dietitian before preparing this recipe for personal consumption.</span>\\n                    </li>\\n                </ul>\\n                <div class=\"button-container\">\\n                    <a ng-click=\"showSummaryNutrition()\" class=\"btns-one-small\" href=\"\">Hide full nutrition</a>\\n                </div>\\n            </div>\\n        </div>\\n    </section>\\n\\n    <div class=\"notification hidden\" id=\"msg-toolbar\"><span class=\"notification__message\"></span></div>\\n\\n\\n<link rel=\"stylesheet\" href=\"http://css01.media-allrecipes.com/assets/deployables/v-1.65.0.3982/local-offers-css.bundled.Css\" />\\n\\n    <div class=\"lo-reservespace\">\\n        <!-- ngIf: localOffersService.localOffersFeatureEnabled() --><div ng-if=\"localOffersService.localOffersFeatureEnabled()\" ng-controller=\"ar_controllers_local_offers\" class=\"lo-column ng-scope\">\\n            <div class=\"lo-container--slider \">\\n                <div class=\"title\">\\n                    <h2>On Sale</h2><span>What\\'s on sale near you.</span>\\n                </div>\\n                <div class=\"onoffswitch\">\\n                    <input type=\"checkbox\" ng-model-options=\"{ getterSetter: true }\" data-ng-model=\"userToggleEnabled\" id=\"myonoffswitch\" class=\"onoffswitch-checkbox ng-pristine ng-untouched ng-valid\" name=\"myonoffswitch\" />\\n                    <label id=\"local-offers-toggle-slider\" for=\"myonoffswitch\" class=\"onoffswitch-label\">\\n                        <span class=\"onoffswitch-inner\"></span>\\n                        <span class=\"onoffswitch-switch\"></span>\\n                    </label>\\n                </div>\\n                <div data-ng-show=\"userToggleEnabled()\">\\n                    <input type=\"checkbox\" data-ng-class=\"{active:showSettings}\" data-ng-click=\"showSettings = !showSettings\" />\\n                    <label class=\"location-toggle-btn\"></label>\\n                </div>\\n                <div class=\"dotted-line--local-offers\"></div>\\n            </div>\\n\\n            <div data-ng-show=\"localOffersService.localOffersUserEnabled()\">\\n                <script id=\"stores-template\" type=\"text/html\">\\n    &lt;![CDATA[\\n        &lt;div class=\"retailer carousel-item\"&gt;\\n            &lt;div class=\"logo\"&gt;\\n                &lt;img src=\"&lt;%= this.imageUrl %&gt;\"/&gt;\\n            &lt;/div&gt;\\n            &lt;ul class=\"info\"&gt;\\n                &lt;li&gt;&lt;%= this.name %&gt;&lt;/li&gt;\\n                &lt;li&gt;&lt;%= this.address %&gt;&lt;/li&gt;\\n                &lt;li&gt;&lt;%= this.city %&gt;, &lt;%= this.state %&gt; &lt;%= this.zip %&gt;&lt;/li&gt;\\n                &lt;li class=\"advertisement\"&gt;&lt;%= this.sponsoredFlag == true ? \"Sponsored\" : \"\" %&gt; &lt;/li&gt;\\n            &lt;/ul&gt;\\n        &lt;/div&gt;\\n    ]]&gt;\\n</script>\\n\\n\\n\\n                <section ng-show=\"showSettings\" class=\"sail local-offers ng-hide\">\\n                    <div class=\"buttons-container\">\\n                        <div class=\"lo-container--settings\">\\n                            <button data-ng-click=\"findMe()\" class=\"button-reg find-me ui-link\"><span class=\"pin icon icon--map-pin--white\"></span> Find Me</button>\\n                            <p>or</p>\\n                            <div class=\"zip-container\">\\n                                <input type=\"text\" ng-model=\"userZipCode\" class=\"ui-input-text ui-body-c ui-corner-all ui-shadow-inset ng-pristine ng-untouched ng-valid\" placeholder=\"Enter zip code\" max=\"99999\" />\\n                                <button data-ng-click=\"getRetailersByZipCode()\" class=\"button-reg ui-link\">OK</button>\\n                            </div>\\n                            <p>Sort stores by</p>\\n                            <button data-ng-click=\"sortRetailersList(\\'ClosestToMe\\')\" data-ng-class=\"{active:sortingOption === \\'ClosestToMe\\'}\" class=\"button-reg sort-by ui-link active\">Closest to me</button>\\n                            <button data-ng-click=\"sortRetailersList(\\'MostDeals\\')\" data-ng-class=\"{active:sortingOption === \\'MostDeals\\'}\" class=\"button-reg sort-by ui-link\">Most deals</button>\\n                        </div>\\n                        <div class=\"dotted-line--local-offers\"></div>\\n                    </div>\\n                </section>\\n                <section class=\"sail local-offers\">\\n                    <div data-ng-show=\"errorMessage\" class=\"error-msg ng-hide\">\\n                        <span data-ng-bind=\"errorMessage\" class=\"ng-binding\"></span>\\n                    </div>\\n                </section>\\n                <div id=\"storesOutput\" class=\"sail local-offers\"><div data-transition=\"slide\" class=\"carousel carousel-slide\"><div class=\"retailer carousel-item carousel-active\">            <div class=\"logo\">                <img src=\"http://images.groceryserver.com/groceryserver/haxor/log/clientId/ee3975a3dd472846611e50cbdf1e2679/zipCode/98101/entityType/retailerLocation/entityId/78613/usage/getRetailerLocation/chain/143x48/target-logo-360-105-3.png.d.png\" />            </div>            <ul class=\"info\">                <li>Target</li>                <li>1401 2nd Avenue</li>                <li>SEATTLE, WA 98101</li>                <li class=\"advertisement\">Sponsored </li>            </ul>        </div><div class=\"retailer carousel-item\">            <div class=\"logo\">                <img src=\"http://images.groceryserver.com/groceryserver/haxor/log/clientId/ee3975a3dd472846611e50cbdf1e2679/zipCode/98101/entityType/retailerLocation/entityId/65560/usage/getRetailerLocation/chain/143x48/walgreens-360-105.png.d.png\" />            </div>            <ul class=\"info\">                <li>Walgreens</li>                <li>222 Pike St</li>                <li>SEATTLE, WA 98101</li>                <li class=\"advertisement\"> </li>            </ul>        </div><div class=\"retailer carousel-item\">            <div class=\"logo\">                <img src=\"http://images.groceryserver.com/groceryserver/haxor/log/clientId/ee3975a3dd472846611e50cbdf1e2679/zipCode/98134/entityType/retailerLocation/entityId/65663/usage/getRetailerLocation/chain/143x48/cash-carry-logo-360-105.png.d.png\" />            </div>            <ul class=\"info\">                <li>Cash &amp; Carry</li>                <li>1760 4th Ave S</li>                <li>SEATTLE, WA 98134</li>                <li class=\"advertisement\"> </li>            </ul>        </div><div class=\"retailer carousel-item\">            <div class=\"logo\">                <img src=\"http://images.groceryserver.com/groceryserver/haxor/log/clientId/ee3975a3dd472846611e50cbdf1e2679/zipCode/98112/entityType/retailerLocation/entityId/65598/usage/getRetailerLocation/chain/143x48/safeway-logo-360-105.png.d.png\" />            </div>            <ul class=\"info\">                <li>Safeway</li>                <li>1410 E John St</li>                <li>SEATTLE, WA 98112</li>                <li class=\"advertisement\"> </li>            </ul>        </div><div class=\"retailer carousel-item\">            <div class=\"logo\">                <img src=\"http://images.groceryserver.com/groceryserver/haxor/log/clientId/ee3975a3dd472846611e50cbdf1e2679/zipCode/98199/entityType/retailerLocation/entityId/65707/usage/getRetailerLocation/chain/143x48/albertsons-logo-360-105.png.d.png\" />            </div>            <ul class=\"info\">                <li>Albertsons</li>                <li>2550 32nd Ave W</li>                <li>SEATTLE, WA 98199</li>                <li class=\"advertisement\"> </li>            </ul>        </div><div class=\"retailer carousel-item\">            <div class=\"logo\">                <img src=\"http://images.groceryserver.com/groceryserver/haxor/log/clientId/ee3975a3dd472846611e50cbdf1e2679/zipCode/98107/entityType/retailerLocation/entityId/65585/usage/getRetailerLocation/chain/143x48/fred-meyer-logo-360-105.png.d.png\" />            </div>            <ul class=\"info\">                <li>Fred Meyer</li>                <li>915 NW 45th St</li>                <li>SEATTLE, WA 98107</li>                <li class=\"advertisement\"> </li>            </ul>        </div><div class=\"retailer carousel-item\">            <div class=\"logo\">                <img src=\"http://images.groceryserver.com/groceryserver/haxor/log/clientId/ee3975a3dd472846611e50cbdf1e2679/zipCode/98168/entityType/retailerLocation/entityId/78845/usage/getRetailerLocation/chain/143x48/haggen-logo-360-105-v2.gif.d.jpg\" />            </div>            <ul class=\"info\">                <li>Haggen Food &amp; Pharmacy</li>                <li>12725 1st Ave S</li>                <li>BURIEN, WA 98168</li>                <li class=\"advertisement\"> </li>            </ul>        </div><div class=\"retailer carousel-item\">            <div class=\"logo\">                <img src=\"http://images.groceryserver.com/groceryserver/haxor/log/clientId/ee3975a3dd472846611e50cbdf1e2679/zipCode/98133/entityType/retailerLocation/entityId/65655/usage/getRetailerLocation/chain/143x48/central-market-logo-360-105.png.d.png\" />            </div>            <ul class=\"info\">                <li>Central Market Shoreline</li>                <li>15505 Westminster Way N</li>                <li>SHORELINE, WA 98133</li>                <li class=\"advertisement\"> </li>            </ul>        </div><nav style=\"\" class=\"carousel-nav\"><!--<a href=\\'#\\' class=\\'locate input-circle\\' title=\\'\\'></a>--><a title=\"Next\" aria-hidden=\"true\" class=\"next arrows input-circle\" href=\"#next\"><span class=\"icon icon--chevron-right\"></span></a></nav></div></div>\\n                <div class=\"local-offers\">\\n                    <div ng-show=\"displayOverlay\" class=\"lo-message-box ng-hide\">\\n                        <div class=\"lo-msg-arrow-up\"></div>\\n                        <div class=\"lo-message-box__box\">\\n                            <div class=\"lo-message-box__title\">\\n                                <div class=\"lo-message-box__title__text\">These nearby stores have ingredients on sale!</div>\\n                                <div class=\"lo-message-box__title__icon\">\\n                                    <span ng-click=\"closeOverlay()\" class=\"icon--close\"></span>\\n                                </div>\\n                            </div>\\n                            <a>\\n                                <div ng-click=\"closeOverlay(); findMe();\" class=\"lo-message-box__button\">\\n                                    <div class=\"lo-message-box__button__title\">Find the closest stores</div>\\n                                    <div class=\"lo-message-box__button__subtitle\">(uses your location)</div>\\n                                </div>\\n                            </a>\\n                        </div>\\n                    </div>\\n                </div>\\n            </div>\\n            <div id=\"clientID\"></div>\\n        </div><!-- end ngIf: localOffersService.localOffersFeatureEnabled() -->\\n    </div>\\n\\n        <ul id=\"lst_ingredients_1\" ng-hide=\"reloaded\" class=\"checklist dropdownwrapper list-ingredients-1\">\\n                <li class=\"checkList__line\">\\n                    <label ng-class=\"{true: \\'checkList__item\\'}[true]\" class=\"checkList__item\">\\n                        <input type=\"checkbox\" ng-click=\"saveIngredient($event,16157)\" value=\"N\" data-role=\"none\" name=\"ingredientCheckbox\" data-id=\"16157\" />\\n                        <span itemprop=\"ingredients\" data-nameid=\"16157\" data-id=\"16157\" class=\"recipe-ingred_txt added\">1/2 cup butter</span>\\n                    </label>\\n                        <!-- ngRepeat: deal in deals[\"16157\"] -->\\n                </li>\\n                <li class=\"checkList__line\">\\n                    <label ng-class=\"{true: \\'checkList__item\\'}[true]\" class=\"checkList__item\">\\n                        <input type=\"checkbox\" ng-click=\"saveIngredient($event,1526)\" value=\"N\" data-role=\"none\" name=\"ingredientCheckbox\" data-id=\"1526\" />\\n                        <span itemprop=\"ingredients\" data-nameid=\"1526\" data-id=\"1526\" class=\"recipe-ingred_txt added\">1/2 cup white sugar</span>\\n                    </label>\\n                        <!-- ngRepeat: deal in deals[\"1526\"] -->\\n                </li>\\n                <li class=\"checkList__line\">\\n                    <label ng-class=\"{true: \\'checkList__item\\'}[true]\" class=\"checkList__item\">\\n                        <input type=\"checkbox\" ng-click=\"saveIngredient($event,1525)\" value=\"N\" data-role=\"none\" name=\"ingredientCheckbox\" data-id=\"1525\" />\\n                        <span itemprop=\"ingredients\" data-nameid=\"1525\" data-id=\"1525\" class=\"recipe-ingred_txt added\">1/3 cup packed brown sugar</span>\\n                    </label>\\n                        <!-- ngRepeat: deal in deals[\"1525\"] -->\\n                </li>\\n                <li class=\"checkList__line\">\\n                    <label ng-class=\"{true: \\'checkList__item\\'}[true]\" class=\"checkList__item\">\\n                        <input type=\"checkbox\" ng-click=\"saveIngredient($event,2858)\" value=\"N\" data-role=\"none\" name=\"ingredientCheckbox\" data-id=\"2858\" />\\n                        <span itemprop=\"ingredients\" data-nameid=\"2858\" data-id=\"2858\" class=\"recipe-ingred_txt added\">1/2 cup peanut butter</span>\\n                    </label>\\n                        <!-- ngRepeat: deal in deals[\"2858\"] -->\\n                </li>\\n                <li class=\"checkList__line\">\\n                    <label ng-class=\"{true: \\'checkList__item\\'}[true]\" class=\"checkList__item\">\\n                        <input type=\"checkbox\" ng-click=\"saveIngredient($event,16424)\" value=\"N\" data-role=\"none\" name=\"ingredientCheckbox\" data-id=\"16424\" />\\n                        <span itemprop=\"ingredients\" data-nameid=\"16424\" data-id=\"16424\" class=\"recipe-ingred_txt added\">1/2 teaspoon vanilla extract</span>\\n                    </label>\\n                        <!-- ngRepeat: deal in deals[\"16424\"] -->\\n                </li>\\n                <li class=\"checkList__line\">\\n                    <label ng-class=\"{true: \\'checkList__item\\'}[true]\" class=\"checkList__item\">\\n                        <input type=\"checkbox\" ng-click=\"saveIngredient($event,16317)\" value=\"N\" data-role=\"none\" name=\"ingredientCheckbox\" data-id=\"16317\" />\\n                        <span itemprop=\"ingredients\" data-nameid=\"16317\" data-id=\"16317\" class=\"recipe-ingred_txt added\">1 egg</span>\\n                    </label>\\n                        <!-- ngRepeat: deal in deals[\"16317\"] -->\\n                </li>\\n                    </ul>\\n        <ul id=\"lst_ingredients_2\" ng-hide=\"reloaded\" class=\"checklist dropdownwrapper list-ingredients-2\">\\n                <li class=\"checkList__line\">\\n                    <label ng-class=\"{true: \\'checkList__item\\'}[true]\" class=\"checkList__item\">\\n                        <input type=\"checkbox\" ng-click=\"saveIngredient($event,1684)\" value=\"N\" data-role=\"none\" name=\"ingredientCheckbox\" data-id=\"1684\" />\\n                        <span itemprop=\"ingredients\" data-nameid=\"1684\" data-id=\"1684\" class=\"recipe-ingred_txt added\">1 cup all-purpose flour</span>\\n                    </label>\\n                        <!-- ngRepeat: deal in deals[\"1684\"] --><div data-ng-repeat=\"deal in deals[&quot;1684&quot;]\" class=\"ng-scope\">\\n                            <div data-ng-class=\"{&quot;hide-deals&quot;:!deals[&quot;1684&quot;] || !localOffersService.localOffersUserEnabled()}\" class=\"offer-container\">\\n                                <div class=\"left\">\\n                                    <p>\\n                                        <span data-ng-bind-html=\"deal.description\" class=\"offer-name ng-binding\">Market Pantry All-Purpose Flour - 5 lbs</span>\\n                                        <br />\\n                                        <span data-ng-bind-html=\"deal.price\" ng-show=\"deal.isBIU\" class=\"ng-binding\">$2.17</span>\\n                                        <span data-ng-bind-html=\"deal.priceWithExpiration\" class=\"unit-cost ng-binding ng-hide\" ng-show=\"!deal.isBIU\">$2.17 - expires in 6 days</span>\\n                                        <br />\\n                                        <a data-ng-bind-html=\"deal.clickThroughText\" data-ng-click=\"fireClickPixels(deal.clickPixels)\" target=\"_blank\" ng-href=\"http://www.target.com/p/market-pantry-all-purpose-flour-5-lbs/-/A-13474783\" data-no-follow-if-external=\"\" class=\"ng-binding\" rel=\"nofollow\" href=\"http://www.target.com/p/market-pantry-all-purpose-flour-5-lbs/-/A-13474783\">SEE DETAILS</a>\\n                                        <br />\\n                                        <span ng-show=\"deal.isBIU\" class=\"advertisement\">ADVERTISEMENT</span>\\n                                    </p>\\n                                    <div script=\"deal.moatUrl\" load-dom-script=\"\" class=\"tracking-element ng-isolate-scope\"><script src=\"https://z.moatads.com/meredithgroceryserver355539571021/moatad.js#moatClientLevel1=3c76b8ac5867dbf05b4bbd0c54e1ed03&amp;moatClientLevel2=BIU_Target_MP_Flour_5lbs&amp;moatClientLevel3=&amp;moatClientLevel4=&amp;moatClientSlicer1=SITE&amp;moatClientSlicer2=PLACEMENT\" type=\"text/javascript\"></script></div>\\n                                    <!-- ngRepeat: trackingUrl in deal.trackingPixels track by $index --><img data-ng-src=\"http://pubads.g.doubleclick.net/gampad/ad?iu=/3865/groceryserver&amp;sz=1x1&amp;t=adpartner%3D10798234&amp;c=355656\" data-ng-repeat=\"trackingUrl in deal.trackingPixels track by $index\" class=\"tracking-element ng-scope\" src=\"http://pubads.g.doubleclick.net/gampad/ad?iu=/3865/groceryserver&amp;sz=1x1&amp;t=adpartner%3D10798234&amp;c=355656\" /><!-- end ngRepeat: trackingUrl in deal.trackingPixels track by $index --><img data-ng-src=\"https://ad.doubleclick.net/ddm/trackimp/N3550.MeredithCorp/B10889568.145375031;dc_trk_aid=317089956;dc_trk_cid=78722509;ord=290113;dc_lat=;dc_rdid=;tag_for_child_directed_treatment=?\" data-ng-repeat=\"trackingUrl in deal.trackingPixels track by $index\" class=\"tracking-element ng-scope\" src=\"https://ad.doubleclick.net/ddm/trackimp/N3550.MeredithCorp/B10889568.145375031;dc_trk_aid=317089956;dc_trk_cid=78722509;ord=290113;dc_lat=;dc_rdid=;tag_for_child_directed_treatment=?\" /><!-- end ngRepeat: trackingUrl in deal.trackingPixels track by $index --><img data-ng-src=\"https://api.placed.com/api/v2/sync/impression?partner=meredith&amp;version=1.0&amp;payload_campaign_identifier=12122017002&amp;payload_timestamp=355051&amp;payload_type=impression&amp;redirect=%2F%2Fp.univide.com%2Ft.gif%3Fpid%3D58%26pidt%3D0%26pdid%3D%24%7BPCID%7D\" data-ng-repeat=\"trackingUrl in deal.trackingPixels track by $index\" class=\"tracking-element ng-scope\" src=\"https://api.placed.com/api/v2/sync/impression?partner=meredith&amp;version=1.0&amp;payload_campaign_identifier=12122017002&amp;payload_timestamp=355051&amp;payload_type=impression&amp;redirect=%2F%2Fp.univide.com%2Ft.gif%3Fpid%3D58%26pidt%3D0%26pdid%3D%24%7BPCID%7D\" /><!-- end ngRepeat: trackingUrl in deal.trackingPixels track by $index -->\\n                                    <!-- ngRepeat: clickUrl in listClickPixels track by $index -->\\n                                </div>\\n                                <div class=\"right\">\\n                                    <img class=\"offer-photo\" data-ng-src=\"http://images.groceryserver.com/groceryserver/haxor/log/clientId/3c76b8ac5867dbf05b4bbd0c54e1ed03/zipCode/98104/recipeId/445036/upcValue/BIU_Target_MP_Flour_5lbs/entityType/promotion/entityId/15431622/retailerLocationId/78613/usage/getRecipeInformationByExternalId/promotion/200x188/68/BIU_Target_MP_Flour_5lbs.jpg.d.jpg\" src=\"http://images.groceryserver.com/groceryserver/haxor/log/clientId/3c76b8ac5867dbf05b4bbd0c54e1ed03/zipCode/98104/recipeId/445036/upcValue/BIU_Target_MP_Flour_5lbs/entityType/promotion/entityId/15431622/retailerLocationId/78613/usage/getRecipeInformationByExternalId/promotion/200x188/68/BIU_Target_MP_Flour_5lbs.jpg.d.jpg\" />\\n                                </div>\\n                            </div>\\n                        </div><!-- end ngRepeat: deal in deals[\"1684\"] -->\\n                </li>\\n                <li class=\"checkList__line\">\\n                    <label ng-class=\"{true: \\'checkList__item\\'}[true]\" class=\"checkList__item\">\\n                        <input type=\"checkbox\" ng-click=\"saveIngredient($event,2359)\" value=\"N\" data-role=\"none\" name=\"ingredientCheckbox\" data-id=\"2359\" />\\n                        <span itemprop=\"ingredients\" data-nameid=\"2359\" data-id=\"2359\" class=\"recipe-ingred_txt added\">1 teaspoon baking soda</span>\\n                    </label>\\n                        <!-- ngRepeat: deal in deals[\"2359\"] -->\\n                </li>\\n                <li class=\"checkList__line\">\\n                    <label ng-class=\"{true: \\'checkList__item\\'}[true]\" class=\"checkList__item\">\\n                        <input type=\"checkbox\" ng-click=\"saveIngredient($event,16421)\" value=\"N\" data-role=\"none\" name=\"ingredientCheckbox\" data-id=\"16421\" />\\n                        <span itemprop=\"ingredients\" data-nameid=\"16421\" data-id=\"16421\" class=\"recipe-ingred_txt added\">1/4 teaspoon salt</span>\\n                    </label>\\n                        <!-- ngRepeat: deal in deals[\"16421\"] -->\\n                </li>\\n                <li class=\"checkList__line\">\\n                    <label ng-class=\"{true: \\'checkList__item\\'}[true]\" class=\"checkList__item\">\\n                        <input type=\"checkbox\" ng-click=\"saveIngredient($event,6057)\" value=\"N\" data-role=\"none\" name=\"ingredientCheckbox\" data-id=\"6057\" />\\n                        <span itemprop=\"ingredients\" data-nameid=\"6057\" data-id=\"6057\" class=\"recipe-ingred_txt added\">1/2 cup rolled oats</span>\\n                    </label>\\n                        <!-- ngRepeat: deal in deals[\"6057\"] -->\\n                </li>\\n                <li class=\"checkList__line\">\\n                    <label ng-class=\"{true: \\'checkList__item\\'}[true]\" class=\"checkList__item\">\\n                        <input type=\"checkbox\" ng-click=\"saveIngredient($event,1338)\" value=\"N\" data-role=\"none\" name=\"ingredientCheckbox\" data-id=\"1338\" />\\n                        <span itemprop=\"ingredients\" data-nameid=\"1338\" data-id=\"1338\" class=\"recipe-ingred_txt added\">1 cup semisweet chocolate chips</span>\\n                    </label>\\n                        <!-- ngRepeat: deal in deals[\"1338\"] -->\\n                </li>\\n                            <li class=\"checkList__line\">\\n                    <label id=\"btn-addtolist\" class=\"checkList__item\">\\n                        <input type=\"checkbox\" ng-click=\"saveRecipe($event,\\'10141\\',\\'Recipe\\')\" data-role=\"none\" name=\"slCheckbox\" />\\n                        <span class=\"recipe-ingred_txt added white\">Add all ingredients to list</span>\\n                    </label>\\n                </li>\\n        </ul>\\n\\n    <!-- ngRepeat: column in ingredientColumns -->\\n            <div data-ng-show=\"mws\" data-ng-controller=\"ar_controllers_recipe_mws\" class=\"lo-smu-output ng-scope\" style=\"\">\\n                <div class=\"lo-smu-container\">\\n                    <img class=\"lo-smu-photo\" data-ng-src=\"http://images.groceryserver.com/groceryserver/haxor/log/clientId/3c76b8ac5867dbf05b4bbd0c54e1ed03/zipCode/98104/retailerLocationId/78613/recipeId/445036/upcValue/MWS_Target_Bounty_Towels/entityType/promotion/entityId/30801895/usage/getContentPairings/promotion/200x188/68/MWS_Target_Bounty_Towels.jpg.d.jpg\" src=\"http://images.groceryserver.com/groceryserver/haxor/log/clientId/3c76b8ac5867dbf05b4bbd0c54e1ed03/zipCode/98104/retailerLocationId/78613/recipeId/445036/upcValue/MWS_Target_Bounty_Towels/entityType/promotion/entityId/30801895/usage/getContentPairings/promotion/200x188/68/MWS_Target_Bounty_Towels.jpg.d.jpg\" />\\n                    <p class=\"lo-smu-title\">May we suggest</p>\\n                    <div class=\"lo-smu-text\">\\n                        <p data-ng-bind-html=\"mws.defaultDisplayDescription\" class=\"offer-name ng-binding\">Bounty Paper Towels 12-Pack Mega or 8-Pk Huge</p>\\n                        <p data-ng-bind-html=\"mws.title\" class=\"ng-binding\">$15.99 thru 3/25 (free $10 gift card when buy three household products listed in Target Weekly Ad)</p>\\n                        <p><a data-ng-bind-html=\"mws.clickThroughText\" target=\"_blank\" data-ng-href=\"http://www.target.com/s?searchTerm=bounty%20paper%20towels\" data-ng-click=\"fireClickPixel(mws.clickPixels)\" data-no-follow-if-external=\"\" class=\"ng-binding\" rel=\"nofollow\" href=\"http://www.target.com/s?searchTerm=bounty%20paper%20towels\"><img style=\"width:110px;border:0\" details\"=\"\" alt=\"\\u201cSEE\" src=\"http://cdn.groceryserver.com/images/target-see-details-button.png\" /></a></p>\\n                        <p class=\"lo-smu-ad\">ADVERTISEMENT</p>\\n                        <div script=\"mws.moatUrl\" load-dom-script=\"\" class=\"tracking-element ng-isolate-scope\"><script src=\"https://z.moatads.com/meredithgroceryserver355539571021/moatad.js#moatClientLevel1=3c76b8ac5867dbf05b4bbd0c54e1ed03&amp;moatClientLevel2=MWS_Target_Bounty_Towels&amp;moatClientLevel3=&amp;moatClientLevel4=&amp;moatClientSlicer1=SITE&amp;moatClientSlicer2=PLACEMENT\" type=\"text/javascript\"></script></div>\\n                        <!-- ngRepeat: trackingUrl in mws.trackingPixels track by $index --><img alt=\"\" data-ng-src=\"http://pubads.g.doubleclick.net/gampad/ad?iu=/3865/groceryserver&amp;sz=1x1&amp;t=adpartner%3D10798237&amp;c=812287\" data-ng-repeat=\"trackingUrl in mws.trackingPixels track by $index\" class=\"tracking-element ng-scope\" src=\"http://pubads.g.doubleclick.net/gampad/ad?iu=/3865/groceryserver&amp;sz=1x1&amp;t=adpartner%3D10798237&amp;c=812287\" /><!-- end ngRepeat: trackingUrl in mws.trackingPixels track by $index --><img alt=\"\" data-ng-src=\"https://ad.doubleclick.net/ddm/trackimp/N3550.MeredithCorp/B10889568.145377893;dc_trk_aid=317090544;dc_trk_cid=78719678;ord=664280;dc_lat=;dc_rdid=;tag_for_child_directed_treatment=?\" data-ng-repeat=\"trackingUrl in mws.trackingPixels track by $index\" class=\"tracking-element ng-scope\" src=\"https://ad.doubleclick.net/ddm/trackimp/N3550.MeredithCorp/B10889568.145377893;dc_trk_aid=317090544;dc_trk_cid=78719678;ord=664280;dc_lat=;dc_rdid=;tag_for_child_directed_treatment=?\" /><!-- end ngRepeat: trackingUrl in mws.trackingPixels track by $index --><img alt=\"\" data-ng-src=\"https://api.placed.com/api/v2/sync/impression?partner=meredith&amp;version=1.0&amp;payload_campaign_identifier=12122017002&amp;payload_timestamp=548129&amp;payload_type=impression&amp;redirect=%2F%2Fp.univide.com%2Ft.gif%3Fpid%3D58%26pidt%3D0%26pdid%3D%24%7BPCID%7D\" data-ng-repeat=\"trackingUrl in mws.trackingPixels track by $index\" class=\"tracking-element ng-scope\" src=\"https://api.placed.com/api/v2/sync/impression?partner=meredith&amp;version=1.0&amp;payload_campaign_identifier=12122017002&amp;payload_timestamp=548129&amp;payload_type=impression&amp;redirect=%2F%2Fp.univide.com%2Ft.gif%3Fpid%3D58%26pidt%3D0%26pdid%3D%24%7BPCID%7D\" /><!-- end ngRepeat: trackingUrl in mws.trackingPixels track by $index -->\\n                        <!-- ngRepeat: clickPixel in listClickPixels track by $index -->\\n                    </div>\\n                </div>\\n            </div>\\n</section>\\n<script>\\n    var userInformation =\\n        {\\n            clientIp: \\'209.34.140.68\\'\\n        };\\n</script>\\n\\n\\n        <section data-ng-init=\"init(10141)\" data-ng-controller=\"ar_controllers_recipe_notes\" class=\"recipe-directions ng-scope\">\\n    <h2 class=\"heading__h2--gutters\">\\n        Directions\\n    </h2>\\n    <span id=\"recipe-notes\" class=\"recipe-directions__header--toggles\">\\n        <span class=\"recipe-notes\">\\n            <a ng-click=\"openNoteModal()\" href=\"\">\\n                <span class=\"note-text ng-binding\">Add a note</span>\\n                <span class=\"svg-icon--actions--edit_icon svg-icon--actions--edit_icon-dims\"></span>\\n            </a>\\n        </span>\\n\\n        \\n            <span class=\"recipe-directions--print\"><a data-click-id=\"recipe button\" data-internal-referrer-link=\"recipe button\" ng-href=\"print/?recipeType=Recipe&amp;servings=18\" class=\"ng-isolate-scope\" target=\"_self\" href=\"print/?recipeType=Recipe&amp;servings=18\"><span class=\"kf-text print\">Print</span> <span class=\"icon--recipe-directions-print\"></span></a></span>\\n\\n            <a data-click-id=\"recipe video button\" data-internal-referrer-link=\"title_play\" class=\"icon--videoplay-small-gray ng-isolate-scope\" href=\"/video/4393/outrageous-chocolate-chip-cookies/?internalSource=title_play&amp;referringId=10141&amp;referringContentType=recipe&amp;clickId=recipe%20video%20button\" target=\"_self\"></a>\\n\\n    </span>\\n\\n    <div class=\"directions--section\">\\n        <div class=\"directions--section__steps\">\\n            <!-- cooking stats -->\\n    <ul class=\"prepTime\">\\n        <li class=\"prepTime__item\"><span class=\"icon--stats-clock\"></span></li>\\n            <li class=\"prepTime__item\">\\n                <p class=\"prepTime__item--type\">Prep</p><time datetime=\"PT15M\" itemprop=\"prepTime\"><span class=\"prepTime__item--time\">15</span> m</time>\\n            </li>\\n                    <li class=\"prepTime__item\">\\n                <p class=\"prepTime__item--type\">Cook</p><time datetime=\"PT10M\" itemprop=\"cookTime\"><span class=\"prepTime__item--time\">10</span> m</time>\\n            </li>\\n                    <li class=\"prepTime__item\">\\n                <p class=\"prepTime__item--type\">Ready In</p><time datetime=\"PT25M\" itemprop=\"totalTime\"><span class=\"prepTime__item--time\">25</span> m</time>\\n            </li>\\n    </ul>\\n\\n\\n            <ol itemprop=\"recipeInstructions\" class=\"list-numbers recipe-directions__list\">\\n                        <li ng-click=\"stepIsActive0 = !stepIsActive0\" ng-class=\"{\\'finished\\': stepIsActive0}\" class=\"step\"><span class=\"recipe-directions__list--item\">Preheat oven to 350 degrees F (175 degrees C).</span></li>\\n                        <li ng-click=\"stepIsActive1 = !stepIsActive1\" ng-class=\"{\\'finished\\': stepIsActive1}\" class=\"step\"><span class=\"recipe-directions__list--item\">In a medium bowl, cream together the butter, white sugar and brown sugar until smooth. Stir in the peanut butter, vanilla and egg until well blended. Combine the flour, baking soda and salt; stir into the batter just until moistened. Mix in the oats and chocolate chips until evenly distributed. Drop by tablespoonfuls on to lightly greased cookie sheets.</span></li>\\n                        <li ng-click=\"stepIsActive2 = !stepIsActive2\" ng-class=\"{\\'finished\\': stepIsActive2}\" class=\"step\"><span class=\"recipe-directions__list--item\">Bake for 10 to 12 minutes in the preheated oven, until the edges start to brown. Cool on cookie sheets for about 5 minutes before transferring to wire racks to cool completely.</span></li>\\n            </ol>\\n            <a ng-click=\"openNoteModal()\" href=\"\">\\n                <ol ng-show=\"model.itemNote\" class=\"list-numbers recipe-directions__list recipeNotes ng-hide\">\\n                    <li class=\"step\">\\n                        <span ng-bind=\"model.itemNote\" class=\"recipe-directions__list--item ng-binding\"></span>\\n                    </li>\\n                </ol>\\n            </a>\\n            <div id=\"karma-lazy-seriesDetails\"></div>\\n        </div>\\n        <div class=\"directions--section__right-side\">\\n            <div class=\"directions--section__tipsAndTricks\">\\n<div class=\"directions--section__tipsAndTricks__title\">\\n    <span class=\"directions--section__tipsAndTricks__title__font\">You might also like</span>\\n</div>\\n<div class=\"relatedVideos\">\\n            <div class=\"relatedVideos__item\">\\n                <a data-click-id=\"tips and tricks 1\" data-internal-referrer-link=\"tips and tricks\" href=\"/video/6598/salted-caramel-chocolate-chip-cookies/?internalSource=tips%20and%20tricks&amp;referringId=10141&amp;referringContentType=recipe&amp;clickId=tips%20and%20tricks%201\" class=\"ng-isolate-scope\" target=\"_self\">\\n                    <img src=\"http://brightcove.vo.llnwd.net/v1/unsecured/media/1033249144001/201607/1207/1033249144001_5032754678001_5026619113001-th.jpg?pubId=1033249144001\" class=\"relatedVideos__thumbnail\" />\\n                </a>\\n                <div class=\"relatedVideos__thumbnail__icon-hasVideo\">\\n                    <a data-click-id=\"tips and tricks 1\" data-internal-referrer-link=\"tips and tricks\" href=\"/video/6598/salted-caramel-chocolate-chip-cookies/?internalSource=tips%20and%20tricks&amp;referringId=10141&amp;referringContentType=recipe&amp;clickId=tips%20and%20tricks%201\" class=\"icon--videoplay ng-isolate-scope\" target=\"_self\"></a>\\n                </div>\\n                <div class=\"relatedVideos__details\">\\n                    <a data-click-id=\"tips and tricks 1\" data-internal-referrer-link=\"tips and tricks\" href=\"/video/6598/salted-caramel-chocolate-chip-cookies/?internalSource=tips%20and%20tricks&amp;referringId=10141&amp;referringContentType=recipe&amp;clickId=tips%20and%20tricks%201\" class=\"ng-isolate-scope\" target=\"_self\">\\n                        <span class=\"relatedVideos__details_title\">Salted Caramel Chocolate Chip Cookies</span>\\n                        <p class=\"relatedVideos__details__description\">Chock full of salt, caramel &amp; chocolate!</p>\\n                    </a>\\n                </div>\\n            </div>\\n            <div class=\"relatedVideos__item\">\\n                <a data-click-id=\"tips and tricks 2\" data-internal-referrer-link=\"tips and tricks\" href=\"/video/5190/chef-johns-chocolate-chip-cookies/?internalSource=tips%20and%20tricks&amp;referringId=10141&amp;referringContentType=recipe&amp;clickId=tips%20and%20tricks%202\" class=\"ng-isolate-scope\" target=\"_self\">\\n                    <img src=\"http://brightcove.vo.llnwd.net/v1/unsecured/media/1033249144001/201508/1482/1033249144001_4396228465001_th-4395629779001.jpg?pubId=1033249144001\" class=\"relatedVideos__thumbnail\" />\\n                </a>\\n                <div class=\"relatedVideos__thumbnail__icon-hasVideo\">\\n                    <a data-click-id=\"tips and tricks 2\" data-internal-referrer-link=\"tips and tricks\" href=\"/video/5190/chef-johns-chocolate-chip-cookies/?internalSource=tips%20and%20tricks&amp;referringId=10141&amp;referringContentType=recipe&amp;clickId=tips%20and%20tricks%202\" class=\"icon--videoplay ng-isolate-scope\" target=\"_self\"></a>\\n                </div>\\n                <div class=\"relatedVideos__details\">\\n                    <a data-click-id=\"tips and tricks 2\" data-internal-referrer-link=\"tips and tricks\" href=\"/video/5190/chef-johns-chocolate-chip-cookies/?internalSource=tips%20and%20tricks&amp;referringId=10141&amp;referringContentType=recipe&amp;clickId=tips%20and%20tricks%202\" class=\"ng-isolate-scope\" target=\"_self\">\\n                        <span class=\"relatedVideos__details_title\">Chef John\\'s Chocolate Chip Cookies</span>\\n                        <p class=\"relatedVideos__details__description\">Chocolate chip cookies that are the best of both cookie worlds, crispy and chewy.</p>\\n                    </a>\\n                </div>\\n            </div>\\n            <div class=\"relatedVideos__item\">\\n                <a data-click-id=\"tips and tricks 3\" data-internal-referrer-link=\"tips and tricks\" href=\"/video/4962/matcha-green-tea-chocolate-chip-cookies/?internalSource=tips%20and%20tricks&amp;referringId=10141&amp;referringContentType=recipe&amp;clickId=tips%20and%20tricks%203\" class=\"ng-isolate-scope\" target=\"_self\">\\n                    <img src=\"http://brightcove.vo.llnwd.net/v1/unsecured/media/1033249144001/201501/305/1033249144001_3989186134001_th-3987308557001.jpg?pubId=1033249144001\" class=\"relatedVideos__thumbnail\" />\\n                </a>\\n                <div class=\"relatedVideos__thumbnail__icon-hasVideo\">\\n                    <a data-click-id=\"tips and tricks 3\" data-internal-referrer-link=\"tips and tricks\" href=\"/video/4962/matcha-green-tea-chocolate-chip-cookies/?internalSource=tips%20and%20tricks&amp;referringId=10141&amp;referringContentType=recipe&amp;clickId=tips%20and%20tricks%203\" class=\"icon--videoplay ng-isolate-scope\" target=\"_self\"></a>\\n                </div>\\n                <div class=\"relatedVideos__details\">\\n                    <a data-click-id=\"tips and tricks 3\" data-internal-referrer-link=\"tips and tricks\" href=\"/video/4962/matcha-green-tea-chocolate-chip-cookies/?internalSource=tips%20and%20tricks&amp;referringId=10141&amp;referringContentType=recipe&amp;clickId=tips%20and%20tricks%203\" class=\"ng-isolate-scope\" target=\"_self\">\\n                        <span class=\"relatedVideos__details_title\">Matcha Green Tea Chocolate Chip Cookies</span>\\n                        <p class=\"relatedVideos__details__description\">Soft and chewy pale green sugar cookies with white chocolate chips.</p>\\n                    </a>\\n                </div>\\n            </div>\\n\\n</div>\\n            </div>\\n            <div class=\"mag-cta-desktop\">\\n                <div data-ng-controller=\"ar_controllers_mag_subscription\" class=\"mag-cta ng-scope\">\\n    \\n    <a class=\"ad-mag-homeBtm\" target=\"_blank\" ng-href=\"http://armagazine.com/get-the-magazine\" href=\"http://armagazine.com/get-the-magazine\">\\n        <h2>Get the magazine</h2>\\n        <img src=\"http://images.media-allrecipes.com/images/74814.png\" title=\"Allrecipes Magazine\" alt=\"Subscribe to Allrecipes Magazine\" class=\"ad-mag-homeBtm__th\" />\\n        <div class=\"ad-mag-homeBtm__text\">\\n            <h4>Get a full year for just $7.99!</h4>\\n            <p>Cook 5-star weekday dinners every time.</p>\\n        </div>\\n    </a>\\n</div>\\n            </div>\\n        </div>\\n    </div>\\n</section>\\n\\n\\n        \\n\\n<div data-ng-init=\"init(10141, 0, \\'\\', \\'\\', 0, 0, 0, 956)\" data-ng-controller=\"ar_controllers_made_it\" class=\"ng-scope\">\\n    <!-- made recipe toolbar -->\\n    <section class=\"recipe-toolbar\" id=\"recipe-toolbar\">\\n        <!-- photo upload block -->\\n        <div class=\"recipe-toolbar__buttons\">\\n            <div class=\"toolbar-i-made-it\">\\n                <ul>\\n                    <li>\\n                        <a data-ng-click=\"save();\" class=\"btns-one-small bg-orange-gold\">\\n                            <span class=\"svg-icon--recipe-page--imadeit-white svg-icon--recipe-page--imadeit-white-dims\"></span>\\n                            <h4 class=\"light\">I made it!</h4>\\n                        </a>\\n                    </li>\\n\\n                </ul>\\n            </div>\\n            <div ng-init=\"init(0,10141,true,\\'i made it\\')\" data-ng-controller=\"ar_controllers_photo_upload\" class=\"ng-scope\">\\n            </div>\\n\\n            <div class=\"notification hidden\" id=\"msg-toolbar\"><span class=\"notification__message\"></span></div>\\n        </div>\\n    </section>\\n</div>\\n\\n\\n            <h2 class=\"heading__h2--gutters share\">Share</h2>\\n<section id=\"shareRecipe\" ng-controller=\"ar_controllers_share_item\" class=\"ng-scope\">\\n    <section class=\"recipe-share share-container\">\\n        <a class=\"pinterest\" ng-click=\"socialShareStart(\\'10141\\', \\'pinterest\\'); socialShareNavigate(\\'http://pinterest.com/pin/create/button/?url=http://allrecipes.com/recipe/10141/outrageous-chocolate-chip-cookies/?lnkid=usspnt&amp;media=http://images.media-allrecipes.com/userphotos/250x250/3518442.jpg&amp;description=Outrageous%20Chocolate%20Chip%20Cookies%20-%20Allrecipes.com\\', \\'_blank\\', PinterestTargetParams);\"></a>\\n        <a class=\"facebook\" ng-click=\"socialShareStart(\\'10141\\', \\'facebook\\'); socialShareNavigate(\\'https://facebook.com/sharer.php?u=http://allrecipes.com/recipe/10141/outrageous-chocolate-chip-cookies/?lnkid=ussfac\\', \\'_blank\\', FacebookTargetParams);\"></a>\\n        <a class=\"stumbleUpon\" ng-click=\"socialShareStart(\\'10141\\', \\'stumbleupon\\'); socialShareNavigate(\\'https://www.stumbleupon.com/submit?url=http://allrecipes.com/recipe/10141/outrageous-chocolate-chip-cookies/?lnkid=usssup\\', \\'_blank\\', StumbleTargetParams);\"></a>\\n        <a class=\"twitter\" ng-click=\"socialShareStart(\\'10141\\', \\'twitter\\'); socialShareNavigate(\\'https://twitter.com/intent/tweet?url=http://allrecipes.com/recipe/10141/outrageous-chocolate-chip-cookies/?lnkid=usstwt&amp;text=Outrageous%20Chocolate%20Chip%20Cookies%20-%20Allrecipes.com&amp;via=Allrecipes\\', \\'_blank\\', TwitterTargetParams);\"></a>\\n        <a class=\"google\" ng-click=\"socialShareStart(\\'10141\\', \\'google+\\'); socialShareNavigate(\\'https://plus.google.com/share?url=http://allrecipes.com/recipe/10141/outrageous-chocolate-chip-cookies/?lnkid=ussgog\\', \\'_blank\\', GoogleTargetParams);\"></a>\\n        <a ng-click=\"toggleEmailForm(false)\" class=\"email\" href=\"\"></a>\\n       \\n    </section>\\n\\n    <section class=\"email-recipe\">\\n        <form novalidate=\"\" ng-submit=\"sendEmail(\\'10141\\', \\'recipe\\')\" name=\"emailForm\" class=\"ng-pristine ng-valid ng-valid-email\">\\n\\t\\t\\t<section ng-show=\"showForm\" class=\"show-form ng-hide\">\\n\\n\\t\\t\\t\\t<div class=\"input-wrap\">\\n\\t\\t\\t\\t\\t<input type=\"email\" ng-blur=\"showAds()\" ng-focus=\"hideAds(); AddEmailEnabled = true;\" class=\"ng-valid-email ng-pristine ng-untouched ng-valid\" ng-model=\"toEmailAddress\" name=\"txtEmail\" placeholder=\"Recipient\\'s email\" />\\n\\t\\t\\t\\t\\t<a ng-click=\"addEmail()\" ng-show=\"AddEmailEnabled\" class=\"btn-basic--small ng-hide\">Add</a>\\n\\t\\t\\t\\t</div>\\n\\t\\t\\t\\t<ol class=\"email-recipe__recipients\">\\n\\t\\t\\t\\t\\t<!-- ngRepeat: email in toEmailList -->\\n\\t\\t\\t\\t</ol>\\n\\t\\t\\t\\t\\n\\n\\n\\t\\t\\t\\t<div class=\"email-recipe__buttons\">\\n\\t\\t\\t\\t\\t<a ng-click=\"cancel()\" class=\"btns-two-small\">Cancel</a>\\n\\t\\t\\t\\t\\t<input type=\"submit\" value=\"Send\" class=\"btns-two-small\" />\\n\\t\\t\\t\\t\\t<span ng-bind=\"errorMessage\" class=\"ng-binding\"></span>\\n\\t\\t\\t\\t</div>\\n\\n\\t\\t\\t</section>\\n        </form>\\n    </section>\\n</section>\\n\\n\\n\\n<section ng-init=\"init()\" ng-controller=\"ar_controller_similar_recipes\" id=\"grid_recipeListItems\" class=\"grid similar-recipes--details ng-scope\">\\n    <h2 class=\"heading__h2--gutters similar notPhoneView\">Similar: <span><a ng-click=\"setTab(1, \\'recipes\\')\" ng-class=\"{ active: isSet(1) }\" href=\"\" class=\"active\">Recipes</a><a ng-click=\"setTab(2, \\'videos\\')\" ng-class=\"{ active: isSet(2) }\" href=\"\">Videos</a><a ng-click=\"setTab(3, \\'categories\\')\" ng-class=\"{ active: isSet(3) }\" href=\"\">Categories</a><a ng-click=\"setTab(4, \\'articles\\')\" ng-class=\"{ active: isSet(4) }\" href=\"\">Articles</a></span></h2>\\n    \\n    <h2 popup-trigger=\"similar-content-nav\" class=\"heading__h2--gutters similar phoneView\" id=\"2fae2d4a-8ca9-4952-9345-222fc9ff7f7e\">\\n        Similar: <span class=\"selected-content ng-binding\">recipes<span class=\"icon--chevron-down\"></span></span>\\n        <span class=\"similar-content-nav ng-hide\" popup-panel=\"similar-content-nav\" id=\"2caad854-d110-49f4-aa65-92d58fae9a80\">\\n            <a ng-click=\"setTab(1, \\'recipes\\')\" ng-class=\"{ active: isSet(1) }\" href=\"\" class=\"active\">recipes</a>\\n            <a ng-click=\"setTab(2, \\'videos\\')\" ng-class=\"{ active: isSet(2) }\" href=\"\">videos</a>\\n            <a ng-click=\"setTab(3, \\'categories\\')\" ng-class=\"{ active: isSet(3) }\" href=\"\">categories</a>\\n            <a ng-click=\"setTab(4, \\'articles\\')\" ng-class=\"{ active: isSet(4) }\" href=\"\">articles</a>\\n        </span>\\n    </h2>\\n\\n    <div class=\"similar-recipes__wrap\">\\n        <!--navigation for carousel -->\\n        <div class=\"carousel-navigation\">\\n            <!-- ngIf: similarRecipes_atLeftBound===false -->\\n            <!-- ngIf: similarRecipes_atRightBound===false --><a ng-if=\"similarRecipes_atRightBound===false\" carousel-scroll-right=\"similarRecipes\" class=\"ng-scope\" id=\"b2fb03b9-e540-4212-99bf-2f06918efad9\">\\n                <div class=\"icon--chevron-right\"></div>\\n            </a><!-- end ngIf: similarRecipes_atRightBound===false -->\\n        </div>\\n\\n        <div class=\"similar-recipes__container\">\\n            <div scroll-event=\"\" carousel-scroll-target=\"similarRecipes\" id=\"scrollDiv\">\\n                <div class=\"grid slider\" id=\"insideScroll\">\\n\\n                    \\n                    <ul ng-show=\"isSet(1)\" id=\"similarRecipes\" class=\"recipe-carousel\">\\n                            <li ng-click=\"setAnalyticsCookie(\\'similar recipe\\')\" class=\"slider-card\">\\n                                <div class=\"slider-card__recipes\">\\n                                    <a data-ng-show=\"showHeart\" title=\"Save this recipe\" ng-class=\"{ highlighted : saved }\" data-imageurl=\"\\'http://images.media-allrecipes.com/userphotos/150x150/726563.jpg\\'\" data-name=\"&quot;Beth\\'s Chocolate Chip Cookies&quot;\" data-type=\"\\'Recipe\\'\" data-id=\"10337\" class=\"favorite ng-isolate-scope\"><span class=\"ng-binding\"></span></a>\\n                                    <a referring-id=\"10141\" data-click-id=\"simslot_1\" data-internal-referrer-link=\"similar_recipe_banner\" href=\"/recipe/10337/beths-chocolate-chip-cookies/?internalSource=similar_recipe_banner&amp;referringId=10141&amp;referringContentType=recipe&amp;clickId=simslot_1\" class=\"ng-isolate-scope\" target=\"_self\">\\n                                        <img data-container=\"similarRecipes\" src=\"http://images.media-allrecipes.com/ar/spacer.gif\" title=\"Beth\\'s Chocolate Chip Cookies\" alt=\"Beth\\'s Chocolate Chip Cookies Recipe - Chocolate Chip lovers beware! These irresistible cookies are my own recipe, and they are nice and thick, soft and chewy, and absolutely hard to resist!\" data-original-src=\"http://images.media-allrecipes.com/userphotos/150x150/726563.jpg\" data-lazy-load=\"\" class=\"slider-card__img ng-isolate-scope\" />\\n                                        <h3 class=\"slider-card__h3\">Beth\\'s Chocolate Chip Cookies</h3>\\n                                    </a>\\n                                    <a href=\"\">\\n                                        <div data-scroll-to-anchor=\"reviews\" class=\"slider-card__ratings\">\\n                                            <div data-ratingstars=\"4.51999998092651\" data-scroll-to-anchor=\"reviews\" class=\"rating-stars\">\\n        <img width=\"16\" height=\"16\" src=\"http://images.media-allrecipes.com/ar-images/icons/rating-stars/full-star-2015.svg\" />\\n        <img width=\"16\" height=\"16\" src=\"http://images.media-allrecipes.com/ar-images/icons/rating-stars/full-star-2015.svg\" />\\n        <img width=\"16\" height=\"16\" src=\"http://images.media-allrecipes.com/ar-images/icons/rating-stars/full-star-2015.svg\" />\\n        <img width=\"16\" height=\"16\" src=\"http://images.media-allrecipes.com/ar-images/icons/rating-stars/full-star-2015.svg\" />\\n        <img width=\"16\" height=\"16\" src=\"http://images.media-allrecipes.com/ar-images/icons/rating-stars/half-star-2015.svg\" />\\n</div>\\n                                            <span class=\"aggregate-rating\">\\n                                                <meta content=\"4.52\" />\\n                                                <span class=\"grid-col__reviews\">695</span>\\n                                            </span>\\n                                        </div>\\n                                    </a>\\n                                </div>\\n                            </li><div class=\"placement-295\"><p style=\"display: none;\" data-src=\"http://ib.3lift.com/ttj?inv_code=allrecipes_recipedetail_rightrail\"></p><div style=\"display: inline;\" class=\"tlod\"><style>div.placement-295 {display:inline;} div.placement-295 p, div.placement-295 div.tlod {display:none !important;}</style></div><script src=\"http://ib.3lift.com/ttj?inv_code=allrecipes_recipedetail_rightrail\" tl_id=\"6579\"></script></div>\\n                            <li ng-click=\"setAnalyticsCookie(\\'similar recipe\\')\" class=\"slider-card\">\\n                                <div class=\"slider-card__recipes\">\\n                                    <a data-ng-show=\"showHeart\" title=\"Save this recipe\" ng-class=\"{ highlighted : saved }\" data-imageurl=\"\\'http://images.media-allrecipes.com/userphotos/150x150/271983.jpg\\'\" data-name=\"&quot;Urban Legend Chocolate Chip Cookies&quot;\" data-type=\"\\'Recipe\\'\" data-id=\"9804\" class=\"favorite ng-isolate-scope\"><span class=\"ng-binding\"></span></a>\\n                                    <a referring-id=\"10141\" data-click-id=\"simslot_2\" data-internal-referrer-link=\"similar_recipe_banner\" href=\"/recipe/9804/urban-legend-chocolate-chip-cookies/?internalSource=similar_recipe_banner&amp;referringId=10141&amp;referringContentType=recipe&amp;clickId=simslot_2\" class=\"ng-isolate-scope\" target=\"_self\">\\n                                        <img data-container=\"similarRecipes\" src=\"http://images.media-allrecipes.com/ar/spacer.gif\" title=\"Urban Legend Chocolate Chip Cookies\" alt=\"Urban Legend Chocolate Chip Cookies Recipe - A woman outraged at the $250 bill for a chocolate chip cookie recipe spreads the recipe far and wide. True story?Who knows, but it is a mighty fine cookie.\" data-original-src=\"http://images.media-allrecipes.com/userphotos/150x150/271983.jpg\" data-lazy-load=\"\" class=\"slider-card__img ng-isolate-scope\" />\\n                                        <h3 class=\"slider-card__h3\">Urban Legend Chocolate Chip Cookies</h3>\\n                                    </a>\\n                                    <a href=\"\">\\n                                        <div data-scroll-to-anchor=\"reviews\" class=\"slider-card__ratings\">\\n                                            <div data-ratingstars=\"4.55000019073486\" data-scroll-to-anchor=\"reviews\" class=\"rating-stars\">\\n        <img width=\"16\" height=\"16\" src=\"http://images.media-allrecipes.com/ar-images/icons/rating-stars/full-star-2015.svg\" />\\n        <img width=\"16\" height=\"16\" src=\"http://images.media-allrecipes.com/ar-images/icons/rating-stars/full-star-2015.svg\" />\\n        <img width=\"16\" height=\"16\" src=\"http://images.media-allrecipes.com/ar-images/icons/rating-stars/full-star-2015.svg\" />\\n        <img width=\"16\" height=\"16\" src=\"http://images.media-allrecipes.com/ar-images/icons/rating-stars/full-star-2015.svg\" />\\n        <img width=\"16\" height=\"16\" src=\"http://images.media-allrecipes.com/ar-images/icons/rating-stars/half-star-2015.svg\" />\\n</div>\\n                                            <span class=\"aggregate-rating\">\\n                                                <meta content=\"4.55\" />\\n                                                <span class=\"grid-col__reviews\">617</span>\\n                                            </span>\\n                                        </div>\\n                                    </a>\\n                                </div>\\n                            </li>\\n                            <li ng-click=\"setAnalyticsCookie(\\'similar recipe\\')\" class=\"slider-card\">\\n                                <div class=\"slider-card__recipes\">\\n                                    <a data-ng-show=\"showHeart\" title=\"Save this recipe\" ng-class=\"{ highlighted : saved }\" data-imageurl=\"\\'http://images.media-allrecipes.com/userphotos/150x150/489468.jpg\\'\" data-name=\"&quot;Chocolate Chocolate Chip Cookies II&quot;\" data-type=\"\\'Recipe\\'\" data-id=\"10666\" class=\"favorite ng-isolate-scope\"><span class=\"ng-binding\"></span></a>\\n                                    <a referring-id=\"10141\" data-click-id=\"simslot_3\" data-internal-referrer-link=\"similar_recipe_banner\" href=\"/recipe/10666/chocolate-chocolate-chip-cookies-ii/?internalSource=similar_recipe_banner&amp;referringId=10141&amp;referringContentType=recipe&amp;clickId=simslot_3\" class=\"ng-isolate-scope\" target=\"_self\">\\n                                        <img data-container=\"similarRecipes\" src=\"http://images.media-allrecipes.com/ar/spacer.gif\" title=\"Chocolate Chocolate Chip Cookies II\" alt=\"Chocolate Chocolate Chip Cookies II Recipe - You can add macadamia nuts or any other nuts for that matter.  Delicious!!\" data-original-src=\"http://images.media-allrecipes.com/userphotos/150x150/489468.jpg\" data-lazy-load=\"\" class=\"slider-card__img ng-isolate-scope\" />\\n                                        <h3 class=\"slider-card__h3\">Chocolate Chocolate Chip Cookies II</h3>\\n                                    </a>\\n                                    <a href=\"\">\\n                                        <div data-scroll-to-anchor=\"reviews\" class=\"slider-card__ratings\">\\n                                            <div data-ratingstars=\"4.65000009536743\" data-scroll-to-anchor=\"reviews\" class=\"rating-stars\">\\n        <img width=\"16\" height=\"16\" src=\"http://images.media-allrecipes.com/ar-images/icons/rating-stars/full-star-2015.svg\" />\\n        <img width=\"16\" height=\"16\" src=\"http://images.media-allrecipes.com/ar-images/icons/rating-stars/full-star-2015.svg\" />\\n        <img width=\"16\" height=\"16\" src=\"http://images.media-allrecipes.com/ar-images/icons/rating-stars/full-star-2015.svg\" />\\n        <img width=\"16\" height=\"16\" src=\"http://images.media-allrecipes.com/ar-images/icons/rating-stars/full-star-2015.svg\" />\\n        <img width=\"16\" height=\"16\" src=\"http://images.media-allrecipes.com/ar-images/icons/rating-stars/half-star-2015.svg\" />\\n</div>\\n                                            <span class=\"aggregate-rating\">\\n                                                <meta content=\"4.65\" />\\n                                                <span class=\"grid-col__reviews\">590</span>\\n                                            </span>\\n                                        </div>\\n                                    </a>\\n                                </div>\\n                            </li>\\n                            <li ng-click=\"setAnalyticsCookie(\\'similar recipe\\')\" class=\"slider-card\">\\n                                <div class=\"slider-card__recipes\">\\n                                    <a data-ng-show=\"showHeart\" title=\"Save this recipe\" ng-class=\"{ highlighted : saved }\" data-imageurl=\"\\'http://images.media-allrecipes.com/userphotos/150x150/20762.jpg\\'\" data-name=\"&quot;Chocolate Chip Cookies V&quot;\" data-type=\"\\'Recipe\\'\" data-id=\"25040\" class=\"favorite ng-isolate-scope\"><span class=\"ng-binding\"></span></a>\\n                                    <a referring-id=\"10141\" data-click-id=\"simslot_4\" data-internal-referrer-link=\"similar_recipe_banner\" href=\"/recipe/25040/chocolate-chip-cookies-v/?internalSource=similar_recipe_banner&amp;referringId=10141&amp;referringContentType=recipe&amp;clickId=simslot_4\" class=\"ng-isolate-scope\" target=\"_self\">\\n                                        <img data-container=\"similarRecipes\" src=\"http://images.media-allrecipes.com/ar/spacer.gif\" title=\"Chocolate Chip Cookies V\" alt=\"Chocolate Chip Cookies V Recipe - Moist chocolate chip cookies!! \" data-original-src=\"http://images.media-allrecipes.com/userphotos/150x150/20762.jpg\" data-lazy-load=\"\" class=\"slider-card__img ng-isolate-scope\" />\\n                                        <h3 class=\"slider-card__h3\">Chocolate Chip Cookies V</h3>\\n                                    </a>\\n                                    <a href=\"\">\\n                                        <div data-scroll-to-anchor=\"reviews\" class=\"slider-card__ratings\">\\n                                            <div data-ratingstars=\"4.73000001907349\" data-scroll-to-anchor=\"reviews\" class=\"rating-stars\">\\n        <img width=\"16\" height=\"16\" src=\"http://images.media-allrecipes.com/ar-images/icons/rating-stars/full-star-2015.svg\" />\\n        <img width=\"16\" height=\"16\" src=\"http://images.media-allrecipes.com/ar-images/icons/rating-stars/full-star-2015.svg\" />\\n        <img width=\"16\" height=\"16\" src=\"http://images.media-allrecipes.com/ar-images/icons/rating-stars/full-star-2015.svg\" />\\n        <img width=\"16\" height=\"16\" src=\"http://images.media-allrecipes.com/ar-images/icons/rating-stars/full-star-2015.svg\" />\\n        <img width=\"16\" height=\"16\" src=\"http://images.media-allrecipes.com/ar-images/icons/rating-stars/half-star-2015.svg\" />\\n</div>\\n                                            <span class=\"aggregate-rating\">\\n                                                <meta content=\"4.73\" />\\n                                                <span class=\"grid-col__reviews\">109</span>\\n                                            </span>\\n                                        </div>\\n                                    </a>\\n                                </div>\\n                            </li>\\n                            <li ng-click=\"setAnalyticsCookie(\\'similar recipe\\')\" class=\"slider-card\">\\n                                <div class=\"slider-card__recipes\">\\n                                    <a data-ng-show=\"showHeart\" title=\"Save this recipe\" ng-class=\"{ highlighted : saved }\" data-imageurl=\"\\'http://images.media-allrecipes.com/userphotos/150x150/2727553.jpg\\'\" data-name=\"&quot;Chocolate Chip Cookies II&quot;\" data-type=\"\\'Recipe\\'\" data-id=\"10353\" class=\"favorite ng-isolate-scope\"><span class=\"ng-binding\"></span></a>\\n                                    <a referring-id=\"10141\" data-click-id=\"simslot_5\" data-internal-referrer-link=\"similar_recipe_banner\" href=\"/recipe/10353/chocolate-chip-cookies-ii/?internalSource=similar_recipe_banner&amp;referringId=10141&amp;referringContentType=recipe&amp;clickId=simslot_5\" class=\"ng-isolate-scope\" target=\"_self\">\\n                                        <img data-container=\"similarRecipes\" src=\"http://images.media-allrecipes.com/ar/spacer.gif\" title=\"Chocolate Chip Cookies II\" alt=\"Chocolate Chip Cookies II Recipe - My family loves my cookies very much.  I hope that you and your family enjoy them.\" data-original-src=\"http://images.media-allrecipes.com/userphotos/150x150/2727553.jpg\" data-lazy-load=\"\" class=\"slider-card__img ng-isolate-scope\" />\\n                                        <h3 class=\"slider-card__h3\">Chocolate Chip Cookies II</h3>\\n                                    </a>\\n                                    <a href=\"\">\\n                                        <div data-scroll-to-anchor=\"reviews\" class=\"slider-card__ratings\">\\n                                            <div data-ratingstars=\"4.11999988555908\" data-scroll-to-anchor=\"reviews\" class=\"rating-stars\">\\n        <img width=\"16\" height=\"16\" src=\"http://images.media-allrecipes.com/ar-images/icons/rating-stars/full-star-2015.svg\" />\\n        <img width=\"16\" height=\"16\" src=\"http://images.media-allrecipes.com/ar-images/icons/rating-stars/full-star-2015.svg\" />\\n        <img width=\"16\" height=\"16\" src=\"http://images.media-allrecipes.com/ar-images/icons/rating-stars/full-star-2015.svg\" />\\n        <img width=\"16\" height=\"16\" src=\"http://images.media-allrecipes.com/ar-images/icons/rating-stars/full-star-2015.svg\" />\\n        <img width=\"16\" height=\"16\" src=\"http://images.media-allrecipes.com/ar-images/icons/rating-stars/empty-star.svg\" />\\n</div>\\n                                            <span class=\"aggregate-rating\">\\n                                                <meta content=\"4.12\" />\\n                                                <span class=\"grid-col__reviews\">97</span>\\n                                            </span>\\n                                        </div>\\n                                    </a>\\n                                </div>\\n                            </li>\\n                            <li ng-click=\"setAnalyticsCookie(\\'similar recipe\\')\" class=\"slider-card\">\\n                                <div class=\"slider-card__recipes\">\\n                                    <a data-ng-show=\"showHeart\" title=\"Save this recipe\" ng-class=\"{ highlighted : saved }\" data-imageurl=\"\\'http://images.media-allrecipes.com/userphotos/150x150/104692.jpg\\'\" data-name=\"&quot;Peanut Butter Chocolate Chip Cookies III&quot;\" data-type=\"\\'Recipe\\'\" data-id=\"25119\" class=\"favorite ng-isolate-scope\"><span class=\"ng-binding\"></span></a>\\n                                    <a referring-id=\"10141\" data-click-id=\"simslot_6\" data-internal-referrer-link=\"similar_recipe_banner\" href=\"/recipe/25119/peanut-butter-chocolate-chip-cookies/?internalSource=similar_recipe_banner&amp;referringId=10141&amp;referringContentType=recipe&amp;clickId=simslot_6\" class=\"ng-isolate-scope\" target=\"_self\">\\n                                        <img data-container=\"similarRecipes\" src=\"http://images.media-allrecipes.com/ar/spacer.gif\" title=\"Peanut Butter Chocolate Chip Cookies ...\" alt=\"Peanut Butter Chocolate Chip Cookies ... Recipe - Moist and chewy with the wonderful combination of chocolate and peanut butter.\" data-original-src=\"http://images.media-allrecipes.com/userphotos/150x150/104692.jpg\" data-lazy-load=\"\" class=\"slider-card__img ng-isolate-scope\" />\\n                                        <h3 class=\"slider-card__h3\">Peanut Butter Chocolate Chip Cookies ...</h3>\\n                                    </a>\\n                                    <a href=\"\">\\n                                        <div data-scroll-to-anchor=\"reviews\" class=\"slider-card__ratings\">\\n                                            <div data-ratingstars=\"4.19000005722046\" data-scroll-to-anchor=\"reviews\" class=\"rating-stars\">\\n        <img width=\"16\" height=\"16\" src=\"http://images.media-allrecipes.com/ar-images/icons/rating-stars/full-star-2015.svg\" />\\n        <img width=\"16\" height=\"16\" src=\"http://images.media-allrecipes.com/ar-images/icons/rating-stars/full-star-2015.svg\" />\\n        <img width=\"16\" height=\"16\" src=\"http://images.media-allrecipes.com/ar-images/icons/rating-stars/full-star-2015.svg\" />\\n        <img width=\"16\" height=\"16\" src=\"http://images.media-allrecipes.com/ar-images/icons/rating-stars/full-star-2015.svg\" />\\n        <img width=\"16\" height=\"16\" src=\"http://images.media-allrecipes.com/ar-images/icons/rating-stars/empty-star.svg\" />\\n</div>\\n                                            <span class=\"aggregate-rating\">\\n                                                <meta content=\"4.19\" />\\n                                                <span class=\"grid-col__reviews\">53</span>\\n                                            </span>\\n                                        </div>\\n                                    </a>\\n                                </div>\\n                            </li>\\n                            <li ng-click=\"setAnalyticsCookie(\\'similar recipe\\')\" class=\"slider-card\">\\n                                <div class=\"slider-card__recipes\">\\n                                    <a data-ng-show=\"showHeart\" title=\"Save this recipe\" ng-class=\"{ highlighted : saved }\" data-imageurl=\"\\'http://images.media-allrecipes.com/userphotos/150x150/913881.jpg\\'\" data-name=\"&quot;Devouring Oatmeal Chocolate Chip Cookies&quot;\" data-type=\"\\'Recipe\\'\" data-id=\"228736\" class=\"favorite ng-isolate-scope\"><span class=\"ng-binding\"></span></a>\\n                                    <a referring-id=\"10141\" data-click-id=\"simslot_7\" data-internal-referrer-link=\"similar_recipe_banner\" href=\"/recipe/228736/devouring-oatmeal-chocolate-chip-cook/?internalSource=similar_recipe_banner&amp;referringId=10141&amp;referringContentType=recipe&amp;clickId=simslot_7\" class=\"ng-isolate-scope\" target=\"_self\">\\n                                        <img data-container=\"similarRecipes\" src=\"http://images.media-allrecipes.com/ar/spacer.gif\" title=\"Devouring Oatmeal Chocolate Chip Cook...\" alt=\"Devouring Oatmeal Chocolate Chip Cook... Recipe - A hearty serving of oats is in each of these chocolate chip cookies. They will disappear quickly in your house!\" data-original-src=\"http://images.media-allrecipes.com/userphotos/150x150/913881.jpg\" data-lazy-load=\"\" class=\"slider-card__img ng-isolate-scope\" />\\n                                        <h3 class=\"slider-card__h3\">Devouring Oatmeal Chocolate Chip Cook...</h3>\\n                                    </a>\\n                                    <a href=\"\">\\n                                        <div data-scroll-to-anchor=\"reviews\" class=\"slider-card__ratings\">\\n                                            <div data-ratingstars=\"4.48000001907349\" data-scroll-to-anchor=\"reviews\" class=\"rating-stars\">\\n        <img width=\"16\" height=\"16\" src=\"http://images.media-allrecipes.com/ar-images/icons/rating-stars/full-star-2015.svg\" />\\n        <img width=\"16\" height=\"16\" src=\"http://images.media-allrecipes.com/ar-images/icons/rating-stars/full-star-2015.svg\" />\\n        <img width=\"16\" height=\"16\" src=\"http://images.media-allrecipes.com/ar-images/icons/rating-stars/full-star-2015.svg\" />\\n        <img width=\"16\" height=\"16\" src=\"http://images.media-allrecipes.com/ar-images/icons/rating-stars/full-star-2015.svg\" />\\n        <img width=\"16\" height=\"16\" src=\"http://images.media-allrecipes.com/ar-images/icons/rating-stars/half-star-2015.svg\" />\\n</div>\\n                                            <span class=\"aggregate-rating\">\\n                                                <meta content=\"4.48\" />\\n                                                <span class=\"grid-col__reviews\">47</span>\\n                                            </span>\\n                                        </div>\\n                                    </a>\\n                                </div>\\n                            </li>\\n                            <li ng-click=\"setAnalyticsCookie(\\'similar recipe\\')\" class=\"slider-card\">\\n                                <div class=\"slider-card__recipes\">\\n                                    <a data-ng-show=\"showHeart\" title=\"Save this recipe\" ng-class=\"{ highlighted : saved }\" data-imageurl=\"\\'http://images.media-allrecipes.com/userphotos/150x150/198537.jpg\\'\" data-name=\"&quot;Allison\\'s Supreme Chocolate Chip Cookies&quot;\" data-type=\"\\'Recipe\\'\" data-id=\"10032\" class=\"favorite ng-isolate-scope\"><span class=\"ng-binding\"></span></a>\\n                                    <a referring-id=\"10141\" data-click-id=\"simslot_8\" data-internal-referrer-link=\"similar_recipe_banner\" href=\"/recipe/10032/allisons-supreme-chocolate-chip-cook/?internalSource=similar_recipe_banner&amp;referringId=10141&amp;referringContentType=recipe&amp;clickId=simslot_8\" class=\"ng-isolate-scope\" target=\"_self\">\\n                                        <img data-container=\"similarRecipes\" src=\"http://images.media-allrecipes.com/ar/spacer.gif\" title=\"Allison\\'s Supreme Chocolate Chip Cook...\" alt=\"Allison\\'s Supreme Chocolate Chip Cook... Recipe - Extra rich chocolate chip cookies. These stay soft a long time!\" data-original-src=\"http://images.media-allrecipes.com/userphotos/150x150/198537.jpg\" data-lazy-load=\"\" class=\"slider-card__img ng-isolate-scope\" />\\n                                        <h3 class=\"slider-card__h3\">Allison\\'s Supreme Chocolate Chip Cook...</h3>\\n                                    </a>\\n                                    <a href=\"\">\\n                                        <div data-scroll-to-anchor=\"reviews\" class=\"slider-card__ratings\">\\n                                            <div data-ratingstars=\"4.6399998664856\" data-scroll-to-anchor=\"reviews\" class=\"rating-stars\">\\n        <img width=\"16\" height=\"16\" src=\"http://images.media-allrecipes.com/ar-images/icons/rating-stars/full-star-2015.svg\" />\\n        <img width=\"16\" height=\"16\" src=\"http://images.media-allrecipes.com/ar-images/icons/rating-stars/full-star-2015.svg\" />\\n        <img width=\"16\" height=\"16\" src=\"http://images.media-allrecipes.com/ar-images/icons/rating-stars/full-star-2015.svg\" />\\n        <img width=\"16\" height=\"16\" src=\"http://images.media-allrecipes.com/ar-images/icons/rating-stars/full-star-2015.svg\" />\\n        <img width=\"16\" height=\"16\" src=\"http://images.media-allrecipes.com/ar-images/icons/rating-stars/half-star-2015.svg\" />\\n</div>\\n                                            <span class=\"aggregate-rating\">\\n                                                <meta content=\"4.64\" />\\n                                                <span class=\"grid-col__reviews\">44</span>\\n                                            </span>\\n                                        </div>\\n                                    </a>\\n                                </div>\\n                            </li>\\n                            <li ng-click=\"setAnalyticsCookie(\\'similar recipe\\')\" class=\"slider-card\">\\n                                <div class=\"slider-card__recipes\">\\n                                    <a data-ng-show=\"showHeart\" title=\"Save this recipe\" ng-class=\"{ highlighted : saved }\" data-imageurl=\"\\'http://images.media-allrecipes.com/userphotos/150x150/864666.jpg\\'\" data-name=\"&quot;Chocolate Oatmeal Chip Cookies&quot;\" data-type=\"\\'Recipe\\'\" data-id=\"227998\" class=\"favorite ng-isolate-scope\"><span class=\"ng-binding\"></span></a>\\n                                    <a referring-id=\"10141\" data-click-id=\"simslot_9\" data-internal-referrer-link=\"similar_recipe_banner\" href=\"/recipe/227998/chocolate-oatmeal-chip-cookies/?internalSource=similar_recipe_banner&amp;referringId=10141&amp;referringContentType=recipe&amp;clickId=simslot_9\" class=\"ng-isolate-scope\" target=\"_self\">\\n                                        <img data-container=\"similarRecipes\" src=\"http://images.media-allrecipes.com/ar/spacer.gif\" title=\"Chocolate Oatmeal Chip Cookies\" alt=\"Chocolate Oatmeal Chip Cookies Recipe - Rich chocolate cookies with oatmeal and chocolate chips are sure to be a hit.\" data-original-src=\"http://images.media-allrecipes.com/userphotos/150x150/864666.jpg\" data-lazy-load=\"\" class=\"slider-card__img ng-isolate-scope\" />\\n                                        <h3 class=\"slider-card__h3\">Chocolate Oatmeal Chip Cookies</h3>\\n                                    </a>\\n                                    <a href=\"\">\\n                                        <div data-scroll-to-anchor=\"reviews\" class=\"slider-card__ratings\">\\n                                            <div data-ratingstars=\"4.51000022888184\" data-scroll-to-anchor=\"reviews\" class=\"rating-stars\">\\n        <img width=\"16\" height=\"16\" src=\"http://images.media-allrecipes.com/ar-images/icons/rating-stars/full-star-2015.svg\" />\\n        <img width=\"16\" height=\"16\" src=\"http://images.media-allrecipes.com/ar-images/icons/rating-stars/full-star-2015.svg\" />\\n        <img width=\"16\" height=\"16\" src=\"http://images.media-allrecipes.com/ar-images/icons/rating-stars/full-star-2015.svg\" />\\n        <img width=\"16\" height=\"16\" src=\"http://images.media-allrecipes.com/ar-images/icons/rating-stars/full-star-2015.svg\" />\\n        <img width=\"16\" height=\"16\" src=\"http://images.media-allrecipes.com/ar-images/icons/rating-stars/half-star-2015.svg\" />\\n</div>\\n                                            <span class=\"aggregate-rating\">\\n                                                <meta content=\"4.51\" />\\n                                                <span class=\"grid-col__reviews\">30</span>\\n                                            </span>\\n                                        </div>\\n                                    </a>\\n                                </div>\\n                            </li>\\n                            <li ng-click=\"setAnalyticsCookie(\\'similar recipe\\')\" class=\"slider-card\">\\n                                <div class=\"slider-card__recipes\">\\n                                    <a data-ng-show=\"showHeart\" title=\"Save this recipe\" ng-class=\"{ highlighted : saved }\" data-imageurl=\"\\'http://images.media-allrecipes.com/userphotos/150x150/1663374.jpg\\'\" data-name=\"&quot;Protein Peanut Butter Chocolate Chip Cookies&quot;\" data-type=\"\\'Recipe\\'\" data-id=\"25784\" class=\"favorite ng-isolate-scope\"><span class=\"ng-binding\"></span></a>\\n                                    <a referring-id=\"10141\" data-click-id=\"simslot_10\" data-internal-referrer-link=\"similar_recipe_banner\" href=\"/recipe/25784/protein-peanut-butter-chocolate-chip/?internalSource=similar_recipe_banner&amp;referringId=10141&amp;referringContentType=recipe&amp;clickId=simslot_10\" class=\"ng-isolate-scope\" target=\"_self\">\\n                                        <img data-container=\"similarRecipes\" src=\"http://images.media-allrecipes.com/ar/spacer.gif\" title=\"Protein Peanut Butter Chocolate Chip ...\" alt=\"Protein Peanut Butter Chocolate Chip ... Recipe - Tasty cookies with a protein supplement, perfect for people who work out and are grossed out by protein shakes. Can substitute flavored supplements for a fruity twist.\" data-original-src=\"http://images.media-allrecipes.com/userphotos/150x150/1663374.jpg\" data-lazy-load=\"\" class=\"slider-card__img ng-isolate-scope\" />\\n                                        <h3 class=\"slider-card__h3\">Protein Peanut Butter Chocolate Chip ...</h3>\\n                                    </a>\\n                                    <a href=\"\">\\n                                        <div data-scroll-to-anchor=\"reviews\" class=\"slider-card__ratings\">\\n                                            <div data-ratingstars=\"4.51999998092651\" data-scroll-to-anchor=\"reviews\" class=\"rating-stars\">\\n        <img width=\"16\" height=\"16\" src=\"http://images.media-allrecipes.com/ar-images/icons/rating-stars/full-star-2015.svg\" />\\n        <img width=\"16\" height=\"16\" src=\"http://images.media-allrecipes.com/ar-images/icons/rating-stars/full-star-2015.svg\" />\\n        <img width=\"16\" height=\"16\" src=\"http://images.media-allrecipes.com/ar-images/icons/rating-stars/full-star-2015.svg\" />\\n        <img width=\"16\" height=\"16\" src=\"http://images.media-allrecipes.com/ar-images/icons/rating-stars/full-star-2015.svg\" />\\n        <img width=\"16\" height=\"16\" src=\"http://images.media-allrecipes.com/ar-images/icons/rating-stars/half-star-2015.svg\" />\\n</div>\\n                                            <span class=\"aggregate-rating\">\\n                                                <meta content=\"4.52\" />\\n                                                <span class=\"grid-col__reviews\">26</span>\\n                                            </span>\\n                                        </div>\\n                                    </a>\\n                                </div>\\n                            </li>\\n                    </ul>\\n\\n                    \\n                    <ul ng-show=\"isSet(2)\" id=\"relatedVideos\" class=\"video-carousel ng-hide\">\\n                            <li ng-click=\"setAnalyticsCookie(\\'similar video\\')\" class=\"slider-card\">\\n                                <div class=\"slider-card__videos\">\\n                                    <a referring-id=\"10141\" data-click-id=\"simslot_1\" data-internal-referrer-link=\"similar_video_banner\" href=\"/video/336/triple-chocolate-chip-cookies/?internalSource=similar_video_banner&amp;referringId=10141&amp;referringContentType=recipe&amp;clickId=simslot_1\" class=\"ng-isolate-scope\" target=\"_self\">\\n                                        <img data-container=\"relatedVideos\" src=\"http://images.media-allrecipes.com/ar/spacer.gif\" title=\"Triple Chocolate Chip Cookies\" alt=\"Triple Chocolate Chip Cookies Recipe and Video - Make chocolate chip cookies without an electric mixer.\" data-original-src=\"http://brightcove.vo.llnwd.net/e1/pd/1033249144001/1033249144001_1299488803001_TripleChocolateChipCookies481x271.jpg?pubId=1033249144001\" data-lazy-load=\"\" class=\"slider-card__videos videoImg ng-isolate-scope\" />\\n                                        <span href=\"/video/336/triple-chocolate-chip-cookies/\" class=\"icon--videoplay-small\"></span>\\n                                        <h3 class=\"slider-card__h3\">Triple Chocolate Chip Cookies</h3>\\n                                        <div class=\"counts-div\">\\n                                            <span class=\"svg-icon--actions--playcount_grey svg-icon--actions--playcount_grey-dims\"></span>\\n                                            <span class=\"counts-text\">265K plays </span>\\n                                        </div>\\n                                    </a>\\n                                </div>\\n                            </li>\\n                            <li ng-click=\"setAnalyticsCookie(\\'similar video\\')\" class=\"slider-card\">\\n                                <div class=\"slider-card__videos\">\\n                                    <a referring-id=\"10141\" data-click-id=\"simslot_2\" data-internal-referrer-link=\"similar_video_banner\" href=\"/video/626/best-chocolate-chip-cookies/?internalSource=similar_video_banner&amp;referringId=10141&amp;referringContentType=recipe&amp;clickId=simslot_2\" class=\"ng-isolate-scope\" target=\"_self\">\\n                                        <img data-container=\"relatedVideos\" src=\"http://images.media-allrecipes.com/ar/spacer.gif\" title=\"Best Chocolate Chip Cookies\" alt=\"Best Chocolate Chip Cookies Recipe and Video - See how to bake the perfect chocolate chip cookie.\" data-original-src=\"http://brightcove.vo.llnwd.net/d21/unsecured/media/1033249144001/1033249144001_1547392488001_ari-origin05-arc-129-1333572232943.jpg?pubId=1033249144001\" data-lazy-load=\"\" class=\"slider-card__videos videoImg ng-isolate-scope\" />\\n                                        <span href=\"/video/626/best-chocolate-chip-cookies/\" class=\"icon--videoplay-small\"></span>\\n                                        <h3 class=\"slider-card__h3\">Best Chocolate Chip Cookies</h3>\\n                                        <div class=\"counts-div\">\\n                                            <span class=\"svg-icon--actions--playcount_grey svg-icon--actions--playcount_grey-dims\"></span>\\n                                            <span class=\"counts-text\">1m plays </span>\\n                                        </div>\\n                                    </a>\\n                                </div>\\n                            </li>\\n                            <li ng-click=\"setAnalyticsCookie(\\'similar video\\')\" class=\"slider-card\">\\n                                <div class=\"slider-card__videos\">\\n                                    <a referring-id=\"10141\" data-click-id=\"simslot_3\" data-internal-referrer-link=\"similar_video_banner\" href=\"/video/696/chewy-chocolate-chip-oatmeal-cookies/?internalSource=similar_video_banner&amp;referringId=10141&amp;referringContentType=recipe&amp;clickId=simslot_3\" class=\"ng-isolate-scope\" target=\"_self\">\\n                                        <img data-container=\"relatedVideos\" src=\"http://images.media-allrecipes.com/ar/spacer.gif\" title=\"Chewy Chocolate Chip Oatmeal Cookies\" alt=\"Chewy Chocolate Chip Oatmeal Cookies Recipe and Video - See how to make one of our most popular cookies.\" data-original-src=\"http://brightcove.vo.llnwd.net/d21/unsecured/media/1033249144001/1033249144001_1969177865001_ari-origin05-arc-179-1352920881063.jpg?pubId=1033249144001\" data-lazy-load=\"\" class=\"slider-card__videos videoImg ng-isolate-scope\" />\\n                                        <span href=\"/video/696/chewy-chocolate-chip-oatmeal-cookies/\" class=\"icon--videoplay-small\"></span>\\n                                        <h3 class=\"slider-card__h3\">Chewy Chocolate Chip Oatmeal Cookies</h3>\\n                                        <div class=\"counts-div\">\\n                                            <span class=\"svg-icon--actions--playcount_grey svg-icon--actions--playcount_grey-dims\"></span>\\n                                            <span class=\"counts-text\">227K plays </span>\\n                                        </div>\\n                                    </a>\\n                                </div>\\n                            </li>\\n                            <li ng-click=\"setAnalyticsCookie(\\'similar video\\')\" class=\"slider-card\">\\n                                <div class=\"slider-card__videos\">\\n                                    <a referring-id=\"10141\" data-click-id=\"simslot_4\" data-internal-referrer-link=\"similar_video_banner\" href=\"/video/1067/absolutely-the-best-chocolate-chip-cookies/?internalSource=similar_video_banner&amp;referringId=10141&amp;referringContentType=recipe&amp;clickId=simslot_4\" class=\"ng-isolate-scope\" target=\"_self\">\\n                                        <img data-container=\"relatedVideos\" src=\"http://images.media-allrecipes.com/ar/spacer.gif\" title=\"Absolutely the Best Chocolate Chip Cookies\" alt=\"Absolutely the Best Chocolate Chip Cookies Recipe and Video - Try these addictive cookies, featuring milk-chocolate chips. Mmm.\" data-original-src=\"http://brightcove.vo.llnwd.net/d22/unsecured/media/1033249144001/1033249144001_1730756039001_ari-origin05-arc-155-1342028899429.jpg?pubId=1033249144001\" data-lazy-load=\"\" class=\"slider-card__videos videoImg ng-isolate-scope\" />\\n                                        <span href=\"/video/1067/absolutely-the-best-chocolate-chip-cookies/\" class=\"icon--videoplay-small\"></span>\\n                                        <h3 class=\"slider-card__h3\">Absolutely the Best Chocolate Chip...</h3>\\n                                        <div class=\"counts-div\">\\n                                            <span class=\"svg-icon--actions--playcount_grey svg-icon--actions--playcount_grey-dims\"></span>\\n                                            <span class=\"counts-text\">163K plays </span>\\n                                        </div>\\n                                    </a>\\n                                </div>\\n                            </li>\\n                            <li ng-click=\"setAnalyticsCookie(\\'similar video\\')\" class=\"slider-card\">\\n                                <div class=\"slider-card__videos\">\\n                                    <a referring-id=\"10141\" data-click-id=\"simslot_5\" data-internal-referrer-link=\"similar_video_banner\" href=\"/video/2801/chocolate-chocolate-chip-cookies-i/?internalSource=similar_video_banner&amp;referringId=10141&amp;referringContentType=recipe&amp;clickId=simslot_5\" class=\"ng-isolate-scope\" target=\"_self\">\\n                                        <img data-container=\"relatedVideos\" src=\"http://images.media-allrecipes.com/ar/spacer.gif\" title=\"Chocolate Chocolate Chip Cookies I\" alt=\"Chocolate Chocolate Chip Cookies I Recipe and Video - See how to make the chocolate lover\\u2019s chocolate chip cookie. \" data-original-src=\"http://brightcove.vo.llnwd.net/d21/unsecured/media/1033249144001/1033249144001_1998665250001_900944612-147-1354238153269.jpg?pubId=1033249144001\" data-lazy-load=\"\" class=\"slider-card__videos videoImg ng-isolate-scope\" />\\n                                        <span href=\"/video/2801/chocolate-chocolate-chip-cookies-i/\" class=\"icon--videoplay-small\"></span>\\n                                        <h3 class=\"slider-card__h3\">Chocolate Chocolate Chip Cookies I</h3>\\n                                        <div class=\"counts-div\">\\n                                            <span class=\"svg-icon--actions--playcount_grey svg-icon--actions--playcount_grey-dims\"></span>\\n                                            <span class=\"counts-text\">130K plays </span>\\n                                        </div>\\n                                    </a>\\n                                </div>\\n                            </li>\\n                            <li ng-click=\"setAnalyticsCookie(\\'similar video\\')\" class=\"slider-card\">\\n                                <div class=\"slider-card__videos\">\\n                                    <a referring-id=\"10141\" data-click-id=\"simslot_6\" data-internal-referrer-link=\"similar_video_banner\" href=\"/video/3413/no-cholesterol-chocolate-chip-cookies/?internalSource=similar_video_banner&amp;referringId=10141&amp;referringContentType=recipe&amp;clickId=simslot_6\" class=\"ng-isolate-scope\" target=\"_self\">\\n                                        <img data-container=\"relatedVideos\" src=\"http://images.media-allrecipes.com/ar/spacer.gif\" title=\"No Cholesterol Chocolate Chip Cookies\" alt=\"No Cholesterol Chocolate Chip Cookies Recipe and Video - These amazing cookies are good for the heart AND for the taste buds. \" data-original-src=\"http://brightcove.vo.llnwd.net/d21/unsecured/media/1033249144001/1033249144001_2306016868001_video-still-for-video-2305709296001.jpg?pubId=1033249144001\" data-lazy-load=\"\" class=\"slider-card__videos videoImg ng-isolate-scope\" />\\n                                        <span href=\"/video/3413/no-cholesterol-chocolate-chip-cookies/\" class=\"icon--videoplay-small\"></span>\\n                                        <h3 class=\"slider-card__h3\">No Cholesterol Chocolate Chip Cookies</h3>\\n                                        <div class=\"counts-div\">\\n                                            <span class=\"svg-icon--actions--playcount_grey svg-icon--actions--playcount_grey-dims\"></span>\\n                                            <span class=\"counts-text\">72K plays </span>\\n                                        </div>\\n                                    </a>\\n                                </div>\\n                            </li>\\n                            <li ng-click=\"setAnalyticsCookie(\\'similar video\\')\" class=\"slider-card\">\\n                                <div class=\"slider-card__videos\">\\n                                    <a referring-id=\"10141\" data-click-id=\"simslot_7\" data-internal-referrer-link=\"similar_video_banner\" href=\"/video/4393/outrageous-chocolate-chip-cookies/?internalSource=similar_video_banner&amp;referringId=10141&amp;referringContentType=recipe&amp;clickId=simslot_7\" class=\"ng-isolate-scope\" target=\"_self\">\\n                                        <img data-container=\"relatedVideos\" src=\"http://images.media-allrecipes.com/ar/spacer.gif\" title=\"Outrageous Chocolate Chip Cookies\" alt=\"Outrageous Chocolate Chip Cookies Recipe and Video - Peanut butter, oats, and chocolate chips create an outrageous treat.\" data-original-src=\"http://brightcove.vo.llnwd.net/d21/unsecured/media/1033249144001/201402/2123/1033249144001_3153301709001_video-still-for-video-2955880512001.jpg?pubId=1033249144001\" data-lazy-load=\"\" class=\"slider-card__videos videoImg ng-isolate-scope\" />\\n                                        <span href=\"/video/4393/outrageous-chocolate-chip-cookies/\" class=\"icon--videoplay-small\"></span>\\n                                        <h3 class=\"slider-card__h3\">Outrageous Chocolate Chip Cookies</h3>\\n                                        <div class=\"counts-div\">\\n                                            <span class=\"svg-icon--actions--playcount_grey svg-icon--actions--playcount_grey-dims\"></span>\\n                                            <span class=\"counts-text\">28K plays </span>\\n                                        </div>\\n                                    </a>\\n                                </div>\\n                            </li>\\n                            <li ng-click=\"setAnalyticsCookie(\\'similar video\\')\" class=\"slider-card\">\\n                                <div class=\"slider-card__videos\">\\n                                    <a referring-id=\"10141\" data-click-id=\"simslot_8\" data-internal-referrer-link=\"similar_video_banner\" href=\"/video/4962/matcha-green-tea-chocolate-chip-cookies/?internalSource=similar_video_banner&amp;referringId=10141&amp;referringContentType=recipe&amp;clickId=simslot_8\" class=\"ng-isolate-scope\" target=\"_self\">\\n                                        <img data-container=\"relatedVideos\" src=\"http://images.media-allrecipes.com/ar/spacer.gif\" title=\"Matcha Green Tea Chocolate Chip Cookies\" alt=\"Matcha Green Tea Chocolate Chip Cookies Recipe and Video - Soft and chewy pale green sugar cookies with white chocolate chips.\" data-original-src=\"http://brightcove.vo.llnwd.net/v1/unsecured/media/1033249144001/201501/913/1033249144001_3987691702001_video-still-for-video-3987308557001.jpg?pubId=1033249144001\" data-lazy-load=\"\" class=\"slider-card__videos videoImg ng-isolate-scope\" />\\n                                        <span href=\"/video/4962/matcha-green-tea-chocolate-chip-cookies/\" class=\"icon--videoplay-small\"></span>\\n                                        <h3 class=\"slider-card__h3\">Matcha Green Tea Chocolate Chip Co...</h3>\\n                                        <div class=\"counts-div\">\\n                                            <span class=\"svg-icon--actions--playcount_grey svg-icon--actions--playcount_grey-dims\"></span>\\n                                            <span class=\"counts-text\">35K plays </span>\\n                                        </div>\\n                                    </a>\\n                                </div>\\n                            </li>\\n                            <li ng-click=\"setAnalyticsCookie(\\'similar video\\')\" class=\"slider-card\">\\n                                <div class=\"slider-card__videos\">\\n                                    <a referring-id=\"10141\" data-click-id=\"simslot_9\" data-internal-referrer-link=\"similar_video_banner\" href=\"/video/5190/chef-johns-chocolate-chip-cookies/?internalSource=similar_video_banner&amp;referringId=10141&amp;referringContentType=recipe&amp;clickId=simslot_9\" class=\"ng-isolate-scope\" target=\"_self\">\\n                                        <img data-container=\"relatedVideos\" src=\"http://images.media-allrecipes.com/ar/spacer.gif\" title=\"Chef John\\'s Chocolate Chip Cookies\" alt=\"Chef John\\'s Chocolate Chip Cookies Recipe and Video - Chocolate chip cookies that are the best of both cookie worlds, crispy and chewy.\" data-original-src=\"http://brightcove.vo.llnwd.net/v1/unsecured/media/1033249144001/201508/1706/1033249144001_4396183641001_video-still-for-video-4395629779001.jpg?pubId=1033249144001\" data-lazy-load=\"\" class=\"slider-card__videos videoImg ng-isolate-scope\" />\\n                                        <span href=\"/video/5190/chef-johns-chocolate-chip-cookies/\" class=\"icon--videoplay-small\"></span>\\n                                        <h3 class=\"slider-card__h3\">Chef John\\'s Chocolate Chip Cookies</h3>\\n                                        <div class=\"counts-div\">\\n                                            <span class=\"svg-icon--actions--playcount_grey svg-icon--actions--playcount_grey-dims\"></span>\\n                                            <span class=\"counts-text\">26K plays </span>\\n                                        </div>\\n                                    </a>\\n                                </div>\\n                            </li>\\n                            <li ng-click=\"setAnalyticsCookie(\\'similar video\\')\" class=\"slider-card\">\\n                                <div class=\"slider-card__videos\">\\n                                    <a referring-id=\"10141\" data-click-id=\"simslot_10\" data-internal-referrer-link=\"similar_video_banner\" href=\"/video/6598/salted-caramel-chocolate-chip-cookies/?internalSource=similar_video_banner&amp;referringId=10141&amp;referringContentType=recipe&amp;clickId=simslot_10\" class=\"ng-isolate-scope\" target=\"_self\">\\n                                        <img data-container=\"relatedVideos\" src=\"http://images.media-allrecipes.com/ar/spacer.gif\" title=\"Salted Caramel Chocolate Chip Cookies\" alt=\"Salted Caramel Chocolate Chip Cookies Recipe and Video - Chock full of salt, caramel &amp; chocolate!\" data-original-src=\"http://brightcove.vo.llnwd.net/v1/unsecured/media/1033249144001/201607/1207/1033249144001_5032754679001_5026619113001-vs.jpg?pubId=1033249144001\" data-lazy-load=\"\" class=\"slider-card__videos videoImg ng-isolate-scope\" />\\n                                        <span href=\"/video/6598/salted-caramel-chocolate-chip-cookies/\" class=\"icon--videoplay-small\"></span>\\n                                        <h3 class=\"slider-card__h3\">Salted Caramel Chocolate Chip Cookies</h3>\\n                                        <div class=\"counts-div\">\\n                                            <span class=\"svg-icon--actions--playcount_grey svg-icon--actions--playcount_grey-dims\"></span>\\n                                            <span class=\"counts-text\">8K plays </span>\\n                                        </div>\\n                                    </a>\\n                                </div>\\n                            </li>\\n                    </ul>\\n\\n                    \\n                    <ul ng-show=\"isSet(3)\" id=\"relatedCategories\" class=\"hub-carousel ng-hide\">\\n                            <li ng-click=\"setAnalyticsCookie(\\'similar categories\\')\" class=\"slider-card\">\\n                                <div class=\"slider-card__hub\">\\n                                    <a referring-id=\"10141\" data-click-id=\"simslot_1\" data-internal-referrer-link=\"similar_category_banner\" target=\"_self\" href=\"/recipes/839/desserts/cookies/chocolate-chip-cookies/?internalSource=similar_category_banner&amp;referringId=10141&amp;referringContentType=recipe&amp;clickId=simslot_1\" class=\"ng-isolate-scope\">\\n                                        <img data-container=\"relatedCategories\" src=\"http://images.media-allrecipes.com/ar/spacer.gif\" title=\"Chocolate Chip Cookies\" alt=\"\" data-original-src=\"http://images.media-allrecipes.com/userphotos/136x136/168524.jpg\" data-lazy-load=\"\" class=\"slider-card__img hub ng-isolate-scope\" />\\n                                        <h3 class=\"slider-card__h3\">Chocolate Chip Cookies</h3>\\n                                        <div class=\"hub-recipeCount\">376 recipes</div>\\n                                    </a>\\n                                </div>\\n                            </li>\\n                            <li ng-click=\"setAnalyticsCookie(\\'similar categories\\')\" class=\"slider-card\">\\n                                <div class=\"slider-card__hub\">\\n                                    <a referring-id=\"10141\" data-click-id=\"simslot_2\" data-internal-referrer-link=\"similar_category_banner\" target=\"_self\" href=\"/recipes/362/desserts/cookies/?internalSource=similar_category_banner&amp;referringId=10141&amp;referringContentType=recipe&amp;clickId=simslot_2\" class=\"ng-isolate-scope\">\\n                                        <img data-container=\"relatedCategories\" src=\"http://images.media-allrecipes.com/ar/spacer.gif\" title=\"Cookies\" alt=\"\" data-original-src=\"http://images.media-allrecipes.com/userphotos/136x136/623860.jpg\" data-lazy-load=\"\" class=\"slider-card__img hub ng-isolate-scope\" />\\n                                        <h3 class=\"slider-card__h3\">Cookies</h3>\\n                                        <div class=\"hub-recipeCount\">4587 recipes</div>\\n                                    </a>\\n                                </div>\\n                            </li>\\n                            <li ng-click=\"setAnalyticsCookie(\\'similar categories\\')\" class=\"slider-card\">\\n                                <div class=\"slider-card__hub\">\\n                                    <a referring-id=\"10141\" data-click-id=\"simslot_3\" data-internal-referrer-link=\"similar_category_banner\" target=\"_self\" href=\"/recipes/1557/desserts/chocolate/?internalSource=similar_category_banner&amp;referringId=10141&amp;referringContentType=recipe&amp;clickId=simslot_3\" class=\"ng-isolate-scope\">\\n                                        <img data-container=\"relatedCategories\" src=\"http://images.media-allrecipes.com/ar/spacer.gif\" title=\"Chocolate Desserts\" alt=\"\" data-original-src=\"http://images.media-allrecipes.com/userphotos/136x136/118168.jpg\" data-lazy-load=\"\" class=\"slider-card__img hub ng-isolate-scope\" />\\n                                        <h3 class=\"slider-card__h3\">Chocolate Desserts</h3>\\n                                        <div class=\"hub-recipeCount\">2792 recipes</div>\\n                                    </a>\\n                                </div>\\n                            </li>\\n                            <li ng-click=\"setAnalyticsCookie(\\'similar categories\\')\" class=\"slider-card\">\\n                                <div class=\"slider-card__hub\">\\n                                    <a referring-id=\"10141\" data-click-id=\"simslot_4\" data-internal-referrer-link=\"similar_category_banner\" target=\"_self\" href=\"/recipes/79/desserts/?internalSource=similar_category_banner&amp;referringId=10141&amp;referringContentType=recipe&amp;clickId=simslot_4\" class=\"ng-isolate-scope\">\\n                                        <img data-container=\"relatedCategories\" src=\"http://images.media-allrecipes.com/ar/spacer.gif\" title=\"Desserts\" alt=\"\" data-original-src=\"http://images.media-allrecipes.com/userphotos/136x136/2293554.jpg\" data-lazy-load=\"\" class=\"slider-card__img hub ng-isolate-scope\" />\\n                                        <h3 class=\"slider-card__h3\">Desserts</h3>\\n                                        <div class=\"hub-recipeCount\">13285 recipes</div>\\n                                    </a>\\n                                </div>\\n                            </li>\\n                            <li ng-click=\"setAnalyticsCookie(\\'similar categories\\')\" class=\"slider-card\">\\n                                <div class=\"slider-card__hub\">\\n                                    <a referring-id=\"10141\" data-click-id=\"simslot_5\" data-internal-referrer-link=\"similar_category_banner\" target=\"_self\" href=\"/recipes/1642/everyday-cooking/?internalSource=similar_category_banner&amp;referringId=10141&amp;referringContentType=recipe&amp;clickId=simslot_5\" class=\"ng-isolate-scope\">\\n                                        <img data-container=\"relatedCategories\" src=\"http://images.media-allrecipes.com/ar/spacer.gif\" title=\"Everyday Cooking\" alt=\"\" data-original-src=\"http://images.media-allrecipes.com/userphotos/136x136/379504.jpg\" data-lazy-load=\"\" class=\"slider-card__img hub ng-isolate-scope\" />\\n                                        <h3 class=\"slider-card__h3\">Everyday Cooking</h3>\\n                                        <div class=\"hub-recipeCount\">36790 recipes</div>\\n                                    </a>\\n                                </div>\\n                            </li>\\n                            <li ng-click=\"setAnalyticsCookie(\\'similar categories\\')\" class=\"slider-card\">\\n                                <div class=\"slider-card__hub\">\\n                                    <a referring-id=\"10141\" data-click-id=\"simslot_6\" data-internal-referrer-link=\"similar_category_banner\" target=\"_self\" href=\"/recipes/?internalSource=similar_category_banner&amp;referringId=10141&amp;referringContentType=recipe&amp;clickId=simslot_6\" class=\"ng-isolate-scope\">\\n                                        <img data-container=\"relatedCategories\" src=\"http://images.media-allrecipes.com/ar/spacer.gif\" title=\"Recipes\" alt=\"\" data-original-src=\"http://images.media-allrecipes.com/userphotos/136x136/216234.jpg\" data-lazy-load=\"\" class=\"slider-card__img hub ng-isolate-scope\" />\\n                                        <h3 class=\"slider-card__h3\">Recipes</h3>\\n                                        <div class=\"hub-recipeCount\">62112 recipes</div>\\n                                    </a>\\n                                </div>\\n                            </li>\\n                            <li ng-click=\"setAnalyticsCookie(\\'similar categories\\')\" class=\"slider-card\">\\n                                <div class=\"slider-card__hub\">\\n                                    <a referring-id=\"10141\" data-click-id=\"simslot_7\" data-internal-referrer-link=\"similar_category_banner\" target=\"_self\" href=\"/recipes/14486/everyday-cooking/special-collections/hall-of-fame/1997/?internalSource=similar_category_banner&amp;referringId=10141&amp;referringContentType=recipe&amp;clickId=simslot_7\" class=\"ng-isolate-scope\">\\n                                        <img data-container=\"relatedCategories\" src=\"http://images.media-allrecipes.com/ar/spacer.gif\" title=\"Hall of Fame 1997\" alt=\"\" data-original-src=\"http://images.media-allrecipes.com/userphotos/136x136/26231.jpg\" data-lazy-load=\"\" class=\"slider-card__img hub ng-isolate-scope\" />\\n                                        <h3 class=\"slider-card__h3\">Hall of Fame 1997</h3>\\n                                        <div class=\"hub-recipeCount\">20 recipes</div>\\n                                    </a>\\n                                </div>\\n                            </li>\\n                            <li ng-click=\"setAnalyticsCookie(\\'similar categories\\')\" class=\"slider-card\">\\n                                <div class=\"slider-card__hub\">\\n                                    <a referring-id=\"10141\" data-click-id=\"simslot_8\" data-internal-referrer-link=\"similar_category_banner\" target=\"_self\" href=\"/recipes/14740/everyday-cooking/family-friendly/back-to-school/portable-treats/?internalSource=similar_category_banner&amp;referringId=10141&amp;referringContentType=recipe&amp;clickId=simslot_8\" class=\"ng-isolate-scope\">\\n                                        <img data-container=\"relatedCategories\" src=\"http://images.media-allrecipes.com/ar/spacer.gif\" title=\"Portable Treats\" alt=\"\" data-original-src=\"http://images.media-allrecipes.com/userphotos/136x136/380296.jpg\" data-lazy-load=\"\" class=\"slider-card__img hub ng-isolate-scope\" />\\n                                        <h3 class=\"slider-card__h3\">Portable Treats</h3>\\n                                        <div class=\"hub-recipeCount\">171 recipes</div>\\n                                    </a>\\n                                </div>\\n                            </li>\\n                            <li ng-click=\"setAnalyticsCookie(\\'similar categories\\')\" class=\"slider-card\">\\n                                <div class=\"slider-card__hub\">\\n                                    <a referring-id=\"10141\" data-click-id=\"simslot_9\" data-internal-referrer-link=\"similar_category_banner\" target=\"_self\" href=\"/recipes/12966/holidays-and-events/events-and-gatherings/fundraising-favorites/bake-sale/?internalSource=similar_category_banner&amp;referringId=10141&amp;referringContentType=recipe&amp;clickId=simslot_9\" class=\"ng-isolate-scope\">\\n                                        <img data-container=\"relatedCategories\" src=\"http://images.media-allrecipes.com/ar/spacer.gif\" title=\"Bake Sale\" alt=\"\" data-original-src=\"http://images.media-allrecipes.com/userphotos/136x136/8535.jpg\" data-lazy-load=\"\" class=\"slider-card__img hub ng-isolate-scope\" />\\n                                        <h3 class=\"slider-card__h3\">Bake Sale</h3>\\n                                        <div class=\"hub-recipeCount\">619 recipes</div>\\n                                    </a>\\n                                </div>\\n                            </li>\\n                            <li ng-click=\"setAnalyticsCookie(\\'similar categories\\')\" class=\"slider-card\">\\n                                <div class=\"slider-card__hub\">\\n                                    <a referring-id=\"10141\" data-click-id=\"simslot_10\" data-internal-referrer-link=\"similar_category_banner\" target=\"_self\" href=\"/recipes/14452/everyday-cooking/special-collections/hall-of-fame/?internalSource=similar_category_banner&amp;referringId=10141&amp;referringContentType=recipe&amp;clickId=simslot_10\" class=\"ng-isolate-scope\">\\n                                        <img data-container=\"relatedCategories\" src=\"http://images.media-allrecipes.com/ar/spacer.gif\" title=\"Hall of Fame\" alt=\"\" data-original-src=\"http://images.media-allrecipes.com/userphotos/136x136/3821005.jpg\" data-lazy-load=\"\" class=\"slider-card__img hub ng-isolate-scope\" />\\n                                        <h3 class=\"slider-card__h3\">Hall of Fame</h3>\\n                                        <div class=\"hub-recipeCount\">247 recipes</div>\\n                                    </a>\\n                                </div>\\n                            </li>\\n                    </ul>\\n\\n                    \\n                    <ul ng-show=\"isSet(4)\" id=\"relatedArticles\" class=\"article-carousel ng-hide\">\\n                            <li ng-click=\"setAnalyticsCookie(\\'similar article\\')\" class=\"slider-card\">\\n                                <div class=\"slider-card__articles\">\\n                                    <a referring-id=\"10141\" data-click-id=\"simslot_1\" data-internal-referrer-link=\"similar_article_banner\" href=\"/HowTo/st-patricks-day-cookies?internalSource=similar_article_banner&amp;referringId=10141&amp;referringContentType=recipe&amp;clickId=simslot_1\" class=\"ng-isolate-scope\" target=\"_self\">\\n                                        <img data-container=\"relatedArticles\" src=\"http://images.media-allrecipes.com/ar/spacer.gif\" title=\"St. Patrick\\'s Day Cookies\" alt=\"St. Patrick\\'s Day Cookies\" data-original-src=\"http://images.media-allrecipes.com/images/22581.jpg\" data-lazy-load=\"\" class=\"slider-card__img ng-isolate-scope\" />\\n                                        <h3 class=\"slider-card__h3\">St. Patrick\\'s Day Cookies</h3>\\n                                        <span class=\"article-author\">By: Allrecipes Staff</span>\\n                                    </a>\\n                                </div>\\n                            </li>\\n                            <li ng-click=\"setAnalyticsCookie(\\'similar article\\')\" class=\"slider-card\">\\n                                <div class=\"slider-card__articles\">\\n                                    <a referring-id=\"10141\" data-click-id=\"simslot_2\" data-internal-referrer-link=\"similar_article_banner\" href=\"/HowTo/perfect-cookies?internalSource=similar_article_banner&amp;referringId=10141&amp;referringContentType=recipe&amp;clickId=simslot_2\" class=\"ng-isolate-scope\" target=\"_self\">\\n                                        <img data-container=\"relatedArticles\" src=\"http://images.media-allrecipes.com/ar/spacer.gif\" title=\"Perfect Cookies\" alt=\"Perfect Cookies\" data-original-src=\"http://images.media-allrecipes.com/images/8376.jpg\" data-lazy-load=\"\" class=\"slider-card__img ng-isolate-scope\" />\\n                                        <h3 class=\"slider-card__h3\">Perfect Cookies</h3>\\n                                        <span class=\"article-author\">By: Allrecipes Staff</span>\\n                                    </a>\\n                                </div>\\n                            </li>\\n                            <li ng-click=\"setAnalyticsCookie(\\'similar article\\')\" class=\"slider-card\">\\n                                <div class=\"slider-card__articles\">\\n                                    <a referring-id=\"10141\" data-click-id=\"simslot_3\" data-internal-referrer-link=\"similar_article_banner\" href=\"/HowTo/chocolate-ganache?internalSource=similar_article_banner&amp;referringId=10141&amp;referringContentType=recipe&amp;clickId=simslot_3\" class=\"ng-isolate-scope\" target=\"_self\">\\n                                        <img data-container=\"relatedArticles\" src=\"http://images.media-allrecipes.com/ar/spacer.gif\" title=\"Chocolate Ganache\" alt=\"Chocolate Ganache\" data-original-src=\"http://images.media-allrecipes.com/images/21261.jpg\" data-lazy-load=\"\" class=\"slider-card__img ng-isolate-scope\" />\\n                                        <h3 class=\"slider-card__h3\">Chocolate Ganache</h3>\\n                                        <span class=\"article-author\">By: Emily Brune</span>\\n                                    </a>\\n                                </div>\\n                            </li>\\n                            <li ng-click=\"setAnalyticsCookie(\\'similar article\\')\" class=\"slider-card\">\\n                                <div class=\"slider-card__articles\">\\n                                    <a referring-id=\"10141\" data-click-id=\"simslot_4\" data-internal-referrer-link=\"similar_article_banner\" href=\"/HowTo/our-10-best-chocolate-recipes?internalSource=similar_article_banner&amp;referringId=10141&amp;referringContentType=recipe&amp;clickId=simslot_4\" class=\"ng-isolate-scope\" target=\"_self\">\\n                                        <img data-container=\"relatedArticles\" src=\"http://images.media-allrecipes.com/ar/spacer.gif\" title=\"Our 10 Best Chocolate Recipes\" alt=\"Our 10 Best Chocolate Recipes\" data-original-src=\"http://images.media-allrecipes.com/images/9340.jpg\" data-lazy-load=\"\" class=\"slider-card__img ng-isolate-scope\" />\\n                                        <h3 class=\"slider-card__h3\">Our 10 Best Chocolate Recipes</h3>\\n                                        <span class=\"article-author\">By: Allrecipes Staff</span>\\n                                    </a>\\n                                </div>\\n                            </li>\\n                            <li ng-click=\"setAnalyticsCookie(\\'similar article\\')\" class=\"slider-card\">\\n                                <div class=\"slider-card__articles\">\\n                                    <a referring-id=\"10141\" data-click-id=\"simslot_5\" data-internal-referrer-link=\"similar_article_banner\" href=\"/HowTo/how-to-decorate-cookies?internalSource=similar_article_banner&amp;referringId=10141&amp;referringContentType=recipe&amp;clickId=simslot_5\" class=\"ng-isolate-scope\" target=\"_self\">\\n                                        <img data-container=\"relatedArticles\" src=\"http://images.media-allrecipes.com/ar/spacer.gif\" title=\"How To Decorate Cookies\" alt=\"How To Decorate Cookies\" data-original-src=\"http://images.media-allrecipes.com/images/30870.jpg\" data-lazy-load=\"\" class=\"slider-card__img ng-isolate-scope\" />\\n                                        <h3 class=\"slider-card__h3\">How To Decorate Cookies</h3>\\n                                        <span class=\"article-author\">By: Emily Brune</span>\\n                                    </a>\\n                                </div>\\n                            </li>\\n                            <li ng-click=\"setAnalyticsCookie(\\'similar article\\')\" class=\"slider-card\">\\n                                <div class=\"slider-card__articles\">\\n                                    <a referring-id=\"10141\" data-click-id=\"simslot_6\" data-internal-referrer-link=\"similar_article_banner\" href=\"/HowTo/freezing-cookies-and-cookie-dough?internalSource=similar_article_banner&amp;referringId=10141&amp;referringContentType=recipe&amp;clickId=simslot_6\" class=\"ng-isolate-scope\" target=\"_self\">\\n                                        <img data-container=\"relatedArticles\" src=\"http://images.media-allrecipes.com/ar/spacer.gif\" title=\"Freezing Cookies and Cookie Dough\" alt=\"Freezing Cookies and Cookie Dough\" data-original-src=\"http://images.media-allrecipes.com/images/8376.jpg\" data-lazy-load=\"\" class=\"slider-card__img ng-isolate-scope\" />\\n                                        <h3 class=\"slider-card__h3\">Freezing Cookies and Cookie Dough</h3>\\n                                        <span class=\"article-author\">By: Allrecipes Staff</span>\\n                                    </a>\\n                                </div>\\n                            </li>\\n                            <li ng-click=\"setAnalyticsCookie(\\'similar article\\')\" class=\"slider-card\">\\n                                <div class=\"slider-card__articles\">\\n                                    <a referring-id=\"10141\" data-click-id=\"simslot_7\" data-internal-referrer-link=\"similar_article_banner\" href=\"/HowTo/scandinavian-christmas-cookies?internalSource=similar_article_banner&amp;referringId=10141&amp;referringContentType=recipe&amp;clickId=simslot_7\" class=\"ng-isolate-scope\" target=\"_self\">\\n                                        <img data-container=\"relatedArticles\" src=\"http://images.media-allrecipes.com/ar/spacer.gif\" title=\"Scandinavian Christmas Cookies\" alt=\"Scandinavian Christmas Cookies\" data-original-src=\"http://images.media-allrecipes.com/images/26296.jpg\" data-lazy-load=\"\" class=\"slider-card__img ng-isolate-scope\" />\\n                                        <h3 class=\"slider-card__h3\">Scandinavian Christmas Cookies</h3>\\n                                        <span class=\"article-author\">By: Judith H. Dern</span>\\n                                    </a>\\n                                </div>\\n                            </li>\\n                            <li ng-click=\"setAnalyticsCookie(\\'similar article\\')\" class=\"slider-card\">\\n                                <div class=\"slider-card__articles\">\\n                                    <a referring-id=\"10141\" data-click-id=\"simslot_8\" data-internal-referrer-link=\"similar_article_banner\" href=\"/HowTo/homemade-hot-chocolate?internalSource=similar_article_banner&amp;referringId=10141&amp;referringContentType=recipe&amp;clickId=simslot_8\" class=\"ng-isolate-scope\" target=\"_self\">\\n                                        <img data-container=\"relatedArticles\" src=\"http://images.media-allrecipes.com/ar/spacer.gif\" title=\"Homemade Hot Chocolate\" alt=\"Homemade Hot Chocolate\" data-original-src=\"http://images.media-allrecipes.com/images/20551.jpg\" data-lazy-load=\"\" class=\"slider-card__img ng-isolate-scope\" />\\n                                        <h3 class=\"slider-card__h3\">Homemade Hot Chocolate</h3>\\n                                        <span class=\"article-author\">By: Vanessa Greaves</span>\\n                                    </a>\\n                                </div>\\n                            </li>\\n                            <li ng-click=\"setAnalyticsCookie(\\'similar article\\')\" class=\"slider-card\">\\n                                <div class=\"slider-card__articles\">\\n                                    <a referring-id=\"10141\" data-click-id=\"simslot_9\" data-internal-referrer-link=\"similar_article_banner\" href=\"/HowTo/mailing-cookies?internalSource=similar_article_banner&amp;referringId=10141&amp;referringContentType=recipe&amp;clickId=simslot_9\" class=\"ng-isolate-scope\" target=\"_self\">\\n                                        <img data-container=\"relatedArticles\" src=\"http://images.media-allrecipes.com/ar/spacer.gif\" title=\"Mailing Cookies\" alt=\"Mailing Cookies\" data-original-src=\"http://images.media-allrecipes.com/images/20263.jpg\" data-lazy-load=\"\" class=\"slider-card__img ng-isolate-scope\" />\\n                                        <h3 class=\"slider-card__h3\">Mailing Cookies</h3>\\n                                        <span class=\"article-author\">By: Allrecipes Staff</span>\\n                                    </a>\\n                                </div>\\n                            </li>\\n                            <li ng-click=\"setAnalyticsCookie(\\'similar article\\')\" class=\"slider-card\">\\n                                <div class=\"slider-card__articles\">\\n                                    <a referring-id=\"10141\" data-click-id=\"simslot_10\" data-internal-referrer-link=\"similar_article_banner\" href=\"/HowTo/dark-chocolate?internalSource=similar_article_banner&amp;referringId=10141&amp;referringContentType=recipe&amp;clickId=simslot_10\" class=\"ng-isolate-scope\" target=\"_self\">\\n                                        <img data-container=\"relatedArticles\" src=\"http://images.media-allrecipes.com/ar/spacer.gif\" title=\"Dark Chocolate\" alt=\"Dark Chocolate\" data-original-src=\"http://images.media-allrecipes.com/images/30100.jpg\" data-lazy-load=\"\" class=\"slider-card__img ng-isolate-scope\" />\\n                                        <h3 class=\"slider-card__h3\">Dark Chocolate</h3>\\n                                        <span class=\"article-author\">By: Allrecipes Staff</span>\\n                                    </a>\\n                                </div>\\n                            </li>\\n                    </ul>\\n                </div>\\n            </div>\\n        </div>\\n    </div>\\n</section>\\n\\n\\n\\n        <div class=\"mag-cta-mobile\">\\n            <div data-ng-controller=\"ar_controllers_mag_subscription\" class=\"mag-cta ng-scope\">\\n    \\n    <a class=\"ad-mag-homeBtm\" target=\"_blank\" ng-href=\"http://armagazine.com/get-the-magazine\" href=\"http://armagazine.com/get-the-magazine\">\\n        <h2>Get the magazine</h2>\\n        <img src=\"http://images.media-allrecipes.com/images/74814.png\" title=\"Allrecipes Magazine\" alt=\"Subscribe to Allrecipes Magazine\" class=\"ad-mag-homeBtm__th\" />\\n        <div class=\"ad-mag-homeBtm__text\">\\n            <h4>Get a full year for just $7.99!</h4>\\n            <p>Cook 5-star weekday dinners every time.</p>\\n        </div>\\n    </a>\\n</div>\\n        </div>\\n\\n\\n        \\n<script>\\n    var reviewsInitialSet = {\"recipeId\":10141,\"recipeTitle\":\"Outrageous Chocolate Chip Cookies\",\"recipeImageUrl\":\"http://images.media-allrecipes.com/userphotos/250x250/3518442.jpg\",\"heroImage\":\"http://images.media-allrecipes.com/userphotos/560x315/3518442.jpg\",\"reviews\":{\"MostHelpfulPositive\":{\"text\":\"I just made these as written &amp; they are WONDERFUL!!! My favorite part about this cookie is it\\'s texture. Like others have said, they don\\'t spread- which is a MUST in my book! 10 minutes is perfect. Be sure to mix the sugars, butter, PB, egg, &amp; vanilla first- then add the flour mixed with the soda, salt, &amp; oats. Lastly the ch chips. Amazing cookie- thanks so much for submitting!\",\"rating\":5.0,\"reviewID\":639453,\"helpfulCount\":390,\"dateLastModified\":\"January 16, 2006\",\"submitter\":{\"userID\":518008,\"name\":\"MELLO 57\",\"profileUrl\":\"/cook/518008/\",\"photo\":{\"urls\":[{\"url\":\"http://images.media-allrecipes.com/mobile/allrecipes/images/icon-user-default_v2.png\"}]},\"followersCount\":1,\"favoritesCount\":2629,\"madeRecipesCount\":351,\"city\":null,\"region\":null}},\"MostHelpfulNegative\":{\"text\":\"Easy to prepare, great texture, but so not rocked by the taste. Actually instead of one great flavor cookie, you get a bland tasting combination cookie. I\\'ll keep looking.\",\"rating\":3.0,\"reviewID\":850711,\"helpfulCount\":59,\"dateLastModified\":\"December 07, 2006\",\"submitter\":{\"userID\":1625039,\"name\":\"Lisa C\",\"profileUrl\":\"/cook/1625039/\",\"photo\":{\"urls\":[{\"url\":\"http://images.media-allrecipes.com/userphotos/90x90/00/70/04/700413.jpg\"}]},\"followersCount\":0,\"favoritesCount\":975,\"madeRecipesCount\":15,\"city\":null,\"region\":null}},\"MostPositiveIndex\":1,\"MostCriticalIndex\":8,\"Reviews\":[{\"text\":\"I just made these as written &amp; they are WONDERFUL!!! My favorite part about this cookie is it\\'s texture. Like others have said, they don\\'t spread- which is a MUST in my book! 10 minutes is perfect. Be sure to mix the sugars, butter, PB, egg, &amp; vanilla first- then add the flour mixed with the soda, salt, &amp; oats. Lastly the ch chips. Amazing cookie- thanks so much for submitting!\",\"rating\":5.0,\"reviewID\":639453,\"helpfulCount\":390,\"dateLastModified\":\"January 16, 2006\",\"submitter\":{\"userID\":518008,\"name\":\"MELLO 57\",\"profileUrl\":\"/cook/518008/\",\"photo\":{\"urls\":[{\"url\":\"http://images.media-allrecipes.com/mobile/allrecipes/images/icon-user-default_v2.png\"}]},\"followersCount\":1,\"favoritesCount\":2629,\"madeRecipesCount\":351,\"city\":null,\"region\":null}},{\"text\":\"I doubled this recipe. I used dark chocolate chips, chunky peanut butter and added 3/4 cup of Reese\\'s peanut butter chips and 1/2 cup chopped pecans.  I did grind half the oatmeal down in my blender only because we like the texture of it, mixed with the bigger pieces of oatmeal. The batter was still a little loose, so I did end up adding another 1/2 cup or so more oatmeal. For me, 9 minutes at 350* was the perfect time. This made 54 medium sized cookies. Good flavor, very nice. I\\'d make these again.\",\"rating\":4.0,\"reviewID\":2211144,\"helpfulCount\":303,\"dateLastModified\":\"November 28, 2009\",\"submitter\":{\"userID\":2043209,\"name\":\"Sarah Jo\",\"profileUrl\":\"/cook/doublewideskilletsinglewidebudget/\",\"photo\":{\"urls\":[{\"url\":\"http://images.media-allrecipes.com/userphotos/90x90/00/69/94/699445.jpg\"}]},\"followersCount\":1377,\"favoritesCount\":1,\"madeRecipesCount\":5548,\"city\":null,\"region\":null}},{\"text\":\"I really enjoyed this cookie as did my family.  It combines the 3 worlds of choco chip cookies, peanut btr. and oatmeal all together.  It has a wonderful balanced flavor!  Before making I read over various reviews to see what comments people had.  I noticed the ones regarding moisture being low on several of them and that the 10min mark for baking was the best.  So I swapted the measurements for the brown sugar and white sugar (brn. has more moisture in it) and baked them for the much recommended time of 10min.  They turned out wonderful. :o) Will be keeping hold of this recipe to do time and again.  Thank you\",\"rating\":5.0,\"reviewID\":921683,\"helpfulCount\":249,\"dateLastModified\":\"February 18, 2007\",\"submitter\":{\"userID\":972698,\"name\":\"JESSIMOOS\",\"profileUrl\":\"/cook/972698/\",\"photo\":{\"urls\":[{\"url\":\"http://images.media-allrecipes.com/userphotos/90x90/00/21/80/218095.jpg\"}]},\"followersCount\":1,\"favoritesCount\":388,\"madeRecipesCount\":31,\"city\":null,\"region\":null}},{\"text\":\"THIS IS A TRUELY GREAT CHOCOLATE CHIP COOKIE. THE PEANUT BUTTER TASTE IS NOT OVERWHELMING, JUST THE RIGHT AMOUNT. I USED ORGANIC PURE PEANUT BUTTER WITHOUT ANY HYDROGENATED OILS BUT REGULAR sKIPPY WORKS TOO. I DIVIDED ONE BATCH AND FORMED THEM DIFFERENTLY. HALF I DID AS DROP COOKIES AND THE OTHER HALF I MADE INTO BALLS AND THEN FLATTENED THEM JUST A BIT BEFORE BAKING. WHAT A DIFFERENCE!! THE DROPPED COOKIES DID NOT HOLD THEIR SHAPE BUT THE ONES THAT I MADE INTO BALLS FIRST (AS DIRECTED) WERE PERFECT. I LEFT THEM IN THE OVEN FOR 11 MINUTES FOR A NICE SLIGHTLY CHEWY COOKIE. LEAVE THEM IN FOR 13 MINUTES AND THEY\\'RE CRISPY. THANK YOU JOAN FOR SHARING THIS \\\\\"OUTRAGEOUS\\\\\" RECIPE\",\"rating\":5.0,\"reviewID\":594053,\"helpfulCount\":131,\"dateLastModified\":\"November 12, 2005\",\"submitter\":{\"userID\":1572309,\"name\":\"veggiemommie\",\"profileUrl\":\"/cook/1572309/\",\"photo\":{\"urls\":[{\"url\":\"http://images.media-allrecipes.com/global/features/121.gif\"}]},\"followersCount\":6,\"favoritesCount\":15,\"madeRecipesCount\":32,\"city\":null,\"region\":null}},{\"text\":\"We could not stop eating these cookies.  I creamed the butters and sugars +vanilla and eggs before adding dry ingredients.  I also lined my cookie sheet with parchment paper so I did not grease the pan.  I used ghirardelli bittersweet dark chocolate baking chips and it was DELICIOUS!  I will be making these again and again! ETA- This is now the only cookie recipe I use.  I am now known for these cookies and I have given the recipe out dozens of times.  I have a friend who says they are the only cookie worth eating.  You MUST try them with the ghiradelli dark chocolate chips.  \",\"rating\":5.0,\"reviewID\":800552,\"helpfulCount\":121,\"dateLastModified\":\"October 15, 2006\",\"submitter\":{\"userID\":1403245,\"name\":\"MISSILE198\",\"profileUrl\":\"/cook/1403245/\",\"photo\":{\"urls\":[{\"url\":\"http://images.media-allrecipes.com/mobile/allrecipes/images/icon-user-default_v2.png\"}]},\"followersCount\":0,\"favoritesCount\":30,\"madeRecipesCount\":14,\"city\":null,\"region\":null}},{\"text\":\"This has become one of my favorite cookie recipes!  I\\'ve made them several times.  They are easy to make and taste great!  It\\'s a nice combination of flavors and they come out perfect.... crisp on the outside, but still soft on the inside.  BTW... I\\'ve never understood why some people change the recipe by adding or deleting things ...and then give it a lower rating?!?  This one needs NO changes!  Thanks for sharing.\",\"rating\":5.0,\"reviewID\":909879,\"helpfulCount\":96,\"dateLastModified\":\"February 05, 2007\",\"submitter\":{\"userID\":923003,\"name\":\"Janet Miller Elliott\",\"profileUrl\":\"/cook/923003/\",\"photo\":{\"urls\":[{\"url\":\"http://images.media-allrecipes.com/userphotos/90x90/02/66/22/2662241.jpg\"}]},\"followersCount\":1,\"favoritesCount\":316,\"madeRecipesCount\":6,\"city\":null,\"region\":null}},{\"text\":\"We all loved these cookies. I tripled the recipe, used 2 tsp. of baking soda instead of the 3 called for. I used 1/2 butter and 1/2 shortening for a not so flat cookie but still chewy. Also, I used a mixture of semi-sweet and milk chocolate chips and some walnuts. Excellent!!!\",\"rating\":5.0,\"reviewID\":582216,\"helpfulCount\":65,\"dateLastModified\":\"October 22, 2005\",\"submitter\":{\"userID\":1507731,\"name\":\"vikids\",\"profileUrl\":\"/cook/1507731/\",\"photo\":{\"urls\":[{\"url\":\"http://images.media-allrecipes.com/mobile/allrecipes/images/icon-user-default_v2.png\"}]},\"followersCount\":1,\"favoritesCount\":414,\"madeRecipesCount\":19,\"city\":null,\"region\":null}},{\"text\":\"Easy to prepare, great texture, but so not rocked by the taste. Actually instead of one great flavor cookie, you get a bland tasting combination cookie. I\\'ll keep looking.\",\"rating\":3.0,\"reviewID\":850711,\"helpfulCount\":59,\"dateLastModified\":\"December 07, 2006\",\"submitter\":{\"userID\":1625039,\"name\":\"Lisa C\",\"profileUrl\":\"/cook/1625039/\",\"photo\":{\"urls\":[{\"url\":\"http://images.media-allrecipes.com/userphotos/90x90/00/70/04/700413.jpg\"}]},\"followersCount\":0,\"favoritesCount\":975,\"madeRecipesCount\":15,\"city\":null,\"region\":null}},{\"text\":\"One of those rare recipes that delivers exactly what it\\'s supposed to, with no tweaking and certainly no surprises.  The submitter has it right, that this is a well-balanced combination of oats, peanut butter and chocolate chips.  Gratefully, it\\'s not too heavy on the butter and the cookies stay nice and thick after baking - I chilled the dough until fairly firm, then flattened the cookies just slightly before baking.  The cookies are soft but still chewy - not greasy, not cakey, just perfect.  A good old-fashioned cookie jar cookie. Greasing of the cookie sheets, by the way, was not necessary.\",\"rating\":5.0,\"reviewID\":3786185,\"helpfulCount\":47,\"dateLastModified\":\"April 04, 2012\",\"submitter\":{\"userID\":1153011,\"name\":\"naples34102\",\"profileUrl\":\"/cook/naples34102/\",\"photo\":{\"urls\":[{\"url\":\"http://images.media-allrecipes.com/userphotos/90x90/00/04/78/47846.jpg\"}]},\"followersCount\":3430,\"favoritesCount\":0,\"madeRecipesCount\":3337,\"city\":null,\"region\":null}}]},\"totalReviews\":1802};\\n</script>\\n\\n<section ng-init=\"init(\\'10141\\', 2, 9, \\'Recipe\\', 201, \\'MostHelpful\\')\" ng-controller=\"ar_controllers_recipe_reviews\" class=\"recipe-reviews ng-scope\" id=\"reviews\">\\n\\n    <h2 class=\"heading__h2--gutters review\">Reviews</h2>\\n    <a ng-click=\"$event.preventDefault();reviewModalDialog(1, sortBy)\" href=\"\" class=\"icon-read--reviews\">\\n        <span>Read all reviews</span>  <span class=\"svg-icon--recipe-page--read-reviews svg-icon--recipe-page--read-reviews-dims\"></span>\\n    </a>\\n    <span class=\"recipe-reviews__header--count\">1802</span>\\n\\n    \\n\\n\\n<script>\\n    var userReview = {\"recipeId\":0,\"userReview\":{\"text\":null,\"rating\":0.0,\"date\":null}};\\n</script>\\n\\n<div data-ng-controller=\"ar_controllers_rate_and_review\" class=\"current-user review-container clearfix current--reviewer ng-scope\">\\n    <div class=\"current-user__rateballoon own-review\" ng-show=\"model.userReview.rating == 0\">\\n        <img src=\"http://images.media-allrecipes.com/mobile/allrecipes/images/icon-user-default_v2.png\" alt=\"profile image\" class=\"img-profile rateballoon\" />\\n        <a id=\"ratingButton\" ng-click=\"openRating()\" href=\"javascript:void(0);\" target=\"_self\">\\n            <div class=\"rateballoon\">Rate and review</div>\\n        </a>\\n    </div>\\n    <div class=\"current-user__review own-review ng-hide\" ng-show=\"model.userReview.rating != 0\">\\n        <article class=\"reviewer-info imadeit-enabled\">\\n            <div class=\"review-wrapper\">\\n                <ul class=\"cook-details\">\\n                    <li>\\n                        <a ng-href=\"\"><img src=\"http://images.media-allrecipes.com/mobile/allrecipes/images/icon-user-default_v2.png\" alt=\"profile image\" class=\"img-profile elevate-cook-thumbnail\" /></a>\\n                    </li>\\n                    <li>\\n                        <h4>My review</h4>\\n                        <div class=\"stars-and-date-container\">\\n                            <div data-rating=\"0\" data-star-rating=\"\" class=\"ng-isolate-scope\"><div class=\"grid-col__ratings\"> <span class=\"rating-stars\"> <!-- ngRepeat: star in stars --><img width=\"16\" height=\"16\" data-ng-src=\"http://images.media-allrecipes.com/ar-images/icons/rating-stars/empty-star.png\" data-ng-repeat=\"star in stars\" class=\"ng-scope\" src=\"http://images.media-allrecipes.com/ar-images/icons/rating-stars/empty-star.png\" /><!-- end ngRepeat: star in stars --><img width=\"16\" height=\"16\" data-ng-src=\"http://images.media-allrecipes.com/ar-images/icons/rating-stars/empty-star.png\" data-ng-repeat=\"star in stars\" class=\"ng-scope\" src=\"http://images.media-allrecipes.com/ar-images/icons/rating-stars/empty-star.png\" /><!-- end ngRepeat: star in stars --><img width=\"16\" height=\"16\" data-ng-src=\"http://images.media-allrecipes.com/ar-images/icons/rating-stars/empty-star.png\" data-ng-repeat=\"star in stars\" class=\"ng-scope\" src=\"http://images.media-allrecipes.com/ar-images/icons/rating-stars/empty-star.png\" /><!-- end ngRepeat: star in stars --><img width=\"16\" height=\"16\" data-ng-src=\"http://images.media-allrecipes.com/ar-images/icons/rating-stars/empty-star.png\" data-ng-repeat=\"star in stars\" class=\"ng-scope\" src=\"http://images.media-allrecipes.com/ar-images/icons/rating-stars/empty-star.png\" /><!-- end ngRepeat: star in stars --><img width=\"16\" height=\"16\" data-ng-src=\"http://images.media-allrecipes.com/ar-images/icons/rating-stars/empty-star.png\" data-ng-repeat=\"star in stars\" class=\"ng-scope\" src=\"http://images.media-allrecipes.com/ar-images/icons/rating-stars/empty-star.png\" /><!-- end ngRepeat: star in stars --> </span> <span ng-bind=\"(!reviewCount ||reviewCount === 0) ? \\'\\' : (reviewCount | largeNumberDisplay)\" class=\"grid-col__reviews ng-binding\"></span> </div></div>\\n                            <div ng-bind=\"model.userReview.date | date:\\'M/d/yyyy\\'\" class=\"review-date ng-binding\"></div>\\n                        </div>\\n                </li></ul>\\n                <div class=\"reviewer--text ng-binding\" ng-bind=\"model.userReview.text\"></div>\\n            </div>\\n            <div class=\"icon--edit-review\">\\n                <ul>\\n                    <li class=\"cook-review--count\">\\n                    </li>\\n                    <li>\\n                        <a class=\"edit-review\" ng-click=\"openRating()\" href=\"javascript:void()\" id=\"lnkEdit\" target=\"_self\"><span>Edit review</span></a>\\n                    </li>\\n                </ul>\\n            </div>\\n        </article>\\n    </div>\\n</div>\\n<ol>\\n    <li><h4 class=\"helpful-header\">2305 Ratings</h4></li>\\n        <li>\\n            <div title=\"1804 cooks loved it!\">\\n                <div class=\"reviewsummary--bar\">\\n                    <div style=\"width: 78%\" class=\"reviewsummary--percent\">\\xa0</div>\\n                </div>\\n                <div data-ratingstars=\"5\" data-scroll-to-anchor=\"reviews\" class=\"rating-stars\">\\n        <img width=\"14\" height=\"14\" src=\"http://images.media-allrecipes.com/ar-images/icons/rating-stars/full-star-2015.svg\" />\\n        <img width=\"14\" height=\"14\" src=\"http://images.media-allrecipes.com/ar-images/icons/rating-stars/full-star-2015.svg\" />\\n        <img width=\"14\" height=\"14\" src=\"http://images.media-allrecipes.com/ar-images/icons/rating-stars/full-star-2015.svg\" />\\n        <img width=\"14\" height=\"14\" src=\"http://images.media-allrecipes.com/ar-images/icons/rating-stars/full-star-2015.svg\" />\\n        <img width=\"14\" height=\"14\" src=\"http://images.media-allrecipes.com/ar-images/icons/rating-stars/full-star-2015.svg\" />\\n</div>\\n            </div>\\n        </li>\\n        <li>\\n            <div title=\"345 cooks liked it!\">\\n                <div class=\"reviewsummary--bar\">\\n                    <div style=\"width: 14%\" class=\"reviewsummary--percent\">\\xa0</div>\\n                </div>\\n                <div data-ratingstars=\"4\" data-scroll-to-anchor=\"reviews\" class=\"rating-stars\">\\n        <img width=\"14\" height=\"14\" src=\"http://images.media-allrecipes.com/ar-images/icons/rating-stars/full-star-2015.svg\" />\\n        <img width=\"14\" height=\"14\" src=\"http://images.media-allrecipes.com/ar-images/icons/rating-stars/full-star-2015.svg\" />\\n        <img width=\"14\" height=\"14\" src=\"http://images.media-allrecipes.com/ar-images/icons/rating-stars/full-star-2015.svg\" />\\n        <img width=\"14\" height=\"14\" src=\"http://images.media-allrecipes.com/ar-images/icons/rating-stars/full-star-2015.svg\" />\\n        <img width=\"14\" height=\"14\" src=\"http://images.media-allrecipes.com/ar-images/icons/rating-stars/empty-star.svg\" />\\n</div>\\n            </div>\\n        </li>\\n        <li>\\n            <div title=\"120 cooks thought it was OK\">\\n                <div class=\"reviewsummary--bar\">\\n                    <div style=\"width: 5%\" class=\"reviewsummary--percent\">\\xa0</div>\\n                </div>\\n                <div data-ratingstars=\"3\" data-scroll-to-anchor=\"reviews\" class=\"rating-stars\">\\n        <img width=\"14\" height=\"14\" src=\"http://images.media-allrecipes.com/ar-images/icons/rating-stars/full-star-2015.svg\" />\\n        <img width=\"14\" height=\"14\" src=\"http://images.media-allrecipes.com/ar-images/icons/rating-stars/full-star-2015.svg\" />\\n        <img width=\"14\" height=\"14\" src=\"http://images.media-allrecipes.com/ar-images/icons/rating-stars/full-star-2015.svg\" />\\n        <img width=\"14\" height=\"14\" src=\"http://images.media-allrecipes.com/ar-images/icons/rating-stars/empty-star.svg\" />\\n        <img width=\"14\" height=\"14\" src=\"http://images.media-allrecipes.com/ar-images/icons/rating-stars/empty-star.svg\" />\\n</div>\\n            </div>\\n        </li>\\n        <li>\\n            <div title=\"16 cooks didn\\'t like it\">\\n                <div class=\"reviewsummary--bar\">\\n                    <div style=\"width: 0%\" class=\"reviewsummary--percent\">\\xa0</div>\\n                </div>\\n                <div data-ratingstars=\"2\" data-scroll-to-anchor=\"reviews\" class=\"rating-stars\">\\n        <img width=\"14\" height=\"14\" src=\"http://images.media-allrecipes.com/ar-images/icons/rating-stars/full-star-2015.svg\" />\\n        <img width=\"14\" height=\"14\" src=\"http://images.media-allrecipes.com/ar-images/icons/rating-stars/full-star-2015.svg\" />\\n        <img width=\"14\" height=\"14\" src=\"http://images.media-allrecipes.com/ar-images/icons/rating-stars/empty-star.svg\" />\\n        <img width=\"14\" height=\"14\" src=\"http://images.media-allrecipes.com/ar-images/icons/rating-stars/empty-star.svg\" />\\n        <img width=\"14\" height=\"14\" src=\"http://images.media-allrecipes.com/ar-images/icons/rating-stars/empty-star.svg\" />\\n</div>\\n            </div>\\n        </li>\\n        <li>\\n            <div title=\"20 cooks couldn\\'t eat it\">\\n                <div class=\"reviewsummary--bar\">\\n                    <div style=\"width: 0%\" class=\"reviewsummary--percent\">\\xa0</div>\\n                </div>\\n                <div data-ratingstars=\"1\" data-scroll-to-anchor=\"reviews\" class=\"rating-stars\">\\n        <img width=\"14\" height=\"14\" src=\"http://images.media-allrecipes.com/ar-images/icons/rating-stars/full-star-2015.svg\" />\\n        <img width=\"14\" height=\"14\" src=\"http://images.media-allrecipes.com/ar-images/icons/rating-stars/empty-star.svg\" />\\n        <img width=\"14\" height=\"14\" src=\"http://images.media-allrecipes.com/ar-images/icons/rating-stars/empty-star.svg\" />\\n        <img width=\"14\" height=\"14\" src=\"http://images.media-allrecipes.com/ar-images/icons/rating-stars/empty-star.svg\" />\\n        <img width=\"14\" height=\"14\" src=\"http://images.media-allrecipes.com/ar-images/icons/rating-stars/empty-star.svg\" />\\n</div>\\n            </div>\\n        </li>\\n</ol>\\n    <div itemtype=\"http://schema.org/Review\" itemscope=\"\" itemprop=\"review\" class=\"review-container clearfix\">\\n        <meta itemprop=\"itemReviewed\" id=\"metaRecipeTitle\" />\\n            <span class=\"helpful-header\">Most helpful positive review</span>\\n\\n        <article class=\"reviewer-info imadeit-enabled\">         \\n                <div class=\"recipe-details-cook-stats-container\">\\n    <a href=\"/cook/518008/\" target=\"_self\">\\n\\n         \\n                <ul class=\"cook-details\">\\n                    <li>\\n\\n                        <img style=\"display: inline;\" src=\"http://images.media-allrecipes.com/ar/spacer.gif\" title=\"\" alt=\"\" data-original-src=\"http://images.media-allrecipes.com/mobile/allrecipes/images/icon-user-default_v2.png\" data-lazy-load=\"\" class=\"img-profile elevate-cook-thumbnail ng-isolate-scope\" />\\n                    </li>\\n                    <li class=\"cook-info\">\\n                        <h4 itemprop=\"author\">  MELLO 57 \\n                         </h4>\\n\\n\\n                        <ul class=\"cook-details__followers followers-count\">\\n                            <li>\\n                                <span title=\"Followers\" class=\"icon--cook-card-follower\"></span> \\n                            </li>\\n                            <li>\\n                                <span>1</span>\\n                            </li>\\n                        </ul>\\n                        <ul class=\"cook-details__favorites favorites-count\">\\n                            <li>\\n                                <span title=\"Favorites\" class=\"icon--cook-card-favorite\"></span> \\n                            </li>\\n                            <li>\\n                                <span>3K</span>\\n                            </li>\\n                        </ul>\\n                        <ul class=\"cook-details__recipes-made recipes-made-count\">\\n                            <li>\\n                                <span title=\"Recipes Made\" class=\"icon--cook-card-made\"></span> \\n                            </li>\\n                            <li>\\n                                <span>351</span>\\n                            </li>\\n                        </ul>\\n                    </li>\\n                </ul>\\n\\n  \\n\\n\\n\\n\\n\\n    </a>\\n</div> \\n \\n\\n\\n\\n            \\n            <div class=\"stars-and-date-container\">\\n                <div data-ratingstars=\"5\" data-scroll-to-anchor=\"reviews\" class=\"rating-stars\">\\n        <img width=\"14\" height=\"14\" src=\"http://images.media-allrecipes.com/ar-images/icons/rating-stars/full-star-2015.svg\" />\\n        <img width=\"14\" height=\"14\" src=\"http://images.media-allrecipes.com/ar-images/icons/rating-stars/full-star-2015.svg\" />\\n        <img width=\"14\" height=\"14\" src=\"http://images.media-allrecipes.com/ar-images/icons/rating-stars/full-star-2015.svg\" />\\n        <img width=\"14\" height=\"14\" src=\"http://images.media-allrecipes.com/ar-images/icons/rating-stars/full-star-2015.svg\" />\\n        <img width=\"14\" height=\"14\" src=\"http://images.media-allrecipes.com/ar-images/icons/rating-stars/full-star-2015.svg\" />\\n</div>\\n                <div itemtype=\"http://schema.org/Rating\" itemscope=\"\" itemprop=\"reviewRating\">\\n                    <meta content=\"5\" itemprop=\"ratingValue\" />\\n                </div>\\n                <div class=\"review-date\">1/16/2006</div>\\n                <meta content=\"2006-01-16\" itemprop=\"dateCreated\" />\\n            </div>\\n        </article>\\n\\n        <p itemprop=\"reviewBody\">\\nI just made these as written &amp; they are WONDERFUL!!! My favorite part about this cookie is it\\'s texture. Like others have said, they don\\'t spread- which is a MUST in my book! 10 minutes is perfe...\\n        </p>\\n        <div class=\"review-detail\">\\n            <a ng-click=\"$event.preventDefault();reviewModalDialog(0, sortBy)\" href=\"reviews/639453/\" class=\"review-detail__link\" target=\"_self\">\\n                <span class=\"icon--expand-icon\"></span>\\n                <span>Read more</span>\\n            </a>\\n        </div>\\n    </div>\\n\\n    <div itemtype=\"http://schema.org/Review\" itemscope=\"\" itemprop=\"review\" class=\"review-container clearfix\">\\n        <meta itemprop=\"itemReviewed\" id=\"metaRecipeTitle\" />\\n            <span class=\"helpful-header\">Most helpful critical review</span>\\n\\n        <article class=\"reviewer-info imadeit-enabled\">         \\n                <div class=\"recipe-details-cook-stats-container\">\\n    <a href=\"/cook/1625039/\" target=\"_self\">\\n\\n         \\n                <ul class=\"cook-details\">\\n                    <li>\\n\\n                        <img style=\"display: inline;\" src=\"http://images.media-allrecipes.com/ar/spacer.gif\" title=\"\" alt=\"\" data-original-src=\"http://images.media-allrecipes.com/userphotos/90x90/00/70/04/700413.jpg\" data-lazy-load=\"\" class=\"img-profile elevate-cook-thumbnail ng-isolate-scope\" />\\n                    </li>\\n                    <li class=\"cook-info\">\\n                        <h4 itemprop=\"author\">  Lisa C \\n                         </h4>\\n\\n\\n                        <ul class=\"cook-details__followers followers-count\">\\n                            <li>\\n                                <span title=\"Followers\" class=\"icon--cook-card-follower\"></span> \\n                            </li>\\n                            <li>\\n                                <span>0</span>\\n                            </li>\\n                        </ul>\\n                        <ul class=\"cook-details__favorites favorites-count\">\\n                            <li>\\n                                <span title=\"Favorites\" class=\"icon--cook-card-favorite\"></span> \\n                            </li>\\n                            <li>\\n                                <span>975</span>\\n                            </li>\\n                        </ul>\\n                        <ul class=\"cook-details__recipes-made recipes-made-count\">\\n                            <li>\\n                                <span title=\"Recipes Made\" class=\"icon--cook-card-made\"></span> \\n                            </li>\\n                            <li>\\n                                <span>15</span>\\n                            </li>\\n                        </ul>\\n                    </li>\\n                </ul>\\n\\n  \\n\\n\\n\\n\\n\\n    </a>\\n</div> \\n \\n\\n\\n\\n            \\n            <div class=\"stars-and-date-container\">\\n                <div data-ratingstars=\"3\" data-scroll-to-anchor=\"reviews\" class=\"rating-stars\">\\n        <img width=\"14\" height=\"14\" src=\"http://images.media-allrecipes.com/ar-images/icons/rating-stars/full-star-2015.svg\" />\\n        <img width=\"14\" height=\"14\" src=\"http://images.media-allrecipes.com/ar-images/icons/rating-stars/full-star-2015.svg\" />\\n        <img width=\"14\" height=\"14\" src=\"http://images.media-allrecipes.com/ar-images/icons/rating-stars/full-star-2015.svg\" />\\n        <img width=\"14\" height=\"14\" src=\"http://images.media-allrecipes.com/ar-images/icons/rating-stars/empty-star.svg\" />\\n        <img width=\"14\" height=\"14\" src=\"http://images.media-allrecipes.com/ar-images/icons/rating-stars/empty-star.svg\" />\\n</div>\\n                <div itemtype=\"http://schema.org/Rating\" itemscope=\"\" itemprop=\"reviewRating\">\\n                    <meta content=\"3\" itemprop=\"ratingValue\" />\\n                </div>\\n                <div class=\"review-date\">12/7/2006</div>\\n                <meta content=\"2006-12-07\" itemprop=\"dateCreated\" />\\n            </div>\\n        </article>\\n\\n        <p itemprop=\"reviewBody\">\\nEasy to prepare, great texture, but so not rocked by the taste. Actually instead of one great flavor cookie, you get a bland tasting combination cookie. I\\'ll keep looking.        </p>\\n        <div class=\"review-detail\">\\n            <a ng-click=\"$event.preventDefault();reviewModalDialog(7, sortBy)\" href=\"reviews/850711/\" class=\"review-detail__link\" target=\"_self\">\\n                <span class=\"icon--expand-icon\"></span>\\n                <span>Read more</span>\\n            </a>\\n        </div>\\n    </div>\\n\\n            <div class=\"review-divider review-container review-ad-space\">\\n                <div class=\"ad-recipe-page-middle-container ad-desktop-only\" data-ad-container-autocollapse=\"\">\\n    <div class=\"ad-recipe-page-middle-3 ad-search-grid ng-isolate-scope\" platform=\"desktop\" ad-slot-hc-type=\"div-gpt-lazy-leaderboard-fixed-tier3\"> <div style=\"margin: 0 auto;\" data-ad-slot-type=\"\" id=\"sideLoadedSlotId1\"> </div> <span class=\"advertisement\">ADVERTISEMENT</span> </div>\\n</div>\\n\\n            </div>\\n            <div class=\"tabs reviews-sort\">\\n                <div ng-class=\"{\\'selected\\':sortBy==\\'MostHelpful\\'}\" ng-click=\"getReviews(\\'MostHelpful\\')\" class=\"selected\">Most helpful</div>\\n                <div ng-class=\"{\\'selected\\':sortBy==\\'MostPositive\\'}\" ng-click=\"getReviews(\\'MostPositive\\')\">Most positive</div>\\n                <div ng-class=\"{\\'selected\\':sortBy==\\'LeastPositive\\'}\" ng-click=\"getReviews(\\'LeastPositive\\')\">Least positive</div>\\n                <div ng-class=\"{\\'selected\\':sortBy==\\'Newest\\'}\" ng-click=\"getReviews(\\'Newest\\')\">Newest</div>\\n            </div>\\n            <div class=\"review-container dropdown-menu\">\\n                <div class=\"review-detail-nav ng-scope\" ng-controller=\"ar_controllers_review_details\">\\n                    <div class=\"review-detail-nav__container dropdown-menu\">\\n                        <div id=\"sort\" ng-click=\"toggleShowSortOptions()\" class=\"review-detail-nav__sort__dropdownlist\">\\n                            <span>\\n                                <span ng-bind=\"\\'Reviews: \\' + sortByFriendlyName[sortBy]\" class=\"review-detail-nav__sort__dropdownlist__text ng-binding\">Reviews: Most helpful</span><span ng-class=\"indicatorStyle\" class=\"icon--chevron-down\"></span>\\n                            </span>\\n                        </div>\\n                    </div>\\n                    <ul ng-click=\"toggleShowSortOptions()\" ng-class=\"showSortFiltersStyle\" class=\"sort-nav exposed collapsed\">\\n                        <li ng-bind=\"::sortByFriendlyName[\\'MostHelpful\\']\" ng-class=\"{\\'btn-grey\\':sortBy == \\'MostHelpful\\'}\" ng-click=\"getReviews(\\'MostHelpful\\')\" class=\"ng-binding btn-grey\">Most helpful</li>\\n                        <li ng-bind=\"::sortByFriendlyName[\\'MostPositive\\']\" ng-class=\"{\\'btn-grey\\':sortBy == \\'MostPositive\\'}\" ng-click=\"getReviews(\\'MostPositive\\')\" class=\"ng-binding\">Most positive</li>\\n                        <li ng-bind=\"::sortByFriendlyName[\\'LeastPositive\\']\" ng-class=\"{\\'btn-grey\\':sortBy == \\'LeastPositive\\'}\" ng-click=\"getReviews(\\'LeastPositive\\')\" class=\"ng-binding\">Least positive</li>\\n                        <li ng-bind=\"::sortByFriendlyName[\\'Newest\\']\" ng-class=\"{\\'btn-grey\\':sortBy == \\'Newest\\'}\" ng-click=\"getReviews(\\'Newest\\')\" class=\"ng-binding\">Newest</li>\\n                    </ul>\\n                </div>\\n            </div>\\n        <section ar-initial-reviews=\"\">\\n            \\n    <div itemtype=\"http://schema.org/Review\" itemscope=\"\" itemprop=\"review\" class=\"review-container clearfix\">\\n        <meta itemprop=\"itemReviewed\" id=\"metaRecipeTitle\" />\\n\\n        <article class=\"reviewer-info imadeit-enabled\">         \\n                <div class=\"recipe-details-cook-stats-container\">\\n    <a href=\"/cook/518008/\" target=\"_self\">\\n\\n         \\n                <ul class=\"cook-details\">\\n                    <li>\\n\\n                        <img style=\"display: inline;\" src=\"http://images.media-allrecipes.com/ar/spacer.gif\" title=\"\" alt=\"\" data-original-src=\"http://images.media-allrecipes.com/mobile/allrecipes/images/icon-user-default_v2.png\" data-lazy-load=\"\" class=\"img-profile elevate-cook-thumbnail ng-isolate-scope\" />\\n                    </li>\\n                    <li class=\"cook-info\">\\n                        <h4 itemprop=\"author\">  MELLO 57 \\n                         </h4>\\n\\n\\n                        <ul class=\"cook-details__followers followers-count\">\\n                            <li>\\n                                <span title=\"Followers\" class=\"icon--cook-card-follower\"></span> \\n                            </li>\\n                            <li>\\n                                <span>1</span>\\n                            </li>\\n                        </ul>\\n                        <ul class=\"cook-details__favorites favorites-count\">\\n                            <li>\\n                                <span title=\"Favorites\" class=\"icon--cook-card-favorite\"></span> \\n                            </li>\\n                            <li>\\n                                <span>3K</span>\\n                            </li>\\n                        </ul>\\n                        <ul class=\"cook-details__recipes-made recipes-made-count\">\\n                            <li>\\n                                <span title=\"Recipes Made\" class=\"icon--cook-card-made\"></span> \\n                            </li>\\n                            <li>\\n                                <span>351</span>\\n                            </li>\\n                        </ul>\\n                    </li>\\n                </ul>\\n\\n  \\n\\n\\n\\n\\n\\n    </a>\\n</div> \\n \\n\\n\\n\\n            \\n            <div class=\"stars-and-date-container\">\\n                <div data-ratingstars=\"5\" data-scroll-to-anchor=\"reviews\" class=\"rating-stars\">\\n        <img width=\"14\" height=\"14\" src=\"http://images.media-allrecipes.com/ar-images/icons/rating-stars/full-star-2015.svg\" />\\n        <img width=\"14\" height=\"14\" src=\"http://images.media-allrecipes.com/ar-images/icons/rating-stars/full-star-2015.svg\" />\\n        <img width=\"14\" height=\"14\" src=\"http://images.media-allrecipes.com/ar-images/icons/rating-stars/full-star-2015.svg\" />\\n        <img width=\"14\" height=\"14\" src=\"http://images.media-allrecipes.com/ar-images/icons/rating-stars/full-star-2015.svg\" />\\n        <img width=\"14\" height=\"14\" src=\"http://images.media-allrecipes.com/ar-images/icons/rating-stars/full-star-2015.svg\" />\\n</div>\\n                <div itemtype=\"http://schema.org/Rating\" itemscope=\"\" itemprop=\"reviewRating\">\\n                    <meta content=\"5\" itemprop=\"ratingValue\" />\\n                </div>\\n                <div class=\"review-date\">1/16/2006</div>\\n                <meta content=\"2006-01-16\" itemprop=\"dateCreated\" />\\n            </div>\\n        </article>\\n\\n        <p itemprop=\"reviewBody\">\\nI just made these as written &amp; they are WONDERFUL!!! My favorite part about this cookie is it\\'s texture. Like others have said, they don\\'t spread- which is a MUST in my book! 10 minutes is perfe...\\n        </p>\\n        <div class=\"review-detail\">\\n            <a ng-click=\"$event.preventDefault();reviewModalDialog(0, sortBy)\" href=\"reviews/639453/\" class=\"review-detail__link\" target=\"_self\">\\n                <span class=\"icon--expand-icon\"></span>\\n                <span>Read more</span>\\n            </a>\\n        </div>\\n    </div>\\n\\n    <div itemtype=\"http://schema.org/Review\" itemscope=\"\" itemprop=\"review\" class=\"review-container clearfix\">\\n        <meta itemprop=\"itemReviewed\" id=\"metaRecipeTitle\" />\\n\\n        <article class=\"reviewer-info imadeit-enabled\">         \\n                <div class=\"recipe-details-cook-stats-container\">\\n    <a href=\"/cook/doublewideskilletsinglewidebudget/\" target=\"_self\">\\n\\n         \\n                <ul class=\"cook-details\">\\n                    <li>\\n\\n                        <img style=\"display: inline;\" src=\"http://images.media-allrecipes.com/ar/spacer.gif\" title=\"\" alt=\"\" data-original-src=\"http://images.media-allrecipes.com/userphotos/90x90/00/69/94/699445.jpg\" data-lazy-load=\"\" class=\"img-profile elevate-cook-thumbnail ng-isolate-scope\" />\\n                    </li>\\n                    <li class=\"cook-info\">\\n                        <h4 itemprop=\"author\">  Sarah Jo \\n                         </h4>\\n\\n\\n                        <ul class=\"cook-details__followers followers-count\">\\n                            <li>\\n                                <span title=\"Followers\" class=\"icon--cook-card-follower\"></span> \\n                            </li>\\n                            <li>\\n                                <span>1K</span>\\n                            </li>\\n                        </ul>\\n                        <ul class=\"cook-details__favorites favorites-count\">\\n                            <li>\\n                                <span title=\"Favorites\" class=\"icon--cook-card-favorite\"></span> \\n                            </li>\\n                            <li>\\n                                <span>1</span>\\n                            </li>\\n                        </ul>\\n                        <ul class=\"cook-details__recipes-made recipes-made-count\">\\n                            <li>\\n                                <span title=\"Recipes Made\" class=\"icon--cook-card-made\"></span> \\n                            </li>\\n                            <li>\\n                                <span>6K</span>\\n                            </li>\\n                        </ul>\\n                    </li>\\n                </ul>\\n\\n  \\n\\n\\n\\n\\n\\n    </a>\\n</div> \\n \\n\\n\\n\\n            \\n            <div class=\"stars-and-date-container\">\\n                <div data-ratingstars=\"4\" data-scroll-to-anchor=\"reviews\" class=\"rating-stars\">\\n        <img width=\"14\" height=\"14\" src=\"http://images.media-allrecipes.com/ar-images/icons/rating-stars/full-star-2015.svg\" />\\n        <img width=\"14\" height=\"14\" src=\"http://images.media-allrecipes.com/ar-images/icons/rating-stars/full-star-2015.svg\" />\\n        <img width=\"14\" height=\"14\" src=\"http://images.media-allrecipes.com/ar-images/icons/rating-stars/full-star-2015.svg\" />\\n        <img width=\"14\" height=\"14\" src=\"http://images.media-allrecipes.com/ar-images/icons/rating-stars/full-star-2015.svg\" />\\n        <img width=\"14\" height=\"14\" src=\"http://images.media-allrecipes.com/ar-images/icons/rating-stars/empty-star.svg\" />\\n</div>\\n                <div itemtype=\"http://schema.org/Rating\" itemscope=\"\" itemprop=\"reviewRating\">\\n                    <meta content=\"4\" itemprop=\"ratingValue\" />\\n                </div>\\n                <div class=\"review-date\">11/28/2009</div>\\n                <meta content=\"2009-11-28\" itemprop=\"dateCreated\" />\\n            </div>\\n        </article>\\n\\n        <p itemprop=\"reviewBody\">\\nI doubled this recipe. I used dark chocolate chips, chunky peanut butter and added 3/4 cup of Reese\\'s peanut butter chips and 1/2 cup chopped pecans.  I did grind half the oatmeal down in my ble...\\n        </p>\\n        <div class=\"review-detail\">\\n            <a ng-click=\"$event.preventDefault();reviewModalDialog(1, sortBy)\" href=\"reviews/2211144/\" class=\"review-detail__link\" target=\"_self\">\\n                <span class=\"icon--expand-icon\"></span>\\n                <span>Read more</span>\\n            </a>\\n        </div>\\n    </div>\\n\\n    <div itemtype=\"http://schema.org/Review\" itemscope=\"\" itemprop=\"review\" class=\"review-container clearfix\">\\n        <meta itemprop=\"itemReviewed\" id=\"metaRecipeTitle\" />\\n\\n        <article class=\"reviewer-info imadeit-enabled\">         \\n                <div class=\"recipe-details-cook-stats-container\">\\n    <a href=\"/cook/972698/\" target=\"_self\">\\n\\n         \\n                <ul class=\"cook-details\">\\n                    <li>\\n\\n                        <img style=\"display: inline;\" src=\"http://images.media-allrecipes.com/ar/spacer.gif\" title=\"\" alt=\"\" data-original-src=\"http://images.media-allrecipes.com/userphotos/90x90/00/21/80/218095.jpg\" data-lazy-load=\"\" class=\"img-profile elevate-cook-thumbnail ng-isolate-scope\" />\\n                    </li>\\n                    <li class=\"cook-info\">\\n                        <h4 itemprop=\"author\">  JESSIMOOS \\n                         </h4>\\n\\n\\n                        <ul class=\"cook-details__followers followers-count\">\\n                            <li>\\n                                <span title=\"Followers\" class=\"icon--cook-card-follower\"></span> \\n                            </li>\\n                            <li>\\n                                <span>1</span>\\n                            </li>\\n                        </ul>\\n                        <ul class=\"cook-details__favorites favorites-count\">\\n                            <li>\\n                                <span title=\"Favorites\" class=\"icon--cook-card-favorite\"></span> \\n                            </li>\\n                            <li>\\n                                <span>388</span>\\n                            </li>\\n                        </ul>\\n                        <ul class=\"cook-details__recipes-made recipes-made-count\">\\n                            <li>\\n                                <span title=\"Recipes Made\" class=\"icon--cook-card-made\"></span> \\n                            </li>\\n                            <li>\\n                                <span>31</span>\\n                            </li>\\n                        </ul>\\n                    </li>\\n                </ul>\\n\\n  \\n\\n\\n\\n\\n\\n    </a>\\n</div> \\n \\n\\n\\n\\n            \\n            <div class=\"stars-and-date-container\">\\n                <div data-ratingstars=\"5\" data-scroll-to-anchor=\"reviews\" class=\"rating-stars\">\\n        <img width=\"14\" height=\"14\" src=\"http://images.media-allrecipes.com/ar-images/icons/rating-stars/full-star-2015.svg\" />\\n        <img width=\"14\" height=\"14\" src=\"http://images.media-allrecipes.com/ar-images/icons/rating-stars/full-star-2015.svg\" />\\n        <img width=\"14\" height=\"14\" src=\"http://images.media-allrecipes.com/ar-images/icons/rating-stars/full-star-2015.svg\" />\\n        <img width=\"14\" height=\"14\" src=\"http://images.media-allrecipes.com/ar-images/icons/rating-stars/full-star-2015.svg\" />\\n        <img width=\"14\" height=\"14\" src=\"http://images.media-allrecipes.com/ar-images/icons/rating-stars/full-star-2015.svg\" />\\n</div>\\n                <div itemtype=\"http://schema.org/Rating\" itemscope=\"\" itemprop=\"reviewRating\">\\n                    <meta content=\"5\" itemprop=\"ratingValue\" />\\n                </div>\\n                <div class=\"review-date\">2/18/2007</div>\\n                <meta content=\"2007-02-18\" itemprop=\"dateCreated\" />\\n            </div>\\n        </article>\\n\\n        <p itemprop=\"reviewBody\">\\nI really enjoyed this cookie as did my family.  It combines the 3 worlds of choco chip cookies, peanut btr. and oatmeal all together.  It has a wonderful balanced flavor!  Before making I read o...\\n        </p>\\n        <div class=\"review-detail\">\\n            <a ng-click=\"$event.preventDefault();reviewModalDialog(2, sortBy)\" href=\"reviews/921683/\" class=\"review-detail__link\" target=\"_self\">\\n                <span class=\"icon--expand-icon\"></span>\\n                <span>Read more</span>\\n            </a>\\n        </div>\\n    </div>\\n\\n            <div class=\"review-divider\"></div>\\n    <div itemtype=\"http://schema.org/Review\" itemscope=\"\" itemprop=\"review\" class=\"review-container clearfix\">\\n        <meta itemprop=\"itemReviewed\" id=\"metaRecipeTitle\" />\\n\\n        <article class=\"reviewer-info imadeit-enabled\">         \\n                <div class=\"recipe-details-cook-stats-container\">\\n    <a href=\"/cook/1572309/\" target=\"_self\">\\n\\n         \\n                <ul class=\"cook-details\">\\n                    <li>\\n\\n                        <img style=\"display: inline;\" src=\"http://images.media-allrecipes.com/ar/spacer.gif\" title=\"\" alt=\"\" data-original-src=\"http://images.media-allrecipes.com/global/features/121.gif\" data-lazy-load=\"\" class=\"img-profile elevate-cook-thumbnail ng-isolate-scope\" />\\n                    </li>\\n                    <li class=\"cook-info\">\\n                        <h4 itemprop=\"author\">  veggiemommie \\n                         </h4>\\n\\n\\n                        <ul class=\"cook-details__followers followers-count\">\\n                            <li>\\n                                <span title=\"Followers\" class=\"icon--cook-card-follower\"></span> \\n                            </li>\\n                            <li>\\n                                <span>6</span>\\n                            </li>\\n                        </ul>\\n                        <ul class=\"cook-details__favorites favorites-count\">\\n                            <li>\\n                                <span title=\"Favorites\" class=\"icon--cook-card-favorite\"></span> \\n                            </li>\\n                            <li>\\n                                <span>15</span>\\n                            </li>\\n                        </ul>\\n                        <ul class=\"cook-details__recipes-made recipes-made-count\">\\n                            <li>\\n                                <span title=\"Recipes Made\" class=\"icon--cook-card-made\"></span> \\n                            </li>\\n                            <li>\\n                                <span>32</span>\\n                            </li>\\n                        </ul>\\n                    </li>\\n                </ul>\\n\\n  \\n\\n\\n\\n\\n\\n    </a>\\n</div> \\n \\n\\n\\n\\n            \\n            <div class=\"stars-and-date-container\">\\n                <div data-ratingstars=\"5\" data-scroll-to-anchor=\"reviews\" class=\"rating-stars\">\\n        <img width=\"14\" height=\"14\" src=\"http://images.media-allrecipes.com/ar-images/icons/rating-stars/full-star-2015.svg\" />\\n        <img width=\"14\" height=\"14\" src=\"http://images.media-allrecipes.com/ar-images/icons/rating-stars/full-star-2015.svg\" />\\n        <img width=\"14\" height=\"14\" src=\"http://images.media-allrecipes.com/ar-images/icons/rating-stars/full-star-2015.svg\" />\\n        <img width=\"14\" height=\"14\" src=\"http://images.media-allrecipes.com/ar-images/icons/rating-stars/full-star-2015.svg\" />\\n        <img width=\"14\" height=\"14\" src=\"http://images.media-allrecipes.com/ar-images/icons/rating-stars/full-star-2015.svg\" />\\n</div>\\n                <div itemtype=\"http://schema.org/Rating\" itemscope=\"\" itemprop=\"reviewRating\">\\n                    <meta content=\"5\" itemprop=\"ratingValue\" />\\n                </div>\\n                <div class=\"review-date\">11/12/2005</div>\\n                <meta content=\"2005-11-12\" itemprop=\"dateCreated\" />\\n            </div>\\n        </article>\\n\\n        <p itemprop=\"reviewBody\">\\nTHIS IS A TRUELY GREAT CHOCOLATE CHIP COOKIE. THE PEANUT BUTTER TASTE IS NOT OVERWHELMING, JUST THE RIGHT AMOUNT. I USED ORGANIC PURE PEANUT BUTTER WITHOUT ANY HYDROGENATED OILS BUT REGULAR sKIP...\\n        </p>\\n        <div class=\"review-detail\">\\n            <a ng-click=\"$event.preventDefault();reviewModalDialog(3, sortBy)\" href=\"reviews/594053/\" class=\"review-detail__link\" target=\"_self\">\\n                <span class=\"icon--expand-icon\"></span>\\n                <span>Read more</span>\\n            </a>\\n        </div>\\n    </div>\\n\\n    <div itemtype=\"http://schema.org/Review\" itemscope=\"\" itemprop=\"review\" class=\"review-container clearfix\">\\n        <meta itemprop=\"itemReviewed\" id=\"metaRecipeTitle\" />\\n\\n        <article class=\"reviewer-info imadeit-enabled\">         \\n                <div class=\"recipe-details-cook-stats-container\">\\n    <a href=\"/cook/1403245/\" target=\"_self\">\\n\\n         \\n                <ul class=\"cook-details\">\\n                    <li>\\n\\n                        <img style=\"display: inline;\" src=\"http://images.media-allrecipes.com/ar/spacer.gif\" title=\"\" alt=\"\" data-original-src=\"http://images.media-allrecipes.com/mobile/allrecipes/images/icon-user-default_v2.png\" data-lazy-load=\"\" class=\"img-profile elevate-cook-thumbnail ng-isolate-scope\" />\\n                    </li>\\n                    <li class=\"cook-info\">\\n                        <h4 itemprop=\"author\">  MISSILE198 \\n                         </h4>\\n\\n\\n                        <ul class=\"cook-details__followers followers-count\">\\n                            <li>\\n                                <span title=\"Followers\" class=\"icon--cook-card-follower\"></span> \\n                            </li>\\n                            <li>\\n                                <span>0</span>\\n                            </li>\\n                        </ul>\\n                        <ul class=\"cook-details__favorites favorites-count\">\\n                            <li>\\n                                <span title=\"Favorites\" class=\"icon--cook-card-favorite\"></span> \\n                            </li>\\n                            <li>\\n                                <span>30</span>\\n                            </li>\\n                        </ul>\\n                        <ul class=\"cook-details__recipes-made recipes-made-count\">\\n                            <li>\\n                                <span title=\"Recipes Made\" class=\"icon--cook-card-made\"></span> \\n                            </li>\\n                            <li>\\n                                <span>14</span>\\n                            </li>\\n                        </ul>\\n                    </li>\\n                </ul>\\n\\n  \\n\\n\\n\\n\\n\\n    </a>\\n</div> \\n \\n\\n\\n\\n            \\n            <div class=\"stars-and-date-container\">\\n                <div data-ratingstars=\"5\" data-scroll-to-anchor=\"reviews\" class=\"rating-stars\">\\n        <img width=\"14\" height=\"14\" src=\"http://images.media-allrecipes.com/ar-images/icons/rating-stars/full-star-2015.svg\" />\\n        <img width=\"14\" height=\"14\" src=\"http://images.media-allrecipes.com/ar-images/icons/rating-stars/full-star-2015.svg\" />\\n        <img width=\"14\" height=\"14\" src=\"http://images.media-allrecipes.com/ar-images/icons/rating-stars/full-star-2015.svg\" />\\n        <img width=\"14\" height=\"14\" src=\"http://images.media-allrecipes.com/ar-images/icons/rating-stars/full-star-2015.svg\" />\\n        <img width=\"14\" height=\"14\" src=\"http://images.media-allrecipes.com/ar-images/icons/rating-stars/full-star-2015.svg\" />\\n</div>\\n                <div itemtype=\"http://schema.org/Rating\" itemscope=\"\" itemprop=\"reviewRating\">\\n                    <meta content=\"5\" itemprop=\"ratingValue\" />\\n                </div>\\n                <div class=\"review-date\">10/15/2006</div>\\n                <meta content=\"2006-10-15\" itemprop=\"dateCreated\" />\\n            </div>\\n        </article>\\n\\n        <p itemprop=\"reviewBody\">\\nWe could not stop eating these cookies.  I creamed the butters and sugars +vanilla and eggs before adding dry ingredients.  I also lined my cookie sheet with parchment paper so I did not grease ...\\n        </p>\\n        <div class=\"review-detail\">\\n            <a ng-click=\"$event.preventDefault();reviewModalDialog(4, sortBy)\" href=\"reviews/800552/\" class=\"review-detail__link\" target=\"_self\">\\n                <span class=\"icon--expand-icon\"></span>\\n                <span>Read more</span>\\n            </a>\\n        </div>\\n    </div>\\n\\n    <div itemtype=\"http://schema.org/Review\" itemscope=\"\" itemprop=\"review\" class=\"review-container clearfix\">\\n        <meta itemprop=\"itemReviewed\" id=\"metaRecipeTitle\" />\\n\\n        <article class=\"reviewer-info imadeit-enabled\">         \\n                <div class=\"recipe-details-cook-stats-container\">\\n    <a href=\"/cook/923003/\" target=\"_self\">\\n\\n         \\n                <ul class=\"cook-details\">\\n                    <li>\\n\\n                        <img style=\"display: inline;\" src=\"http://images.media-allrecipes.com/ar/spacer.gif\" title=\"\" alt=\"\" data-original-src=\"http://images.media-allrecipes.com/userphotos/90x90/02/66/22/2662241.jpg\" data-lazy-load=\"\" class=\"img-profile elevate-cook-thumbnail ng-isolate-scope\" />\\n                    </li>\\n                    <li class=\"cook-info\">\\n                        <h4 itemprop=\"author\">  Janet Miller Elliott \\n                         </h4>\\n\\n\\n                        <ul class=\"cook-details__followers followers-count\">\\n                            <li>\\n                                <span title=\"Followers\" class=\"icon--cook-card-follower\"></span> \\n                            </li>\\n                            <li>\\n                                <span>1</span>\\n                            </li>\\n                        </ul>\\n                        <ul class=\"cook-details__favorites favorites-count\">\\n                            <li>\\n                                <span title=\"Favorites\" class=\"icon--cook-card-favorite\"></span> \\n                            </li>\\n                            <li>\\n                                <span>316</span>\\n                            </li>\\n                        </ul>\\n                        <ul class=\"cook-details__recipes-made recipes-made-count\">\\n                            <li>\\n                                <span title=\"Recipes Made\" class=\"icon--cook-card-made\"></span> \\n                            </li>\\n                            <li>\\n                                <span>6</span>\\n                            </li>\\n                        </ul>\\n                    </li>\\n                </ul>\\n\\n  \\n\\n\\n\\n\\n\\n    </a>\\n</div> \\n \\n\\n\\n\\n            \\n            <div class=\"stars-and-date-container\">\\n                <div data-ratingstars=\"5\" data-scroll-to-anchor=\"reviews\" class=\"rating-stars\">\\n        <img width=\"14\" height=\"14\" src=\"http://images.media-allrecipes.com/ar-images/icons/rating-stars/full-star-2015.svg\" />\\n        <img width=\"14\" height=\"14\" src=\"http://images.media-allrecipes.com/ar-images/icons/rating-stars/full-star-2015.svg\" />\\n        <img width=\"14\" height=\"14\" src=\"http://images.media-allrecipes.com/ar-images/icons/rating-stars/full-star-2015.svg\" />\\n        <img width=\"14\" height=\"14\" src=\"http://images.media-allrecipes.com/ar-images/icons/rating-stars/full-star-2015.svg\" />\\n        <img width=\"14\" height=\"14\" src=\"http://images.media-allrecipes.com/ar-images/icons/rating-stars/full-star-2015.svg\" />\\n</div>\\n                <div itemtype=\"http://schema.org/Rating\" itemscope=\"\" itemprop=\"reviewRating\">\\n                    <meta content=\"5\" itemprop=\"ratingValue\" />\\n                </div>\\n                <div class=\"review-date\">2/5/2007</div>\\n                <meta content=\"2007-02-05\" itemprop=\"dateCreated\" />\\n            </div>\\n        </article>\\n\\n        <p itemprop=\"reviewBody\">\\nThis has become one of my favorite cookie recipes!  I\\'ve made them several times.  They are easy to make and taste great!  It\\'s a nice combination of flavors and they come out perfect.... crisp ...\\n        </p>\\n        <div class=\"review-detail\">\\n            <a ng-click=\"$event.preventDefault();reviewModalDialog(5, sortBy)\" href=\"reviews/909879/\" class=\"review-detail__link\" target=\"_self\">\\n                <span class=\"icon--expand-icon\"></span>\\n                <span>Read more</span>\\n            </a>\\n        </div>\\n    </div>\\n\\n            <div class=\"review-divider\"></div>\\n    <div itemtype=\"http://schema.org/Review\" itemscope=\"\" itemprop=\"review\" class=\"review-container clearfix\">\\n        <meta itemprop=\"itemReviewed\" id=\"metaRecipeTitle\" />\\n\\n        <article class=\"reviewer-info imadeit-enabled\">         \\n                <div class=\"recipe-details-cook-stats-container\">\\n    <a href=\"/cook/1507731/\" target=\"_self\">\\n\\n         \\n                <ul class=\"cook-details\">\\n                    <li>\\n\\n                        <img style=\"display: inline;\" src=\"http://images.media-allrecipes.com/ar/spacer.gif\" title=\"\" alt=\"\" data-original-src=\"http://images.media-allrecipes.com/mobile/allrecipes/images/icon-user-default_v2.png\" data-lazy-load=\"\" class=\"img-profile elevate-cook-thumbnail ng-isolate-scope\" />\\n                    </li>\\n                    <li class=\"cook-info\">\\n                        <h4 itemprop=\"author\">  vikids \\n                         </h4>\\n\\n\\n                        <ul class=\"cook-details__followers followers-count\">\\n                            <li>\\n                                <span title=\"Followers\" class=\"icon--cook-card-follower\"></span> \\n                            </li>\\n                            <li>\\n                                <span>1</span>\\n                            </li>\\n                        </ul>\\n                        <ul class=\"cook-details__favorites favorites-count\">\\n                            <li>\\n                                <span title=\"Favorites\" class=\"icon--cook-card-favorite\"></span> \\n                            </li>\\n                            <li>\\n                                <span>414</span>\\n                            </li>\\n                        </ul>\\n                        <ul class=\"cook-details__recipes-made recipes-made-count\">\\n                            <li>\\n                                <span title=\"Recipes Made\" class=\"icon--cook-card-made\"></span> \\n                            </li>\\n                            <li>\\n                                <span>19</span>\\n                            </li>\\n                        </ul>\\n                    </li>\\n                </ul>\\n\\n  \\n\\n\\n\\n\\n\\n    </a>\\n</div> \\n \\n\\n\\n\\n            \\n            <div class=\"stars-and-date-container\">\\n                <div data-ratingstars=\"5\" data-scroll-to-anchor=\"reviews\" class=\"rating-stars\">\\n        <img width=\"14\" height=\"14\" src=\"http://images.media-allrecipes.com/ar-images/icons/rating-stars/full-star-2015.svg\" />\\n        <img width=\"14\" height=\"14\" src=\"http://images.media-allrecipes.com/ar-images/icons/rating-stars/full-star-2015.svg\" />\\n        <img width=\"14\" height=\"14\" src=\"http://images.media-allrecipes.com/ar-images/icons/rating-stars/full-star-2015.svg\" />\\n        <img width=\"14\" height=\"14\" src=\"http://images.media-allrecipes.com/ar-images/icons/rating-stars/full-star-2015.svg\" />\\n        <img width=\"14\" height=\"14\" src=\"http://images.media-allrecipes.com/ar-images/icons/rating-stars/full-star-2015.svg\" />\\n</div>\\n                <div itemtype=\"http://schema.org/Rating\" itemscope=\"\" itemprop=\"reviewRating\">\\n                    <meta content=\"5\" itemprop=\"ratingValue\" />\\n                </div>\\n                <div class=\"review-date\">10/22/2005</div>\\n                <meta content=\"2005-10-22\" itemprop=\"dateCreated\" />\\n            </div>\\n        </article>\\n\\n        <p itemprop=\"reviewBody\">\\nWe all loved these cookies. I tripled the recipe, used 2 tsp. of baking soda instead of the 3 called for. I used 1/2 butter and 1/2 shortening for a not so flat cookie but still chewy. Also, I u...\\n        </p>\\n        <div class=\"review-detail\">\\n            <a ng-click=\"$event.preventDefault();reviewModalDialog(6, sortBy)\" href=\"reviews/582216/\" class=\"review-detail__link\" target=\"_self\">\\n                <span class=\"icon--expand-icon\"></span>\\n                <span>Read more</span>\\n            </a>\\n        </div>\\n    </div>\\n\\n    <div itemtype=\"http://schema.org/Review\" itemscope=\"\" itemprop=\"review\" class=\"review-container clearfix\">\\n        <meta itemprop=\"itemReviewed\" id=\"metaRecipeTitle\" />\\n\\n        <article class=\"reviewer-info imadeit-enabled\">         \\n                <div class=\"recipe-details-cook-stats-container\">\\n    <a href=\"/cook/1625039/\" target=\"_self\">\\n\\n         \\n                <ul class=\"cook-details\">\\n                    <li>\\n\\n                        <img style=\"display: inline;\" src=\"http://images.media-allrecipes.com/ar/spacer.gif\" title=\"\" alt=\"\" data-original-src=\"http://images.media-allrecipes.com/userphotos/90x90/00/70/04/700413.jpg\" data-lazy-load=\"\" class=\"img-profile elevate-cook-thumbnail ng-isolate-scope\" />\\n                    </li>\\n                    <li class=\"cook-info\">\\n                        <h4 itemprop=\"author\">  Lisa C \\n                         </h4>\\n\\n\\n                        <ul class=\"cook-details__followers followers-count\">\\n                            <li>\\n                                <span title=\"Followers\" class=\"icon--cook-card-follower\"></span> \\n                            </li>\\n                            <li>\\n                                <span>0</span>\\n                            </li>\\n                        </ul>\\n                        <ul class=\"cook-details__favorites favorites-count\">\\n                            <li>\\n                                <span title=\"Favorites\" class=\"icon--cook-card-favorite\"></span> \\n                            </li>\\n                            <li>\\n                                <span>975</span>\\n                            </li>\\n                        </ul>\\n                        <ul class=\"cook-details__recipes-made recipes-made-count\">\\n                            <li>\\n                                <span title=\"Recipes Made\" class=\"icon--cook-card-made\"></span> \\n                            </li>\\n                            <li>\\n                                <span>15</span>\\n                            </li>\\n                        </ul>\\n                    </li>\\n                </ul>\\n\\n  \\n\\n\\n\\n\\n\\n    </a>\\n</div> \\n \\n\\n\\n\\n            \\n            <div class=\"stars-and-date-container\">\\n                <div data-ratingstars=\"3\" data-scroll-to-anchor=\"reviews\" class=\"rating-stars\">\\n        <img width=\"14\" height=\"14\" src=\"http://images.media-allrecipes.com/ar-images/icons/rating-stars/full-star-2015.svg\" />\\n        <img width=\"14\" height=\"14\" src=\"http://images.media-allrecipes.com/ar-images/icons/rating-stars/full-star-2015.svg\" />\\n        <img width=\"14\" height=\"14\" src=\"http://images.media-allrecipes.com/ar-images/icons/rating-stars/full-star-2015.svg\" />\\n        <img width=\"14\" height=\"14\" src=\"http://images.media-allrecipes.com/ar-images/icons/rating-stars/empty-star.svg\" />\\n        <img width=\"14\" height=\"14\" src=\"http://images.media-allrecipes.com/ar-images/icons/rating-stars/empty-star.svg\" />\\n</div>\\n                <div itemtype=\"http://schema.org/Rating\" itemscope=\"\" itemprop=\"reviewRating\">\\n                    <meta content=\"3\" itemprop=\"ratingValue\" />\\n                </div>\\n                <div class=\"review-date\">12/7/2006</div>\\n                <meta content=\"2006-12-07\" itemprop=\"dateCreated\" />\\n            </div>\\n        </article>\\n\\n        <p itemprop=\"reviewBody\">\\nEasy to prepare, great texture, but so not rocked by the taste. Actually instead of one great flavor cookie, you get a bland tasting combination cookie. I\\'ll keep looking.        </p>\\n        <div class=\"review-detail\">\\n            <a ng-click=\"$event.preventDefault();reviewModalDialog(7, sortBy)\" href=\"reviews/850711/\" class=\"review-detail__link\" target=\"_self\">\\n                <span class=\"icon--expand-icon\"></span>\\n                <span>Read more</span>\\n            </a>\\n        </div>\\n    </div>\\n\\n    <div itemtype=\"http://schema.org/Review\" itemscope=\"\" itemprop=\"review\" class=\"review-container clearfix\">\\n        <meta itemprop=\"itemReviewed\" id=\"metaRecipeTitle\" />\\n\\n        <article class=\"reviewer-info imadeit-enabled\">         \\n                <div class=\"recipe-details-cook-stats-container\">\\n    <a href=\"/cook/naples34102/\" target=\"_self\">\\n\\n         \\n                <ul class=\"cook-details\">\\n                    <li>\\n\\n                        <img style=\"display: inline;\" src=\"http://images.media-allrecipes.com/ar/spacer.gif\" title=\"\" alt=\"\" data-original-src=\"http://images.media-allrecipes.com/userphotos/90x90/00/04/78/47846.jpg\" data-lazy-load=\"\" class=\"img-profile elevate-cook-thumbnail ng-isolate-scope\" />\\n                    </li>\\n                    <li class=\"cook-info\">\\n                        <h4 itemprop=\"author\">  naples34102 \\n                         </h4>\\n\\n\\n                        <ul class=\"cook-details__followers followers-count\">\\n                            <li>\\n                                <span title=\"Followers\" class=\"icon--cook-card-follower\"></span> \\n                            </li>\\n                            <li>\\n                                <span>3K</span>\\n                            </li>\\n                        </ul>\\n                        <ul class=\"cook-details__favorites favorites-count\">\\n                            <li>\\n                                <span title=\"Favorites\" class=\"icon--cook-card-favorite\"></span> \\n                            </li>\\n                            <li>\\n                                <span>0</span>\\n                            </li>\\n                        </ul>\\n                        <ul class=\"cook-details__recipes-made recipes-made-count\">\\n                            <li>\\n                                <span title=\"Recipes Made\" class=\"icon--cook-card-made\"></span> \\n                            </li>\\n                            <li>\\n                                <span>3K</span>\\n                            </li>\\n                        </ul>\\n                    </li>\\n                </ul>\\n\\n  \\n\\n\\n\\n\\n\\n    </a>\\n</div> \\n \\n\\n\\n\\n            \\n            <div class=\"stars-and-date-container\">\\n                <div data-ratingstars=\"5\" data-scroll-to-anchor=\"reviews\" class=\"rating-stars\">\\n        <img width=\"14\" height=\"14\" src=\"http://images.media-allrecipes.com/ar-images/icons/rating-stars/full-star-2015.svg\" />\\n        <img width=\"14\" height=\"14\" src=\"http://images.media-allrecipes.com/ar-images/icons/rating-stars/full-star-2015.svg\" />\\n        <img width=\"14\" height=\"14\" src=\"http://images.media-allrecipes.com/ar-images/icons/rating-stars/full-star-2015.svg\" />\\n        <img width=\"14\" height=\"14\" src=\"http://images.media-allrecipes.com/ar-images/icons/rating-stars/full-star-2015.svg\" />\\n        <img width=\"14\" height=\"14\" src=\"http://images.media-allrecipes.com/ar-images/icons/rating-stars/full-star-2015.svg\" />\\n</div>\\n                <div itemtype=\"http://schema.org/Rating\" itemscope=\"\" itemprop=\"reviewRating\">\\n                    <meta content=\"5\" itemprop=\"ratingValue\" />\\n                </div>\\n                <div class=\"review-date\">4/4/2012</div>\\n                <meta content=\"2012-04-04\" itemprop=\"dateCreated\" />\\n            </div>\\n        </article>\\n\\n        <p itemprop=\"reviewBody\">\\nOne of those rare recipes that delivers exactly what it\\'s supposed to, with no tweaking and certainly no surprises.  The submitter has it right, that this is a well-balanced combination of oats,...\\n        </p>\\n        <div class=\"review-detail\">\\n            <a ng-click=\"$event.preventDefault();reviewModalDialog(8, sortBy)\" href=\"reviews/3786185/\" class=\"review-detail__link\" target=\"_self\">\\n                <span class=\"icon--expand-icon\"></span>\\n                <span>Read more</span>\\n            </a>\\n        </div>\\n    </div>\\n\\n            <div class=\"review-divider\"></div>\\n\\n\\n        </section>\\n        <div class=\"recipe-reviews__more-container\">\\n            <!-- ngRepeat: review in reviews -->\\n            <div data-ng-hide=\"!moreReviewsAvailable\" class=\"more-button\" ng-click=\"getReviews()\">\\n                <a class=\"moreReviews btns-one-small\">More Reviews</a>\\n            </div>\\n        </div>\\n\\n</section>\\n\\n\\n\\n\\n    <!-- once the feature toggle is moved the zergnet javascript down into the scripts section below -->\\n    <section class=\"zergnet\">\\n        <h2 class=\"heading__h2--gutters\">\\n            Other stories that may interest you\\n        </h2>\\n        <div class=\"zergnet-reserve-space widget-loaded\" id=\"zergnet-widget-33596\"><div style=\"clear:both;line-height:normal;border: 0px solid #000; font-family: arial,serif; font-size: 17px; text-align: center; background: #fff; width: 915px; margin: 0px auto;\" class=\"zerglayoutcl\" id=\"zerglayout\"><div style=\"clear:both;\"><div style=\"clear:both;\"></div></div><div style=\"clear:both;\">\\n\\t\\t\\t<div style=\"float: left; width: 130px; margin-top:4px;margin-bottom:2px; margin-left: 0px; margin-right: 0px; overflow: hidden; clear: both;\" class=\"zergentity\">\\n\\t\\t\\t\\t<a rel=\"nofollow\" target=\"_blank\" href=\"http://www.zergnet.com/i/1546581/33596/0/0/47774690\">\\n\\t\\t\\t\\t\\t<img data-pin-no-hover=\"true\" nopin=\"true\" src=\"http://img2.zergnet.com/1546581_140.jpg\" style=\"-ms-interpolation-mode:bicubic;margin:0;padding:0; height: 130px; width: 130px; border: 0px solid #666;\" />\\n\\t\\t\\t\\t</a>\\n\\t\\t\\t\\t<div style=\"margin-top: 2px;\" class=\"zergheadline\">\\n\\t\\t\\t\\t\\t<a rel=\"nofollow\" target=\"_blank\" style=\"font-family:Arial;color: #4d4d4d; font-weight: Normal; text-decoration: none;\" href=\"http://www.zergnet.com/i/1546581/33596/0/0/47774690\">12 Ground Beef Dinners You Haven\\u2019t Made Yet</a>\\n\\t\\t\\t\\t</div>\\n\\t\\t\\t\\t<div style=\"clear:both;\"></div>\\n\\t\\t\\t</div>\\n\\t\\t\\t<div style=\"float: left; width: 130px; margin-top:4px;margin-bottom:2px; margin-left: 0px; margin-right: 0px; overflow: hidden; clear: none;\" class=\"zergentity\">\\n\\t\\t\\t\\t<a rel=\"nofollow\" target=\"_blank\" href=\"http://www.zergnet.com/i/1501726/33596/0/0/47774690\">\\n\\t\\t\\t\\t\\t<img data-pin-no-hover=\"true\" nopin=\"true\" src=\"http://img5.zergnet.com/1501726_140.jpg\" style=\"-ms-interpolation-mode:bicubic;margin:0;padding:0; height: 130px; width: 130px; border: 0px solid #666;\" />\\n\\t\\t\\t\\t</a>\\n\\t\\t\\t\\t<div style=\"margin-top: 2px;\" class=\"zergheadline\">\\n\\t\\t\\t\\t\\t<a rel=\"nofollow\" target=\"_blank\" style=\"font-family:Arial;color: #4d4d4d; font-weight: Normal; text-decoration: none;\" href=\"http://www.zergnet.com/i/1501726/33596/0/0/47774690\">A Slow-Cooker Corned Beef Recipe That\\'s Pure Gold</a>\\n\\t\\t\\t\\t</div>\\n\\t\\t\\t\\t<div style=\"clear:both;\"></div>\\n\\t\\t\\t</div>\\n\\t\\t\\t<div style=\"float: left; width: 130px; margin-top:4px;margin-bottom:2px; margin-left: 0px; margin-right: 0px; overflow: hidden; clear: none;\" class=\"zergentity\">\\n\\t\\t\\t\\t<a rel=\"nofollow\" target=\"_blank\" href=\"http://www.zergnet.com/i/1564649/33596/0/0/47774690\">\\n\\t\\t\\t\\t\\t<img data-pin-no-hover=\"true\" nopin=\"true\" src=\"http://img2.zergnet.com/1564649_140.jpg\" style=\"-ms-interpolation-mode:bicubic;margin:0;padding:0; height: 130px; width: 130px; border: 0px solid #666;\" />\\n\\t\\t\\t\\t</a>\\n\\t\\t\\t\\t<div style=\"margin-top: 2px;\" class=\"zergheadline\">\\n\\t\\t\\t\\t\\t<a rel=\"nofollow\" target=\"_blank\" style=\"font-family:Arial;color: #4d4d4d; font-weight: Normal; text-decoration: none;\" href=\"http://www.zergnet.com/i/1564649/33596/0/0/47774690\">What Most People Don\\'t Know About Chik-fil-A</a>\\n\\t\\t\\t\\t</div>\\n\\t\\t\\t\\t<div style=\"clear:both;\"></div>\\n\\t\\t\\t</div>\\n\\t\\t\\t<div style=\"float: left; width: 130px; margin-top:4px;margin-bottom:2px; margin-left: 0px; margin-right: 0px; overflow: hidden; clear: none;\" class=\"zergentity\">\\n\\t\\t\\t\\t<a rel=\"nofollow\" target=\"_blank\" href=\"http://www.zergnet.com/i/488211/33596/0/0/47774690\">\\n\\t\\t\\t\\t\\t<img data-pin-no-hover=\"true\" nopin=\"true\" src=\"http://img4.zergnet.com/488211_140.jpg\" style=\"-ms-interpolation-mode:bicubic;margin:0;padding:0; height: 130px; width: 130px; border: 0px solid #666;\" />\\n\\t\\t\\t\\t</a>\\n\\t\\t\\t\\t<div style=\"margin-top: 2px;\" class=\"zergheadline\">\\n\\t\\t\\t\\t\\t<a rel=\"nofollow\" target=\"_blank\" style=\"font-family:Arial;color: #4d4d4d; font-weight: Normal; text-decoration: none;\" href=\"http://www.zergnet.com/i/488211/33596/0/0/47774690\">6 Foods to Eat When You Want to Sleep Well</a>\\n\\t\\t\\t\\t</div>\\n\\t\\t\\t\\t<div style=\"clear:both;\"></div>\\n\\t\\t\\t</div>\\n\\t\\t\\t<div style=\"float: left; width: 130px; margin-top:4px;margin-bottom:2px; margin-left: 0px; margin-right: 0px; overflow: hidden; clear: none;\" class=\"zergentity\">\\n\\t\\t\\t\\t<a rel=\"nofollow\" target=\"_blank\" href=\"http://www.zergnet.com/i/1548115/33596/0/0/47774690\">\\n\\t\\t\\t\\t\\t<img data-pin-no-hover=\"true\" nopin=\"true\" src=\"http://img4.zergnet.com/1548115_140.jpg\" style=\"-ms-interpolation-mode:bicubic;margin:0;padding:0; height: 130px; width: 130px; border: 0px solid #666;\" />\\n\\t\\t\\t\\t</a>\\n\\t\\t\\t\\t<div style=\"margin-top: 2px;\" class=\"zergheadline\">\\n\\t\\t\\t\\t\\t<a rel=\"nofollow\" target=\"_blank\" style=\"font-family:Arial;color: #4d4d4d; font-weight: Normal; text-decoration: none;\" href=\"http://www.zergnet.com/i/1548115/33596/0/0/47774690\">10 Delicious Desserts For People Who Don\\'t Like Chocolate</a>\\n\\t\\t\\t\\t</div>\\n\\t\\t\\t\\t<div style=\"clear:both;\"></div>\\n\\t\\t\\t</div>\\n\\t\\t\\t<div style=\"float: left; width: 130px; margin-top:4px;margin-bottom:2px; margin-left: 0px; margin-right: 0px; overflow: hidden; clear: none;\" class=\"zergentity\">\\n\\t\\t\\t\\t<a rel=\"nofollow\" target=\"_blank\" href=\"http://www.zergnet.com/i/1557678/33596/0/0/47774690\">\\n\\t\\t\\t\\t\\t<img data-pin-no-hover=\"true\" nopin=\"true\" src=\"http://img5.zergnet.com/1557678_140.jpg\" style=\"-ms-interpolation-mode:bicubic;margin:0;padding:0; height: 130px; width: 130px; border: 0px solid #666;\" />\\n\\t\\t\\t\\t</a>\\n\\t\\t\\t\\t<div style=\"margin-top: 2px;\" class=\"zergheadline\">\\n\\t\\t\\t\\t\\t<a rel=\"nofollow\" target=\"_blank\" style=\"font-family:Arial;color: #4d4d4d; font-weight: Normal; text-decoration: none;\" href=\"http://www.zergnet.com/i/1557678/33596/0/0/47774690\">What Most People Don\\'t Know About Cauliflower</a>\\n\\t\\t\\t\\t</div>\\n\\t\\t\\t\\t<div style=\"clear:both;\"></div>\\n\\t\\t\\t</div><div style=\"clear:both;\"></div></div></div><style type=\"text/css\">#zergnet-widget-33596 .zerglayoutcl { width: 100% !important; }\\n#zergnet-widget-33596 .zergentity { width:16.95% !important; margin-left:2.5% !important; margin-bottom:15px !important; }\\n#zergnet-widget-33596 .zergentity img{ display:block !important; width:100% !important; height:auto !important;}\\n#zergnet-widget-33596 .zergheadline {width:100% !important; margin-top:5px !important; text-align:left !important; color:#2e2e2e !important;}\\n#zergnet-widget-33596 .zergheadline a {font-family:\\'Source Sans Pro\\',Arial !important; font-size:14px !important; line-height:17px !important;}\\n#zergnet-widget-33596 .zergentity:nth-of-type(6) {display:none !important;}\\n\\n@media (max-width: 767px) {\\n#zergnet-widget-33596 .zergentity:nth-of-type(6) {display:block !important;}\\n#zergnet-widget-33596 .zergentity { width:30% !important; margin-left:2.5% !important;}\\n#zergnet-widget-33596 .zergentity:nth-of-type(3n+1) { clear:left !important;}\\n#zergnet-widget-33596 .zergheadline {width:auto !important;}\\n#zergnet-widget-33596 .zergheader {font-size:28px !important;}\\n}\\n\\n@media (max-width: 600px) {\\n#zergnet-widget-33596 .zergentity { width:46% !important; margin-left:6% !important;}\\n#zergnet-widget-33596 .zergentity:nth-of-type(3n+1) { clear:none !important; margin-left:6% !important;}\\n#zergnet-widget-33596 .zergentity:nth-of-type(2n+1) {clear:left !important; margin-left:2% !important;}\\n#zergnet-widget-33596 .zergheader {font-size: 26px !important;}\\n#zergnet-widget-33596 .zergheadline a {font-size: 15px !important; line-height:18px !important;}\\n}</style></div>\\n    </section>\\n    <script type=\"text/javascript\" language=\"javascript\">\\n        $(function () {\\n            var zergnet = document.createElement(\\'script\\');\\n            zergnet.type = \\'text/javascript\\';\\n            zergnet.async = true;\\n            zergnet.src = \\'http://www.zergnet.com/zerg.js?id=33596\\';\\n            var znscr = document.getElementsByTagName(\\'script\\')[0];\\n            znscr.parentNode.insertBefore(zergnet, znscr);\\n        });\\n    </script>\\n    </section>\\n\\n    \\n<aside class=\"recipe-page-right-rail four-tabs\" id=\"recipe-page-right-rail\">\\n\\n\\n<div data-ng-click=\"trackRecipeId(10337)\" data-ng-controller=\"ar_controllers_next_recipe\" class=\"ng-scope\">\\n\\n\\n    <a class=\"next-recipe ng-isolate-scope\" data-event-name=\"10337\" data-analytics-event=\"right rail nav\" data-click-id=\"next recipe module\" data-internal-referrer-link=\"next recipe\" href=\"/recipe/10337/beths-chocolate-chip-cookies/?internalSource=next%20recipe&amp;referringId=10141&amp;referringContentType=recipe&amp;clickId=next%20recipe%20module&amp;EventName=10337&amp;AnalyticsEvent=right%20rail%20nav\" target=\"_self\">\\n        <span class=\"next-recipe--arrow\">\\n            <span class=\"svg-icon--actions--arrow_right_fff svg-icon--actions--arrow_right_fff-dims\"></span>\\n        </span>\\n        <img title=\"Beth\\'s Chocolate Chip Cookies Recipe\" alt=\"Beth\\'s Chocolate Chip Cookies Recipe - Chocolate Chip lovers beware! These irresistible cookies are my own recipe, and they are nice and thick, soft and chewy, and absolutely hard to resist!\" src=\"http://images.media-allrecipes.com/userphotos/100x100/726563.jpg\" class=\"next-recipe--small-img\" />\\n        <h3 ng-bind=\"\\'Beth\\\\u0027s Chocolate Chip Cookies\\' | strLimit:35\" class=\"next-recipe--title ng-binding\">Beth\\'s Chocolate Chip Cookies</h3>\\n        <div data-scroll-to-anchor=\"reviews\" class=\"recipe-summary__stars\">\\n            <div data-ratingstars=\"4.51999998092651\" data-scroll-to-anchor=\"reviews\" class=\"rating-stars\">\\n        <img width=\"16\" height=\"16\" src=\"http://images.media-allrecipes.com/ar-images/icons/rating-stars/full-star-2015.svg\" />\\n        <img width=\"16\" height=\"16\" src=\"http://images.media-allrecipes.com/ar-images/icons/rating-stars/full-star-2015.svg\" />\\n        <img width=\"16\" height=\"16\" src=\"http://images.media-allrecipes.com/ar-images/icons/rating-stars/full-star-2015.svg\" />\\n        <img width=\"16\" height=\"16\" src=\"http://images.media-allrecipes.com/ar-images/icons/rating-stars/full-star-2015.svg\" />\\n        <img width=\"16\" height=\"16\" src=\"http://images.media-allrecipes.com/ar-images/icons/rating-stars/half-star-2015.svg\" />\\n</div>\\n            <span class=\"aggregate-rating\">\\n                <meta content=\"4.52\" />\\n                <span class=\"review-count\">695</span>\\n            </span>\\n        </div>\\n    </a>\\n</div>\\n\\n\\n\\n        <div data-ad-container-autocollapse=\"\" class=\"ad-search-grid reserve-ad-space\">\\n            <div class=\"ad-skyscrapermultisize\" id=\"ad-skyscrapermultisize\">\\n                <div data-tier=\"1\" id=\"div-gpt-square-flex-1\"></div>\\n            </div>\\n            <span class=\"advertisement\">ADVERTISEMENT</span>\\n        </div>\\n\\n        <div data-ad-container-autocollapse=\"\" class=\"ad-search-grid reserve-ad-space\">\\n            <div class=\"ad-skyscrapermultisize\" id=\"ad-bottom-right3\">\\n                <div data-tier=\"2\" id=\"div-gpt-square-fixed-1\"></div>\\n            </div>\\n            <span class=\"advertisement\">ADVERTISEMENT</span>\\n        </div>\\n    \\n\\n    <div data-ad-container-autocollapse=\"\" class=\"ad-search-grid reserve-ad-space\">\\n        <div class=\"ad-skyscrapermultisize\" id=\"ad-bottom-right1\">\\n            <div data-tier=\"3\" id=\"div-gpt-square-fixed-2\"></div>\\n        </div>\\n        <span class=\"advertisement\">ADVERTISEMENT</span>\\n    </div>\\n\\n        <div data-ad-container-autocollapse=\"\" class=\"ad-search-grid reserve-ad-space\">\\n            <div class=\"ad-skyscrapermultisize\" id=\"ad-bottom-right2\">\\n                <div data-tier=\"4\" id=\"div-gpt-square-fixed-3\"></div>\\n            </div>\\n            <span class=\"advertisement\">ADVERTISEMENT</span>\\n        </div>\\n    </aside>\\n\\n\\n</div>\\n\\n\\n\\n\\n\\n    </div>\\n    <footer class=\"full-page\" id=\"pageFooter\">\\n        \\n<div class=\"ad-recipe-page-footer-container\">\\n    <div data-tier=\"4\" class=\"ad-recipe-page-footer\" id=\"div-gpt-leaderboard-fixed-3\"></div>\\n    <span class=\"advertisement\">ADVERTISEMENT</span>\\n</div>\\n<section item-selector=\"article\" preserve-order=\"\" class=\"grid grid-fixed\" masonry=\"\">\\n    <article class=\" grid-col grid-col--tiles\">\\n\\n        <ul class=\"social-sharing__icons\">\\n\\n            <li><a class=\"ui-link\" target=\"_blank\" title=\"Facebook\" href=\"https://www.facebook.com/allrecipes\" id=\"footer_facebook\"><img alt=\"Facebook\" src=\"http://images.allrecipes.com/ar-images/spacer.gif\" title=\"Facebook\" /></a></li>\\n            <li><a class=\"ui-link\" target=\"_blank\" title=\"Pinterest\" href=\"http://pinterest.com/allrecipes/\" id=\"footer_pinterest\"><img alt=\"Pinterest\" src=\"http://images.allrecipes.com/ar-images/spacer.gif\" title=\"Pinterest\" /></a></li>\\n            <li><a class=\"ui-link\" target=\"_blank\" title=\"Twitter\" href=\"https://twitter.com/Allrecipes\" id=\"footer_twitter\"><img alt=\"Twitter\" src=\"http://images.allrecipes.com/ar-images/spacer.gif\" title=\"Twitter\" id=\"ctl00_Image3\" /></a></li>\\n            <li><a class=\"ui-link\" target=\"_blank\" title=\"Instagram\" href=\"http://instagram.com/allrecipes\" id=\"footer_instagram\"><img alt=\"Instagram\" src=\"http://images.allrecipes.com/ar-images/spacer.gif\" title=\"Instagram\" /></a></li>\\n            <li><a class=\"ui-link\" target=\"_blank\" title=\"Tumblr\" href=\"http://allrecipes.tumblr.com/\" id=\"footer_tumblr\"><img alt=\"Tumblr\" src=\"http://images.allrecipes.com/ar-images/spacer.gif\" title=\"Tumblr\" /></a></li>\\n            <li><a class=\"ui-link\" target=\"_blank\" title=\"Google Plus\" href=\"https://plus.google.com/+allrecipes/\" id=\"footer_googleplus\"><img alt=\"Google Plus\" src=\"http://images.allrecipes.com/ar-images/spacer.gif\" title=\"Google Plus\" /></a></li>\\n            <li><a class=\"ui-link\" target=\"_blank\" title=\"StumbleUpon\" href=\"http://www.stumbleupon.com/stumbler/Allrecipes\" id=\"footer_stumbleupon\"><img alt=\"StumbleUpon\" src=\"http://images.allrecipes.com/ar-images/spacer.gif\" title=\"StumbleUpon\" /></a></li>\\n            <li><a class=\"ui-link\" target=\"_blank\" title=\"YouTube\" href=\"https://www.youtube.com/user/allrecipes\" id=\"footer_youtube\"><img alt=\"YouTube\" src=\"http://images.allrecipes.com/ar-images/spacer.gif\" title=\"YouTube\" /></a></li>\\n\\n    \\n        </ul>\\n    </article>\\n    <article class=\"grid-col grid-col--tiles\">\\n        <ul>\\n            <li>About Us</li>\\n            <li><a href=\"http://press.allrecipes.com/\" id=\"footer_newsroom\" target=\"_self\">Newsroom</a></li>\\n            <li><a href=\"http://dish.allrecipes.com/allrecipes-jobs/\" id=\"footer_jobs\" target=\"_self\">Jobs at Allrecipes</a></li>\\n        </ul>\\n    </article>\\n    <article class=\"grid-col grid-col--tiles footer_advertising\">\\n        <ul>\\n            <li>Advertising</li>\\n            <li><a href=\"http://www.meredith.com/national-media/digital\" class=\"\" id=\"footer_advertisewithus\" target=\"_self\">Advertise with Us</a></li>\\n            <li><a href=\"http://www.meredith.com/marketing_solutions/interactive_media.html\" class=\"\" id=\"footer_womensnetwork\" target=\"_self\">Meredith Women\\'s Network</a></li>\\n        </ul>\\n    </article> \\n    <article class=\"grid-col grid-col--tiles\">\\n        <ul>\\n            <li>Support</li>\\n            <li><a href=\"http://dish.allrecipes.com/faq-sitemap/\" id=\"footer_sitemap\" target=\"_self\">Site Map</a></li>\\n            <li><a href=\"http://dish.allrecipes.com/customer-service/contact-us-2/\" id=\"footer_contactus\" target=\"_self\">Contact Us</a></li>\\n            <li><a href=\"http://dish.allrecipes.com/customer-service/\" id=\"footer_customersupport\" target=\"_self\">Customer Support</a></li>           \\n        </ul>   \\n    </article>\\n\\n    <article data-siteurl=\"allrecipes.com\" ng-controller=\"ar_controllers_footerLinks\" class=\"grid-col grid-col--tiles ng-scope\">\\n        <ul>\\n            <li>Global Community</li>\\n            <li>\\n                <select ng-model=\"selectedItem\" ng-change=\"changeSite()\" ng-options=\"site.name for site in arSites\" id=\"country-selector\" class=\"ng-pristine ng-untouched ng-valid\"><option value=\"\" style=\"display:none\" class=\"\">Select location</option><option value=\"0\" label=\"Argentina\">Argentina</option><option value=\"1\" label=\"Australia &amp; New Zealand\">Australia &amp; New Zealand</option><option value=\"2\" label=\"Brazil\">Brazil</option><option value=\"3\" label=\"Canada\">Canada</option><option value=\"4\" label=\"China\">China</option><option value=\"5\" label=\"France\">France</option><option value=\"6\" label=\"Germany\">Germany</option><option value=\"7\" label=\"India\">India</option><option value=\"8\" label=\"Italy\">Italy</option><option value=\"9\" label=\"Korea\">Korea</option><option value=\"10\" label=\"Mexico\">Mexico</option><option value=\"11\" label=\"Netherlands\">Netherlands</option><option value=\"12\" label=\"Poland\">Poland</option><option value=\"13\" label=\"Quebec\">Quebec</option><option value=\"14\" label=\"Russia\">Russia</option><option value=\"15\" label=\"SE Asia\">SE Asia</option><option value=\"16\" label=\"United Kingdom &amp; Ireland\">United Kingdom &amp; Ireland</option><option value=\"17\" label=\"United States\">United States</option></select>\\n            </li>\\n            <li>\\xa9 2017 Allrecipes.com <br />All Rights Reserved </li>\\n            <li><a target=\"_blank\" href=\"http://www.meredith.com/legal/privacy\" id=\"footer_privacypolicy\">Privacy Policy Your California Rights</a></li>\\n            <li><a target=\"_blank\" href=\"http://www.meredith.com/legal/terms\" id=\"footer_terms\">Terms of Service</a></li>\\n            <li><a target=\"_blank\" href=\"http://www.meredith.com/datapolicy.html\" id=\"footer_datapolicy\">Data Policy</a></li>\\n            <li>\\n                <!--  Ghostery Inc tag  cid: 1333  pid: 282-->\\n                <a target=\"_blank\" href=\"#\" id=\"_bapw-link\"><span style=\"vertical-align:middle !important;padding-right:5px\" id=\"footer_adchoices\">AdChoices</span><img height=\"11\" style=\"border:0 !important;display:inline !important;vertical-align:middle !important;padding-right:5px !important;\" id=\"_bapw-icon\" src=\"http://cdn.betrad.com/pub/icon1.png\" /></a>\\n                <a ng-show=\"yTrigger == true\" data-show-on-scroll=\"700\" data-scroll-to-anchor=\"top\" class=\"btns-one-small ng-hide\" id=\"footer_top_button\">Top</a>\\n             </li>            \\n            <script>(function () { var g = 282, i = 1333, a = false, h = document, j = h.getElementById(\"_bapw-link\"), e = (h.location.protocol == \"https:\"), f = (e ? \"https\" : \"http\") + \"://\", c = f + (e ? \"a248.e.akamai.net/betterad.download.akamai.com/91609\" : \"cdn.betrad.com\") + \"/pub/\"; function b(k) { var d = new Image(); d.src = f + \"l.betrad.com/pub/p.gif?pid=\" + g + \"&amp;ocid=\" + i + \"&amp;i\" + k + \"=1&amp;r=\" + Math.random() } h.getElementById(\"_bapw-icon\").src = c + \"icon1.png\"; j.onmouseover = function () { if (/#$/.test(j.href)) { j.href = \"http://info.evidon.com/pub_info/\" + g + \"?v=1\" } }; j.onclick = function () { var k = window._bap_p_overrides; function d(n, q) { var o = h.getElementsByTagName(\"head\")[0] || h.documentElement, m = a, l = h.createElement(\"script\"); function p() { l.onload = l.onreadystatechange = null; o.removeChild(l); q() } l.src = n; l.onreadystatechange = function () { if (!m &amp;&amp; (this.readyState == \"loaded\" || this.readyState == \"complete\")) { m = true; p() } }; l.onload = p; o.insertBefore(l, o.firstChild) } if (k &amp;&amp; k.hasOwnProperty(g)) { if (k[g].new_window) { b(\"c\"); return true } } this.onclick = \"return \" + a; d(f + \"ajax.googleapis.com/ajax/libs/jquery/1.6.4/jquery.min.js\", function () { d(c + \"pub2.js\", function () { BAPW.i(j, { pid: g, ocid: i }) }) }); return a }; b(\"i\") }()); var _bap_p_overrides = _bap_p_overrides || {}; _bap_p_overrides[282] = { new_window: true };</script>\\n         </ul>\\n    </article>\\n    <article class=\"grid-col grid-col--tiles\">      \\n        <ul>\\n            <li>More Allrecipes</li>\\n\\n            <li><a href=\"http://armagazine.com/mobile-footer\" id=\"footer_magazine\" target=\"_self\">Allrecipes Magazine <span><span>\\u2013</span> Subscribe</span></a></li>\\n            <li><a href=\"http://dish.allrecipes.com/mobile-apps\" id=\"footer_apps\" target=\"_self\">Allrecipes Apps</a></li>\\n            <li><a href=\"http://youtube.com/foodwishes\" id=\"footer_foodwishes\" target=\"_self\">Food Wishes Videos</a></li>\\n            <li><a href=\"http://freshbitesblog.com/\" id=\"footer_freshbites\" target=\"_self\">Fresh Bites Blog</a></li>\\n            <li><a href=\"http://dish.allrecipes.com/technical-support/rss-feeds/\" id=\"footer_rss\" target=\"_self\">RSS Feeds</a></li>\\n        </ul>       \\n    </article> \\n</section>  \\n\\n\\n\\n\\n        <div data-ng-init=\"wireupAdIntegrationListeners();executePostLoginEvents();\" data-ng-controller=\"ar_controllers_deferredAction\" class=\"ng-scope\">\\n            <div class=\"notification hidden\" id=\"msg-toolbar\"><span class=\"notification__message\"></span></div>\\n            <div data-loading-indicator=\"\"><div class=\"loading-indicator--position\" data-loading-indicator-template=\"\" style=\"display: none;\"> <div class=\"loading-indicator\"> <div class=\"bowl\"> <div class=\"spoon\"></div> <div class=\"bowl-content\"></div> </div> </div> </div></div>\\n        </div>\\n    </footer>\\n</div>\\n</div>\\n\\n\\n    <div class=\"ad-footer--fixed\" id=\"ad-footer\">\\n        <div data-tier=\"1\" id=\"div-gpt-mob-adhesive-banner-fixed\" data-google-query-id=\"CJ-plsSe89ICFdN-YgodSrkGCg\"><div id=\"google_ads_iframe_3865/ar.mdp.mob/tier1/recipe/cookie_1__container__\" style=\"border: 0pt none;\"><iframe width=\"320\" height=\"50\" frameborder=\"0\" id=\"google_ads_iframe_3865/ar.mdp.mob/tier1/recipe/cookie_1\" title=\"3rd party ad content\" name=\"google_ads_iframe_3865/ar.mdp.mob/tier1/recipe/cookie_1\" scrolling=\"no\" marginwidth=\"0\" marginheight=\"0\" style=\"border: 0px none; vertical-align: bottom;\" srcdoc=\"\"></iframe></div></div>\\n    </div>\\n    \\n    \\n\\n\\n\\n<script type=\"text/javascript\">\\n            window.Toggles={\"AdTest\":false,\"ProPages\":true,\"Activity\":true,\"SocialNotification\":true,\"AngularLocalOffers\":true,\"DishBlog\":true,\"LinkDictionariesRewriteEngine\":true,\"OldMasonry\":false,\"LocalOffersSuppressSponsored\":false,\"GroceryServerCard\":true,\"AssetServiceSearch\":true,\"RecipePreferences\":true,\"PhotoModal\":true,\"AzureRelatedcontentRecipes\":true,\"RdpRightRailRecommendations\":true,\"RecipePagePerf\":false,\"StreamsTest\":true,\"TastePrefOverlays\":true};\\n    window.dataLayer={\"version\":\"1.0\",\"pageInstanceId\":\"allrecipes.com/recipe/10141/outrageous-chocolate-chip-cookies/\",\"externalLinkId\":\"\",\"page\":{\"pageInfo\":{\"pageId\":\"10141\",\"pageName\":\"/recipe/10141/outrageous-chocolate-chip-cookies/\",\"destinationUrl\":\"http://allrecipes.com/recipe/10141/outrageous-chocolate-chip-cookies/\",\"sysEnv\":\"RD0003FF962631\",\"variant\":\"Control\",\"version\":\"20151118\",\"issueDate\":\"03/26/2017 03:34:39\",\"effectiveDate\":\"03/26/2017 03:34:39\",\"domain\":\"allrecipes.com\",\"parameters\":{}},\"category\":{\"primaryCategory\":\"recipes\",\"contentType\":\"recipe\",\"subContentType\":\"\",\"adZone\":\"\",\"adKeys\":\"status=visitor;oid=2C6B95FF851D0320-6000190E2000AB1A;fit=0;r=10141;id=10141;k=[13,39,55,56,65,83,91,94,97,112,168,181,201,228,239,268,622,655,665]\",\"contentSource\":\"1\"},\"attributes\":{\"contentId\":\"10141\",\"title\":\"Outrageous Chocolate Chip Cookies\",\"country\":\"USA\"}},\"event\":[],\"user\":[{\"analyticsId\":\"v1|2C6B95FF851D0320-6000190E2000AB1A\",\"segment\":{\"adStatus\":\"visitor\",\"visitorType\":\"anonymous\",\"loginStatus\":\"no\"},\"profile\":[{\"profileInfo\":{\"profileId\":\"0\",\"loginType\":\"None\"}}],\"magFollower\":false}],\"newsletter\":{\"mailingId\":\"\",\"mailingName\":\"\",\"mailingDate\":\"\",\"mailingLinkGroup\":\"\",\"mailingLinkName\":\"\"}};    var enviromentOmnitureId = \\'rdirdallrecipes\\';\\n    var pubsub = new Pubsub();\\n\\n    try {\\n        var thirtyMinutesInMilliseconds = 1800000;\\n        window.localStorage.setItem(\"CurrentUserStateModel\", \\'\\'); //primarily used by private profile SPA, but pertains to current user in general\\n        window.localStorage.setItem(\"PublicProfileStateModel\", \\'\\'); //used by public profile SPA\\n        window.localStorage.setItem(\"CurrentUserStateModelExpirationDate\", Date.now() + thirtyMinutesInMilliseconds); //primarily used by private profile SPA, but pertains to current user in general\\n        window.localStorage.setItem(\"PublicProfileStateModelExpirationDate\", Date.now() + thirtyMinutesInMilliseconds); //used by public profile SPA\\n    } catch(err)  {\\n        var CurrentUserStateCookie =\\'\\';\\n        var PublicProfileStateCookie = \\'\\';\\n        document.cookie = \"CurrentUserStateModel=\" + CurrentUserStateCookie;\\n        document.cookie = \"PublicProfileStateModel=\" + PublicProfileStateCookie;\\n    }\\n\\n</script>\\n<script src=\"http://js01.media-allrecipes.com/assets/deployables/v-1.65.0.3982/analytics.bundled.js\"></script>\\n<script src=\"http://js01.media-allrecipes.com/assets/deployables/v-1.65.0.3982/main-bottom.bundled.js\"></script><script src=\"https://karma.mdpcdn.com/service/js-min/karma.footer.js\"></script>\\n<script src=\"http://css01.media-allrecipes.com/assets/deployables/v-1.65.0.3982/main-bottom-templates.bundled.js\"></script>\\n\\n<script>angular.module(\\'allrecipes\\').constant(\\'Constant\\', { \\'version\\': \\'1.65.0.3982\\' });</script>\\n\\n\\n<script>\\n    AR.FacebookPixel.init();\\n</script>\\n\\n    <script src=\"http://js01.media-allrecipes.com/assets/deployables/v-1.65.0.3982/recipe.bundled.js\"></script>\\n    <script src=\"http://css01.media-allrecipes.com/assets/deployables/v-1.65.0.3982/recipe-templates.bundled.js\"></script>\\n\\n    <script>\\n        angular.module(\"allrecipes\").value(\"userReview\", userReview);\\n\\n        angular.module(\"allrecipes\").value(\"reviewsInitialSet\", reviewsInitialSet);\\n\\n        var facebookShareInitScope = {\"recipeId\":10141,\"recipeTitle\":\"Outrageous Chocolate Chip Cookies Recipe\",\"recipeUrl\":\"http://allrecipes.com/recipe/10141/outrageous-chocolate-chip-cookies/\",\"recipePhotoUrl\":\"http://images.media-allrecipes.com/userphotos/560x315/3518442.jpg\",\"recipeDescription\":\"A great combination of chocolate chips, oatmeal, and peanut butter.\"};\\n\\n        var RdpInferredTastePrefs = [];\\n    </script>\\n\\n\\n\\n\\n    <script>!function(a,b,c){if(!a.getElementById(c)){var d=a.createElement(b),e=a.getElementsByTagName(b)[0];d.defer=!0,d.async=!0,d.type=\"text/javascript\",d.id=c,d.src=\"//cdn.partners.allrecipes.com/telemetryapi/1/telemetry.js\",e.parentNode.insertBefore(d,e)}}(document,\"script\",\"scoby-telemetry\");</script>\\n\\n<script>\\n\\n    $(document).ready(function () {\\n        pubsub.broadcast(\"GoogleAnalytics\");\\n    });\\n\\n    if (typeof (window.dataLayer) !== \"undefined\" &amp;&amp; dataLayer) {\\n        var clientAnalytics = new ClientAnalytics(window.dataLayer);\\n        var comscoreShim = new ComscoreShim(window.dataLayer, pubsub);\\n        var omniShim = new OmnitureShim(window.dataLayer, s, pubsub);\\n        var kruxShim = new KruxShim(window.dataLayer, pubsub);\\n        var gaShim = new GoogleAnalyticsShim(window.dataLayer, ga, pubsub);\\n    }\\n\\n\\n</script>\\n\\n<!-- Google Tag Manager -->\\n<noscript>&lt;iframe src=\"//www.googletagmanager.com/ns.html?id=GTM-MW2LG9\" height=\"0\" width=\"0\" style=\"display:none;visibility:hidden\"&gt;&lt;/iframe&gt;</noscript>\\n<script>(function(w,d,s,l,i){w[l]=w[l]||[];w[l].push({\\'gtm.start\\':new Date().getTime(),event:\\'gtm.js\\'});var f=d.getElementsByTagName(s)[0],j=d.createElement(s),dl=l!=\\'dataLayer\\'?\\'&amp;l=\\'+l:\\'\\';j.async=true;j.src=\\'//www.googletagmanager.com/gtm.js?id=\\'+i+dl;f.parentNode.insertBefore(j,f);})(window,document,\\'script\\',\\'placeholderDL\\',\\'GTM-MW2LG9\\');</script>\\n<!-- End Google Tag Manager -->\\n\\n<script type=\"text/javascript\">_satellite.pageBottom(); // Initialize Adobe DTM</script>\\n    <link rel=\"stylesheet\" href=\"http://images.media-allrecipes.com/ar/foresee/v0.7/foresee-dhtml.css\" />\\n\\n<script type=\"extole/context\">{\"params\": {\"e\": \"\",\"tag:cook_id\": \"0\"}}</script>\\n\\n\\n<script type=\"text/javascript\" id=\"\">console.log(google_tag_manager[\"GTM-MW2LG9\"].macro(\\'gtm1\\'));</script><div style=\"display:none !important;\" data-id=\"H1gAR3V7\" class=\"kxhead\"><span data-id=\"18851\" class=\"kxtag kxinvisible\"><script type=\"text/javascript\">Krux(\\'social.init\\');</script></span><span data-id=\"18180\" class=\"kxtag kxinvisible\"><script>\\r\\n(function() {\\r\\n  if (window.dataLayer &amp;&amp; window.dataLayer.page &amp;&amp; window.dataLayer.page.category &amp;&amp; window.dataLayer.page.category.adKeys) {\\r\\n    var ad_key = window.dataLayer.page.category.adKeys;\\r\\n    var ad_key_values;\\r\\n    \\r\\n    if (ad_key !=null &amp;&amp; ad_key != \"\")  {\\r\\n    \\r\\n    ad_key = ad_key.split(\";\");\\r\\n\\r\\n    for (i = 0; i &lt; ad_key.length; i++) {\\r\\n       if (ad_key[i].substring(0,2) == \"k=\") {\\r\\n\\r\\n    ad_key_values = ad_key[i].replace(\"[\", \"\");   \\r\\n    ad_key_values = ad_key_values.replace(\"]\", \"\"); \\r\\n    ad_key_values = ad_key_values.replace(/,/g, \";k=\");    \\r\\n    \\r\\n    Krux(\\'set\\', {\\'page_attr_adkeyvalues\\': ad_key_values });\\r\\n       }\\r\\n    }\\r\\n  }\\r\\n}})();\\r\\n</script></span><span data-id=\"18185\" class=\"kxtag kxinvisible\"><script>\\nif (window.dataLayer) {\\n\\n   var ga_pagename = \"\";\\n   var ga_channel = \"\";\\n   var ga_category = \"\";\\n   var ga_subcategory = \"\";\\n   var ga_memberlogin = \"\";\\n   var ga_searchterm = \"\";\\n   var ga_sponsorname = \"\";\\n   var ga_newslettersource = \"\";\\n   var ga_contenttype = \"\";\\n   var ga_slideshows_quizzes = \"\";\\n   var ga_application = \"\";\\n\\nfor (var i = dataLayer.length - 1; i &gt; -1; i--) {\\n\\n   if (\\'Page Name\\' in dataLayer[i]) {\\n      ga_pagename = dataLayer[i][\"Page Name\"];     \\n      Krux(\\'set\\', {\\'page_attr_ga_pagename\\': ga_pagename });\\n      }\\n      \\n   if (\\'Channel\\' in dataLayer[i]) {\\n      ga_channel = dataLayer[i][\"Channel\"];\\n      Krux(\\'set\\', {\\'page_attr_ga_channel\\': ga_channel });\\n      }\\n      \\n   if (\\'Category\\' in dataLayer[i]) {\\n      ga_category = dataLayer[i][\"Category\"]; \\n      Krux(\\'set\\', {\\'page_attr_ga_category\\': ga_category });\\n      }\\n      \\n    if (\\'Subcategory\\' in dataLayer[i]) {\\n      ga_subcategory = dataLayer[i][\"Subcategory\"];\\n      Krux(\\'set\\', {\\'page_attr_ga_subcategory\\': ga_subcategory });\\n      }\\n      \\n    if (\\'Member Logged In\\' in dataLayer[i]) {\\n      ga_memberlogin = dataLayer[i][\"Member Logged In\"];\\n      Krux(\\'set\\', {\\'page_attr_ga_memberlogin\\': ga_memberlogin });\\n      }\\n      \\n    if (\\'Search Term\\' in dataLayer[i]) {\\n      ga_searchterm = dataLayer[i][\"Search Term\"];\\n      Krux(\\'set\\', {\\'page_attr_ga_searchterm\\': ga_searchterm });\\n      }\\n      \\n    if (\\'Sponsor Name\\' in dataLayer[i]) {\\n      ga_sponsorname = dataLayer[i][\"Sponsor Name\"];\\n      Krux(\\'set\\', {\\'page_attr_ga_sponsorname\\': ga_sponsorname });\\n      }\\n      \\n    if (\\'Newsletter Signup Source\\' in dataLayer[i]) {\\n      ga_newslettersource = dataLayer[i][\"Newsletter Signup Source\"];\\n      Krux(\\'set\\', {\\'page_attr_ga_newslettersource\\': ga_newslettersource });\\n      }\\n      \\n    if (\\'Content Type\\' in dataLayer[i]) {\\n      ga_contenttype = dataLayer[i][\"Content Type\"];\\n      Krux(\\'set\\', {\\'page_attr_ga_contenttype\\': ga_contenttype });\\n      }\\n\\n    if (\\'Slideshows and Quizzes\\' in dataLayer[i]) {\\n      ga_slideshows_quizzes = dataLayer[i][\"Slideshows and Quizzes\"];\\n      Krux(\\'set\\', {\\'page_attr_ga_slideshows_quizzes\\': ga_slideshows_quizzes });\\n      }\\n\\n    if (\\'Application\\' in dataLayer[i]) {\\n      ga_application = dataLayer[i][\"Application\"];\\n      Krux(\\'set\\', {\\'page_attr_ga_application\\': ga_application });\\n      }   \\n   }\\n}\\n</script></span><span data-id=\"18120\" class=\"kxtag kxinvisible\"><script>\\r\\n(function(){\\r\\n    if(window.s){\\r\\n        if(window.s.eVar13){\\r\\n            Krux(\\'set\\', \\'page_attr_eVar13\\', window.s.eVar13);        \\r\\n        }\\r\\n        if(window.s.eVar14){\\r\\n            Krux(\\'set\\', \\'page_attr_eVar14\\', window.s.eVar14);\\r\\n        }\\r\\n        if(window.s.eVar29){\\r\\n            Krux(\\'set\\', \\'page_attr_eVar29\\', window.s.eVar29);\\r\\n        }\\r\\n        if(window.s.channel){\\r\\n            Krux(\\'set\\', \\'page_attr_channel\\', window.s.channel);\\r\\n        }\\r\\n        if(window.s.prop1){\\r\\n            Krux(\\'set\\', \\'page_attr_prop1\\', window.s.prop1);\\r\\n        }\\r\\n    }\\r\\n})();\\r\\nKrux(\\'set\\', \\'page_attr_omniture_prop8\\', typeof window.s ==\\'object\\' &amp;&amp; window.s[\\'prop8\\']);\\r\\n</script></span><span data-id=\"18124\" class=\"kxtag kxinvisible\"><script>\\r\\n// Using Omniture eVar32 to produce page attribute omniture_evar29\\r\\nKrux(\\'set\\', \\'user_attr_omniture_evar32\\', typeof window.s ==\\'object\\' &amp;&amp; window.s[\\'eVar32\\']);\\r\\n// Using UrlPath 1 to produce page attribute Level1\\r\\nKrux(\\'scrape\\', { \"page_attr_Level1\": {url_path: \"1\"}});\\r\\n// Using UrlPath 2 to produce page attribute Level2\\r\\nKrux(\\'scrape\\', { \"page_attr_Level2\": {url_path: \"2\"}});\\r\\n// Using Cookie DYN_USER_ID to produce user attribute cookie_dyn_user_id\\r\\nKrux(\\'scrape\\', { \"user_attr_cookie_dyn_user_id\": {cookie: \"DYN_USER_ID\"}});\\r\\n// Using Cookie hid to produce user attribute cookie_hid\\r\\nKrux(\\'scrape\\', { \"user_attr_cookie_hid\": {cookie: \"hid\"}});\\r\\n</script></span><span data-id=\"18135\" class=\"kxtag kxinvisible\"><script>\\r\\n(function() {\\r\\n  if (window.AR) {\\r\\n      var site = AR.Ads.Site;\\r\\n      var zone = AR.Ads.Zone;\\r\\n      var visitorstatus = AR.Ads.VisitorStatus;\\r\\n      var keyvalues = AR.Ads.KeyValues;\\r\\n      var arFriendlyName = AR.FriendlyName;\\r\\n     \\r\\n      if (site) Krux(\\'set\\', {\\'page_attr_site\\': site });\\r\\n      if (zone) Krux(\\'set\\', {\\'page_attr_zone\\': zone });\\r\\n      if (visitorstatus) Krux(\\'set\\', {\\'user_attr_visitorstatus\\': visitorstatus });\\r\\n      if (keyvalues) Krux(\\'set\\', {\\'page_attr_keyvalues\\': keyvalues });\\r\\n      if (arFriendlyName) Krux(\\'set\\', {\\'page_attr_ar_friendly_name\\': arFriendlyName });\\r\\n  }\\r\\n  if (window.s) {\\r\\n      var evar11 = s.eVar11;\\r\\n      if (evar11 !=null &amp;&amp; evar11 != \"\") Krux(\\'set\\', {\\'page_attr_evar11\\': evar11 });\\r\\n  }\\r\\n})();\\r\\n</script></span><span data-id=\"18209\" class=\"kxtag kxinvisible\"><script>\\n(function() {\\n\\tvar currentDateTime = (window.Krux &amp;&amp; Krux(\\'get\\', \\'now\\'))  || new Date();\\n\\tvar DAYSOFWEEK = [\\'Sunday\\',\\'Monday\\',\\'Tuesday\\',\\'Wednesday\\',\\'Thursday\\',\\'Friday\\',\\'Saturday\\'];\\n\\tvar currentDateOfMonth = currentDateTime.getDate();\\n\\tvar currentDay =  DAYSOFWEEK[currentDateTime.getDay()];\\n        var currentTimePeriod;\\n\\n\\tif (currentDateTime.getHours() &lt; 12) {\\n\\t\\tcurrentTimePeriod = \"Morning\";\\n\\t} else if (currentDateTime.getHours() &gt;= 12 &amp;&amp; currentDateTime.getHours() &lt;= 17) {\\n\\t\\tcurrentTimePeriod = \"Afternoon\";\\n\\t} else if (currentDateTime.getHours() &gt; 17 &amp;&amp; currentDateTime.getHours() &lt;= 20) {\\n\\t\\tcurrentTimePeriod = \"Evening\";\\n\\t} else if(currentDateTime.getHours() &gt; 20 &amp;&amp; currentDateTime.getHours() &lt;= 24) {\\n\\t\\tcurrentTimePeriod = \"Night\";\\n\\t}\\n\\n\\n\\tif(currentDateOfMonth) {Krux(\\'set\\',\\'user_attr_visitor_date_of_month\\', currentDateOfMonth);}\\n\\tif(currentDay) {Krux(\\'set\\', \\'user_attr_visitor_day_of_week\\', currentDay);}\\n\\tif(currentTimePeriod) {Krux(\\'set\\', \\'user_attr_visitor_time_of_day\\', currentTimePeriod);}\\n\\t\\n}());\\n</script></span><span data-id=\"20530\" class=\"kxtag kxinvisible\"><script src=\"http://cdn.selectablemedia.com/tg/p/ioRpChND/js/sm_uber.js\"></script></span><span data-id=\"18269\" class=\"kxtag kxinvisible\"><script>\\r\\n(function() { \\r\\n\\r\\n  var pageViews = Krux(\\'require:store\\').get(\\'kxtag67244.day\\');\\r\\n  \\r\\n  if (pageViews == \"1\") {\\r\\n     var prefix = location.protocol == \"https:\" ? \"https:\" : \"http:\";\\r\\n     var kurl = prefix + \"//beacon.krxd.net/event.gif?event_id=KB6pFLRs&amp;event_type=cact\";\\r\\n     var i = new Image();\\r\\n     i.src = kurl;\\r\\n  }\\r\\n\\r\\n})();\\r\\n</script></span><span data-id=\"26796\" class=\"kxtag kxinvisible\"><script>\\n(function(){\\n    var dataObj = Krux(\\'scrape.js_global\\', \\'dataLayer\\'),\\n        userKeys = \\'user\\',\\n        omitKeys = \\'undefined\\',\\n        custDelimit = \\'false\\',\\n        prefix = \\'undefined_\\',\\n        config = {\\n            \\'userKeys\\': userKeys ? userKeys.split(\\',\\') : undefined,\\n            \\'omitKeys\\': omitKeys ? omitKeys.split(\\',\\') : [],\\n            \\'customDelimited\\': custDelimit ? custDelimit.split(\\',\\') : undefined,\\n            \\'caseSensitive\\': \\'false\\' === \\'true\\',\\n            \\'useFullPath\\': \\'false\\' === \\'true\\',\\n            \\'useLastValue\\': \\'false\\' === \\'true\\',\\n            \\'convertAttrNames\\': []\\n        };\\n    if (!prefix.match(/^$|null|undefined|false/)) {\\n        config.convertAttrNames.push({\\n            pattern: /((?:page|user)_attr_)/,\\n            replacement: \\'$1\\' + prefix\\n        });\\n    }\\n    config.omitKeys.push(/gtm\\\\./);\\n    Krux(\\'ingestDataLayer\\', dataObj, config);\\n  \\n Krux(\\'scrape\\', {user_attr_omniture_id: { javascript: \\'  window.adService.pageTargetingValues.oid\\'}} );\\n\\n  \\n  \\n})();\\n</script></span></div><iframe id=\"google_osd_static_frame_4569874631450\" name=\"google_osd_static_frame\" style=\"display: none; width: 0px; height: 0px;\"></iframe><p style=\"display: none;\" data-src=\"http://ib.3lift.com/rev/42d368a5121731c9213ad9d31ac8ff8ccdeea816/base.js\"></p><script src=\"//ib.3lift.com/rev/42d368a5121731c9213ad9d31ac8ff8ccdeea816/base.js\"></script><iframe width=\"0\" height=\"0\" style=\"display: none;\"></iframe><iframe width=\"0\" height=\"0\" style=\"display: none;\" src=\"//ib.3lift.com/userSync.html#nusp=29&amp;eb=eb2.3lift.com&amp;imp_id=1490499294_598370607_8522&amp;dom=.3lift.com\"></iframe></body><iframe style=\"display: none; visibility: hidden; height: 0; width: 0;\" src=\"http://cdn.krxd.net/partnerjs/xdi/proxy.3d2100fd7107262ecb55ce6847f01fa5.html#%21kxcid=H1gAR3V7&amp;kxt=http%3A%2F%2Fallrecipes.com&amp;kxcl=cdn&amp;kxp=\" id=\"kx-proxy-H1gAR3V7\"></iframe></html>',\n",
       " u'rating_list': [u'4.69067239761353', u'5', u'4.69', u'1802'],\n",
       " u'recipe_ID': u'10141',\n",
       " u'recipe_times': [u'PT15M', u'PT10M', u'PT25M'],\n",
       " u'servings': [u'18 servings'],\n",
       " u'servings_config': [u'Added to shopping list.\\nGo to shopping list.\\n\\nIngredients\\n\\n\\n25 m\\n\\n\\n\\n\\n18 servings\\n\\n\\n\\n207  cals\\n\\n\\n\\n\\nfor serving adjustment\\nServing size has been adjusted!\\nOriginal recipe yields 18 servings\\n\\n\\n\\nAdjust\\n\\n\\n\\n\\n\\nUS\\n\\n\\n\\n\\n\\nMetric\\n\\n\\nNote:  Recipe directions are for original size.\\n\\n\\n\\nNutrition\\nAmount per serving (18 total)\\n\\nCalories:\\n207 kcal\\n\\n\\n\\n\\n\\n10%\\n\\n\\nFat: \\n12 g\\n\\n\\n\\n\\n\\n18%\\n\\n\\nCarbs: \\n23.7g\\n\\n\\n\\n\\n\\n8%\\n\\n\\nProtein: \\n3.6 g\\n\\n\\n\\n\\n\\n7%\\n\\n\\nCholesterol: \\n24 mg\\n\\n\\n\\n\\n\\n8%\\n\\n\\nSodium: \\n178 mg\\n\\n\\n\\n\\n\\n7%\\n\\nBased on a 2,000 calorie diet\\nSee full nutrition\\n\\n\\n\\n\\nNutritional Information\\nOutrageous Chocolate Chip Cookies\\n\\n                    1 Serving \\n                    Servings Per Recipe: 18\\nAmount Per Serving\\n **  :    % \\n **  :    % \\n\\n\\n% Daily Value *\\n\\n\\n\\n **  :    % \\n\\n\\n **  :    % \\n\\n\\n **  :    % \\n\\n\\n **  :    % \\n\\n\\n **  :    % \\n\\n\\n **  :    % \\n\\n\\n **  :    % \\n\\n\\n **  :    % \\n\\n\\n **  :    % \\n\\n\\n **  :    % \\n\\n\\n **  :    % \\n\\n\\n **  :    % \\n\\n\\n **  :    % \\n\\n\\n **  :    % \\n\\n\\n **  :    % \\n\\n\\n **  :    % \\n\\n\\n **  :    % \\n\\n\\n **  :    % \\n\\n\\n\\n\\n*\\nPercent Daily Values are based on a 2,000 calorie diet. Your daily values may be higher or lower depending on your calorie needs.\\n\\n\\n**\\nNutrient information is not available for all ingredients. Amount is based on available nutrient data.\\n\\n\\n(-)\\nInformation is not currently available for this nutrient. If you are following a medically restrictive diet, please consult your doctor or registered dietitian before preparing this recipe for personal consumption.\\n\\n\\n\\nHide full nutrition\\n\\n\\n\\n\\n\\n\\n\\n\\n\\n\\nOn SaleWhat\\'s on sale near you.\\n\\n\\n\\n\\n\\n\\n\\n\\n\\n\\n\\n\\n\\n\\n\\n\\n    &lt;![CDATA[\\n        &lt;div class=\"retailer carousel-item\"&gt;\\n            &lt;div class=\"logo\"&gt;\\n                &lt;img src=\"&lt;%= this.imageUrl %&gt;\"/&gt;\\n            &lt;/div&gt;\\n            &lt;ul class=\"info\"&gt;\\n                &lt;li&gt;&lt;%= this.name %&gt;&lt;/li&gt;\\n                &lt;li&gt;&lt;%= this.address %&gt;&lt;/li&gt;\\n                &lt;li&gt;&lt;%= this.city %&gt;, &lt;%= this.state %&gt; &lt;%= this.zip %&gt;&lt;/li&gt;\\n                &lt;li class=\"advertisement\"&gt;&lt;%= this.sponsoredFlag == true ? \"Sponsored\" : \"\" %&gt; &lt;/li&gt;\\n            &lt;/ul&gt;\\n        &lt;/div&gt;\\n    ]]&gt;\\n\\n\\n\\n\\n Find Me\\nor\\n\\n\\nOK\\n\\nSort stores by\\nClosest to me\\nMost deals\\n\\n\\n\\n\\n\\n\\n\\n\\n\\n     Target 1401 2nd Avenue SEATTLE, WA 98101 Sponsored        Walgreens 222 Pike St SEATTLE, WA 98101         Cash & Carry 1760 4th Ave S SEATTLE, WA 98134         Safeway 1410 E John St SEATTLE, WA 98112         Albertsons 2550 32nd Ave W SEATTLE, WA 98199         Fred Meyer 915 NW 45th St SEATTLE, WA 98107         Haggen Food & Pharmacy 12725 1st Ave S BURIEN, WA 98168         Central Market Shoreline 15505 Westminster Way N SHORELINE, WA 98133    \\n\\n\\n\\n\\n\\nThese nearby stores have ingredients on sale!\\n\\n\\n\\n\\n\\n\\nFind the closest stores\\n(uses your location)\\n\\n\\n\\n\\n\\n\\n\\n\\n\\n\\n\\n\\n\\n1/2 cup butter\\n\\n\\n\\n\\n\\n\\n1/2 cup white sugar\\n\\n\\n\\n\\n\\n\\n1/3 cup packed brown sugar\\n\\n\\n\\n\\n\\n\\n1/2 cup peanut butter\\n\\n\\n\\n\\n\\n\\n1/2 teaspoon vanilla extract\\n\\n\\n\\n\\n\\n\\n1 egg\\n\\n\\n\\n\\n\\n\\n\\n\\n1 cup all-purpose flour\\n\\n\\n\\n\\n\\nMarket Pantry All-Purpose Flour - 5 lbs\\n\\n$2.17\\n$2.17 - expires in 6 days\\n\\nSEE DETAILS\\n\\nADVERTISEMENT\\n\\n\\n\\n\\n\\n\\n\\n\\n\\n\\n\\n\\n\\n\\n1 teaspoon baking soda\\n\\n\\n\\n\\n\\n\\n1/4 teaspoon salt\\n\\n\\n\\n\\n\\n\\n1/2 cup rolled oats\\n\\n\\n\\n\\n\\n\\n1 cup semisweet chocolate chips\\n\\n\\n\\n\\n\\n\\nAdd all ingredients to list\\n\\n\\n\\n\\n\\n\\n\\nMay we suggest\\n\\nBounty Paper Towels 12-Pack Mega or 8-Pk Huge\\n$15.99 thru 3/25 (free $10 gift card when buy three household products listed in Target Weekly Ad)\\n\\nADVERTISEMENT']}"
      ]
     },
     "execution_count": 606,
     "metadata": {},
     "output_type": "execute_result"
    }
   ],
   "source": [
    "recipes_coll.find_one()"
   ]
  },
  {
   "cell_type": "code",
   "execution_count": 502,
   "metadata": {
    "ExecuteTime": {
     "end_time": "2017-06-12T03:03:17.962059",
     "start_time": "2017-06-11T20:03:17.920446-07:00"
    },
    "collapsed": true
   },
   "outputs": [],
   "source": [
    "A = ['a','b']\n",
    "A.append(['c','d'])"
   ]
  },
  {
   "cell_type": "code",
   "execution_count": 503,
   "metadata": {
    "ExecuteTime": {
     "end_time": "2017-06-12T03:03:20.854903",
     "start_time": "2017-06-11T20:03:20.809382-07:00"
    }
   },
   "outputs": [
    {
     "data": {
      "text/plain": [
       "['a', 'b', ['c', 'd']]"
      ]
     },
     "execution_count": 503,
     "metadata": {},
     "output_type": "execute_result"
    }
   ],
   "source": [
    "A"
   ]
  },
  {
   "cell_type": "code",
   "execution_count": null,
   "metadata": {
    "collapsed": true
   },
   "outputs": [],
   "source": [
    "list().append"
   ]
  },
  {
   "cell_type": "code",
   "execution_count": 672,
   "metadata": {
    "ExecuteTime": {
     "end_time": "2017-06-12T21:53:09.008704",
     "start_time": "2017-06-12T14:53:08.902207-07:00"
    }
   },
   "outputs": [
    {
     "data": {
      "text/plain": [
       "u'/Users/User1/DS/projects/food/src/data'"
      ]
     },
     "execution_count": 672,
     "metadata": {},
     "output_type": "execute_result"
    }
   ],
   "source": [
    "pwd"
   ]
  },
  {
   "cell_type": "code",
   "execution_count": 673,
   "metadata": {
    "ExecuteTime": {
     "end_time": "2017-06-12T21:53:43.676100",
     "start_time": "2017-06-12T14:53:43.544719-07:00"
    },
    "collapsed": true
   },
   "outputs": [],
   "source": [
    "from allrecipes import analyze_recipes"
   ]
  },
  {
   "cell_type": "code",
   "execution_count": 671,
   "metadata": {
    "ExecuteTime": {
     "end_time": "2017-06-12T21:52:51.568771",
     "start_time": "2017-06-12T14:52:51.521094-07:00"
    },
    "scrolled": true
   },
   "outputs": [
    {
     "ename": "TypeError",
     "evalue": "reload() argument must be module",
     "output_type": "error",
     "traceback": [
      "\u001b[0;31m---------------------------------------------------------------------------\u001b[0m",
      "\u001b[0;31mTypeError\u001b[0m                                 Traceback (most recent call last)",
      "\u001b[0;32m<ipython-input-671-221bda86eaf6>\u001b[0m in \u001b[0;36m<module>\u001b[0;34m()\u001b[0m\n\u001b[0;32m----> 1\u001b[0;31m \u001b[0mreload\u001b[0m\u001b[0;34m(\u001b[0m\u001b[0;34m'analyze_recipes'\u001b[0m\u001b[0;34m)\u001b[0m\u001b[0;34m\u001b[0m\u001b[0m\n\u001b[0m",
      "\u001b[0;31mTypeError\u001b[0m: reload() argument must be module"
     ]
    }
   ],
   "source": [
    "reload('analyze_recipes')"
   ]
  },
  {
   "cell_type": "code",
   "execution_count": 750,
   "metadata": {
    "ExecuteTime": {
     "end_time": "2017-06-12T23:39:48.430583",
     "start_time": "2017-06-12T16:39:48.374633-07:00"
    },
    "collapsed": true,
    "scrolled": false
   },
   "outputs": [],
   "source": [
    "D = analyze_recipes.get_member_nutrition('17117019')"
   ]
  },
  {
   "cell_type": "code",
   "execution_count": 751,
   "metadata": {
    "ExecuteTime": {
     "end_time": "2017-06-12T23:39:48.627182",
     "start_time": "2017-06-12T16:39:48.578168-07:00"
    }
   },
   "outputs": [
    {
     "data": {
      "text/plain": [
       "{u'10462': {u'Calories': 318.0,\n",
       "  u'Carbs': 45.3,\n",
       "  u'Cholesterol': 12.0,\n",
       "  u'Fat': 14.4,\n",
       "  u'Protein': 3.3,\n",
       "  u'Sodium': 77.0},\n",
       " u'26297': {u'Calories': 217.0,\n",
       "  u'Carbs': 27.2,\n",
       "  u'Cholesterol': 0.0,\n",
       "  u'Fat': 10.3,\n",
       "  u'Protein': 6.5,\n",
       "  u'Sodium': 468.0}}"
      ]
     },
     "execution_count": 751,
     "metadata": {},
     "output_type": "execute_result"
    }
   ],
   "source": [
    "D"
   ]
  },
  {
   "cell_type": "code",
   "execution_count": 758,
   "metadata": {
    "ExecuteTime": {
     "end_time": "2017-06-12T23:41:17.902800",
     "start_time": "2017-06-12T16:41:17.841092-07:00"
    },
    "collapsed": true,
    "scrolled": true
   },
   "outputs": [],
   "source": [
    "D_df = pd.DataFrame(D).T"
   ]
  },
  {
   "cell_type": "code",
   "execution_count": 760,
   "metadata": {
    "ExecuteTime": {
     "end_time": "2017-06-12T23:43:23.745007",
     "start_time": "2017-06-12T16:43:23.503273-07:00"
    }
   },
   "outputs": [
    {
     "data": {
      "text/html": [
       "<div>\n",
       "<table border=\"1\" class=\"dataframe\">\n",
       "  <thead>\n",
       "    <tr style=\"text-align: right;\">\n",
       "      <th></th>\n",
       "      <th>Calories</th>\n",
       "      <th>Carbs</th>\n",
       "      <th>Cholesterol</th>\n",
       "      <th>Fat</th>\n",
       "      <th>Protein</th>\n",
       "      <th>Sodium</th>\n",
       "    </tr>\n",
       "  </thead>\n",
       "  <tbody>\n",
       "    <tr>\n",
       "      <th>count</th>\n",
       "      <td>2.000000</td>\n",
       "      <td>2.000000</td>\n",
       "      <td>2.000000</td>\n",
       "      <td>2.000000</td>\n",
       "      <td>2.000000</td>\n",
       "      <td>2.000000</td>\n",
       "    </tr>\n",
       "    <tr>\n",
       "      <th>mean</th>\n",
       "      <td>267.500000</td>\n",
       "      <td>36.250000</td>\n",
       "      <td>6.000000</td>\n",
       "      <td>12.350000</td>\n",
       "      <td>4.900000</td>\n",
       "      <td>272.500000</td>\n",
       "    </tr>\n",
       "    <tr>\n",
       "      <th>std</th>\n",
       "      <td>71.417785</td>\n",
       "      <td>12.798633</td>\n",
       "      <td>8.485281</td>\n",
       "      <td>2.899138</td>\n",
       "      <td>2.262742</td>\n",
       "      <td>276.478751</td>\n",
       "    </tr>\n",
       "    <tr>\n",
       "      <th>min</th>\n",
       "      <td>217.000000</td>\n",
       "      <td>27.200000</td>\n",
       "      <td>0.000000</td>\n",
       "      <td>10.300000</td>\n",
       "      <td>3.300000</td>\n",
       "      <td>77.000000</td>\n",
       "    </tr>\n",
       "    <tr>\n",
       "      <th>25%</th>\n",
       "      <td>242.250000</td>\n",
       "      <td>31.725000</td>\n",
       "      <td>3.000000</td>\n",
       "      <td>11.325000</td>\n",
       "      <td>4.100000</td>\n",
       "      <td>174.750000</td>\n",
       "    </tr>\n",
       "    <tr>\n",
       "      <th>50%</th>\n",
       "      <td>267.500000</td>\n",
       "      <td>36.250000</td>\n",
       "      <td>6.000000</td>\n",
       "      <td>12.350000</td>\n",
       "      <td>4.900000</td>\n",
       "      <td>272.500000</td>\n",
       "    </tr>\n",
       "    <tr>\n",
       "      <th>75%</th>\n",
       "      <td>292.750000</td>\n",
       "      <td>40.775000</td>\n",
       "      <td>9.000000</td>\n",
       "      <td>13.375000</td>\n",
       "      <td>5.700000</td>\n",
       "      <td>370.250000</td>\n",
       "    </tr>\n",
       "    <tr>\n",
       "      <th>max</th>\n",
       "      <td>318.000000</td>\n",
       "      <td>45.300000</td>\n",
       "      <td>12.000000</td>\n",
       "      <td>14.400000</td>\n",
       "      <td>6.500000</td>\n",
       "      <td>468.000000</td>\n",
       "    </tr>\n",
       "  </tbody>\n",
       "</table>\n",
       "</div>"
      ],
      "text/plain": [
       "         Calories      Carbs  Cholesterol        Fat   Protein      Sodium\n",
       "count    2.000000   2.000000     2.000000   2.000000  2.000000    2.000000\n",
       "mean   267.500000  36.250000     6.000000  12.350000  4.900000  272.500000\n",
       "std     71.417785  12.798633     8.485281   2.899138  2.262742  276.478751\n",
       "min    217.000000  27.200000     0.000000  10.300000  3.300000   77.000000\n",
       "25%    242.250000  31.725000     3.000000  11.325000  4.100000  174.750000\n",
       "50%    267.500000  36.250000     6.000000  12.350000  4.900000  272.500000\n",
       "75%    292.750000  40.775000     9.000000  13.375000  5.700000  370.250000\n",
       "max    318.000000  45.300000    12.000000  14.400000  6.500000  468.000000"
      ]
     },
     "execution_count": 760,
     "metadata": {},
     "output_type": "execute_result"
    }
   ],
   "source": [
    "D_df.describe()\n"
   ]
  },
  {
   "cell_type": "code",
   "execution_count": 763,
   "metadata": {
    "ExecuteTime": {
     "end_time": "2017-06-12T23:45:37.931335",
     "start_time": "2017-06-12T16:45:37.849086-07:00"
    }
   },
   "outputs": [
    {
     "data": {
      "text/html": [
       "<div>\n",
       "<table border=\"1\" class=\"dataframe\">\n",
       "  <thead>\n",
       "    <tr style=\"text-align: right;\">\n",
       "      <th></th>\n",
       "      <th>Calories</th>\n",
       "      <th>Carbs</th>\n",
       "      <th>Cholesterol</th>\n",
       "      <th>Fat</th>\n",
       "      <th>Protein</th>\n",
       "      <th>Sodium</th>\n",
       "    </tr>\n",
       "  </thead>\n",
       "  <tbody>\n",
       "    <tr>\n",
       "      <th>10462</th>\n",
       "      <td>318.0</td>\n",
       "      <td>45.3</td>\n",
       "      <td>12.0</td>\n",
       "      <td>14.4</td>\n",
       "      <td>3.3</td>\n",
       "      <td>77.0</td>\n",
       "    </tr>\n",
       "    <tr>\n",
       "      <th>26297</th>\n",
       "      <td>217.0</td>\n",
       "      <td>27.2</td>\n",
       "      <td>0.0</td>\n",
       "      <td>10.3</td>\n",
       "      <td>6.5</td>\n",
       "      <td>468.0</td>\n",
       "    </tr>\n",
       "  </tbody>\n",
       "</table>\n",
       "</div>"
      ],
      "text/plain": [
       "       Calories  Carbs  Cholesterol   Fat  Protein  Sodium\n",
       "10462     318.0   45.3         12.0  14.4      3.3    77.0\n",
       "26297     217.0   27.2          0.0  10.3      6.5   468.0"
      ]
     },
     "execution_count": 763,
     "metadata": {},
     "output_type": "execute_result"
    }
   ],
   "source": [
    "D_df"
   ]
  },
  {
   "cell_type": "code",
   "execution_count": 780,
   "metadata": {
    "ExecuteTime": {
     "end_time": "2017-06-13T00:00:12.345776",
     "start_time": "2017-06-12T17:00:12.305758-07:00"
    },
    "scrolled": true
   },
   "outputs": [
    {
     "data": {
      "text/plain": [
       "{u'Calories': 267.5,\n",
       " u'Carbs': 36.25,\n",
       " u'Cholesterol': 6.0,\n",
       " u'Fat': 12.350000000000001,\n",
       " u'Protein': 4.9000000000000004,\n",
       " u'Sodium': 272.5}"
      ]
     },
     "execution_count": 780,
     "metadata": {},
     "output_type": "execute_result"
    }
   ],
   "source": [
    "dict(D_df.mean())"
   ]
  },
  {
   "cell_type": "code",
   "execution_count": 781,
   "metadata": {
    "ExecuteTime": {
     "end_time": "2017-06-13T00:04:24.509527",
     "start_time": "2017-06-12T17:04:24.231687-07:00"
    }
   },
   "outputs": [
    {
     "data": {
      "text/plain": [
       "pymongo.cursor.Cursor"
      ]
     },
     "execution_count": 781,
     "metadata": {},
     "output_type": "execute_result"
    }
   ],
   "source": [
    "type(member_coll.find({'member_ID': {'$exists': True}}))"
   ]
  },
  {
   "cell_type": "code",
   "execution_count": 769,
   "metadata": {
    "ExecuteTime": {
     "end_time": "2017-06-12T23:55:06.309483",
     "start_time": "2017-06-12T16:55:06.268498-07:00"
    },
    "collapsed": true
   },
   "outputs": [],
   "source": [
    "lov = [a.values() for a in D.values()]"
   ]
  },
  {
   "cell_type": "code",
   "execution_count": 777,
   "metadata": {
    "ExecuteTime": {
     "end_time": "2017-06-12T23:57:40.497330",
     "start_time": "2017-06-12T16:57:40.406094-07:00"
    },
    "collapsed": true
   },
   "outputs": [],
   "source": [
    "items = [a.keys() for a in D.values()]"
   ]
  },
  {
   "cell_type": "code",
   "execution_count": 778,
   "metadata": {
    "ExecuteTime": {
     "end_time": "2017-06-12T23:57:45.901428",
     "start_time": "2017-06-12T16:57:45.869267-07:00"
    }
   },
   "outputs": [
    {
     "data": {
      "text/plain": [
       "[[u'Carbs', u'Sodium', u'Calories', u'Fat', u'Cholesterol', u'Protein'],\n",
       " [u'Carbs', u'Sodium', u'Calories', u'Fat', u'Cholesterol', u'Protein']]"
      ]
     },
     "execution_count": 778,
     "metadata": {},
     "output_type": "execute_result"
    }
   ],
   "source": [
    "items"
   ]
  },
  {
   "cell_type": "code",
   "execution_count": 775,
   "metadata": {
    "ExecuteTime": {
     "end_time": "2017-06-12T23:56:19.617460",
     "start_time": "2017-06-12T16:56:19.584794-07:00"
    }
   },
   "outputs": [
    {
     "data": {
      "text/plain": [
       "array([[  45.3,   77. ,  318. ,   14.4,   12. ,    3.3],\n",
       "       [  27.2,  468. ,  217. ,   10.3,    0. ,    6.5]])"
      ]
     },
     "execution_count": 775,
     "metadata": {},
     "output_type": "execute_result"
    }
   ],
   "source": [
    "np.asarray(lov)"
   ]
  },
  {
   "cell_type": "code",
   "execution_count": 776,
   "metadata": {
    "ExecuteTime": {
     "end_time": "2017-06-12T23:56:33.620472",
     "start_time": "2017-06-12T16:56:33.590774-07:00"
    }
   },
   "outputs": [
    {
     "data": {
      "text/plain": [
       "array([  36.25,  272.5 ,  267.5 ,   12.35,    6.  ,    4.9 ])"
      ]
     },
     "execution_count": 776,
     "metadata": {},
     "output_type": "execute_result"
    }
   ],
   "source": [
    "# Using numpy arrays: \n",
    "np.asarray(lov).mean(axis=0)"
   ]
  },
  {
   "cell_type": "code",
   "execution_count": 783,
   "metadata": {
    "ExecuteTime": {
     "end_time": "2017-06-13T00:20:11.977059",
     "start_time": "2017-06-12T17:20:11.909994-07:00"
    },
    "collapsed": true
   },
   "outputs": [],
   "source": [
    "allrecipes_db = client.allrecipes"
   ]
  },
  {
   "cell_type": "code",
   "execution_count": 784,
   "metadata": {
    "ExecuteTime": {
     "end_time": "2017-06-13T00:20:23.914361",
     "start_time": "2017-06-12T17:20:23.859862-07:00"
    },
    "collapsed": true
   },
   "outputs": [],
   "source": [
    "members_coll = allrecipes_db.members"
   ]
  },
  {
   "cell_type": "code",
   "execution_count": 785,
   "metadata": {
    "ExecuteTime": {
     "end_time": "2017-06-13T00:20:26.048760",
     "start_time": "2017-06-12T17:20:25.982899-07:00"
    }
   },
   "outputs": [
    {
     "data": {
      "text/plain": [
       "[u'nutrition_avg_vals', u'_id', u'member_ID']"
      ]
     },
     "execution_count": 785,
     "metadata": {},
     "output_type": "execute_result"
    }
   ],
   "source": [
    "members_coll.find_one().keys()"
   ]
  },
  {
   "cell_type": "code",
   "execution_count": 790,
   "metadata": {
    "ExecuteTime": {
     "end_time": "2017-06-13T00:36:53.776073",
     "start_time": "2017-06-12T17:36:53.729793-07:00"
    }
   },
   "outputs": [
    {
     "data": {
      "text/plain": [
       "WriteConcern()"
      ]
     },
     "execution_count": 790,
     "metadata": {},
     "output_type": "execute_result"
    }
   ],
   "source": []
  },
  {
   "cell_type": "markdown",
   "metadata": {},
   "source": [
    "# Calculate mean values for nutrients for all members\n",
    "# Document validation- is it necessary? "
   ]
  },
  {
   "cell_type": "code",
   "execution_count": null,
   "metadata": {
    "collapsed": true
   },
   "outputs": [],
   "source": []
  }
 ],
 "metadata": {
  "kernelspec": {
   "display_name": "Python [conda env:python2]",
   "language": "python",
   "name": "conda-env-python2-py"
  },
  "language_info": {
   "codemirror_mode": {
    "name": "ipython",
    "version": 2
   },
   "file_extension": ".py",
   "mimetype": "text/x-python",
   "name": "python",
   "nbconvert_exporter": "python",
   "pygments_lexer": "ipython2",
   "version": "2.7.13"
  }
 },
 "nbformat": 4,
 "nbformat_minor": 2
}
