{
 "cells": [
  {
   "cell_type": "markdown",
   "metadata": {},
   "source": [
    "# Import member pages "
   ]
  },
  {
   "cell_type": "code",
   "execution_count": 99,
   "metadata": {
    "ExecuteTime": {
     "end_time": "2017-06-20T03:35:30.010386",
     "start_time": "2017-06-19T20:35:29.692966-07:00"
    },
    "collapsed": true
   },
   "outputs": [],
   "source": [
    "import scraper\n",
    "import inspect"
   ]
  },
  {
   "cell_type": "code",
   "execution_count": 100,
   "metadata": {
    "ExecuteTime": {
     "end_time": "2017-06-20T03:35:30.095601",
     "start_time": "2017-06-19T20:35:30.042788-07:00"
    },
    "collapsed": false
   },
   "outputs": [
    {
     "name": "stdout",
     "output_type": "stream",
     "text": [
      "<module 'scraper' from 'scraper.py'>\n"
     ]
    }
   ],
   "source": [
    "print scraper"
   ]
  },
  {
   "cell_type": "code",
   "execution_count": 101,
   "metadata": {
    "ExecuteTime": {
     "end_time": "2017-06-20T03:35:31.005448",
     "start_time": "2017-06-19T20:35:30.933740-07:00"
    },
    "collapsed": false
   },
   "outputs": [
    {
     "data": {
      "text/plain": [
       "['__init__',\n",
       " 'get_community_members',\n",
       " 'get_community_members_continue',\n",
       " 'get_community_page_scrolled',\n",
       " 'get_member_pages',\n",
       " 'get_page_from_list',\n",
       " 'use_firefox',\n",
       " 'use_phantom']"
      ]
     },
     "execution_count": 101,
     "metadata": {},
     "output_type": "execute_result"
    }
   ],
   "source": [
    "# Get list of methods in `scraper`\n",
    "[a[0] for a in inspect.getmembers(scraper.Scraper, inspect.ismethod)]"
   ]
  },
  {
   "cell_type": "code",
   "execution_count": 102,
   "metadata": {
    "ExecuteTime": {
     "end_time": "2017-06-20T03:35:32.607576",
     "start_time": "2017-06-19T20:35:32.567408-07:00"
    },
    "collapsed": false
   },
   "outputs": [
    {
     "data": {
      "text/plain": [
       "['__init__',\n",
       " 'check_member_records',\n",
       " 'get_aboutme_data',\n",
       " 'get_favorites_data',\n",
       " 'get_followers_data',\n",
       " 'get_following_data',\n",
       " 'get_html',\n",
       " 'get_madeits_data',\n",
       " 'get_member_list_to_parse',\n",
       " 'get_member_parsed_data',\n",
       " 'get_members_aboutme_from_pkl',\n",
       " 'get_members_favorites',\n",
       " 'get_members_followers',\n",
       " 'get_members_following',\n",
       " 'get_members_madeits',\n",
       " 'get_members_reviews',\n",
       " 'get_recipe_data',\n",
       " 'get_recipe_pkl_page_from_aws',\n",
       " 'get_reviews_data']"
      ]
     },
     "execution_count": 102,
     "metadata": {},
     "output_type": "execute_result"
    }
   ],
   "source": [
    "# Get list of methods in `scraper`\n",
    "[a[0] for a in inspect.getmembers(scraper.Parser, inspect.ismethod)]"
   ]
  },
  {
   "cell_type": "code",
   "execution_count": 103,
   "metadata": {
    "ExecuteTime": {
     "end_time": "2017-06-20T03:35:36.714125",
     "start_time": "2017-06-19T20:35:36.676283-07:00"
    },
    "collapsed": true
   },
   "outputs": [],
   "source": [
    "# Create method `get_member_pages_from_S3` "
   ]
  },
  {
   "cell_type": "code",
   "execution_count": 104,
   "metadata": {
    "ExecuteTime": {
     "end_time": "2017-06-20T03:35:37.752626",
     "start_time": "2017-06-19T20:35:37.692048-07:00"
    },
    "collapsed": true
   },
   "outputs": [],
   "source": [
    "import pymongo \n",
    "import boto3\n",
    "import os \n",
    "import json\n",
    "AWS_KEY = os.environ['AWS_ACCESS_KEY']\n",
    "AWS_SECRET = os.environ['AWS_SECRET_ACCESS_KEY'] "
   ]
  },
  {
   "cell_type": "code",
   "execution_count": 22,
   "metadata": {
    "ExecuteTime": {
     "end_time": "2017-06-19T22:24:08.806724",
     "start_time": "2017-06-19T15:24:08.663563-07:00"
    },
    "collapsed": false
   },
   "outputs": [],
   "source": [
    "client = pymongo.MongoClient(\"mongodb://localhost:27017/\")\n",
    "allrecipes_db = client.allrecipes\n",
    "member_pages_coll = allrecipes_db.member_pages\n",
    "about_coll = allrecipes_db.about\n"
   ]
  },
  {
   "cell_type": "markdown",
   "metadata": {
    "ExecuteTime": {
     "end_time": "2017-06-20T03:52:03.378202",
     "start_time": "2017-06-19T20:52:02.940959-07:00"
    }
   },
   "source": [
    "# Create index based on member_ID for member_pages_coll \n",
    "``` \n",
    "member_pages_coll.create_index([('member_ID',pymongo.ASCENDING)], unique=True)\n",
    "```"
   ]
  },
  {
   "cell_type": "code",
   "execution_count": 23,
   "metadata": {
    "ExecuteTime": {
     "end_time": "2017-06-19T22:24:29.625245",
     "start_time": "2017-06-19T15:24:28.941222-07:00"
    },
    "collapsed": true
   },
   "outputs": [],
   "source": [
    " # Open s3 session with boto3 and get files in 'member_pages/'\n",
    "session = boto3.Session(aws_access_key_id=AWS_KEY, aws_secret_access_key=AWS_SECRET)\n",
    "s3 = session.resource('s3')\n",
    "\n",
    "mybucket = s3.Bucket('ohailolcat')\n",
    "# Gets all objects passed through filter\n",
    "member_page_files = [a.key for a in mybucket.objects.filter(Prefix='member_pages/')]"
   ]
  },
  {
   "cell_type": "code",
   "execution_count": 26,
   "metadata": {
    "ExecuteTime": {
     "end_time": "2017-06-19T22:27:50.255538",
     "start_time": "2017-06-19T15:27:50.200630-07:00"
    },
    "collapsed": false
   },
   "outputs": [
    {
     "data": {
      "text/plain": [
       "521"
      ]
     },
     "execution_count": 26,
     "metadata": {},
     "output_type": "execute_result"
    }
   ],
   "source": [
    "print len(member_page_files)"
   ]
  },
  {
   "cell_type": "code",
   "execution_count": 28,
   "metadata": {
    "ExecuteTime": {
     "end_time": "2017-06-19T22:32:48.874751",
     "start_time": "2017-06-19T15:32:48.807717-07:00"
    },
    "collapsed": false
   },
   "outputs": [
    {
     "data": {
      "text/plain": [
       "u'member_pages/10090853_pages.pkl'"
      ]
     },
     "execution_count": 28,
     "metadata": {},
     "output_type": "execute_result"
    }
   ],
   "source": [
    "member_page_files[0]"
   ]
  },
  {
   "cell_type": "code",
   "execution_count": 47,
   "metadata": {
    "ExecuteTime": {
     "end_time": "2017-06-19T22:44:59.404571",
     "start_time": "2017-06-19T15:44:59.210742-07:00"
    },
    "collapsed": true
   },
   "outputs": [],
   "source": [
    "# These are cPickle files \n",
    "import cPickle"
   ]
  },
  {
   "cell_type": "code",
   "execution_count": 74,
   "metadata": {
    "ExecuteTime": {
     "end_time": "2017-06-19T23:26:08.468413",
     "start_time": "2017-06-19T16:26:08.413316-07:00"
    },
    "collapsed": false
   },
   "outputs": [
    {
     "data": {
      "text/plain": [
       "s3.Bucket.objectsCollection(s3.Bucket(name='ohailolcat'), s3.ObjectSummary)"
      ]
     },
     "execution_count": 74,
     "metadata": {},
     "output_type": "execute_result"
    }
   ],
   "source": [
    "# Create an iterable of filtered ObjectSummary resources\n",
    "mybucket.objects.filter(Prefix='member_pages/')"
   ]
  },
  {
   "cell_type": "code",
   "execution_count": 81,
   "metadata": {
    "ExecuteTime": {
     "end_time": "2017-06-20T00:14:48.612309",
     "start_time": "2017-06-19T17:14:44.649227-07:00"
    },
    "collapsed": true
   },
   "outputs": [],
   "source": [
    "# Collect all objectsummaries\n",
    "memberfilesummary = [a for a in mybucket.objects.filter(Prefix='member_pages/')]"
   ]
  },
  {
   "cell_type": "code",
   "execution_count": 82,
   "metadata": {
    "ExecuteTime": {
     "end_time": "2017-06-20T00:14:48.718166",
     "start_time": "2017-06-19T17:14:48.637375-07:00"
    },
    "collapsed": false
   },
   "outputs": [
    {
     "data": {
      "text/plain": [
       "s3.ObjectSummary(bucket_name='ohailolcat', key=u'member_pages/10090853_pages.pkl')"
      ]
     },
     "execution_count": 82,
     "metadata": {},
     "output_type": "execute_result"
    }
   ],
   "source": [
    "memberfilesummary[0]"
   ]
  },
  {
   "cell_type": "code",
   "execution_count": 76,
   "metadata": {
    "ExecuteTime": {
     "end_time": "2017-06-19T23:33:50.979113",
     "start_time": "2017-06-19T16:33:48.980773-07:00"
    },
    "collapsed": true
   },
   "outputs": [],
   "source": [
    "# Read the 'Body' of object\n",
    "memfile = memberfilesummary[0].get()['Body'].read()"
   ]
  },
  {
   "cell_type": "code",
   "execution_count": 77,
   "metadata": {
    "ExecuteTime": {
     "end_time": "2017-06-19T23:34:17.201940",
     "start_time": "2017-06-19T16:34:16.978745-07:00"
    },
    "collapsed": true
   },
   "outputs": [],
   "source": [
    "# Unpickle the string \n",
    "pklfile = cPickle.loads(memfile)"
   ]
  },
  {
   "cell_type": "code",
   "execution_count": 78,
   "metadata": {
    "ExecuteTime": {
     "end_time": "2017-06-19T23:34:26.055196",
     "start_time": "2017-06-19T16:34:25.979865-07:00"
    },
    "collapsed": false
   },
   "outputs": [
    {
     "data": {
      "text/plain": [
       "['favorites_page',\n",
       " 'reviews_page',\n",
       " 'followers_page',\n",
       " 'madeit_page',\n",
       " 'member_ID',\n",
       " 'recipes_page',\n",
       " 'following_page',\n",
       " 'aboutme_page']"
      ]
     },
     "execution_count": 78,
     "metadata": {},
     "output_type": "execute_result"
    }
   ],
   "source": [
    "pklfile.keys()"
   ]
  },
  {
   "cell_type": "code",
   "execution_count": 83,
   "metadata": {
    "ExecuteTime": {
     "end_time": "2017-06-20T00:21:37.861493",
     "start_time": "2017-06-19T17:21:36.241096-07:00"
    },
    "collapsed": false
   },
   "outputs": [
    {
     "data": {
      "text/plain": [
       "[u'favorites_page',\n",
       " u'following_page',\n",
       " u'reviews_page',\n",
       " u'aboutme_page',\n",
       " u'madeit_page',\n",
       " u'link',\n",
       " u'member_ID',\n",
       " u'followers_page',\n",
       " u'_id',\n",
       " u'recipes_page']"
      ]
     },
     "execution_count": 83,
     "metadata": {},
     "output_type": "execute_result"
    }
   ],
   "source": [
    "# compare with member_pages_coll document contents\n",
    "member_pages_coll.find_one().keys()"
   ]
  },
  {
   "cell_type": "code",
   "execution_count": 120,
   "metadata": {
    "ExecuteTime": {
     "end_time": "2017-06-20T04:00:10.687030",
     "start_time": "2017-06-19T21:00:10.616066-07:00"
    },
    "collapsed": false
   },
   "outputs": [],
   "source": [
    "# All the keys are the same except `link` and `_id`, which is okay.  \n",
    "\n",
    "def get_member_pages_from_s3(memlist=None): \n",
    "    \"\"\"Given a list of member_IDs, populate member_pages_coll with data from files in \n",
    "    member_pages/\"\"\"\n",
    "    if not memlist: \n",
    "        memlist = [a.key for a in mybucket.objects.filter(Prefix='member_pages/')]\n",
    "    print \"number of files in s3 bucket:\", len(memlist)\n",
    "    print \"number of docs in member_pages_coll\", member_pages_coll.count()\n",
    "    member_pages_memlist = [a['member_ID'] for a in member_pages_coll.find()]\n",
    "    # member_pages_coll.ensureIndex({name: 1, nodes: 1}, {unique: true, dropDups: true})\n",
    "    # member_pages_coll.ensure_index({\"member_ID\": 1}, {unique:}) .... \n",
    "    # to_get = set(memlist) - set(member_pages_memlist)\n",
    "    # print \"files to get:\", len(to_get)\n",
    "    for i,a in enumerate(mybucket.objects.filter(Prefix='member_pages/')): \n",
    "        memdata = cPickle.loads(a.get()['Body'].read())\n",
    "        if memdata[\"member_ID\"] not in member_pages_memlist:\n",
    "            print \"{} Inserting: {}\".format(i, memdata[\"member_ID\"])\n",
    "            member_pages_coll.insert_one(memdata)"
   ]
  },
  {
   "cell_type": "code",
   "execution_count": 121,
   "metadata": {
    "ExecuteTime": {
     "end_time": "2017-06-20T04:08:02.469026",
     "start_time": "2017-06-19T21:00:16.205804-07:00"
    },
    "collapsed": false
   },
   "outputs": [
    {
     "name": "stdout",
     "output_type": "stream",
     "text": [
      "number of files in s3 bucket: 521\n",
      "number of docs in member_pages_coll 1340\n"
     ]
    }
   ],
   "source": [
    "get_member_pages_from_s3()"
   ]
  },
  {
   "cell_type": "code",
   "execution_count": 127,
   "metadata": {
    "ExecuteTime": {
     "end_time": "2017-06-20T04:13:22.827952",
     "start_time": "2017-06-19T21:13:22.682354-07:00"
    },
    "collapsed": false
   },
   "outputs": [],
   "source": [
    "docswolink = list(member_pages_coll.find({'aboutme_page':{\"$exists\": False}}))"
   ]
  },
  {
   "cell_type": "code",
   "execution_count": 128,
   "metadata": {
    "ExecuteTime": {
     "end_time": "2017-06-20T04:13:25.031514",
     "start_time": "2017-06-19T21:13:24.972140-07:00"
    },
    "collapsed": false
   },
   "outputs": [
    {
     "data": {
      "text/plain": [
       "0"
      ]
     },
     "execution_count": 128,
     "metadata": {},
     "output_type": "execute_result"
    }
   ],
   "source": [
    "len(docswolink)"
   ]
  },
  {
   "cell_type": "code",
   "execution_count": 111,
   "metadata": {
    "ExecuteTime": {
     "end_time": "2017-06-20T03:45:54.945108",
     "start_time": "2017-06-19T20:45:54.799356-07:00"
    },
    "collapsed": true
   },
   "outputs": [],
   "source": [
    "docswolink_ids = [a['_id'] for a in docswolink]"
   ]
  },
  {
   "cell_type": "code",
   "execution_count": 122,
   "metadata": {
    "ExecuteTime": {
     "end_time": "2017-06-20T04:10:34.565715",
     "start_time": "2017-06-19T21:10:33.762596-07:00"
    },
    "collapsed": false
   },
   "outputs": [
    {
     "data": {
      "text/plain": [
       "1340"
      ]
     },
     "execution_count": 122,
     "metadata": {},
     "output_type": "execute_result"
    }
   ],
   "source": [
    "member_pages_coll.count()"
   ]
  }
 ],
 "metadata": {
  "kernelspec": {
   "display_name": "Python [conda env:python2]",
   "language": "python",
   "name": "conda-env-python2-py"
  },
  "language_info": {
   "codemirror_mode": {
    "name": "ipython",
    "version": 2
   },
   "file_extension": ".py",
   "mimetype": "text/x-python",
   "name": "python",
   "nbconvert_exporter": "python",
   "pygments_lexer": "ipython2",
   "version": "2.7.13"
  }
 },
 "nbformat": 4,
 "nbformat_minor": 2
}
