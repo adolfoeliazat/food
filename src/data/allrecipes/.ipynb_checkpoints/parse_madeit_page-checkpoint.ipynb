{
 "cells": [
  {
   "cell_type": "markdown",
   "metadata": {},
   "source": [
    "## 'I Made It' page in allrecipes.com's member page\n",
    "\n",
    "Just get: \n",
    "- recipe ID, name \n",
    "- rating for recipe (optional, as it's redundant) \n",
    "\n",
    "Click on 'more' button if possible. "
   ]
  },
  {
   "cell_type": "code",
   "execution_count": 145,
   "metadata": {
    "ExecuteTime": {
     "end_time": "2017-03-24T04:56:14.501398",
     "start_time": "2017-03-23T21:56:14.192627-07:00"
    },
    "collapsed": false
   },
   "outputs": [],
   "source": [
    "import pymongo \n",
    "from bs4 import BeautifulSoup as BS\n",
    "import re\n",
    "import collections"
   ]
  },
  {
   "cell_type": "code",
   "execution_count": 2,
   "metadata": {
    "ExecuteTime": {
     "end_time": "2017-03-23T17:58:42.702832",
     "start_time": "2017-03-23T10:58:42.679568-07:00"
    },
    "collapsed": true
   },
   "outputs": [],
   "source": [
    "client = pymongo.MongoClient('mongodb://localhost:27017/')"
   ]
  },
  {
   "cell_type": "code",
   "execution_count": 3,
   "metadata": {
    "ExecuteTime": {
     "end_time": "2017-03-23T17:58:44.181983",
     "start_time": "2017-03-23T10:58:44.160023-07:00"
    },
    "collapsed": true
   },
   "outputs": [],
   "source": [
    "allrecipes_db = client.allrecipes"
   ]
  },
  {
   "cell_type": "code",
   "execution_count": 4,
   "metadata": {
    "ExecuteTime": {
     "end_time": "2017-03-23T17:58:45.262704",
     "start_time": "2017-03-23T10:58:45.010892-07:00"
    },
    "collapsed": false
   },
   "outputs": [
    {
     "data": {
      "text/plain": [
       "[u'members',\n",
       " u'webpages',\n",
       " u'community_link_pages',\n",
       " u'communiy_page',\n",
       " u'community_page']"
      ]
     },
     "execution_count": 4,
     "metadata": {},
     "output_type": "execute_result"
    }
   ],
   "source": [
    "allrecipes_db.collection_names()"
   ]
  },
  {
   "cell_type": "code",
   "execution_count": 5,
   "metadata": {
    "ExecuteTime": {
     "end_time": "2017-03-23T17:58:46.676194",
     "start_time": "2017-03-23T10:58:46.635945-07:00"
    },
    "collapsed": false
   },
   "outputs": [],
   "source": [
    "members_coll = allrecipes_db.members"
   ]
  },
  {
   "cell_type": "code",
   "execution_count": 6,
   "metadata": {
    "ExecuteTime": {
     "end_time": "2017-03-23T17:58:47.380328",
     "start_time": "2017-03-23T10:58:47.350015-07:00"
    },
    "collapsed": false
   },
   "outputs": [
    {
     "data": {
      "text/plain": [
       "Collection(Database(MongoClient(host=['localhost:27017'], document_class=dict, tz_aware=False, connect=True), u'allrecipes'), u'members')"
      ]
     },
     "execution_count": 6,
     "metadata": {},
     "output_type": "execute_result"
    }
   ],
   "source": [
    "members_coll"
   ]
  },
  {
   "cell_type": "code",
   "execution_count": 7,
   "metadata": {
    "ExecuteTime": {
     "end_time": "2017-03-23T17:58:56.256621",
     "start_time": "2017-03-23T10:58:55.764422-07:00"
    },
    "collapsed": false
   },
   "outputs": [
    {
     "data": {
      "text/plain": [
       "[u'favorites_page',\n",
       " u'following_page',\n",
       " u'reviews_page',\n",
       " u'followers_page',\n",
       " u'madeit_page',\n",
       " u'link',\n",
       " u'member_ID',\n",
       " u'_id',\n",
       " u'recipes_page']"
      ]
     },
     "execution_count": 7,
     "metadata": {},
     "output_type": "execute_result"
    }
   ],
   "source": [
    "# Get all the key names \n",
    "# \n",
    "\n",
    "members_coll.find_one().keys()"
   ]
  },
  {
   "cell_type": "code",
   "execution_count": 119,
   "metadata": {
    "ExecuteTime": {
     "end_time": "2017-03-23T21:06:39.715685",
     "start_time": "2017-03-23T14:06:38.038688-07:00"
    },
    "collapsed": true
   },
   "outputs": [],
   "source": [
    "# \n",
    "soup = BS(members_coll.find_one()['madeit_page'], 'html.parser')"
   ]
  },
  {
   "cell_type": "code",
   "execution_count": 1,
   "metadata": {
    "ExecuteTime": {
     "end_time": "2017-05-22T22:08:30.481706",
     "start_time": "2017-05-22T15:08:30.457855-07:00"
    },
    "collapsed": false,
    "scrolled": false
   },
   "outputs": [],
   "source": [
    "# print soup.prettify()"
   ]
  },
  {
   "cell_type": "code",
   "execution_count": 150,
   "metadata": {
    "ExecuteTime": {
     "end_time": "2017-03-24T04:59:02.462798",
     "start_time": "2017-03-23T21:59:02.210103-07:00"
    },
    "collapsed": false,
    "scrolled": false
   },
   "outputs": [
    {
     "data": {
      "text/plain": [
       "[u' E-Z Drop Biscuits ',\n",
       " u\" Mom's Simple Dumplings \",\n",
       " u' No Bake Cookies I ',\n",
       " u' Zucchini Chips ',\n",
       " u' Roasted Brussels Sprouts ',\n",
       " u\" Chef John's Scones \",\n",
       " u' Milk Cracker Stuffing ',\n",
       " u' Colored Sugar ',\n",
       " u' Molasses Cookies ',\n",
       " u\" Momma's Poor Man's Lasagne \",\n",
       " u' Sugar Cookie Cutouts ',\n",
       " u' Whole Wheat Pumpkin-Applesauce Muffins ',\n",
       " u' Pumpkin Smoothie ',\n",
       " u' Condensed Milk Chocolate Frosting ',\n",
       " u\" Michelle's Famous Washed Cranberry Sauce \",\n",
       " u' Chocolate Covered Strawberries ',\n",
       " u' Baked Kale Chips ',\n",
       " u' Eggplant Burgers ',\n",
       " u' Mexican Rice III ',\n",
       " u' Chicken with Stuffing ']"
      ]
     },
     "execution_count": 150,
     "metadata": {},
     "output_type": "execute_result"
    }
   ],
   "source": [
    "# All the recipe titles: \n",
    "# [a['href'] for a in soup.select('article.grid-col--fixed-tiles div.ng-scope span.ng-binding')]\n",
    "[a.text for a in collections.OrderedDict.fromkeys(soup.select('article.grid-col--fixed-tiles div.ng-scope h3.grid-col__h3--recipe-grid a.ng-scope')) if a.text != ' ']"
   ]
  },
  {
   "cell_type": "code",
   "execution_count": 159,
   "metadata": {
    "ExecuteTime": {
     "end_time": "2017-03-24T05:03:20.503115",
     "start_time": "2017-03-23T22:03:20.414521-07:00"
    },
    "collapsed": false
   },
   "outputs": [
    {
     "data": {
      "text/plain": [
       "[u'/recipe/21135/e-z-drop-biscuits/',\n",
       " u'/recipe/210083/moms-simple-dumplings/',\n",
       " u'/recipe/9832/no-bake-cookies-i/',\n",
       " u'/recipe/232278/zucchini-chips/',\n",
       " u'/recipe/67952/roasted-brussels-sprouts/',\n",
       " u'/recipe/220994/chef-johns-scones/',\n",
       " u'/recipe/23417/milk-cracker-stuffing/',\n",
       " u'/recipe/24421/colored-sugar/',\n",
       " u'/recipe/9311/molasses-cookies/',\n",
       " u'/recipe/218879/mommas-poor-mans-lasagne/',\n",
       " u'/recipe/15149/sugar-cookie-cutouts/',\n",
       " u'/recipe/55334/whole-wheat-pumpkin-applesauce-muffins/',\n",
       " u'/recipe/142434/pumpkin-smoothie/',\n",
       " u'/recipe/10327/condensed-milk-chocolate-frosting/',\n",
       " u'/recipe/9158/michelles-famous-washed-cranberry-sauce/',\n",
       " u'/recipe/21712/chocolate-covered-strawberries/',\n",
       " u'/recipe/176957/baked-kale-chips/',\n",
       " u'/recipe/53577/eggplant-burgers/',\n",
       " u'/recipe/73303/mexican-rice-iii/',\n",
       " u'/recipe/119947/chicken-with-stuffing/']"
      ]
     },
     "execution_count": 159,
     "metadata": {},
     "output_type": "execute_result"
    }
   ],
   "source": [
    "# Get link / recipe ID \n",
    "[a for a in collections.OrderedDict.fromkeys([a.attrs['data-ng-href'] for a in soup.select('article.grid-col--fixed-tiles div.ng-scope h3.grid-col__h3--recipe-grid a.ng-scope')])]"
   ]
  },
  {
   "cell_type": "markdown",
   "metadata": {},
   "source": [
    "###### Get link / recipe ID "
   ]
  },
  {
   "cell_type": "code",
   "execution_count": 142,
   "metadata": {
    "ExecuteTime": {
     "end_time": "2017-03-24T04:49:01.513497",
     "start_time": "2017-03-23T21:49:01.391420-07:00"
    },
    "collapsed": false
   },
   "outputs": [],
   "source": [
    "list(set([a.attrs['data-ng-href'].split('/')[2] for a in soup.select('article.grid-col--fixed-tiles div.ng-scope h3.grid-col__h3--recipe-grid a.ng-scope')]))"
   ]
  },
  {
   "cell_type": "code",
   "execution_count": 171,
   "metadata": {
    "ExecuteTime": {
     "end_time": "2017-03-25T20:38:53.758134",
     "start_time": "2017-03-25T13:38:52.461376-07:00"
    },
    "collapsed": false
   },
   "outputs": [
    {
     "data": {
      "text/plain": [
       "[(u' Chicken with Stuffing ', u'119947'),\n",
       " (u\" Michelle's Famous Washed Cranberry Sauce \", u'9158'),\n",
       " (u\" Mom's Simple Dumplings \", u'210083'),\n",
       " (u' Sugar Cookie Cutouts ', u'15149'),\n",
       " (u' E-Z Drop Biscuits ', u'21135'),\n",
       " (u' Chocolate Covered Strawberries ', u'21712'),\n",
       " (u\" Chef John's Scones \", u'220994'),\n",
       " (u' No Bake Cookies I ', u'9832'),\n",
       " (u' Mexican Rice III ', u'73303'),\n",
       " (u' Eggplant Burgers ', u'53577'),\n",
       " (u' Milk Cracker Stuffing ', u'23417'),\n",
       " (u\" Momma's Poor Man's Lasagne \", u'218879'),\n",
       " (u' Baked Kale Chips ', u'176957'),\n",
       " (u' Zucchini Chips ', u'232278'),\n",
       " (u' Molasses Cookies ', u'9311'),\n",
       " (u' Roasted Brussels Sprouts ', u'67952'),\n",
       " (u' Pumpkin Smoothie ', u'142434'),\n",
       " (u' Colored Sugar ', u'24421'),\n",
       " (u' Condensed Milk Chocolate Frosting ', u'10327'),\n",
       " (u' Whole Wheat Pumpkin-Applesauce Muffins ', u'55334')]"
      ]
     },
     "execution_count": 171,
     "metadata": {},
     "output_type": "execute_result"
    }
   ],
   "source": [
    "# To summarize\n",
    "madeit_names_list = [a.text for a in collections.OrderedDict.fromkeys(soup.select('article.grid-col--fixed-tiles div.ng-scope h3.grid-col__h3--recipe-grid a.ng-scope')) if a.text != ' ']\n",
    "madeit_recipe_ID_list = [a.split('/')[2] for a in collections.OrderedDict.fromkeys([a.attrs['data-ng-href'] for a in soup.select('article.grid-col--fixed-tiles div.ng-scope h3.grid-col__h3--recipe-grid a.ng-scope')])]\n",
    "dict(zip(madeit_names_list, madeit_recipe_ID_list))"
   ]
  },
  {
   "cell_type": "code",
   "execution_count": null,
   "metadata": {
    "collapsed": true
   },
   "outputs": [],
   "source": [
    "# FYI: the \"more\" button for the next page: \n",
    "# <button data-ng-click=\"getItems()\" data-ng-disabled=\"disableMore\" data-ng-hide=\"hideMore\" class=\"btns-one-small--bottom-margin ng-click-active\" id=\"moreBtn\">More</button>"
   ]
  },
  {
   "cell_type": "code",
   "execution_count": 165,
   "metadata": {
    "ExecuteTime": {
     "end_time": "2017-03-24T18:18:26.071982",
     "start_time": "2017-03-24T11:18:25.457150-07:00"
    },
    "collapsed": true
   },
   "outputs": [],
   "source": [
    "allrecipes_db.command?"
   ]
  },
  {
   "cell_type": "code",
   "execution_count": 170,
   "metadata": {
    "ExecuteTime": {
     "end_time": "2017-03-25T20:14:49.030327",
     "start_time": "2017-03-25T13:14:48.497190-07:00"
    },
    "collapsed": false
   },
   "outputs": [
    {
     "data": {
      "text/plain": [
       "[u'favorites_page',\n",
       " u'following_page',\n",
       " u'reviews_recipe_id_list',\n",
       " u'reviews_dict',\n",
       " u'reviews_page',\n",
       " u'madeits_recipe_id_list',\n",
       " u'followers_page',\n",
       " u'favorites_dict',\n",
       " u'madeit_page',\n",
       " u'link',\n",
       " u'member_ID',\n",
       " u'favorites_recipe_id_list',\n",
       " u'_id',\n",
       " u'recipes_page',\n",
       " u'madeits_dict']"
      ]
     },
     "execution_count": 170,
     "metadata": {},
     "output_type": "execute_result"
    }
   ],
   "source": [
    "members_coll.find_one().keys()"
   ]
  },
  {
   "cell_type": "markdown",
   "metadata": {},
   "source": [
    "____\n",
    "### Added function to `scraper` class to populate 'made-it' data in database. \n",
    "___"
   ]
  },
  {
   "cell_type": "code",
   "execution_count": 168,
   "metadata": {
    "ExecuteTime": {
     "end_time": "2017-03-25T19:46:05.149225",
     "start_time": "2017-03-25T12:46:04.685292-07:00"
    },
    "collapsed": true
   },
   "outputs": [],
   "source": [
    "no_madeitlist_docs_cursor = members_coll.find({\"member_ID\": {\"$exists\":True},\n",
    "                                                \"madeits_dict\": {\"$exists\": False}},[\"member_ID\"])"
   ]
  },
  {
   "cell_type": "code",
   "execution_count": 169,
   "metadata": {
    "ExecuteTime": {
     "end_time": "2017-03-25T19:46:11.926944",
     "start_time": "2017-03-25T12:46:11.594138-07:00"
    },
    "collapsed": false
   },
   "outputs": [
    {
     "data": {
      "text/plain": [
       "0"
      ]
     },
     "execution_count": 169,
     "metadata": {},
     "output_type": "execute_result"
    }
   ],
   "source": [
    "no_madeitlist_docs_cursor.count()"
   ]
  },
  {
   "cell_type": "code",
   "execution_count": null,
   "metadata": {
    "collapsed": true
   },
   "outputs": [],
   "source": [
    "boo,"
   ]
  }
 ],
 "metadata": {
  "kernelspec": {
   "display_name": "Python [conda env:python2]",
   "language": "python",
   "name": "conda-env-python2-py"
  },
  "language_info": {
   "codemirror_mode": {
    "name": "ipython",
    "version": 2
   },
   "file_extension": ".py",
   "mimetype": "text/x-python",
   "name": "python",
   "nbconvert_exporter": "python",
   "pygments_lexer": "ipython2",
   "version": "2.7.13"
  }
 },
 "nbformat": 4,
 "nbformat_minor": 2
}
