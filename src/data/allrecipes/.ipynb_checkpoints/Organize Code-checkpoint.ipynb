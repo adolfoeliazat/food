{
 "cells": [
  {
   "cell_type": "markdown",
   "metadata": {},
   "source": [
    "# Organizing and document code \n"
   ]
  },
  {
   "cell_type": "code",
   "execution_count": 1,
   "metadata": {
    "ExecuteTime": {
     "end_time": "2017-06-22T01:33:10.988292Z",
     "start_time": "2017-06-21T18:33:09.584921-07:00"
    },
    "collapsed": true
   },
   "outputs": [],
   "source": [
    "import pymongo \n",
    "import sys \n",
    "sys.path.insert(0,'../..')\n",
    "import main"
   ]
  },
  {
   "cell_type": "code",
   "execution_count": 2,
   "metadata": {
    "ExecuteTime": {
     "end_time": "2017-06-22T01:33:21.168527Z",
     "start_time": "2017-06-21T18:33:21.122971-07:00"
    }
   },
   "outputs": [
    {
     "data": {
      "text/plain": [
       "['__init__',\n",
       " 'get_community_members',\n",
       " 'get_community_members_continue',\n",
       " 'get_community_page_scrolled',\n",
       " 'get_member_pages',\n",
       " 'get_page_from_list',\n",
       " 'use_firefox',\n",
       " 'use_phantom']"
      ]
     },
     "execution_count": 2,
     "metadata": {},
     "output_type": "execute_result"
    }
   ],
   "source": [
    "import inspect\n",
    "# Get list of methods in `scraper`\n",
    "[a[0] for a in inspect.getmembers(main.Scraper, inspect.ismethod)]"
   ]
  },
  {
   "cell_type": "code",
   "execution_count": 3,
   "metadata": {
    "ExecuteTime": {
     "end_time": "2017-06-22T01:33:21.314886Z",
     "start_time": "2017-06-21T18:33:21.278433-07:00"
    }
   },
   "outputs": [
    {
     "data": {
      "text/plain": [
       "['__init__',\n",
       " 'check_member_records',\n",
       " 'get_aboutme_data',\n",
       " 'get_favorites_data',\n",
       " 'get_followers_data',\n",
       " 'get_following_data',\n",
       " 'get_madeits_data',\n",
       " 'get_member_list_to_parse',\n",
       " 'get_member_nutrition_summary',\n",
       " 'get_member_parsed_data',\n",
       " 'get_members_aboutme_from_pkl',\n",
       " 'get_members_favorites',\n",
       " 'get_members_followers',\n",
       " 'get_members_following',\n",
       " 'get_members_madeits',\n",
       " 'get_members_reviews',\n",
       " 'get_recipe_data',\n",
       " 'get_recipe_nutrition',\n",
       " 'get_recipe_pkl_page_from_aws',\n",
       " 'get_recipes_coll_info',\n",
       " 'get_reviews_data',\n",
       " 'insert_all_nutrition_info',\n",
       " 'parse_recipe_data']"
      ]
     },
     "execution_count": 3,
     "metadata": {},
     "output_type": "execute_result"
    }
   ],
   "source": [
    "# Get list of methods in `Parser`\n",
    "[a[0] for a in inspect.getmembers(main.Parser, inspect.ismethod)]"
   ]
  },
  {
   "cell_type": "markdown",
   "metadata": {},
   "source": [
    "## Check: \n",
    "\n",
    "- Do all recipes documents have pages? \n",
    "- If so, do they have the rest of the data?  If not, populate. "
   ]
  },
  {
   "cell_type": "code",
   "execution_count": 6,
   "metadata": {
    "ExecuteTime": {
     "end_time": "2017-06-22T01:58:33.170535Z",
     "start_time": "2017-06-21T18:58:33.124586-07:00"
    },
    "collapsed": true
   },
   "outputs": [],
   "source": [
    "client = pymongo.MongoClient('mongodb://localhost/27017')\n",
    "allrecipes_db = client.allrecipes\n",
    "recipes_coll = allrecipes_db.recipes"
   ]
  },
  {
   "cell_type": "code",
   "execution_count": null,
   "metadata": {
    "ExecuteTime": {
     "start_time": "2017-06-22T01:58:51.667Z"
    }
   },
   "outputs": [],
   "source": [
    "recipes_w_directions = [a['recipe_ID'] for a in recipes_coll.find({'directions_list':\n",
    "                                               {\"$exists\":True,\"$not\": {\"$size\": 0}}})]"
   ]
  },
  {
   "cell_type": "code",
   "execution_count": null,
   "metadata": {
    "ExecuteTime": {
     "start_time": "2017-06-22T02:00:04.418Z"
    },
    "collapsed": true
   },
   "outputs": [],
   "source": [
    "recipes_wo_directions = [a['recipe_ID'] for a in recipes_coll.find({'directions_list':\n",
    "                                               {\"$exists\":True,\"$size\": 0}})]"
   ]
  },
  {
   "cell_type": "code",
   "execution_count": null,
   "metadata": {
    "collapsed": true
   },
   "outputs": [],
   "source": []
  }
 ],
 "metadata": {
  "kernelspec": {
   "display_name": "Python [conda env:python2]",
   "language": "python",
   "name": "conda-env-python2-py"
  },
  "language_info": {
   "codemirror_mode": {
    "name": "ipython",
    "version": 2
   },
   "file_extension": ".py",
   "mimetype": "text/x-python",
   "name": "python",
   "nbconvert_exporter": "python",
   "pygments_lexer": "ipython2",
   "version": "2.7.13"
  }
 },
 "nbformat": 4,
 "nbformat_minor": 2
}
