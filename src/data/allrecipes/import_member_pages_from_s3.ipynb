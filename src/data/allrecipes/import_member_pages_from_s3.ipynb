{
 "cells": [
  {
   "cell_type": "markdown",
   "metadata": {},
   "source": [
    "# Import member pages "
   ]
  },
  {
   "cell_type": "code",
   "execution_count": null,
   "metadata": {
    "ExecuteTime": {
     "start_time": "2017-06-26T07:22:11.950Z"
    },
    "collapsed": true
   },
   "outputs": [],
   "source": [
    "import pymongo \n",
    "import sys \n",
    "sys.path.insert(0,'../..')\n",
    "import main"
   ]
  },
  {
   "cell_type": "code",
   "execution_count": 1,
   "metadata": {
    "ExecuteTime": {
     "end_time": "2017-06-26T07:21:16.992135Z",
     "start_time": "2017-06-26T00:21:11.465404-07:00"
    },
    "scrolled": true
   },
   "outputs": [
    {
     "name": "stderr",
     "output_type": "stream",
     "text": [
      "[autoreload of tornado.concurrent failed: Traceback (most recent call last):\n",
      "  File \"/Users/User1/anaconda/envs/python2/lib/python2.7/site-packages/IPython/extensions/autoreload.py\", line 247, in check\n",
      "    superreload(m, reload, self.old_objects)\n",
      "ImportError: cannot import name is_finalizing\n",
      "]\n",
      "[autoreload of ipykernel.kernelbase failed: Traceback (most recent call last):\n",
      "  File \"/Users/User1/anaconda/envs/python2/lib/python2.7/site-packages/IPython/extensions/autoreload.py\", line 247, in check\n",
      "    superreload(m, reload, self.old_objects)\n",
      "ImportError: cannot import name py3compat\n",
      "]\n",
      "[autoreload of ipykernel.kernelapp failed: Traceback (most recent call last):\n",
      "  File \"/Users/User1/anaconda/envs/python2/lib/python2.7/site-packages/IPython/extensions/autoreload.py\", line 247, in check\n",
      "    superreload(m, reload, self.old_objects)\n",
      "ImportError: cannot import name ioloop\n",
      "]\n",
      "[autoreload of ipykernel.zmqshell failed: Traceback (most recent call last):\n",
      "  File \"/Users/User1/anaconda/envs/python2/lib/python2.7/site-packages/IPython/extensions/autoreload.py\", line 247, in check\n",
      "    superreload(m, reload, self.old_objects)\n",
      "ImportError: cannot import name ioloop\n",
      "]\n",
      "[autoreload of ipython_genutils.path failed: Traceback (most recent call last):\n",
      "  File \"/Users/User1/anaconda/envs/python2/lib/python2.7/site-packages/IPython/extensions/autoreload.py\", line 247, in check\n",
      "    superreload(m, reload, self.old_objects)\n",
      "ImportError: cannot import name py3compat\n",
      "]\n",
      "[autoreload of prompt_toolkit.layout.containers failed: Traceback (most recent call last):\n",
      "  File \"/Users/User1/anaconda/envs/python2/lib/python2.7/site-packages/IPython/extensions/autoreload.py\", line 247, in check\n",
      "    superreload(m, reload, self.old_objects)\n",
      "AssertionError: Expecting filter, got EmacsInsertMode()\n",
      "]\n",
      "[autoreload of ipykernel.iostream failed: Traceback (most recent call last):\n",
      "  File \"/Users/User1/anaconda/envs/python2/lib/python2.7/site-packages/IPython/extensions/autoreload.py\", line 247, in check\n",
      "    superreload(m, reload, self.old_objects)\n",
      "ImportError: cannot import name py3compat\n",
      "]\n",
      "[autoreload of concurrent.futures.thread failed: Traceback (most recent call last):\n",
      "  File \"/Users/User1/anaconda/envs/python2/lib/python2.7/site-packages/IPython/extensions/autoreload.py\", line 247, in check\n",
      "    superreload(m, reload, self.old_objects)\n",
      "ImportError: cannot import name _base\n",
      "]\n",
      "[autoreload of tornado.ioloop failed: Traceback (most recent call last):\n",
      "  File \"/Users/User1/anaconda/envs/python2/lib/python2.7/site-packages/IPython/extensions/autoreload.py\", line 247, in check\n",
      "    superreload(m, reload, self.old_objects)\n",
      "ImportError: cannot import name stack_context\n",
      "]\n"
     ]
    }
   ],
   "source": [
    "import scraper\n",
    "import inspect"
   ]
  },
  {
   "cell_type": "code",
   "execution_count": 101,
   "metadata": {
    "ExecuteTime": {
     "end_time": "2017-06-20T03:35:31.005448",
     "start_time": "2017-06-19T20:35:30.933740-07:00"
    }
   },
   "outputs": [
    {
     "data": {
      "text/plain": [
       "['__init__',\n",
       " 'get_community_members',\n",
       " 'get_community_members_continue',\n",
       " 'get_community_page_scrolled',\n",
       " 'get_member_pages',\n",
       " 'get_page_from_list',\n",
       " 'use_firefox',\n",
       " 'use_phantom']"
      ]
     },
     "execution_count": 101,
     "metadata": {},
     "output_type": "execute_result"
    }
   ],
   "source": [
    "# Get list of methods in `scraper`\n",
    "[a[0] for a in inspect.getmembers(scraper.Scraper, inspect.ismethod)]"
   ]
  },
  {
   "cell_type": "code",
   "execution_count": 102,
   "metadata": {
    "ExecuteTime": {
     "end_time": "2017-06-20T03:35:32.607576",
     "start_time": "2017-06-19T20:35:32.567408-07:00"
    }
   },
   "outputs": [
    {
     "data": {
      "text/plain": [
       "['__init__',\n",
       " 'check_member_records',\n",
       " 'get_aboutme_data',\n",
       " 'get_favorites_data',\n",
       " 'get_followers_data',\n",
       " 'get_following_data',\n",
       " 'get_html',\n",
       " 'get_madeits_data',\n",
       " 'get_member_list_to_parse',\n",
       " 'get_member_parsed_data',\n",
       " 'get_members_aboutme_from_pkl',\n",
       " 'get_members_favorites',\n",
       " 'get_members_followers',\n",
       " 'get_members_following',\n",
       " 'get_members_madeits',\n",
       " 'get_members_reviews',\n",
       " 'get_recipe_data',\n",
       " 'get_recipe_pkl_page_from_aws',\n",
       " 'get_reviews_data']"
      ]
     },
     "execution_count": 102,
     "metadata": {},
     "output_type": "execute_result"
    }
   ],
   "source": [
    "# Get list of methods in `Parser`\n",
    "[a[0] for a in inspect.getmembers(scraper.Parser, inspect.ismethod)]"
   ]
  },
  {
   "cell_type": "code",
   "execution_count": 103,
   "metadata": {
    "ExecuteTime": {
     "end_time": "2017-06-20T03:35:36.714125",
     "start_time": "2017-06-19T20:35:36.676283-07:00"
    },
    "collapsed": true
   },
   "outputs": [],
   "source": [
    "# Create method `get_member_pages_from_S3` "
   ]
  },
  {
   "cell_type": "code",
   "execution_count": 104,
   "metadata": {
    "ExecuteTime": {
     "end_time": "2017-06-20T03:35:37.752626",
     "start_time": "2017-06-19T20:35:37.692048-07:00"
    },
    "collapsed": true
   },
   "outputs": [],
   "source": [
    "import pymongo \n",
    "import boto3\n",
    "import os \n",
    "import json\n",
    "AWS_KEY = os.environ['AWS_ACCESS_KEY']\n",
    "AWS_SECRET = os.environ['AWS_SECRET_ACCESS_KEY'] "
   ]
  },
  {
   "cell_type": "code",
   "execution_count": 22,
   "metadata": {
    "ExecuteTime": {
     "end_time": "2017-06-19T22:24:08.806724",
     "start_time": "2017-06-19T15:24:08.663563-07:00"
    }
   },
   "outputs": [],
   "source": [
    "client = pymongo.MongoClient(\"mongodb://localhost:27017/\")\n",
    "allrecipes_db = client.allrecipes\n",
    "member_pages_coll = allrecipes_db.member_pages\n",
    "about_coll = allrecipes_db.about\n"
   ]
  },
  {
   "cell_type": "markdown",
   "metadata": {
    "ExecuteTime": {
     "end_time": "2017-06-20T03:52:03.378202",
     "start_time": "2017-06-19T20:52:02.940959-07:00"
    }
   },
   "source": [
    "# Create index based on member_ID for member_pages_coll \n",
    "``` \n",
    "member_pages_coll.create_index([('member_ID',pymongo.ASCENDING)], unique=True)\n",
    "```"
   ]
  },
  {
   "cell_type": "code",
   "execution_count": 23,
   "metadata": {
    "ExecuteTime": {
     "end_time": "2017-06-19T22:24:29.625245",
     "start_time": "2017-06-19T15:24:28.941222-07:00"
    },
    "collapsed": true
   },
   "outputs": [],
   "source": [
    " # Open s3 session with boto3 and get files in 'member_pages/'\n",
    "session = boto3.Session(aws_access_key_id=AWS_KEY, aws_secret_access_key=AWS_SECRET)\n",
    "s3 = session.resource('s3')\n",
    "\n",
    "mybucket = s3.Bucket('ohailolcat')\n",
    "# Gets all objects passed through filter\n",
    "member_page_files = [a.key for a in mybucket.objects.filter(Prefix='member_pages/')]"
   ]
  },
  {
   "cell_type": "code",
   "execution_count": 26,
   "metadata": {
    "ExecuteTime": {
     "end_time": "2017-06-19T22:27:50.255538",
     "start_time": "2017-06-19T15:27:50.200630-07:00"
    }
   },
   "outputs": [
    {
     "data": {
      "text/plain": [
       "521"
      ]
     },
     "execution_count": 26,
     "metadata": {},
     "output_type": "execute_result"
    }
   ],
   "source": [
    "print len(member_page_files)"
   ]
  },
  {
   "cell_type": "code",
   "execution_count": 28,
   "metadata": {
    "ExecuteTime": {
     "end_time": "2017-06-19T22:32:48.874751",
     "start_time": "2017-06-19T15:32:48.807717-07:00"
    }
   },
   "outputs": [
    {
     "data": {
      "text/plain": [
       "u'member_pages/10090853_pages.pkl'"
      ]
     },
     "execution_count": 28,
     "metadata": {},
     "output_type": "execute_result"
    }
   ],
   "source": [
    "member_page_files[0]"
   ]
  },
  {
   "cell_type": "code",
   "execution_count": 47,
   "metadata": {
    "ExecuteTime": {
     "end_time": "2017-06-19T22:44:59.404571",
     "start_time": "2017-06-19T15:44:59.210742-07:00"
    },
    "collapsed": true
   },
   "outputs": [],
   "source": [
    "# These are cPickle files \n",
    "import cPickle"
   ]
  },
  {
   "cell_type": "code",
   "execution_count": 74,
   "metadata": {
    "ExecuteTime": {
     "end_time": "2017-06-19T23:26:08.468413",
     "start_time": "2017-06-19T16:26:08.413316-07:00"
    }
   },
   "outputs": [
    {
     "data": {
      "text/plain": [
       "s3.Bucket.objectsCollection(s3.Bucket(name='ohailolcat'), s3.ObjectSummary)"
      ]
     },
     "execution_count": 74,
     "metadata": {},
     "output_type": "execute_result"
    }
   ],
   "source": [
    "# Create an iterable of filtered ObjectSummary resources\n",
    "mybucket.objects.filter(Prefix='member_pages/')"
   ]
  },
  {
   "cell_type": "code",
   "execution_count": 129,
   "metadata": {
    "ExecuteTime": {
     "end_time": "2017-06-20T12:15:31.666584",
     "start_time": "2017-06-20T05:15:29.078285-07:00"
    },
    "collapsed": true
   },
   "outputs": [],
   "source": [
    "# Collect all objectsummaries\n",
    "memberfilesummary = [a for a in mybucket.objects.filter(Prefix='member_pages/')]"
   ]
  },
  {
   "cell_type": "code",
   "execution_count": 130,
   "metadata": {
    "ExecuteTime": {
     "end_time": "2017-06-20T12:15:34.325573",
     "start_time": "2017-06-20T05:15:34.282624-07:00"
    }
   },
   "outputs": [
    {
     "data": {
      "text/plain": [
       "s3.ObjectSummary(bucket_name='ohailolcat', key=u'member_pages/10090853_pages.pkl')"
      ]
     },
     "execution_count": 130,
     "metadata": {},
     "output_type": "execute_result"
    }
   ],
   "source": [
    "memberfilesummary[0]"
   ]
  },
  {
   "cell_type": "code",
   "execution_count": 131,
   "metadata": {
    "ExecuteTime": {
     "end_time": "2017-06-20T12:15:46.227322",
     "start_time": "2017-06-20T05:15:44.435626-07:00"
    },
    "collapsed": true
   },
   "outputs": [],
   "source": [
    "# Read the 'Body' of object\n",
    "memfile = memberfilesummary[0].get()['Body'].read()"
   ]
  },
  {
   "cell_type": "code",
   "execution_count": 132,
   "metadata": {
    "ExecuteTime": {
     "end_time": "2017-06-20T12:15:46.302925",
     "start_time": "2017-06-20T05:15:46.229522-07:00"
    },
    "collapsed": true
   },
   "outputs": [],
   "source": [
    "# Unpickle the string \n",
    "pklfile = cPickle.loads(memfile)"
   ]
  },
  {
   "cell_type": "code",
   "execution_count": 133,
   "metadata": {
    "ExecuteTime": {
     "end_time": "2017-06-20T12:15:47.592248",
     "start_time": "2017-06-20T05:15:47.555641-07:00"
    }
   },
   "outputs": [
    {
     "data": {
      "text/plain": [
       "['favorites_page',\n",
       " 'reviews_page',\n",
       " 'followers_page',\n",
       " 'madeit_page',\n",
       " 'member_ID',\n",
       " 'recipes_page',\n",
       " 'following_page',\n",
       " 'aboutme_page']"
      ]
     },
     "execution_count": 133,
     "metadata": {},
     "output_type": "execute_result"
    }
   ],
   "source": [
    "pklfile.keys()"
   ]
  },
  {
   "cell_type": "code",
   "execution_count": 134,
   "metadata": {
    "ExecuteTime": {
     "end_time": "2017-06-20T12:15:57.749554",
     "start_time": "2017-06-20T05:15:57.427892-07:00"
    }
   },
   "outputs": [
    {
     "data": {
      "text/plain": [
       "[u'favorites_page',\n",
       " u'following_page',\n",
       " u'reviews_page',\n",
       " u'aboutme_page',\n",
       " u'madeit_page',\n",
       " u'link',\n",
       " u'member_ID',\n",
       " u'followers_page',\n",
       " u'_id',\n",
       " u'recipes_page']"
      ]
     },
     "execution_count": 134,
     "metadata": {},
     "output_type": "execute_result"
    }
   ],
   "source": [
    "# compare with member_pages_coll document contents\n",
    "member_pages_coll.find_one().keys()"
   ]
  },
  {
   "cell_type": "code",
   "execution_count": 135,
   "metadata": {
    "ExecuteTime": {
     "end_time": "2017-06-20T12:16:38.533323",
     "start_time": "2017-06-20T05:16:38.475989-07:00"
    }
   },
   "outputs": [],
   "source": [
    "# All the keys are the same except `link` and `_id`, which is okay.  \n",
    "\n",
    "def get_member_pages_from_s3(memlist=None): \n",
    "    \"\"\"Given a list of member_IDs, populate member_pages_coll with data from files in \n",
    "    member_pages/\"\"\"\n",
    "    if not memlist: \n",
    "        memlist = [a.key for a in mybucket.objects.filter(Prefix='member_pages/')]\n",
    "    print \"number of files in s3 bucket:\", len(memlist)\n",
    "    print \"number of docs in member_pages_coll\", member_pages_coll.count()\n",
    "    member_pages_memlist = [a['member_ID'] for a in member_pages_coll.find()]\n",
    "    # member_pages_coll.ensureIndex({name: 1, nodes: 1}, {unique: true, dropDups: true})\n",
    "    # member_pages_coll.ensure_index({\"member_ID\": 1}, {unique:}) .... \n",
    "    # to_get = set(memlist) - set(member_pages_memlist)\n",
    "    # print \"files to get:\", len(to_get)\n",
    "    for i,a in enumerate(mybucket.objects.filter(Prefix='member_pages/')): \n",
    "        memdata = cPickle.loads(a.get()['Body'].read())\n",
    "        if memdata[\"member_ID\"] not in member_pages_memlist:\n",
    "            print \"{} Inserting: {}\".format(i, memdata[\"member_ID\"])\n",
    "            member_pages_coll.insert_one(memdata)"
   ]
  },
  {
   "cell_type": "code",
   "execution_count": 136,
   "metadata": {
    "ExecuteTime": {
     "end_time": "2017-06-20T12:29:04.474037",
     "start_time": "2017-06-20T05:16:42.895779-07:00"
    }
   },
   "outputs": [
    {
     "name": "stdout",
     "output_type": "stream",
     "text": [
      "number of files in s3 bucket: 611\n",
      "number of docs in member_pages_coll 1340\n",
      "485 Inserting: 79shale97\n",
      "522 Inserting: alanjswan\n",
      "523 Inserting: alleyworld\n",
      "524 Inserting: arcally\n",
      "525 Inserting: bakingnana\n",
      "526 Inserting: bdweld\n",
      "527 Inserting: bookmarker\n",
      "528 Inserting: celeste\n",
      "529 Inserting: chefbourne\n",
      "530 Inserting: chrisdukes\n",
      "531 Inserting: cookingsweetheat\n",
      "532 Inserting: crystalmeth\n",
      "533 Inserting: cynth\n",
      "534 Inserting: dabratcarol\n",
      "535 Inserting: daddio-on-patio\n",
      "536 Inserting: debbiedoo\n",
      "537 Inserting: dianea\n",
      "538 Inserting: dluttmann\n",
      "539 Inserting: docsimonson\n",
      "540 Inserting: duboo\n",
      "541 Inserting: dwfalls78\n",
      "542 Inserting: eake\n",
      "543 Inserting: elizabeth\n",
      "544 Inserting: emerggirl\n",
      "545 Inserting: eyeluv2katz\n",
      "546 Inserting: fitgal318\n",
      "547 Inserting: foodaholic\n",
      "548 Inserting: frackfamily5\n",
      "549 Inserting: gails\n",
      "550 Inserting: gottaloveit\n",
      "551 Inserting: gourmetshand\n",
      "552 Inserting: grumpygrandpa\n",
      "553 Inserting: hansonmansion\n",
      "554 Inserting: iceemama\n",
      "555 Inserting: jhaan\n",
      "556 Inserting: josephineroeper\n",
      "557 Inserting: jtterwelp\n",
      "558 Inserting: judy2304\n",
      "559 Inserting: juliedarby\n",
      "560 Inserting: karleen\n",
      "561 Inserting: kathiebrundege\n",
      "562 Inserting: kathylee\n",
      "563 Inserting: kirbyzmom\n",
      "564 Inserting: kootenaycook\n",
      "565 Inserting: laraewhyte\n",
      "566 Inserting: lauraann1115\n",
      "567 Inserting: lightedway\n",
      "568 Inserting: lisaanneaster\n",
      "569 Inserting: livlovestoeat\n",
      "570 Inserting: lobster\n",
      "571 Inserting: louisvillehugger\n",
      "572 Inserting: luckynoodles\n",
      "573 Inserting: lucyf1\n",
      "574 Inserting: marcyy\n",
      "575 Inserting: marianne1\n",
      "576 Inserting: maryellen\n",
      "577 Inserting: marysunshine1\n",
      "578 Inserting: milsoekend\n",
      "579 Inserting: missourifarmwife\n",
      "580 Inserting: motherann\n",
      "581 Inserting: nerdgirl\n",
      "582 Inserting: nicholio\n",
      "583 Inserting: oldfashionedfoodie\n",
      "584 Inserting: palysiak\n",
      "585 Inserting: pattyz\n",
      "586 Inserting: redravenkitchen\n",
      "587 Inserting: rendobina\n",
      "588 Inserting: rocklobster\n",
      "589 Inserting: rosie-0-toole\n",
      "590 Inserting: run_shelley\n",
      "591 Inserting: sandra2\n",
      "592 Inserting: sandra3\n",
      "593 Inserting: shay10\n",
      "594 Inserting: shorecook\n",
      "595 Inserting: simplysundays\n",
      "596 Inserting: slg\n",
      "597 Inserting: souy\n",
      "598 Inserting: spike\n",
      "599 Inserting: spock\n",
      "600 Inserting: steelmagnolia\n",
      "601 Inserting: supernaturalfan\n",
      "602 Inserting: susiewixon\n",
      "603 Inserting: sweetsavouryfoodie\n",
      "604 Inserting: szyq11\n",
      "605 Inserting: t1ina\n",
      "606 Inserting: thechefsisters\n",
      "607 Inserting: theempathiccook\n",
      "608 Inserting: vabluegrass\n",
      "609 Inserting: whitwhit\n",
      "610 Inserting: youonlyliveonce\n"
     ]
    }
   ],
   "source": [
    "get_member_pages_from_s3()"
   ]
  },
  {
   "cell_type": "code",
   "execution_count": 127,
   "metadata": {
    "ExecuteTime": {
     "end_time": "2017-06-20T04:13:22.827952",
     "start_time": "2017-06-19T21:13:22.682354-07:00"
    }
   },
   "outputs": [],
   "source": [
    "docswolink = list(member_pages_coll.find({'aboutme_page':{\"$exists\": False}}))"
   ]
  },
  {
   "cell_type": "code",
   "execution_count": 128,
   "metadata": {
    "ExecuteTime": {
     "end_time": "2017-06-20T04:13:25.031514",
     "start_time": "2017-06-19T21:13:24.972140-07:00"
    }
   },
   "outputs": [
    {
     "data": {
      "text/plain": [
       "0"
      ]
     },
     "execution_count": 128,
     "metadata": {},
     "output_type": "execute_result"
    }
   ],
   "source": [
    "len(docswolink)"
   ]
  },
  {
   "cell_type": "code",
   "execution_count": 111,
   "metadata": {
    "ExecuteTime": {
     "end_time": "2017-06-20T03:45:54.945108",
     "start_time": "2017-06-19T20:45:54.799356-07:00"
    },
    "collapsed": true
   },
   "outputs": [],
   "source": [
    "docswolink_ids = [a['_id'] for a in docswolink]"
   ]
  },
  {
   "cell_type": "code",
   "execution_count": 137,
   "metadata": {
    "ExecuteTime": {
     "end_time": "2017-06-20T12:31:42.442604",
     "start_time": "2017-06-20T05:31:42.072936-07:00"
    }
   },
   "outputs": [
    {
     "data": {
      "text/plain": [
       "1430"
      ]
     },
     "execution_count": 137,
     "metadata": {},
     "output_type": "execute_result"
    }
   ],
   "source": [
    "member_pages_coll.count()"
   ]
  },
  {
   "cell_type": "code",
   "execution_count": null,
   "metadata": {
    "collapsed": true
   },
   "outputs": [],
   "source": [
    "m"
   ]
  }
 ],
 "metadata": {
  "kernelspec": {
   "display_name": "Python [conda env:python2]",
   "language": "python",
   "name": "conda-env-python2-py"
  },
  "language_info": {
   "codemirror_mode": {
    "name": "ipython",
    "version": 2
   },
   "file_extension": ".py",
   "mimetype": "text/x-python",
   "name": "python",
   "nbconvert_exporter": "python",
   "pygments_lexer": "ipython2",
   "version": "2.7.13"
  }
 },
 "nbformat": 4,
 "nbformat_minor": 2
}
