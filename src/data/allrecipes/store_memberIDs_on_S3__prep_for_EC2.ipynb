{
 "cells": [
  {
   "cell_type": "markdown",
   "metadata": {},
   "source": [
    "# Prepare S3 bucket to member pages \n",
    "\n",
    "1. Store list of scraped member pages as json file in S3 bucket. \n",
    "1. Get list of members to scrape-- \"Following\", \"followed\" people in members.  Before I do that, I need to restore member data lost in database.   \n"
   ]
  },
  {
   "cell_type": "code",
   "execution_count": 1,
   "metadata": {
    "ExecuteTime": {
     "end_time": "2017-06-16T19:22:11.297710",
     "start_time": "2017-06-16T12:22:09.086018-07:00"
    },
    "collapsed": true
   },
   "outputs": [],
   "source": [
    "import pymongo \n",
    "from bs4 import BeautifulSoup as BS\n",
    "import scraper\n",
    "import boto3\n",
    "import os \n",
    "import json\n",
    "AWS_KEY = os.environ['AWS_ACCESS_KEY']\n",
    "AWS_SECRET = os.environ['AWS_SECRET_ACCESS_KEY'] "
   ]
  },
  {
   "cell_type": "code",
   "execution_count": 7,
   "metadata": {
    "ExecuteTime": {
     "end_time": "2017-06-16T19:22:43.816032",
     "start_time": "2017-06-16T12:22:43.782503-07:00"
    },
    "collapsed": true
   },
   "outputs": [],
   "source": [
    "client = pymongo.MongoClient(\"mongodb://localhost:27017/\")\n",
    "allrecipes_db = client.allrecipes"
   ]
  },
  {
   "cell_type": "code",
   "execution_count": 8,
   "metadata": {
    "ExecuteTime": {
     "end_time": "2017-06-16T19:22:44.525554",
     "start_time": "2017-06-16T12:22:44.485466-07:00"
    },
    "collapsed": false
   },
   "outputs": [
    {
     "data": {
      "text/plain": [
       "[u'community_link_pages',\n",
       " u'recipes',\n",
       " u'member_pages',\n",
       " u'members',\n",
       " u'webpages',\n",
       " u'healthy_recipes',\n",
       " u'about',\n",
       " u'community_page']"
      ]
     },
     "execution_count": 8,
     "metadata": {},
     "output_type": "execute_result"
    }
   ],
   "source": [
    "allrecipes_db.collection_names()"
   ]
  },
  {
   "cell_type": "code",
   "execution_count": 9,
   "metadata": {
    "ExecuteTime": {
     "end_time": "2017-06-16T19:23:02.067109",
     "start_time": "2017-06-16T12:23:02.011164-07:00"
    },
    "collapsed": true
   },
   "outputs": [],
   "source": [
    "member_pages_coll = allrecipes_db.member_pages"
   ]
  },
  {
   "cell_type": "code",
   "execution_count": 10,
   "metadata": {
    "ExecuteTime": {
     "end_time": "2017-06-16T19:23:06.028598",
     "start_time": "2017-06-16T12:23:05.542377-07:00"
    },
    "collapsed": true
   },
   "outputs": [],
   "source": [
    " # Open s3 session with boto3\n",
    "session = boto3.Session(aws_access_key_id=AWS_KEY, aws_secret_access_key=AWS_SECRET)\n",
    "s3 = session.resource('s3')"
   ]
  },
  {
   "cell_type": "code",
   "execution_count": 11,
   "metadata": {
    "ExecuteTime": {
     "end_time": "2017-06-16T19:23:06.112469",
     "start_time": "2017-06-16T12:23:06.057276-07:00"
    },
    "collapsed": true
   },
   "outputs": [],
   "source": [
    "# Select bucket \n",
    "mybucket = s3.Bucket('ohailolcat')"
   ]
  },
  {
   "cell_type": "code",
   "execution_count": 12,
   "metadata": {
    "ExecuteTime": {
     "end_time": "2017-06-16T19:23:17.018387",
     "start_time": "2017-06-16T12:23:08.225849-07:00"
    },
    "collapsed": false
   },
   "outputs": [],
   "source": [
    "# Dump scraped member_IDs to a json file \n",
    "with open('members_list.json', 'w') as f: \n",
    "    json.dump({\"members_in_mongodb\":[page['member_ID'] \n",
    "         for page in member_pages_coll.find({'member_ID':{'$exists':True}},['member_ID'])]},f)\n"
   ]
  },
  {
   "cell_type": "code",
   "execution_count": 14,
   "metadata": {
    "ExecuteTime": {
     "end_time": "2017-06-16T19:24:04.639869",
     "start_time": "2017-06-16T12:24:04.597692-07:00"
    },
    "collapsed": false
   },
   "outputs": [
    {
     "data": {
      "text/plain": [
       "1340"
      ]
     },
     "execution_count": 14,
     "metadata": {},
     "output_type": "execute_result"
    }
   ],
   "source": [
    "# Verify \n",
    "with open('members_list.json','r') as f: \n",
    "    mlist = json.load(f)\n",
    "len(mlist.values()[0])"
   ]
  },
  {
   "cell_type": "code",
   "execution_count": 15,
   "metadata": {
    "ExecuteTime": {
     "end_time": "2017-06-16T19:24:36.533626",
     "start_time": "2017-06-16T12:24:35.877958-07:00"
    },
    "collapsed": true
   },
   "outputs": [],
   "source": [
    "# Upload to S3 \n",
    "mybucket.upload_file('members_list.json', 'members/mongo_list')"
   ]
  },
  {
   "cell_type": "code",
   "execution_count": 27,
   "metadata": {
    "ExecuteTime": {
     "end_time": "2017-06-16T19:36:47.571414",
     "start_time": "2017-06-16T12:36:46.606342-07:00"
    },
    "collapsed": false
   },
   "outputs": [],
   "source": [
    "s3_obj_list = session.client('s3').list_objects(Bucket='ohailolcat')"
   ]
  },
  {
   "cell_type": "code",
   "execution_count": 45,
   "metadata": {
    "ExecuteTime": {
     "end_time": "2017-06-16T19:44:55.829052",
     "start_time": "2017-06-16T12:44:55.778950-07:00"
    },
    "collapsed": false,
    "scrolled": true
   },
   "outputs": [
    {
     "data": {
      "text/plain": [
       "[u'members/mongo_list']"
      ]
     },
     "execution_count": 45,
     "metadata": {},
     "output_type": "execute_result"
    }
   ],
   "source": [
    "[a['Key'] for a in s3_obj_list['Contents'] if a['Key'].startswith('m')]"
   ]
  },
  {
   "cell_type": "code",
   "execution_count": 47,
   "metadata": {
    "ExecuteTime": {
     "end_time": "2017-06-16T19:45:46.631301",
     "start_time": "2017-06-16T12:45:46.238732-07:00"
    },
    "collapsed": false,
    "scrolled": true
   },
   "outputs": [],
   "source": [
    "# Download from s3: \n",
    "session.client('s3').download_file('ohailolcat', \n",
    "                                   'members/mongo_list', 'members_list_s3.json')"
   ]
  },
  {
   "cell_type": "code",
   "execution_count": 49,
   "metadata": {
    "ExecuteTime": {
     "end_time": "2017-06-16T19:46:30.424740",
     "start_time": "2017-06-16T12:46:30.384480-07:00"
    },
    "collapsed": true
   },
   "outputs": [],
   "source": [
    "with open('members_list_s3.json', 'r') as f: \n",
    "    s = json.load(f)"
   ]
  },
  {
   "cell_type": "code",
   "execution_count": 51,
   "metadata": {
    "ExecuteTime": {
     "end_time": "2017-06-16T19:47:17.604468",
     "start_time": "2017-06-16T12:47:17.530544-07:00"
    },
    "collapsed": false,
    "scrolled": true
   },
   "outputs": [
    {
     "data": {
      "text/plain": [
       "1340"
      ]
     },
     "execution_count": 51,
     "metadata": {},
     "output_type": "execute_result"
    }
   ],
   "source": [
    "len(s.values()[0])"
   ]
  }
 ],
 "metadata": {
  "kernelspec": {
   "display_name": "Python [conda env:python2]",
   "language": "python",
   "name": "conda-env-python2-py"
  },
  "language_info": {
   "codemirror_mode": {
    "name": "ipython",
    "version": 2
   },
   "file_extension": ".py",
   "mimetype": "text/x-python",
   "name": "python",
   "nbconvert_exporter": "python",
   "pygments_lexer": "ipython2",
   "version": "2.7.13"
  }
 },
 "nbformat": 4,
 "nbformat_minor": 2
}
