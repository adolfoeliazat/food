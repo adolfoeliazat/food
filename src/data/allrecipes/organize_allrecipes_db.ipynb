{
 "cells": [
  {
   "cell_type": "markdown",
   "metadata": {},
   "source": [
    "# Organize allrecipes database \n",
    "- Create appropriate unique indices (based on recipe_ID, member_ID, etc. ) \n",
    "- Check number of documents"
   ]
  },
  {
   "cell_type": "code",
   "execution_count": 2,
   "metadata": {
    "ExecuteTime": {
     "end_time": "2017-06-20T04:21:07.220842",
     "start_time": "2017-06-19T21:21:07.115279-07:00"
    },
    "collapsed": true
   },
   "outputs": [],
   "source": [
    "import pymongo \n",
    "client = pymongo.MongoClient(\"mongodb://localhost:27017/\")\n",
    "allrecipes_db = client.allrecipes\n",
    "member_pages_coll = allrecipes_db.member_pages\n",
    "members_coll = allrecipes_db.members\n",
    "recipes_coll = allrecipes_db.recipes\n",
    "about_coll = allrecipes_db.about"
   ]
  },
  {
   "cell_type": "code",
   "execution_count": 4,
   "metadata": {
    "ExecuteTime": {
     "end_time": "2017-06-20T04:24:14.777690",
     "start_time": "2017-06-19T21:23:46.689465-07:00"
    },
    "collapsed": false
   },
   "outputs": [
    {
     "data": {
      "text/plain": [
       "u'recipe_ID_1'"
      ]
     },
     "execution_count": 4,
     "metadata": {},
     "output_type": "execute_result"
    }
   ],
   "source": [
    "# Create appropriate unique indices (based on recipe_ID, member_ID, etc. )\n",
    "member_pages_coll.create_index([('member_ID',pymongo.ASCENDING)], unique=True)\n",
    "members_coll.create_index([('member_ID',pymongo.ASCENDING)], unique=True)\n",
    "recipes_coll.create_index([('recipe_ID',pymongo.ASCENDING)], unique=True)"
   ]
  },
  {
   "cell_type": "code",
   "execution_count": 5,
   "metadata": {
    "ExecuteTime": {
     "end_time": "2017-06-20T04:24:47.793400",
     "start_time": "2017-06-19T21:24:47.604387-07:00"
    },
    "collapsed": false
   },
   "outputs": [
    {
     "name": "stdout",
     "output_type": "stream",
     "text": [
      "1340\n",
      "907\n",
      "9023\n"
     ]
    }
   ],
   "source": [
    "print member_pages_coll.count()\n",
    "print members_coll.count()\n",
    "print recipes_coll.count()\n"
   ]
  },
  {
   "cell_type": "code",
   "execution_count": 15,
   "metadata": {
    "ExecuteTime": {
     "end_time": "2017-06-20T04:39:08.114552",
     "start_time": "2017-06-19T21:39:08.090753-07:00"
    },
    "collapsed": false
   },
   "outputs": [
    {
     "ename": "SyntaxError",
     "evalue": "invalid syntax (<ipython-input-15-24b0e60a90c9>, line 1)",
     "output_type": "error",
     "traceback": [
      "\u001b[0;36m  File \u001b[0;32m\"<ipython-input-15-24b0e60a90c9>\"\u001b[0;36m, line \u001b[0;32m1\u001b[0m\n\u001b[0;31m    print member_page_keys = member_pages_coll.find_one().keys()\u001b[0m\n\u001b[0m                           ^\u001b[0m\n\u001b[0;31mSyntaxError\u001b[0m\u001b[0;31m:\u001b[0m invalid syntax\n"
     ]
    }
   ],
   "source": [
    "member_page_keys = member_pages_coll.find_one().keys()"
   ]
  },
  {
   "cell_type": "code",
   "execution_count": 12,
   "metadata": {
    "ExecuteTime": {
     "end_time": "2017-06-20T04:38:27.502010",
     "start_time": "2017-06-19T21:38:27.358425-07:00"
    },
    "collapsed": false
   },
   "outputs": [],
   "source": [
    "member_keys = members_coll.find_one({'followers_dict':{\"$exists\":True}}).keys()"
   ]
  },
  {
   "cell_type": "code",
   "execution_count": 13,
   "metadata": {
    "ExecuteTime": {
     "end_time": "2017-06-20T04:38:38.145057",
     "start_time": "2017-06-19T21:38:37.990186-07:00"
    },
    "collapsed": false
   },
   "outputs": [],
   "source": [
    "recipe_keys = recipes_coll.find_one().keys()"
   ]
  },
  {
   "cell_type": "code",
   "execution_count": 16,
   "metadata": {
    "ExecuteTime": {
     "end_time": "2017-06-20T04:41:00.167029",
     "start_time": "2017-06-19T21:41:00.132969-07:00"
    },
    "collapsed": false,
    "scrolled": false
   },
   "outputs": [],
   "source": [
    "member_essentials = set(member_keys) - set(member_page_keys)"
   ]
  },
  {
   "cell_type": "code",
   "execution_count": 17,
   "metadata": {
    "ExecuteTime": {
     "end_time": "2017-06-20T04:41:06.401563",
     "start_time": "2017-06-19T21:41:06.302428-07:00"
    },
    "collapsed": false
   },
   "outputs": [
    {
     "data": {
      "text/plain": [
       "{u'aboutme',\n",
       " u'favorites_dict',\n",
       " u'favorites_recipe_id_list',\n",
       " u'followers_dict',\n",
       " u'followers_recipe_id_list',\n",
       " u'following_dict',\n",
       " u'following_recipe_id_list',\n",
       " u'madeits_dict',\n",
       " u'madeits_recipe_id_list',\n",
       " u'reviews_dict',\n",
       " u'reviews_recipe_id_list'}"
      ]
     },
     "execution_count": 17,
     "metadata": {},
     "output_type": "execute_result"
    }
   ],
   "source": [
    "member_essentials"
   ]
  },
  {
   "cell_type": "code",
   "execution_count": null,
   "metadata": {
    "collapsed": true
   },
   "outputs": [],
   "source": []
  }
 ],
 "metadata": {
  "kernelspec": {
   "display_name": "Python [conda env:python2]",
   "language": "python",
   "name": "conda-env-python2-py"
  },
  "language_info": {
   "codemirror_mode": {
    "name": "ipython",
    "version": 2
   },
   "file_extension": ".py",
   "mimetype": "text/x-python",
   "name": "python",
   "nbconvert_exporter": "python",
   "pygments_lexer": "ipython2",
   "version": "2.7.13"
  }
 },
 "nbformat": 4,
 "nbformat_minor": 2
}
