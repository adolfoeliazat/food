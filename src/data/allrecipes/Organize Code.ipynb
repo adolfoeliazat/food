{
 "cells": [
  {
   "cell_type": "markdown",
   "metadata": {},
   "source": [
    "# Organizing and documenting code \n"
   ]
  },
  {
   "cell_type": "code",
   "execution_count": 2,
   "metadata": {
    "ExecuteTime": {
     "end_time": "2017-06-26T00:53:52.191734Z",
     "start_time": "2017-06-26T00:53:50.207699Z"
    },
    "collapsed": true
   },
   "outputs": [],
   "source": [
    "import pymongo \n",
    "import sys \n",
    "sys.path.insert(0,'../..')\n",
    "import main"
   ]
  },
  {
   "cell_type": "code",
   "execution_count": 3,
   "metadata": {
    "ExecuteTime": {
     "end_time": "2017-06-26T00:54:00.421406Z",
     "start_time": "2017-06-26T00:54:00.361064Z"
    }
   },
   "outputs": [
    {
     "data": {
      "text/plain": [
       "['__init__',\n",
       " 'get_community_members',\n",
       " 'get_community_members_continue',\n",
       " 'get_community_page_scrolled',\n",
       " 'get_member_pages',\n",
       " 'get_page_from_list',\n",
       " 'use_firefox',\n",
       " 'use_phantom']"
      ]
     },
     "execution_count": 3,
     "metadata": {},
     "output_type": "execute_result"
    }
   ],
   "source": [
    "import inspect\n",
    "# Get list of methods in `scraper`\n",
    "[a[0] for a in inspect.getmembers(main.Scraper, inspect.ismethod)]"
   ]
  },
  {
   "cell_type": "code",
   "execution_count": 4,
   "metadata": {
    "ExecuteTime": {
     "end_time": "2017-06-26T00:54:01.971596Z",
     "start_time": "2017-06-26T00:54:01.916884Z"
    }
   },
   "outputs": [
    {
     "data": {
      "text/plain": [
       "['__init__',\n",
       " 'check_member_records',\n",
       " 'get_aboutme_data',\n",
       " 'get_all_member_nutrition_values',\n",
       " 'get_favorites_data',\n",
       " 'get_followers_data',\n",
       " 'get_following_data',\n",
       " 'get_madeits_data',\n",
       " 'get_member_list_to_parse',\n",
       " 'get_member_nutrition_summary',\n",
       " 'get_member_nutrition_values',\n",
       " 'get_member_parsed_data',\n",
       " 'get_members_aboutme_from_pkl',\n",
       " 'get_members_coll_info',\n",
       " 'get_members_favorites',\n",
       " 'get_members_followers',\n",
       " 'get_members_following',\n",
       " 'get_members_madeits',\n",
       " 'get_members_reviews',\n",
       " 'get_recipe_data',\n",
       " 'get_recipe_nutrition',\n",
       " 'get_recipe_pkl_page_from_aws',\n",
       " 'get_recipes_coll_info',\n",
       " 'get_reviews_data',\n",
       " 'insert_all_nutrition_info',\n",
       " 'parse_recipe_data']"
      ]
     },
     "execution_count": 4,
     "metadata": {},
     "output_type": "execute_result"
    }
   ],
   "source": [
    "# Get list of methods in `Parser`\n",
    "[a[0] for a in inspect.getmembers(main.Parser, inspect.ismethod)]"
   ]
  },
  {
   "cell_type": "code",
   "execution_count": 1,
   "metadata": {
    "ExecuteTime": {
     "end_time": "2017-06-26T00:53:32.635293Z",
     "start_time": "2017-06-26T00:53:32.567456Z"
    }
   },
   "outputs": [
    {
     "data": {
      "text/plain": [
       "u'/Users/User1/DS/projects/food/src/data/allrecipes'"
      ]
     },
     "execution_count": 1,
     "metadata": {},
     "output_type": "execute_result"
    }
   ],
   "source": [
    "pwd"
   ]
  },
  {
   "cell_type": "code",
   "execution_count": null,
   "metadata": {
    "collapsed": true
   },
   "outputs": [],
   "source": []
  }
 ],
 "metadata": {
  "kernelspec": {
   "display_name": "Python [conda env:python2]",
   "language": "python",
   "name": "conda-env-python2-py"
  },
  "language_info": {
   "codemirror_mode": {
    "name": "ipython",
    "version": 2
   },
   "file_extension": ".py",
   "mimetype": "text/x-python",
   "name": "python",
   "nbconvert_exporter": "python",
   "pygments_lexer": "ipython2",
   "version": "2.7.13"
  }
 },
 "nbformat": 4,
 "nbformat_minor": 2
}
