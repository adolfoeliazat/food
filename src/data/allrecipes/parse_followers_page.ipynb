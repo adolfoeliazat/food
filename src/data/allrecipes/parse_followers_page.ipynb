{
 "cells": [
  {
   "cell_type": "markdown",
   "metadata": {},
   "source": [
    "## 'Followers' section in allrecipes.com's member page\n",
    "\n",
    "Just get: \n",
    "- member ID, name \n",
    "\n",
    "Future scraping: click on 'more' button if possible. "
   ]
  },
  {
   "cell_type": "code",
   "execution_count": 1,
   "metadata": {
    "ExecuteTime": {
     "end_time": "2017-03-25T20:55:19.606139",
     "start_time": "2017-03-25T13:55:17.516623-07:00"
    },
    "collapsed": false
   },
   "outputs": [],
   "source": [
    "import pymongo \n",
    "from bs4 import BeautifulSoup as BS\n",
    "import re\n",
    "import collections"
   ]
  },
  {
   "cell_type": "code",
   "execution_count": 2,
   "metadata": {
    "ExecuteTime": {
     "end_time": "2017-03-25T20:55:19.840729",
     "start_time": "2017-03-25T13:55:19.630522-07:00"
    },
    "collapsed": true
   },
   "outputs": [],
   "source": [
    "client = pymongo.MongoClient('mongodb://localhost:27017/')"
   ]
  },
  {
   "cell_type": "code",
   "execution_count": 3,
   "metadata": {
    "ExecuteTime": {
     "end_time": "2017-03-25T20:55:19.959534",
     "start_time": "2017-03-25T13:55:19.846842-07:00"
    },
    "collapsed": true
   },
   "outputs": [],
   "source": [
    "allrecipes_db = client.allrecipes"
   ]
  },
  {
   "cell_type": "code",
   "execution_count": 4,
   "metadata": {
    "ExecuteTime": {
     "end_time": "2017-03-25T20:55:20.669446",
     "start_time": "2017-03-25T13:55:20.051718-07:00"
    },
    "collapsed": false
   },
   "outputs": [
    {
     "data": {
      "text/plain": [
       "[u'members', u'webpages', u'community_link_pages', u'community_page']"
      ]
     },
     "execution_count": 4,
     "metadata": {},
     "output_type": "execute_result"
    }
   ],
   "source": [
    "allrecipes_db.collection_names()"
   ]
  },
  {
   "cell_type": "code",
   "execution_count": 5,
   "metadata": {
    "ExecuteTime": {
     "end_time": "2017-03-25T20:55:22.674385",
     "start_time": "2017-03-25T13:55:22.614972-07:00"
    },
    "collapsed": false
   },
   "outputs": [],
   "source": [
    "members_coll = allrecipes_db.members"
   ]
  },
  {
   "cell_type": "code",
   "execution_count": 6,
   "metadata": {
    "ExecuteTime": {
     "end_time": "2017-03-25T20:55:24.073044",
     "start_time": "2017-03-25T13:55:23.876293-07:00"
    },
    "collapsed": false
   },
   "outputs": [
    {
     "data": {
      "text/plain": [
       "Collection(Database(MongoClient(host=['localhost:27017'], document_class=dict, tz_aware=False, connect=True), u'allrecipes'), u'members')"
      ]
     },
     "execution_count": 6,
     "metadata": {},
     "output_type": "execute_result"
    }
   ],
   "source": [
    "members_coll"
   ]
  },
  {
   "cell_type": "code",
   "execution_count": 7,
   "metadata": {
    "ExecuteTime": {
     "end_time": "2017-03-25T20:55:27.890797",
     "start_time": "2017-03-25T13:55:27.395547-07:00"
    },
    "collapsed": false
   },
   "outputs": [
    {
     "data": {
      "text/plain": [
       "u'17117019'"
      ]
     },
     "execution_count": 7,
     "metadata": {},
     "output_type": "execute_result"
    }
   ],
   "source": [
    "# Get all the key names \n",
    "members_coll.find_one()['member_ID']"
   ]
  },
  {
   "cell_type": "code",
   "execution_count": 9,
   "metadata": {
    "ExecuteTime": {
     "end_time": "2017-03-25T20:57:09.195802",
     "start_time": "2017-03-25T13:57:08.952063-07:00"
    },
    "collapsed": false
   },
   "outputs": [],
   "source": [
    "# \n",
    "soup = BS(members_coll.find_one()['followers_page'], 'html.parser')"
   ]
  },
  {
   "cell_type": "code",
   "execution_count": 1,
   "metadata": {
    "ExecuteTime": {
     "end_time": "2017-05-22T22:15:45.306435",
     "start_time": "2017-05-22T15:15:45.288558-07:00"
    },
    "collapsed": false,
    "scrolled": true
   },
   "outputs": [],
   "source": [
    "# print soup.prettify()"
   ]
  },
  {
   "cell_type": "code",
   "execution_count": 11,
   "metadata": {
    "ExecuteTime": {
     "end_time": "2017-03-25T20:58:40.472458",
     "start_time": "2017-03-25T13:58:40.168237-07:00"
    },
    "collapsed": false,
    "scrolled": false
   },
   "outputs": [
    {
     "data": {
      "text/plain": [
       "[u'20923340', u'20455424', u'17995663']"
      ]
     },
     "execution_count": 11,
     "metadata": {},
     "output_type": "execute_result"
    }
   ],
   "source": [
    "# All member IDs of people user is following\n",
    "\n",
    "[a.attrs['data-ng-href'].split('/')[2] for a in collections.OrderedDict.fromkeys(soup.select('article.grid-col a.ng-scope')) if a.text != ' ']"
   ]
  },
  {
   "cell_type": "code",
   "execution_count": null,
   "metadata": {
    "collapsed": true
   },
   "outputs": [],
   "source": []
  },
  {
   "cell_type": "code",
   "execution_count": 12,
   "metadata": {
    "ExecuteTime": {
     "end_time": "2017-03-25T20:58:43.095224",
     "start_time": "2017-03-25T13:58:43.062211-07:00"
    },
    "collapsed": false
   },
   "outputs": [
    {
     "data": {
      "text/plain": [
       "[u'Martha Schneider', u'Ariel Penn', u'Debra Jenkins Schneider']"
      ]
     },
     "execution_count": 12,
     "metadata": {},
     "output_type": "execute_result"
    }
   ],
   "source": [
    "# Get member name\n",
    "[a.text.strip() for a in collections.OrderedDict.fromkeys(soup.select('article.grid-col a.ng-scope')) if a.text != ' ']"
   ]
  },
  {
   "cell_type": "code",
   "execution_count": 14,
   "metadata": {
    "ExecuteTime": {
     "end_time": "2017-03-25T20:59:10.868766",
     "start_time": "2017-03-25T13:59:10.822657-07:00"
    },
    "collapsed": false
   },
   "outputs": [],
   "source": [
    "# To summarize\n",
    "followers_id_list = [a.attrs['data-ng-href'].split('/')[2] for a in collections.OrderedDict.fromkeys(soup.select('article.grid-col a.ng-scope')) if a.text != ' ']\n",
    "followers_names_list = [a.text.strip().replace(\".\",\"\") for a in collections.OrderedDict.fromkeys(soup.select('article.grid-col a.ng-scope')) if a.text != ' ']\n",
    "followers_dict = dict(zip(following_names_list, following_id_list))"
   ]
  },
  {
   "cell_type": "code",
   "execution_count": 15,
   "metadata": {
    "ExecuteTime": {
     "end_time": "2017-03-25T20:59:21.433209",
     "start_time": "2017-03-25T13:59:21.407267-07:00"
    },
    "collapsed": false
   },
   "outputs": [
    {
     "data": {
      "text/plain": [
       "{u'Ariel Penn': u'20455424',\n",
       " u'Debra Jenkins Schneider': u'17995663',\n",
       " u'Martha Schneider': u'20923340'}"
      ]
     },
     "execution_count": 15,
     "metadata": {},
     "output_type": "execute_result"
    }
   ],
   "source": [
    "followers_dict"
   ]
  },
  {
   "cell_type": "code",
   "execution_count": null,
   "metadata": {
    "collapsed": true
   },
   "outputs": [],
   "source": [
    "# FYI: the \"more\" button for the next page: \n",
    "# <button data-ng-click=\"getItems()\" data-ng-disabled=\"disableMore\" data-ng-hide=\"hideMore\" class=\"btns-one-small--bottom-margin ng-click-active\" id=\"moreBtn\">More</button>"
   ]
  },
  {
   "cell_type": "code",
   "execution_count": 16,
   "metadata": {
    "ExecuteTime": {
     "end_time": "2017-03-25T21:05:50.008990",
     "start_time": "2017-03-25T14:05:49.127512-07:00"
    },
    "collapsed": false
   },
   "outputs": [
    {
     "data": {
      "text/plain": [
       "[u'favorites_page',\n",
       " u'following_page',\n",
       " u'followers_dict',\n",
       " u'reviews_recipe_id_list',\n",
       " u'reviews_dict',\n",
       " u'reviews_page',\n",
       " u'madeits_recipe_id_list',\n",
       " u'followers_page',\n",
       " u'favorites_dict',\n",
       " u'madeit_page',\n",
       " u'following_dict',\n",
       " u'link',\n",
       " u'following_recipe_id_list',\n",
       " u'member_ID',\n",
       " u'favorites_recipe_id_list',\n",
       " u'followers_recipe_id_list',\n",
       " u'_id',\n",
       " u'recipes_page',\n",
       " u'madeits_dict']"
      ]
     },
     "execution_count": 16,
     "metadata": {},
     "output_type": "execute_result"
    }
   ],
   "source": [
    "members_coll.find_one().keys()"
   ]
  },
  {
   "cell_type": "markdown",
   "metadata": {},
   "source": [
    "____\n",
    "### Added function `get_members_following()` to `scraper` class to populate 'made-it' data in database. \n",
    "___"
   ]
  },
  {
   "cell_type": "code",
   "execution_count": 168,
   "metadata": {
    "ExecuteTime": {
     "end_time": "2017-03-25T19:46:05.149225",
     "start_time": "2017-03-25T12:46:04.685292-07:00"
    },
    "collapsed": true
   },
   "outputs": [],
   "source": [
    "no_madeitlist_docs_cursor = members_coll.find({\"member_ID\": {\"$exists\":True},\n",
    "                                                \"following_dict\": {\"$exists\": False}},[\"member_ID\"])"
   ]
  },
  {
   "cell_type": "code",
   "execution_count": 28,
   "metadata": {
    "ExecuteTime": {
     "end_time": "2017-03-25T20:53:11.597548",
     "start_time": "2017-03-25T13:53:09.914658-07:00"
    },
    "collapsed": false
   },
   "outputs": [
    {
     "ename": "NameError",
     "evalue": "name 'no_folowinglist_docs_cursor' is not defined",
     "output_type": "error",
     "traceback": [
      "\u001b[0;31m---------------------------------------------------------------------------\u001b[0m",
      "\u001b[0;31mNameError\u001b[0m                                 Traceback (most recent call last)",
      "\u001b[0;32m<ipython-input-28-8b1cbe40dc6b>\u001b[0m in \u001b[0;36m<module>\u001b[0;34m()\u001b[0m\n\u001b[0;32m----> 1\u001b[0;31m \u001b[0mno_folowinglist_docs_cursor\u001b[0m\u001b[0;34m.\u001b[0m\u001b[0mcount\u001b[0m\u001b[0;34m(\u001b[0m\u001b[0;34m)\u001b[0m\u001b[0;34m\u001b[0m\u001b[0m\n\u001b[0m",
      "\u001b[0;31mNameError\u001b[0m: name 'no_folowinglist_docs_cursor' is not defined"
     ]
    }
   ],
   "source": [
    "no_folowinglist_docs_cursor.count()"
   ]
  },
  {
   "cell_type": "code",
   "execution_count": null,
   "metadata": {
    "collapsed": true
   },
   "outputs": [],
   "source": []
  }
 ],
 "metadata": {
  "kernelspec": {
   "display_name": "Python [conda env:python2]",
   "language": "python",
   "name": "conda-env-python2-py"
  },
  "language_info": {
   "codemirror_mode": {
    "name": "ipython",
    "version": 2
   },
   "file_extension": ".py",
   "mimetype": "text/x-python",
   "name": "python",
   "nbconvert_exporter": "python",
   "pygments_lexer": "ipython2",
   "version": "2.7.13"
  }
 },
 "nbformat": 4,
 "nbformat_minor": 2
}
