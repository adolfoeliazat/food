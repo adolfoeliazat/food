{
 "cells": [
  {
   "cell_type": "markdown",
   "metadata": {},
   "source": [
    "# Derive measures of health for members using the recipes they have made / are interested in.  \n"
   ]
  },
  {
   "cell_type": "code",
   "execution_count": 1,
   "metadata": {
    "ExecuteTime": {
     "end_time": "2017-06-21T19:46:59.443086Z",
     "start_time": "2017-06-21T12:46:59.220253-07:00"
    }
   },
   "outputs": [],
   "source": [
    "import pymongo \n",
    "import collections"
   ]
  },
  {
   "cell_type": "code",
   "execution_count": 2,
   "metadata": {
    "ExecuteTime": {
     "end_time": "2017-06-21T19:47:00.073838Z",
     "start_time": "2017-06-21T12:47:00.030128-07:00"
    }
   },
   "outputs": [],
   "source": [
    "client = pymongo.MongoClient(\"mongodb://localhost:27017/\")\n",
    "allrecipes_db = client.allrecipes\n",
    "members_coll = allrecipes_db.members"
   ]
  },
  {
   "cell_type": "code",
   "execution_count": 3,
   "metadata": {
    "ExecuteTime": {
     "end_time": "2017-06-21T19:47:02.053219Z",
     "start_time": "2017-06-21T12:47:01.949468-07:00"
    }
   },
   "outputs": [
    {
     "data": {
      "text/plain": [
       "[u'followers_dict',\n",
       " u'reviews_dict',\n",
       " u'following_id_list',\n",
       " u'madeits_recipe_id_list',\n",
       " u'favorites_dict',\n",
       " u'reviews_recipe_id_list',\n",
       " u'nutrition_avg_vals',\n",
       " u'following_dict',\n",
       " u'member_ID',\n",
       " u'favorites_recipe_id_list',\n",
       " u'_id',\n",
       " u'aboutme',\n",
       " u'madeits_dict',\n",
       " u'followers_id_list']"
      ]
     },
     "execution_count": 3,
     "metadata": {},
     "output_type": "execute_result"
    }
   ],
   "source": [
    "members_coll.find_one().keys()"
   ]
  },
  {
   "cell_type": "code",
   "execution_count": 5,
   "metadata": {
    "ExecuteTime": {
     "end_time": "2017-06-21T19:54:17.192013Z",
     "start_time": "2017-06-21T12:54:17.091007-07:00"
    }
   },
   "outputs": [],
   "source": [
    "# Look at the recipes they have made.  \n",
    "\n",
    "madeits = list(members_coll.find({'madeits_dict':{'$exists': True}},['madeits_dict']))"
   ]
  },
  {
   "cell_type": "code",
   "execution_count": 6,
   "metadata": {
    "ExecuteTime": {
     "end_time": "2017-06-21T19:54:20.746014Z",
     "start_time": "2017-06-21T12:54:20.707668-07:00"
    }
   },
   "outputs": [
    {
     "data": {
      "text/plain": [
       "Counter({0: 484,\n",
       "         1: 172,\n",
       "         2: 112,\n",
       "         3: 70,\n",
       "         4: 52,\n",
       "         5: 47,\n",
       "         6: 32,\n",
       "         7: 24,\n",
       "         8: 27,\n",
       "         9: 21,\n",
       "         10: 20,\n",
       "         11: 14,\n",
       "         12: 10,\n",
       "         13: 8,\n",
       "         14: 13,\n",
       "         15: 13,\n",
       "         16: 16,\n",
       "         17: 14,\n",
       "         18: 20,\n",
       "         19: 39,\n",
       "         20: 222})"
      ]
     },
     "execution_count": 6,
     "metadata": {},
     "output_type": "execute_result"
    }
   ],
   "source": [
    "collections.Counter([len(a['madeits_dict']) for a in madeits])"
   ]
  },
  {
   "cell_type": "code",
   "execution_count": 7,
   "metadata": {
    "ExecuteTime": {
     "end_time": "2017-06-21T19:54:38.162133Z",
     "start_time": "2017-06-21T12:54:38.098048-07:00"
    },
    "collapsed": true
   },
   "outputs": [],
   "source": [
    "# Favorite recipes\n",
    "favorites = list(members_coll.find({'favorites_dict':{'$exists': True}},['member_ID','favorites_dict']))"
   ]
  },
  {
   "cell_type": "code",
   "execution_count": 8,
   "metadata": {
    "ExecuteTime": {
     "end_time": "2017-06-21T19:54:38.325195Z",
     "start_time": "2017-06-21T12:54:38.286822-07:00"
    }
   },
   "outputs": [],
   "source": [
    "fave_counter = collections.Counter([len(a['favorites_dict']) for a in favorites])"
   ]
  },
  {
   "cell_type": "code",
   "execution_count": 9,
   "metadata": {
    "ExecuteTime": {
     "end_time": "2017-06-21T19:54:41.320800Z",
     "start_time": "2017-06-21T12:54:41.297545-07:00"
    }
   },
   "outputs": [
    {
     "data": {
      "text/plain": [
       "Counter({0: 164,\n",
       "         1: 65,\n",
       "         2: 39,\n",
       "         3: 25,\n",
       "         4: 16,\n",
       "         5: 27,\n",
       "         6: 17,\n",
       "         7: 15,\n",
       "         8: 7,\n",
       "         9: 14,\n",
       "         10: 12,\n",
       "         11: 10,\n",
       "         12: 11,\n",
       "         13: 11,\n",
       "         14: 12,\n",
       "         15: 7,\n",
       "         16: 9,\n",
       "         17: 8,\n",
       "         18: 7,\n",
       "         19: 32,\n",
       "         20: 922})"
      ]
     },
     "execution_count": 9,
     "metadata": {},
     "output_type": "execute_result"
    }
   ],
   "source": [
    "fave_counter"
   ]
  },
  {
   "cell_type": "code",
   "execution_count": 10,
   "metadata": {
    "ExecuteTime": {
     "end_time": "2017-06-21T19:55:10.342743Z",
     "start_time": "2017-06-21T12:55:10.307442-07:00"
    }
   },
   "outputs": [],
   "source": [
    "# Select members that have more than six favorite recipes\n",
    "faves_over_six = [a for a in favorites if len(a['favorites_dict'])>6]"
   ]
  },
  {
   "cell_type": "code",
   "execution_count": 11,
   "metadata": {
    "ExecuteTime": {
     "end_time": "2017-06-21T19:55:16.795135Z",
     "start_time": "2017-06-21T12:55:16.771065-07:00"
    }
   },
   "outputs": [
    {
     "data": {
      "text/plain": [
       "{u'_id': ObjectId('58d1a3f99d477a1e01c32ea0'),\n",
       " u'favorites_dict': {u'cashew-chicken-with-water-chestnuts': u'162392',\n",
       "  u'cauliflower-mac-and-cheese-bake': u'246102',\n",
       "  u'dads-caesar-salad': u'64559440',\n",
       "  u'doctor-bird-cake': u'20906',\n",
       "  u'dorm-room-chili-mac': u'139471',\n",
       "  u'garlicky-tortellini-soup-with-sausage-tomatoes-and-spinach': u'62177657',\n",
       "  u'goat-stew': u'228238',\n",
       "  u'homemade-browning-sauce': u'64360001',\n",
       "  u'irish-potato-nachos': u'235983',\n",
       "  u'italian-spinach-sausage-pie': u'222705',\n",
       "  u'mexican-shepherds-pie': u'68806',\n",
       "  u'mommas-hot-dog-casserole': u'231624',\n",
       "  u'nanny-129s-roasted-potatoes': u'64168799',\n",
       "  u'nunus-and-hot-dogs': u'161522',\n",
       "  u'parmesan-crusted-au-gratin-potatoes-and-onion': u'234645',\n",
       "  u'pork-sausages-with-caramelized-onion-sauce': u'89948',\n",
       "  u'shyams-goat-biryani': u'237347',\n",
       "  u'vegan-and-gluten-free-broth-powder': u'240511',\n",
       "  u'wet-meat': u'62937442',\n",
       "  u'zimbabwean-chicken-and-vegetable-soup': u'219483'},\n",
       " u'member_ID': u'5049040'}"
      ]
     },
     "execution_count": 11,
     "metadata": {},
     "output_type": "execute_result"
    }
   ],
   "source": [
    "faves_over_six[0]"
   ]
  },
  {
   "cell_type": "code",
   "execution_count": null,
   "metadata": {
    "collapsed": true
   },
   "outputs": [],
   "source": []
  },
  {
   "cell_type": "code",
   "execution_count": 12,
   "metadata": {
    "ExecuteTime": {
     "end_time": "2017-06-21T19:55:24.338410Z",
     "start_time": "2017-06-21T12:55:24.316438-07:00"
    },
    "collapsed": true
   },
   "outputs": [],
   "source": [
    "madeits_over_six = [a for a in madeits if len(a['madeits_dict'])>6]"
   ]
  },
  {
   "cell_type": "code",
   "execution_count": 14,
   "metadata": {
    "ExecuteTime": {
     "end_time": "2017-06-21T19:55:58.501900Z",
     "start_time": "2017-06-21T12:55:58.478193-07:00"
    }
   },
   "outputs": [
    {
     "name": "stdout",
     "output_type": "stream",
     "text": [
      "461\n",
      "1077\n"
     ]
    }
   ],
   "source": [
    "print len(madeits_over_six)\n",
    "print len(faves_over_six)"
   ]
  }
 ],
 "metadata": {
  "kernelspec": {
   "display_name": "Python [conda env:python2]",
   "language": "python",
   "name": "conda-env-python2-py"
  },
  "language_info": {
   "codemirror_mode": {
    "name": "ipython",
    "version": 2
   },
   "file_extension": ".py",
   "mimetype": "text/x-python",
   "name": "python",
   "nbconvert_exporter": "python",
   "pygments_lexer": "ipython2",
   "version": "2.7.13"
  }
 },
 "nbformat": 4,
 "nbformat_minor": 2
}
