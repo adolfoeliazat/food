{
 "cells": [
  {
   "cell_type": "code",
   "execution_count": 9,
   "metadata": {
    "ExecuteTime": {
     "end_time": "2017-04-04T05:17:53.860546",
     "start_time": "2017-04-03T22:17:53.833056-07:00"
    },
    "collapsed": true
   },
   "outputs": [],
   "source": [
    "import pickle\n",
    "from bs4 import BeautifulSoup as BS"
   ]
  },
  {
   "cell_type": "code",
   "execution_count": 8,
   "metadata": {
    "ExecuteTime": {
     "end_time": "2017-04-04T05:17:16.043776",
     "start_time": "2017-04-03T22:17:15.941057-07:00"
    },
    "collapsed": false
   },
   "outputs": [],
   "source": [
    "with open('healthy_page.pkl', 'rb') as f: healthy_page = pickle.load(f)"
   ]
  },
  {
   "cell_type": "code",
   "execution_count": 11,
   "metadata": {
    "ExecuteTime": {
     "end_time": "2017-04-04T05:18:36.118191",
     "start_time": "2017-04-03T22:18:31.611326-07:00"
    },
    "collapsed": false
   },
   "outputs": [],
   "source": [
    "soup = BS(healthy_page, 'html.parser')"
   ]
  },
  {
   "cell_type": "code",
   "execution_count": 51,
   "metadata": {
    "ExecuteTime": {
     "end_time": "2017-04-04T06:13:18.129423",
     "start_time": "2017-04-03T23:13:17.871994-07:00"
    },
    "collapsed": false
   },
   "outputs": [],
   "source": [
    "recipe_id = [a.attrs['data-ng-href'].split('/')[2] for a in soup.select(\"article.grid-col h3 a.ng-scope\")]"
   ]
  },
  {
   "cell_type": "code",
   "execution_count": 52,
   "metadata": {
    "ExecuteTime": {
     "end_time": "2017-04-04T06:16:58.226759",
     "start_time": "2017-04-03T23:16:58.191985-07:00"
    },
    "collapsed": false
   },
   "outputs": [
    {
     "data": {
      "text/plain": [
       "3060"
      ]
     },
     "execution_count": 52,
     "metadata": {},
     "output_type": "execute_result"
    }
   ],
   "source": [
    "len(recipe_id)"
   ]
  },
  {
   "cell_type": "code",
   "execution_count": 56,
   "metadata": {
    "ExecuteTime": {
     "end_time": "2017-04-04T06:39:17.900827",
     "start_time": "2017-04-03T23:39:17.873906-07:00"
    },
    "collapsed": false
   },
   "outputs": [],
   "source": [
    "with open('healthy_recipe_id.txt', 'wb') as f: \n",
    "    for a in recipe_id:\n",
    "        f.write(a+'\\n')"
   ]
  },
  {
   "cell_type": "code",
   "execution_count": 54,
   "metadata": {
    "ExecuteTime": {
     "end_time": "2017-04-04T06:38:00.152645",
     "start_time": "2017-04-03T23:37:59.983591-07:00"
    },
    "collapsed": false
   },
   "outputs": [
    {
     "data": {
      "text/plain": [
       "[u'81298',\n",
       " u'81298',\n",
       " u'4438',\n",
       " u'16723',\n",
       " u'16723',\n",
       " u'2827',\n",
       " u'16362',\n",
       " u'16362',\n",
       " u'2788',\n",
       " u'72508']"
      ]
     },
     "execution_count": 54,
     "metadata": {},
     "output_type": "execute_result"
    }
   ],
   "source": [
    "recipe_id[:10]"
   ]
  },
  {
   "cell_type": "code",
   "execution_count": null,
   "metadata": {
    "collapsed": true
   },
   "outputs": [],
   "source": []
  }
 ],
 "metadata": {
  "kernelspec": {
   "display_name": "Python [conda env:python2]",
   "language": "python",
   "name": "conda-env-python2-py"
  },
  "language_info": {
   "codemirror_mode": {
    "name": "ipython",
    "version": 2
   },
   "file_extension": ".py",
   "mimetype": "text/x-python",
   "name": "python",
   "nbconvert_exporter": "python",
   "pygments_lexer": "ipython2",
   "version": "2.7.13"
  }
 },
 "nbformat": 4,
 "nbformat_minor": 2
}
