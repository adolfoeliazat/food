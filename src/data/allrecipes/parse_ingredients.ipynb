{
 "cells": [
  {
   "cell_type": "markdown",
   "metadata": {},
   "source": [
    "## Recipes "
   ]
  },
  {
   "cell_type": "code",
   "execution_count": 35,
   "metadata": {
    "ExecuteTime": {
     "end_time": "2017-05-31T02:57:05.106763",
     "start_time": "2017-05-30T22:57:04.161470-04:00"
    },
    "collapsed": true
   },
   "outputs": [],
   "source": [
    "import pymongo\n",
    "import nltk"
   ]
  },
  {
   "cell_type": "code",
   "execution_count": 36,
   "metadata": {
    "ExecuteTime": {
     "end_time": "2017-05-31T02:57:07.707081",
     "start_time": "2017-05-30T22:57:07.509762-04:00"
    },
    "collapsed": false
   },
   "outputs": [],
   "source": [
    "client = pymongo.MongoClient('mongodb://localhost:27017/')\n",
    "allrecipes_db = client.allrecipes\n",
    "#allrecipes_db.collection_names()"
   ]
  },
  {
   "cell_type": "code",
   "execution_count": 37,
   "metadata": {
    "ExecuteTime": {
     "end_time": "2017-05-31T02:57:09.371243",
     "start_time": "2017-05-30T22:57:09.293141-04:00"
    },
    "collapsed": true
   },
   "outputs": [],
   "source": [
    "recipes_coll = allrecipes_db.recipes"
   ]
  },
  {
   "cell_type": "code",
   "execution_count": 38,
   "metadata": {
    "ExecuteTime": {
     "end_time": "2017-05-31T02:57:10.337797",
     "start_time": "2017-05-30T22:57:10.123885-04:00"
    },
    "collapsed": false
   },
   "outputs": [
    {
     "data": {
      "text/plain": [
       "[u'recipe_times',\n",
       " u'nutrition_elements',\n",
       " u'name',\n",
       " u'nutrition_serving_info',\n",
       " u'description',\n",
       " u'servings_config',\n",
       " u'recipe_ID',\n",
       " u'rating_list',\n",
       " u'servings',\n",
       " u'nutrition_info',\n",
       " u'_id',\n",
       " u'page',\n",
       " u'directions_list',\n",
       " u'ingredients_list']"
      ]
     },
     "execution_count": 38,
     "metadata": {},
     "output_type": "execute_result"
    }
   ],
   "source": [
    "recipes_coll.find_one().keys()"
   ]
  },
  {
   "cell_type": "code",
   "execution_count": 39,
   "metadata": {
    "ExecuteTime": {
     "end_time": "2017-05-31T02:57:12.022470",
     "start_time": "2017-05-30T22:57:11.963700-04:00"
    },
    "collapsed": false
   },
   "outputs": [
    {
     "data": {
      "text/plain": [
       "[u'1/2 cup butter',\n",
       " u'1/2 cup white sugar',\n",
       " u'1/3 cup packed brown sugar',\n",
       " u'1/2 cup peanut butter',\n",
       " u'1/2 teaspoon vanilla extract',\n",
       " u'1 egg',\n",
       " u'1 cup all-purpose flour',\n",
       " u'1 teaspoon baking soda',\n",
       " u'1/4 teaspoon salt',\n",
       " u'1/2 cup rolled oats',\n",
       " u'1 cup semisweet chocolate chips']"
      ]
     },
     "execution_count": 39,
     "metadata": {},
     "output_type": "execute_result"
    }
   ],
   "source": [
    "recipes_coll.find_one()['ingredients_list']"
   ]
  },
  {
   "cell_type": "code",
   "execution_count": 40,
   "metadata": {
    "ExecuteTime": {
     "end_time": "2017-05-31T02:57:16.878778",
     "start_time": "2017-05-30T22:57:16.795189-04:00"
    },
    "collapsed": true
   },
   "outputs": [],
   "source": [
    "ingredients = nltk.Text(word.lower() for word in recipes_coll.find_one()['ingredients_list'])"
   ]
  },
  {
   "cell_type": "code",
   "execution_count": 41,
   "metadata": {
    "ExecuteTime": {
     "end_time": "2017-05-31T02:57:17.714532",
     "start_time": "2017-05-30T22:57:17.660229-04:00"
    },
    "collapsed": false
   },
   "outputs": [
    {
     "data": {
      "text/plain": [
       "<Text: 1/2 cup butter 1/2 cup white sugar 1/3 cup packed brown sugar 1/2 cup peanut butter 1/2 teaspoon vanilla extract 1 egg 1 cup all-purpose flour 1 teaspoon baking soda...>"
      ]
     },
     "execution_count": 41,
     "metadata": {},
     "output_type": "execute_result"
    }
   ],
   "source": [
    "ingredients"
   ]
  },
  {
   "cell_type": "code",
   "execution_count": 42,
   "metadata": {
    "ExecuteTime": {
     "end_time": "2017-05-31T02:57:18.847433",
     "start_time": "2017-05-30T22:57:18.788313-04:00"
    },
    "collapsed": false
   },
   "outputs": [
    {
     "data": {
      "text/plain": [
       "[u'1/2 cup butter',\n",
       " u'1/2 cup white sugar',\n",
       " u'1/3 cup packed brown sugar',\n",
       " u'1/2 cup peanut butter',\n",
       " u'1/2 teaspoon vanilla extract',\n",
       " u'1 egg',\n",
       " u'1 cup all-purpose flour',\n",
       " u'1 teaspoon baking soda',\n",
       " u'1/4 teaspoon salt',\n",
       " u'1/2 cup rolled oats',\n",
       " u'1 cup semisweet chocolate chips']"
      ]
     },
     "execution_count": 42,
     "metadata": {},
     "output_type": "execute_result"
    }
   ],
   "source": [
    "ingredients.tokens"
   ]
  },
  {
   "cell_type": "code",
   "execution_count": 43,
   "metadata": {
    "ExecuteTime": {
     "end_time": "2017-05-31T02:57:23.712858",
     "start_time": "2017-05-30T22:57:23.627973-04:00"
    },
    "collapsed": false
   },
   "outputs": [],
   "source": [
    "tokenized_ingredients = [nltk.word_tokenize(ingredient) for ingredient in recipes_coll.find_one()['ingredients_list']]"
   ]
  },
  {
   "cell_type": "code",
   "execution_count": 44,
   "metadata": {
    "ExecuteTime": {
     "end_time": "2017-05-31T02:57:24.528499",
     "start_time": "2017-05-30T22:57:24.475265-04:00"
    },
    "collapsed": true
   },
   "outputs": [],
   "source": [
    "import pprint"
   ]
  },
  {
   "cell_type": "code",
   "execution_count": 45,
   "metadata": {
    "ExecuteTime": {
     "end_time": "2017-05-31T02:57:25.309698",
     "start_time": "2017-05-30T22:57:24.940540-04:00"
    },
    "collapsed": false,
    "scrolled": false
   },
   "outputs": [
    {
     "name": "stdout",
     "output_type": "stream",
     "text": [
      "[[(u'1/2', 'CD'), (u'cup', 'NN'), (u'butter', 'NN')],\n",
      " [(u'1/2', 'CD'), (u'cup', 'JJ'), (u'white', 'JJ'), (u'sugar', 'NN')],\n",
      " [(u'1/3', 'CD'),\n",
      "  (u'cup', 'NN'),\n",
      "  (u'packed', 'VBD'),\n",
      "  (u'brown', 'JJ'),\n",
      "  (u'sugar', 'NN')],\n",
      " [(u'1/2', 'CD'), (u'cup', 'NN'), (u'peanut', 'NN'), (u'butter', 'NN')],\n",
      " [(u'1/2', 'CD'), (u'teaspoon', 'NN'), (u'vanilla', 'NN'), (u'extract', 'NN')],\n",
      " [(u'1', 'CD'), (u'egg', 'NN')],\n",
      " [(u'1', 'CD'), (u'cup', 'JJ'), (u'all-purpose', 'JJ'), (u'flour', 'NN')],\n",
      " [(u'1', 'CD'), (u'teaspoon', 'NN'), (u'baking', 'NN'), (u'soda', 'NN')],\n",
      " [(u'1/4', 'CD'), (u'teaspoon', 'NN'), (u'salt', 'NN')],\n",
      " [(u'1/2', 'CD'), (u'cup', 'NN'), (u'rolled', 'VBD'), (u'oats', 'NNS')],\n",
      " [(u'1', 'CD'),\n",
      "  (u'cup', 'JJ'),\n",
      "  (u'semisweet', 'NN'),\n",
      "  (u'chocolate', 'NN'),\n",
      "  (u'chips', 'NNS')]]\n"
     ]
    }
   ],
   "source": [
    "pprint.pprint([nltk.pos_tag(ingredients) for ingredients in tokenized_ingredients])"
   ]
  },
  {
   "cell_type": "code",
   "execution_count": 46,
   "metadata": {
    "ExecuteTime": {
     "end_time": "2017-05-31T03:01:20.841402",
     "start_time": "2017-05-30T23:01:20.639240-04:00"
    },
    "collapsed": true
   },
   "outputs": [],
   "source": [
    "import collections"
   ]
  },
  {
   "cell_type": "code",
   "execution_count": 47,
   "metadata": {
    "ExecuteTime": {
     "end_time": "2017-05-31T03:28:17.186411",
     "start_time": "2017-05-30T23:28:16.728401-04:00"
    },
    "collapsed": true
   },
   "outputs": [],
   "source": [
    "ingredients_postag = [nltk.pos_tag(ingredients) for ingredients in tokenized_ingredients]"
   ]
  },
  {
   "cell_type": "code",
   "execution_count": 48,
   "metadata": {
    "ExecuteTime": {
     "end_time": "2017-05-31T03:28:23.453401",
     "start_time": "2017-05-30T23:28:23.396462-04:00"
    },
    "collapsed": false
   },
   "outputs": [
    {
     "data": {
      "text/plain": [
       "[[(u'1/2', 'CD'), (u'cup', 'NN'), (u'butter', 'NN')],\n",
       " [(u'1/2', 'CD'), (u'cup', 'JJ'), (u'white', 'JJ'), (u'sugar', 'NN')],\n",
       " [(u'1/3', 'CD'),\n",
       "  (u'cup', 'NN'),\n",
       "  (u'packed', 'VBD'),\n",
       "  (u'brown', 'JJ'),\n",
       "  (u'sugar', 'NN')],\n",
       " [(u'1/2', 'CD'), (u'cup', 'NN'), (u'peanut', 'NN'), (u'butter', 'NN')],\n",
       " [(u'1/2', 'CD'), (u'teaspoon', 'NN'), (u'vanilla', 'NN'), (u'extract', 'NN')],\n",
       " [(u'1', 'CD'), (u'egg', 'NN')],\n",
       " [(u'1', 'CD'), (u'cup', 'JJ'), (u'all-purpose', 'JJ'), (u'flour', 'NN')],\n",
       " [(u'1', 'CD'), (u'teaspoon', 'NN'), (u'baking', 'NN'), (u'soda', 'NN')],\n",
       " [(u'1/4', 'CD'), (u'teaspoon', 'NN'), (u'salt', 'NN')],\n",
       " [(u'1/2', 'CD'), (u'cup', 'NN'), (u'rolled', 'VBD'), (u'oats', 'NNS')],\n",
       " [(u'1', 'CD'),\n",
       "  (u'cup', 'JJ'),\n",
       "  (u'semisweet', 'NN'),\n",
       "  (u'chocolate', 'NN'),\n",
       "  (u'chips', 'NNS')]]"
      ]
     },
     "execution_count": 48,
     "metadata": {},
     "output_type": "execute_result"
    }
   ],
   "source": [
    "ingredients_postag"
   ]
  },
  {
   "cell_type": "code",
   "execution_count": 49,
   "metadata": {
    "ExecuteTime": {
     "end_time": "2017-05-31T03:28:55.779323",
     "start_time": "2017-05-30T23:28:55.710721-04:00"
    },
    "collapsed": true
   },
   "outputs": [],
   "source": [
    "counter = collections.Counter()"
   ]
  },
  {
   "cell_type": "code",
   "execution_count": 52,
   "metadata": {
    "ExecuteTime": {
     "end_time": "2017-05-31T03:30:26.310737",
     "start_time": "2017-05-30T23:30:26.266592-04:00"
    },
    "collapsed": false
   },
   "outputs": [
    {
     "data": {
      "text/plain": [
       "Counter({'CD': 11})"
      ]
     },
     "execution_count": 52,
     "metadata": {},
     "output_type": "execute_result"
    }
   ],
   "source": [
    "collections.Counter([a[0][1] for a in ingredients_postag])"
   ]
  },
  {
   "cell_type": "code",
   "execution_count": 53,
   "metadata": {
    "ExecuteTime": {
     "end_time": "2017-05-31T03:30:58.632981",
     "start_time": "2017-05-30T23:30:58.589068-04:00"
    },
    "collapsed": false
   },
   "outputs": [
    {
     "data": {
      "text/plain": [
       "Counter({'JJ': 3, 'NN': 8})"
      ]
     },
     "execution_count": 53,
     "metadata": {},
     "output_type": "execute_result"
    }
   ],
   "source": [
    "collections.Counter([a[1][1] for a in ingredients_postag])"
   ]
  },
  {
   "cell_type": "code",
   "execution_count": null,
   "metadata": {
    "collapsed": true
   },
   "outputs": [],
   "source": []
  }
 ],
 "metadata": {
  "kernelspec": {
   "display_name": "Python [conda env:python2]",
   "language": "python",
   "name": "conda-env-python2-py"
  },
  "language_info": {
   "codemirror_mode": {
    "name": "ipython",
    "version": 2
   },
   "file_extension": ".py",
   "mimetype": "text/x-python",
   "name": "python",
   "nbconvert_exporter": "python",
   "pygments_lexer": "ipython2",
   "version": "2.7.13"
  }
 },
 "nbformat": 4,
 "nbformat_minor": 2
}
